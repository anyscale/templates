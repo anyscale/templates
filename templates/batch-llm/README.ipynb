{
 "cells": [
  {
   "attachments": {},
   "cell_type": "markdown",
   "metadata": {},
   "source": [
    "# LLM offline batch inference with Ray Data and vLLM\n",
    "\n",
    "**⏱️ Time to complete**: 10 min\n",
    "\n",
    "This template shows you how to:\n",
    "1. Read in data from in-memory samples or files on cloud storage. \n",
    "2. Use Ray Data and vLLM to run batch inference of a LLM.\n",
    "3. Write the inference outputs to cloud storage.\n",
    "\n",
    "For a Python script version of the code in this workspace template, refer to `main.py`.\n",
    "\n",
    "**Note:** This tutorial runs within a workspace. Review the `Introduction to Workspaces` template before this tutorial.\n",
    "\n",
    "### How to decide between online vs offline inference for LLM\n",
    "Online LLM inference (e.g. Anyscale Endpoint) should be used when you want to get real-time response for prompt or to interact with the LLM. Use online inference when you want to optimize latency of inference to be as quick as possible.\n",
    "\n",
    "On the other hand, offline LLM inference (also referred to as batch inference) should be used when you want to get reponses for a large number of prompts within some time frame, but not required to be real-time (minutes to hours granularity). Use offline inference when you want to:\n",
    "1. Scale your workload to large-scale datasets\n",
    "2. Optimize inference throughput and resource usage (for example, maximizing GPU utilization).\n",
    "\n",
    "In this tutorial, we will focus on the latter, using offline LLM inference for a sentence completion task."
   ]
  },
  {
   "cell_type": "markdown",
   "metadata": {},
   "source": [
    "## Step 1: Set up model configs\n",
    "\n",
    "First, import the dependencies used in this template."
   ]
  },
  {
   "cell_type": "code",
   "execution_count": null,
   "metadata": {},
   "outputs": [],
   "source": [
    "import os\n",
    "from typing import Dict\n",
    "\n",
    "import numpy as np\n",
    "import ray\n",
    "from vllm import LLM, SamplingParams\n",
    "\n",
    "from util.utils import (\n",
    "    generate_output_path,\n",
    "    get_a10g_or_equivalent_accelerator_type,\n",
    "    prompt_for_hugging_face_token,\n",
    ")"
   ]
  },
  {
   "attachments": {},
   "cell_type": "markdown",
   "metadata": {},
   "source": [
    "Set up values that will be used in the batch inference workflow:\n",
    "* The model to use for inference ([see the list of vLLM models](https://docs.vllm.ai/en/latest/models/supported_models.html)).\n",
    "    * This workspace template has been tested and verified with the following models:\n",
    "        * [`meta-llama/Meta-Llama-3-8B-Instruct`](https://huggingface.co/meta-llama/Meta-Llama-3-8B-Instruct)\n",
    "        * [`meta-llama/Llama-2-7b-chat-hf`](https://huggingface.co/meta-llama/Llama-2-7b-chat-hf)\n",
    "        * [`mistralai/Mistral-7B-Instruct-v0.1`](https://huggingface.co/mistralai/Mistral-7B-Instruct-v0.1)\n",
    "        * [`google/gemma-7b-it`](https://huggingface.co/google/gemma-7b-it)\n",
    "        * [`mlabonne/NeuralHermes-2.5-Mistral-7B`](https://huggingface.co/mlabonne/NeuralHermes-2.5-Mistral-7B)\n",
    "    * Support for the following larger models are actively a work-in-progress, and will be supported very soon:\n",
    "        * [`meta-llama/Meta-Llama-3-70B-Instruct`](https://huggingface.co/meta-llama/Meta-Llama-3-70B-Instruct)\n",
    "        * [`meta-llama/Llama-2-13b-chat-hf`](https://huggingface.co/meta-llama/Llama-2-13b-chat-hf)\n",
    "        * [`mistralai/Mixtral-8x7B-Instruct-v0.1`](https://huggingface.co/mistralai/Mixtral-8x7B-Instruct-v0.1)\n",
    "        * [`meta-llama/Llama-2-70b-chat-hf`](https://huggingface.co/meta-llama/Llama-2-70b-chat-hf)\n",
    "        * [`codellama/CodeLlama-70b-Instruct-hf`](https://huggingface.co/codellama/CodeLlama-70b-Instruct-hf)\n",
    "* The [sampling parameters object](https://github.com/vllm-project/vllm/blob/main/vllm/sampling_params.py) used by vLLM.\n",
    "* The output path where results will be written as parquet files."
   ]
  },
  {
   "cell_type": "code",
   "execution_count": null,
   "metadata": {},
   "outputs": [],
   "source": [
    "# Set to the name of the Hugging Face model that you wish to use from the preceding list.\n",
    "# Note that using the Llama models will prompt you to set your Hugging Face user token.\n",
    "HF_MODEL = \"mistralai/Mistral-7B-Instruct-v0.1\"\n",
    "\n",
    "# Create a sampling params object.\n",
    "sampling_params = SamplingParams(n=1, temperature=0, max_tokens=2048, stop=[\"<|eot_id|>\", \"<|end_of_text|>\"])\n",
    "\n",
    "# Output path to write output result. You can also change this to any cloud storage path,\n",
    "# e.g. a specific S3 bucket.\n",
    "output_path = generate_output_path(\n",
    "    # `ANYSCALE_ARTIFACT_STORAGE` is the URI to the pre-generated folder for storing\n",
    "    # your artifacts while keeping them separate them from Anyscale-generated ones.\n",
    "    # See: https://docs.anyscale.com/workspaces/storage#object-storage-s3-or-gcs-buckets\n",
    "    os.environ.get(\"ANYSCALE_ARTIFACT_STORAGE\"),\n",
    "    HF_MODEL,\n",
    ")"
   ]
  },
  {
   "cell_type": "markdown",
   "metadata": {},
   "source": [
    "Some models will require you to input your [Hugging Face user access token](https://huggingface.co/docs/hub/en/security-tokens). This will be used to authenticate/download the model and **is required for official LLaMA, Mistral, and Gemma models**. You can use one of the other models which don't require a token if you don't have access to this model (for example, `mlabonne/NeuralHermes-2.5-Mistral-7B`).\n",
    "\n",
    "Run the following cell to start the authentication flow. A VS Code overlay will appear and prompt you to enter your Hugging Face token if your selected model requires authentication. The token will be cached to a file in the workspace so it can be used to launch an Anyscale Job later without needing to re-authenticate."
   ]
  },
  {
   "cell_type": "code",
   "execution_count": null,
   "metadata": {},
   "outputs": [],
   "source": [
    "# Prompts the user for Hugging Face token if required by the model.\n",
    "HF_TOKEN = prompt_for_hugging_face_token(HF_MODEL)"
   ]
  },
  {
   "cell_type": "markdown",
   "metadata": {},
   "source": [
    "Start up Ray, using the Hugging Face token as an environment variable so that it's made available to all nodes in the cluster."
   ]
  },
  {
   "cell_type": "code",
   "execution_count": null,
   "metadata": {},
   "outputs": [],
   "source": [
    "if ray.is_initialized():\n",
    "    ray.shutdown()\n",
    "ray.init(\n",
    "    runtime_env={\n",
    "        \"env_vars\": {\"HF_TOKEN\": HF_TOKEN},\n",
    "    }\n",
    ")"
   ]
  },
  {
   "cell_type": "markdown",
   "metadata": {},
   "source": [
    "## Step 2: Read input data with Ray Data\n",
    "Use Ray Data to read in your input data from some sample prompts."
   ]
  },
  {
   "cell_type": "code",
   "execution_count": null,
   "metadata": {},
   "outputs": [],
   "source": [
    "# Create some sample sentences, and use Ray Data to create a dataset for it.\n",
    "prompts = [\n",
    "    \"I always wanted to be a ...\",\n",
    "    \"The best way to learn a new language is ...\",\n",
    "    \"The biggest challenge facing our society today is ...\",\n",
    "    \"One thing I would change about my past is ...\",\n",
    "    \"The key to a happy life is ...\",\n",
    "]\n",
    "ds = ray.data.from_items(prompts)\n",
    "\n",
    "# View one row of the Dataset.\n",
    "ds.take(1)"
   ]
  },
  {
   "cell_type": "markdown",
   "metadata": {},
   "source": [
    "Construct the input prompts for your model using the format required by the specific model. Run the cell below to apply this prompt construction to each row in the Dataset with Ray Data's [`map`](https://docs.ray.io/en/latest/data/api/doc/ray.data.Dataset.map.html) method."
   ]
  },
  {
   "cell_type": "code",
   "execution_count": null,
   "metadata": {},
   "outputs": [],
   "source": [
    "model_name_to_input_prompt_format = {\n",
    "    \"meta-llama/Llama-2-7b-chat-hf\": \"[INST] {} [/INST]\",\n",
    "    \"mistralai/Mistral-7B-Instruct-v0.1\": \"[INST] {} [/INST]\",\n",
    "    \"google/gemma-7b-it\": \"<start_of_turn>model\\n{}<end_of_turn>\\n\",\n",
    "    \"mlabonne/NeuralHermes-2.5-Mistral-7B\": \"<|im_start|>system\\nYou are a helpful assistant that will complete the sentence in the given input prompt.<|im_end|>\\n<|im_start|>user{}<|im_end|>\\n<|im_start|>assistant\",\n",
    "    \"meta-llama/Meta-Llama-3-8B-Instruct\": (\n",
    "        \"<|start_header_id|>system<|end_header_id|>\\n\\nYou are a helpful assistant. Complete the given prompt in several concise sentences.<|eot_id|>\\n\"\n",
    "        \"<|start_header_id|>user<|end_header_id|>\\n\\n{}<|eot_id|>\\n\"\n",
    "        \"<|start_header_id|>assistant<|end_header_id|>\\n\\n\"\n",
    "    ),\n",
    "}\n",
    "\n",
    "def construct_input_prompt(row, text_column):\n",
    "    \"\"\"Given the input row with raw text in `text_column` column,\n",
    "    construct the input prompt for the model.\"\"\"\n",
    "    prompt_format = model_name_to_input_prompt_format.get(HF_MODEL)\n",
    "    if prompt_format:\n",
    "        row[text_column] = prompt_format.format(row[text_column])\n",
    "    return row\n",
    "\n",
    "ds = ds.map(construct_input_prompt, fn_kwargs={\"text_column\": \"item\"})"
   ]
  },
  {
   "cell_type": "markdown",
   "metadata": {},
   "source": [
    "So far, we have defined two operations of the Dataset (`from_items()`, `map()`), but have not executed the Dataset yet and don't see any results. Why is that?\n",
    "\n",
    "Ray Data uses [lazy, streaming execution](https://docs.ray.io/en/latest/data/data-internals.html#execution) by default, which means that:\n",
    "- Datasets and any associated transformations are not executed until you call a consuming operation such as [`ds.take()`](https://docs.ray.io/en/latest/data/api/doc/ray.data.Dataset.take.html), [`ds.take_all()`](https://docs.ray.io/en/latest/data/api/doc/ray.data.Dataset.take_all.html), [`ds.iter_batches()`](https://docs.ray.io/en/latest/data/api/doc/ray.data.DataIterator.iter_batches.html), or [`Dataset.write_parquet()`](https://docs.ray.io/en/latest/data/api/doc/ray.data.Dataset.write_parquet.html).\n",
    "- The entire Dataset is not stored in memory, but rather, the Dataset is executed incrementally on parts of data while overlapping execution of various operations in the Dataset. This allows Ray Data to execute batch transformations without needing to load the entire dataset into memory and overlap data preprocessing and model training steps during ML training.\n",
    "\n",
    "We will trigger Dataset execution after the next step, which is applying the vLLM model to the formatted input prompts."
   ]
  },
  {
   "cell_type": "markdown",
   "metadata": {},
   "source": [
    "## Step 3: Run Batch Inference with vLLM\n",
    "\n",
    "Create a class to define batch inference logic."
   ]
  },
  {
   "cell_type": "code",
   "execution_count": null,
   "metadata": {},
   "outputs": [],
   "source": [
    "# Mapping of model name to max_model_len supported by model.\n",
    "model_name_to_args = {\n",
    "    \"mistralai/Mistral-7B-Instruct-v0.1\": {\"max_model_len\": 16832},\n",
    "    \"google/gemma-7b-it\": {\"max_model_len\": 2432},\n",
    "    \"mlabonne/NeuralHermes-2.5-Mistral-7B\": {\"max_model_len\": 16800},\n",
    "}\n",
    "\n",
    "class LLMPredictor:\n",
    "    def __init__(self, text_column):\n",
    "        # Name of column containing the input text.\n",
    "        self.text_column = text_column\n",
    "\n",
    "        # Create an LLM.\n",
    "        self.llm = LLM(\n",
    "            model=HF_MODEL,\n",
    "            **model_name_to_args.get(HF_MODEL, {}),\n",
    "            # Note: add additional args to LLM constructor below.\n",
    "        )\n",
    "\n",
    "    def __call__(self, batch: Dict[str, np.ndarray]) -> Dict[str, list]:\n",
    "        # Generate texts from the prompts.\n",
    "        # The output is a list of RequestOutput objects that contain the prompt,\n",
    "        # generated text, and other information.\n",
    "        outputs = self.llm.generate(batch[self.text_column], sampling_params)\n",
    "        prompt = []\n",
    "        generated_text = []\n",
    "        for output in outputs:\n",
    "            prompt.append(output.prompt)\n",
    "            generated_text.append(' '.join([o.text for o in output.outputs]))\n",
    "        return {\n",
    "            \"prompt\": prompt,\n",
    "            \"generated_text\": generated_text,\n",
    "        }"
   ]
  },
  {
   "cell_type": "markdown",
   "metadata": {},
   "source": [
    "### Scaling with GPUs\n",
    "\n",
    "Next, apply batch inference for all input data with the Ray Data [`map_batches`](https://docs.ray.io/en/latest/data/api/doc/ray.data.Dataset.map_batches.html) method. When using vLLM, LLM instances require GPUs; here, we will demonstrate how to configure Ray Data to scale the number of LLM instances and GPUs needed.\n",
    "\n",
    "To use GPUs for inference in the Workspace, we can specify `num_gpus` and `concurrency` in the `ds.map_batches()` call below to indicate the number of LLM instances and the number of GPUs per LLM instance, respectively. For example, if we want to use 4 LLM instances, with each requiring 1 GPU, we would set `concurrency=4` and `num_gpus=1`, requiring 4 total GPUs.\n",
    "\n",
    "Smaller models, such as `Meta-Llama-3-8B-Instruct` and `Mistral-7B-Instruct-v0.1`, typically require 1 GPU per instance. Larger models, such as `Mixtral-8x7B-Instruct-v0.1` and `meta-llama/Meta-Llama-3-70B-Instruct`, typically require multiple GPUs per instance. You should configure these parameters according to the compute needed by the model."
   ]
  },
  {
   "cell_type": "code",
   "execution_count": null,
   "metadata": {},
   "outputs": [],
   "source": [
    "ds = ds.map_batches(\n",
    "    LLMPredictor,\n",
    "    # Set the concurrency to the number of LLM instances.\n",
    "    concurrency=4,\n",
    "    # Specify the number of GPUs required per LLM instance.\n",
    "    num_gpus=1,\n",
    "    # Specify the batch size for inference. Set the batch size to as large as possible without running out of memory.\n",
    "    # If you encounter out-of-memory errors, decreasing batch_size may help.\n",
    "    batch_size=5,\n",
    "    # Pass keyword arguments for the LLMPredictor class.\n",
    "    fn_constructor_kwargs={\"text_column\": \"item\"},\n",
    "    # Select the accelerator type; A10G or L4.\n",
    "    accelerator_type=get_a10g_or_equivalent_accelerator_type(),\n",
    ")"
   ]
  },
  {
   "cell_type": "markdown",
   "metadata": {},
   "source": [
    "Finally, make sure to either enable *Auto-select worker nodes* or configure your workspace cluster to have the appropriate GPU worker nodes (A10G or L4):\n",
    "\n",
    "![title](assets/ray-data-gpu.png)"
   ]
  },
  {
   "cell_type": "markdown",
   "metadata": {},
   "source": [
    "Run the following cell to start dataset execution and view the results!\n"
   ]
  },
  {
   "cell_type": "code",
   "execution_count": null,
   "metadata": {},
   "outputs": [],
   "source": [
    "ds.take_all()"
   ]
  },
  {
   "cell_type": "markdown",
   "metadata": {},
   "source": [
    "### Scaling to a larger dataset\n",
    "In the example above, we performed batch inference for Ray Dataset with 5 example prompts. Next, let's explore how to scale to a larger dataset based on files stored in cloud storage.\n",
    "\n",
    "Run the following cell to create a Dataset from a text file stored on S3. This Dataset has 100 rows, with each row containing a single prompt in the `text` column."
   ]
  },
  {
   "cell_type": "code",
   "execution_count": null,
   "metadata": {},
   "outputs": [],
   "source": [
    "ds = ray.data.read_text(\"s3://anonymous@air-example-data/prompts_100.txt\")\n",
    "ds.take(1)"
   ]
  },
  {
   "cell_type": "markdown",
   "metadata": {},
   "source": [
    "### Customizing your LLM instance\n",
    "If you wish to further customize vLLM, you can modify the `LLMPredictor` class defined earlier in Step 3 as follows:\n",
    "- Add kwargs for initializing the `LLM` object in `LLMPredictor.__init__()` as indicated by the comment, in Step 3.\n",
    "- Modify the `SamplingParams` object defined earlier in the notebook, in Step 1.\n",
    "- For a more advanced usage case of using a different `SamplingParams` for each `LLM.generate()` call, follow these steps:\n",
    "  1. Add a new argument to `LLMPredictor.__call__()`, which takes a function that returns a `SamplingParams` object to be used for the subsequent `LLM.generate()` call.\n",
    "  2. This function should be passed to `LLMPredictor` in the `fn_constructor_kwargs` argument of the `map_batches()` call in the next section. \n",
    "  3. Finally, in `LLMPredictor.__call__()`, call this function, and pass the generated `SamplingParams` object to `LLM.generate()`."
   ]
  },
  {
   "cell_type": "markdown",
   "metadata": {},
   "source": [
    "Similar to before, we apply batch inference for all input data with the Ray Data [`map_batches`](https://docs.ray.io/en/latest/data/api/doc/ray.data.Dataset.map_batches.html) method."
   ]
  },
  {
   "cell_type": "code",
   "execution_count": null,
   "metadata": {},
   "outputs": [],
   "source": [
    "ds = ds.map(construct_input_prompt, fn_kwargs={\"text_column\": \"text\"})\n",
    "ds = ds.map_batches(\n",
    "    LLMPredictor,\n",
    "    # Set the concurrency to the number of LLM instances.\n",
    "    concurrency=4,\n",
    "    # Specify the number of GPUs required per LLM instance.\n",
    "    num_gpus=1,\n",
    "    # Specify the batch size for inference. Set the batch size to as large possible without running out of memory.\n",
    "    # If you encounter CUDA out-of-memory errors, decreasing batch_size may help.\n",
    "    batch_size=5,\n",
    "    # Pass keyword arguments for the LLMPredictor class.\n",
    "    fn_constructor_kwargs={\"text_column\": \"text\"},\n",
    "    # Select the accelerator type; A10G or L4.\n",
    "    accelerator_type=get_a10g_or_equivalent_accelerator_type(),\n",
    ")"
   ]
  },
  {
   "cell_type": "markdown",
   "metadata": {},
   "source": [
    "### Output Results\n",
    "Finally, write the inference output data out to Parquet files on S3. \n",
    "\n",
    "Running the following cell will trigger execution for the full Dataset, which will execute all of the operations (`read_text()`, `map_batches(LLMPredictor)`, `write_parquet()`) at once:"
   ]
  },
  {
   "cell_type": "code",
   "execution_count": null,
   "metadata": {},
   "outputs": [],
   "source": [
    "ds.write_parquet(output_path, try_create_dir=False)\n",
    "print(f\"Batch inference result is written into {output_path}.\")"
   ]
  },
  {
   "cell_type": "markdown",
   "metadata": {},
   "source": [
    "### Monitoring Dataset execution\n",
    "We can use the Ray Dashboard to monitor the Dataset execution. In the Ray Dashboard tab, navigate to the Job page and open the \"Ray Data Overview\" section. Click on the link for the running job, and open the \"Ray Data Overview\" section to view the details of the batch inference execution:\n",
    "\n",
    "<img src=\"assets/ray-data-jobs.png\" width=900px/>"
   ]
  },
  {
   "cell_type": "markdown",
   "metadata": {},
   "source": [
    "### Handling GPU out-of-memory failures\n",
    "If you run into CUDA out of memory, your batch size is likely too large. Decrease the batch size as described above.\n",
    "\n",
    "If your batch size is already set to 1, then use either a smaller model or GPU devices with more memory."
   ]
  },
  {
   "cell_type": "markdown",
   "metadata": {},
   "source": [
    "### Reading back results\n",
    "We can also use Ray Data to read back the output files to ensure the results are as expected."
   ]
  },
  {
   "cell_type": "code",
   "execution_count": null,
   "metadata": {},
   "outputs": [],
   "source": [
    "ds_output = ray.data.read_parquet(output_path)\n",
    "ds_output.take(5)"
   ]
  },
  {
   "cell_type": "markdown",
   "metadata": {},
   "source": [
    "### Submitting to Anyscale Jobs\n",
    "\n",
    "The script in `main.py` has the same code as this notebook; you can use `anyscale job submit` to submit the app in that file to Anyscale Jobs. See [Introduction to Jobs](https://docs.anyscale.com/examples/intro-jobs/) for more details.\n",
    "\n",
    "\n",
    "After modifying the configurations at the top of `main.py` (model name, input/output path, input text column), run the following cell to submit a job:"
   ]
  },
  {
   "cell_type": "code",
   "execution_count": null,
   "metadata": {},
   "outputs": [],
   "source": [
    "!anyscale job submit -- python main.py"
   ]
  },
  {
   "cell_type": "markdown",
   "metadata": {},
   "source": [
    "## Summary\n",
    "\n",
    "This notebook:\n",
    "- Read in data from in-memory samples or input files from cloud storage. \n",
    "- Used Ray Data and vLLM to run offline batch inference of a LLM.\n",
    "- Wrote the inference outputs to cloud storage and read back the results."
   ]
  },
  {
   "cell_type": "markdown",
   "metadata": {},
   "source": []
  }
 ],
 "metadata": {
  "kernelspec": {
   "display_name": "Python 3",
   "language": "python",
   "name": "python3"
  },
  "language_info": {
   "codemirror_mode": {
    "name": "ipython",
    "version": 3
   },
   "file_extension": ".py",
   "mimetype": "text/x-python",
   "name": "python",
   "nbconvert_exporter": "python",
   "pygments_lexer": "ipython3",
   "version": "3.9.19"
  },
  "vscode": {
   "interpreter": {
    "hash": "1a1af0ee75eeea9e2e1ee996c87e7a2b11a0bebd85af04bb136d915cefc0abce"
   }
  }
 },
 "nbformat": 4,
 "nbformat_minor": 2
}
