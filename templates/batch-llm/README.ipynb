{
 "cells": [
  {
   "cell_type": "code",
   "execution_count": 1,
   "metadata": {},
   "outputs": [],
   "source": [
    "from rayllm_batch.workload import ChatWorkloadBase\n",
    "from typing import Optional, Dict, Any\n",
    "import ray \n",
    "from ray.data.dataset import Dataset\n",
    "from dataclasses import dataclass, field\n",
    "\n",
    "\n",
    "@dataclass\n",
    "class CNNDailySummary(ChatWorkloadBase):\n",
    "    \"\"\"The CNN/DailyMail summarization workload.\"\"\"\n",
    "\n",
    "    # We directly load the dataset from Hugging Face.\n",
    "    dataset_file: Optional[str] = None\n",
    "    # We will load only a portion of the dataset to run inference faster for the tutorial.\n",
    "    dataset_fraction: float = 0.0005 # 0.2% of the 300K entries.\n",
    "    # The sampling params for the LLM inference workload.\n",
    "    sampling_params: Dict[str, Any] = field(default_factory=lambda: {\"max_tokens\": 200})\n",
    "\n",
    "    def load_dataset(self) -> Dataset:\n",
    "        # Load the dataset from Hugging Face into Ray Data.\n",
    "        import datasets  # type: ignore\n",
    "\n",
    "        df = datasets.load_dataset(\"cnn_dailymail\", \"3.0.0\")\n",
    "        return ray.data.from_huggingface(df[\"train\"])\n",
    "\n",
    "    def parse_row(self, row: dict[str, Any]) -> dict[str, Any]:\n",
    "        # Parse the row into the format expected by the model.\n",
    "        # We will use the article as the user prompt, and ask the model to \n",
    "        # generate a summary with the system prompt.\n",
    "        return {\n",
    "            \"messages\": [\n",
    "                {\n",
    "                    \"role\": \"system\",\n",
    "                    \"content\": \"You are a commentator. Your task is to \"\n",
    "                    \"summarize highlights from article.\",\n",
    "                },\n",
    "                {\n",
    "                    \"role\": \"user\",\n",
    "                    \"content\": f\"# Article:\\n{row['article']}\\n\\n\"\n",
    "                    \"#Instructions:\\nIn clear and concise language, \"\n",
    "                    \"summarize the highlights presented in the article.\",\n",
    "                },\n",
    "            ]\n",
    "        }"
   ]
  },
  {
   "cell_type": "code",
   "execution_count": 2,
   "metadata": {},
   "outputs": [
    {
     "name": "stdout",
     "output_type": "stream",
     "text": [
      "Successfully read cached token at huggingface_token.txt.\n"
     ]
    }
   ],
   "source": [
    "# Prompts the user for Hugging Face token if required by the model.\n",
    "from util.utils import prompt_for_hugging_face_token\n",
    "HF_TOKEN = prompt_for_hugging_face_token(\"meta-llama/Meta-Llama-3.1-8B-Instruct\")"
   ]
  },
  {
   "cell_type": "code",
   "execution_count": 3,
   "metadata": {},
   "outputs": [],
   "source": [
    "from rayllm_batch import init_engine_from_config\n",
    "# Read the model configs from the path.\n",
    "model_config_path = \"configs/llama-3.1-8b-a10g.yaml\"\n",
    "\n",
    "# One could potentially override the engine configs by passing in a dictionary here.\n",
    "override = {\"runtime_env\": {\"env_vars\": {\"HF_TOKEN\": HF_TOKEN}}} # Override Ray's runtime env to include the Hugging Face token. Ray is being used under the hood to orchestrate the inference pipeline.\n",
    "engine_config = init_engine_from_config(config=model_config_path, override=override)\n"
   ]
  },
  {
   "cell_type": "code",
   "execution_count": null,
   "metadata": {},
   "outputs": [],
   "source": []
  },
  {
   "cell_type": "code",
   "execution_count": 4,
   "metadata": {},
   "outputs": [
    {
     "name": "stderr",
     "output_type": "stream",
     "text": [
      "2024-09-24 00:44:00,222\tINFO worker.py:1601 -- Connecting to existing Ray cluster at address: 10.0.27.195:6379...\n",
      "2024-09-24 00:44:00,230\tINFO worker.py:1777 -- Connected to Ray cluster. View the dashboard at \u001b[1m\u001b[32mhttps://session-5abw5nxh2chqdlhxiklnw6cu1k.i.anyscaleuserdata.com \u001b[39m\u001b[22m\n",
      "2024-09-24 00:44:00,233\tINFO packaging.py:359 -- Pushing file package 'gcs://_ray_pkg_0fa039546672a8668c01da562dca2994d8a900a9.zip' (0.65MiB) to Ray cluster...\n",
      "2024-09-24 00:44:00,240\tINFO packaging.py:372 -- Successfully pushed file package 'gcs://_ray_pkg_0fa039546672a8668c01da562dca2994d8a900a9.zip'.\n"
     ]
    },
    {
     "data": {
      "application/vnd.jupyter.widget-view+json": {
       "model_id": "6a2da2d3906046e990a8022911824d7d",
       "version_major": 2,
       "version_minor": 0
      },
      "text/plain": [
       "Parquet Files Sample 0:   0%|          | 0.00/2.00 [00:00<?, ? file/s]"
      ]
     },
     "metadata": {},
     "output_type": "display_data"
    },
    {
     "name": "stderr",
     "output_type": "stream",
     "text": [
      "2024-09-24 00:44:05,980\tINFO streaming_executor.py:108 -- Starting execution of Dataset. Full logs are in /tmp/ray/session_2024-09-24_00-28-42_051202_2516/logs/ray-data\n",
      "2024-09-24 00:44:05,981\tINFO streaming_executor.py:109 -- Execution plan of Dataset: InputDataBuffer[Input] -> TaskPoolMapOperator[ReadParquet] -> TaskPoolMapOperator[MapBatches(random_sample)->Map(CNNDailySummary.parse_row)] -> LimitOperator[limit=1]\n"
     ]
    },
    {
     "data": {
      "application/vnd.jupyter.widget-view+json": {
       "model_id": "7c4978315d74428e92e24e8bbd62866f",
       "version_major": 2,
       "version_minor": 0
      },
      "text/plain": [
       "Running 0: 0.00 row [00:00, ? row/s]"
      ]
     },
     "metadata": {},
     "output_type": "display_data"
    },
    {
     "data": {
      "application/vnd.jupyter.widget-view+json": {
       "model_id": "7bea3d3deeed4aa786d1a04cb1b37873",
       "version_major": 2,
       "version_minor": 0
      },
      "text/plain": [
       "- ReadParquet->SplitBlocks(11) 1: 0.00 row [00:00, ? row/s]"
      ]
     },
     "metadata": {},
     "output_type": "display_data"
    },
    {
     "data": {
      "application/vnd.jupyter.widget-view+json": {
       "model_id": "3ef40f88fa404097ae6a74a4452b61e1",
       "version_major": 2,
       "version_minor": 0
      },
      "text/plain": [
       "- MapBatches(random_sample)->Map(CNNDailySummary.parse_row) 2: 0.00 row [00:00, ? row/s]"
      ]
     },
     "metadata": {},
     "output_type": "display_data"
    },
    {
     "data": {
      "application/vnd.jupyter.widget-view+json": {
       "model_id": "6972c4c396994be48d6a28c919f4c9cc",
       "version_major": 2,
       "version_minor": 0
      },
      "text/plain": [
       "- limit=1 3: 0.00 row [00:00, ? row/s]"
      ]
     },
     "metadata": {},
     "output_type": "display_data"
    },
    {
     "name": "stderr",
     "output_type": "stream",
     "text": [
      "2024-09-24 00:44:06,026\tWARNING progress_bar.py:122 -- Truncating long operator name to 100 characters.To disable this behavior, set `ray.data.DataContext.get_current().DEFAULT_ENABLE_PROGRESS_BAR_NAME_TRUNCATION = False`.\n",
      "/home/ray/anaconda3/lib/python3.11/site-packages/rayllm_batch/main.py:59: UserWarning: The dataset must have an 'id' column to support Ray Data checkpoint. Please use the 'generate_id' method to generate the 'id' column.\n",
      "  ds = self.workload.load_dataset_and_process()\n",
      "2024-09-24 00:44:13,738\tINFO streaming_executor.py:108 -- Starting execution of Dataset. Full logs are in /tmp/ray/session_2024-09-24_00-28-42_051202_2516/logs/ray-data\n",
      "2024-09-24 00:44:13,739\tINFO streaming_executor.py:109 -- Execution plan of Dataset: InputDataBuffer[Input] -> TaskPoolMapOperator[ReadParquet] -> TaskPoolMapOperator[MapBatches(random_sample)->Map(CNNDailySummary.parse_row)] -> AllToAllOperator[Repartition] -> ActorPoolMapOperator[MapBatches(ChatTemplateTokenizer)]\n"
     ]
    },
    {
     "data": {
      "application/vnd.jupyter.widget-view+json": {
       "model_id": "24f6b01339c0487cac8dfe13b6314942",
       "version_major": 2,
       "version_minor": 0
      },
      "text/plain": [
       "Running 0: 0.00 row [00:00, ? row/s]"
      ]
     },
     "metadata": {},
     "output_type": "display_data"
    },
    {
     "data": {
      "application/vnd.jupyter.widget-view+json": {
       "model_id": "def0af2022914ae380cc15c55f119c0e",
       "version_major": 2,
       "version_minor": 0
      },
      "text/plain": [
       "- ReadParquet->SplitBlocks(11) 1: 0.00 row [00:00, ? row/s]"
      ]
     },
     "metadata": {},
     "output_type": "display_data"
    },
    {
     "data": {
      "application/vnd.jupyter.widget-view+json": {
       "model_id": "5bf31b53d17149318a712c3c071788eb",
       "version_major": 2,
       "version_minor": 0
      },
      "text/plain": [
       "- MapBatches(random_sample)->Map(CNNDailySummary.parse_row) 2: 0.00 row [00:00, ? row/s]"
      ]
     },
     "metadata": {},
     "output_type": "display_data"
    },
    {
     "data": {
      "application/vnd.jupyter.widget-view+json": {
       "model_id": "7ba421437f154ebe840291ce84921d06",
       "version_major": 2,
       "version_minor": 0
      },
      "text/plain": [
       "- Repartition 3: 0.00 row [00:00, ? row/s]"
      ]
     },
     "metadata": {},
     "output_type": "display_data"
    },
    {
     "data": {
      "application/vnd.jupyter.widget-view+json": {
       "model_id": "770f1adc4d2b48a5abff5304d122aa45",
       "version_major": 2,
       "version_minor": 0
      },
      "text/plain": [
       "Split Repartition 4:   0%|          | 0.00/1.00 [00:00<?, ? row/s]"
      ]
     },
     "metadata": {},
     "output_type": "display_data"
    },
    {
     "data": {
      "application/vnd.jupyter.widget-view+json": {
       "model_id": "709afeeac7f84c4681dcf36f5bfad6c4",
       "version_major": 2,
       "version_minor": 0
      },
      "text/plain": [
       "- MapBatches(ChatTemplateTokenizer) 5: 0.00 row [00:00, ? row/s]"
      ]
     },
     "metadata": {},
     "output_type": "display_data"
    },
    {
     "name": "stderr",
     "output_type": "stream",
     "text": [
      "2024-09-24 00:44:21,002\tINFO streaming_executor.py:108 -- Starting execution of Dataset. Full logs are in /tmp/ray/session_2024-09-24_00-28-42_051202_2516/logs/ray-data\n",
      "2024-09-24 00:44:21,003\tINFO streaming_executor.py:109 -- Execution plan of Dataset: InputDataBuffer[Input] -> AllToAllOperator[Repartition]\n"
     ]
    },
    {
     "data": {
      "application/vnd.jupyter.widget-view+json": {
       "model_id": "33a9572a0ef2415ab50552b6e58782da",
       "version_major": 2,
       "version_minor": 0
      },
      "text/plain": [
       "Running 0: 0.00 row [00:00, ? row/s]"
      ]
     },
     "metadata": {},
     "output_type": "display_data"
    },
    {
     "data": {
      "application/vnd.jupyter.widget-view+json": {
       "model_id": "389e955f646348f6bd04fe9bb0c68ef2",
       "version_major": 2,
       "version_minor": 0
      },
      "text/plain": [
       "- Repartition 1: 0.00 row [00:00, ? row/s]"
      ]
     },
     "metadata": {},
     "output_type": "display_data"
    },
    {
     "data": {
      "application/vnd.jupyter.widget-view+json": {
       "model_id": "d3c6cba6ab21436f979350e312c306d6",
       "version_major": 2,
       "version_minor": 0
      },
      "text/plain": [
       "Split Repartition 2:   0%|          | 0.00/1.00 [00:00<?, ? row/s]"
      ]
     },
     "metadata": {},
     "output_type": "display_data"
    },
    {
     "name": "stderr",
     "output_type": "stream",
     "text": [
      "2024-09-24 00:44:21,062\tINFO dataset.py:2416 -- Tip: Use `take_batch()` instead of `take() / show()` to return records in pandas or numpy batch format.\n",
      "2024-09-24 00:44:21,064\tINFO streaming_executor.py:108 -- Starting execution of Dataset. Full logs are in /tmp/ray/session_2024-09-24_00-28-42_051202_2516/logs/ray-data\n",
      "2024-09-24 00:44:21,065\tINFO streaming_executor.py:109 -- Execution plan of Dataset: InputDataBuffer[Input] -> AllToAllOperator[Aggregate] -> LimitOperator[limit=1]\n"
     ]
    },
    {
     "data": {
      "application/vnd.jupyter.widget-view+json": {
       "model_id": "af8ab901881c44dba944852dfdf4c242",
       "version_major": 2,
       "version_minor": 0
      },
      "text/plain": [
       "Running 0: 0.00 row [00:00, ? row/s]"
      ]
     },
     "metadata": {},
     "output_type": "display_data"
    },
    {
     "data": {
      "application/vnd.jupyter.widget-view+json": {
       "model_id": "bbd5616aab024236a5956b48944526ac",
       "version_major": 2,
       "version_minor": 0
      },
      "text/plain": [
       "- Aggregate 1: 0.00 row [00:00, ? row/s]"
      ]
     },
     "metadata": {},
     "output_type": "display_data"
    },
    {
     "data": {
      "application/vnd.jupyter.widget-view+json": {
       "model_id": "1afa0b8a5e3549ca99e26e013b084a34",
       "version_major": 2,
       "version_minor": 0
      },
      "text/plain": [
       "Sort Sample 2:   0%|          | 0.00/1.00 [00:00<?, ? row/s]"
      ]
     },
     "metadata": {},
     "output_type": "display_data"
    },
    {
     "data": {
      "application/vnd.jupyter.widget-view+json": {
       "model_id": "70060d73a80845368e66950ad36231a2",
       "version_major": 2,
       "version_minor": 0
      },
      "text/plain": [
       "Shuffle Map 3:   0%|          | 0.00/1.00 [00:00<?, ? row/s]"
      ]
     },
     "metadata": {},
     "output_type": "display_data"
    },
    {
     "data": {
      "application/vnd.jupyter.widget-view+json": {
       "model_id": "e6b3b2f56dd342ab81225aef433bf047",
       "version_major": 2,
       "version_minor": 0
      },
      "text/plain": [
       "Shuffle Reduce 4:   0%|          | 0.00/1.00 [00:00<?, ? row/s]"
      ]
     },
     "metadata": {},
     "output_type": "display_data"
    },
    {
     "data": {
      "application/vnd.jupyter.widget-view+json": {
       "model_id": "8779ca76411e4eecae739d5ce79827a3",
       "version_major": 2,
       "version_minor": 0
      },
      "text/plain": [
       "- limit=1 5: 0.00 row [00:00, ? row/s]"
      ]
     },
     "metadata": {},
     "output_type": "display_data"
    },
    {
     "name": "stderr",
     "output_type": "stream",
     "text": [
      "2024-09-24 00:44:21,145\tINFO streaming_executor.py:108 -- Starting execution of Dataset. Full logs are in /tmp/ray/session_2024-09-24_00-28-42_051202_2516/logs/ray-data\n",
      "2024-09-24 00:44:21,146\tINFO streaming_executor.py:109 -- Execution plan of Dataset: InputDataBuffer[Input] -> AllToAllOperator[Aggregate] -> LimitOperator[limit=1]\n"
     ]
    },
    {
     "data": {
      "application/vnd.jupyter.widget-view+json": {
       "model_id": "758f92a707eb4fc4b4ffd834f9b7f225",
       "version_major": 2,
       "version_minor": 0
      },
      "text/plain": [
       "Running 0: 0.00 row [00:00, ? row/s]"
      ]
     },
     "metadata": {},
     "output_type": "display_data"
    },
    {
     "data": {
      "application/vnd.jupyter.widget-view+json": {
       "model_id": "48a99a31d1944cbd82bdf279aa63f6ab",
       "version_major": 2,
       "version_minor": 0
      },
      "text/plain": [
       "- Aggregate 1: 0.00 row [00:00, ? row/s]"
      ]
     },
     "metadata": {},
     "output_type": "display_data"
    },
    {
     "data": {
      "application/vnd.jupyter.widget-view+json": {
       "model_id": "7ad0133687b8415d96f7885b849128ea",
       "version_major": 2,
       "version_minor": 0
      },
      "text/plain": [
       "Sort Sample 2:   0%|          | 0.00/1.00 [00:00<?, ? row/s]"
      ]
     },
     "metadata": {},
     "output_type": "display_data"
    },
    {
     "data": {
      "application/vnd.jupyter.widget-view+json": {
       "model_id": "2f1cd06078a8483e9af25bac90774ba4",
       "version_major": 2,
       "version_minor": 0
      },
      "text/plain": [
       "Shuffle Map 3:   0%|          | 0.00/1.00 [00:00<?, ? row/s]"
      ]
     },
     "metadata": {},
     "output_type": "display_data"
    },
    {
     "data": {
      "application/vnd.jupyter.widget-view+json": {
       "model_id": "ea01701e677142089107f82b4ad7e219",
       "version_major": 2,
       "version_minor": 0
      },
      "text/plain": [
       "Shuffle Reduce 4:   0%|          | 0.00/1.00 [00:00<?, ? row/s]"
      ]
     },
     "metadata": {},
     "output_type": "display_data"
    },
    {
     "data": {
      "application/vnd.jupyter.widget-view+json": {
       "model_id": "bcd573a5ca8c4714a593d56ede9f7781",
       "version_major": 2,
       "version_minor": 0
      },
      "text/plain": [
       "- limit=1 5: 0.00 row [00:00, ? row/s]"
      ]
     },
     "metadata": {},
     "output_type": "display_data"
    },
    {
     "name": "stderr",
     "output_type": "stream",
     "text": [
      "2024-09-24 00:44:21,211\tINFO streaming_executor.py:108 -- Starting execution of Dataset. Full logs are in /tmp/ray/session_2024-09-24_00-28-42_051202_2516/logs/ray-data\n",
      "2024-09-24 00:44:21,212\tINFO streaming_executor.py:109 -- Execution plan of Dataset: InputDataBuffer[Input] -> AllToAllOperator[Aggregate] -> LimitOperator[limit=1]\n"
     ]
    },
    {
     "data": {
      "application/vnd.jupyter.widget-view+json": {
       "model_id": "06ec4d143bf142cbaf8ffecc6103e7a6",
       "version_major": 2,
       "version_minor": 0
      },
      "text/plain": [
       "Running 0: 0.00 row [00:00, ? row/s]"
      ]
     },
     "metadata": {},
     "output_type": "display_data"
    },
    {
     "data": {
      "application/vnd.jupyter.widget-view+json": {
       "model_id": "d290146e9a974eff9a337a23aa05d512",
       "version_major": 2,
       "version_minor": 0
      },
      "text/plain": [
       "- Aggregate 1: 0.00 row [00:00, ? row/s]"
      ]
     },
     "metadata": {},
     "output_type": "display_data"
    },
    {
     "data": {
      "application/vnd.jupyter.widget-view+json": {
       "model_id": "de254d90f2814caebc9292c6de80d184",
       "version_major": 2,
       "version_minor": 0
      },
      "text/plain": [
       "Sort Sample 2:   0%|          | 0.00/1.00 [00:00<?, ? row/s]"
      ]
     },
     "metadata": {},
     "output_type": "display_data"
    },
    {
     "data": {
      "application/vnd.jupyter.widget-view+json": {
       "model_id": "e21a2fa685a0421fa851ff8b809a6960",
       "version_major": 2,
       "version_minor": 0
      },
      "text/plain": [
       "Shuffle Map 3:   0%|          | 0.00/1.00 [00:00<?, ? row/s]"
      ]
     },
     "metadata": {},
     "output_type": "display_data"
    },
    {
     "data": {
      "application/vnd.jupyter.widget-view+json": {
       "model_id": "bf0abbf8754649aea64268ecdc4d16ce",
       "version_major": 2,
       "version_minor": 0
      },
      "text/plain": [
       "Shuffle Reduce 4:   0%|          | 0.00/1.00 [00:00<?, ? row/s]"
      ]
     },
     "metadata": {},
     "output_type": "display_data"
    },
    {
     "data": {
      "application/vnd.jupyter.widget-view+json": {
       "model_id": "74ff9a28bf384589abed7f048f12aeff",
       "version_major": 2,
       "version_minor": 0
      },
      "text/plain": [
       "- limit=1 5: 0.00 row [00:00, ? row/s]"
      ]
     },
     "metadata": {},
     "output_type": "display_data"
    },
    {
     "name": "stderr",
     "output_type": "stream",
     "text": [
      "2024-09-24 00:44:21,284\tINFO streaming_executor.py:108 -- Starting execution of Dataset. Full logs are in /tmp/ray/session_2024-09-24_00-28-42_051202_2516/logs/ray-data\n",
      "2024-09-24 00:44:21,285\tINFO streaming_executor.py:109 -- Execution plan of Dataset: InputDataBuffer[Input] -> AllToAllOperator[Aggregate] -> LimitOperator[limit=1]\n"
     ]
    },
    {
     "data": {
      "application/vnd.jupyter.widget-view+json": {
       "model_id": "b8e7ed02a15b4b1196e8b000bda32b77",
       "version_major": 2,
       "version_minor": 0
      },
      "text/plain": [
       "Running 0: 0.00 row [00:00, ? row/s]"
      ]
     },
     "metadata": {},
     "output_type": "display_data"
    },
    {
     "data": {
      "application/vnd.jupyter.widget-view+json": {
       "model_id": "73441e539cca44abbe689d2f596b1b12",
       "version_major": 2,
       "version_minor": 0
      },
      "text/plain": [
       "- Aggregate 1: 0.00 row [00:00, ? row/s]"
      ]
     },
     "metadata": {},
     "output_type": "display_data"
    },
    {
     "data": {
      "application/vnd.jupyter.widget-view+json": {
       "model_id": "b07b21b615d24963b14a168cb93d762b",
       "version_major": 2,
       "version_minor": 0
      },
      "text/plain": [
       "Sort Sample 2:   0%|          | 0.00/1.00 [00:00<?, ? row/s]"
      ]
     },
     "metadata": {},
     "output_type": "display_data"
    },
    {
     "data": {
      "application/vnd.jupyter.widget-view+json": {
       "model_id": "9523d56a974645e38fdc328495d41bb1",
       "version_major": 2,
       "version_minor": 0
      },
      "text/plain": [
       "Shuffle Map 3:   0%|          | 0.00/1.00 [00:00<?, ? row/s]"
      ]
     },
     "metadata": {},
     "output_type": "display_data"
    },
    {
     "data": {
      "application/vnd.jupyter.widget-view+json": {
       "model_id": "60614a0fef6b4ba7a6fb6712e75b7dee",
       "version_major": 2,
       "version_minor": 0
      },
      "text/plain": [
       "Shuffle Reduce 4:   0%|          | 0.00/1.00 [00:00<?, ? row/s]"
      ]
     },
     "metadata": {},
     "output_type": "display_data"
    },
    {
     "data": {
      "application/vnd.jupyter.widget-view+json": {
       "model_id": "e93dfc2c343e4e438085d7a26e2783c0",
       "version_major": 2,
       "version_minor": 0
      },
      "text/plain": [
       "- limit=1 5: 0.00 row [00:00, ? row/s]"
      ]
     },
     "metadata": {},
     "output_type": "display_data"
    },
    {
     "name": "stderr",
     "output_type": "stream",
     "text": [
      "#Requests: 129 (1 partitions), Avg Prompt Tokens: 870.75, Max Prompt Tokens: 2180\n",
      "2024-09-24 00:44:21,348\tWARNING util.py:560 -- The argument ``compute`` is deprecated in Ray 2.9. Please specify argument ``concurrency`` instead. For more information, see https://docs.ray.io/en/master/data/transforming-data.html#stateful-transforms.\n",
      "2024-09-24 00:44:21,354\tINFO streaming_executor.py:108 -- Starting execution of Dataset. Full logs are in /tmp/ray/session_2024-09-24_00-28-42_051202_2516/logs/ray-data\n",
      "2024-09-24 00:44:21,354\tINFO streaming_executor.py:109 -- Execution plan of Dataset: InputDataBuffer[Input] -> ActorPoolMapOperator[MapBatches(AsyncLLMPredictor)] -> ActorPoolMapOperator[MapBatches(Detokenizer)]\n"
     ]
    },
    {
     "data": {
      "application/vnd.jupyter.widget-view+json": {
       "model_id": "a442fdab1fb64a2b9877cb85072aa662",
       "version_major": 2,
       "version_minor": 0
      },
      "text/plain": [
       "Running 0: 0.00 row [00:00, ? row/s]"
      ]
     },
     "metadata": {},
     "output_type": "display_data"
    },
    {
     "name": "stderr",
     "output_type": "stream",
     "text": [
      "\u001b[36m(_MapWorker pid=29524)\u001b[0m GPU memory used (GB): 0=0.50\n",
      "\u001b[36m(_MapWorker pid=29524)\u001b[0m Done waiting for free GPU memory on devices [0] (0.98 GB) 0.01 s\n",
      "\u001b[36m(_MapWorker pid=29524)\u001b[0m Max pending requests is set to 71\n"
     ]
    },
    {
     "name": "stdout",
     "output_type": "stream",
     "text": [
      "\u001b[36m(_MapWorker pid=29524)\u001b[0m INFO 09-24 00:44:25 llm_engine.py:223] Initializing an LLM engine (v0.6.1.post1) with config: model='meta-llama/Meta-Llama-3.1-8B-Instruct', speculative_config=None, tokenizer='meta-llama/Meta-Llama-3.1-8B-Instruct', skip_tokenizer_init=False, tokenizer_mode=auto, revision=None, override_neuron_config=None, rope_scaling=None, rope_theta=None, tokenizer_revision=None, trust_remote_code=False, dtype=torch.bfloat16, max_seq_len=2380, download_dir=None, load_format=LoadFormat.AUTO, tensor_parallel_size=1, pipeline_parallel_size=1, disable_custom_all_reduce=False, quantization=None, enforce_eager=False, kv_cache_dtype=auto, quantization_param_path=None, device_config=cuda, decoding_config=DecodingConfig(guided_decoding_backend='outlines'), observability_config=ObservabilityConfig(otlp_traces_endpoint=None, collect_model_forward_time=False, collect_model_execute_time=False), seed=0, served_model_name=meta-llama/Meta-Llama-3.1-8B-Instruct, use_v2_block_manager=True, num_scheduler_steps=1, enable_prefix_caching=False, use_async_output_proc=True)\n",
      "\u001b[36m(_MapWorker pid=29524)\u001b[0m INFO 09-24 00:44:26 model_runner.py:997] Starting to load model meta-llama/Meta-Llama-3.1-8B-Instruct...\n",
      "\u001b[36m(_MapWorker pid=29524)\u001b[0m INFO 09-24 00:44:27 weight_utils.py:242] Using model weights format ['*.safetensors']\n"
     ]
    },
    {
     "name": "stderr",
     "output_type": "stream",
     "text": [
      "Loading safetensors checkpoint shards:   0% Completed | 0/4 [00:00<?, ?it/s]\n",
      "Loading safetensors checkpoint shards:  25% Completed | 1/4 [00:00<00:02,  1.39it/s]\n",
      "Loading safetensors checkpoint shards:  50% Completed | 2/4 [00:01<00:01,  1.19it/s]\n",
      "Loading safetensors checkpoint shards:  75% Completed | 3/4 [00:02<00:00,  1.57it/s]\n",
      "Loading safetensors checkpoint shards: 100% Completed | 4/4 [00:02<00:00,  1.47it/s]\n",
      "Loading safetensors checkpoint shards: 100% Completed | 4/4 [00:02<00:00,  1.43it/s]\n",
      "\u001b[36m(_MapWorker pid=29524)\u001b[0m \n"
     ]
    },
    {
     "name": "stdout",
     "output_type": "stream",
     "text": [
      "\u001b[36m(_MapWorker pid=29524)\u001b[0m INFO 09-24 00:44:30 model_runner.py:1008] Loading model weights took 14.9888 GB\n",
      "\u001b[36m(_MapWorker pid=29524)\u001b[0m INFO 09-24 00:44:31 gpu_executor.py:122] # GPU blocks: 2170, # CPU blocks: 2048\n",
      "\u001b[36m(_MapWorker pid=29524)\u001b[0m INFO 09-24 00:44:34 model_runner.py:1309] Capturing the model for CUDA graphs. This may lead to unexpected consequences if the model is not static. To run the model in eager mode, set 'enforce_eager=True' or use '--enforce-eager' in the CLI.\n",
      "\u001b[36m(_MapWorker pid=29524)\u001b[0m INFO 09-24 00:44:34 model_runner.py:1313] CUDA graphs can take additional 1~3 GiB memory per GPU. If you are running out of memory, consider decreasing `gpu_memory_utilization` or enforcing eager mode. You can also reduce the `max_num_seqs` as needed to decrease memory usage.\n",
      "\u001b[36m(_MapWorker pid=29524)\u001b[0m INFO 09-24 00:44:39 model_runner.py:1428] Graph capturing finished in 4 secs.\n"
     ]
    },
    {
     "data": {
      "application/vnd.jupyter.widget-view+json": {
       "model_id": "d439d8df315b4629aa850da5cca0df59",
       "version_major": 2,
       "version_minor": 0
      },
      "text/plain": [
       "- MapBatches(AsyncLLMPredictor) 1: 0.00 row [00:00, ? row/s]"
      ]
     },
     "metadata": {},
     "output_type": "display_data"
    },
    {
     "data": {
      "application/vnd.jupyter.widget-view+json": {
       "model_id": "4a7bc2a831324b5d95f7c9bb7ca5bc0b",
       "version_major": 2,
       "version_minor": 0
      },
      "text/plain": [
       "- MapBatches(Detokenizer) 2: 0.00 row [00:00, ? row/s]"
      ]
     },
     "metadata": {},
     "output_type": "display_data"
    },
    {
     "name": "stdout",
     "output_type": "stream",
     "text": [
      "\u001b[36m(MapWorker(MapBatches(AsyncLLMPredictor)) pid=29524)\u001b[0m INFO 09-24 00:44:44 metrics.py:351] Avg prompt throughput: 764.3 tokens/s, Avg generation throughput: 1.0 tokens/s, Running: 7 reqs, Swapped: 0 reqs, Pending: 64 reqs, GPU KV cache usage: 17.1%, CPU KV cache usage: 0.0%.\n",
      "\u001b[36m(MapWorker(MapBatches(AsyncLLMPredictor)) pid=29524)\u001b[0m INFO 09-24 00:44:49 metrics.py:351] Avg prompt throughput: 4107.7 tokens/s, Avg generation throughput: 5.1 tokens/s, Running: 35 reqs, Swapped: 0 reqs, Pending: 36 reqs, GPU KV cache usage: 80.8%, CPU KV cache usage: 0.0%.\n",
      "\u001b[36m(MapWorker(MapBatches(AsyncLLMPredictor)) pid=29524)\u001b[0m WARNING 09-24 00:44:52 scheduler.py:1362] Sequence group 41 is preempted by PreemptionMode.RECOMPUTE mode because there is not enough KV cache space. This can affect the end-to-end performance. Increase gpu_memory_utilization or tensor_parallel_size to provide more KV cache memory. total_num_cumulative_preemption=1\n",
      "\u001b[36m(MapWorker(MapBatches(AsyncLLMPredictor)) pid=29524)\u001b[0m INFO 09-24 00:44:54 metrics.py:351] Avg prompt throughput: 1490.4 tokens/s, Avg generation throughput: 534.3 tokens/s, Running: 40 reqs, Swapped: 0 reqs, Pending: 31 reqs, GPU KV cache usage: 98.7%, CPU KV cache usage: 0.0%.\n",
      "\u001b[36m(MapWorker(MapBatches(AsyncLLMPredictor)) pid=29524)\u001b[0m INFO 09-24 00:44:59 metrics.py:351] Avg prompt throughput: 564.1 tokens/s, Avg generation throughput: 637.4 tokens/s, Running: 33 reqs, Swapped: 0 reqs, Pending: 37 reqs, GPU KV cache usage: 96.1%, CPU KV cache usage: 0.0%.\n",
      "\u001b[36m(MapWorker(MapBatches(AsyncLLMPredictor)) pid=29524)\u001b[0m INFO 09-24 00:45:04 metrics.py:351] Avg prompt throughput: 2237.5 tokens/s, Avg generation throughput: 298.2 tokens/s, Running: 19 reqs, Swapped: 0 reqs, Pending: 52 reqs, GPU KV cache usage: 47.3%, CPU KV cache usage: 0.0%.\n",
      "\u001b[36m(MapWorker(MapBatches(AsyncLLMPredictor)) pid=29524)\u001b[0m INFO 09-24 00:45:09 metrics.py:351] Avg prompt throughput: 3735.5 tokens/s, Avg generation throughput: 62.8 tokens/s, Running: 37 reqs, Swapped: 0 reqs, Pending: 34 reqs, GPU KV cache usage: 98.0%, CPU KV cache usage: 0.0%.\n",
      "\u001b[36m(MapWorker(MapBatches(AsyncLLMPredictor)) pid=29524)\u001b[0m INFO 09-24 00:45:14 metrics.py:351] Avg prompt throughput: 388.7 tokens/s, Avg generation throughput: 650.8 tokens/s, Running: 34 reqs, Swapped: 0 reqs, Pending: 37 reqs, GPU KV cache usage: 98.2%, CPU KV cache usage: 0.0%.\n",
      "\u001b[36m(MapWorker(MapBatches(AsyncLLMPredictor)) pid=29524)\u001b[0m INFO 09-24 00:45:19 metrics.py:351] Avg prompt throughput: 1392.6 tokens/s, Avg generation throughput: 419.5 tokens/s, Running: 30 reqs, Swapped: 0 reqs, Pending: 40 reqs, GPU KV cache usage: 95.3%, CPU KV cache usage: 0.0%.\n",
      "\u001b[36m(MapWorker(MapBatches(AsyncLLMPredictor)) pid=29524)\u001b[0m INFO 09-24 00:45:25 metrics.py:351] Avg prompt throughput: 2804.7 tokens/s, Avg generation throughput: 194.1 tokens/s, Running: 26 reqs, Swapped: 0 reqs, Pending: 28 reqs, GPU KV cache usage: 71.7%, CPU KV cache usage: 0.0%.\n",
      "\u001b[36m(MapWorker(MapBatches(AsyncLLMPredictor)) pid=29524)\u001b[0m INFO 09-24 00:45:30 metrics.py:351] Avg prompt throughput: 2168.9 tokens/s, Avg generation throughput: 322.7 tokens/s, Running: 34 reqs, Swapped: 0 reqs, Pending: 20 reqs, GPU KV cache usage: 99.2%, CPU KV cache usage: 0.0%.\n",
      "\u001b[36m(MapWorker(MapBatches(AsyncLLMPredictor)) pid=29524)\u001b[0m INFO 09-24 00:45:35 metrics.py:351] Avg prompt throughput: 561.6 tokens/s, Avg generation throughput: 562.3 tokens/s, Running: 29 reqs, Swapped: 0 reqs, Pending: 19 reqs, GPU KV cache usage: 98.8%, CPU KV cache usage: 0.0%.\n",
      "\u001b[36m(MapWorker(MapBatches(AsyncLLMPredictor)) pid=29524)\u001b[0m INFO 09-24 00:45:40 metrics.py:351] Avg prompt throughput: 2516.3 tokens/s, Avg generation throughput: 216.0 tokens/s, Running: 30 reqs, Swapped: 0 reqs, Pending: 4 reqs, GPU KV cache usage: 98.7%, CPU KV cache usage: 0.0%.\n",
      "\u001b[36m(MapWorker(MapBatches(AsyncLLMPredictor)) pid=29524)\u001b[0m INFO 09-24 00:45:45 metrics.py:351] Avg prompt throughput: 762.4 tokens/s, Avg generation throughput: 407.0 tokens/s, Running: 19 reqs, Swapped: 0 reqs, Pending: 0 reqs, GPU KV cache usage: 57.1%, CPU KV cache usage: 0.0%.\n",
      "\u001b[36m(MapWorker(MapBatches(AsyncLLMPredictor)) pid=29524)\u001b[0m INFO 09-24 00:45:50 metrics.py:351] Avg prompt throughput: 0.0 tokens/s, Avg generation throughput: 301.9 tokens/s, Running: 2 reqs, Swapped: 0 reqs, Pending: 0 reqs, GPU KV cache usage: 6.1%, CPU KV cache usage: 0.0%.\n"
     ]
    },
    {
     "name": "stderr",
     "output_type": "stream",
     "text": [
      "\u001b[36m(MapWorker(MapBatches(AsyncLLMPredictor)) pid=29524)\u001b[0m Elapsed time for batch a1a53c42d81448b2be2e964a87a3a6c1 with size 129: 67.55436357899987\n",
      "Total elapsed time: 111.13s\n",
      "2024-09-24 00:45:51,385\tINFO streaming_executor.py:108 -- Starting execution of Dataset. Full logs are in /tmp/ray/session_2024-09-24_00-28-42_051202_2516/logs/ray-data\n",
      "2024-09-24 00:45:51,386\tINFO streaming_executor.py:109 -- Execution plan of Dataset: InputDataBuffer[Input] -> AllToAllOperator[Aggregate] -> LimitOperator[limit=1]\n"
     ]
    },
    {
     "data": {
      "application/vnd.jupyter.widget-view+json": {
       "model_id": "7e35d71dc7e54b59aa7de6f1941d8b35",
       "version_major": 2,
       "version_minor": 0
      },
      "text/plain": [
       "Running 0: 0.00 row [00:00, ? row/s]"
      ]
     },
     "metadata": {},
     "output_type": "display_data"
    },
    {
     "data": {
      "application/vnd.jupyter.widget-view+json": {
       "model_id": "0f2a096477bd456c90ba3525ce1edc43",
       "version_major": 2,
       "version_minor": 0
      },
      "text/plain": [
       "- Aggregate 1: 0.00 row [00:00, ? row/s]"
      ]
     },
     "metadata": {},
     "output_type": "display_data"
    },
    {
     "data": {
      "application/vnd.jupyter.widget-view+json": {
       "model_id": "8e5196c0d0554778b1436beccb703ff8",
       "version_major": 2,
       "version_minor": 0
      },
      "text/plain": [
       "Sort Sample 2:   0%|          | 0.00/1.00 [00:00<?, ? row/s]"
      ]
     },
     "metadata": {},
     "output_type": "display_data"
    },
    {
     "data": {
      "application/vnd.jupyter.widget-view+json": {
       "model_id": "540ff8a8a2824dea91700ae310e29e1e",
       "version_major": 2,
       "version_minor": 0
      },
      "text/plain": [
       "Shuffle Map 3:   0%|          | 0.00/1.00 [00:00<?, ? row/s]"
      ]
     },
     "metadata": {},
     "output_type": "display_data"
    },
    {
     "data": {
      "application/vnd.jupyter.widget-view+json": {
       "model_id": "ad09a8e2f14247b480a35d68de27a939",
       "version_major": 2,
       "version_minor": 0
      },
      "text/plain": [
       "Shuffle Reduce 4:   0%|          | 0.00/1.00 [00:00<?, ? row/s]"
      ]
     },
     "metadata": {},
     "output_type": "display_data"
    },
    {
     "data": {
      "application/vnd.jupyter.widget-view+json": {
       "model_id": "604c59015a2b4c68a9b6d9ad446ef2a2",
       "version_major": 2,
       "version_minor": 0
      },
      "text/plain": [
       "- limit=1 5: 0.00 row [00:00, ? row/s]"
      ]
     },
     "metadata": {},
     "output_type": "display_data"
    },
    {
     "name": "stderr",
     "output_type": "stream",
     "text": [
      "2024-09-24 00:45:51,451\tINFO streaming_executor.py:108 -- Starting execution of Dataset. Full logs are in /tmp/ray/session_2024-09-24_00-28-42_051202_2516/logs/ray-data\n",
      "2024-09-24 00:45:51,452\tINFO streaming_executor.py:109 -- Execution plan of Dataset: InputDataBuffer[Input] -> AllToAllOperator[Aggregate] -> LimitOperator[limit=1]\n"
     ]
    },
    {
     "data": {
      "application/vnd.jupyter.widget-view+json": {
       "model_id": "caf0d8f6064149ea9d316dd63930a3e7",
       "version_major": 2,
       "version_minor": 0
      },
      "text/plain": [
       "Running 0: 0.00 row [00:00, ? row/s]"
      ]
     },
     "metadata": {},
     "output_type": "display_data"
    },
    {
     "data": {
      "application/vnd.jupyter.widget-view+json": {
       "model_id": "64fa32b75ab74d8eb66300654fe53cb2",
       "version_major": 2,
       "version_minor": 0
      },
      "text/plain": [
       "- Aggregate 1: 0.00 row [00:00, ? row/s]"
      ]
     },
     "metadata": {},
     "output_type": "display_data"
    },
    {
     "data": {
      "application/vnd.jupyter.widget-view+json": {
       "model_id": "529589d6cafb4e1581ae41a40e0b37b3",
       "version_major": 2,
       "version_minor": 0
      },
      "text/plain": [
       "Sort Sample 2:   0%|          | 0.00/1.00 [00:00<?, ? row/s]"
      ]
     },
     "metadata": {},
     "output_type": "display_data"
    },
    {
     "data": {
      "application/vnd.jupyter.widget-view+json": {
       "model_id": "0dae2c0a0fe24a2f89b94028869c36a2",
       "version_major": 2,
       "version_minor": 0
      },
      "text/plain": [
       "Shuffle Map 3:   0%|          | 0.00/1.00 [00:00<?, ? row/s]"
      ]
     },
     "metadata": {},
     "output_type": "display_data"
    },
    {
     "data": {
      "application/vnd.jupyter.widget-view+json": {
       "model_id": "9fe1d1b832094d5eb5ae971f900d8e29",
       "version_major": 2,
       "version_minor": 0
      },
      "text/plain": [
       "Shuffle Reduce 4:   0%|          | 0.00/1.00 [00:00<?, ? row/s]"
      ]
     },
     "metadata": {},
     "output_type": "display_data"
    },
    {
     "data": {
      "application/vnd.jupyter.widget-view+json": {
       "model_id": "74293ef9a7234b35825fb6bd68f99315",
       "version_major": 2,
       "version_minor": 0
      },
      "text/plain": [
       "- limit=1 5: 0.00 row [00:00, ? row/s]"
      ]
     },
     "metadata": {},
     "output_type": "display_data"
    },
    {
     "name": "stderr",
     "output_type": "stream",
     "text": [
      "Total tokens processed: 134842\n",
      "Engine throughput (tokens/s): 1993.59\n",
      "Projected 1M token time (mins): 9.08\n",
      "2024-09-24 00:45:51,517\tINFO streaming_executor.py:108 -- Starting execution of Dataset. Full logs are in /tmp/ray/session_2024-09-24_00-28-42_051202_2516/logs/ray-data\n",
      "2024-09-24 00:45:51,518\tINFO streaming_executor.py:109 -- Execution plan of Dataset: InputDataBuffer[Input] -> LimitOperator[limit=1]\n"
     ]
    },
    {
     "data": {
      "application/vnd.jupyter.widget-view+json": {
       "model_id": "47831c9f1f8845e987e66c3d1761e07b",
       "version_major": 2,
       "version_minor": 0
      },
      "text/plain": [
       "Running 0: 0.00 row [00:00, ? row/s]"
      ]
     },
     "metadata": {},
     "output_type": "display_data"
    },
    {
     "data": {
      "application/vnd.jupyter.widget-view+json": {
       "model_id": "ca3cd72b1f034178b597e0089aaa5d49",
       "version_major": 2,
       "version_minor": 0
      },
      "text/plain": [
       "- limit=1 1: 0.00 row [00:00, ? row/s]"
      ]
     },
     "metadata": {},
     "output_type": "display_data"
    },
    {
     "data": {
      "text/plain": [
       "\"In Kabul, Afghanistan, over 1,000 bottles of alcohol were destroyed as part of a crackdown on smuggling and sales. The bottles were confiscated from Afghan sources over a two-year period, mostly from international hotels and handed over to customs officials who burnt them. This movemade facilitates enforcement of Afghanistan's ban on alcohol due to its largely Muslim population, with only a few specifically designated areas allowing its sale for foreigners.\""
      ]
     },
     "execution_count": 4,
     "metadata": {},
     "output_type": "execute_result"
    },
    {
     "name": "stdout",
     "output_type": "stream",
     "text": [
      "\u001b[36m(autoscaler +4m31s)\u001b[0m Tip: use `ray status` to view detailed cluster status. To disable these messages, set RAY_SCHEDULER_EVENTS=0.\n"
     ]
    }
   ],
   "source": [
    "from rayllm_batch import RayLLMBatch\n",
    "\n",
    "\n",
    "workload = CNNDailySummary()\n",
    "batch = RayLLMBatch(\n",
    "    engine_cfg=engine_config,\n",
    "    workload=workload,\n",
    "    # Specify the batch size for inference. Set the batch size to as large as possible without running out of memory.\n",
    "    # If you encounter out-of-memory errors, decreasing batch_size may help. \n",
    "    batch_size=None,\n",
    "    # Set the number of replicas to use for the inference. Each replica will run one instance of inference pipeline.\n",
    "    num_replicas=1,\n",
    ")\n",
    "\n",
    "\n",
    "# This will runs until completion.\n",
    "ds = batch.run()\n",
    "\n",
    "\n",
    "# Read the results\n",
    "gen_texts = [r[\"generated_text\"] for r in ds.take_all()]\n",
    "print(gen_texts)"
   ]
  },
  {
   "cell_type": "code",
   "execution_count": 7,
   "metadata": {},
   "outputs": [],
   "source": [
    "gen_texts = [r[\"generated_text\"] for r in ds.take_all()]"
   ]
  },
  {
   "cell_type": "code",
   "execution_count": 8,
   "metadata": {},
   "outputs": [
    {
     "data": {
      "text/plain": [
       "[\"In Kabul, Afghanistan, over 1,000 bottles of alcohol were destroyed as part of a crackdown on smuggling and sales. The bottles were confiscated from Afghan sources over a two-year period, mostly from international hotels and handed over to customs officials who burnt them. This movemade facilitates enforcement of Afghanistan's ban on alcohol due to its largely Muslim population, with only a few specifically designated areas allowing its sale for foreigners.\",\n",
       " 'Here are the article\\'s highlights summarized:\\n\\nPhotographer Eiko Jones was taking underwater pictures of plants near Campbell River in Canada when he was suddenly surrounded by thousands of tadpoles swimming at the Cedar Lake. The 41-year-old photographer was initially startled by the large group of tadpoles, which appeared as a \"cloud\" swimming around him for about ten minutes. The rare sighting was a unique experience for Jones, who stated that he had never seen or heard of tadpoles schooling before.',\n",
       " 'Two high-ranking officials were killed in a plane crash over the Escondido River in Mexico. \\n\\nKey points:\\n\\n- The victims were Mayor Jose Manuel Maldonado of Piedras Negras and Coahuila official Horacio del Bosque Davila.\\n- They were on a plane that took off from Piedras Negras and crashed into a lake known as the Fragua Dam.\\n- The pilot, whose name has not been released, is presumed dead.\\n- The aircraft involved in the incident was a twin-engine turboprop Piper Cheyenne.',\n",
       " \"South African golfer Thomas Aiken won the Spanish Open, his first European Tour victory, with a score of 10-under-par 278. The win came on a somber day after the passing of golf legend Seve Ballesteros at the age of 54. Players observed a minute's silence to honor Ballesteros, and Aiken dedicated his victory to him. Aiken held his nerve on the final day, with Denmark's Anders Hansen finishing second on eight-under-par and Spain's Pablo Larrazabal, along with Scott Jamieson, taking third.\",\n",
       " \"Chelsea is interested in signing Paul Pogba from Juventus for £60 million. Pogba, a 21-year-old French midfielder, has impressed with his performances at Juventus and France. He even has Premier League experience from his time as a scholar at Manchester United. Chelsea sees Pogba as a strong investment due to his Premier League background, which helps them comply with UEFA's Financial Fair Play rules. The deal would add to their impressive midfield, which already includes Cesc Fabregas, who recently joined from Barcelona for £30 million, and other players like Oscar and Eden Hazard.\",\n",
       " \"Key highlights from the article include:\\n\\n* Professor Chris Wise, who helped design the Olympic velodrome, will give a talk at the Annual Stephen Lawrence Memorial Lecture in London.\\n* The event is held in memory of 18-year-old Stephen Lawrence, who was murdered in a racist attack in 1993 and had dreamed of becoming an architect.\\n* The lecture aims to raise money for the Stephen Lawrence Charitable Trust, which supports disadvantaged students pursuing a career in architecture.\\n* Tickets for the lecture are £15 for full price or £5 for students and can be bought through the event's website.\\n\\nOverall, the event aims to honor Stephen Lawrence's memory while supporting his legacy by helping students achieve their architectural dreams.\",\n",
       " \"The article reports that both Delta and American Airlines have canceled hundreds of flights for voluntary inspections on wiring in their jets. Delta canceled 275 flights Thursday and 325 earlier, affecting flights through early Friday. American Airlines canceled 318 flights Wednesday and 132 scheduled flights Thursday, forcing passengers to spend the night at Atlanta's Hartsfield-Jackson International Airport. The inspections relate to concerns about how wires are secured to MD-80 aircraft, with Delta's MD-88 planes being the focus for inspections, which are expected to be completed by week's end. Passengers were inconvenienced, missing flights, job interviews, and comforts, with the airlines offering assistance such as rebooking flights and covering food and accommodation costs.\",\n",
       " \"Here are the article's highlights:\\n\\nNathaniel Clyne, Southampton's right back, has been in phenomenal form this season. After a conversation with manager Ronald Koeman, where he was assured he would be the club's first choice right back, Clyne has delivered outstanding performances, including scoring the winning goal in a 2-1 win against Arsenal.\\n\\nKoeman believes Clyne is ready for England recognition, praising his experience and consistency. With Luke Shaw facing uncertainly at Manchester United, Clyne's performance has raised questions about whether Manchester United bought the wrong full back. Clyne's steady rise to prominence began at Crystal Palace in 2008, where he was promoted from the academy to the first team.\",\n",
       " \"Here's a summary of the article's highlights:\\n\\nThe FA Cup second-round replay match between Scunthorpe and non-league side Worcester City ended in a thrilling penalty shootout.  Scunthorpe secured a 14-13 victory, setting a new FA Cup record for the longest penalty shootout.  Worcester City equalized early into the second half with a goal from Sean Geddes after Scunthorpe's Paddy Madden opened the scoring in the first half with a header from a corner. The match ended 1-1 after extra time, setting up the penalty shootout. Scunthorpe's Miguel Llera sealed the win with the decisive penalty kick, sending his team into the third round of the FA Cup.\",\n",
       " \"According to a report by the American Customer Satisfaction Index (ACSI), Americans find flying even more stressful than going to the post office. Although airlines saw a 3% improvement in customer satisfaction, they still scored lower than the US Postal Service, with a score of 69 out of 100.\\n\\nHowever, two low-cost airlines, JetBlue and Southwest, scored highly in the survey with 83% and 81% respectively. \\n\\nThe main areas of customer dissatisfaction with airlines include:\\n\\n- Seat comfort\\n- Rising ticket prices\\n- Extra fees\\n- Poor in-flight services\\n\\nIn response to the low score, the airline industry argued that they compare favorably to other modes of transport like taxis, and that prices haven't increased in line with inflation.\",\n",
       " \"Serena Williams, an 18-time Grand Slam champion, recently showcased her new $73,000 diamond-encrusted watch from Audemars Piguet after a win in her opening match of the WTA Finals. \\n\\nWilliams defeated Ana Ivanovic in a 6-4, 6-4 win, her first match in Singapore where she is defending her WTA Finals title.\\n\\nHowever, her victory comes after a week of controversy involving Russian Tennis Federation president Shamil Tarpischev. He made offensive comments on a TV talk show, referring to Williams and her sister Venus as 'brothers', leading to a $15,500 fine and a one-year ban from women's tennis.\\n\\nMeanwhile, the International Tennis Federation faced criticism for not taking immediate action, but the Women's Tennis Association acted swiftly in response to the incident.\",\n",
       " 'A 33-year-old British tourist has been taken to court in Dubai for allegedly getting drunk and running naked through a building on the Palm Jumeirah. The man, identified as RS, has been charged with consuming alcohol without a license and committing an indecent act. He admits to drinking eight rums, but denies indecent behavior. \\n\\nAccording to witnesses, RS was seen arguing with security guards in his underwear, then proceeded to remove his clothes and stand naked in a brightly lit corridor on the second floor of the building. It took 30 minutes for police to apprehend him from his hiding place. RS claims he has no memory of the incident due to intoxication. The next court hearing is scheduled for March 27. This incident is the latest in a string of court cases involving British tourists in Dubai, where foreign residents must have a license to consume alcohol.',\n",
       " 'The National Football League may soon have its first openly gay player as a current player reportedly plans to come out before the 2013 season. \\n\\nThis move could bring about a significant change as football has never had a gay active player in its nearly 100-year history. Chris Kluwe and Brendon Ayanbadejo, who are outspoken LGBT advocates, have expressed support for the player\\'s decision.\\n\\nDespite this positive outlook, there are also concerns and controversy surrounding the topic. San Francisco 49ers cornerback Chris Culliver sparked uproar when he said he did not welcome gay players in the locker room, and NFL Commissioner Roger Goodell has stated that asking potential players about their sexual orientation is \"unacceptable.\" This issue has gained attention following the Manti Te\\'o \\'fake girlfriend\\' hoax, where Te\\'o was questioned about his sexual orientation at the NFL scouting combine.',\n",
       " 'Artist Jennifer Trouton from Northern Ireland is featured in the bestselling book series \"Fifty Shades of Grey\" by E L James. The series\\' author is a close friend of Trouton\\'s and spotted her work at a 2006 art exhibition in London. Trouton\\'s painting, \"Looking At the Overlooked,\" is a mosaic of 300 smaller paintings depicting everyday household objects, which specifically caught the author\\'s eye. It\\'s featured in all three books of the series, including when the main characters first meet and when Christian Grey recalls their first encounter.\\n\\nTrouton\\'s work is described as a metaphor for the mundane becoming extraordinary, reflecting the extraordinary bond between the characters. Another of her paintings is donated to a charity auction in the second book, \"Fifty Shades Darker.\" The artist\\'s involvement was kept hidden from friends and family until it was revealed through her Facebook page.',\n",
       " 'Researchers at Cambridge University have found new evidence that challenges the traditional image of Neanderthals as brutish hunters. Instead, they discovered that Neanderthals may have spent most of their time performing domestic tasks, such as preparing animal hides for clothes. \\n\\nThe researchers found that Neanderthal arm bones showed unusual strength, particularly in the right arm, which was 50% stronger than the left arm. This is unlike most humans, who have a 10% difference in arm strength between their right and left arms. \\n\\nA study found that the strong right arm could not be attributed to hunting with spears as previously thought, but rather could be linked to tasks such as scraping animal hides, which was necessary for survival during the Ice Age.\\n\\nThe study also found that Neanderthals may have been more advanced than thought, living in communities, eating cooked food, and understanding its nutritional and medicinal qualities.',\n",
       " \"Here are the article's highlights summarized:\\n\\nSerena Williams won her first match back at the Brisbane International, defeating Chanelle Scheepers 6-2 6-3 in straight sets. \\n\\nThe 30-year-old American, ranked fourth in the tournament, fired seven aces in the 68-minute win. However, she revealed plans to cut back on her tennis schedule in 2012, stating she doesn't love playing tennis but can't live without it.\\n\\nOther notable results in the tournament include:\\n\\n- Samantha Stosur beating Anastasiya Yakimova 6-2 6-3 and is likely to face Serena Williams in the semifinals.\\n- Andrea Petkovic defeating Shahar Peer 7-6 1-6 6-3.\\n- Ana Ivanovic winning over Tamira Paszek 6-3 6-3 and facing Kim Clijsters next.\",\n",
       " \"The biggest European football stories include:\\n\\n- Italian football: \\n  - Juventus manager Antonio Conte may be leaving the club after failing to make progress in the Champions League, despite winning three consecutive Serie A titles. Conte is being considered for other jobs, including at Monaco.\\n  - Inter Milan captain Javier Zanetti is set to retire at the end of the season after a successful career.\\n  - Roma owner James Pallotta is in Italy for Sunday's match against Juventus.\\n\\n- Spanish football:\\n  - Barcelona's Lionel Messi wants to lead the team to a La Liga title by winning their remaining two league games.\\n  - Barcelona legend Carles Puyol is close to leaving the club, while Atletico Madrid's title hopes may be affected by Diego Costa's hamstring injury.\\n  - Cristiano Ronaldo is saying he's fit to play for Real Madrid, despite concerns about his fitness ahead of their match against Celta Vigo.\",\n",
       " \"Here are the highlights from the article:\\n\\n- Norwich City dominated Huddersfield, winning 5-0 with key scores coming from Bradley Johnson (2 goals), Cameron Jerome, Lewis Grabban, and Nathan Redmond.\\n- Bolton drew 0-0 with Ipswich in a match where Eidur Gudjohnsen appeared as a second-half substitute.\\n- Brentford won 3-1 against Blackburn with goals from Jonathan Douglas, Andre Gray, and Jose Ignacio Peleteiro Ramallo.\\n\\nNarrow victories occurred for Wolves (1-0) against Sheffield Wednesday, thanks to Leon Clarke's goal, and Fulham (1-0) against Leeds, thanks to Hugo Rodallega's strike.\\n- Blackpool drew 2-2 with Charlton.\\n- Rotherham and Nottingham Forest played a goalless match.\\n- Wigan continued to struggle under Malky Mackay, having lost to Watford 2-1.\",\n",
       " 'A 9-year-old boy from Solihull claims he was repeatedly substituted from matches because of his Asian background while playing for a local youth football team, Knowle Juniors. His mother, Fehnez Khan, has made a complaint to the police and British Football Association (FA), alleging racial discrimination. \\n\\nThe allegations have been denied by the club, which claims the boy was substituted for football-related reasons and that other children also received less playing time. \\n\\nKey points are as follows:\\n\\n- A meeting at a police station has been held to discuss the matter with Khan and club representatives.\\n   - The football club, Knowle Juniors, received a Community Club Charter status from the FA for their good work in the area.\\n   - Police are hoping to resolve the issue locally, but details on their investigation have not been released.\\n   - The probe is also being investigated by the Birmingham FA, who have not provided detailed information on their investigation yet.',\n",
       " 'Here are the highlights from the article:\\n\\n- Two rare bottles of whisky salvaged from the 1941 shipwreck of the SS Politician off the coast of Eriskay in the Outer Hebrides were auctioned off for £12,050 in 2013.\\n\\n- The bottles were part of the cargo of 28,000 cases of malt whisky that sank along with the ship, and are scarce due to only eight having been authenticated since 1987.\\n\\n- The whisky is now undrinkable, and the bottles were sold for their historical and scarcity value.\\n\\n- The bottles are part of the inspiration for the book and 1949 film \"Whisky Galore,\" based on the true story of Scottish islanders who salvaged the cargo.\\n\\n- The auction was held by Scotch Whisky Auctions in Glasgow, and the buyer remained unidentified.\\n\\n- The bottles come with authentication documents from Christie\\'s, where they were previously sold in the past for £4,000.',\n",
       " \"Here are the article's highlights:\\n\\n1. Authorities in southern Indiana have arrested 54-year-old William 'Clyde' Gibson III, a convicted sex offender, in connection with the murders of two women and a suspected third victim.\\n2. Human remains were found in Gibson's backyard, which were later identified as those of 35-year-old Stephanie Marie Kirk, who was last seen on March 25.\\n3. Kirk's remains are believed to have been in the backyard for weeks or months. The cause of death is still under investigation.\\n4. Gibson is also suspected of killing Christine Whitis, 75, who was found strangled in his home last week, and Karen Hodella, 44, who was discovered near the Ohio River in 2003.\\n5. Gibson was arrested on drunken-driving charges after police spotted him driving Whitis' car, leading authorities to search his home and find Kirk's remains.\\n6. Gibson has a lengthy criminal record, including convictions for robbery,\",\n",
       " \"Noted author Mitchell Gross, who writes under the pen names Mitchell Graham and Douglas Alan, has been accused of swindling millions of dollars from two women he met through online dating sites. \\n\\nHere are the key highlights:\\n\\n- Gross allegedly convinced two women to invest in a sham company, one of whom wired $3 million to a fake account, and the other who invested $1.4 million.\\n- He used the stolen funds to buy expensive artwork, a luxury car, a golf club membership, and other personal items.\\n- Gross falsely claimed that film adaptations of his books were being optioned by Steven Spielberg, featuring Pierce Brosnan and Kirsten Dunst.\\n- To further deceive his victims, he pretended to be a representative of a financial institution, 'The Merrill Company'.\\n- Gross' scam involved creating fake tax forms and account statements to conceal the scheme.\\n- He has pleaded not guilty to wire fraud and money laundering charges, which carry a potential prison sentence of decades.\\n- Two previous\",\n",
       " \"Here are the highlights from the article about Myspace's comeback:\\n\\n1. **Myspace is making a comeback**: Since December, the site has added 1 million new users, with a significant increase from adding zero new users per day to 40,000 per day.\\n2. **New music player a key factor**: The introduction of a music player offering 42 million songs in December helped the site regain popularity.\\n3. **Tie-up with Facebook**: Myspace has formed a closer relationship with Facebook, allowing users to log in with their existing Facebook details and access Myspace content through the Facebook app.\\n4. **Improved user numbers**: Now, Myspace has 25.1 million users, a significant increase since its decline in popularity.\\n5. **Comparing to Spotify**: Myspace offers a larger music library than its streaming rival Spotify, which has 15 million songs, and other platforms, such as Pandora, offer less.\\n6. **Pan\",\n",
       " \"Here are the article's main highlights:\\n\\n- Conservative Chief Whip Andrew Mitchell and Lib Dem leader Nick Clegg received £11,000 and £777,000 respectively from Brompton Capital, a company based in Jersey, a tax haven.\\n- The company's chairman, Rumi Verjee, has donated millions to the Lib Dems and the Conservative party, despite filing multiple losses in the company's financial accounts.\\n- Brompton Capital's shares are owned by an offshore firm called Integro Nominees (Jersey), which has since changed its name to EQ Nominees (Jersey).\\n- Despite Brompton Capital's losses, the company has made over £12 million in charitable donations in the past 10 years.\\n- Labour deputy leader Harriet Harman accused the Liberal Democrats of hypocrisy in accepting donations from a company using offshore companies to potentially avoid taxes.\\n- Both Mitchell and Clegg's parties have expressed support for cracking down on tax avoidance and wealth inequality, despite this new\",\n",
       " \"The article reports on a recent development in the Madoff Ponzi scheme case. The key highlights are:\\n\\n1. **$2.48 billion payout**: Victims of Bernard Madoff's fraud will receive approximately $2.48 billion to cover their losses, making their total recovery around $3.63 billion.\\n\\n2. **New total recovery**: This payout triples their previous total recovery of $1.15 billion, but still only covers about half of the total losses estimated at $9.15 billion.\\n\\n3. **Trustee's work**: The recovery is attributed to the efforts of trustee Irving Picard, who has managed to recover $9.15 billion or 53% of the estimated losses.\\n\\n4. **Remaining funds**: Although Picard has recovered almost $9.15 billion, some funds are being held in reserve as victims pursue their own cases to recover more money.\\n\\n5. **Delayed distributions**: Picard is appealing court decisions that have limited his claims against banks such as JPM\",\n",
       " 'Here are the highlights from the article:\\n\\n**Surrey County Council Faces Criticism for £4,000 Away Day at Historic Castle**\\n\\n* 26 senior Conservative councillors and officers attended a 2-day workshop at the 900-year-old Farnham Castle at a cost of £4,000.\\n* The council is set to make £200m in savings over the next four years due to government funding cuts, and up to 650 jobs are at risk.\\n* Opposition politicians and local residents accuse the council of wasting taxpayer money on a \"posh jolly\".\\n* Council Chief Executive David McNulty defends the trip, saying it was \"value for money\" and allowed the organization to develop its approach to complex issues.\\n* However, Communities Secretary Eric Pickles\\' recent paper suggests canceling away days at posh hotels as a way to save money, recommending instead to use council-owned properties or borrow a room from a neighboring council.\\n* The cost of the trip has sparked criticism, with',\n",
       " 'Here are the article\\'s highlights:\\n\\n- Former UK hospital manager Gary Walker claims he was paid £500,000 to keep quiet about patient safety concerns at the United Lincolnshire Hospitals Trust after being removed as chief executive in 2010.\\n\\n- Gary Walker broke his silence, speaking out about a care scandal that may have led to 670 patient deaths, despite an email from NHS-funded lawyers warning him not to speak out and threatening repayment of the £500,000 settlement.\\n\\n- Jeremy Hunt, the Health Secretary, has expressed concern that Walker was \"leaned on\" to remain quiet and is willing to order NHS bosses to reverse the gagging order if it breaches NHS guidelines on whistle-blowing.\\n\\n- The Health Secretary has written to the trust chairman to inquire about the gagging order, citing the Francis Report\\'s call for a ban on such orders that prevent concerns being raised about patient safety.\\n\\n- United Lincolnshire Hospitals NHS Trust, where Walker was chief executive, is among 14 trusts being investigated',\n",
       " \"Former French First Lady Carla Bruni-Sarkozy spoke to Vogue magazine, sharing her views on feminism and women's roles in society. Key points from the interview include:\\n\\n1. Bruni-Sarkozy stated she doesn't identify as a feminist, preferring a traditional role at home with her children.\\n2. She mentions pioneers who opened up opportunities for future generations of women, but asserts she is content with her life without actively pursuing feminist causes.\\n3. The former model and singer turned conservative shared that she disagrees with her husband, former President Nicolas Sarkozy, on gay marriage, supporting the right to adoption for same-sex couples.\\n4. Bruni-Sarkozy's life in the public eye has grown since Sarkozy lost the French presidential election, leading to her becoming a prominent figure on billboards, magazine covers, and through her new album.\\n5. Despite her husband's involvement in corruption scandals, Bruni-Sarkozy remains tight-lipped about the issues and prefers to step back and be\",\n",
       " 'Here are the article\\'s highlights:\\n\\n- A growing number of travelers, known as \"flashpackers,\" are benefiting from cheap, well-furnished hostels. They are usually over 30, well-established in their careers, and can afford higher-end hotels but chose to save money by staying in hostels.\\n\\n- People like 49-year-old Paul Wampach, who prioritizes budget-friendly accommodations, especially for ski vacations. He has stayed in the same hostel, Fireside Inn in Breckenridge, Colorado, four previous times, booking a dorm-style room for less than $40 per night.\\n\\n- Flashpackers prefer to stay in hostels with shared living spaces and modern amenities, such as Wi-Fi, hot tubs, and community kitchens, allowing them to meet travelers from different cultures.\\n\\n- The number of hostel bookings has been increasing at U.S. vacation destinations after the 2001 recession, mainly due to the unstable economy. Popular destinations like New York and San Diego reported significant',\n",
       " 'The article describes the author\\'s journey to Greenland to join the Arctic Sunrise, a ship belonging to the environmental group Greenpeace, on a three-month expedition around Greenland\\'s coast. Highlights from the article include:\\n\\n1. **Meeting William, a Greenland taxi driver who has engaged in whale hunting**, which is legal in Greenland as a means of subsistence.\\n2. **Observing the breathtaking landscape** of Sermilik Fjord, where the ship travels, featuring an \"inky blue body of water thick with floating, ancient ice\" and massive mountainous icebergs.\\n3. **Scientific research on the melting of the Greenland ice sheet**, which shows alarming rates of change, possibly leading to sea levels rising beyond current predictions.\\n4. **A warning from glaciologist Dr Gordon Hamilton**, who believes that if urgent action is not taken, the Earth\\'s climate will reach a \"tipping point\" with catastrophic consequences for society.\\n5. **The opportunity for CNN to participate in a Green',\n",
       " '**Tragic Burns Survivor Michael Brewer Faces Long Recovery**\\n\\n15-year-old Michael Brewer suffered severe burns over 65% of his body after being set on fire by a group of teenagers in Deerfield Beach, Florida, in an alleged dispute over a video game, a bike, and $40. His mother, Valerie Brewer, is bracing for a lifelong recovery for her son, who still faces multiple surgeries, physical therapy, and rehabilitation.\\n\\n**Key Facts and Updates:**\\n\\n- Michael Brewer\\'s attackers, Denver Jarvis (Jarvis\\' brother), Matthew Bent, and Jesus Mendez, are accused of pouring alcohol over Michael and lighting him on fire.\\n- Michael Brewer\\'s treatment is extremely painful, with procedures like lengthy showers and physical therapy causing excruciating pain and distress.\\n- Ozzy Osbourne sent a CD to Michael, which he plays during the painful shower therapy to help him cope.\\n- Michael\\'s recovery is expected to be lifelong, with his mother saying it\\'s been a \"rollerco',\n",
       " 'Here are the article highlights:\\n\\n- George Kenney, a 52-year-old high school principal in Florida, pleaded no contest to practicing hypnosis without a license after hypnotizing 75 students, teachers, and their families at North Port High School. \\n- As part of his plea deal, he received one year of probation.\\n- Kenney was accused of hypnotizing two students before they committed suicide last year: 16-year-old Wesley McKinley and 17-year-old Brittany Palumbo.\\n- An investigation found that Kenney was warned by his supervisor to stop the hypnosis sessions but did not issue a written directive.\\n- Kenney admitted to holding hypnosis sessions with five other students who later struggled with mental health issues or had tragic outcomes, including a car crash that killed a teenage student named Marcus Freeman.\\n- Many students defended Kenney, claiming the hypnosis helped them focus in class, and a Facebook group called \"Bring Back Dr. Kenney\" was set up to support him.\\n',\n",
       " 'Here are the main highlights of the article:\\n\\n* The UN\\'s outgoing corruption investigator, Inga-Britt Ahlenius, has released a 50-page memo criticizing the leadership of UN Secretary-General Ban Ki-moon, accusing him of managerial incompetence and being \"responsible for undermining his own officials and failing to address key issues.\"\\n* Ahlenius alleges that Ban has repeatedly undermined the flow of information, interfered with staff appointments, and left crucial leadership positions vacant to maintain his own power.\\n* The report describes the UN Secretariat as \"decaying, falling apart, and drifting into irrelevance.\"\\n* Ahlenius\\' report highlights several instances of Ban\\'s failures, including:\\n\\t+ Failing to appoint an Under Secretary-General for Safety and Security for 11 months after a deadly bombing of the UN\\'s Algeria headquarters.\\n\\t+ Relying on a bureaucratic approach to accountability, rather than taking concrete steps to address issues.\\n* The report has put the White House in a difficult position,',\n",
       " \"A 25-year-old drug dealer, Javad Malik, has pleaded guilty to multiple charges related to the death of 28-year-old Ahtia Tabasim and her unborn child. The incident occurred in January when Malik attempted to flee from police in a high-speed chase, crashing into Tabasim's car just yards from her home in Birmingham. \\n\\nTabasim, a newlywed and a care worker at an old persons' home, was three months pregnant and died from her injuries in the hospital. Her husband, Bahdar Zahman, and family members have paid tribute to her, describing her as a kind and caring person who loved her work with the elderly and disabled.\\n\\nMalik has pleaded guilty to causing death by dangerous driving, possession of heroin, cocaine, and cannabis with intent to supply, and not having a valid license or insurance. Judge William Davis warned Malik to expect a lengthy prison sentence, stating that his offenses are very serious and will result in a significant term of imprisonment\",\n",
       " \"The main highlights of the article are:\\n\\n1. Former boxing champion Frank Bruno made an emotional plea for better mental health treatment after revealing he has been sectioned twice in the last 18 months due to suffering from bipolar disorder and depression.\\n2. Bruno, a Lib Dem supporter, recorded a video endorsing Health Minister Norman Lamb's mental health policies, expressing his gratitude for the progress made in mental health care.\\n3. Norman Lamb announced new initiatives, including a 'carers' bonus' worth £250 a year and a 'carers' passport' for access to benefits such as free hospital parking.\\n4. Lamb criticized Labour and the Conservatives for their handling of the NHS, accusing Labour of being'resistant to change' and the Conservatives of being potentially 'vulnerable' to cutting NHS funding under right-wing pressure.\\n5. The article compares the promises made by Labour and the Conservatives regarding NHS funding, with Labour pledging a £2.5 billion 'time to care' fund and the Conservatives\",\n",
       " \"The UK's national tourism agency, VisitBritain, is launching a marketing push in Asia to attract more Chinese tourists. The agency plans to give iconic landmarks, such as Buckingham Palace and Stonehenge, Chinese names to make them more appealing to Chinese visitors. This move comes after a record-breaking 20 million tourists visited the UK between January and July, spending £11.3 billion.\\n\\nKey highlights include:\\n\\n* VisitBritain aims to give Chinese tourists a greater affinity with Britain by using Mandarin titles for famous sites.\\n* 20 million people visited the UK between January and July, a 7% increase from last year.\\n* The UK's heritage is a key selling point for Chinese tourists, with visiting Buckingham Palace and touring historic Chatsworth House as top attractions.\\n* The GREAT China Welcome programme aims to make Britain the destination of choice for Chinese tourists, with a new charter to help visitors identify China-ready hotels, attractions, and tour operators.\\n\\nOverall, the agency hopes to treble the number of\",\n",
       " 'The article discusses the college football scandal at Penn State University and the crisis it presents for the sport. Key highlights from the article include:\\n\\n1. **Penn State\\'s inadequate response:** The university fired Joe Paterno and other officials, but more needs to be done, including whether Mike McQueary should be punished and whether others on the staff were aware of Jerry Sandusky\\'s alleged actions.\\n\\n2. **NCAA\\'s inadequate response:** The NCAA has stated it will defer to law enforcement but hasn\\'t provided a meaningful response, considering the severity of the scandal.\\n\\n3. **Worst scandal in college football history:** The article considers this scandal the worst in the sport\\'s history and calls for the toughest penalties, including the \"death penalty\" (a one-year ban), which has only been given to one program previously, Southern Methodist University.\\n\\n4. **Lack of accountability:** The NCAA allows the football program to make big money, but players, who are unpaid amateurs, often bear the consequences',\n",
       " \"A 53-year-old convicted paedophile, Brett Barrett, was jailed for seven months for assaulting a teenager. Barrett, who had previously been jailed for two years in the late 1990s for sexual offenses against a teenage boy, had taken over a milk bar in Melbourne's south east near a high school. \\n\\nThe milk bar advertised 'after-school specials' in 2013. What's more, Barrett's latest crime was not known by detectives investigating him, as his previous conviction predates the introduction of the National Child Offender Register in Victoria in 2004.\\n\\nA public national sex offender register has been proposed but rejected by all states and territories except the Northern Territory. The Northern Territory's register will be named after murdered teenager Daniel Morcombe, and will allow the public to look up convicted sex offenders in their area.\\n\\nDerryn Hinch, a 'name and shame' campaigner, believes that a national public register would have allowed the public to identify Barrett and stay safe.\",\n",
       " \"The article highlights several attractions and activities in the Swiss city of Basel, situated at the crossroads of Germany and France. Key points include:\\n\\n1. **Historical significance**: Basel is home to the oldest university in Switzerland and Europe's oldest five-star hotel, the Hotel Drei Kronige. A scenic walk through the beautifully preserved Old Town allows visitors to see the notable Munster, a red sandstone gothic cathedral.\\n\\n2. **Ancient Roman settlement**: Located 12 miles east of Basel, the 2,000-year-old Roman settlement of Augusta Raurica showcases a well-preserved theater, forum, amphitheater, and aqueduct. An open-air museum features a reconstructed Roman house and daily life recreations.\\n\\n3. **Thrill-seekers' delight**: The Hasenhorn toboggan run, 25 miles east of Basel, is Germany's longest and an adrenaline-packed 1.8-mile ride open year-round.\\n\\n4. **Art and culture**: The\",\n",
       " \"According to the article, Facebook is reportedly planning to release its own smartphone by next year. They have hired over a dozen former Apple engineers who worked on the iPhone, and a former engineer claims Facebook CEO Mark Zuckerberg was very interested in learning about smartphone technology, which indicates a serious approach to developing a Facebook phone.\\n\\nThe new smartphone would allegedly allow users to seamlessly send messages, post updates, and share content, but it remains unclear if this is a necessary feature or a gimmick. There has been speculation that Facebook needs to develop new mobile revenue sources and more control over its mobile products as users spend more time on mobile devices.\\n\\nThe news comes as Google closed its acquisition of Motorola Mobility, increasing the pressure on Facebook to make a move. Many tech experts believe a Facebook phone would be a bad idea due to the company's lack of experience in hardware and low profit margins in the industry.\",\n",
       " \"A mother and daughter, Kim Milhano (28) and Susan Scott-Williams (51), shared a joint wedding ceremony with their partners. The idea was suggested by their partners and after months of planning, they had a combined celebration at a hotel near their home in Bristol. \\n\\nKey highlights of their unique wedding include:\\n\\n- The mother and daughter wore matching bridesmaid dresses but had separate dresses.\\n- The pair shared the ceremony and reception with their respective partners, with a combined guest list of 180 people.\\n- They managed to save £2,000 (about a quarter of the total cost) by having a joint wedding instead of two separate ones.\\n- Kim and her husband Carlos had been engaged for eight years before finally getting married, while Susan married her partner Barry after rekindling the romance.\\n- The couple's children and grandchildren played a key role in the wedding, with Kim's kids serving as flower girls and page boys, and Susan's grandchildren also participating.\\n- The joint wedding\",\n",
       " 'Ipswich Town is close to signing goalkeeper Paddy Kenny on loan from Bolton Wanderers until the end of the season. Kenny, a 36-year-old experienced keeper with 7 caps for the Republic of Ireland, has failed to make a first-team appearance for Bolton since joining them last summer. Ipswich manager Mick McCarthy seeks a temporary replacement for injured goalkeeper Dean Gerken. Kenny is expected to undergo a medical before completing the move, having previously played for Leeds, Sheffield United, and QPR.',\n",
       " \"A viral YouTube video showcases a small dog in Japan's Kobe that found a creative way to pass the time during the summer. The dog plays fetch with an orange ball in a stream, picking it up, throwing it in the water, and then chasing after it, jumping from stone to stone. When the ball floats too far, the dog retrieves it by putting a paw in the water and doggy-paddling back to the shore. This entertaining video has garnered over a million views and demonstrates the dog's determination and resourcefulness.\",\n",
       " \"Sebastian Vettel, a three-time Formula One world champion, believes his Red Bull team is in better shape than last year. The team is hoping to repeat their 2012 success and has focused on improving their car, with some advancements made after the 2012 season. Vettel remains motivated and expects the 2013 season to be close, with multiple drivers competing for wins, similar to the unpredictable start of the 2012 season. He emphasizes the importance of consistency and scoring points in every race to be a title contender, and is currently prioritizing Red Bull's preparation for the upcoming Australian Grand Prix.\",\n",
       " \"**Girl Leaves with Horrific Scars After Dog Mauled Her Face**\\n\\nTwelve-year-old Georgia Sigourney was left with severe facial scars after her friend's Siberian Husky attack. The dog, named Dakota, suddenly flipped and clamped its jaw down on Georgia's face while she was lying on the floor, causing flesh around her mouth and cheeks to tear. Georgia was rushed to the hospital and underwent 51 stitches (31 external and 20 internal) to repair the damage.\\n\\n**Key Points:**\\n\\n* The incident occurred when Georgia accidentally nudged the dog, which was sleeping behind her.\\n* Georgia was left with severe pain and is now scared of dogs.\\n* Her father, Chris, says Georgia is lucky to be alive, as the attack could have been fatal or disfiguring.\\n* The dog's owners initially claimed it was not their pet, but later gave it to the police to destroy.\\n* The case is being investigated by Cambridgeshire Police, who have\",\n",
       " 'Maria Sharapova, the world No 2 tennis player, faced a significant challenge in the Australian Open. She trailed 1-2 in the match against qualifier Alexandra Panova (world No 150) but managed to come back and win 6-1, 4-6, 7-5. Sharapova survived two match points in the decisive third set before taking the lead and sealing the victory. \\n\\nSharpova hit 51 unforced errors in the match but found a way to triumph through sheer determination. Despite a tough performance, she said that winning the match was more important. She praised Panova for her challenging play and accepted that winning despite a lackluster performance boosted her confidence.',\n",
       " \"Here are the highlights from the article:\\n\\n**Ava's Story:**\\n\\n- Ava, a 14-month-old toddler, had a rare cancer-like disease called Langerhan's Cell Histiocytosis (LCH) diagnosed at just 5 months old.\\n- She underwent 15 weeks of aggressive chemotherapy and over 100 blood transfusions to keep her body functioning, but her treatment failed.\\n- A bone marrow transplant was her best hope of beating the disease, and thanks to a 21-year-old UK donor, the transplant was successful.\\n\\n**Disease Details:**\\n\\n- LCH is a rare disease affecting 1 in 250,000 children in the UK each year.\\n- It's a cancer-like disease treated with chemotherapy, and the cause is unknown.\\n- Symptoms include swollen lymph glands, poor appetite, bone pain, skin rash, ear discharge, breathing difficulties, and jaundice.\\n- The condition has an 80-90% survival rate.\\n\\n**Recovery and\",\n",
       " 'A group of Heath Ledger fans has launched a petition to retire the Joker character from future Batman movies, citing Ledger\\'s iconic and chilling performance as the ultimate interpretation. \\n\\nThe petition, found on the website \"The Ultimate Joker,\" has garnered 2,431 supporters so far. The site\\'s leader, Fer Barbella, aims to reach 50,000 signatures, after which they may present the petition to Warner Brothers studios. \\n\\nHeath Ledger\\'s performance as the Joker in \"The Dark Knight\" left a lasting impression on fans and critics alike, earning him a posthumous Oscar nomination for Best Supporting Actor and multiple award wins. The fans behind the petition believe that no one can surpass Ledger\\'s portrayal of the character and want to honor his memory in this way.',\n",
       " 'Here are the key highlights from the article:\\n\\n- An American Airlines flight, AA65, from Zurich to New York made an emergency landing at Heathrow Airport in London due to a cracked windscreen.\\n- The plane was around 45 minutes into its journey when the emergency was declared and landed safely at 11:30 am local time.\\n- Ground staff will attempt to replace the windscreen, and passengers may be rebooked on other flights to complete their journey to the US.\\n- The plane is expected to depart from Heathrow again around 1:30 pm after refuelling and a new windscreen replacement.\\n- Passengers were alarmed by the rapid descent, with some social media users speculating that the plane would land at Gatwick Airport instead of Heathrow.',\n",
       " \"Here's a summary of the key points from the article:\\n\\nStoke City goalkeeper Jack Butland is eager to regain his place in the starting lineup after returning from a loan spell at Derby County. He has been restricted by Asmir Begovic since 2012, forcing him to spend time on loan to get match experience. Butland now aims to compete with Begovic for first-choice goalkeeping duties as he prepares for the European Under-21 Championship in the Czech Republic.\\n\\nButland shares his enthusiasm about England Under-21 manager Gareth Southgate's contract extension, believing it shows their team's growing confidence and positive squad dynamic. This added motivation, combined with the squad's team spirit, may push Butland to achieve his goal and make a strong showing in the upcoming European Under-21 Championship.\",\n",
       " \"On a single day in Afghanistan, five Australian soldiers lost their lives in two separate incidents. \\n\\n1. **Green-on-Blue Attack**: A shooter in an Afghan National Army uniform killed three Australian soldiers at a base in Uruzgan province, wounding two others. The shooter escaped by scaling a fence.\\n\\n2. **Helicopter Crash**: Another two Australian soldiers were killed when their helicopter crashed in Helmand province, while trying to land. The cause is unclear, but enemy action is not suspected.\\n\\nThese incidents marked Australia's deadliest day in Afghanistan, with a total of 14 NATO troops killed this month due to 'green-on-blue' attacks. The rise in such incidents has led to increased precautions among allies, with US forces now carrying loaded weapons at all times. The incident marks a significant blow to morale, with Australian troops set to withdraw from the country ahead of schedule.\",\n",
       " 'The article highlights Richard Sherman\\'s crucial play in the NFC Championship game, where he deflected a pass intended for San Francisco\\'s Michael Crabtree, allowing his teammate Malcolm Smith to intercept the ball and seal Seattle\\'s 23-17 win. \\n\\nSherman\\'s deflection and subsequent celebration, including a taunt towards Crabtree and a verbal rant on live TV, stole the show. He reinforced his claims by calling himself the best corner in the game and labeling Crabtree as a \"mediocre\" receiver. \\n\\nThe game was a high-scoring match-up with several pivotal moments for the Seattle defense. During the fourth quarter, they forced three turnovers, including two sacks and a fumble recovered by Michael Bennett, and an interception by Kam Chancellor.',\n",
       " 'Here are the article highlights:\\n\\n- Dave Styles, a 30-year-old big cat handler, returned to work at Australia Zoo after nearly being killed by a 114kg tiger, Charlie, in November.\\n- The tiger used Styles as a \"teething toy\" and caused puncture wounds to his neck and shoulders.\\n- Styles had been working with big cats for over 9 years and even raised Charlie from a cub.\\n- Despite the attack, Styles still loves big cats and is focused on their conservation.\\n- Charlie was not euthanized but had been seen interacting calmly with other handlers after the attack, showing he wasn\\'t being vicious but rather overly excited.\\n- Styles received support from around the world during his recovery and is now \"thrilled to be back\" working with the tigers at the zoo, including Charlie.',\n",
       " \"In a major breakthrough, US House and Senate negotiators have reached an agreement on a $662 billion defense authorization bill, aiming to address concerns from the White House about detainee language and potential vetoes. Key highlights of the agreement include:\\n\\n1. **Additional language to protect civilian law enforcement**: The bill clarifies that nothing in the new detainee rules will interfere with civilian law enforcement's ability to carry out investigations and interrogations in the US.\\n\\n2. **National security waiver for the President**: The bill includes a waiver for the President to transfer suspects from military to civilian custody, providing more flexibility.\\n\\n3. **Tough sanctions on Iran's Central Bank**: The bill includes sanctions aimed at punishing Iran for its nuclear program, which received broad support in Congress and is expected to pressure Iran.\\n\\n4. **New restrictions on Pakistan**: Lawmakers have added provisions to ensure Pakistan is not involved in manufacturing or transporting improvised explosive devices for use in Afghanistan.\",\n",
       " '**Local Woman Receives Payout After Being Told to Stop Breastfeeding at Leisure Centre**\\n\\nSophie Howes, a 27-year-old mother, was asked to stop breastfeeding her eight-month-old daughter Connie at a leisure centre in Kent because a lifeguard was \"offended.\" The centre manager, Kim Walters, intervened and told Howes to move to the changing room to continue feeding her daughter.\\n\\n**Key Highlights:**\\n\\n1. **Discrimination Claim:** Sophie Howes claimed the centre had breached the Equality Act 2010, which protects breastfeeding mothers from discrimination.\\n2. **Payout:** The centre, Ashford Leisure Trust, agreed to an out-of-court settlement with Howes after admitting that staff made her feel \"embarrassed\" and \"humiliated.\"\\n3. **Support for Breastfeeding:** Ashford Leisure Trust now fully supports breastfeeding at its sites and recognizes the legal rights of mothers to do so.\\n4. **Staff Training:** The centre has promised to train its',\n",
       " \"The article highlights the following:\\n\\n1. **Sale of powerful stun guns on eBay**: A Mail on Sunday investigation found that powerful stun guns, disguised as torches, were being sold on eBay that are capable of delivering an electric shock five times more powerful than a police Taser.\\n\\n2. **Danger to public safety**: The stun guns can paralyze victims instantly, leave them in excruciating pain, and have been linked to brain damage and even death in some cases.\\n\\n3. **eBay's failure to address the issue**: Despite the website claiming to ban the sale of illegal weapons, the Mail on Sunday was able to buy three illegal stun guns and two pepper sprays within minutes, with the packages arriving from Poland, Lithuania, Italy, and the US.\\n\\n4. **Investigation and response**: The Metropolitan Police launched an investigation into the eBay stun guns, and eBay removed the listings from its website before they reappeared just hours later.\\n\\n5. **MPs' concerns**: Tory MP\",\n",
       " \"Here are the article's highlights:\\n\\n- The US is deploying an additional 350 troops to protect the American Embassy in Baghdad and its support facilities due to growing concerns about an ISIS attack.\\n- The deployment follows a request from the State Department and a review by the Defense Department.\\n- This move increases the total number of US forces in the country to over 1,000.\\n- The new troops will not be part of a combat role and are primarily for diplomatic security.\\n- The troops will be from the Army and Marines, with 820 currently assigned to augment security in Iraq.\\n- The deployment aims to replace 55 troops in Baghdad who will be redeployed outside Iraq and will be accompanied by medical personnel, helicopters, and an air liaison team.\\n- The US has also conducted 114 airstrikes in Iraq, including one near Mosul Dam on Monday that destroyed 16 armed vehicles.\",\n",
       " \"Three young blind individuals from Arizona have made a remarkable achievement by completing the challenging Alcatraz Invitational Swim in San Francisco, California. The event required them to swim 1.25 miles from Alcatraz Island to the mainland. \\n\\nMax Ashton, 17, was the first to finish in over 50 minutes, guiding him were his 24-year-old supporters Mike and Paul Tiffany. \\n\\nNotably, this is not Ashton's first impressive feat, as he earlier climbed Kenya's Mount Kilimanjaro at 13 and crossed the Grand Canyon at 14.\\n\\nTwo others who braved the swim were Tanner Robinson, 24, who crossed the finish line in over an hour and 16 minutes, and Katie Cupp, 19, who finished in one hour and 24 minutes.\\n\\nThese remarkable individuals hope to show the world that the blind can achieve anything a sighted person can do.\",\n",
       " 'Here are the highlights from the article about Jane Lynch:\\n\\n**Career:** \\n- Jane Lynch plays Sue Sylvester in the hit TV series \"Glee,\" winning her critical acclaim and several awards, including a Screen Actor\\'s Guild Award, Golden Globe Award, and Primetime Emmy Award.\\n- She starred in various other movies and TV shows, including \"Best in Show,\" \"Wreck-It Ralph,\" and \"Saturday Night Live.\"\\n\\n**Personal Life:**\\n- Lynch married Dr. Lara Embry in 2010 and has daughters Haden and Chase.\\n- She co-authored an audio book \"Elfbot\" with her daughter Haden and friends, aiming to start a new holiday tradition.\\n\\n**Family Involvement in Showbiz:**\\n- Lynch expressed excitement and nerves about her daughter Haden getting into show business, emphasizing the importance of her own path and how she wants her kids to find their own way in life.\\n- Her family\\'s involvement in the audio book \"Elfbot\" makes',\n",
       " 'A recent study by Cambridge University academics has revealed the vast amount of personal information that can be obtained from analyzing Facebook user data. Here are the key highlights:\\n\\n* Researchers analyzed data from 58,000 Facebook users and were able to predict sensitive information such as:\\n  - Male sexual orientation with 88% accuracy\\n  - Racial identity with 95% accuracy\\n  - Religion and politics with 80% accuracy\\n  - Personality types and emotional stability with accuracy ranging from 62-75%\\n* Even users who did not openly identify as such were accurately identified in some cases (e.g., less than 5% of gay users were connected to gay groups)\\n* The study\\'s methods were not complicated and could be easily replicated by companies to gain more accurate information.\\n* The study also found unusual correlations between online behaviors and traits (e.g., liking \"curly fries\" is associated with higher IQ, and liking a specific Facebook page is associated with lower drug usage).\\n* The findings',\n",
       " \"Here are the article highlights:\\n\\n**Australia:** A third rescue operation in two weeks occurred in the waters between Australia and Indonesia, with 162 passengers being plucked from a distressed boat. However, authorities have not confirmed if the passengers were seeking asylum.\\n\\n**Global Asylum Seeker Issue:** The issue of asylum seekers has become a divisive and politically charged topic, with wealthy nations like Australia and the US hesitant to welcome refugees.\\n\\n**Statistics:**\\n\\n- Eighty percent of the world's refugees are hosted in developing countries, with Pakistan hosting 1.7 million refugees, followed by Iran and Syria.\\n- 17% of refugees live outside their region of origin, mainly in countries with available immigration channels.\\n- Major destinations for asylum seekers include South Africa, the US, France, Germany, and Italy.\\n- Asia is the leading continent of origin for asylum seekers (45%), followed by Africa (27%), Europe (15%), and the Americas (8%).\\n\\n**UNHCR's Report:** A \",\n",
       " 'Here are the article highlights summarized in clear and concise language:\\n\\nA group of high-profile individuals, including former US President Jimmy Carter and musician Sting, has sent a letter to UK Prime Minister David Cameron urging him to reconsider the country\\'s drug laws. The group, which also includes Yoko Ono, Nobel Prize winners, and several British MPs, suggests that the UK\\'s \"war on drugs\" is causing more harm than good.\\n\\nThe letter argues that the estimated £285 billion spent annually on drugs could be better spent on measures to minimize the harm caused by the drug trade. The signatories, led by Countess of Wemyss, claim that legalizing drug use could prevent thousands of deaths associated with the black market trade.\\n\\nKey supporters of the proposal include:\\n\\n- Countess of Wemyss, leading the initiative\\n- Former US President Jimmy Carter\\n- Musician Sting\\n- Yoko Ono\\n- Businessman Sir Richard Branson\\n- Professor AC Grayling\\n- Professor David',\n",
       " \"Former England rugby player Paul Sackey believes England national team coach Stuart Lancaster should start fly-half Danny Cipriani in the Six Nations tournament. Sackey, a former teammate of Cipriani's, says that Cipriani is the most skilled attacking player in the England team and would be a great asset due to his pace and passing accuracy. Cipriani was expected to be on the bench for the opening match against Wales, but Sackey thinks he deserves to start and potentially reignite his career.\\n\\nSackey emphasizes that Cipriani's recent form with the Sale Sharks club has made him a strong contender for the position. He also notes that the team's midfield is still uncertain, with several options, including George Ford, Luther Burrell, and Billy Twelvetrees, competing for spots. However, Sackey believes that if England can solidify their midfield, they will pose a significant threat to opponents.\\n\\nIn summary, Paul S\",\n",
       " \"**Woman Abandoned in Hospital Waiting Room Identifies After 3 Years**\\n\\n* A 68-year-old woman, identified as Edith Allen, was found abandoned in an Alabama hospital waiting room in August 2010, wearing an adult diaper and hospital gown.\\n* Despite the medical staff caring for her, they were unable to identify her due to her lack of identification and inability to speak, leading to a three-year search.\\n* The investigation revealed that her carer, Cathy Jean Thomas, had been receiving over $25,000 in Allen's social security checks, which she used for personal benefits.\\n* Thomas, 59, has been charged with identity theft and is being held on a $50,000 bond.\\n* A tip from a non-profit group, LostNMissing, led authorities to Thomas, and consequently, to Allen's identity.\\n* Allen's medical bills have built up to $200,000 over the past three years due to her inability to qualify for Medicaid due to not having\",\n",
       " \"Here are the highlights from the article:\\n\\nRolls-Royce has unveiled a unique, one-off limousine called the Celestial Phantom, designed to celebrate the 10-year anniversary of the Phantom model. The luxury car features a starry night sky replica on its roof, achieved with over 1,000 fibre optic lights, and a team of designers spent nine months perfecting it. \\n\\nThe car's exterior is painted with a color scheme that evokes the night sky, and its interior features leather seats in a 'dusk' hue. The clock in the car is decorated with diamonds, adding to the luxurious features.\\n\\nThe Celestial Phantom is the first car to leave Rolls-Royce's West Sussex factory under the BMW regime, which took over the company. The car's 6.75-liter V12 engine produces a significant amount of power, with a 0 to 60mph time of 5.8 seconds and a top speed of 150mph.\\n\\nThe car\",\n",
       " \"Here are the highlights from the article about the 100-year-old identical twin sisters Marjorie Gilbert and Winifred Witt:\\n\\n- Identical twin sisters Marjorie Gilbert and Winifred Witt from Cwmbran, South Wales, turned 100 years old on the same day, a rare occurrence, making them one of just 15 sets of twins worldwide to achieve this milestone.\\n- The twins are inseparable and have lived together for most of their lives, even still sharing a nursing home.\\n- They were born in 1913 and grew up sharing clothes, books, and a bed, and remained so close that their own children and families would often treat them as one.\\n- After marrying at 21 and having children, they deliberately moved their families to live together during World War II, solidifying their bond.\\n- After their husbands passed away in 1992, they resumed living together, enjoying activities like playing bingo until they were 95 years old.\\n- The twins'\",\n",
       " '**Article Highlights:**\\n\\nHospitals in Aurora, Colorado, received multiple victims after a shooting at a movie theater on Friday. \\n\\n- **Tragic Events**: The shooting resulted in multiple casualties with reports of at least a few hundred rounds fired by a single gunman using a 100-round rifle magazine.\\n- **Denver Health Hospital**: The emergency department received 7 victims and activated a \"mass casualty situation,\" coordinating transport logistics to avoid hospital overloading.\\n- **Staff Response**: Hospitals like Denver Health, Aurora South, and Swedish Medical Center prepared for the influx of patients, having conducted regular drills anticipating such a scenario.\\n- **Injured Patients**: At Denver Health, 5 patients were transferred from another hospital and survived. At Aurora South, 18 patients were treated, including 12 gunshot victims, with some in critical condition.\\n- **Staff Training**: Medical professionals, including experienced physicians and surgeons, treated patients while also dealing with a traumatic situation.\\n- **Team Response**: Hospitals coordinated closely to',\n",
       " \"Here are the highlights from the article:\\n\\n**Intermittent Fasting's Rise to Popularity**\\n\\nThe 5:2 diet, a method of intermittent fasting, has gained popularity worldwide with the support of health experts and celebrities, including Beyoncé. Proponents claim it improves cognitive function, increases insulin sensitivity, and may guard against conditions like dementia and diabetes.\\n\\n**Drawbacks of Traditional Fasting**\\n\\nFasting for a few days a week requires counting calories, which can be challenging and tedious, particularly when limiting daily intake to 500-600 calories.\\n\\n**Introduction of LighterLife Fast Packs**\\n\\nTo alleviate the difficulties of fasting, LighterLife has introduced a range of nutritionally complete meal packs designed for 5:2 fasting days. These packs are available exclusively at Superdrug high street stores.\\n\\n**Key Features of LighterLife Fast Packs**\\n\\n* Nutritionally complete meals and snacks in various flavors (e.g., chocolate shakes, vegetable soup, snack bars)\\n* Convenient, just-add-water\",\n",
       " \"Here are the article's highlights:\\n\\n1. **Pipe retrieval delay**: The removal of drill pipe from inside the Macondo oil well's blowout preventer is taking longer than expected due to a buildup of hydrates that temporarily jammed the cap.\\n\\n2. **Removal of old blowout preventer**: Once the drill pipe is removed, the old blowout preventer will be replaced with a new one from the nearby ship, Development Driller II.\\n\\n3. **Continued state of emergency**: Certain Florida counties, including seven in the Panhandle, will remain under a state of emergency to qualify for economic aid due to the ongoing spill.\\n\\n4. **Haunting uncertainty**: The condition of a third, longer piece of drill pipe is unclear, which may affect the progress of the operation and lead to a potentially complex solution.\\n\\n5. **Missed timelines**: Due to the uncertainty surrounding the third pipe, Thad Allen, the lead coordinator for the US response, hesitates to give\",\n",
       " '**Shocking Abuse of Child Victims in Court**\\n\\nA harrowing trial in 2011 at Stafford Crown Court saw vulnerable child victims of a sex grooming gang being subjected to aggressive questioning by defense lawyers. The victims, some as young as 13, were grilled for 12 days, reliving their traumatic experiences. \\n\\n**Inhumane Treatment of Victims**\\n\\n* One victim was accused of lying and being \"naughty\" by a lawyer.\\n* Another victim was forced to read out her police statement detailing alleged abuse by her stepfather, even though she had withdrawn the allegations.\\n* The victims suffered from psychological distress, with one breaking down in tears.\\n\\n**Judge\\'s Outrage**\\n\\nJudge Robin Onions described the trial as \"shocking\" and \"apalling,\" stating he felt like he\\'d been \"hit over the head with a hammer.\"\\n\\n**Reaction from Authorities**\\n\\n* Keir Starmer, Director of Public Prosecutions, proposed pre-recorded cross-examination sessions to avoid similar treatment in',\n",
       " 'A Paris judge has ordered the seizure of luxury goods worth over £11 million from Saudi Princess Maha Al-Sudairi to settle her debts, including unpaid bills from a £5.5 million stay at the Shangri-la Hotel. \\n\\nKey highlights of the case include:\\n\\n- The Princess failed to pay her £5.5 million bill at the Shangri-la Hotel after occupying an entire floor with 60 servants for six months.\\n- She claimed diplomatic immunity when King Abdullah refused to pay her bill, and later moved to the Royal Monceau Hotel.\\n- The Princess has run up unpaid bills of over £14 million in France since 2009 and is known to have used \"payment to follow\" notes, which were often accepted due to her wealthy credentials.\\n- She has been implicated in looting luxury goods from shops, including £100,000 worth of stock from the Key Largo leisure wear store.\\n- A judge has ordered the sale of contents from three storage units',\n",
       " 'Comedian Gilbert Gottfried comments on the backlash comedian Daniel Tosh received after making rape jokes at one of his stand-up shows. \\n\\nThe Controversy surrounding Daniel Tosh: \\n- Tosh made rape jokes during a show, sparking outrage online.\\n- A woman called out the jokes from the audience, saying \"rape jokes are never funny.\"\\n- Tosh allegedly replied, \"Wouldn\\'t it be funny if that girl got raped by like five guys right now?\"\\n\\nGilbert Gottfried\\'s Perspective:\\n- As a comedian, Gottfried thinks people should be able to gauge what they find funny and laugh or show their discomfort accordingly.\\n- He shares his own experiences of performing comedy after 9/11, making jokes about terrorism and aftermath, and after a tsunami in Japan.\\n- During these times, Gottfried received backlash, but was able to recover without losing his TV show.\\n- He argues that comedians often face criticism for pushing boundaries and finding humor in serious topics.\\n\\nMain Takeaway',\n",
       " \"The article discusses how California's ongoing drought has severe consequences, particularly in rural communities and farmland, but has inadvertently sparked a modern-day Gold Rush. \\n\\n**Key Points:**\\n\\n- The drought in California has exposed previously inaccessible areas, making it easier for prospectors to search for gold.\\n- The dry conditions are estimated to be as bad as during the 1977 drought.\\n- A beginner prospector can make around $5-$200 per day, thanks to low water levels.\\n- Modern prospectors are discovering gold in areas that were previously untouched by the 1849 Gold Rush participants.\\n- The prolonged drought has caused a serious economic impact on farmland, with ten rural communities at risk of running out of water within 60 days.\\n- California has received only 1.2 inches of rain in Los Angeles since July, leading to concerns of traffic accidents and mudslides with the upcoming rain.\\n- A storm is predicted to hit the Los Angeles area this weekend, which could put an end\",\n",
       " \"Here are the article's highlights summarized:\\n\\nA sinkhole has formed at Pembroke Dock war cemetery in Wales, swallowing the grave of Private Ryan, a soldier who died in 1915 during World War I. The 20-foot-deep and 6-foot-wide hole was caused by heavy rain that shifted the limestone beneath the coffin.\\n\\n- The Ministry of Defence (MoD) is attempting to fill the sinkhole without exhuming the remains.\\n- Five other graves are at risk of falling into the sinkhole, including those of five other soldiers.\\n- The cemetery, Wales' only military graveyard, is closed temporarily while work is carried out to ensure the graves are safe.\\n- The MoD has been unable to find living relatives of Private Ryan to notify them of the situation.\\n- The cemetery will reopen by the end of March after the sinkhole is filled, in time for a service to mark the centenary of World War I in August.\\n- The incident is a major concern for the\",\n",
       " 'Here are the highlights from the article:\\n\\n- Patrick Rock, a key advisor to the Prime Minister, has been arrested on suspicion of child porn offenses.\\n- Rock, a 62-year-old senior figure in David Cameron\\'s inner circle, was a fellow Tory adviser in John Major\\'s government.\\n- He resigned from his position at Number 10, the UK government\\'s official residence, after the National Crime Agency (NCA) was called in to investigate a potential offense, but the reason for his resignation was not publicly disclosed.\\n- Rock was arrested almost three weeks ago, but the arrest was kept secret until details were leaked to the press.\\n- His relative, Simon Rock de Besombes, claims that Rock\\'s resignation and arrest could be the result of \"revenge or jealousy\" and maintains that Rock is \"to date, innocent.\"\\n- The government has faced criticism over why it took three weeks for the arrest to be made public, and Labour is demanding an investigation into the timing of the arrest',\n",
       " \"The Tour de France is rolling into Yorkshire, UK, bringing a £100 million boost to the local economy. Locals are showcasing their entrepreneurial spirit by renting out homes and gardens along the route, with some charging up to £10,000. Hotels have seen a significant increase in room rates, and farmers' fields and village pitches have been transformed into campsites and car parks.\\n\\nThe county has invested £6 million in road repairs to ensure a smooth journey for the cyclists. However, some residents have criticized the lack of attention given to roads in poor condition. Cyclist Marcel Kittel has expressed concerns about the narrow roads, but the event is expected to be a huge success.\\n\\nA variety of creative preparations are underway, including:\\n\\n* A handmade Eiffel Tower in Burley-in-Wharfedale\\n* A model of a cyclist on a house in North Stainley\\n* The Bank View Cafe in Langsett repainted in the colors of the King of the Mountains jersey\\n*\",\n",
       " 'Frank Cramp, a 94-year-old Royal Marine veteran, has been awarded his second green beret after he mistakenly gave his original one away 60 years ago. \\n\\nKey Points:\\n\\n- Frank Cramp, a veteran of D-Day, single-handedly took out a German machine-gun post during the Normandy landings in 1944.\\n- He gave up his first green beret when he left the army in 1954, unaware he was allowed to keep it.\\n- After six decades, Frank was finally given a new green beret as a replacement by the Navy as a token of recognition.\\n- The ceremony took place on Dartmoor, Devon, where modern-day Royal Marines receive their green berets.\\n- Frank Cramp was praised by Lt Col Richard Cantrill, Commanding Officer of 42 Commando, for his bravery and selflessness.\\n- The Royal Marines Association was instrumental in re-presenting Frank with the recognition he deserved.',\n",
       " \"Here are the article highlights in brief:\\n\\nThe Marussia Formula One team has concluded its investigation into the test crash that left Maria de Villota with serious injuries, including the loss of her right eye. \\n\\nKey points:\\n\\n* The team ruled out a mechanical fault in the MR01 car as the cause of the crash.\\n* Multiple investigations were conducted by the team, the Health and Safety Executive (HSE), and an external forensic body.\\n* The team has finished its investigation and is focusing on supporting Maria de Villota's recovery.\\n* The team will continue its preparations for the German Grand Prix, taking place on the weekend.\\n\\nOverall, the team has absolved the car as the cause of the unfortunate incident but is now shifting its focus to Maria's wellbeing.\",\n",
       " \"The key highlights from the article are:\\n\\n1. Sporting Gijon is expected to lose striker Stefan Scepovic to Celtic in a deal worth less than the originally asked £3.2 million.\\n2. The Serbian striker didn't play for Sporting Gijon recently to avoid getting injured and affecting the negotiations.\\n3. The club needs to sell Scepovic urgently and is expected to accept a lower offer from Celtic within the next 72 hours.\\n4. Celtic manager Ronny Deila is also set to finalize a loan deal for Rubin Kazan winger Wakaso Mubarak, who could join the team this week.\",\n",
       " \"Middlesbrough are on the verge of signing Genk's 25-year-old striker Jelle Vossen for around £5 million. However, Genk is holding out for the full price, while Middlesbrough wants to pay less.\\n\\nAdditionally, Middlesbrough has welcomed back Nigerian centre-back Kenneth Omeruo on a loan from Chelsea, with Omeruo citing his positive experience with the team's manager Aitor Karanka and the club's atmosphere as reasons for returning.\\n\\nThe signings come at a time when Middlesbrough is in need of a goal-scorer, with their previous six strikers failing to reach double-digit goal totals last season.\",\n",
       " \"Here are the highlights from the article about The Players Championship at TCP Sawgrass:\\n\\nMartin Kaymer wins his first tour triumph since 2011 after overcoming adverse weather conditions and a tough finish. He trailed for a brief period on Sunday, but regained his lead with a clutch putt on the 17th hole and secured a 13-under-par one-shot victory.\\n\\nJim Furyk came in second, while Jordan Spieth finished tied for fourth after carding his first bogey of the week on the fifth hole and struggling with his game for the rest of the round. \\n\\nThe victory secures Kaymer's first win in over a decade and earns him a prize of $1.8 million.\",\n",
       " \"The article highlights the following key points:\\n\\n* Britain's aid spending increased by 28% in 2013, making it the largest jump among European countries.\\n* The UK's aid budget rose to £10.6 billion, placing it second only to the US, with the US spending £18.9 billion on overseas aid.\\n* Britain achieved its target of spending 0.7% of its GDP on overseas development.\\n* Despite the increase, Germany, France, and Russia had lower aid spending ratios at 0.38%, 0.41%, and 0.03% respectively.\\n* The Organisation for Economic Co-operation and Development (OECD) expressed concern over declining aid spending in sub-Saharan Africa, while countries like China and India experienced rising aid budgets.\",\n",
       " \"The results of the Reader's Digest annual trust rankings survey have been released. Here are the highlights:\\n\\n* Malcolm Turnbull ranks 69th, 10 spots ahead of Prime Minister Tony Abbott, who ranks 79th.\\n* Opposition leader Bill Shorten is joint 81st with Nationals MP Barnaby Joyce.\\n* Neurosurgeon Charlie Teo remains the most trusted individual for the second consecutive year.\\n* Paramedics remain the most trusted professionals for the 10th year running, followed by firefighters, rescue volunteers, nurses, and doctors.\\n* Business leaders have mixed results, with billionaire James Packer ranking 85th and electronics entrepreneur Dick Smith ranking 10th.\\n* Convicted drug smuggler Schapelle Corby ranks 99th and her sister Mercedes ranks 100th as the least trusted Australians.\",\n",
       " \"The article discusses the debate on gun control and background checks in the US, following various mass shooting incidents. Here are the highlights:\\n\\n**Background Checks and Their Limitations**\\n\\n- Over 90% of Americans support background checks, particularly at gun shows.\\n- Background checks did not prevent mass shootings in Newtown, Aurora, Tucson, and Virginia Tech.\\n- The National Instant Criminal Background Check System (NICS) missed potential gun buyers, including the gunman in Tucson.\\n\\n**Notable Shooting Cases**\\n\\n- Newtown: Adam Lanza used legally purchased guns, and background checks were not conducted on his mother's firearm purchases.\\n- Aurora: James Holmes purchased guns legally, despite his name being submitted to NICS.\\n- Tucson: Jared Loughner's application was not flagged due to a system mistake.\\n- Virginia Tech: Seung-Hui Cho was deemed mentally ill by a judge, a disqualifying factor, but the background check system failed to identify him.\\n\\n**Current Proposals and Controversies**\\n\\n\",\n",
       " 'Here are the article\\'s highlights:\\n\\n- Hackers claiming to be from the group Anonymous threatened to release sensitive information about the US Department of Justice in response to the death of Internet activist Aaron Swartz. \\n\\n- Swartz, 26, had faced federal computer fraud charges that could have resulted in 35 years in prison.\\n\\n- The hacker group claims the justice system is responsible for Swartz\\'s death and threatened to release \"embarrassing information\" to news outlets if the system isn\\'t reformed.\\n\\n- Anonymous hacked the website of the US Sentencing Commission and posted a lengthy, eloquently written message signed \"Anonymous.\"\\n\\n- The FBI confirmed it is investigating the threat and considers it a crime.\\n\\n- Anonymous also accused the FBI of infiltrating its ranks and criticized the federal government\\'s \"highly disproportionate sentencing.\"\\n\\n- The hacking incident temporarily brought down the US Sentencing Commission\\'s website, but it was restored later the same day.\\n\\n- The hacktivists created \"warheads\" (chunks',\n",
       " \"Highlights from the article are as follows:\\n\\nA 9-year-old boy named Hector Montoya was initially saving for a PS4 gaming system but decided to spend his $300 to purchase smoke detectors after hearing a tragic story about a fire that claimed the lives of a mother and child due to no smoke detector.\\n\\nWith the help of the Grand Prairie Fire Department, Hector installed over 100 smoke detectors in the homes of needy residents, mostly the elderly.\\n\\nHector's act of kindness inspired his new friends, siblings Ashton and Peyton Harder, to buy him a PS4 as a thank-you gift. They drove 45 minutes from Dallas to deliver the gift, along with $150, to continue Hector's mission.\\n\\nDespite initially giving away his gift money, Hector was overjoyed with the kind response and expressed his intention to continue saving and donating to those in need of smoke detectors.\",\n",
       " 'The UK census is set to transition to an online format to save taxpayers around £400 million. The change comes with the next census in 2021. The online census will:\\n\\n- Replace paper forms with online submissions, with paper forms available for those unable to use technology.\\n- Hire enumerators with iPads to assist those struggling with the online format.\\n- Use tax and NHS records to fill gaps and keep population estimates up-to-date between censuses.\\n\\nKey points from the article include:\\n\\n-  The move requires new legislation to use publicly-held data for the census, which raises concerns about personal privacy.\\n- The 2011 census showed 94% participation and detected an extra 500,000 immigrants. \\n- Cabinet Office Minister, Francis Maude, aimed to reduce costs by reforming the census, with an estimated £1 billion expense for a repeat paper-based census in 2021.\\n- The online approach could be implemented for £625 million.\\n- A backup survey of 4',\n",
       " \"A California police officer, Laura Weintraub, has been placed on administrative leave after a video she posted to YouTube sparked controversy. The video, part of her 'Cup Holder Commentary' series, expresses her hatred towards bicyclists. In the video, she asks her husband how much he would have to be paid to run over a cyclist and ends with an image of a 2008 bike crash in Mexico that killed one person and injured 10 others. The video gained attention from her supervisors, and her department, the Santa Paula Police Department, placed her on leave pending an investigation. A second reserve officer was also placed on leave for responding to comments on the department's Facebook page. The video was removed from Weintraub's YouTube channel, but a copy remains online.\",\n",
       " \"**New York City Agrees to Pay $98 Million to Minority Firefighters in Discrimination Settlement**\\n\\nNew York City has agreed to pay $98 million in back pay and benefits to entry-level firefighters who claim the city's fire department used a biased entrance exam to discriminate against African-American and Latino candidates. The settlement follows a 2007 lawsuit filed by the US Department of Justice, which alleged the exam was unfair and didn't properly assess candidates for the job.\\n\\n**Key Highlights:**\\n\\n1. **Settlement:** New York City will pay $98 million to back pay and benefits to minority firefighters.\\n2. **Background:** The US Justice Department sued the city in 2007, alleging bias in the entrance exam since 1999.\\n3. **Settlement ordering:** A US district judge ordered the city to pay $128 million and hire 293 black and Latino applicants who pass the hiring process.\\n4. **Implementation:** The first groups of minority firefighters joined the FDNY in 2013\",\n",
       " '**Highlights from the Article:**\\n\\n1. **Tory plans to scrap stamp duty on properties worth up to £250,000 in Wales**: A proposal to abolish stamp duty in Wales, making home ownership more affordable for first-time buyers.\\n\\n2. **Different tax rates between England and Wales**: This move will put pressure on Chancellor George Osborne to promise the same for England, as it may make buying a home in England more expensive compared to Wales.\\n\\n3. **Cost of £20 million for Wales**: The cost of scrapping stamp duty on properties up to £250,000 in Wales is estimated to be around £20 million.\\n\\n4. **Increased house prices**: House prices in Wales are up 5.4%, London is up 11.6%, the South East is up 4.5%, and the West Midlands is up 4.4%.\\n\\n5. **Tory goal for Wales as a nation of homeowners**: Welsh Conservatives aim to make Wales a place of low tax and',\n",
       " 'Here are the key highlights from the article:\\n\\n* Ahmed Raofi, 29, an Afghan minicab driver, was jailed for 6 years for attempting to abort his unborn child with his mistress Irene Santos while she was pregnant.\\n* Raofi became enraged when Santos refused to terminate the pregnancy and hatched a plan to kill the fetus without her consent after researching online.\\n* On April 9, 2023, he invited Santos to his flat, taped her hands and feet, and forced poisonous pills into her womb.\\n* Santos miscarried a 19-week-old fetus, which showed signs of life and breathed and moved for at least 10 minutes outside the womb.\\n* The court heard that Raofi had initially tried to take Santos to an abortion clinic, but she refused, and he then planned to \\'punch the baby out\\' of her at 7 months pregnant.\\n* Judge Aidan Marron stated that Raofi \"denied a woman a much-wanted child\" and',\n",
       " \"During World War One, a unique chapter in women's football emerged when thousands of female munition factory workers formed teams. The Blyth Spartans Munitionettes from Northumberland stood out, playing beautifully and remaining unbeaten for two years. \\n\\nTheir star center-forward, Bella Raey, a coal miner's daughter, scored an impressive 133 goals in one season. The Munitionettes won the Munitionettes Cup, a knockout tournament in 1918, with a record-breaking crowd of 22,000 spectators. The team defeated Bolckow-Vaughan from Middlesbrough with Bella Rae scoring a hat-trick.\\n\\nBella Raey went on to play for England, showcasing the women's football team's skills. However, after the war, the munition factories closed, and female teams disbanded. The Football Association also banned women's football at their grounds in 1921.\",\n",
       " \"Here are the article's highlights:\\n\\n**Robot Submarine Completes First Scan**\\n\\n- The U.S. Navy's Bluefin-21 underwater drone has finished its first full scan of the Indian Ocean, collecting data to find Malaysia Airlines flight MH370.\\n\\n**Depth and Coverage**\\n\\n- The Bluefin-21 spent 16 hours scanning the seabed 4.5 km deep and covered approximately 90 square kilometers.\\n\\n**Search Efforts**\\n\\n- The search for MH370, which has been ongoing for 40 days, is now in a new phase, with the Bluefin-21 drone leading the methodical search under the Indian Ocean.\\n- Up to 10 military aircraft, 2 civil aircraft, and 11 ships continue to search an area of about 40,000 square kilometers.\\n\\n**Missing Aircraft Analysis**\\n\\n- Authorities believe the Indian Ocean, 2,000 km west of Perth, is the most likely area where the plane crashed, but so far, there have been no signs of\",\n",
       " 'David Moyes\\' return to Everton\\'s Goodison Park as Manchester United\\'s manager ended in a disastrous 2-0 defeat, dashing their chances of Champions League qualification. Everton\\'s win, their 20th under manager Roberto Martinez, marked a turning point in their season, just one point behind fourth-placed Arsenal. \\n\\nMoyes was left disappointed with his team\\'s performance, labeling their defending as \"rank and rotten,\" after they conceded two sloppy goals. Phil Jones\\' handball led to Leighton Baines\\' penalty, and Alex Buttner\\'s mistake allowed Kevin Mirallas to score from a tight angle. \\n\\nEverton dominated the midfield, while Wayne Rooney and Jonny Evans struggled against Romelu Lukaku, who caused problems for the United defense. Despite Moyes\\' attempts to put a positive spin on the loss, the season is now over for United, marking the first time in 19 years they have failed to qualify for the Champions League under a manager.\\n\\nIn contrast,',\n",
       " \"Here are the highlights from the article:\\n\\n1. Illinois Congresswoman Tammy Duckworth, a Iraq veteran, has given birth to her first child, a daughter named Abigail O'kalani Bowlsbey, two weeks after winning a second term in the U.S. House.\\n\\n2. Duckworth, 46, used assisted reproductive technology to conceive and gave birth seven weeks before her due date of December 5.\\n\\n3. Abigail's middle name O'kalani comes from Hawaiian Senator Daniel Akaka, who acted as a Hawaiian elder and friend of the family.\\n\\n4. Duckworth and her husband Bryan, a Major in the National Guard, were overjoyed with the early arrival of their baby girl.\\n\\n5. As a disabled veteran who lost both legs in a 2004 helicopter crash in Iraq, Duckworth inspires with her determination and perseverance, making history as the first disabled female veteran to serve in the House.\\n\\n6. Interestingly, Duckworth joins a group of four\",\n",
       " \"Highlights from the article include:\\n\\n1. **Pope Francis' act of compassion**: The Pope showed kindness to a severely disfigured man during a weekly audience in St. Peter's Square, embracing and blessing him, just like he did with Vinicio Riva two weeks prior.\\n\\n2. **The Pope's 'Papal' style**: Known for making personal calls, inviting the homeless to dine at St. Peter's Square, and washing the feet of young offenders, Pope Francis' actions have revitalized the Catholic Church, making a huge impact on the faithful.\\n\\n3. **Catholic congregations surge worldwide**: The so-called 'Pope Francis Effect' has seen a 20% rise in Catholic congregations in Britain, with increases reported in Europe, the US, and Latin America.\\n\\n4. **Italy's priestly support**: Half of priests in Italy have noted a significant rise in support for the Church, with youth and lapsed Catholics surging back to the confessional.\\n\\n\",\n",
       " \"**Libya Conflict Continues: 9 Soldiers Killed in Benghazi**\\n\\n Libyan government forces clashed with Islamist militants in Benghazi earlier this week, resulting in the deaths of at least 9 soldiers and 19 wounded. The attack began when Ansar al Sharia and other armed groups targeted the Benghazi security directorate headquarters. The government condemned the attack and praised the bravery of the special forces that intervened to regain control of the area.\\n\\n**Key Points:**\\n\\n- At least 9 soldiers killed and 19 wounded in Friday's fighting\\n- Ansar al Sharia and other armed groups attacked the Benghazi security directorate headquarters\\n- The United States has designated Ansar al Sharia a terrorist organization for its role in 2012's US consulate attack\\n- The security situation in Benghazi has been plagued by near daily assassinations and kidnappings targeting security forces\\n- US officials have expressed concern over Libya's instability and pledged support to the country in its fight against radical militant groups\",\n",
       " 'Here are the article highlights:\\n\\n**Far-Right Rise in Germany**: The article highlights the growing presence of neo-Nazis in the small village of Jamel in northeastern Germany. The village is predominantly settled by neo-Nazis who identify as \"free, social, and national.\"\\n\\n**Violent Extremism**: Reports have surfaced of pro-Hitler parties, vandalism, and harassment targeting non-extremist residents. Residents use guard dogs and fences to warn off outsiders, underlining their degree of isolationism.\\n\\n**NPD Connections**: The village is near the headquarters of the German National Democratic Party (NPD), a far-right organization with 5 MPs in the regional parliament and close ties to one of its members, Sven Krueger, who was jailed for possessing a machine gun and handgun.\\n\\n**Recent Trial**: The trial of Beate Zschaepe, accused of complicity in the National Socialist Underground\\'s murder of eight men, a policewoman, and a bombing campaign',\n",
       " \"The article highlights two key matches from La Liga. \\n\\nIn the first match, Atletico Madrid won 2-1 at the Bernabeu, the home stadium of their rivals Real Madrid. This was Atletico's second win in a row at the Bernabeu. They were led by goals from Tiago and Sergio dies after being down to 1-1 with Real. Real's poor performance has put them 11th in the table with just three points from three matches, while Atletico moved to second in the table with seven points.\\n\\nIn the second match, Barcelona maintained their 100% start to the season with a late victory over Athletic Bilbao, securing their third win out of three under new manager Luis Enrique. Neymar scored a brace in the final 10 minutes of the match to seal the win. Barcelona started their match in their home stadium wearing a special red and yellow kit to mark the 300th anniversary of Catalan National Day.\",\n",
       " 'Here are the highlights from the article:\\n\\n**Big Cat Sightings in Gloucestershire and Essex**\\n\\n- After a reported lion sighting in Essex, leading to a 24-hour search by police, some wildlife experts claim they have identified a shadowy beast in the Gloucestershire countryside.\\n- A photo taken by a trip camera in February 2012 appears to show a large, furry black figure sprinting through woodland, sparking speculation it could be the \"Five Valleys big cat.\"\\n- Big cat tracker Frank Tunbridge believes this image suggests big cats, possibly a puma or leopard, roam the area and says it matches similar sightings in Gloucestershire and beyond.\\n- Residents in Gloucestershire have reported seeing a large black panther-like creature, which also matches eyewitness descriptions of the Essex lion.\\n- Eventually, the Essex search found no trace of the lion, but witnesses still insist they saw a large cat, which is now believed to be a domestic cat named Teddy Bear, a 25',\n",
       " '**Scotland\\'s Largest Pedophile Ring Dismantled**\\n\\nA Scottish court has convicted eight men of child sexual abuse in what is described as the largest pedophile ring ever dismantled in Scotland. \\n\\n**Key Highlights:**\\n\\n1.  **Convictions:** Eight men were convicted of child sexual abuse-related offenses, with three also found guilty of sexually abusing young children and five conspiring to do the same to a child known as Child F.\\n2.  **Evidence Gathered:** Investigators recovered \"tens of thousands\" of child abuse images and videos, aided by international collaboration, including the FBI and Microsoft.\\n3.  **Expert Help:** The police received invaluable assistance from academics and organizations specializing in forensic techniques, such as steganalysis.\\n4.  **Sentencing:** Two men, Neil Strachan and James Rennie, may face up to life in prison, while the others will receive lesser sentences.\\n5.  **Child Abuse Network:** The investigation revealed a network of individuals',\n",
       " \"Here are the article highlights:\\n\\nHope Solo, a US women's soccer star, was arrested at her sister's house in Seattle after a domestic violence altercation. \\n\\n- Solo was at a family barbecue on June 11, arriving intoxicated and argumentative after missing a flight.\\n- The 17-year-old nephew alleges Solo physically and verbally assaulted him and his mother, hitting the nephew with a broomstick.\\n- The attack allegedly started when Solo became upset over an argument with her nephew, calling him names, including 'fat' and 'p****'.\\n- Police responded to a 911 call and found Solo intoxicated and upset, with her nephew and sister sustaining visible injuries.\\n- Solo was arrested and charged with two counts of fourth-degree domestic violence assault.\\n- Her next court appearance is scheduled for August 11.\\n- Solo's defense team maintains she was the victim in the altercation and is innocent.\\n- This is not Solo's first incident involving police, as she was involved in a similar altercation in \",\n",
       " \"A mother's frustration is revealed in an article as she recounts the struggles of allowing her 10-year-old daughter Sophie to have a love for the color pink. Despite society's perception that girls who like pink are being limited in their aspirations, the mother and daughter's story emphasizes that it's not about pink stymieing girls' development, but about allowing children to express themselves freely.\\n\\nKey highlights include:\\n\\n1. The mother's daughter, Sophie, has consistently chosen pink as her preferred color, even in the face of her family having three brothers and a more tomboyish environment.\\n2. Critics, such as the Independent Association of Prep Schools and some MPs, claim that-girls being exposed to pink leads to being confined to traditional feminine roles.\\n3. Research suggests that there is no link between the marketing of pink-toy and career aspirations.\\n4. Modern feminism has, ironically, contributed to constraining girls' identities by urging for the elimination of traditional colors like pink, highlighting the failure\",\n",
       " \"Here are the article's highlights:\\n\\n1. **Cold weather forecast**: Britain is expected to witness a deep freeze, with temperatures plunging to -8C (18F) in rural areas. This is part of a prolonged cold snap that will last throughout the month.\\n\\n2. **Snow and ice warnings**: Weather warnings have been issued for ice and snow across the country, with forecasters predicting snow in London, Surrey, and Hampshire by Thursday.\\n\\n3. **Flooding concerns**: Residents who were affected by last week's floods are warned to expect around an inch of rain, posing a risk of localised flooding and hazardous driving conditions.\\n\\n4. **Snow and winter conditions**: The UK can expect sleet, snow, and hail for most of the week, with Scotland seeing the most significant effects, including four inches of snow expected tomorrow and another four inches later in the week.\\n\\n5. **Record-breaking winter**: Many believe that Britain could be heading towards one of its coldest winters on record\",\n",
       " \"Here are the highlights from the article:\\n\\n**Prince Philip receives birthday gift from the Queen**\\n\\n* The Queen gave Prince Philip the title of Lord High Admiral of the Navy, a position that dates back to the 14th century, as a 90th birthday gift.\\n* Prince Philip received the Letters Patent in the Admiralty Boardroom at Admiralty House, where he also watched a display of precision drumming by the Royal Marines Corps of Drummers.\\n\\n**The Royal Navy's decline**\\n\\n* The article suggests that the Queen may have been concerned about the decline of the Royal Navy's strength since 1977, with a chart showing the current strength of the Navy.\\n* The number of warships in the Royal Navy has fallen dramatically over the past 30 years.\\n\\n**Prince Philip's naval career**\\n\\n* Prince Philip was a promising naval officer who had to give up his career to support the Queen after his father-in-law's health declined.\\n* He left the Navy in 1951 to become\",\n",
       " \"For the first time, U.S. public schools are expected to have more minority students than non-Hispanic white students this fall, a shift driven by growth in Hispanic children due to immigration and higher birth rates. \\n\\nHere are the key highlights:\\n\\n- Minority students, including Hispanic, black, Asian, and Pacific Islanders, will make up the majority in U.S. public schools for the first time.\\n- Hispanic students account for about one-quarter of minority students, while 15% are black and 5% are Asian and Pacific Islanders.\\n- U.S. school demographics mirror the changing nation as a whole, with the country's population expected to have more minorities than whites by 2043.\\n- The shift brings challenges like increased need for English language instruction, changing school menus, and addressing racial tension.\\n- Some schools are experiencing racial divisions, reflecting broader U.S. housing patterns, with minority students often attending under-resourced schools and facing harsher discipline.\\n- Educators emphasize the importance of\",\n",
       " 'Some remarkable moments and people throughout 2014 showcased the resilience and kindness of humanity. Here are five inspiring highlights that demonstrate gratitude and positivity:\\n\\n1.  Ibrahim Hamadto, a young Egyptian para-table tennis player, did not let a life-changing accident stop him from chasing his dreams. Despite losing both arms, he practiced diligently for three years and achieved success.\\n\\n2. Through the power of social media, several people were reunited with long-lost family members this year. Twins separated at birth used Facebook to reconnect, and a woman found her birth mother after searching online.\\n\\n3. Favorable acts of kindness were witnessed throughout the year, such as a bartender receiving a $1,000 tip, and a community raising over $22,000 for a man wrongly targeted by police due to his resemblance to a suspect.\\n\\n4. North America experienced a rare occurrence – two blood moons – giving people a rare experience.\\n\\n5. A 100-year-old woman, Ruby Holt, fulfilled her lifelong dream of',\n",
       " \"Here are the article's key highlights:\\n\\n- Raúl Castro, the brother of Fidel Castro, is expected to take over as Cuba's new president after Fidel's announcement to resign as president and commander-in-chief of the armed forces after 49 years in power.\\n\\n- Raúl Castro has been known for his ruthlessness but has also attempted to bring in more capitalism to Cuba, especially through free enterprise farmers markets.\\n\\n- He has been preparing for the transition, initiating a national debate six months ago to address high unemployment and economic concerns in Cuba.\\n\\n- Raúl Castro is seen as more down-to-earth and practical in contrast to Fidel, who is known for being more charismatic but stiff in social situations.\\n\\n- Despite a reputation for being a hard-liner early in the revolution, Raúl Castro says only the Communist Party can guarantee continuity, with the military firmly behind him.\\n\\n- As Fidel steps down, Raúl Castro is expected to introduce a more democratic society,\",\n",
       " 'Here are the article\\'s highlights:\\n\\n**Regime Status:** Leaders of the rebellion against Libya\\'s Moammar Gadhafi are in control most of Tripoli, but fighting continues. Gadhafi\\'s forces still hold some strongholds, including the Rixos Hotel.\\n\\n**Capture Claim:** Gadhafi son Saif al-Islam appeared at the Rixos Hotel, stating his father and several sisters are safe in Tripoli. He claimed to have been tricked into being thought captured by the rebels and went on to say that government forces had defeated the rebels.\\n\\n**ICC Involvement:** Gadhafi\\'s son, Saif al-Islam, who is wanted for war crimes, said, \"To hell with the ICC,\" in response to a warrant for his arrest.\\n\\n**NATO Involvement:** NATO has been providing airstrikes against pro-Gadhafi forces, and their warplanes have been seen over the city. The alliance has condemned the use of Scud missiles by G',\n",
       " \"Here's a summary of the article's highlights:\\n\\nA Delta Air Lines flight, Delta 1921, made an emergency landing at the Colorado Springs airport after the captain reported engine problems. The Boeing 757, flying from Detroit to Phoenix, experienced issues with one engine and a faulty rear wheel alarm during landing. A fire occurred in the main landing gear. Two passengers suffered minor injuries during the evacuation process, which was carried out using emergency slides from the side of the aircraft.\",\n",
       " \"Tamara Beckwith-Veroni, a 44-year-old television celebrity, was fined £900 for failing to reveal who was driving her Porsche when it was caught speeding. Beckwith-Veroni, who has appeared on various TV shows, pleaded guilty to the charge through a letter, citing that she was seven months pregnant and unsure who was driving at the time. \\n\\nShe stated that a visitor claimed to have been in the area, but not driving, and that she found it difficult to clarify the situation. \\n\\nAs a result, the court imposed six penalty points on her driver's license and ordered her to pay £175 in costs, including £85 for costs and £90 as a victim surcharge.\",\n",
       " \"Muhammad Ali, the legendary boxer, has made a significant recovery after being hospitalized over the weekend with a mild case of pneumonia. His team of doctors aims to discharge him soon. Here are the highlights from his remarkable career and life:\\n\\n- Ali won an Olympic gold medal at 18 in the light-heavyweight division.\\n- He became the world heavyweight champion in 1964 after beating Sonny Liston.\\n- Ali converted to Islam and changed his name from Cassius Clay to Muhammad Ali in 1964.\\n- He was an outspoken opponent of the Vietnam War and refused to serve in the military due to his religious beliefs.\\n- Ali retired from boxing in 1981 and was diagnosed with Parkinson's disease in 1984.\",\n",
       " \"Here are the highlights from the article:\\n\\nA video has been shared on YouTube by Alex Steel, showing a brushtail possum breaking into his kitchen in search of food. The possum, native to Australia, was distracted by a loaf of bread and refused to leave the premises despite Steel's requests. \\n\\nSteel used a wooden spoon to gently coax the possum outside, eventually nudging it in the right direction after it got stuck between a toaster and kettle. After almost three minutes, the possum finally left the kitchen with a piece of bread clutched in its paws. The video has gained over 65,000 views and has been described as the 'cutest home invasion' by some viewers.\",\n",
       " \"Mathew Vaea, the manager of the Samoan rugby team, has been fined by his village after misbehaving at the 2011 World Cup. He was ordered to provide 100 pigs as payment for tarnishing his village's honor by drinking regularly and treating the campaign like a holiday. Vaea instead paid a fine of 2,000 Samoan tala (£535) and made a formal apology to village leaders. His actions followed a damning report by Samoan captain Mahonri Schwalger, who accused Vaea of being unprofessional and distracted. The incident led to Vaea's village, Leauva'a, lowering his ceremonial title and raising a significant fine.\",\n",
       " \"**Syrian Refugee Crisis in Lebanon: Key Highlights**\\n\\n* Over a million Syrians have fled to Lebanon, making up nearly 30% of its population, due to the ongoing war.\\n* Most refugees have limited financial resources and struggle to find affordable shelter, sometimes settling for cramped and makeshift living quarters like garages without basic amenities like plumbing and electricity.\\n* The cost of renting land or shelter has increased significantly, with many families struggling to make payments.\\n* Many refugees, like Adla's family, face extreme difficulties making ends meet, leading to sacrifices in basic necessities like food and healthcare.\\n* The UNHCR reports that only 1% of Syrian refugees live in rent-free collective shelters, leaving hundreds of thousands without a stable and secure place to live.\\n* Organizations like Concern Worldwide are working to convert unused buildings into safe, rent-free housing, but more options are desperately needed to support the influx of new arrivals.\\n* The future of Syria's next generation hangs in the balance, as many families\",\n",
       " 'US federal prosecutors have charged two men, Daniel Cowart (20) and Paul Schlesselman (18), both self-described white supremacists, with plotting a violent attack on African-Americans. The plan included attempting to kill more than 100 people and behead 14 of them. They also planned to target and attempt to assassinate President Barack Obama, dressed in white tuxedos, by crashing a car into him while shooting from the windows.\\n\\nThe suspects were arrested outside Jackson, Tennessee, after an aborted robbery attempt and shot out a church window on their way back to their home. They claimed they were willing to die in their mission, but backed out when they saw people near the target.\\n\\nThis is not the first time there have been threats against Obama. The Secret Service is investigating and taking the matter seriously, despite the suspects having no history of attending any Obama events or drawing Secret Service attention.',\n",
       " 'British Transport Minister Baroness Susan Kramer gave a pocket watch to the Taipei mayor, Ko Wen-je, which is considered an inauspicious gift in Chinese culture as the word for watch/clock translates to \"the end\" or death-related terms. Kramer apologized for the oversight, citing her lack of knowledge about Chinese customs.\\n\\nMayor Ko Wen-je received the gift poorly, saying he\\'d give it away or sell it for money, despite the alleged rudeness, he has since apologized and plans to take diplomacy etiquette training.\\n\\nThis situation parallels a 2009 controversy involving then-US President Barack Obama\\'s gifts of DVDs to British Prime Minister Gordon Brown (non-compatible format) and a Victorian-era ship timber pen holder from Brown, which Obama also made an unconventional gift: an iPod loaded with US footage to Queen Elizabeth II in the same year.',\n",
       " \"Here are the key highlights from the article:\\n\\n**Resignations in Turkish Government:**\\n\\n- Three cabinet ministers (Urbanization and Environment Minister Erdogan Bayraktar, Economy Minister Zafer Caglayan, and Interior Minister Muammer Guler) resigned due to an anti-graft probe involving allegations of corruption, money laundering, and bribery.\\n- Erdogan Bayraktar also asked Prime Minister Recep Tayyip Erdogan to step down.\\n\\n**New Appointments and Cabinet Reshuffle:**\\n\\n- Prime Minister Erdogan announced a cabinet reshuffle, naming 10 new ministers, including Efkan Ala as the new interior minister, Idris Gulluce as urbanization and environment minister, and Nihat Zeybekci as the nation's new economy minister.\\n\\n**Power Struggle with Fethullah Gulen:**\\n\\n- The crackdown is believed to be a move against former ally turned rival Islamic cleric Fethullah Gulen, who lives in the US and is accused of trying to establish\",\n",
       " \"Here are the highlights from the article:\\n\\n- Kraft, the owner of Cadbury, has invested £6 million to change the way Dairy Milk bars are displayed at store checkouts.\\n- For the past 186 years, Cadbury bars have been stacked flat in boxes, but Kraft wants to display them upright to increase impulse purchases.\\n- Research found that customers are more likely to buy a Dairy Milk bar if they see a complete bar of chocolate rather than just its side.\\n- The new packaging will be implemented at Cadbury's factory in Birmingham, starting in the new year.\\n- The change aims to make the bars stand out on store shelves and will be rolled out in the first half of 2012.\\n- Kraft has made this investment despite announcing its plan to cut 200 jobs earlier this month, with some job losses set to take place in March.\",\n",
       " \"Here's a summary of the article in clear and concise language:\\n\\n**Abandoned Hotel in Germany**\\n\\n* A hotel in Germany has been abandoned for over two decades.\\n* The hotel, once a popular destination, is now overgrown with moss and vines.\\n* The hotel's interior is in a state of decay, with broken furniture and crumbling walls.\\n* Despite its disrepair, the hotel still contains interesting features, such as a retro bar and a swimming pool.\\n* A photographer, Andre Govia, captured the hotel's abandonment through a series of haunting pictures.\\n\\n**Abandoned Observatory in Spain**\\n\\n* The Mohon del Trigo observatory in Spain has been abandoned for nearly 40 years.\\n* Built in 1902, the observatory was once a hub for astronomers from around the world.\\n* The observatory is still owned by the University of Granada and features a rusting dome and mangled telescope.\\n* The interior is in a pitiful state, with graffiti and signs of\",\n",
       " \"The article highlights four international styles for a New Year makeover: French, Spanish, New York, and Italian. Each stylist from a different country shared their approach to fashion. \\n\\n- French style emphasizes following strict rules, including wearing hemlines below the knee, navy, white, grey, and black colors, which results in a classic look.\\n- Spanish style is about being bold with figure-hugging, overtly feminine clothes, short, fitted jackets, and bright colors.\\n- New York style is characterized as relaxed elegance, featuring tailored suits, soft blouses, and muted colors.\\n- Italian style is described as flamboyant, showcasing figure-hugging clothes that accentuate curves, with an emphasis on looking polished and glamorous.\\n\\nAnnabel's verdicts reflected a personal take on each outfit, with a more reserved response to the French and New York styles compared to the bolder Spanish and Italian outfits, which she enjoyed more and graded higher.\",\n",
       " 'Here are the main points from the article:\\n\\n- Darren Wilson, a 28-year-old white police officer with 6 years of experience, shot and killed an unarmed 18-year-old African-American man named Michael Brown in Ferguson, Missouri.\\n- The officer\\'s name was initially withheld due to death threats, but was later revealed by Police Chief Thomas Jackson, citing the officer\\'s devastation over the incident.\\n- The Ferguson police department released documents stating that the officer, Wilson, believed he was responding to a \"strong-arm\" robbery at a convenience store where Brown was the suspect, although some in the community are skeptical of this claim.\\n- The police also released surveillance footage allegedly showing Brown committing the robbery, which some attribute to a police cover-up and others question the circumstances.\\n- The timing of the release of this information has been met with anger and accusations from Brown\\'s family, who claim that the police are trying to justify the shooting of their family member, which they consider an \"execution-style murder.\"\\n',\n",
       " \"The article reports on the Obama administration's response to the Supreme Court's decision on immigration laws. Key highlights include:\\n\\n1. **No Federal Cooperation**: The administration will not assist Arizona in enforcing immigration laws unless the individuals meet federal immigration criteria, such as being a convicted criminal, a recent border crosser, or someone previously removed from the US and re-entered unlawfully.\\n2. **Rescinded Agreements**: The administration is ending the 287(g) agreements with Arizona, which allowed local law enforcement to enforce federal immigration laws. These agreements were initiated under the Bush administration but fell out of favor under the Obama administration.\\n3. **Limited Resources**: The Department of Homeland Security (DHS) will focus its resources on individuals posing a public safety threat or challenging border integrity, rather than responding to every situation.\\n4. **New Hotline**: A telephone hotline and e-mail address (855-353-1010 and SB1070@usdoj.gov) have been set up for\",\n",
       " \"Here are the major highlights from the article:\\n\\n- A multi-millionaire businessman, Darren Browne, and his family have been left homeless after a fire damaged their £3.5m mansion in Caversham, Berkshire.\\n- The fire started in a first-floor bedroom of the three-story house at around 2:30 pm on Sunday afternoon and caused significant damage to the property, including a collapsed roof and windows.\\n- The family was alerted by their teenager son, Conor, who called the fire service after spotting the fire, and they managed to evacuate safely with their family dogs and a dead pet rabbit.\\n- No human casualties were reported, but the house's interior and exterior suffered from water damage and debris from the blaze.\\n- A joint investigation by Thames Valley Police and the Royal Berkshire Fire and Rescue Service has been launched but the fire's origin is not believed to be suspicious.\\n- The damage is estimated to cost over £1m to repair, and the family is currently looking for temporary accommodation\",\n",
       " 'A California woman, Tania Warchol, is suing E.L. James, the author of the novel \"Fifty Shades of Grey,\" and a British sex toy company, Lovehoney, for allegedly failing to deliver on the promised performance of their sex lubricant, \"Fifty Shades of Grey: Come Alive Pleasure Gel for Her.\" The $14.99 product, released in conjunction with the novel, promised to enhance orgasms and stimulation but reportedly failed to meet expectations. Tania Warchol claims the product also has some incompatibility issues with latex and may be mislabeled as an \"aphrodisiac\" without FDA approval. She is seeking a refund and punitive damages, and has filed a class-action lawsuit to represent other California residents who have had similar experiences with the product. The lawsuit is set to face several obstacles, including proving that the lubricant did not work.',\n",
       " \"Here are the highlights of the article:\\n\\n**Researchers Develop a Potential Solution for Sensitive Teeth:**\\n\\n* Researchers in Taiwan have created a paste that mimics and helps rebuild worn tooth enamel, providing relief from sensitive teeth.\\n* The paste enters exposed dentine tubes, crystalizes, and seals them, preventing fluid disturbance and pain.\\n* In animal tests, the paste provided relief for at least 70 days.\\n\\n**How the Paste Works:**\\n\\n* It uses calcium carbonate and silica to seal exposed dentine tubes and catalyze enamel regeneration.\\n* The paste plugs tubes more deeply than other treatments, reducing pulp irritation.\\n* It has been shown to stimulate the regeneration of hard tissue in teeth.\\n\\n**Alternative Solutions for Sensitive Teeth:**\\n\\n* A study in China has created a compound inspired by mussels' natural 'glue' that can help teeth rebuild enamel and dentine simultaneously.\\n* This compound, made from polydopamine, calcium, and phosphate, has shown promising results in lab\",\n",
       " \"Here are the article's main highlights:\\n\\n- A 30-year-old Samoan woman was charged with attempted murder for allegedly dumping her newborn baby in a western Sydney stormwater drain on November 18. \\n- The baby was found alive but severely dehydrated and with bleeding on the brain after being left in the drain for five days. \\n- A man believed to be the baby's father has been located by police.\\n- The accused woman had kept her pregnancy a secret for nine months, posting photos on social media of her aunt and uncle's children and even boasting about a new boyfriend.\\n- The woman was living with her aunt and uncle in the western Sydney suburb of Quakers Hill at the time of the incident.\\n- Police are waiting to interview the baby's father and are still gathering evidence, including from Blacktown hospital where the baby was born.\\n- The baby, over eight weeks old, has been released from the hospital and is in care.\\n- The woman was refused bail and\",\n",
       " \"A neighbor, Mark Taylor, witnessed his next-door neighbor, Richard Wight, attempting to break into his home with an axe, similar to the film 'The Shining.' Wight, a 55-year-old lorry driver, had a history of harassing his neighbors, including Mark Taylor and Alan Taylor (59), with whom he had a long-standing feud over parking. \\n\\nThe bodies of both men were found in their homes, with Wight's cause of death attributed to stab wounds, and Alan Taylor's cause of death attributed to cardiac arrest. An investigation is ongoing, but it is believed that Alan Taylor may have killed Wight before suffering a fatal heart attack. Wight had a history of violent behavior and was known for smoking pot and drinking.\\n\\nNotable points from Wight's history include:\\n\\n- A prison sentence in 2002 for threatening Mark with an axe\\n- An Anti-Social Behavior Order (Asbo) in 2007 for threatening and abusive behavior toward neighbors\\n\"]"
      ]
     },
     "execution_count": 8,
     "metadata": {},
     "output_type": "execute_result"
    }
   ],
   "source": [
    "gen_texts"
   ]
  },
  {
   "cell_type": "code",
   "execution_count": null,
   "metadata": {},
   "outputs": [],
   "source": []
  }
 ],
 "metadata": {
  "kernelspec": {
   "display_name": "base",
   "language": "python",
   "name": "python3"
  },
  "language_info": {
   "codemirror_mode": {
    "name": "ipython",
    "version": 3
   },
   "file_extension": ".py",
   "mimetype": "text/x-python",
   "name": "python",
   "nbconvert_exporter": "python",
   "pygments_lexer": "ipython3",
   "version": "3.11.8"
  }
 },
 "nbformat": 4,
 "nbformat_minor": 2
}
