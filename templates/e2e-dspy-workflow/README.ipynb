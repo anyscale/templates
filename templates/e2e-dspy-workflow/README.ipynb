{
 "cells": [
  {
   "cell_type": "markdown",
   "metadata": {},
   "source": [
    "# End-to-end DSPy Workflows Guide \n",
    "\n",
    "Time to complete: 1 hour"
   ]
  },
  {
   "cell_type": "markdown",
   "metadata": {},
   "source": [
    "## Building an Efficient LLM Pipeline with DSPy and Anyscale\n",
    "\n",
    "In this guide, we'll show how you can build an efficient pipeline covering synthetic data generation, data processing, fine-tuning, evaluation and serving with DSPy and Anyscale. \n",
    "\n",
    "## Why DSPy and Anyscale?\n",
    "DSPy simplifies the complex workflow of:\n",
    "- Data Collection/Labeling\n",
    "- Fine-tuning\n",
    "- Prompt Optimization\n",
    "- Evaluation\n",
    "  \n",
    "We'll use Anyscale for scalable infrastructure for training and serving/deploying models.\n",
    "\n",
    "## Scenario: Cost-Effective Customer Support Query Classification\n",
    "\n",
    "Consider an example of classification with limited labelled data. The specific dataset we'll be working with is the [PolyAI/banking77](https://huggingface.co/datasets/PolyAI/banking77) dataset, which consists of customer support queries for a bank. We'll simulate a scenario with low labelled data: let's say we have a dataset has limited labeled data (100 queries) and 4,000 unlabeled customer queries. We'll build a solution that leverages DSPy on Anyscale to distill knowledge from a 70B model into a more cost-effective 1B model, making it practical for production deployment.\n",
    "\n",
    "- DSPy enables easy creation of a pipeline for knowledge distillation from a 70B model to a 1B model in a low data environment\n",
    "- Anyscale's infrastructure supports efficient fine-tuning and deployment\n",
    "- Result: A cost-effective, accurate classification system for 25 categories\n",
    "\n",
    "## Table of Contents\n",
    "\n",
    "1. Setup\n",
    "2. Data Processing and Labeling\n",
    "3. Model Fine-tuning\n",
    "4. Evaluation and Optimization\n",
    "5. Production Deployment\n",
    "6. Future Improvements"
   ]
  },
  {
   "cell_type": "markdown",
   "metadata": {},
   "source": [
    "## Set up"
   ]
  },
  {
   "cell_type": "markdown",
   "metadata": {},
   "source": [
    "We will be running everything on A100-80GB GPUs. This is not necessary, especially for running a 1B model. You can edit the serving configuration files used throughout the notebook to use different GPUs if you do not have access to A100s.\n",
    "\n",
    "We use Anyscale's Auto-select worker node feature to launch and manage child nodes that are running our LLM. You can also set your own compute configuration to autoscale different types of GPUs at different ranges."
   ]
  },
  {
   "cell_type": "code",
   "execution_count": 1,
   "metadata": {},
   "outputs": [],
   "source": [
    "%load_ext autoreload\n",
    "%autoreload 2"
   ]
  },
  {
   "cell_type": "code",
   "execution_count": 4,
   "metadata": {},
   "outputs": [
    {
     "name": "stdout",
     "output_type": "stream",
     "text": [
      "Installing dspy\n",
      "Collecting git+https://github.com/stanfordnlp/dspy.git@anyscale-ft-updates\n",
      "  Cloning https://github.com/stanfordnlp/dspy.git (to revision anyscale-ft-updates) to /tmp/pip-req-build-oc8hwbky\n",
      "  Running command git clone --filter=blob:none --quiet https://github.com/stanfordnlp/dspy.git /tmp/pip-req-build-oc8hwbky\n",
      "  Running command git checkout -b anyscale-ft-updates --track origin/anyscale-ft-updates\n",
      "  Switched to a new branch 'anyscale-ft-updates'\n",
      "  Branch 'anyscale-ft-updates' set up to track remote branch 'anyscale-ft-updates' from 'origin'.\n",
      "  Resolved https://github.com/stanfordnlp/dspy.git to commit 027b1c540236e65ef1d1d7e6b2a8a2de6c43f515\n",
      "  Installing build dependencies ... \u001b[?25ldone\n",
      "\u001b[?25h  Getting requirements to build wheel ... \u001b[?25ldone\n",
      "\u001b[?25h  Preparing metadata (pyproject.toml) ... \u001b[?25ldone\n",
      "\u001b[?25hCollecting backoff~=2.2 (from dspy==2.5.12)\n",
      "  Downloading backoff-2.2.1-py3-none-any.whl.metadata (14 kB)\n",
      "Requirement already satisfied: joblib~=1.3 in /home/ray/anaconda3/lib/python3.9/site-packages (from dspy==2.5.12) (1.4.2)\n",
      "Requirement already satisfied: openai in /home/ray/anaconda3/lib/python3.9/site-packages (from dspy==2.5.12) (1.45.0)\n",
      "Requirement already satisfied: pandas in /home/ray/anaconda3/lib/python3.9/site-packages (from dspy==2.5.12) (1.5.3)\n",
      "Requirement already satisfied: regex in /home/ray/anaconda3/lib/python3.9/site-packages (from dspy==2.5.12) (2024.9.11)\n",
      "Collecting ujson (from dspy==2.5.12)\n",
      "  Downloading ujson-5.10.0-cp39-cp39-manylinux_2_17_x86_64.manylinux2014_x86_64.whl.metadata (9.3 kB)\n",
      "Requirement already satisfied: tqdm in /home/ray/anaconda3/lib/python3.9/site-packages (from dspy==2.5.12) (4.65.0)\n",
      "Requirement already satisfied: datasets<3.0.0,>=2.14.6 in /home/ray/anaconda3/lib/python3.9/site-packages (from dspy==2.5.12) (2.19.2)\n",
      "Requirement already satisfied: requests in /home/ray/anaconda3/lib/python3.9/site-packages (from dspy==2.5.12) (2.32.3)\n",
      "Collecting optuna (from dspy==2.5.12)\n",
      "  Downloading optuna-4.0.0-py3-none-any.whl.metadata (16 kB)\n",
      "Requirement already satisfied: pydantic~=2.0 in /home/ray/anaconda3/lib/python3.9/site-packages (from dspy==2.5.12) (2.9.1)\n",
      "Requirement already satisfied: structlog in /home/ray/anaconda3/lib/python3.9/site-packages (from dspy==2.5.12) (24.4.0)\n",
      "Requirement already satisfied: jinja2 in /home/ray/anaconda3/lib/python3.9/site-packages (from dspy==2.5.12) (3.1.2)\n",
      "Collecting magicattr~=0.1.6 (from dspy==2.5.12)\n",
      "  Downloading magicattr-0.1.6-py2.py3-none-any.whl.metadata (3.2 kB)\n",
      "Collecting litellm (from dspy==2.5.12)\n",
      "  Downloading litellm-1.50.1-py3-none-any.whl.metadata (32 kB)\n",
      "Requirement already satisfied: diskcache in /home/ray/anaconda3/lib/python3.9/site-packages (from dspy==2.5.12) (5.6.3)\n",
      "Requirement already satisfied: filelock in /home/ray/anaconda3/lib/python3.9/site-packages (from datasets<3.0.0,>=2.14.6->dspy==2.5.12) (3.13.1)\n",
      "Requirement already satisfied: numpy>=1.17 in /home/ray/anaconda3/lib/python3.9/site-packages (from datasets<3.0.0,>=2.14.6->dspy==2.5.12) (1.23.5)\n",
      "Requirement already satisfied: pyarrow>=12.0.0 in /home/ray/anaconda3/lib/python3.9/site-packages (from datasets<3.0.0,>=2.14.6->dspy==2.5.12) (12.0.1)\n",
      "Requirement already satisfied: pyarrow-hotfix in /home/ray/anaconda3/lib/python3.9/site-packages (from datasets<3.0.0,>=2.14.6->dspy==2.5.12) (0.6)\n",
      "Requirement already satisfied: dill<0.3.9,>=0.3.0 in /home/ray/anaconda3/lib/python3.9/site-packages (from datasets<3.0.0,>=2.14.6->dspy==2.5.12) (0.3.8)\n",
      "Requirement already satisfied: xxhash in /home/ray/anaconda3/lib/python3.9/site-packages (from datasets<3.0.0,>=2.14.6->dspy==2.5.12) (3.5.0)\n",
      "Requirement already satisfied: multiprocess in /home/ray/anaconda3/lib/python3.9/site-packages (from datasets<3.0.0,>=2.14.6->dspy==2.5.12) (0.70.16)\n",
      "Requirement already satisfied: fsspec<=2024.3.1,>=2023.1.0 in /home/ray/anaconda3/lib/python3.9/site-packages (from fsspec[http]<=2024.3.1,>=2023.1.0->datasets<3.0.0,>=2.14.6->dspy==2.5.12) (2023.5.0)\n",
      "Requirement already satisfied: aiohttp in /home/ray/anaconda3/lib/python3.9/site-packages (from datasets<3.0.0,>=2.14.6->dspy==2.5.12) (3.9.5)\n",
      "Requirement already satisfied: huggingface-hub>=0.21.2 in /home/ray/anaconda3/lib/python3.9/site-packages (from datasets<3.0.0,>=2.14.6->dspy==2.5.12) (0.24.7)\n",
      "Requirement already satisfied: packaging in /home/ray/anaconda3/lib/python3.9/site-packages (from datasets<3.0.0,>=2.14.6->dspy==2.5.12) (23.0)\n",
      "Requirement already satisfied: pyyaml>=5.1 in /home/ray/anaconda3/lib/python3.9/site-packages (from datasets<3.0.0,>=2.14.6->dspy==2.5.12) (6.0.1)\n",
      "Requirement already satisfied: annotated-types>=0.6.0 in /home/ray/anaconda3/lib/python3.9/site-packages (from pydantic~=2.0->dspy==2.5.12) (0.6.0)\n",
      "Requirement already satisfied: pydantic-core==2.23.3 in /home/ray/anaconda3/lib/python3.9/site-packages (from pydantic~=2.0->dspy==2.5.12) (2.23.3)\n",
      "Requirement already satisfied: typing-extensions>=4.6.1 in /home/ray/anaconda3/lib/python3.9/site-packages (from pydantic~=2.0->dspy==2.5.12) (4.12.2)\n",
      "Requirement already satisfied: charset-normalizer<4,>=2 in /home/ray/anaconda3/lib/python3.9/site-packages (from requests->dspy==2.5.12) (3.3.2)\n",
      "Requirement already satisfied: idna<4,>=2.5 in /home/ray/anaconda3/lib/python3.9/site-packages (from requests->dspy==2.5.12) (3.7)\n",
      "Requirement already satisfied: urllib3<3,>=1.21.1 in /home/ray/anaconda3/lib/python3.9/site-packages (from requests->dspy==2.5.12) (1.26.19)\n",
      "Requirement already satisfied: certifi>=2017.4.17 in /home/ray/anaconda3/lib/python3.9/site-packages (from requests->dspy==2.5.12) (2023.11.17)\n",
      "Requirement already satisfied: MarkupSafe>=2.0 in /home/ray/anaconda3/lib/python3.9/site-packages (from jinja2->dspy==2.5.12) (2.1.3)\n",
      "Requirement already satisfied: click in /home/ray/anaconda3/lib/python3.9/site-packages (from litellm->dspy==2.5.12) (8.1.7)\n",
      "Requirement already satisfied: importlib-metadata>=6.8.0 in /home/ray/anaconda3/lib/python3.9/site-packages (from litellm->dspy==2.5.12) (6.11.0)\n",
      "Collecting jsonschema<5.0.0,>=4.22.0 (from litellm->dspy==2.5.12)\n",
      "  Downloading jsonschema-4.23.0-py3-none-any.whl.metadata (7.9 kB)\n",
      "Collecting openai (from dspy==2.5.12)\n",
      "  Downloading openai-1.52.0-py3-none-any.whl.metadata (24 kB)\n",
      "Requirement already satisfied: python-dotenv>=0.2.0 in /home/ray/anaconda3/lib/python3.9/site-packages (from litellm->dspy==2.5.12) (1.0.1)\n",
      "Requirement already satisfied: tiktoken>=0.7.0 in /home/ray/anaconda3/lib/python3.9/site-packages (from litellm->dspy==2.5.12) (0.7.0)\n",
      "Requirement already satisfied: tokenizers in /home/ray/anaconda3/lib/python3.9/site-packages (from litellm->dspy==2.5.12) (0.19.1)\n",
      "Requirement already satisfied: anyio<5,>=3.5.0 in /home/ray/anaconda3/lib/python3.9/site-packages (from openai->dspy==2.5.12) (3.7.1)\n",
      "Requirement already satisfied: distro<2,>=1.7.0 in /home/ray/anaconda3/lib/python3.9/site-packages (from openai->dspy==2.5.12) (1.8.0)\n",
      "Requirement already satisfied: httpx<1,>=0.23.0 in /home/ray/anaconda3/lib/python3.9/site-packages (from openai->dspy==2.5.12) (0.27.2)\n",
      "Requirement already satisfied: jiter<1,>=0.4.0 in /home/ray/anaconda3/lib/python3.9/site-packages (from openai->dspy==2.5.12) (0.5.0)\n",
      "Requirement already satisfied: sniffio in /home/ray/anaconda3/lib/python3.9/site-packages (from openai->dspy==2.5.12) (1.3.1)\n",
      "Collecting alembic>=1.5.0 (from optuna->dspy==2.5.12)\n",
      "  Downloading alembic-1.13.3-py3-none-any.whl.metadata (7.4 kB)\n",
      "Collecting colorlog (from optuna->dspy==2.5.12)\n",
      "  Downloading colorlog-6.8.2-py3-none-any.whl.metadata (10 kB)\n",
      "Collecting sqlalchemy>=1.3.0 (from optuna->dspy==2.5.12)\n",
      "  Downloading SQLAlchemy-2.0.36-cp39-cp39-manylinux_2_17_x86_64.manylinux2014_x86_64.whl.metadata (9.7 kB)\n",
      "Requirement already satisfied: python-dateutil>=2.8.1 in /home/ray/anaconda3/lib/python3.9/site-packages (from pandas->dspy==2.5.12) (2.8.2)\n",
      "Requirement already satisfied: pytz>=2020.1 in /home/ray/anaconda3/lib/python3.9/site-packages (from pandas->dspy==2.5.12) (2022.7.1)\n",
      "Collecting Mako (from alembic>=1.5.0->optuna->dspy==2.5.12)\n",
      "  Downloading Mako-1.3.6-py3-none-any.whl.metadata (2.9 kB)\n",
      "Requirement already satisfied: exceptiongroup in /home/ray/anaconda3/lib/python3.9/site-packages (from anyio<5,>=3.5.0->openai->dspy==2.5.12) (1.2.2)\n",
      "Requirement already satisfied: aiosignal>=1.1.2 in /home/ray/anaconda3/lib/python3.9/site-packages (from aiohttp->datasets<3.0.0,>=2.14.6->dspy==2.5.12) (1.3.1)\n",
      "Requirement already satisfied: attrs>=17.3.0 in /home/ray/anaconda3/lib/python3.9/site-packages (from aiohttp->datasets<3.0.0,>=2.14.6->dspy==2.5.12) (24.2.0)\n",
      "Requirement already satisfied: frozenlist>=1.1.1 in /home/ray/anaconda3/lib/python3.9/site-packages (from aiohttp->datasets<3.0.0,>=2.14.6->dspy==2.5.12) (1.4.1)\n",
      "Requirement already satisfied: multidict<7.0,>=4.5 in /home/ray/anaconda3/lib/python3.9/site-packages (from aiohttp->datasets<3.0.0,>=2.14.6->dspy==2.5.12) (6.0.5)\n",
      "Requirement already satisfied: yarl<2.0,>=1.0 in /home/ray/anaconda3/lib/python3.9/site-packages (from aiohttp->datasets<3.0.0,>=2.14.6->dspy==2.5.12) (1.9.4)\n",
      "Requirement already satisfied: async-timeout<5.0,>=4.0 in /home/ray/anaconda3/lib/python3.9/site-packages (from aiohttp->datasets<3.0.0,>=2.14.6->dspy==2.5.12) (4.0.3)\n",
      "Requirement already satisfied: httpcore==1.* in /home/ray/anaconda3/lib/python3.9/site-packages (from httpx<1,>=0.23.0->openai->dspy==2.5.12) (1.0.5)\n",
      "Requirement already satisfied: h11<0.15,>=0.13 in /home/ray/anaconda3/lib/python3.9/site-packages (from httpcore==1.*->httpx<1,>=0.23.0->openai->dspy==2.5.12) (0.14.0)\n",
      "Requirement already satisfied: zipp>=0.5 in /home/ray/anaconda3/lib/python3.9/site-packages (from importlib-metadata>=6.8.0->litellm->dspy==2.5.12) (3.19.2)\n",
      "Requirement already satisfied: jsonschema-specifications>=2023.03.6 in /home/ray/anaconda3/lib/python3.9/site-packages (from jsonschema<5.0.0,>=4.22.0->litellm->dspy==2.5.12) (2023.12.1)\n",
      "Requirement already satisfied: referencing>=0.28.4 in /home/ray/anaconda3/lib/python3.9/site-packages (from jsonschema<5.0.0,>=4.22.0->litellm->dspy==2.5.12) (0.35.1)\n",
      "Requirement already satisfied: rpds-py>=0.7.1 in /home/ray/anaconda3/lib/python3.9/site-packages (from jsonschema<5.0.0,>=4.22.0->litellm->dspy==2.5.12) (0.20.0)\n",
      "Requirement already satisfied: six>=1.5 in /home/ray/anaconda3/lib/python3.9/site-packages (from python-dateutil>=2.8.1->pandas->dspy==2.5.12) (1.16.0)\n",
      "Collecting greenlet!=0.4.17 (from sqlalchemy>=1.3.0->optuna->dspy==2.5.12)\n",
      "  Downloading greenlet-3.1.1-cp39-cp39-manylinux_2_24_x86_64.manylinux_2_28_x86_64.whl.metadata (3.8 kB)\n",
      "Downloading backoff-2.2.1-py3-none-any.whl (15 kB)\n",
      "Downloading magicattr-0.1.6-py2.py3-none-any.whl (4.7 kB)\n",
      "Downloading litellm-1.50.1-py3-none-any.whl (6.3 MB)\n",
      "\u001b[2K   \u001b[90m━━━━━━━━━━━━━━━━━━━━━━━━━━━━━━━━━━━━━━━━\u001b[0m \u001b[32m6.3/6.3 MB\u001b[0m \u001b[31m96.8 MB/s\u001b[0m eta \u001b[36m0:00:00\u001b[0m\n",
      "\u001b[?25hDownloading openai-1.52.0-py3-none-any.whl (386 kB)\n",
      "Downloading optuna-4.0.0-py3-none-any.whl (362 kB)\n",
      "Downloading ujson-5.10.0-cp39-cp39-manylinux_2_17_x86_64.manylinux2014_x86_64.whl (53 kB)\n",
      "Downloading alembic-1.13.3-py3-none-any.whl (233 kB)\n",
      "Downloading jsonschema-4.23.0-py3-none-any.whl (88 kB)\n",
      "Downloading SQLAlchemy-2.0.36-cp39-cp39-manylinux_2_17_x86_64.manylinux2014_x86_64.whl (3.1 MB)\n",
      "\u001b[2K   \u001b[90m━━━━━━━━━━━━━━━━━━━━━━━━━━━━━━━━━━━━━━━━\u001b[0m \u001b[32m3.1/3.1 MB\u001b[0m \u001b[31m147.7 MB/s\u001b[0m eta \u001b[36m0:00:00\u001b[0m\n",
      "\u001b[?25hDownloading colorlog-6.8.2-py3-none-any.whl (11 kB)\n",
      "Downloading greenlet-3.1.1-cp39-cp39-manylinux_2_24_x86_64.manylinux_2_28_x86_64.whl (597 kB)\n",
      "\u001b[2K   \u001b[90m━━━━━━━━━━━━━━━━━━━━━━━━━━━━━━━━━━━━━━━━\u001b[0m \u001b[32m597.4/597.4 kB\u001b[0m \u001b[31m37.4 MB/s\u001b[0m eta \u001b[36m0:00:00\u001b[0m\n",
      "\u001b[?25hDownloading Mako-1.3.6-py3-none-any.whl (78 kB)\n",
      "Building wheels for collected packages: dspy\n",
      "  Building wheel for dspy (pyproject.toml) ... \u001b[?25ldone\n",
      "\u001b[?25h  Created wheel for dspy: filename=dspy-2.5.12-py3-none-any.whl size=320302 sha256=24670af68945237f14557e88176c414fac258aeb6047c9515e20dce0e834e7c0\n",
      "  Stored in directory: /tmp/pip-ephem-wheel-cache-b6cp87xb/wheels/6e/d5/f1/55b8676fe37b02d92ed85e7eada6847deb2034272134dfcb9b\n",
      "Successfully built dspy\n",
      "Installing collected packages: magicattr, ujson, Mako, greenlet, colorlog, backoff, sqlalchemy, openai, jsonschema, alembic, optuna, litellm, dspy\n",
      "  Attempting uninstall: backoff\n",
      "    Found existing installation: backoff 1.10.0\n",
      "    Uninstalling backoff-1.10.0:\n",
      "      Successfully uninstalled backoff-1.10.0\n",
      "  Attempting uninstall: openai\n",
      "    Found existing installation: openai 1.45.0\n",
      "    Uninstalling openai-1.45.0:\n",
      "      Successfully uninstalled openai-1.45.0\n",
      "  Attempting uninstall: jsonschema\n",
      "    Found existing installation: jsonschema 4.21.1\n",
      "    Uninstalling jsonschema-4.21.1:\n",
      "      Successfully uninstalled jsonschema-4.21.1\n",
      "\u001b[31mERROR: pip's dependency resolver does not currently take into account all the packages that are installed. This behaviour is the source of the following dependency conflicts.\n",
      "rayllm-oss 0.3.1 requires jsonschema~=4.21.1, but you have jsonschema 4.23.0 which is incompatible.\n",
      "rayllm-oss 0.3.1 requires pydantic~=2.6.0, but you have pydantic 2.9.1 which is incompatible.\u001b[0m\u001b[31m\n",
      "\u001b[0mSuccessfully installed Mako-1.3.6 alembic-1.13.3 backoff-2.2.1 colorlog-6.8.2 dspy-2.5.12 greenlet-3.1.1 jsonschema-4.23.0 litellm-1.50.1 magicattr-0.1.6 openai-1.52.0 optuna-4.0.0 sqlalchemy-2.0.36 ujson-5.10.0\n",
      "Traceback (most recent call last):\n",
      "  File \"/home/ray/anaconda3/lib/python3.9/site-packages/packaging/requirements.py\", line 35, in __init__\n",
      "    parsed = parse_requirement(requirement_string)\n",
      "  File \"/home/ray/anaconda3/lib/python3.9/site-packages/packaging/_parser.py\", line 64, in parse_requirement\n",
      "    return _parse_requirement(Tokenizer(source, rules=DEFAULT_RULES))\n",
      "  File \"/home/ray/anaconda3/lib/python3.9/site-packages/packaging/_parser.py\", line 82, in _parse_requirement\n",
      "    url, specifier, marker = _parse_requirement_details(tokenizer)\n",
      "  File \"/home/ray/anaconda3/lib/python3.9/site-packages/packaging/_parser.py\", line 126, in _parse_requirement_details\n",
      "    marker = _parse_requirement_marker(\n",
      "  File \"/home/ray/anaconda3/lib/python3.9/site-packages/packaging/_parser.py\", line 147, in _parse_requirement_marker\n",
      "    tokenizer.raise_syntax_error(\n",
      "  File \"/home/ray/anaconda3/lib/python3.9/site-packages/packaging/_tokenizer.py\", line 163, in raise_syntax_error\n",
      "    raise ParserSyntaxError(\n",
      "packaging._tokenizer.ParserSyntaxError: Expected end or semicolon (after name and no valid version specifier)\n",
      "    git+https://github.com/stanfordnlp/dspy.git@anyscale-ft-updates\n",
      "       ^\n",
      "\n",
      "The above exception was the direct cause of the following exception:\n",
      "\n",
      "Traceback (most recent call last):\n",
      "  File \"/home/ray/anaconda3/bin/pip\", line 15, in <module>\n",
      "    snapshot_util.add_python_dependency(sys.argv[2:])\n",
      "  File \"/tmp/anyscale/ray_container/snapshot_util.py\", line 2717, in add_python_dependency\n",
      "    new_packages = _parse_install_command(install_args)\n",
      "  File \"/tmp/anyscale/ray_container/snapshot_util.py\", line 2665, in _parse_install_command\n",
      "    [Requirement(pkg) for pkg in namespace.package if pkg not in local_packages]\n",
      "  File \"/tmp/anyscale/ray_container/snapshot_util.py\", line 2665, in <listcomp>\n",
      "    [Requirement(pkg) for pkg in namespace.package if pkg not in local_packages]\n",
      "  File \"/home/ray/anaconda3/lib/python3.9/site-packages/packaging/requirements.py\", line 37, in __init__\n",
      "    raise InvalidRequirement(str(e)) from e\n",
      "packaging.requirements.InvalidRequirement: Expected end or semicolon (after name and no valid version specifier)\n",
      "    git+https://github.com/stanfordnlp/dspy.git@anyscale-ft-updates\n",
      "       ^\n",
      "Requirement already satisfied: matplotlib in /home/ray/anaconda3/lib/python3.9/site-packages (3.9.2)\n",
      "Requirement already satisfied: python-dotenv in /home/ray/anaconda3/lib/python3.9/site-packages (1.0.1)\n",
      "Requirement already satisfied: contourpy>=1.0.1 in /home/ray/anaconda3/lib/python3.9/site-packages (from matplotlib) (1.3.0)\n",
      "Requirement already satisfied: cycler>=0.10 in /home/ray/anaconda3/lib/python3.9/site-packages (from matplotlib) (0.12.1)\n",
      "Requirement already satisfied: fonttools>=4.22.0 in /home/ray/anaconda3/lib/python3.9/site-packages (from matplotlib) (4.54.1)\n",
      "Requirement already satisfied: kiwisolver>=1.3.1 in /home/ray/anaconda3/lib/python3.9/site-packages (from matplotlib) (1.4.7)\n",
      "Requirement already satisfied: numpy>=1.23 in /home/ray/anaconda3/lib/python3.9/site-packages (from matplotlib) (1.23.5)\n",
      "Requirement already satisfied: packaging>=20.0 in /home/ray/anaconda3/lib/python3.9/site-packages (from matplotlib) (23.0)\n",
      "Requirement already satisfied: pillow>=8 in /home/ray/anaconda3/lib/python3.9/site-packages (from matplotlib) (9.2.0)\n",
      "Requirement already satisfied: pyparsing>=2.3.1 in /home/ray/anaconda3/lib/python3.9/site-packages (from matplotlib) (3.1.4)\n",
      "Requirement already satisfied: python-dateutil>=2.7 in /home/ray/anaconda3/lib/python3.9/site-packages (from matplotlib) (2.8.2)\n",
      "Requirement already satisfied: importlib-resources>=3.2.0 in /home/ray/anaconda3/lib/python3.9/site-packages (from matplotlib) (6.4.5)\n",
      "Requirement already satisfied: zipp>=3.1.0 in /home/ray/anaconda3/lib/python3.9/site-packages (from importlib-resources>=3.2.0->matplotlib) (3.19.2)\n",
      "Requirement already satisfied: six>=1.5 in /home/ray/anaconda3/lib/python3.9/site-packages (from python-dateutil>=2.7->matplotlib) (1.16.0)\n"
     ]
    }
   ],
   "source": [
    "import importlib.util\n",
    "\n",
    "if importlib.util.find_spec(\"dspy\") is None:\n",
    "    print(\"Installing dspy\")\n",
    "    !pip install git+https://github.com/stanfordnlp/dspy.git@anyscale-ft-updates\n",
    "\n",
    "else:\n",
    "    print(\"dspy is already installed\")\n",
    "\n",
    "!pip install matplotlib python-dotenv"
   ]
  },
  {
   "cell_type": "markdown",
   "metadata": {},
   "source": [
    "In order to run this notebook, you need to have the following environment variables set:\n",
    "- HF_HOME=/mnt/local_storage/huggingface (By default, the cache directory used by HuggingFace is in the home directory -`/home/ray` in this workspace. We'll use `/mnt/local_storage` here for downloading large model weight files)\n",
    "- HF_TOKEN\n",
    "- (optional) WANDB_API_KEY\n",
    "\n",
    "You can get a HF_TOKEN [here](https://huggingface.co/settings/tokens). You will need to request access to the Meta-Llama-3.1-70B-Instruct model and the Llama-3.2-1B-Instruct model.\n",
    "\n",
    "You can get a WANDB_API_KEY [here](https://wandb.ai/authorize)."
   ]
  },
  {
   "cell_type": "code",
   "execution_count": 2,
   "metadata": {},
   "outputs": [],
   "source": [
    "import dspy\n",
    "dspy.settings.configure(experimental=True)\n",
    "\n",
    "import ujson\n",
    "\n",
    "from src import set_dspy_cache_location\n",
    "set_dspy_cache_location(\"/home/ray/default/dspy/cache\")"
   ]
  },
  {
   "cell_type": "markdown",
   "metadata": {},
   "source": [
    "<b style=\"background-color: yellow;\">&nbsp;🔄 REPLACE&nbsp;</b>: Set the HF_TOKEN, HF_HOME, and optionally the WANDB_API_KEY environment variables in the notebook."
   ]
  },
  {
   "cell_type": "code",
   "execution_count": 3,
   "metadata": {},
   "outputs": [],
   "source": [
    "import os\n",
    "import ray \n",
    "\n",
    "os.environ[\"HF_HOME\"] = \"/mnt/local_storage/huggingface\"\n",
    "os.environ[\"HF_TOKEN\"] = \"Add your HF Token here\"\n",
    "# Optional: Add your Wandb token\n",
    "# os.environ[\"WANDB_API_KEY\"] = \"12345\"\n",
    "\n",
    "# You can also use a .env file to store your HF_TOKEN and WANDB_API_KEY\n",
    "# from dotenv import load_dotenv\n",
    "# load_dotenv()"
   ]
  },
  {
   "cell_type": "code",
   "execution_count": 4,
   "metadata": {},
   "outputs": [
    {
     "name": "stderr",
     "output_type": "stream",
     "text": [
      "2024-10-22 02:42:08,272\tINFO worker.py:1601 -- Connecting to existing Ray cluster at address: 10.0.0.121:6379...\n",
      "2024-10-22 02:42:08,279\tINFO worker.py:1777 -- Connected to Ray cluster. View the dashboard at https://session-rvjx58jmwrc9n3vi27hu8y4rr8.i.anyscaleuserdata.com \n",
      "2024-10-22 02:42:08,308\tINFO packaging.py:531 -- Creating a file package for local directory '/home/ray/anaconda3/lib/python3.9/site-packages/dspy'.\n",
      "2024-10-22 02:42:08,350\tINFO packaging.py:359 -- Pushing file package 'gcs://_ray_pkg_80c4e27190bc727d.zip' (1.17MiB) to Ray cluster...\n",
      "2024-10-22 02:42:08,364\tINFO packaging.py:372 -- Successfully pushed file package 'gcs://_ray_pkg_80c4e27190bc727d.zip'.\n",
      "2024-10-22 02:42:08,383\tINFO packaging.py:531 -- Creating a file package for local directory '/home/ray/anaconda3/lib/python3.9/site-packages/dsp'.\n",
      "2024-10-22 02:42:08,406\tINFO packaging.py:359 -- Pushing file package 'gcs://_ray_pkg_e4fe56ade2d2c5fb.zip' (0.55MiB) to Ray cluster...\n",
      "2024-10-22 02:42:08,410\tINFO packaging.py:372 -- Successfully pushed file package 'gcs://_ray_pkg_e4fe56ade2d2c5fb.zip'.\n",
      "2024-10-22 02:42:08,423\tINFO packaging.py:359 -- Pushing file package 'gcs://_ray_pkg_cf45e3d2dc2c3059d1d9c5eb8af3b440181fce16.zip' (7.25MiB) to Ray cluster...\n",
      "2024-10-22 02:42:08,500\tINFO packaging.py:372 -- Successfully pushed file package 'gcs://_ray_pkg_cf45e3d2dc2c3059d1d9c5eb8af3b440181fce16.zip'.\n"
     ]
    },
    {
     "name": "stdout",
     "output_type": "stream",
     "text": [
      "(autoscaler +19m16s) Tip: use `ray status` to view detailed cluster status. To disable these messages, set RAY_SCHEDULER_EVENTS=0.\n"
     ]
    }
   ],
   "source": [
    "# Initialize ray\n",
    "from src import check_env_vars\n",
    "from src import init_ray\n",
    "\n",
    "# Check if env vars are set correctly\n",
    "check_env_vars()\n",
    "\n",
    "\n",
    "# initialize ray\n",
    "init_ray()"
   ]
  },
  {
   "cell_type": "markdown",
   "metadata": {},
   "source": [
    "We will make use of a random number generator in this notebook to ensure that our notebook is reproducible."
   ]
  },
  {
   "cell_type": "code",
   "execution_count": 5,
   "metadata": {},
   "outputs": [],
   "source": [
    "from src import set_random_seed\n",
    "rng = set_random_seed()"
   ]
  },
  {
   "cell_type": "markdown",
   "metadata": {},
   "source": [
    "We will be using the `PolyAI/banking77` dataset for this tutorial. We use the built in dspy DataLoader to load the dataset from Huggingface as a list of dspy.Example objects."
   ]
  },
  {
   "cell_type": "code",
   "execution_count": 6,
   "metadata": {},
   "outputs": [],
   "source": [
    "%%capture\n",
    "# Prepare the dataset\n",
    "from src import load_data_from_huggingface, convert_int_label_to_string\n",
    "full_trainset, full_testset = load_data_from_huggingface()\n",
    "\n",
    "full_trainset_processed, full_testset_processed = convert_int_label_to_string(full_trainset, full_testset)"
   ]
  },
  {
   "cell_type": "markdown",
   "metadata": {},
   "source": [
    "The dataset is originally called \"banking77\" because there are 77 labels. We will be reducing this to the top 25 most frequent labels."
   ]
  },
  {
   "cell_type": "code",
   "execution_count": 7,
   "metadata": {},
   "outputs": [
    {
     "name": "stdout",
     "output_type": "stream",
     "text": [
      "Dataset filtered to top 25 labels. New sizes:\n",
      "Training set size: 4171; Test set size: 1000\n",
      "Top 25 labels: card_payment_fee_charged, direct_debit_payment_not_recognised, balance_not_updated_after_cheque_or_cash_deposit, wrong_amount_of_cash_received, cash_withdrawal_charge, transaction_charged_twice, declined_cash_withdrawal, transfer_fee_charged, balance_not_updated_after_bank_transfer, transfer_not_received_by_recipient, request_refund, card_payment_not_recognised, card_payment_wrong_exchange_rate, extra_charge_on_statement, wrong_exchange_rate_for_cash_withdrawal, refund_not_showing_up, reverted_card_payment, cash_withdrawal_not_recognised, activate_my_card, pending_card_payment, cancel_transfer, beneficiary_not_allowed, card_arrival, declined_card_payment, pending_top_up\n",
      "Example training set: Example({'label': 'card_arrival', 'text': 'I am still waiting on my card?'}) (input_keys={'text'})\n",
      "Example test set: Example({'label': 'card_arrival', 'text': 'How do I locate my card?'}) (input_keys={'text'})\n"
     ]
    }
   ],
   "source": [
    "from src import filter_to_top_n_labels\n",
    "full_trainset_filtered, full_testset_filtered, top_25_labels = filter_to_top_n_labels(full_trainset_processed, full_testset_processed, n=25)\n",
    "\n",
    "print(f\"Dataset filtered to top 25 labels. New sizes:\")\n",
    "print(f\"Training set size: {len(full_trainset_filtered)}; Test set size: {len(full_testset_filtered)}\")\n",
    "print(f\"Top 25 labels: {', '.join(str(label) for label in top_25_labels)}\")\n",
    "print(f\"Example training set: {full_trainset_filtered[0]}\")\n",
    "print(f\"Example test set: {full_testset_filtered[0]}\")"
   ]
  },
  {
   "cell_type": "code",
   "execution_count": 8,
   "metadata": {},
   "outputs": [
    {
     "name": "stdout",
     "output_type": "stream",
     "text": [
      "['card_payment_fee_charged', 'direct_debit_payment_not_recognised', 'balance_not_updated_after_cheque_or_cash_deposit', 'wrong_amount_of_cash_received', 'cash_withdrawal_charge', 'transaction_charged_twice', 'declined_cash_withdrawal', 'transfer_fee_charged', 'balance_not_updated_after_bank_transfer', 'transfer_not_received_by_recipient', 'request_refund', 'card_payment_not_recognised', 'card_payment_wrong_exchange_rate', 'extra_charge_on_statement', 'wrong_exchange_rate_for_cash_withdrawal', 'refund_not_showing_up', 'reverted_card_payment', 'cash_withdrawal_not_recognised', 'activate_my_card', 'pending_card_payment', 'cancel_transfer', 'beneficiary_not_allowed', 'card_arrival', 'declined_card_payment', 'pending_top_up']\n"
     ]
    }
   ],
   "source": [
    "labels_in_use = top_25_labels\n",
    "print(labels_in_use)"
   ]
  },
  {
   "cell_type": "markdown",
   "metadata": {},
   "source": [
    "Now we will shuffle our training set and split it into a training and labeled set.\n",
    "\n",
    "The scenario we are emulating is that we only have 100 labeled examples to train on. We are saying that we have 4K (length of the training set) unlabeled examples we can then label using an oracle model, and then distill the knowledge from the oracle model into our 1B model."
   ]
  },
  {
   "cell_type": "code",
   "execution_count": 9,
   "metadata": {},
   "outputs": [],
   "source": [
    "from src import adjusted_exact_match, delete_labels, NUM_THREADS\n",
    "\n",
    "common_kwargs = dict(metric=adjusted_exact_match, num_threads=NUM_THREADS, display_progress=True, max_errors=10000)\n",
    "\n",
    "shuffled_trainset = [d for d in full_trainset_filtered]\n",
    "rng.shuffle(shuffled_trainset)\n",
    "\n",
    "# The devset shouldn't overlap\n",
    "ft_trainset = shuffled_trainset[:-100]\n",
    "labeled_trainset = shuffled_trainset[-100:]\n",
    "\n",
    "# For realism of this scenario, we are going to delete all our labels except for our test set(which is cheating and we wouldn't have in production) and our 100 true labeled examples\n",
    "ft_trainset_to_label = delete_labels(ft_trainset)\n",
    "\n",
    "testset = full_testset_filtered\n",
    "evaluate_testset = dspy.Evaluate(devset=testset, **common_kwargs)"
   ]
  },
  {
   "cell_type": "markdown",
   "metadata": {},
   "source": [
    "# Implementing a Simple Chain of Thought Program in DSPy\n",
    "\n",
    "## Defining the Signature\n",
    "\n",
    "At the heart of our DSPy program is the `Signature` class. This class serves as a blueprint, outlining the inputs and outputs of our language model task. Here's how we structure it:\n",
    "\n",
    "1. **Docstring for Context**: We utilize the docstring to provide context to the LLM. In this case, we're passing our fixed set of 25 labels directly in the docstring. This approach is ideal when dealing with a static set of options.\n",
    "\n",
    "2. **Input Field**: We define an `intent` field as the input to our program. This will contain the natural language query we want to classify.\n",
    "\n",
    "3. **Output Field**: The `label` field represents our desired output - the classified intent.\n",
    "\n",
    "Both input and output fields are accompanied by concise descriptions, just to help the LLM understand the task.\n",
    "\n",
    "By structuring our program this way, we utilize DSPy's capabilities to create a clear, modular design that's both powerful and easy to maintain. "
   ]
  },
  {
   "cell_type": "code",
   "execution_count": 11,
   "metadata": {},
   "outputs": [],
   "source": [
    "class IntentClassification(dspy.Signature):\n",
    "    \"\"\"As a part of a banking issue traiging system, classify the intent of a natural language query into one of the 25 labels.\n",
    "    The intent should exactly match one of the following:\n",
    "    ['card_payment_fee_charged', 'direct_debit_payment_not_recognised', 'balance_not_updated_after_cheque_or_cash_deposit', 'wrong_amount_of_cash_received', 'cash_withdrawal_charge', 'transaction_charged_twice', 'declined_cash_withdrawal', 'transfer_fee_charged', 'balance_not_updated_after_bank_transfer', 'transfer_not_received_by_recipient', 'request_refund', 'card_payment_not_recognised', 'card_payment_wrong_exchange_rate', 'extra_charge_on_statement', 'wrong_exchange_rate_for_cash_withdrawal', 'refund_not_showing_up', 'reverted_card_payment', 'cash_withdrawal_not_recognised', 'activate_my_card', 'pending_card_payment', 'cancel_transfer', 'beneficiary_not_allowed', 'card_arrival', 'declined_card_payment', 'pending_top_up']\n",
    "    \"\"\"\n",
    "\n",
    "    intent = dspy.InputField(desc=\"Intent of the query\")\n",
    "    label = dspy.OutputField(desc=\"Type of the intent; Should just be one of the 25 labels with no other text\")"
   ]
  },
  {
   "cell_type": "markdown",
   "metadata": {},
   "source": [
    "For the module, we create a dspy.Module class that contains the Chain of Thought predictor using the signature we defined above.\n",
    "We also pass in the valid labels to the module.\n",
    "\n",
    "Inside the forward method, we pass the text to the predictor, do a little cleaning, and return the prediction."
   ]
  },
  {
   "cell_type": "code",
   "execution_count": 12,
   "metadata": {},
   "outputs": [],
   "source": [
    "class IntentClassificationModule(dspy.Module):\n",
    "    def __init__(self, labels_in_use):\n",
    "        self.intent_classifier = dspy.ChainOfThought(IntentClassification)\n",
    "        self.valid_labels = set(labels_in_use)\n",
    "\n",
    "    def forward(self, text):\n",
    "        prediction = self.intent_classifier(intent=text)\n",
    "        sanitized_prediction = dspy.Prediction(label=prediction.label.lower().strip().replace(\" \", \"_\"), reasoning=prediction.reasoning)\n",
    "        return sanitized_prediction"
   ]
  },
  {
   "cell_type": "markdown",
   "metadata": {},
   "source": [
    "Lastly, we set up some the vanilla program we will use throughout the notebook."
   ]
  },
  {
   "cell_type": "code",
   "execution_count": 13,
   "metadata": {},
   "outputs": [],
   "source": [
    "from src import MODEL_PARAMETERS, LOCAL_API_PARAMETERS\n",
    "vanilla_program = IntentClassificationModule(labels_in_use)"
   ]
  },
  {
   "cell_type": "code",
   "execution_count": 15,
   "metadata": {},
   "outputs": [],
   "source": [
    "# Note: Run above this to do all setup without launching any models\n",
    "# This is useful if you have already collected data and want to start from finetuning or from evaluation"
   ]
  },
  {
   "cell_type": "markdown",
   "metadata": {},
   "source": [
    "# Deploying and Utilizing a 70B Language Model\n",
    "\n",
    "This section outlines the process of deploying and utilizing a 70B parameter language model for data gathering and training. Key steps include:\n",
    "\n",
    "1. Infrastructure: Leverage Anyscale's [RayLLM](https://docs.anyscale.com/llms/serving/intro) with \"Auto-select worker nodes\" for dynamically allocating GPUs.\n",
    "2. Configuration: Use a pre-generated serve config file (created via `rayllm gen-config`) to configure the RayLLM instance.\n",
    "\n",
    "Below we show the contents of the serve config and its corresponding model config file."
   ]
  },
  {
   "cell_type": "code",
   "execution_count": 14,
   "metadata": {},
   "outputs": [
    {
     "name": "stdout",
     "output_type": "stream",
     "text": [
      "serve_70B.yaml:\n",
      "applications:\n",
      "- args:\n",
      "    llm_configs:\n",
      "    - ./model_config/meta-llama--Meta-Llama-3_1-70B-Instruct.yaml\n",
      "  import_path: rayllm:app\n",
      "  name: llm-endpoint\n",
      "  route_prefix: /\n",
      "query_auth_token_enabled: false\n",
      "\n",
      "==================================================\n",
      "model_config:\n",
      "accelerator_type: A100-80G\n",
      "deployment_config:\n",
      "  autoscaling_config:\n",
      "    initial_replicas: 1\n",
      "    max_replicas: 2\n",
      "    min_replicas: 0\n",
      "    target_ongoing_requests: 128\n",
      "  max_ongoing_requests: 300\n",
      "engine_kwargs:\n",
      "  enable_chunked_prefill: true\n",
      "  max_num_batched_tokens: 8192\n",
      "  max_num_seqs: 256\n",
      "  tokenizer_pool_extra_config:\n",
      "    runtime_env:\n",
      "      pip: null\n",
      "  tokenizer_pool_size: 2\n",
      "  trust_remote_code: true\n",
      "generation_config:\n",
      "  prompt_format:\n",
      "    assistant: '<|start_header_id|>assistant<|end_header_id|>\n",
      "\n",
      "\n",
      "      {instruction}<|eot_id|>'\n",
      "    bos: <|begin_of_text|>\n",
      "    default_system_message: ''\n",
      "    system: '<|start_header_id|>system<|end_header_id|>\n",
      "\n",
      "\n",
      "      {instruction}<|eot_id|>'\n",
      "    system_in_user: false\n",
      "    trailing_assistant: '<|start_header_id|>assistant<|end_header_id|>\n",
      "\n",
      "\n",
      "      '\n",
      "    user: '<|start_header_id|>user<|end_header_id|>\n",
      "\n",
      "\n",
      "      {instruction}<|eot_id|>'\n",
      "  stopping_sequences: []\n",
      "  stopping_tokens:\n",
      "  - 128001\n",
      "  - 128009\n",
      "input_modality: text\n",
      "json_mode:\n",
      "  enabled: false\n",
      "llm_engine: VLLMEngine\n",
      "lora_config: null\n",
      "max_request_context_length: 8192\n",
      "model_loading_config:\n",
      "  model_id: meta-llama/Meta-Llama-3.1-70B-Instruct\n",
      "  model_source: meta-llama/Meta-Llama-3.1-70B-Instruct\n",
      "runtime_env:\n",
      "  env_vars:\n",
      "    HUGGING_FACE_HUB_TOKEN: hf_1234567890\n",
      "tensor_parallelism:\n",
      "  degree: 4\n",
      "\n"
     ]
    }
   ],
   "source": [
    "import yaml\n",
    "from src import get_serve_and_model_config, update_serve_config_hf_token\n",
    "\n",
    "get_serve_and_model_config(\"serve_70B.yaml\")\n",
    "# update with custom HF_TOKEN\n",
    "update_serve_config_hf_token(\"serve_70B.yaml\")"
   ]
  },
  {
   "cell_type": "code",
   "execution_count": 15,
   "metadata": {},
   "outputs": [
    {
     "name": "stdout",
     "output_type": "stream",
     "text": [
      "2024-10-22 02:53:37,037\tINFO scripts.py:489 -- Running config file: 'serve_70B.yaml'.\n",
      "2024-10-22 02:53:37,471\tINFO worker.py:1601 -- Connecting to existing Ray cluster at address: 10.0.0.121:6379...\n",
      "2024-10-22 02:53:37,476\tINFO worker.py:1777 -- Connected to Ray cluster. View the dashboard at https://session-rvjx58jmwrc9n3vi27hu8y4rr8.i.anyscaleuserdata.com \n",
      "2024-10-22 02:53:37,496\tINFO packaging.py:359 -- Pushing file package 'gcs://_ray_pkg_8f4c4880f4aa88b05e861dc41262ee76bfcd6688.zip' (7.25MiB) to Ray cluster...\n",
      "2024-10-22 02:53:37,583\tINFO packaging.py:372 -- Successfully pushed file package 'gcs://_ray_pkg_8f4c4880f4aa88b05e861dc41262ee76bfcd6688.zip'.\n",
      "INFO 2024-10-22 02:53:37,621 serve 60009 api.py:259 - Connecting to existing Serve app in namespace \"serve\". New http options will not be applied.\n",
      "2024-10-22 02:53:37,626\tSUCC scripts.py:540 -- Submitted deploy config successfully.\n",
      "(ServeController pid=9667) INFO 2024-10-22 02:53:37,625 controller 9667 application_state.py:457 - Importing and building app 'llm-endpoint'.\n"
     ]
    }
   ],
   "source": [
    "!serve run --non-blocking serve_70B.yaml"
   ]
  },
  {
   "cell_type": "code",
   "execution_count": 16,
   "metadata": {},
   "outputs": [],
   "source": [
    "llama_70b = dspy.LM(model=\"openai/meta-llama/Meta-Llama-3.1-70B-Instruct\", **MODEL_PARAMETERS, **LOCAL_API_PARAMETERS)"
   ]
  },
  {
   "cell_type": "markdown",
   "metadata": {},
   "source": [
    "You can expect the cell below to take around 8-10 minutes to run, as it waits for the cluster to recruit a worker node if necessary and also downloads the 70B model weights."
   ]
  },
  {
   "cell_type": "code",
   "execution_count": 17,
   "metadata": {},
   "outputs": [
    {
     "name": "stdout",
     "output_type": "stream",
     "text": [
      "Program input: Example({'text': 'I still have not received an answer as to why I was charged $1.00 in a transaction?'}) (input_keys={'text'})\n"
     ]
    },
    {
     "ename": "NotFoundError",
     "evalue": "litellm.NotFoundError: NotFoundError: OpenAIException - Error code: 404 - {'generated_text': None, 'tool_calls': None, 'embedding_outputs': None, 'logprobs': None, 'num_input_tokens': None, 'num_input_tokens_batch': None, 'num_generated_tokens': None, 'num_generated_tokens_batch': None, 'preprocessing_time': None, 'generation_time': None, 'timestamp': 1729565927.9633803, 'finish_reason': None, 'error': {'message': 'Unable to find meta-llama/Meta-Llama-3.1-70B-Instruct. Please ensure that the model exists and you have permission. (Request ID: 183ca495-8542-4f30-8f02-50ec2f5718af)', 'internal_message': 'rayllm_oss.backend.server.openai_compat.openai_exception.OpenAIHTTPException (Request ID: 183ca495-8542-4f30-8f02-50ec2f5718af)', 'code': 404, 'type': 'OpenAIHTTPException', 'param': {}}}",
     "output_type": "error",
     "traceback": [
      "\u001b[0;31m---------------------------------------------------------------------------\u001b[0m",
      "\u001b[0;31mNotFoundError\u001b[0m                             Traceback (most recent call last)",
      "File \u001b[0;32m~/anaconda3/lib/python3.9/site-packages/litellm/llms/OpenAI/openai.py:841\u001b[0m, in \u001b[0;36mOpenAIChatCompletion.completion\u001b[0;34m(self, model_response, timeout, optional_params, logging_obj, model, messages, print_verbose, api_key, api_base, acompletion, litellm_params, logger_fn, headers, custom_prompt_dict, client, organization, custom_llm_provider, drop_params)\u001b[0m\n\u001b[1;32m    840\u001b[0m             \u001b[39melse\u001b[39;00m:\n\u001b[0;32m--> 841\u001b[0m                 \u001b[39mraise\u001b[39;00m e\n\u001b[1;32m    842\u001b[0m \u001b[39mexcept\u001b[39;00m OpenAIError \u001b[39mas\u001b[39;00m e:\n",
      "File \u001b[0;32m~/anaconda3/lib/python3.9/site-packages/litellm/llms/OpenAI/openai.py:777\u001b[0m, in \u001b[0;36mOpenAIChatCompletion.completion\u001b[0;34m(self, model_response, timeout, optional_params, logging_obj, model, messages, print_verbose, api_key, api_base, acompletion, litellm_params, logger_fn, headers, custom_prompt_dict, client, organization, custom_llm_provider, drop_params)\u001b[0m\n\u001b[1;32m    765\u001b[0m logging_obj\u001b[39m.\u001b[39mpre_call(\n\u001b[1;32m    766\u001b[0m     \u001b[39minput\u001b[39m\u001b[39m=\u001b[39mmessages,\n\u001b[1;32m    767\u001b[0m     api_key\u001b[39m=\u001b[39mopenai_client\u001b[39m.\u001b[39mapi_key,\n\u001b[0;32m   (...)\u001b[0m\n\u001b[1;32m    773\u001b[0m     },\n\u001b[1;32m    774\u001b[0m )\n\u001b[1;32m    776\u001b[0m headers, response \u001b[39m=\u001b[39m (\n\u001b[0;32m--> 777\u001b[0m     \u001b[39mself\u001b[39;49m\u001b[39m.\u001b[39;49mmake_sync_openai_chat_completion_request(\n\u001b[1;32m    778\u001b[0m         openai_client\u001b[39m=\u001b[39;49mopenai_client,\n\u001b[1;32m    779\u001b[0m         data\u001b[39m=\u001b[39;49mdata,\n\u001b[1;32m    780\u001b[0m         timeout\u001b[39m=\u001b[39;49mtimeout,\n\u001b[1;32m    781\u001b[0m     )\n\u001b[1;32m    782\u001b[0m )\n\u001b[1;32m    784\u001b[0m logging_obj\u001b[39m.\u001b[39mmodel_call_details[\u001b[39m\"\u001b[39m\u001b[39mresponse_headers\u001b[39m\u001b[39m\"\u001b[39m] \u001b[39m=\u001b[39m headers\n",
      "File \u001b[0;32m~/anaconda3/lib/python3.9/site-packages/litellm/llms/OpenAI/openai.py:636\u001b[0m, in \u001b[0;36mOpenAIChatCompletion.make_sync_openai_chat_completion_request\u001b[0;34m(self, openai_client, data, timeout)\u001b[0m\n\u001b[1;32m    635\u001b[0m \u001b[39melse\u001b[39;00m:\n\u001b[0;32m--> 636\u001b[0m     \u001b[39mraise\u001b[39;00m e\n",
      "File \u001b[0;32m~/anaconda3/lib/python3.9/site-packages/litellm/llms/OpenAI/openai.py:618\u001b[0m, in \u001b[0;36mOpenAIChatCompletion.make_sync_openai_chat_completion_request\u001b[0;34m(self, openai_client, data, timeout)\u001b[0m\n\u001b[1;32m    617\u001b[0m \u001b[39mtry\u001b[39;00m:\n\u001b[0;32m--> 618\u001b[0m     raw_response \u001b[39m=\u001b[39m openai_client\u001b[39m.\u001b[39;49mchat\u001b[39m.\u001b[39;49mcompletions\u001b[39m.\u001b[39;49mwith_raw_response\u001b[39m.\u001b[39;49mcreate(\n\u001b[1;32m    619\u001b[0m         \u001b[39m*\u001b[39;49m\u001b[39m*\u001b[39;49mdata, timeout\u001b[39m=\u001b[39;49mtimeout\n\u001b[1;32m    620\u001b[0m     )\n\u001b[1;32m    622\u001b[0m     \u001b[39mif\u001b[39;00m \u001b[39mhasattr\u001b[39m(raw_response, \u001b[39m\"\u001b[39m\u001b[39mheaders\u001b[39m\u001b[39m\"\u001b[39m):\n",
      "File \u001b[0;32m~/anaconda3/lib/python3.9/site-packages/openai/_legacy_response.py:356\u001b[0m, in \u001b[0;36mto_raw_response_wrapper.<locals>.wrapped\u001b[0;34m(*args, **kwargs)\u001b[0m\n\u001b[1;32m    354\u001b[0m kwargs[\u001b[39m\"\u001b[39m\u001b[39mextra_headers\u001b[39m\u001b[39m\"\u001b[39m] \u001b[39m=\u001b[39m extra_headers\n\u001b[0;32m--> 356\u001b[0m \u001b[39mreturn\u001b[39;00m cast(LegacyAPIResponse[R], func(\u001b[39m*\u001b[39;49margs, \u001b[39m*\u001b[39;49m\u001b[39m*\u001b[39;49mkwargs))\n",
      "File \u001b[0;32m~/anaconda3/lib/python3.9/site-packages/openai/_utils/_utils.py:274\u001b[0m, in \u001b[0;36mrequired_args.<locals>.inner.<locals>.wrapper\u001b[0;34m(*args, **kwargs)\u001b[0m\n\u001b[1;32m    273\u001b[0m     \u001b[39mraise\u001b[39;00m \u001b[39mTypeError\u001b[39;00m(msg)\n\u001b[0;32m--> 274\u001b[0m \u001b[39mreturn\u001b[39;00m func(\u001b[39m*\u001b[39;49margs, \u001b[39m*\u001b[39;49m\u001b[39m*\u001b[39;49mkwargs)\n",
      "File \u001b[0;32m~/anaconda3/lib/python3.9/site-packages/openai/resources/chat/completions.py:815\u001b[0m, in \u001b[0;36mCompletions.create\u001b[0;34m(self, messages, model, audio, frequency_penalty, function_call, functions, logit_bias, logprobs, max_completion_tokens, max_tokens, metadata, modalities, n, parallel_tool_calls, presence_penalty, response_format, seed, service_tier, stop, store, stream, stream_options, temperature, tool_choice, tools, top_logprobs, top_p, user, extra_headers, extra_query, extra_body, timeout)\u001b[0m\n\u001b[1;32m    814\u001b[0m validate_response_format(response_format)\n\u001b[0;32m--> 815\u001b[0m \u001b[39mreturn\u001b[39;00m \u001b[39mself\u001b[39;49m\u001b[39m.\u001b[39;49m_post(\n\u001b[1;32m    816\u001b[0m     \u001b[39m\"\u001b[39;49m\u001b[39m/chat/completions\u001b[39;49m\u001b[39m\"\u001b[39;49m,\n\u001b[1;32m    817\u001b[0m     body\u001b[39m=\u001b[39;49mmaybe_transform(\n\u001b[1;32m    818\u001b[0m         {\n\u001b[1;32m    819\u001b[0m             \u001b[39m\"\u001b[39;49m\u001b[39mmessages\u001b[39;49m\u001b[39m\"\u001b[39;49m: messages,\n\u001b[1;32m    820\u001b[0m             \u001b[39m\"\u001b[39;49m\u001b[39mmodel\u001b[39;49m\u001b[39m\"\u001b[39;49m: model,\n\u001b[1;32m    821\u001b[0m             \u001b[39m\"\u001b[39;49m\u001b[39maudio\u001b[39;49m\u001b[39m\"\u001b[39;49m: audio,\n\u001b[1;32m    822\u001b[0m             \u001b[39m\"\u001b[39;49m\u001b[39mfrequency_penalty\u001b[39;49m\u001b[39m\"\u001b[39;49m: frequency_penalty,\n\u001b[1;32m    823\u001b[0m             \u001b[39m\"\u001b[39;49m\u001b[39mfunction_call\u001b[39;49m\u001b[39m\"\u001b[39;49m: function_call,\n\u001b[1;32m    824\u001b[0m             \u001b[39m\"\u001b[39;49m\u001b[39mfunctions\u001b[39;49m\u001b[39m\"\u001b[39;49m: functions,\n\u001b[1;32m    825\u001b[0m             \u001b[39m\"\u001b[39;49m\u001b[39mlogit_bias\u001b[39;49m\u001b[39m\"\u001b[39;49m: logit_bias,\n\u001b[1;32m    826\u001b[0m             \u001b[39m\"\u001b[39;49m\u001b[39mlogprobs\u001b[39;49m\u001b[39m\"\u001b[39;49m: logprobs,\n\u001b[1;32m    827\u001b[0m             \u001b[39m\"\u001b[39;49m\u001b[39mmax_completion_tokens\u001b[39;49m\u001b[39m\"\u001b[39;49m: max_completion_tokens,\n\u001b[1;32m    828\u001b[0m             \u001b[39m\"\u001b[39;49m\u001b[39mmax_tokens\u001b[39;49m\u001b[39m\"\u001b[39;49m: max_tokens,\n\u001b[1;32m    829\u001b[0m             \u001b[39m\"\u001b[39;49m\u001b[39mmetadata\u001b[39;49m\u001b[39m\"\u001b[39;49m: metadata,\n\u001b[1;32m    830\u001b[0m             \u001b[39m\"\u001b[39;49m\u001b[39mmodalities\u001b[39;49m\u001b[39m\"\u001b[39;49m: modalities,\n\u001b[1;32m    831\u001b[0m             \u001b[39m\"\u001b[39;49m\u001b[39mn\u001b[39;49m\u001b[39m\"\u001b[39;49m: n,\n\u001b[1;32m    832\u001b[0m             \u001b[39m\"\u001b[39;49m\u001b[39mparallel_tool_calls\u001b[39;49m\u001b[39m\"\u001b[39;49m: parallel_tool_calls,\n\u001b[1;32m    833\u001b[0m             \u001b[39m\"\u001b[39;49m\u001b[39mpresence_penalty\u001b[39;49m\u001b[39m\"\u001b[39;49m: presence_penalty,\n\u001b[1;32m    834\u001b[0m             \u001b[39m\"\u001b[39;49m\u001b[39mresponse_format\u001b[39;49m\u001b[39m\"\u001b[39;49m: response_format,\n\u001b[1;32m    835\u001b[0m             \u001b[39m\"\u001b[39;49m\u001b[39mseed\u001b[39;49m\u001b[39m\"\u001b[39;49m: seed,\n\u001b[1;32m    836\u001b[0m             \u001b[39m\"\u001b[39;49m\u001b[39mservice_tier\u001b[39;49m\u001b[39m\"\u001b[39;49m: service_tier,\n\u001b[1;32m    837\u001b[0m             \u001b[39m\"\u001b[39;49m\u001b[39mstop\u001b[39;49m\u001b[39m\"\u001b[39;49m: stop,\n\u001b[1;32m    838\u001b[0m             \u001b[39m\"\u001b[39;49m\u001b[39mstore\u001b[39;49m\u001b[39m\"\u001b[39;49m: store,\n\u001b[1;32m    839\u001b[0m             \u001b[39m\"\u001b[39;49m\u001b[39mstream\u001b[39;49m\u001b[39m\"\u001b[39;49m: stream,\n\u001b[1;32m    840\u001b[0m             \u001b[39m\"\u001b[39;49m\u001b[39mstream_options\u001b[39;49m\u001b[39m\"\u001b[39;49m: stream_options,\n\u001b[1;32m    841\u001b[0m             \u001b[39m\"\u001b[39;49m\u001b[39mtemperature\u001b[39;49m\u001b[39m\"\u001b[39;49m: temperature,\n\u001b[1;32m    842\u001b[0m             \u001b[39m\"\u001b[39;49m\u001b[39mtool_choice\u001b[39;49m\u001b[39m\"\u001b[39;49m: tool_choice,\n\u001b[1;32m    843\u001b[0m             \u001b[39m\"\u001b[39;49m\u001b[39mtools\u001b[39;49m\u001b[39m\"\u001b[39;49m: tools,\n\u001b[1;32m    844\u001b[0m             \u001b[39m\"\u001b[39;49m\u001b[39mtop_logprobs\u001b[39;49m\u001b[39m\"\u001b[39;49m: top_logprobs,\n\u001b[1;32m    845\u001b[0m             \u001b[39m\"\u001b[39;49m\u001b[39mtop_p\u001b[39;49m\u001b[39m\"\u001b[39;49m: top_p,\n\u001b[1;32m    846\u001b[0m             \u001b[39m\"\u001b[39;49m\u001b[39muser\u001b[39;49m\u001b[39m\"\u001b[39;49m: user,\n\u001b[1;32m    847\u001b[0m         },\n\u001b[1;32m    848\u001b[0m         completion_create_params\u001b[39m.\u001b[39;49mCompletionCreateParams,\n\u001b[1;32m    849\u001b[0m     ),\n\u001b[1;32m    850\u001b[0m     options\u001b[39m=\u001b[39;49mmake_request_options(\n\u001b[1;32m    851\u001b[0m         extra_headers\u001b[39m=\u001b[39;49mextra_headers, extra_query\u001b[39m=\u001b[39;49mextra_query, extra_body\u001b[39m=\u001b[39;49mextra_body, timeout\u001b[39m=\u001b[39;49mtimeout\n\u001b[1;32m    852\u001b[0m     ),\n\u001b[1;32m    853\u001b[0m     cast_to\u001b[39m=\u001b[39;49mChatCompletion,\n\u001b[1;32m    854\u001b[0m     stream\u001b[39m=\u001b[39;49mstream \u001b[39mor\u001b[39;49;00m \u001b[39mFalse\u001b[39;49;00m,\n\u001b[1;32m    855\u001b[0m     stream_cls\u001b[39m=\u001b[39;49mStream[ChatCompletionChunk],\n\u001b[1;32m    856\u001b[0m )\n",
      "File \u001b[0;32m~/anaconda3/lib/python3.9/site-packages/openai/_base_client.py:1277\u001b[0m, in \u001b[0;36mSyncAPIClient.post\u001b[0;34m(self, path, cast_to, body, options, files, stream, stream_cls)\u001b[0m\n\u001b[1;32m   1274\u001b[0m opts \u001b[39m=\u001b[39m FinalRequestOptions\u001b[39m.\u001b[39mconstruct(\n\u001b[1;32m   1275\u001b[0m     method\u001b[39m=\u001b[39m\u001b[39m\"\u001b[39m\u001b[39mpost\u001b[39m\u001b[39m\"\u001b[39m, url\u001b[39m=\u001b[39mpath, json_data\u001b[39m=\u001b[39mbody, files\u001b[39m=\u001b[39mto_httpx_files(files), \u001b[39m*\u001b[39m\u001b[39m*\u001b[39moptions\n\u001b[1;32m   1276\u001b[0m )\n\u001b[0;32m-> 1277\u001b[0m \u001b[39mreturn\u001b[39;00m cast(ResponseT, \u001b[39mself\u001b[39;49m\u001b[39m.\u001b[39;49mrequest(cast_to, opts, stream\u001b[39m=\u001b[39;49mstream, stream_cls\u001b[39m=\u001b[39;49mstream_cls))\n",
      "File \u001b[0;32m~/anaconda3/lib/python3.9/site-packages/openai/_base_client.py:954\u001b[0m, in \u001b[0;36mSyncAPIClient.request\u001b[0;34m(self, cast_to, options, remaining_retries, stream, stream_cls)\u001b[0m\n\u001b[1;32m    952\u001b[0m     retries_taken \u001b[39m=\u001b[39m \u001b[39m0\u001b[39m\n\u001b[0;32m--> 954\u001b[0m \u001b[39mreturn\u001b[39;00m \u001b[39mself\u001b[39;49m\u001b[39m.\u001b[39;49m_request(\n\u001b[1;32m    955\u001b[0m     cast_to\u001b[39m=\u001b[39;49mcast_to,\n\u001b[1;32m    956\u001b[0m     options\u001b[39m=\u001b[39;49moptions,\n\u001b[1;32m    957\u001b[0m     stream\u001b[39m=\u001b[39;49mstream,\n\u001b[1;32m    958\u001b[0m     stream_cls\u001b[39m=\u001b[39;49mstream_cls,\n\u001b[1;32m    959\u001b[0m     retries_taken\u001b[39m=\u001b[39;49mretries_taken,\n\u001b[1;32m    960\u001b[0m )\n",
      "File \u001b[0;32m~/anaconda3/lib/python3.9/site-packages/openai/_base_client.py:1058\u001b[0m, in \u001b[0;36mSyncAPIClient._request\u001b[0;34m(self, cast_to, options, retries_taken, stream, stream_cls)\u001b[0m\n\u001b[1;32m   1057\u001b[0m     log\u001b[39m.\u001b[39mdebug(\u001b[39m\"\u001b[39m\u001b[39mRe-raising status error\u001b[39m\u001b[39m\"\u001b[39m)\n\u001b[0;32m-> 1058\u001b[0m     \u001b[39mraise\u001b[39;00m \u001b[39mself\u001b[39m\u001b[39m.\u001b[39m_make_status_error_from_response(err\u001b[39m.\u001b[39mresponse) \u001b[39mfrom\u001b[39;00m \u001b[39mNone\u001b[39;00m\n\u001b[1;32m   1060\u001b[0m \u001b[39mreturn\u001b[39;00m \u001b[39mself\u001b[39m\u001b[39m.\u001b[39m_process_response(\n\u001b[1;32m   1061\u001b[0m     cast_to\u001b[39m=\u001b[39mcast_to,\n\u001b[1;32m   1062\u001b[0m     options\u001b[39m=\u001b[39moptions,\n\u001b[0;32m   (...)\u001b[0m\n\u001b[1;32m   1066\u001b[0m     retries_taken\u001b[39m=\u001b[39mretries_taken,\n\u001b[1;32m   1067\u001b[0m )\n",
      "\u001b[0;31mNotFoundError\u001b[0m: Error code: 404 - {'generated_text': None, 'tool_calls': None, 'embedding_outputs': None, 'logprobs': None, 'num_input_tokens': None, 'num_input_tokens_batch': None, 'num_generated_tokens': None, 'num_generated_tokens_batch': None, 'preprocessing_time': None, 'generation_time': None, 'timestamp': 1729565927.9633803, 'finish_reason': None, 'error': {'message': 'Unable to find meta-llama/Meta-Llama-3.1-70B-Instruct. Please ensure that the model exists and you have permission. (Request ID: 183ca495-8542-4f30-8f02-50ec2f5718af)', 'internal_message': 'rayllm_oss.backend.server.openai_compat.openai_exception.OpenAIHTTPException (Request ID: 183ca495-8542-4f30-8f02-50ec2f5718af)', 'code': 404, 'type': 'OpenAIHTTPException', 'param': {}}}",
      "\nDuring handling of the above exception, another exception occurred:\n",
      "\u001b[0;31mOpenAIError\u001b[0m                               Traceback (most recent call last)",
      "File \u001b[0;32m~/anaconda3/lib/python3.9/site-packages/litellm/main.py:1595\u001b[0m, in \u001b[0;36mcompletion\u001b[0;34m(model, messages, timeout, temperature, top_p, n, stream, stream_options, stop, max_completion_tokens, max_tokens, modalities, audio, presence_penalty, frequency_penalty, logit_bias, user, response_format, seed, tools, tool_choice, logprobs, top_logprobs, parallel_tool_calls, deployment_id, extra_headers, functions, function_call, base_url, api_version, api_key, model_list, **kwargs)\u001b[0m\n\u001b[1;32m   1589\u001b[0m     logging\u001b[39m.\u001b[39mpost_call(\n\u001b[1;32m   1590\u001b[0m         \u001b[39minput\u001b[39m\u001b[39m=\u001b[39mmessages,\n\u001b[1;32m   1591\u001b[0m         api_key\u001b[39m=\u001b[39mapi_key,\n\u001b[1;32m   1592\u001b[0m         original_response\u001b[39m=\u001b[39m\u001b[39mstr\u001b[39m(e),\n\u001b[1;32m   1593\u001b[0m         additional_args\u001b[39m=\u001b[39m{\u001b[39m\"\u001b[39m\u001b[39mheaders\u001b[39m\u001b[39m\"\u001b[39m: headers},\n\u001b[1;32m   1594\u001b[0m     )\n\u001b[0;32m-> 1595\u001b[0m     \u001b[39mraise\u001b[39;00m e\n\u001b[1;32m   1597\u001b[0m \u001b[39mif\u001b[39;00m optional_params\u001b[39m.\u001b[39mget(\u001b[39m\"\u001b[39m\u001b[39mstream\u001b[39m\u001b[39m\"\u001b[39m, \u001b[39mFalse\u001b[39;00m):\n\u001b[1;32m   1598\u001b[0m     \u001b[39m## LOGGING\u001b[39;00m\n",
      "File \u001b[0;32m~/anaconda3/lib/python3.9/site-packages/litellm/main.py:1568\u001b[0m, in \u001b[0;36mcompletion\u001b[0;34m(model, messages, timeout, temperature, top_p, n, stream, stream_options, stop, max_completion_tokens, max_tokens, modalities, audio, presence_penalty, frequency_penalty, logit_bias, user, response_format, seed, tools, tool_choice, logprobs, top_logprobs, parallel_tool_calls, deployment_id, extra_headers, functions, function_call, base_url, api_version, api_key, model_list, **kwargs)\u001b[0m\n\u001b[1;32m   1567\u001b[0m     \u001b[39melse\u001b[39;00m:\n\u001b[0;32m-> 1568\u001b[0m         response \u001b[39m=\u001b[39m openai_chat_completions\u001b[39m.\u001b[39;49mcompletion(\n\u001b[1;32m   1569\u001b[0m             model\u001b[39m=\u001b[39;49mmodel,\n\u001b[1;32m   1570\u001b[0m             messages\u001b[39m=\u001b[39;49mmessages,\n\u001b[1;32m   1571\u001b[0m             headers\u001b[39m=\u001b[39;49mheaders,\n\u001b[1;32m   1572\u001b[0m             model_response\u001b[39m=\u001b[39;49mmodel_response,\n\u001b[1;32m   1573\u001b[0m             print_verbose\u001b[39m=\u001b[39;49mprint_verbose,\n\u001b[1;32m   1574\u001b[0m             api_key\u001b[39m=\u001b[39;49mapi_key,\n\u001b[1;32m   1575\u001b[0m             api_base\u001b[39m=\u001b[39;49mapi_base,\n\u001b[1;32m   1576\u001b[0m             acompletion\u001b[39m=\u001b[39;49macompletion,\n\u001b[1;32m   1577\u001b[0m             logging_obj\u001b[39m=\u001b[39;49mlogging,\n\u001b[1;32m   1578\u001b[0m             optional_params\u001b[39m=\u001b[39;49moptional_params,\n\u001b[1;32m   1579\u001b[0m             litellm_params\u001b[39m=\u001b[39;49mlitellm_params,\n\u001b[1;32m   1580\u001b[0m             logger_fn\u001b[39m=\u001b[39;49mlogger_fn,\n\u001b[1;32m   1581\u001b[0m             timeout\u001b[39m=\u001b[39;49mtimeout,  \u001b[39m# type: ignore\u001b[39;49;00m\n\u001b[1;32m   1582\u001b[0m             custom_prompt_dict\u001b[39m=\u001b[39;49mcustom_prompt_dict,\n\u001b[1;32m   1583\u001b[0m             client\u001b[39m=\u001b[39;49mclient,  \u001b[39m# pass AsyncOpenAI, OpenAI client\u001b[39;49;00m\n\u001b[1;32m   1584\u001b[0m             organization\u001b[39m=\u001b[39;49morganization,\n\u001b[1;32m   1585\u001b[0m             custom_llm_provider\u001b[39m=\u001b[39;49mcustom_llm_provider,\n\u001b[1;32m   1586\u001b[0m         )\n\u001b[1;32m   1587\u001b[0m \u001b[39mexcept\u001b[39;00m \u001b[39mException\u001b[39;00m \u001b[39mas\u001b[39;00m e:\n\u001b[1;32m   1588\u001b[0m     \u001b[39m## LOGGING - log the original exception returned\u001b[39;00m\n",
      "File \u001b[0;32m~/anaconda3/lib/python3.9/site-packages/litellm/llms/OpenAI/openai.py:851\u001b[0m, in \u001b[0;36mOpenAIChatCompletion.completion\u001b[0;34m(self, model_response, timeout, optional_params, logging_obj, model, messages, print_verbose, api_key, api_base, acompletion, litellm_params, logger_fn, headers, custom_prompt_dict, client, organization, custom_llm_provider, drop_params)\u001b[0m\n\u001b[1;32m    850\u001b[0m     error_headers \u001b[39m=\u001b[39m \u001b[39mgetattr\u001b[39m(error_response, \u001b[39m\"\u001b[39m\u001b[39mheaders\u001b[39m\u001b[39m\"\u001b[39m, \u001b[39mNone\u001b[39;00m)\n\u001b[0;32m--> 851\u001b[0m \u001b[39mraise\u001b[39;00m OpenAIError(\n\u001b[1;32m    852\u001b[0m     status_code\u001b[39m=\u001b[39mstatus_code, message\u001b[39m=\u001b[39merror_text, headers\u001b[39m=\u001b[39merror_headers\n\u001b[1;32m    853\u001b[0m )\n",
      "\u001b[0;31mOpenAIError\u001b[0m: Error code: 404 - {'generated_text': None, 'tool_calls': None, 'embedding_outputs': None, 'logprobs': None, 'num_input_tokens': None, 'num_input_tokens_batch': None, 'num_generated_tokens': None, 'num_generated_tokens_batch': None, 'preprocessing_time': None, 'generation_time': None, 'timestamp': 1729565927.9633803, 'finish_reason': None, 'error': {'message': 'Unable to find meta-llama/Meta-Llama-3.1-70B-Instruct. Please ensure that the model exists and you have permission. (Request ID: 183ca495-8542-4f30-8f02-50ec2f5718af)', 'internal_message': 'rayllm_oss.backend.server.openai_compat.openai_exception.OpenAIHTTPException (Request ID: 183ca495-8542-4f30-8f02-50ec2f5718af)', 'code': 404, 'type': 'OpenAIHTTPException', 'param': {}}}",
      "\nDuring handling of the above exception, another exception occurred:\n",
      "\u001b[0;31mNotFoundError\u001b[0m                             Traceback (most recent call last)",
      "\u001b[1;32m/home/ray/default/templates/templates/e2e-dspy-workflow/README.ipynb Cell 33\u001b[0m line \u001b[0;36m3\n\u001b[1;32m      <a href='vscode-notebook-cell://vscode-session-rvjx58jmwrc9n3vi27hu8y4rr8.i.anyscaleuserdata.com/home/ray/default/templates/templates/e2e-dspy-workflow/README.ipynb#X46sdnNjb2RlLXJlbW90ZQ%3D%3D?line=0'>1</a>\u001b[0m \u001b[39mfrom\u001b[39;00m \u001b[39msrc\u001b[39;00m \u001b[39mimport\u001b[39;00m sanity_check_program\n\u001b[0;32m----> <a href='vscode-notebook-cell://vscode-session-rvjx58jmwrc9n3vi27hu8y4rr8.i.anyscaleuserdata.com/home/ray/default/templates/templates/e2e-dspy-workflow/README.ipynb#X46sdnNjb2RlLXJlbW90ZQ%3D%3D?line=2'>3</a>\u001b[0m sanity_check_program(llama_70b, vanilla_program, ft_trainset[\u001b[39m0\u001b[39;49m])\n",
      "File \u001b[0;32m~/default/templates/templates/e2e-dspy-workflow/src/utils.py:39\u001b[0m, in \u001b[0;36msanity_check_program\u001b[0;34m(model, program, item)\u001b[0m\n\u001b[1;32m     37\u001b[0m sample_input \u001b[39m=\u001b[39m item\n\u001b[1;32m     38\u001b[0m \u001b[39mprint\u001b[39m(\u001b[39mf\u001b[39m\u001b[39m\"\u001b[39m\u001b[39mProgram input: \u001b[39m\u001b[39m{\u001b[39;00msample_input\u001b[39m}\u001b[39;00m\u001b[39m\"\u001b[39m)\n\u001b[0;32m---> 39\u001b[0m \u001b[39mprint\u001b[39m(\u001b[39mf\u001b[39m\u001b[39m\"\u001b[39m\u001b[39mProgram output label: \u001b[39m\u001b[39m{\u001b[39;00mprogram(\u001b[39m*\u001b[39m\u001b[39m*\u001b[39msample_input\u001b[39m.\u001b[39minputs())\u001b[39m.\u001b[39mlabel\u001b[39m}\u001b[39;00m\u001b[39m\"\u001b[39m)\n",
      "File \u001b[0;32m~/anaconda3/lib/python3.9/site-packages/dspy/primitives/program.py:20\u001b[0m, in \u001b[0;36mModule.__call__\u001b[0;34m(self, *args, **kwargs)\u001b[0m\n\u001b[1;32m     19\u001b[0m \u001b[39mdef\u001b[39;00m \u001b[39m__call__\u001b[39m(\u001b[39mself\u001b[39m, \u001b[39m*\u001b[39margs, \u001b[39m*\u001b[39m\u001b[39m*\u001b[39mkwargs):\n\u001b[0;32m---> 20\u001b[0m     \u001b[39mreturn\u001b[39;00m \u001b[39mself\u001b[39;49m\u001b[39m.\u001b[39;49mforward(\u001b[39m*\u001b[39;49margs, \u001b[39m*\u001b[39;49m\u001b[39m*\u001b[39;49mkwargs)\n",
      "\u001b[1;32m/home/ray/default/templates/templates/e2e-dspy-workflow/README.ipynb Cell 33\u001b[0m line \u001b[0;36m7\n\u001b[1;32m      <a href='vscode-notebook-cell://vscode-session-rvjx58jmwrc9n3vi27hu8y4rr8.i.anyscaleuserdata.com/home/ray/default/templates/templates/e2e-dspy-workflow/README.ipynb#X46sdnNjb2RlLXJlbW90ZQ%3D%3D?line=5'>6</a>\u001b[0m \u001b[39mdef\u001b[39;00m \u001b[39mforward\u001b[39m(\u001b[39mself\u001b[39m, text):\n\u001b[0;32m----> <a href='vscode-notebook-cell://vscode-session-rvjx58jmwrc9n3vi27hu8y4rr8.i.anyscaleuserdata.com/home/ray/default/templates/templates/e2e-dspy-workflow/README.ipynb#X46sdnNjb2RlLXJlbW90ZQ%3D%3D?line=6'>7</a>\u001b[0m     prediction \u001b[39m=\u001b[39m \u001b[39mself\u001b[39;49m\u001b[39m.\u001b[39;49mintent_classifier(intent\u001b[39m=\u001b[39;49mtext)\n\u001b[1;32m      <a href='vscode-notebook-cell://vscode-session-rvjx58jmwrc9n3vi27hu8y4rr8.i.anyscaleuserdata.com/home/ray/default/templates/templates/e2e-dspy-workflow/README.ipynb#X46sdnNjb2RlLXJlbW90ZQ%3D%3D?line=7'>8</a>\u001b[0m     sanitized_prediction \u001b[39m=\u001b[39m dspy\u001b[39m.\u001b[39mPrediction(label\u001b[39m=\u001b[39mprediction\u001b[39m.\u001b[39mlabel\u001b[39m.\u001b[39mlower()\u001b[39m.\u001b[39mstrip()\u001b[39m.\u001b[39mreplace(\u001b[39m\"\u001b[39m\u001b[39m \u001b[39m\u001b[39m\"\u001b[39m, \u001b[39m\"\u001b[39m\u001b[39m_\u001b[39m\u001b[39m\"\u001b[39m), reasoning\u001b[39m=\u001b[39mprediction\u001b[39m.\u001b[39mreasoning)\n\u001b[1;32m      <a href='vscode-notebook-cell://vscode-session-rvjx58jmwrc9n3vi27hu8y4rr8.i.anyscaleuserdata.com/home/ray/default/templates/templates/e2e-dspy-workflow/README.ipynb#X46sdnNjb2RlLXJlbW90ZQ%3D%3D?line=8'>9</a>\u001b[0m     \u001b[39mreturn\u001b[39;00m sanitized_prediction\n",
      "File \u001b[0;32m~/anaconda3/lib/python3.9/site-packages/dspy/primitives/program.py:20\u001b[0m, in \u001b[0;36mModule.__call__\u001b[0;34m(self, *args, **kwargs)\u001b[0m\n\u001b[1;32m     19\u001b[0m \u001b[39mdef\u001b[39;00m \u001b[39m__call__\u001b[39m(\u001b[39mself\u001b[39m, \u001b[39m*\u001b[39margs, \u001b[39m*\u001b[39m\u001b[39m*\u001b[39mkwargs):\n\u001b[0;32m---> 20\u001b[0m     \u001b[39mreturn\u001b[39;00m \u001b[39mself\u001b[39;49m\u001b[39m.\u001b[39;49mforward(\u001b[39m*\u001b[39;49margs, \u001b[39m*\u001b[39;49m\u001b[39m*\u001b[39;49mkwargs)\n",
      "File \u001b[0;32m~/anaconda3/lib/python3.9/site-packages/dspy/predict/chain_of_thought.py:44\u001b[0m, in \u001b[0;36mChainOfThought.forward\u001b[0;34m(self, **kwargs)\u001b[0m\n\u001b[1;32m     41\u001b[0m \u001b[39massert\u001b[39;00m \u001b[39mself\u001b[39m\u001b[39m.\u001b[39mactivated \u001b[39min\u001b[39;00m [\u001b[39mTrue\u001b[39;00m, \u001b[39mFalse\u001b[39;00m]\n\u001b[1;32m     43\u001b[0m signature \u001b[39m=\u001b[39m kwargs\u001b[39m.\u001b[39mpop(\u001b[39m\"\u001b[39m\u001b[39mnew_signature\u001b[39m\u001b[39m\"\u001b[39m, \u001b[39mself\u001b[39m\u001b[39m.\u001b[39m_predict\u001b[39m.\u001b[39mextended_signature \u001b[39mif\u001b[39;00m \u001b[39mself\u001b[39m\u001b[39m.\u001b[39mactivated \u001b[39melse\u001b[39;00m \u001b[39mself\u001b[39m\u001b[39m.\u001b[39msignature)\n\u001b[0;32m---> 44\u001b[0m \u001b[39mreturn\u001b[39;00m \u001b[39mself\u001b[39;49m\u001b[39m.\u001b[39;49m_predict(signature\u001b[39m=\u001b[39;49msignature, \u001b[39m*\u001b[39;49m\u001b[39m*\u001b[39;49mkwargs)\n",
      "File \u001b[0;32m~/anaconda3/lib/python3.9/site-packages/dspy/predict/predict.py:118\u001b[0m, in \u001b[0;36mPredict.__call__\u001b[0;34m(self, **kwargs)\u001b[0m\n\u001b[1;32m    117\u001b[0m \u001b[39mdef\u001b[39;00m \u001b[39m__call__\u001b[39m(\u001b[39mself\u001b[39m, \u001b[39m*\u001b[39m\u001b[39m*\u001b[39mkwargs):\n\u001b[0;32m--> 118\u001b[0m     \u001b[39mreturn\u001b[39;00m \u001b[39mself\u001b[39;49m\u001b[39m.\u001b[39;49mforward(\u001b[39m*\u001b[39;49m\u001b[39m*\u001b[39;49mkwargs)\n",
      "File \u001b[0;32m~/anaconda3/lib/python3.9/site-packages/dspy/predict/predict.py:152\u001b[0m, in \u001b[0;36mPredict.forward\u001b[0;34m(self, **kwargs)\u001b[0m\n\u001b[1;32m    149\u001b[0m \u001b[39mimport\u001b[39;00m \u001b[39mdspy\u001b[39;00m\n\u001b[1;32m    151\u001b[0m \u001b[39mif\u001b[39;00m \u001b[39misinstance\u001b[39m(lm, dspy\u001b[39m.\u001b[39mLM):\n\u001b[0;32m--> 152\u001b[0m     completions \u001b[39m=\u001b[39m v2_5_generate(lm, config, signature, demos, kwargs, _parse_values\u001b[39m=\u001b[39;49m\u001b[39mself\u001b[39;49m\u001b[39m.\u001b[39;49m_parse_values)\n\u001b[1;32m    153\u001b[0m \u001b[39melse\u001b[39;00m:\n\u001b[1;32m    154\u001b[0m     warn_once(\n\u001b[1;32m    155\u001b[0m         \u001b[39m\"\u001b[39m\u001b[39m\\t\u001b[39;00m\u001b[39m*** In DSPy 2.5, all LM clients except `dspy.LM` are deprecated. ***\u001b[39m\u001b[39m\\n\u001b[39;00m\u001b[39m\"\u001b[39m\n\u001b[1;32m    156\u001b[0m         \u001b[39mf\u001b[39m\u001b[39m\"\u001b[39m\u001b[39m \u001b[39m\u001b[39m\\t\u001b[39;00m\u001b[39m\\t\u001b[39;00m\u001b[39mYou are using the client \u001b[39m\u001b[39m{\u001b[39;00mlm\u001b[39m.\u001b[39m\u001b[39m__class__\u001b[39m\u001b[39m.\u001b[39m\u001b[39m__name__\u001b[39m\u001b[39m}\u001b[39;00m\u001b[39m, which will be removed in DSPy 2.6.\u001b[39m\u001b[39m\\n\u001b[39;00m\u001b[39m\"\u001b[39m\n\u001b[0;32m   (...)\u001b[0m\n\u001b[1;32m    160\u001b[0m         \u001b[39m\"\u001b[39m\u001b[39m \u001b[39m\u001b[39m\\t\u001b[39;00m\u001b[39m\\t\u001b[39;00m\u001b[39mhttps://github.com/stanfordnlp/dspy/blob/main/examples/migration.ipynb\u001b[39m\u001b[39m\"\u001b[39m\n\u001b[1;32m    161\u001b[0m     )\n",
      "File \u001b[0;32m~/anaconda3/lib/python3.9/site-packages/dspy/predict/predict.py:260\u001b[0m, in \u001b[0;36mv2_5_generate\u001b[0;34m(lm, lm_kwargs, signature, demos, inputs, _parse_values)\u001b[0m\n\u001b[1;32m    256\u001b[0m \u001b[39mimport\u001b[39;00m \u001b[39mdspy\u001b[39;00m\n\u001b[1;32m    258\u001b[0m adapter \u001b[39m=\u001b[39m dspy\u001b[39m.\u001b[39msettings\u001b[39m.\u001b[39madapter \u001b[39mor\u001b[39;00m dspy\u001b[39m.\u001b[39mChatAdapter()\n\u001b[0;32m--> 260\u001b[0m \u001b[39mreturn\u001b[39;00m adapter(\n\u001b[1;32m    261\u001b[0m     lm, lm_kwargs\u001b[39m=\u001b[39;49mlm_kwargs, signature\u001b[39m=\u001b[39;49msignature, demos\u001b[39m=\u001b[39;49mdemos, inputs\u001b[39m=\u001b[39;49minputs, _parse_values\u001b[39m=\u001b[39;49m_parse_values\n\u001b[1;32m    262\u001b[0m )\n",
      "File \u001b[0;32m~/anaconda3/lib/python3.9/site-packages/dspy/adapters/base.py:6\u001b[0m, in \u001b[0;36mAdapter.__call__\u001b[0;34m(self, lm, lm_kwargs, signature, demos, inputs, _parse_values)\u001b[0m\n\u001b[1;32m      3\u001b[0m inputs \u001b[39m=\u001b[39m \u001b[39mself\u001b[39m\u001b[39m.\u001b[39mformat(signature, demos, inputs)\n\u001b[1;32m      4\u001b[0m inputs \u001b[39m=\u001b[39m \u001b[39mdict\u001b[39m(prompt\u001b[39m=\u001b[39minputs) \u001b[39mif\u001b[39;00m \u001b[39misinstance\u001b[39m(inputs, \u001b[39mstr\u001b[39m) \u001b[39melse\u001b[39;00m \u001b[39mdict\u001b[39m(messages\u001b[39m=\u001b[39minputs)\n\u001b[0;32m----> 6\u001b[0m outputs \u001b[39m=\u001b[39m lm(\u001b[39m*\u001b[39;49m\u001b[39m*\u001b[39;49minputs, \u001b[39m*\u001b[39;49m\u001b[39m*\u001b[39;49mlm_kwargs)\n\u001b[1;32m      7\u001b[0m values \u001b[39m=\u001b[39m []\n\u001b[1;32m      9\u001b[0m \u001b[39mfor\u001b[39;00m output \u001b[39min\u001b[39;00m outputs:\n",
      "File \u001b[0;32m~/anaconda3/lib/python3.9/site-packages/dspy/clients/lm.py:67\u001b[0m, in \u001b[0;36mLM.__call__\u001b[0;34m(self, prompt, messages, **kwargs)\u001b[0m\n\u001b[1;32m     64\u001b[0m \u001b[39melse\u001b[39;00m:\n\u001b[1;32m     65\u001b[0m     completion \u001b[39m=\u001b[39m cached_litellm_text_completion \u001b[39mif\u001b[39;00m cache \u001b[39melse\u001b[39;00m litellm_text_completion\n\u001b[0;32m---> 67\u001b[0m response \u001b[39m=\u001b[39m completion(ujson\u001b[39m.\u001b[39;49mdumps(\u001b[39mdict\u001b[39;49m(model\u001b[39m=\u001b[39;49m\u001b[39mself\u001b[39;49m\u001b[39m.\u001b[39;49mmodel, messages\u001b[39m=\u001b[39;49mmessages, \u001b[39m*\u001b[39;49m\u001b[39m*\u001b[39;49mkwargs)))\n\u001b[1;32m     68\u001b[0m outputs \u001b[39m=\u001b[39m [c\u001b[39m.\u001b[39mmessage\u001b[39m.\u001b[39mcontent \u001b[39mif\u001b[39;00m \u001b[39mhasattr\u001b[39m(c, \u001b[39m\"\u001b[39m\u001b[39mmessage\u001b[39m\u001b[39m\"\u001b[39m) \u001b[39melse\u001b[39;00m c[\u001b[39m\"\u001b[39m\u001b[39mtext\u001b[39m\u001b[39m\"\u001b[39m] \u001b[39mfor\u001b[39;00m c \u001b[39min\u001b[39;00m response[\u001b[39m\"\u001b[39m\u001b[39mchoices\u001b[39m\u001b[39m\"\u001b[39m]]\n\u001b[1;32m     70\u001b[0m \u001b[39m# Logging, with removed api key & where `cost` is None on cache hit.\u001b[39;00m\n",
      "File \u001b[0;32m~/anaconda3/lib/python3.9/site-packages/dspy/clients/lm.py:154\u001b[0m, in \u001b[0;36mcached_litellm_completion\u001b[0;34m(request)\u001b[0m\n\u001b[1;32m    152\u001b[0m \u001b[39m@functools\u001b[39m\u001b[39m.\u001b[39mlru_cache(maxsize\u001b[39m=\u001b[39m\u001b[39mNone\u001b[39;00m)\n\u001b[1;32m    153\u001b[0m \u001b[39mdef\u001b[39;00m \u001b[39mcached_litellm_completion\u001b[39m(request):\n\u001b[0;32m--> 154\u001b[0m     \u001b[39mreturn\u001b[39;00m litellm_completion(request, cache\u001b[39m=\u001b[39;49m{\u001b[39m\"\u001b[39;49m\u001b[39mno-cache\u001b[39;49m\u001b[39m\"\u001b[39;49m: \u001b[39mFalse\u001b[39;49;00m, \u001b[39m\"\u001b[39;49m\u001b[39mno-store\u001b[39;49m\u001b[39m\"\u001b[39;49m: \u001b[39mFalse\u001b[39;49;00m})\n",
      "File \u001b[0;32m~/anaconda3/lib/python3.9/site-packages/dspy/clients/lm.py:159\u001b[0m, in \u001b[0;36mlitellm_completion\u001b[0;34m(request, cache)\u001b[0m\n\u001b[1;32m    157\u001b[0m \u001b[39mdef\u001b[39;00m \u001b[39mlitellm_completion\u001b[39m(request, cache\u001b[39m=\u001b[39m{\u001b[39m\"\u001b[39m\u001b[39mno-cache\u001b[39m\u001b[39m\"\u001b[39m: \u001b[39mTrue\u001b[39;00m, \u001b[39m\"\u001b[39m\u001b[39mno-store\u001b[39m\u001b[39m\"\u001b[39m: \u001b[39mTrue\u001b[39;00m}):\n\u001b[1;32m    158\u001b[0m     kwargs \u001b[39m=\u001b[39m ujson\u001b[39m.\u001b[39mloads(request)\n\u001b[0;32m--> 159\u001b[0m     \u001b[39mreturn\u001b[39;00m litellm\u001b[39m.\u001b[39;49mcompletion(cache\u001b[39m=\u001b[39;49mcache, \u001b[39m*\u001b[39;49m\u001b[39m*\u001b[39;49mkwargs)\n",
      "File \u001b[0;32m~/anaconda3/lib/python3.9/site-packages/litellm/utils.py:1007\u001b[0m, in \u001b[0;36mclient.<locals>.wrapper\u001b[0;34m(*args, **kwargs)\u001b[0m\n\u001b[1;32m   1003\u001b[0m \u001b[39mif\u001b[39;00m logging_obj:\n\u001b[1;32m   1004\u001b[0m     logging_obj\u001b[39m.\u001b[39mfailure_handler(\n\u001b[1;32m   1005\u001b[0m         e, traceback_exception, start_time, end_time\n\u001b[1;32m   1006\u001b[0m     )  \u001b[39m# DO NOT MAKE THREADED - router retry fallback relies on this!\u001b[39;00m\n\u001b[0;32m-> 1007\u001b[0m \u001b[39mraise\u001b[39;00m e\n",
      "File \u001b[0;32m~/anaconda3/lib/python3.9/site-packages/litellm/utils.py:897\u001b[0m, in \u001b[0;36mclient.<locals>.wrapper\u001b[0;34m(*args, **kwargs)\u001b[0m\n\u001b[1;32m    895\u001b[0m         print_verbose(\u001b[39mf\u001b[39m\u001b[39m\"\u001b[39m\u001b[39mError while checking max token limit: \u001b[39m\u001b[39m{\u001b[39;00m\u001b[39mstr\u001b[39m(e)\u001b[39m}\u001b[39;00m\u001b[39m\"\u001b[39m)\n\u001b[1;32m    896\u001b[0m \u001b[39m# MODEL CALL\u001b[39;00m\n\u001b[0;32m--> 897\u001b[0m result \u001b[39m=\u001b[39m original_function(\u001b[39m*\u001b[39;49margs, \u001b[39m*\u001b[39;49m\u001b[39m*\u001b[39;49mkwargs)\n\u001b[1;32m    898\u001b[0m end_time \u001b[39m=\u001b[39m datetime\u001b[39m.\u001b[39mdatetime\u001b[39m.\u001b[39mnow()\n\u001b[1;32m    899\u001b[0m \u001b[39mif\u001b[39;00m \u001b[39m\"\u001b[39m\u001b[39mstream\u001b[39m\u001b[39m\"\u001b[39m \u001b[39min\u001b[39;00m kwargs \u001b[39mand\u001b[39;00m kwargs[\u001b[39m\"\u001b[39m\u001b[39mstream\u001b[39m\u001b[39m\"\u001b[39m] \u001b[39mis\u001b[39;00m \u001b[39mTrue\u001b[39;00m:\n",
      "File \u001b[0;32m~/anaconda3/lib/python3.9/site-packages/litellm/main.py:3007\u001b[0m, in \u001b[0;36mcompletion\u001b[0;34m(model, messages, timeout, temperature, top_p, n, stream, stream_options, stop, max_completion_tokens, max_tokens, modalities, audio, presence_penalty, frequency_penalty, logit_bias, user, response_format, seed, tools, tool_choice, logprobs, top_logprobs, parallel_tool_calls, deployment_id, extra_headers, functions, function_call, base_url, api_version, api_key, model_list, **kwargs)\u001b[0m\n\u001b[1;32m   3004\u001b[0m     \u001b[39mreturn\u001b[39;00m response\n\u001b[1;32m   3005\u001b[0m \u001b[39mexcept\u001b[39;00m \u001b[39mException\u001b[39;00m \u001b[39mas\u001b[39;00m e:\n\u001b[1;32m   3006\u001b[0m     \u001b[39m## Map to OpenAI Exception\u001b[39;00m\n\u001b[0;32m-> 3007\u001b[0m     \u001b[39mraise\u001b[39;00m exception_type(\n\u001b[1;32m   3008\u001b[0m         model\u001b[39m=\u001b[39;49mmodel,\n\u001b[1;32m   3009\u001b[0m         custom_llm_provider\u001b[39m=\u001b[39;49mcustom_llm_provider,\n\u001b[1;32m   3010\u001b[0m         original_exception\u001b[39m=\u001b[39;49me,\n\u001b[1;32m   3011\u001b[0m         completion_kwargs\u001b[39m=\u001b[39;49margs,\n\u001b[1;32m   3012\u001b[0m         extra_kwargs\u001b[39m=\u001b[39;49mkwargs,\n\u001b[1;32m   3013\u001b[0m     )\n",
      "File \u001b[0;32m~/anaconda3/lib/python3.9/site-packages/litellm/litellm_core_utils/exception_mapping_utils.py:2116\u001b[0m, in \u001b[0;36mexception_type\u001b[0;34m(model, original_exception, custom_llm_provider, completion_kwargs, extra_kwargs)\u001b[0m\n\u001b[1;32m   2114\u001b[0m \u001b[39mif\u001b[39;00m exception_mapping_worked:\n\u001b[1;32m   2115\u001b[0m     \u001b[39msetattr\u001b[39m(e, \u001b[39m\"\u001b[39m\u001b[39mlitellm_response_headers\u001b[39m\u001b[39m\"\u001b[39m, litellm_response_headers)\n\u001b[0;32m-> 2116\u001b[0m     \u001b[39mraise\u001b[39;00m e\n\u001b[1;32m   2117\u001b[0m \u001b[39melse\u001b[39;00m:\n\u001b[1;32m   2118\u001b[0m     \u001b[39mfor\u001b[39;00m error_type \u001b[39min\u001b[39;00m litellm\u001b[39m.\u001b[39mLITELLM_EXCEPTION_TYPES:\n",
      "File \u001b[0;32m~/anaconda3/lib/python3.9/site-packages/litellm/litellm_core_utils/exception_mapping_utils.py:352\u001b[0m, in \u001b[0;36mexception_type\u001b[0;34m(model, original_exception, custom_llm_provider, completion_kwargs, extra_kwargs)\u001b[0m\n\u001b[1;32m    350\u001b[0m \u001b[39melif\u001b[39;00m original_exception\u001b[39m.\u001b[39mstatus_code \u001b[39m==\u001b[39m \u001b[39m404\u001b[39m:\n\u001b[1;32m    351\u001b[0m     exception_mapping_worked \u001b[39m=\u001b[39m \u001b[39mTrue\u001b[39;00m\n\u001b[0;32m--> 352\u001b[0m     \u001b[39mraise\u001b[39;00m NotFoundError(\n\u001b[1;32m    353\u001b[0m         message\u001b[39m=\u001b[39m\u001b[39mf\u001b[39m\u001b[39m\"\u001b[39m\u001b[39mNotFoundError: \u001b[39m\u001b[39m{\u001b[39;00mexception_provider\u001b[39m}\u001b[39;00m\u001b[39m - \u001b[39m\u001b[39m{\u001b[39;00mmessage\u001b[39m}\u001b[39;00m\u001b[39m\"\u001b[39m,\n\u001b[1;32m    354\u001b[0m         model\u001b[39m=\u001b[39mmodel,\n\u001b[1;32m    355\u001b[0m         llm_provider\u001b[39m=\u001b[39mcustom_llm_provider,\n\u001b[1;32m    356\u001b[0m         response\u001b[39m=\u001b[39moriginal_exception\u001b[39m.\u001b[39mresponse,\n\u001b[1;32m    357\u001b[0m         litellm_debug_info\u001b[39m=\u001b[39mextra_information,\n\u001b[1;32m    358\u001b[0m     )\n\u001b[1;32m    359\u001b[0m \u001b[39melif\u001b[39;00m original_exception\u001b[39m.\u001b[39mstatus_code \u001b[39m==\u001b[39m \u001b[39m408\u001b[39m:\n\u001b[1;32m    360\u001b[0m     exception_mapping_worked \u001b[39m=\u001b[39m \u001b[39mTrue\u001b[39;00m\n",
      "\u001b[0;31mNotFoundError\u001b[0m: litellm.NotFoundError: NotFoundError: OpenAIException - Error code: 404 - {'generated_text': None, 'tool_calls': None, 'embedding_outputs': None, 'logprobs': None, 'num_input_tokens': None, 'num_input_tokens_batch': None, 'num_generated_tokens': None, 'num_generated_tokens_batch': None, 'preprocessing_time': None, 'generation_time': None, 'timestamp': 1729565927.9633803, 'finish_reason': None, 'error': {'message': 'Unable to find meta-llama/Meta-Llama-3.1-70B-Instruct. Please ensure that the model exists and you have permission. (Request ID: 183ca495-8542-4f30-8f02-50ec2f5718af)', 'internal_message': 'rayllm_oss.backend.server.openai_compat.openai_exception.OpenAIHTTPException (Request ID: 183ca495-8542-4f30-8f02-50ec2f5718af)', 'code': 404, 'type': 'OpenAIHTTPException', 'param': {}}}"
     ]
    }
   ],
   "source": [
    "from src import sanity_check_program\n",
    "\n",
    "sanity_check_program(llama_70b, vanilla_program, ft_trainset[0])"
   ]
  },
  {
   "cell_type": "markdown",
   "metadata": {},
   "source": [
    "### Bootstrap Data\n",
    "\n",
    "\n",
    "In this section, we bootstrap data for fine-tuning.\n",
    "\n",
    "We delete all the true labels to be accurate to the scenario, and then collect data from the oracle LLM.\n",
    "\n",
    "We use a metric that checks if the prediction is in the set of labels we are using to get rid of any nonsense labels that the oracle LLM may hallucinate."
   ]
  },
  {
   "cell_type": "code",
   "execution_count": 20,
   "metadata": {},
   "outputs": [
    {
     "name": "stderr",
     "output_type": "stream",
     "text": [
      "Average Metric: 4065 / 4071  (99.9): 100%|██████████| 4071/4071 [06:49<00:00,  9.93it/s]\n"
     ]
    },
    {
     "name": "stdout",
     "output_type": "stream",
     "text": [
      "{'messages': [{'role': 'system', 'content': \"Your input fields are:\\n1. `intent` (str): Intent of the query\\n\\nYour output fields are:\\n1. `reasoning` (str): ${produce the output fields}. We ...\\n2. `label` (str): Type of the intent; Should just be one of the 25 labels with no other text\\n\\nAll interactions will be structured in the following way, with the appropriate values filled in.\\n\\n[[ ## intent ## ]]\\n{intent}\\n\\n[[ ## reasoning ## ]]\\n{reasoning}\\n\\n[[ ## label ## ]]\\n{label}\\n\\n[[ ## completed ## ]]\\n\\nIn adhering to this structure, your objective is: \\n        As a part of a banking issue traiging system, classify the intent of a natural language query into one of the 25 labels.\\n        The intent should exactly match one of the following:\\n        ['card_payment_fee_charged', 'direct_debit_payment_not_recognised', 'balance_not_updated_after_cheque_or_cash_deposit', 'wrong_amount_of_cash_received', 'cash_withdrawal_charge', 'transaction_charged_twice', 'declined_cash_withdrawal', 'transfer_fee_charged', 'balance_not_updated_after_bank_transfer', 'transfer_not_received_by_recipient', 'request_refund', 'card_payment_not_recognised', 'card_payment_wrong_exchange_rate', 'extra_charge_on_statement', 'wrong_exchange_rate_for_cash_withdrawal', 'refund_not_showing_up', 'reverted_card_payment', 'cash_withdrawal_not_recognised', 'activate_my_card', 'pending_card_payment', 'cancel_transfer', 'beneficiary_not_allowed', 'card_arrival', 'declined_card_payment', 'pending_top_up']\"}, {'role': 'user', 'content': '[[ ## intent ## ]]\\nI still have not received an answer as to why I was charged $1.00 in a transaction?\\n\\nRespond with the corresponding output fields, starting with the field `reasoning`, then `label`, and then ending with the marker for `completed`.'}, {'role': 'assistant', 'content': '[[ ## reasoning ## ]]\\nThe user is inquiring about a $1.00 transaction charge and has not received an explanation for it, indicating a concern about an unexpected fee.\\n\\n[[ ## label ## ]]\\nextra_charge_on_statement\\n\\n[[ ## completed ## ]]'}]}\n",
      "Length of dataset:\t 4062\n"
     ]
    }
   ],
   "source": [
    "from dspy.teleprompt.finetune_teleprompter import bootstrap_data, convert_to_module_level_message_data\n",
    "from src import delete_labels, NUM_THREADS, write_jsonl\n",
    "from src.data_preprocess import valid_label_metric\n",
    "\n",
    "with dspy.context(lm=llama_70b):\n",
    "    collected_data = bootstrap_data(vanilla_program, ft_trainset_to_label, num_threads=NUM_THREADS, max_errors=10000, metric=valid_label_metric)\n",
    "    # Make sure to only include the labels we are actively using or that arent hallucinated by the oracle\n",
    "    collected_data_filtered = [x for x in collected_data if x[\"prediction\"][\"label\"] in labels_in_use]\n",
    "    \n",
    "    dataset = convert_to_module_level_message_data(collected_data_filtered, program=vanilla_program, exclude_demos=True)\n",
    "\n",
    "    dataset_formatted = [{\"messages\": item} for item in dataset]\n",
    "\n",
    "print(dataset_formatted[0])\n",
    "print(\"Length of dataset:\\t\", len(dataset))"
   ]
  },
  {
   "cell_type": "code",
   "execution_count": null,
   "metadata": {},
   "outputs": [],
   "source": [
    "# Now we are done with the 70B model, so we can kill the server\n",
    "!serve shutdown -y"
   ]
  },
  {
   "cell_type": "markdown",
   "metadata": {},
   "source": [
    "# Fine-tuning\n",
    "\n",
    "We will use LLM Forge to fine-tune the 1B model.\n",
    "\n",
    "In order to do this, we need to format our data into the correct format (Follows OpenAI messaging format).\n",
    "\n",
    "Anyscale now has a first class integration with DSPy for finetuning. Anyscale offers a tool for finetuning called LLMForge, which DSPy will interface with to do the actual finetuning using your own cluster on the task you defined above.\n",
    "\n",
    "We can let DSPy do the rest, where it will properly generate the config and run the finetuning."
   ]
  },
  {
   "cell_type": "markdown",
   "metadata": {},
   "source": [
    "Be sure to checkout the fine-tuning documentation for the latest on how to use our [API](https://docs.anyscale.com/llms/finetuning/intro) and additional [capabilities](https://docs.anyscale.com/category/fine-tuning-beta/).\n",
    "\n",
    "We'll fine-tune our LLM by choosing a set of configurations. We have created recipes for different LLMs in the [`training configs`](configs/training/lora/llama-3-8b.yaml) folder which can be used as is or modified for experiments. These configurations provide flexibility over a broad range of parameters such as model, data paths, compute to use for training, number of training epochs, how often to save checkpoints, padding, loss, etc. We also include several [DeepSpeed](https://github.com/microsoft/DeepSpeed) [configurations](configs/deepspeed/zero_3_offload_optim+param.json) to choose from for further optimizations around data/model parallelism, mixed precision, checkpointing, etc.\n",
    "\n",
    "We also have recipes for [LoRA](https://arxiv.org/abs/2106.09685) (where we train a set of small low ranked matrices instead of the original attention and feed forward layers) or full parameter fine-tuning. We recommend starting with LoRA as it's less resource intensive and quicker to train."
   ]
  },
  {
   "cell_type": "code",
   "execution_count": 21,
   "metadata": {},
   "outputs": [
    {
     "name": "stderr",
     "output_type": "stream",
     "text": [
      "Copying file:///home/ray/.dspy_cache/finetune/anyscale_02ce0cdfe3b0a1c7.jsonl to gs://storage-bucket-cld-tffbxe9ia5phqr1unxhz4f7e1e/org_4snvy99zwbmh4gbtk64jfqggmj/cld_tffbxe9ia5phqr1unxhz4f7e1e/artifact_storage/anyscale_02ce0cdfe3b0a1c7.jsonl\n",
      "  \n",
      ".\n",
      "(anyscale +15m49.8s) Uploading local dir '.' to cloud storage.\n",
      "(anyscale +15m52.7s) Job 'dspy-llmforge-fine-tuning-job' submitted, ID: 'prodjob_wpvi522nrlcn95jw5btvyn26bn'.\n",
      "(anyscale +15m52.7s) View the job in the UI: https://console.anyscale.com/jobs/prodjob_wpvi522nrlcn95jw5btvyn26bn\n",
      "(anyscale +15m52.8s) Waiting for job 'prodjob_wpvi522nrlcn95jw5btvyn26bn' to reach target state SUCCEEDED, currently in state: STARTING\n",
      "(anyscale +17m46.0s) Job 'prodjob_wpvi522nrlcn95jw5btvyn26bn' transitioned from STARTING to RUNNING\n",
      "(anyscale +38m41.9s) Job 'prodjob_wpvi522nrlcn95jw5btvyn26bn' transitioned from RUNNING to SUCCEEDED\n",
      "(anyscale +38m41.9s) Job 'prodjob_wpvi522nrlcn95jw5btvyn26bn' reached target state, exiting\n"
     ]
    }
   ],
   "source": [
    "from dspy.clients.lm import TrainingMethod\n",
    "from src import load_finetuning_kwargs\n",
    "\n",
    "train_data = dataset_formatted\n",
    "method = TrainingMethod.SFT\n",
    "\n",
    "finetuneable_lm = dspy.LM(model=\"meta-llama/Llama-3.2-1B-Instruct\", **MODEL_PARAMETERS, **LOCAL_API_PARAMETERS)\n",
    "\n",
    "try:\n",
    "    finetuning_job = finetuneable_lm.finetune(train_data=train_data, train_kwargs=load_finetuning_kwargs(), train_method=method, provider=\"anyscale\")\n",
    "    finetuned_llama = finetuning_job.result()\n",
    "except Exception as e:\n",
    "    print(e)"
   ]
  },
  {
   "cell_type": "markdown",
   "metadata": {},
   "source": [
    "# Evaluation\n",
    "\n",
    "## Performance comparisons\n",
    "\n",
    "**Synthetic Devset:**\n",
    "- 1B Non-finetuned\n",
    "- 1B Non-finetuned + Prompt Optimization\n",
    "- 1B Finetuned (last checkpoint)\n",
    "- 1B Finetuned (last checkpoint) + Prompt Optimization\n",
    "\n",
    "**Test set:**\n",
    "- 1B Non-finetuned + Prompt Optimization\n",
    "- 1B Finetuned (last checkpoint) + Prompt Optimization\n",
    "\n",
    "Note that we do not provide an eval set when finetuning, as the eval loss of a checkpoint isn't necessarily predictive of the downstream performance of the program. We use the last checkpoint by default."
   ]
  },
  {
   "cell_type": "code",
   "execution_count": 25,
   "metadata": {},
   "outputs": [
    {
     "name": "stdout",
     "output_type": "stream",
     "text": [
      "openai/meta-llama/Llama-3.2-1B-Instruct:isaac:mgvdw\n"
     ]
    }
   ],
   "source": [
    "print(finetuned_llama.model)"
   ]
  },
  {
   "cell_type": "markdown",
   "metadata": {},
   "source": [
    "We will run a local RayLLM instance that serves the model.\n",
    "\n",
    "Provided with this template is are two files, `serve_1B.yaml` and `\\model_configs\\meta-llama--Llama-3_2-1B-Instruct.yaml`. \n",
    "\n",
    "The first file, `serve_1B.yaml`, contains the serve configuration to load the model with RayLLM.\n",
    "\n",
    "The second file, `\\model_configs\\meta-llama--Llama-3_2-1B-Instruct.yaml`, contains the necessary configurations to run the 1B model.\n",
    "\n",
    "<b style=\"background-color: yellow;\">&nbsp;🔄 REPLACE&nbsp;</b>:\n",
    "Make sure you set your HF_TOKEN and HF_HOME environment variables in the workspace runtime environment variables, and run the following command to start the server:"
   ]
  },
  {
   "cell_type": "code",
   "execution_count": 26,
   "metadata": {},
   "outputs": [],
   "source": [
    "from src import update_serve_config_hf_token\n",
    "\n",
    "update_serve_config_hf_token(\"serve_1B.yaml\")"
   ]
  },
  {
   "cell_type": "markdown",
   "metadata": {},
   "source": [
    "Run this command to start the 1B RayLLM server:"
   ]
  },
  {
   "cell_type": "code",
   "execution_count": 39,
   "metadata": {},
   "outputs": [
    {
     "name": "stdout",
     "output_type": "stream",
     "text": [
      "2024-10-21 23:54:34,547\tINFO scripts.py:489 -- Running config file: 'serve_1B.yaml'.\n",
      "2024-10-21 23:54:34,846\tINFO worker.py:1601 -- Connecting to existing Ray cluster at address: 10.0.0.48:6379...\n",
      "2024-10-21 23:54:34,852\tINFO worker.py:1777 -- Connected to Ray cluster. View the dashboard at https://session-fkvdirx4bzefi53sjl55m7asad.i.anyscaleuserdata.com \n",
      "2024-10-21 23:54:34,871\tINFO packaging.py:359 -- Pushing file package 'gcs://_ray_pkg_89f1270a0f12aad17a8624b6b4057dceb301409b.zip' (8.74MiB) to Ray cluster...\n",
      "2024-10-21 23:54:34,951\tINFO packaging.py:372 -- Successfully pushed file package 'gcs://_ray_pkg_89f1270a0f12aad17a8624b6b4057dceb301409b.zip'.\n",
      "INFO 2024-10-21 23:54:38,085 serve 83025 api.py:277 - Started Serve in namespace \"serve\".\n",
      "2024-10-21 23:54:38,093\tSUCC scripts.py:540 -- Submitted deploy config successfully.\n",
      "(ServeController pid=83112) INFO 2024-10-21 23:54:38,089 controller 83112 application_state.py:881 - Deploying new app 'llm-endpoint'.\n",
      "(ServeController pid=83112) INFO 2024-10-21 23:54:38,090 controller 83112 application_state.py:457 - Importing and building app 'llm-endpoint'.\n",
      "(ProxyActor pid=83187) INFO 2024-10-21 23:54:38,064 proxy 10.0.0.48 proxy.py:1235 - Proxy starting on node 39aaccfad012a98a1715be32b64299b055e543234316e9325f797de3 (HTTP port: 8000).\n"
     ]
    }
   ],
   "source": [
    "!serve run --non-blocking serve_1B.yaml"
   ]
  },
  {
   "cell_type": "code",
   "execution_count": 40,
   "metadata": {},
   "outputs": [],
   "source": [
    "from src import MODEL_PARAMETERS, LOCAL_API_PARAMETERS\n",
    "\n",
    "non_ft_llama = dspy.LM(model=\"openai/meta-llama/Llama-3.2-1B-Instruct\", **MODEL_PARAMETERS, **LOCAL_API_PARAMETERS)\n",
    "\n",
    "all_llamas = {\"base\": non_ft_llama, \"ft\": finetuned_llama}"
   ]
  },
  {
   "cell_type": "code",
   "execution_count": 41,
   "metadata": {},
   "outputs": [
    {
     "name": "stdout",
     "output_type": "stream",
     "text": [
      "Program input: Example({'text': 'I still have not received an answer as to why I was charged $1.00 in a transaction?'}) (input_keys={'text'})\n",
      "Program output label: card_payment_not_recognised\n",
      "Program input: Example({'text': 'I still have not received an answer as to why I was charged $1.00 in a transaction?'}) (input_keys={'text'})\n"
     ]
    },
    {
     "name": "stdout",
     "output_type": "stream",
     "text": [
      "Expected dict_keys(['reasoning', 'label']) but got dict_keys([])\n"
     ]
    }
   ],
   "source": [
    "# Sanity check that the finetuned models are working\n",
    "\n",
    "try:\n",
    "    sanity_check_program(finetuned_llama, vanilla_program, ft_trainset[0])\n",
    "    sanity_check_program(non_ft_llama, vanilla_program, ft_trainset[0])\n",
    "except ValueError as e:\n",
    "    # Sometimes the 1B model isn't capable of correctly outputting the label before prompt optimization, so we can just ignore this error.\n",
    "    print(e)"
   ]
  },
  {
   "cell_type": "markdown",
   "metadata": {},
   "source": [
    "We are going to be doing prompt optimization using DSPy's `BootstrapFewShotWithRandomSearch (BFRS)` function.\n",
    "\n",
    "BFRS will:\n",
    "- Collect a set of chains of thought from the oracle\n",
    "- Use these examples that lead to a correct prediction to \"bootstrap\" the program\n",
    "- See which set of examples lead to the most correct predictions across your evaluation metric\n",
    "- Continue this process for a set number of iterations, using the best performing programs to bootstrap the next iteration\n",
    "- Return the best program\n",
    "\n",
    "Let's go over what the hyperparameters mean:\n",
    "- **max_bootstrapped_demos**: DSPy will \"bootstrap\" the program by collecting examples at each step that are successful and reusing those in the pipeline. This means that it will automatically collect and add chains of thought to the pipeline.\n",
    "- **max_labeled_demos**: DSPy will also insert some labeled demonstrations from the training set. These would be unmodified examples from the training set that are just using the given answer.\n",
    "- **num_candidate_programs**: This is the number of candidate programs that the optimizer will generate. The actual number of programs that are created is this plus three, as DSPy will also try a program with no examples, a program with just the labeled demonstrations, and a bootstrapped program with the first few examples.\n"
   ]
  },
  {
   "cell_type": "code",
   "execution_count": 32,
   "metadata": {},
   "outputs": [
    {
     "name": "stdout",
     "output_type": "stream",
     "text": [
      "Parameters:\n",
      "max_bootstrapped_demos: 3\n",
      "max_labeled_demos: 3\n",
      "num_candidate_programs: 6\n"
     ]
    }
   ],
   "source": [
    "from src import bootstrap_fewshot_random_search_parameters, metric\n",
    "\n",
    "print(\"Parameters:\")\n",
    "for k, v in bootstrap_fewshot_random_search_parameters.items():\n",
    "    print(f\"{k}: {v}\")"
   ]
  },
  {
   "cell_type": "code",
   "execution_count": 33,
   "metadata": {},
   "outputs": [
    {
     "name": "stdout",
     "output_type": "stream",
     "text": [
      "Lengths:\n",
      "Synthetic Devset:\t 1000\n",
      "Optimizer Trainset:\t 2762\n",
      "Optimizer Devset:\t 300\n",
      "Example from synthetic devset:\n",
      "Example({'text': 'I still have not received an answer as to why I was charged $1.00 in a transaction?', 'label': 'extra_charge_on_statement'}) (input_keys={'text'})\n"
     ]
    }
   ],
   "source": [
    "from src import split_into_devset_and_optimizer_sets\n",
    "\n",
    "def collected_data_to_example(data):\n",
    "    return dspy.Example(text=data[\"example\"][\"text\"], label=data[\"prediction\"][\"label\"]).with_inputs(\"text\")\n",
    "\n",
    "collected_data_examples = [collected_data_to_example(x) for x in collected_data_filtered]\n",
    "\n",
    "devset_synthetic, ft_optimizer_trainset, ft_optimizer_devset = split_into_devset_and_optimizer_sets(collected_data_examples, dev_size=1000, optimizer_num_val=300)\n",
    "print(\"Lengths:\")\n",
    "print(\"Synthetic Devset:\\t\", len(devset_synthetic))\n",
    "print(\"Optimizer Trainset:\\t\", len(ft_optimizer_trainset))\n",
    "print(\"Optimizer Devset:\\t\", len(ft_optimizer_devset))\n",
    "print(\"Example from synthetic devset:\")\n",
    "print(devset_synthetic[0])"
   ]
  },
  {
   "cell_type": "markdown",
   "metadata": {},
   "source": [
    "Now we will our finetuned model and the base model, prompt optimize them, and evaluate them on the synthetic devset.\n",
    "\n",
    "Note that there is a `%%capture` below. This is to suppress the output of the evaluation and prompt optimization because it is quite long and will slow down the notebook. We will graph the results in the cell after. You can remove the tag in order to see the output.\n",
    "\n",
    "You can expect this to take around 15 minutes to run."
   ]
  },
  {
   "cell_type": "code",
   "execution_count": 1,
   "metadata": {},
   "outputs": [
    {
     "ename": "ModuleNotFoundError",
     "evalue": "No module named 'dspy'",
     "output_type": "error",
     "traceback": [
      "\u001b[0;31m---------------------------------------------------------------------------\u001b[0m",
      "\u001b[0;31mModuleNotFoundError\u001b[0m                       Traceback (most recent call last)",
      "\u001b[1;32m/home/ray/default/templates/templates/e2e-dspy-workflow/README.ipynb Cell 54\u001b[0m line \u001b[0;36m2\n\u001b[1;32m      <a href='vscode-notebook-cell://vscode-session-rvjx58jmwrc9n3vi27hu8y4rr8.i.anyscaleuserdata.com/home/ray/default/templates/templates/e2e-dspy-workflow/README.ipynb#Y104sdnNjb2RlLXJlbW90ZQ%3D%3D?line=0'>1</a>\u001b[0m \u001b[39m# %%capture\u001b[39;00m\n\u001b[0;32m----> <a href='vscode-notebook-cell://vscode-session-rvjx58jmwrc9n3vi27hu8y4rr8.i.anyscaleuserdata.com/home/ray/default/templates/templates/e2e-dspy-workflow/README.ipynb#Y104sdnNjb2RlLXJlbW90ZQ%3D%3D?line=1'>2</a>\u001b[0m \u001b[39mfrom\u001b[39;00m \u001b[39msrc\u001b[39;00m \u001b[39mimport\u001b[39;00m evaluate_and_prompt_optimize\n\u001b[1;32m      <a href='vscode-notebook-cell://vscode-session-rvjx58jmwrc9n3vi27hu8y4rr8.i.anyscaleuserdata.com/home/ray/default/templates/templates/e2e-dspy-workflow/README.ipynb#Y104sdnNjb2RlLXJlbW90ZQ%3D%3D?line=3'>4</a>\u001b[0m evaluation_kwargs \u001b[39m=\u001b[39m {\n\u001b[1;32m      <a href='vscode-notebook-cell://vscode-session-rvjx58jmwrc9n3vi27hu8y4rr8.i.anyscaleuserdata.com/home/ray/default/templates/templates/e2e-dspy-workflow/README.ipynb#Y104sdnNjb2RlLXJlbW90ZQ%3D%3D?line=4'>5</a>\u001b[0m     \u001b[39m\"\u001b[39m\u001b[39mmodels\u001b[39m\u001b[39m\"\u001b[39m: all_llamas,\n\u001b[1;32m      <a href='vscode-notebook-cell://vscode-session-rvjx58jmwrc9n3vi27hu8y4rr8.i.anyscaleuserdata.com/home/ray/default/templates/templates/e2e-dspy-workflow/README.ipynb#Y104sdnNjb2RlLXJlbW90ZQ%3D%3D?line=5'>6</a>\u001b[0m     \u001b[39m\"\u001b[39m\u001b[39mmodule_class\u001b[39m\u001b[39m\"\u001b[39m: IntentClassificationModule,\n\u001b[0;32m   (...)\u001b[0m\n\u001b[1;32m     <a href='vscode-notebook-cell://vscode-session-rvjx58jmwrc9n3vi27hu8y4rr8.i.anyscaleuserdata.com/home/ray/default/templates/templates/e2e-dspy-workflow/README.ipynb#Y104sdnNjb2RlLXJlbW90ZQ%3D%3D?line=10'>11</a>\u001b[0m     \u001b[39m\"\u001b[39m\u001b[39mlabels_in_use\u001b[39m\u001b[39m\"\u001b[39m: labels_in_use\n\u001b[1;32m     <a href='vscode-notebook-cell://vscode-session-rvjx58jmwrc9n3vi27hu8y4rr8.i.anyscaleuserdata.com/home/ray/default/templates/templates/e2e-dspy-workflow/README.ipynb#Y104sdnNjb2RlLXJlbW90ZQ%3D%3D?line=11'>12</a>\u001b[0m }\n\u001b[1;32m     <a href='vscode-notebook-cell://vscode-session-rvjx58jmwrc9n3vi27hu8y4rr8.i.anyscaleuserdata.com/home/ray/default/templates/templates/e2e-dspy-workflow/README.ipynb#Y104sdnNjb2RlLXJlbW90ZQ%3D%3D?line=13'>14</a>\u001b[0m ft_results \u001b[39m=\u001b[39m evaluate_and_prompt_optimize(\u001b[39m*\u001b[39m\u001b[39m*\u001b[39mevaluation_kwargs)\n",
      "File \u001b[0;32m~/default/templates/templates/e2e-dspy-workflow/src/__init__.py:1\u001b[0m\n\u001b[0;32m----> 1\u001b[0m \u001b[39mfrom\u001b[39;00m \u001b[39m.\u001b[39;00m\u001b[39mutils\u001b[39;00m \u001b[39mimport\u001b[39;00m \u001b[39m*\u001b[39m\n\u001b[1;32m      2\u001b[0m \u001b[39mfrom\u001b[39;00m \u001b[39m.\u001b[39;00m\u001b[39mdata_preprocess\u001b[39;00m \u001b[39mimport\u001b[39;00m \u001b[39m*\u001b[39m\n\u001b[1;32m      3\u001b[0m \u001b[39mfrom\u001b[39;00m \u001b[39m.\u001b[39;00m\u001b[39mevaluation\u001b[39;00m \u001b[39mimport\u001b[39;00m \u001b[39m*\u001b[39m\n",
      "File \u001b[0;32m~/default/templates/templates/e2e-dspy-workflow/src/utils.py:1\u001b[0m\n\u001b[0;32m----> 1\u001b[0m \u001b[39mimport\u001b[39;00m \u001b[39mdspy\u001b[39;00m\n\u001b[1;32m      2\u001b[0m \u001b[39mimport\u001b[39;00m \u001b[39mdsp\u001b[39;00m\n\u001b[1;32m      3\u001b[0m \u001b[39mimport\u001b[39;00m \u001b[39mos\u001b[39;00m\n",
      "\u001b[0;31mModuleNotFoundError\u001b[0m: No module named 'dspy'"
     ]
    }
   ],
   "source": [
    "# %%capture\n",
    "from src import evaluate_and_prompt_optimize\n",
    "\n",
    "evaluation_kwargs = {\n",
    "    \"models\": all_llamas,\n",
    "    \"module_class\": IntentClassificationModule,\n",
    "    \"optimizer_trainset\": ft_optimizer_trainset,\n",
    "    \"optimizer_valset\": ft_optimizer_devset,\n",
    "    \"devset\": devset_synthetic,\n",
    "    \"metric\": metric,\n",
    "    \"labels_in_use\": labels_in_use\n",
    "}\n",
    "\n",
    "ft_results = evaluate_and_prompt_optimize(**evaluation_kwargs)"
   ]
  },
  {
   "cell_type": "code",
   "execution_count": 2,
   "metadata": {},
   "outputs": [
    {
     "ename": "NameError",
     "evalue": "name 'ft_results' is not defined",
     "output_type": "error",
     "traceback": [
      "\u001b[0;31m---------------------------------------------------------------------------\u001b[0m",
      "\u001b[0;31mNameError\u001b[0m                                 Traceback (most recent call last)",
      "\u001b[1;32m/home/ray/default/templates/templates/e2e-dspy-workflow/README.ipynb Cell 55\u001b[0m line \u001b[0;36m4\n\u001b[1;32m      <a href='vscode-notebook-cell://vscode-session-rvjx58jmwrc9n3vi27hu8y4rr8.i.anyscaleuserdata.com/home/ray/default/templates/templates/e2e-dspy-workflow/README.ipynb#Y105sdnNjb2RlLXJlbW90ZQ%3D%3D?line=1'>2</a>\u001b[0m     \u001b[39mimport\u001b[39;00m \u001b[39mjson\u001b[39;00m\n\u001b[1;32m      <a href='vscode-notebook-cell://vscode-session-rvjx58jmwrc9n3vi27hu8y4rr8.i.anyscaleuserdata.com/home/ray/default/templates/templates/e2e-dspy-workflow/README.ipynb#Y105sdnNjb2RlLXJlbW90ZQ%3D%3D?line=2'>3</a>\u001b[0m     \u001b[39mwith\u001b[39;00m \u001b[39mopen\u001b[39m(\u001b[39m\"\u001b[39m\u001b[39mft_results.json\u001b[39m\u001b[39m\"\u001b[39m, \u001b[39m\"\u001b[39m\u001b[39mw\u001b[39m\u001b[39m\"\u001b[39m) \u001b[39mas\u001b[39;00m f:\n\u001b[0;32m----> <a href='vscode-notebook-cell://vscode-session-rvjx58jmwrc9n3vi27hu8y4rr8.i.anyscaleuserdata.com/home/ray/default/templates/templates/e2e-dspy-workflow/README.ipynb#Y105sdnNjb2RlLXJlbW90ZQ%3D%3D?line=3'>4</a>\u001b[0m         json\u001b[39m.\u001b[39mdump(ft_results, f)\n\u001b[1;32m      <a href='vscode-notebook-cell://vscode-session-rvjx58jmwrc9n3vi27hu8y4rr8.i.anyscaleuserdata.com/home/ray/default/templates/templates/e2e-dspy-workflow/README.ipynb#Y105sdnNjb2RlLXJlbW90ZQ%3D%3D?line=4'>5</a>\u001b[0m \u001b[39melse\u001b[39;00m:\n\u001b[1;32m      <a href='vscode-notebook-cell://vscode-session-rvjx58jmwrc9n3vi27hu8y4rr8.i.anyscaleuserdata.com/home/ray/default/templates/templates/e2e-dspy-workflow/README.ipynb#Y105sdnNjb2RlLXJlbW90ZQ%3D%3D?line=5'>6</a>\u001b[0m     ft_results \u001b[39m=\u001b[39m json\u001b[39m.\u001b[39mload(\u001b[39mopen\u001b[39m(\u001b[39m\"\u001b[39m\u001b[39mft_results.json\u001b[39m\u001b[39m\"\u001b[39m))\n",
      "\u001b[0;31mNameError\u001b[0m: name 'ft_results' is not defined"
     ]
    }
   ],
   "source": [
    "if True:\n",
    "    import json\n",
    "    with open(\"ft_results.json\", \"w\") as f:\n",
    "        json.dump(ft_results, f)\n",
    "else:\n",
    "    ft_results = json.load(open(\"ft_results.json\"))"
   ]
  },
  {
   "cell_type": "code",
   "execution_count": 43,
   "metadata": {},
   "outputs": [
    {
     "name": "stdout",
     "output_type": "stream",
     "text": [
      "{'base': {'vanilla': {'devset': 0.0}, 'bfrs': {'devset': 34.6}}, 'ft': {'vanilla': {'devset': 55.3}, 'bfrs': {'devset': 55.3}}}\n"
     ]
    }
   ],
   "source": [
    "print(ft_results)"
   ]
  },
  {
   "cell_type": "code",
   "execution_count": 44,
   "metadata": {},
   "outputs": [
    {
     "data": {
      "image/png": "[encoded data removed]",
      "text/plain": [
       "<Figure size 1200x600 with 1 Axes>"
      ]
     },
     "metadata": {},
     "output_type": "display_data"
    },
    {
     "name": "stdout",
     "output_type": "stream",
     "text": [
      "Highest Dev Set Score: 55.3, Model: fine-tuned\n"
     ]
    }
   ],
   "source": [
    "from src import graph_devset_results, graph_testset_results\n",
    "\n",
    "graph_devset_results(ft_results)"
   ]
  },
  {
   "cell_type": "markdown",
   "metadata": {},
   "source": [
    "We see that the highest performing model is the final epoch with a score of 50.2 on our synthetic devset.\n",
    "\n",
    "We will now take this best performing model and evaluate it and our prompt optimized base model on the true test set to see if we have improved performance.\n",
    "\n",
    "This should take around 10 minutes to run."
   ]
  },
  {
   "cell_type": "code",
   "execution_count": 34,
   "metadata": {},
   "outputs": [],
   "source": [
    "%%capture\n",
    "# Now we need to evaluate the test set\n",
    "from src import run_testset_evaluation\n",
    "\n",
    "testset_evaluation_kwargs = {\n",
    "    \"ft_results\": ft_results,\n",
    "    \"all_llamas\": all_llamas,\n",
    "    \"labels_in_use\": labels_in_use,\n",
    "    \"testset\": testset,\n",
    "    \"metric\": metric,\n",
    "    \"module_class\": IntentClassificationModule\n",
    "}\n",
    "\n",
    "ft_results_testset, (best_program_path, best_model, best_score) = run_testset_evaluation(**testset_evaluation_kwargs)"
   ]
  },
  {
   "cell_type": "code",
   "execution_count": 35,
   "metadata": {},
   "outputs": [
    {
     "data": {
      "image/png": "[encoded data removed]",
      "text/plain": [
       "<Figure size 1000x600 with 1 Axes>"
      ]
     },
     "metadata": {},
     "output_type": "display_data"
    }
   ],
   "source": [
    "graph_testset_results(ft_results_testset)"
   ]
  },
  {
   "cell_type": "code",
   "execution_count": 36,
   "metadata": {},
   "outputs": [
    {
     "name": "stdout",
     "output_type": "stream",
     "text": [
      "Best testset result: \n",
      "meta-llama/Llama-3.2-1B-Instruct:epochs-4-total-trained-steps-160 with score: 54.0\n"
     ]
    }
   ],
   "source": [
    "print(f\"Best testset result: \\n{best_model} with score: {best_score}\")"
   ]
  },
  {
   "cell_type": "markdown",
   "metadata": {},
   "source": [
    "# Serving"
   ]
  },
  {
   "cell_type": "markdown",
   "metadata": {},
   "source": [
    "# TODO: Add context about what we are doing"
   ]
  },
  {
   "cell_type": "markdown",
   "metadata": {},
   "source": [
    "<b style=\"background-color: blue;\">&nbsp;🔄 RUN (optional)&nbsp;</b>:\n",
    "You can optionally deploy your model to Anyscale in order to use it in production.\n",
    "To do this, run the following command:\n",
    "\n",
    "```\n",
    "!anyscale service deploy -f serve_1B.yaml\n",
    "```\n",
    "\n",
    "Follow the URL in order to find your service URL and API key for your deployed service.\n",
    "\n",
    "If you choose not to deploy your model, you can run the following code to run the model locally.\n",
    "```\n",
    "serve run serve_1B.yaml\n",
    "```\n",
    "\n",
    "If you never took down your service from the previous section, there is no need to rerun the service run command."
   ]
  },
  {
   "cell_type": "code",
   "execution_count": null,
   "metadata": {},
   "outputs": [],
   "source": [
    "# !anyscale service deploy -f serve_1B.yaml\n",
    "# !serve run serve_1B.yaml"
   ]
  },
  {
   "cell_type": "markdown",
   "metadata": {},
   "source": [
    "<b style=\"background-color: yellow;\">&nbsp;🔄 REPLACE&nbsp;</b>:\n",
    "Replace the following variables with your Anyscale service URL and API key.\n",
    "\n",
    "```\n",
    "ANYSCALE_SERVICE_BASE_URL = None\n",
    "ANYSCALE_API_KEY = None\n",
    "```\n",
    "\n",
    "You can find them by clicking the query button on the Anyscale dashboard for your service.\n",
    "\n",
    "<!-- <img src=\"files/service-query.png\" alt=\"Service Query\" width=\"500\"> -->\n",
    "![Service Query](README_files/service-query.png)"
   ]
  },
  {
   "cell_type": "code",
   "execution_count": 37,
   "metadata": {},
   "outputs": [],
   "source": [
    "ANYSCALE_SERVICE_BASE_URL = None\n",
    "ANYSCALE_API_KEY = None"
   ]
  },
  {
   "cell_type": "code",
   "execution_count": 38,
   "metadata": {},
   "outputs": [],
   "source": [
    "from src import MODEL_PARAMETERS, LOCAL_API_PARAMETERS\n",
    "if ANYSCALE_SERVICE_BASE_URL and ANYSCALE_API_KEY:\n",
    "    API_PARAMETERS = {\"api_base\": ANYSCALE_SERVICE_BASE_URL, \"api_key\": ANYSCALE_API_KEY}\n",
    "else:\n",
    "    API_PARAMETERS = LOCAL_API_PARAMETERS"
   ]
  },
  {
   "cell_type": "markdown",
   "metadata": {},
   "source": [
    "Now we can use ray serve in order to deploy our DSPy program.\n",
    "\n",
    "The RayLLM instance you deployed will autoscale according to the number of requests you make based on the configuration inside of the `serve_1B.yaml` file.\n",
    "\n",
    "Ray serve does all the hard work for you there, so all you need to do is provide the URL and API key to query your model.\n",
    "\n",
    "Now to deploy the DSPy program on top of the RayLLM instance, we can create a FastAPI wrapper around our DSPy program."
   ]
  },
  {
   "cell_type": "code",
   "execution_count": 89,
   "metadata": {},
   "outputs": [
    {
     "name": "stderr",
     "output_type": "stream",
     "text": [
      "INFO 2024-10-19 01:34:51,639 serve 14470 api.py:259 - Connecting to existing Serve app in namespace \"serve\". New http options will not be applied.\n",
      "WARNING 2024-10-19 01:34:51,641 serve 14470 api.py:85 - The new client HTTP config differs from the existing one in the following fields: ['host']. The new HTTP config is ignored.\n"
     ]
    },
    {
     "name": "stderr",
     "output_type": "stream",
     "text": [
      "INFO 2024-10-19 01:34:57,689 serve 14470 client.py:492 - Deployment 'LLMClient:xrueus8l' is ready at `http://0.0.0.0:8000/classify_intent`. component=serve deployment=LLMClient\n",
      "INFO 2024-10-19 01:34:57,692 serve 14470 api.py:549 - Deployed app 'llm_client' successfully.\n"
     ]
    }
   ],
   "source": [
    "from ray import serve\n",
    "from fastapi import FastAPI\n",
    "\n",
    "app = FastAPI()\n",
    "\n",
    "@serve.deployment(\n",
    "    ray_actor_options={\"num_cpus\": 0.1},\n",
    "    autoscaling_config=dict(min_replicas=1, max_replicas=3)\n",
    ")\n",
    "@serve.ingress(app)\n",
    "class LLMClient:\n",
    "    def __init__(self):\n",
    "        self.llm = dspy.LM(model=\"openai/\" + best_model, **MODEL_PARAMETERS, **API_PARAMETERS)\n",
    "        dspy.settings.configure(experimental=True, lm=self.llm)\n",
    "        self.program = IntentClassificationModule(labels_in_use)\n",
    "        self.program.load(best_program_path)\n",
    "\n",
    "    @app.get(\"/\")\n",
    "    async def classify_intent(\n",
    "        self,\n",
    "        query: str,\n",
    "    ):\n",
    "        \"\"\"Answer the given question and provide sources.\"\"\"\n",
    "        retrieval_response = self.program(query)\n",
    "\n",
    "        return retrieval_response.label\n",
    "\n",
    "llm_client = LLMClient.bind()\n",
    "llm_handle = serve.run(llm_client, route_prefix=\"/classify_intent\", name=\"llm_client\")"
   ]
  },
  {
   "cell_type": "code",
   "execution_count": 82,
   "metadata": {},
   "outputs": [
    {
     "name": "stdout",
     "output_type": "stream",
     "text": [
      "My card was charged more than expected.\n",
      "card_payment_fee_charged\n"
     ]
    }
   ],
   "source": [
    "example_query = ft_trainset[1][\"text\"]\n",
    "llm_response = await llm_handle.classify_intent.remote(\n",
    "    query=example_query,\n",
    ")\n",
    "print(example_query)\n",
    "print(llm_response)"
   ]
  },
  {
   "cell_type": "markdown",
   "metadata": {},
   "source": [
    "We can also query directly using HTTP requests, because we use the `@app` decorator on our FastAPI app."
   ]
  },
  {
   "cell_type": "code",
   "execution_count": 91,
   "metadata": {},
   "outputs": [
    {
     "name": "stdout",
     "output_type": "stream",
     "text": [
      "card_payment_fee_charged\n"
     ]
    }
   ],
   "source": [
    "import requests\n",
    "try:\n",
    "    response = requests.get(f\"http://localhost:8000/classify_intent?query={example_query}\")\n",
    "    print(response.json())\n",
    "except Exception as e:\n",
    "    print(e)"
   ]
  },
  {
   "cell_type": "markdown",
   "metadata": {},
   "source": [
    "<b style=\"background-color: yellow;\">&nbsp;🛑 IMPORTANT&nbsp;</b>: Please `Terminate` your service from the Service page to avoid depleting your free trial credits."
   ]
  },
  {
   "cell_type": "code",
   "execution_count": null,
   "metadata": {},
   "outputs": [],
   "source": [
    "# Clean up\n",
    "!python src/clear_cell_nums.py\n",
    "!find . | grep -E \".ipynb_checkpoints\" | xargs rm -rf\n",
    "!find . | grep -E \"(__pycache__|\\.pyc|\\.pyo)\" | xargs rm -rf\n",
    "!rm -rf __pycache__ data .HF_TOKEN deploy/services"
   ]
  }
 ],
 "metadata": {
  "kernelspec": {
   "display_name": "base",
   "language": "python",
   "name": "python3"
  },
  "language_info": {
   "codemirror_mode": {
    "name": "ipython",
    "version": 3
   },
   "file_extension": ".py",
   "mimetype": "text/x-python",
   "name": "python",
   "nbconvert_exporter": "python",
   "pygments_lexer": "ipython3",
   "version": "3.9.19"
  }
 },
 "nbformat": 4,
 "nbformat_minor": 2
}
