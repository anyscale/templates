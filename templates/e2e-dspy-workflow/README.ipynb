{
 "cells": [
  {
   "cell_type": "markdown",
   "metadata": {},
   "source": [
    "# End-to-end DSPy Workflows Guide \n",
    "\n",
    "Time to complete: X Hours"
   ]
  },
  {
   "cell_type": "markdown",
   "metadata": {},
   "source": [
    "## Problem\n",
    "\n",
    "You are a bank, and you want to categorize customer support queries into one of 25 categories. You have hand labeled 100 examples and have collected 4,000 unlabeled examples.\n",
    "\n",
    "You want to use an LLM to solve this problem, because you don't have enough labeled data to train a traditional classifier.\n",
    "\n",
    "You also don't want to spend a lot of money on inference. \n",
    "\n",
    "## Motivation\n",
    "\n",
    "You decide to use DSPy to solve this problem because the following flow is fairly difficult to orchestrate manually:\n",
    "Data Collection/Labeling -> Fine-tuning -> Prompt Optimization -> Evaluation -> Deployment\n",
    "\n",
    "By using DSPy on Anyscale, you can easily orchestrate this flow and solve the problem.\n",
    "\n",
    "## Solution\n",
    "\n",
    "You don't want pay to host a 70B model, so you will instead finetune a 1B model, which you can host and serve at a low cost using Anyscale's RayLLM offering.\n",
    "\n",
    "In order to help the 1B model understand the reasoning behind why the 70B model makes certain classifications, you will use Chains of Thought to distill knowledge from the 70B model.\n",
    "\n",
    "So what will this look like?\n",
    "\n",
    "1. Collect 4,000 unlabeled examples\n",
    "2. Label all of them with your 70B oracle model running locally\n",
    "3. Use the new DSPy finetuning tools to finetune a 1B model\n",
    "- This takes about 20 minutes on 4xA100-80GB GPUs, and uses Anyscale's LLMForge in the background to finetune the model\n",
    "4. Evaluate and prompt optimize your 1B model checkpoints against the labeled dataset\n",
    "5. Take the best performing 1B checkpoint and compare it to the un-finetuned 1B model on the true test set\n",
    "6. Deploy the optimized 1B model/DSPy pipeline to production using Anyscale's RayLLM # TODO\n",
    "\n",
    "Note(isaac): we arent doing anything with the 100 labeled examples yet"
   ]
  },
  {
   "cell_type": "markdown",
   "metadata": {},
   "source": [
    "# Table of Contents\n",
    "\n",
    "## Set Up\n",
    "1. Installing DSPy\n",
    "2. Setting up the environment\n",
    "3. Loading the dataset\n",
    "4. Setting up the program, metric, and evaluator\n",
    "\n",
    "## Data Collection\n",
    "\n",
    "1. Collect 4,000 unlabeled examples\n",
    "2. Label all of them with your 70B oracle model running locally\n",
    "\n",
    "## Fine-tuning\n",
    "\n",
    "1. Use the new DSPy finetuning tools to finetune a 1B model\n",
    "- This takes about 20 minutes on 4xA100-80GB GPUs, and uses Anyscale's LLMForge in the background to finetune the model\n",
    "\n",
    "## Evaluation\n",
    "1. Evaluate and prompt optimize your 1B model checkpoints against the labeled dataset\n",
    "2. Find the best performing 1B checkpoint and compare it to the un-finetuned 1B model on the true test set\n",
    "\n",
    "## Serving\n",
    "1. Deploy the optimized 1B model/DSPy pipeline to production using Anyscale's RayLLM # TODO\n",
    "\n",
    "## Future Work and Open Questions\n",
    "- Efficient batch inference with a DSPy pipeline\n",
    "- Exploring different fine-tuning methods and hyperparameter sweeps\n",
    "\n",
    "This guide aims to provide a comprehensive overview of building, optimizing, and deploying LLM pipelines using DSPy and Anyscale."
   ]
  },
  {
   "cell_type": "markdown",
   "metadata": {},
   "source": [
    "## Set up"
   ]
  },
  {
   "cell_type": "markdown",
   "metadata": {},
   "source": [
    "Node Set up:\n",
    "\n",
    "We will be running everything on a head node that uses 4xA100-80GB GPUs. I find that L4s are usually available and suitable for this usecase. You can also use any more powerful node.\n",
    "\n",
    "To change to use A100 GPUs, click the \"1 active node\" in the top right corner, then for workspace node, click the pencil icon and navigate to the A100 tab and select the 4xA100 option. If you do not see A100 in the list of GPUs, they may not be available on your cloud."
   ]
  },
  {
   "cell_type": "code",
   "execution_count": 1,
   "metadata": {},
   "outputs": [],
   "source": [
    "%load_ext autoreload\n",
    "%autoreload 2"
   ]
  },
  {
   "cell_type": "code",
   "execution_count": 2,
   "metadata": {},
   "outputs": [
    {
     "name": "stdout",
     "output_type": "stream",
     "text": [
      "dspy is already installed\n"
     ]
    }
   ],
   "source": [
    "import importlib.util\n",
    "\n",
    "if importlib.util.find_spec(\"dspy\") is None:\n",
    "    print(\"Installing dspy\")\n",
    "    !git clone -b dev_finetune https://github.com/stanfordnlp/dspy.git\n",
    "    !cd dspy && pip install -e .\n",
    "else:\n",
    "    print(\"dspy is already installed\")\n",
    "\n",
    "# !pip install -e dspy"
   ]
  },
  {
   "cell_type": "code",
   "execution_count": 3,
   "metadata": {},
   "outputs": [],
   "source": [
    "import dspy\n",
    "dspy.settings.configure(experimental=True)\n",
    "\n",
    "import ujson\n",
    "\n",
    "from dotenv import load_dotenv\n",
    "load_dotenv()\n",
    "\n",
    "from src import set_dspy_cache_location\n",
    "set_dspy_cache_location(\"/home/ray/default/dspy/cache\")"
   ]
  },
  {
   "cell_type": "markdown",
   "metadata": {},
   "source": [
    "In order to run this notebook, you need to have the following environment variables set:\n",
    "- HF_TOKEN\n",
    "- HF_HOME=/mnt/local_storage/huggingface\n",
    "- (optional) WANDB_API_KEY\n",
    "\n",
    "You can get a HF_TOKEN [here](https://huggingface.co/settings/tokens).\n",
    "\n",
    "You can get a WANDB_API_KEY [here](https://wandb.ai/authorize)."
   ]
  },
  {
   "cell_type": "code",
   "execution_count": 4,
   "metadata": {},
   "outputs": [],
   "source": [
    "from src import check_env_vars\n",
    "check_env_vars()"
   ]
  },
  {
   "cell_type": "code",
   "execution_count": 5,
   "metadata": {},
   "outputs": [
    {
     "name": "stderr",
     "output_type": "stream",
     "text": [
      "2024-10-17 00:04:22,792\tINFO worker.py:1601 -- Connecting to existing Ray cluster at address: 10.0.15.228:6379...\n",
      "2024-10-17 00:04:22,801\tINFO worker.py:1777 -- Connected to Ray cluster. View the dashboard at https://session-fkvdirx4bzefi53sjl55m7asad.i.anyscaleuserdata.com \n",
      "2024-10-17 00:04:22,828\tINFO packaging.py:531 -- Creating a file package for local directory '/home/ray/default/dspy-1/dspy'.\n",
      "2024-10-17 00:04:22,861\tINFO packaging.py:359 -- Pushing file package 'gcs://_ray_pkg_60d0ad1165de7e97.zip' (0.99MiB) to Ray cluster...\n",
      "2024-10-17 00:04:22,874\tINFO packaging.py:372 -- Successfully pushed file package 'gcs://_ray_pkg_60d0ad1165de7e97.zip'.\n",
      "2024-10-17 00:04:22,891\tINFO packaging.py:359 -- Pushing file package 'gcs://_ray_pkg_d05820e7c6dcb20401954662cf7c7d09712b3a9d.zip' (2.90MiB) to Ray cluster...\n",
      "2024-10-17 00:04:22,919\tINFO packaging.py:372 -- Successfully pushed file package 'gcs://_ray_pkg_d05820e7c6dcb20401954662cf7c7d09712b3a9d.zip'.\n"
     ]
    }
   ],
   "source": [
    "from src import init_ray\n",
    "init_ray()"
   ]
  },
  {
   "cell_type": "markdown",
   "metadata": {},
   "source": [
    "We will make use of a random number generator in this notebook. We are creating a Random object here to ensure that our notebook is reproducible."
   ]
  },
  {
   "cell_type": "code",
   "execution_count": 6,
   "metadata": {},
   "outputs": [],
   "source": [
    "from src import set_random_seed\n",
    "rng = set_random_seed()"
   ]
  },
  {
   "cell_type": "markdown",
   "metadata": {},
   "source": [
    "We will be using the PolyAI/banking77 dataset for this tutorial. We use the built in dspy DataLoader to load the dataset from Huggingface as a list of dspy.Example objects."
   ]
  },
  {
   "cell_type": "code",
   "execution_count": 7,
   "metadata": {},
   "outputs": [],
   "source": [
    "%%capture\n",
    "# Prepare the dataset\n",
    "from src import load_data_from_huggingface\n",
    "full_trainset, full_testset = load_data_from_huggingface()"
   ]
  },
  {
   "cell_type": "code",
   "execution_count": 8,
   "metadata": {},
   "outputs": [
    {
     "name": "stdout",
     "output_type": "stream",
     "text": [
      "Example training set:  Example({'label': 'card_arrival', 'text': 'I am still waiting on my card?'}) (input_keys={'text'})\n"
     ]
    }
   ],
   "source": [
    "from src import preprocess_data\n",
    "full_trainset_processed, full_testset_processed = preprocess_data(full_trainset, full_testset)\n",
    "\n",
    "print(\"Example training set: \", full_trainset_processed[0])"
   ]
  },
  {
   "cell_type": "markdown",
   "metadata": {},
   "source": [
    "The dataset is originally called \"banking77\" because there are 77 labels. We will be reducing this to the top 25 most frequent labels."
   ]
  },
  {
   "cell_type": "code",
   "execution_count": 9,
   "metadata": {},
   "outputs": [
    {
     "name": "stdout",
     "output_type": "stream",
     "text": [
      "Dataset filtered to top 25 labels. New sizes:\n",
      "Training set size: 4171; Test set size: 1000\n",
      "Top 25 labels: card_payment_fee_charged, direct_debit_payment_not_recognised, balance_not_updated_after_cheque_or_cash_deposit, wrong_amount_of_cash_received, cash_withdrawal_charge, transaction_charged_twice, declined_cash_withdrawal, transfer_fee_charged, balance_not_updated_after_bank_transfer, transfer_not_received_by_recipient, request_refund, card_payment_not_recognised, card_payment_wrong_exchange_rate, extra_charge_on_statement, wrong_exchange_rate_for_cash_withdrawal, refund_not_showing_up, reverted_card_payment, cash_withdrawal_not_recognised, activate_my_card, pending_card_payment, cancel_transfer, beneficiary_not_allowed, card_arrival, declined_card_payment, pending_top_up\n",
      "Example training set: Example({'label': 'card_arrival', 'text': 'I am still waiting on my card?'}) (input_keys={'text'})\n",
      "Example test set: Example({'label': 'card_arrival', 'text': 'How do I locate my card?'}) (input_keys={'text'})\n"
     ]
    }
   ],
   "source": [
    "from src import filter_to_top_n_labels\n",
    "full_trainset_filtered, full_testset_filtered, top_25_labels = filter_to_top_n_labels(full_trainset_processed, full_testset_processed, n=25)\n",
    "\n",
    "print(f\"Dataset filtered to top 25 labels. New sizes:\")\n",
    "print(f\"Training set size: {len(full_trainset_filtered)}; Test set size: {len(full_testset_filtered)}\")\n",
    "print(f\"Top 25 labels: {', '.join(str(label) for label in top_25_labels)}\")\n",
    "print(f\"Example training set: {full_trainset_filtered[0]}\")\n",
    "print(f\"Example test set: {full_testset_filtered[0]}\")\n"
   ]
  },
  {
   "cell_type": "markdown",
   "metadata": {},
   "source": [
    "We need to pass the labels to the LLM somehow.\n",
    "\n",
    "In DSPy, we can do this by either including it in the docstring of the program or by adding it as an input field to the Signature.\n",
    "\n",
    "Here, we will add it to the docstring, because the set of labels is fixed."
   ]
  },
  {
   "cell_type": "code",
   "execution_count": 10,
   "metadata": {},
   "outputs": [
    {
     "name": "stdout",
     "output_type": "stream",
     "text": [
      "['card_payment_fee_charged', 'direct_debit_payment_not_recognised', 'balance_not_updated_after_cheque_or_cash_deposit', 'wrong_amount_of_cash_received', 'cash_withdrawal_charge', 'transaction_charged_twice', 'declined_cash_withdrawal', 'transfer_fee_charged', 'balance_not_updated_after_bank_transfer', 'transfer_not_received_by_recipient', 'request_refund', 'card_payment_not_recognised', 'card_payment_wrong_exchange_rate', 'extra_charge_on_statement', 'wrong_exchange_rate_for_cash_withdrawal', 'refund_not_showing_up', 'reverted_card_payment', 'cash_withdrawal_not_recognised', 'activate_my_card', 'pending_card_payment', 'cancel_transfer', 'beneficiary_not_allowed', 'card_arrival', 'declined_card_payment', 'pending_top_up']\n"
     ]
    }
   ],
   "source": [
    "labels_in_use = top_25_labels\n",
    "print(labels_in_use)"
   ]
  },
  {
   "cell_type": "markdown",
   "metadata": {},
   "source": [
    "Now we will shuffle our training set and split it into a training and labeled set.\n",
    "\n",
    "The scenario we are emulating is that we only have 100 labeled examples to train on. We are saying that we have 4K (length of the training set) unlabeled examples we can then label using an oracle model, and then distill the knowledge from the oracle model into our 1B model."
   ]
  },
  {
   "cell_type": "code",
   "execution_count": 11,
   "metadata": {},
   "outputs": [],
   "source": [
    "from src import common_kwargs\n",
    "\n",
    "shuffled_trainset = [d for d in full_trainset_filtered]\n",
    "rng.shuffle(shuffled_trainset)\n",
    "\n",
    "# The devset shouldn't overlap\n",
    "ft_trainset = shuffled_trainset[:-100]\n",
    "labeled_trainset = shuffled_trainset[-100:]\n",
    "\n",
    "testset = full_testset_filtered\n",
    "evaluate_testset = dspy.Evaluate(devset=testset, **common_kwargs)"
   ]
  },
  {
   "cell_type": "markdown",
   "metadata": {},
   "source": [
    "This is a simple, 1 step Chain of Thought program.\n",
    "\n",
    "In DSPy, you define a Signature to show your inputs and outputs. You define a module to run the different steps of your program.\n",
    "\n",
    "Our signature has a note at the top containing a simple prompt along with the list of valid outputs.\n",
    "\n",
    "We then have an `intent` field which is the input to the program.\n",
    "\n",
    "Finally we have a `label` field which is the output of the program.\n",
    "\n",
    "We give both of these fields a short description."
   ]
  },
  {
   "cell_type": "code",
   "execution_count": 12,
   "metadata": {},
   "outputs": [
    {
     "name": "stdout",
     "output_type": "stream",
     "text": [
      "class IntentClassification(dspy.Signature):\n",
      "    \"\"\"As a part of a banking issue traiging system, classify the intent of a natural language query into one of the 25 labels.\n",
      "    The intent should exactly match one of the following:\n",
      "    ['card_payment_fee_charged', 'direct_debit_payment_not_recognised', 'balance_not_updated_after_cheque_or_cash_deposit', 'wrong_amount_of_cash_received', 'cash_withdrawal_charge', 'transaction_charged_twice', 'declined_cash_withdrawal', 'transfer_fee_charged', 'balance_not_updated_after_bank_transfer', 'transfer_not_received_by_recipient', 'request_refund', 'card_payment_not_recognised', 'card_payment_wrong_exchange_rate', 'extra_charge_on_statement', 'wrong_exchange_rate_for_cash_withdrawal', 'refund_not_showing_up', 'reverted_card_payment', 'cash_withdrawal_not_recognised', 'activate_my_card', 'pending_card_payment', 'cancel_transfer', 'beneficiary_not_allowed', 'card_arrival', 'declined_card_payment', 'pending_top_up']\n",
      "    \"\"\"\n",
      "\n",
      "    intent = dspy.InputField(desc=\"Intent of the query\")\n",
      "    label = dspy.OutputField(desc=\"Type of the intent; Should just be one of the 25 labels with no other text\")\n",
      "\n"
     ]
    }
   ],
   "source": [
    "# We are setting the experimental flag to True to make use of the fine-tuning\n",
    "# features that are still in development.\n",
    "dspy.settings.configure(experimental=True)\n",
    "import inspect\n",
    "from src import IntentClassification, IntentClassificationModule\n",
    "\n",
    "print(inspect.getsource(IntentClassification))"
   ]
  },
  {
   "cell_type": "markdown",
   "metadata": {},
   "source": [
    "For the module, we create a dspy.Module class that contains the Chain of Thought predictor using the signature we defined above.\n",
    "We also pass in the valid labels to the module.\n",
    "\n",
    "Inside the forward method, we pass the text to the predictor, do a little cleaning, and return the prediction."
   ]
  },
  {
   "cell_type": "code",
   "execution_count": 13,
   "metadata": {},
   "outputs": [
    {
     "name": "stdout",
     "output_type": "stream",
     "text": [
      "class IntentClassificationModule(dspy.Module):\n",
      "    def __init__(self, labels_in_use):\n",
      "        self.intent_classifier = dspy.ChainOfThought(IntentClassification)\n",
      "        self.valid_labels = set(labels_in_use)\n",
      "\n",
      "    def forward(self, text):\n",
      "        prediction = self.intent_classifier(intent=text)\n",
      "        sanitized_prediction = dspy.Prediction(label=prediction.label.lower().strip().replace(\" \", \"_\"), reasoning=prediction.reasoning)\n",
      "        return sanitized_prediction\n",
      "\n"
     ]
    }
   ],
   "source": [
    "print(inspect.getsource(IntentClassificationModule))"
   ]
  },
  {
   "cell_type": "markdown",
   "metadata": {},
   "source": [
    "Lastly, we set up some the vanilla program we will use throughout the notebook."
   ]
  },
  {
   "cell_type": "code",
   "execution_count": 14,
   "metadata": {},
   "outputs": [],
   "source": [
    "from src import MODEL_PARAMETERS, LOCAL_API_PARAMETERS\n",
    "vanilla_program = IntentClassificationModule(labels_in_use)"
   ]
  },
  {
   "cell_type": "code",
   "execution_count": 15,
   "metadata": {},
   "outputs": [],
   "source": [
    "# Note: Run above this to do all setup without launching any models\n",
    "# This is useful if you have already collected data and want to start from finetuning or from evaluation"
   ]
  },
  {
   "cell_type": "markdown",
   "metadata": {},
   "source": [
    "We will be using a local VLLM instance to run the initial benchmarks and data collection."
   ]
  },
  {
   "cell_type": "markdown",
   "metadata": {},
   "source": [
    "# Gathering training data and running the 70B Model\n",
    "\n",
    "\n",
    "## Preparation\n",
    "\n",
    "Before running the 70B model:\n",
    "1. Remember to set your HF_TOKEN and HF_HOME environment variables\n",
    "2. Use the following command to start the 70B server:\n",
    "\n",
    "   ```\n",
    "   vllm serve meta-llama/Meta-Llama-3.1-70B-Instruct --port 8000 --pipeline_parallel_size 2 --enable_prefix_caching --tensor_parallel_size 2\n",
    "   ```\n",
    "\n",
    "## Parallelism Configuration\n",
    "\n",
    "We've chosen pipeline parallelism and tensor parallelism of 2 for the 70B model based on our current setup. Here's the reasoning:\n",
    "\n",
    "1. Model size: The 70B model has 30 parts of ~5 GB each (based on [HuggingFace documentation](https://huggingface.co/meta-llama/Meta-Llama-3.1-70B-Instruct/tree/main)).\n",
    "   - Total size: 30 * 5 GB = 150 GB\n",
    "\n",
    "2. Available VRAM:\n",
    "   - Our GPUs: 80 GB VRAM x 4 = 320 GB\n",
    "   - Tensor parallelism: floor(320/150) = 2\n",
    "   - Pipeline parallelism: floor(num_gpus/2) = 2\n",
    "   - To use all 4 GPUs efficiently:\n",
    "     - Pipeline parallel size: 2\n",
    "     - Tensor parallelism: 2\n",
    "\n",
    "3. Alternative setup (8x24GB GPUs):\n",
    "   - Pipeline parallel size: 1\n",
    "   - Tensor parallelism: ceil(150/24) = 7\n",
    "\n",
    "This configuration allows us to run the 70B model efficiently across our available GPU resources.\n",
    "\n",
    "Note that on Anyscale, you CANNOT download a 70B model without changing HF_HOME on most machines. The folder `/mnt/local_storage/' has enough space for a model download. It is not persisted across cluster restarts, but that is fine for model weights we don't need to save."
   ]
  },
  {
   "cell_type": "code",
   "execution_count": 16,
   "metadata": {},
   "outputs": [
    {
     "data": {
      "text/plain": [
       "''"
      ]
     },
     "execution_count": 16,
     "metadata": {},
     "output_type": "execute_result"
    }
   ],
   "source": [
    "# Command for easy copying: \n",
    "# `export HF_HOME=/mnt/local_storage/huggingface; vllm serve meta-llama/Meta-Llama-3.1-70B-Instruct --port 8000 --pipeline_parallel_size 2 --enable_prefix_caching --tensor_parallel_size 2`\n",
    "input(\"Press Enter once you have the vllm server running...\")"
   ]
  },
  {
   "cell_type": "code",
   "execution_count": 17,
   "metadata": {},
   "outputs": [],
   "source": [
    "llama_70b = dspy.LM(model=\"openai/meta-llama/Meta-Llama-3.1-70B-Instruct\", **MODEL_PARAMETERS, **LOCAL_API_PARAMETERS)"
   ]
  },
  {
   "cell_type": "code",
   "execution_count": 18,
   "metadata": {},
   "outputs": [
    {
     "name": "stdout",
     "output_type": "stream",
     "text": [
      "Program input: Example({'label': 'extra_charge_on_statement', 'text': 'I still have not received an answer as to why I was charged $1.00 in a transaction?'}) (input_keys={'text'})\n",
      "Program output label: extra_charge_on_statement\n"
     ]
    }
   ],
   "source": [
    "from src import sanity_check_program\n",
    "\n",
    "sanity_check_program(llama_70b, vanilla_program, ft_trainset[0])"
   ]
  },
  {
   "cell_type": "markdown",
   "metadata": {},
   "source": [
    "### Bootstrap Data\n",
    "\n",
    "\n",
    "In this section, we bootstrap data for fine-tuning. In the code block below, we are deciding which program should be used to collect the bootstraps. We are setting this to the prompt optimized program, but one could also set this to the vanilla program, though doing so would lead to lower quality bootstraps."
   ]
  },
  {
   "cell_type": "code",
   "execution_count": 19,
   "metadata": {},
   "outputs": [
    {
     "name": "stderr",
     "output_type": "stream",
     "text": [
      "Average Metric: 4067 / 4071  (99.9): 100%|██████████| 4071/4071 [00:03<00:00, 1081.96it/s] \n"
     ]
    },
    {
     "name": "stdout",
     "output_type": "stream",
     "text": [
      "[{'role': 'system', 'content': \"Your input fields are:\\n1. `intent` (str): Intent of the query\\n\\nYour output fields are:\\n1. `reasoning` (str): ${produce the output fields}. We ...\\n2. `label` (str): Type of the intent; Should just be one of the 25 labels with no other text\\n\\nAll interactions will be structured in the following way, with the appropriate values filled in.\\n\\n[[ ## intent ## ]]\\n{intent}\\n\\n[[ ## reasoning ## ]]\\n{reasoning}\\n\\n[[ ## label ## ]]\\n{label}\\n\\n[[ ## completed ## ]]\\n\\nIn adhering to this structure, your objective is: \\n        As a part of a banking issue traiging system, classify the intent of a natural language query into one of the 25 labels.\\n        The intent should exactly match one of the following:\\n        ['card_payment_fee_charged', 'direct_debit_payment_not_recognised', 'balance_not_updated_after_cheque_or_cash_deposit', 'wrong_amount_of_cash_received', 'cash_withdrawal_charge', 'transaction_charged_twice', 'declined_cash_withdrawal', 'transfer_fee_charged', 'balance_not_updated_after_bank_transfer', 'transfer_not_received_by_recipient', 'request_refund', 'card_payment_not_recognised', 'card_payment_wrong_exchange_rate', 'extra_charge_on_statement', 'wrong_exchange_rate_for_cash_withdrawal', 'refund_not_showing_up', 'reverted_card_payment', 'cash_withdrawal_not_recognised', 'activate_my_card', 'pending_card_payment', 'cancel_transfer', 'beneficiary_not_allowed', 'card_arrival', 'declined_card_payment', 'pending_top_up']\"}, {'role': 'user', 'content': '[[ ## intent ## ]]\\nI still have not received an answer as to why I was charged $1.00 in a transaction?\\n\\nRespond with the corresponding output fields, starting with the field `reasoning`, then `label`, and then ending with the marker for `completed`.'}, {'role': 'assistant', 'content': '[[ ## reasoning ## ]]\\nThe user is inquiring about a transaction charge of $1.00, indicating they are seeking clarification on an extra fee associated with a transaction.\\n\\n[[ ## label ## ]]\\nextra_charge_on_statement\\n\\n[[ ## completed ## ]]'}]\n",
      "4065\n"
     ]
    }
   ],
   "source": [
    "from dspy.teleprompt.finetune_teleprompter import bootstrap_data, convert_to_module_level_message_data\n",
    "from src import delete_labels, NUM_THREADS, write_jsonl\n",
    "from src.data_preprocess import valid_label_metric\n",
    "\n",
    "# For realism of this scenario, we are going to delete all our labels except for our test set(which is cheating and we wouldn't have in production) and our 100 true labeled examples\n",
    "ft_trainset_to_label = delete_labels(ft_trainset)\n",
    "\n",
    "\n",
    "with dspy.context(lm=llama_70b):\n",
    "    collected_data = bootstrap_data(vanilla_program, ft_trainset_to_label, num_threads=NUM_THREADS, max_errors=10000, metric=valid_label_metric)\n",
    "    # Make sure to only include the labels we are actively using or that arent hallucinated by the oracle\n",
    "    collected_data_filtered = [x for x in collected_data if x[\"prediction\"][\"label\"] in labels_in_use]\n",
    "    \n",
    "    dataset = convert_to_module_level_message_data(collected_data_filtered, program=vanilla_program, exclude_demos=True)\n",
    "\n",
    "    dataset_formatted = [{\"messages\": item} for item in dataset]\n",
    "\n",
    "print(dataset[0])\n",
    "print(len(dataset))"
   ]
  },
  {
   "cell_type": "code",
   "execution_count": 20,
   "metadata": {},
   "outputs": [],
   "source": [
    "# Nice utility to save the data in case you do not run the notebook all the way through\n",
    "if True:\n",
    "    with open(\"collected_data_filtered.jsonl\", \"w\") as f:\n",
    "        for item in collected_data_filtered:\n",
    "            f.write(ujson.dumps({\"example\": item[\"example\"], \"prediction\": item[\"prediction\"]}) + \"\\n\")\n",
    "else:\n",
    "    with open(\"collected_data_filtered.jsonl\", \"r\") as f:\n",
    "        collected_data_filtered = [ujson.loads(line) for line in f]\n"
   ]
  },
  {
   "cell_type": "markdown",
   "metadata": {},
   "source": [
    "# Fine-tuning\n",
    "\n",
    "We will use LLM Forge to fine-tune the 1B model.\n",
    "\n",
    "In order to do this, we need to format our data into the correct format (Follows OpenAI messaging format).\n",
    "\n",
    "We can let DSPy do the rest, where it will properly generate the config and run the finetuning."
   ]
  },
  {
   "cell_type": "markdown",
   "metadata": {},
   "source": [
    "Be sure to checkout the fine-tuning documentation for the latest on how to use our [API](https://docs.anyscale.com/llms/finetuning/intro) and additional [capabilities](https://docs.anyscale.com/category/fine-tuning-beta/).\n",
    "\n",
    "We'll fine-tune our LLM by choosing a set of configurations. We have created recipes for different LLMs in the [`training configs`](configs/training/lora/llama-3-8b.yaml) folder which can be used as is or modified for experiments. These configurations provide flexibility over a broad range of parameters such as model, data paths, compute to use for training, number of training epochs, how often to save checkpoints, padding, loss, etc. We also include several [DeepSpeed](https://github.com/microsoft/DeepSpeed) [configurations](configs/deepspeed/zero_3_offload_optim+param.json) to choose from for further optimizations around data/model parallelism, mixed precision, checkpointing, etc.\n",
    "\n",
    "We also have recipes for [LoRA](https://arxiv.org/abs/2106.09685) (where we train a set of small low ranked matrices instead of the original attention and feed forward layers) or full parameter fine-tuning. We recommend starting with LoRA as it's less resource intensive and quicker to train."
   ]
  },
  {
   "cell_type": "code",
   "execution_count": 23,
   "metadata": {},
   "outputs": [
    {
     "name": "stderr",
     "output_type": "stream",
     "text": [
      "Copying file:///home/ray/.dspy_cache/finetune/anyscale_6e332a9ff41cc87d.jsonl to gs://storage-bucket-cld-tffbxe9ia5phqr1unxhz4f7e1e/org_4snvy99zwbmh4gbtk64jfqggmj/cld_tffbxe9ia5phqr1unxhz4f7e1e/artifact_storage/anyscale_6e332a9ff41cc87d.jsonl\n",
      "  \n",
      ".\n",
      "(anyscale +5m1.4s) Uploading local dir '.' to cloud storage.\n",
      "(anyscale +5m4.0s) Job 'dspy-llmforge-fine-tuning-job' submitted, ID: 'prodjob_vmqx9yv5alunb2s68prunjbg8z'.\n",
      "(anyscale +5m4.0s) View the job in the UI: https://console.anyscale.com/jobs/prodjob_vmqx9yv5alunb2s68prunjbg8z\n",
      "(anyscale +5m4.2s) Waiting for job 'prodjob_vmqx9yv5alunb2s68prunjbg8z' to reach target state SUCCEEDED, currently in state: STARTING\n",
      "(anyscale +10m24.2s) Job 'prodjob_vmqx9yv5alunb2s68prunjbg8z' transitioned from STARTING to RUNNING\n",
      "(anyscale +20m30.4s) Job 'prodjob_vmqx9yv5alunb2s68prunjbg8z' transitioned from RUNNING to SUCCEEDED\n",
      "(anyscale +20m30.4s) Job 'prodjob_vmqx9yv5alunb2s68prunjbg8z' reached target state, exiting\n"
     ]
    }
   ],
   "source": [
    "from dspy.clients.lm import TrainingMethod\n",
    "from src import finetuning_kwargs\n",
    "\n",
    "train_data = dataset_formatted\n",
    "method = TrainingMethod.SFT\n",
    "\n",
    "finetuneable_lm = dspy.LM(model=\"meta-llama/Llama-3.2-1B-Instruct\")\n",
    "\n",
    "try:\n",
    "    finetuning_job = finetuneable_lm.finetune(method, train_data, eval_data=None, provider=\"anyscale\", train_kwargs=finetuning_kwargs)\n",
    "    finetuning_job.result()\n",
    "    model_names = finetuning_job.model_names\n",
    "except Exception as e:\n",
    "    print(e)\n"
   ]
  },
  {
   "cell_type": "markdown",
   "metadata": {},
   "source": [
    "# Evaluation\n",
    "\n",
    "## Performance comparisons\n",
    "\n",
    "Synthetic Devset:\n",
    "- 1B Non-finetuned\n",
    "- 1B Non-finetuned + Prompt Optimization\n",
    "- 1B Finetuned (all checkpoints)\n",
    "- 1B Finetuned (all checkpoints) + Prompt Optimization\n",
    "\n",
    "Note that for this task, where the eval loss of a checkpoint isn't necessarily informative of the downstream performance of the program, because there are chains of though inside output, we need to test all possible checkpoints to see which one performs best."
   ]
  },
  {
   "cell_type": "code",
   "execution_count": 24,
   "metadata": {},
   "outputs": [
    {
     "name": "stdout",
     "output_type": "stream",
     "text": [
      "['meta-llama/Llama-3.2-1B-Instruct:epochs-0-total-trained-steps-32', 'meta-llama/Llama-3.2-1B-Instruct:epochs-2-total-trained-steps-96', 'meta-llama/Llama-3.2-1B-Instruct:epochs-5-total-trained-steps-192', 'meta-llama/Llama-3.2-1B-Instruct:epochs-4-total-trained-steps-160', 'meta-llama/Llama-3.2-1B-Instruct:epochs-1-total-trained-steps-64', 'meta-llama/Llama-3.2-1B-Instruct:epochs-3-total-trained-steps-128']\n"
     ]
    }
   ],
   "source": [
    "print(model_names)"
   ]
  },
  {
   "cell_type": "markdown",
   "metadata": {},
   "source": [
    "We will run a local RayLLM instance that serves the model.\n",
    "\n",
    "Provided with this template is are two files, `serve_1B.yaml` and `\\model_configs\\meta-llama--Llama-3_2-1B-Instruct.yaml`. \n",
    "\n",
    "The first file, `serve_1B.yaml`, contains the serve configuration to load the model with RayLLM.\n",
    "\n",
    "The second file, `\\model_configs\\meta-llama--Llama-3_2-1B-Instruct.yaml`, contains the necessary configurations to run the 1B model.\n",
    "\n",
    "The important part of the second file is the \"dynamic_lora_loading_path\" field. This is the path to the folder where the LoRA weights are stored.\n",
    "\n",
    "DSPy will automatically save the LoRA weights to a folder in your cloud environment at $ANYSCALE_\n",
    "\n",
    "Make sure to set your HF_TOKEN and HF_HOME environment variables, and run the following command to start the server:\n",
    "\n",
    "```bash\n",
    "serve run serve_1B.yaml\n",
    "```"
   ]
  },
  {
   "cell_type": "code",
   "execution_count": 25,
   "metadata": {},
   "outputs": [],
   "source": [
    "from src import update_serve_config_hf_token\n",
    "\n",
    "update_serve_config_hf_token(\"serve_1B.yaml\")"
   ]
  },
  {
   "cell_type": "code",
   "execution_count": 59,
   "metadata": {},
   "outputs": [
    {
     "data": {
      "text/plain": [
       "''"
      ]
     },
     "execution_count": 59,
     "metadata": {},
     "output_type": "execute_result"
    }
   ],
   "source": [
    "# Command for easy copying:\n",
    "\n",
    "# `serve run serve_1B.yaml`\n",
    "input(\"Press Enter once you have the RayLLM server running...\")"
   ]
  },
  {
   "cell_type": "code",
   "execution_count": 26,
   "metadata": {},
   "outputs": [],
   "source": [
    "from src import get_llama_lms_from_model_names\n",
    "\n",
    "all_llamas = get_llama_lms_from_model_names(model_names)"
   ]
  },
  {
   "cell_type": "code",
   "execution_count": 27,
   "metadata": {},
   "outputs": [
    {
     "name": "stdout",
     "output_type": "stream",
     "text": [
      "Program input: Example({'text': 'I still have not received an answer as to why I was charged $1.00 in a transaction?'}) (input_keys={'text'})\n"
     ]
    },
    {
     "name": "stdout",
     "output_type": "stream",
     "text": [
      "Program output label: card_payment_fee_charged\n"
     ]
    }
   ],
   "source": [
    "# Sanity check that the finetuned models are working\n",
    "\n",
    "finetuned_llama = list(all_llamas.values())[0]\n",
    "sanity_check_program(finetuned_llama, vanilla_program, ft_trainset[0])"
   ]
  },
  {
   "cell_type": "markdown",
   "metadata": {},
   "source": [
    "Now let's try optimizing the program with the finetuned model"
   ]
  },
  {
   "cell_type": "markdown",
   "metadata": {},
   "source": [
    "Now we know how well the base pipeline performs, let's run prompt optimization on the pipeline in order to juice up the performance.\n",
    "\n",
    "Let's go over what the hyperparameters mean:\n",
    "- max_bootstrapped_demos: DSPy will \"bootstrap\" the program by collecting examples at each step that are successful and reusing those in the pipeline. This means that it will automatically collect and add chains of thought to the pipeline.\n",
    "- max_labeled_demos: DSPy will also insert some labeled demonstrations from the training set. These would be unmodified examples from the training set that are just using the gold answer.\n",
    "- num_candidate_programs: This is the number of candidate programs that the optimizer will generate. The actual number of programs that are created is this plus three, as DSPy will also try a program with no examples, a program with just the labeled demonstrations, and a bootstrapped program with the first few examples.\n",
    "- optimizer_num_train and optimizer_num_val: These are the number of examples that the optimizer will use for training and validation. Note that we will be taking the all of these examples from our synthetic devset."
   ]
  },
  {
   "cell_type": "code",
   "execution_count": 28,
   "metadata": {},
   "outputs": [
    {
     "name": "stdout",
     "output_type": "stream",
     "text": [
      "Parameters:\n",
      "max_bootstrapped_demos: 3\n",
      "max_labeled_demos: 3\n",
      "num_candidate_programs: 6\n"
     ]
    }
   ],
   "source": [
    "from src import bootstrap_fewshot_random_search_parameters, metric\n",
    "\n",
    "print(\"Parameters:\")\n",
    "for k, v in bootstrap_fewshot_random_search_parameters.items():\n",
    "    print(f\"{k}: {v}\")"
   ]
  },
  {
   "cell_type": "code",
   "execution_count": 29,
   "metadata": {},
   "outputs": [
    {
     "name": "stdout",
     "output_type": "stream",
     "text": [
      "Lengths:\n",
      "Synthetic Devset:  1000\n",
      "Optimizer Trainset:  2765\n",
      "Optimizer Devset:  300\n",
      "Example from synthetic devset:\n",
      "Example({'text': 'I still have not received an answer as to why I was charged $1.00 in a transaction?', 'label': 'extra_charge_on_statement'}) (input_keys={'text'})\n"
     ]
    }
   ],
   "source": [
    "from src import split_into_devset_and_optimizer_sets\n",
    "\n",
    "def collected_data_to_example(data):\n",
    "    return dspy.Example(text=data[\"example\"][\"text\"], label=data[\"prediction\"][\"label\"]).with_inputs(\"text\")\n",
    "\n",
    "collected_data_examples = [collected_data_to_example(x) for x in collected_data_filtered]\n",
    "\n",
    "devset_synthetic, ft_optimizer_trainset, ft_optimizer_devset = split_into_devset_and_optimizer_sets(collected_data_examples, dev_size=1000, optimizer_num_val=300)\n",
    "print(\"Lengths:\")\n",
    "print(\"Synthetic Devset: \", len(devset_synthetic))\n",
    "print(\"Optimizer Trainset: \", len(ft_optimizer_trainset))\n",
    "print(\"Optimizer Devset: \", len(ft_optimizer_devset))\n",
    "print(\"Example from synthetic devset:\")\n",
    "print(devset_synthetic[0])"
   ]
  },
  {
   "cell_type": "code",
   "execution_count": 33,
   "metadata": {},
   "outputs": [],
   "source": [
    "%%capture\n",
    "from src import evaluate_and_prompt_optimize\n",
    "\n",
    "evaluation_kwargs = {\n",
    "    \"models\": all_llamas,\n",
    "    \"program\": vanilla_program,\n",
    "    \"optimizer_trainset\": ft_optimizer_trainset,\n",
    "    \"optimizer_valset\": ft_optimizer_devset,\n",
    "    \"devset\": devset_synthetic,\n",
    "    \"metric\": metric,\n",
    "    \"labels_in_use\": labels_in_use\n",
    "}\n",
    "\n",
    "ft_results = evaluate_and_prompt_optimize(**evaluation_kwargs)"
   ]
  },
  {
   "cell_type": "code",
   "execution_count": 34,
   "metadata": {},
   "outputs": [],
   "source": [
    "if True:\n",
    "    import json\n",
    "    with open(\"ft_results.json\", \"w\") as f:\n",
    "        json.dump(ft_results, f)\n",
    "else:\n",
    "    ft_results = json.load(open(\"ft_results.json\"))"
   ]
  },
  {
   "cell_type": "code",
   "execution_count": 35,
   "metadata": {},
   "outputs": [
    {
     "data": {
      "image/png": "[encoded data removed]",
      "text/plain": [
       "<Figure size 1200x600 with 1 Axes>"
      ]
     },
     "metadata": {},
     "output_type": "display_data"
    },
    {
     "name": "stdout",
     "output_type": "stream",
     "text": [
      "Highest Dev Set Score: 60.4, Model: Epoch 4\n"
     ]
    }
   ],
   "source": [
    "from src import graph_devset_results, graph_testset_results\n",
    "\n",
    "graph_devset_results(ft_results)"
   ]
  },
  {
   "cell_type": "markdown",
   "metadata": {},
   "source": [
    "We see that the highest performing model is the final epoch with a score of 50.2 on our synthetic devset.\n",
    "\n",
    "We will now take this best performing model and evaluate it and our prompt optimized base model on the true test set to see if we have improved performance."
   ]
  },
  {
   "cell_type": "code",
   "execution_count": 37,
   "metadata": {},
   "outputs": [],
   "source": [
    "%%capture\n",
    "# Now we need to evaluate the test set\n",
    "from src import run_testset_evaluation\n",
    "\n",
    "ft_results_testset = run_testset_evaluation(ft_results, all_llamas, labels_in_use, testset, metric=metric)"
   ]
  },
  {
   "cell_type": "code",
   "execution_count": 40,
   "metadata": {},
   "outputs": [
    {
     "data": {
      "image/png": "[encoded data removed]",
      "text/plain": [
       "<Figure size 1000x600 with 1 Axes>"
      ]
     },
     "metadata": {},
     "output_type": "display_data"
    }
   ],
   "source": [
    "graph_testset_results(ft_results_testset)"
   ]
  },
  {
   "cell_type": "markdown",
   "metadata": {},
   "source": [
    "# TODO - Serving"
   ]
  },
  {
   "cell_type": "markdown",
   "metadata": {},
   "source": [
    "We'll start by running the rayllm CLI command below to start the workflow to generate the service yaml configuration:\n",
    "```bash\n",
    "mkdir /home/ray/default/deploy/services\n",
    "cd /home/ray/default/deploy/services\n",
    "rayllm gen-config \n",
    "```\n",
    "\n",
    "<img src=\"assets/cli.png\" width=500 alt=\"todo! get this inage of what I need to serve\">\n"
   ]
  },
  {
   "cell_type": "markdown",
   "metadata": {},
   "source": [
    "<b style=\"background-color: yellow;\">&nbsp;🛑 IMPORTANT&nbsp;</b>: Please `Terminate` your service from the Service page to avoid depleting your free trial credits."
   ]
  },
  {
   "cell_type": "code",
   "execution_count": null,
   "metadata": {},
   "outputs": [],
   "source": [
    "# Clean up\n",
    "!python src/clear_cell_nums.py\n",
    "!find . | grep -E \".ipynb_checkpoints\" | xargs rm -rf\n",
    "!find . | grep -E \"(__pycache__|\\.pyc|\\.pyo)\" | xargs rm -rf\n",
    "!rm -rf __pycache__ data .HF_TOKEN deploy/services"
   ]
  }
 ],
 "metadata": {
  "kernelspec": {
   "display_name": "base",
   "language": "python",
   "name": "python3"
  },
  "language_info": {
   "codemirror_mode": {
    "name": "ipython",
    "version": 3
   },
   "file_extension": ".py",
   "mimetype": "text/x-python",
   "name": "python",
   "nbconvert_exporter": "python",
   "pygments_lexer": "ipython3",
   "version": "3.9.19"
  }
 },
 "nbformat": 4,
 "nbformat_minor": 2
}
