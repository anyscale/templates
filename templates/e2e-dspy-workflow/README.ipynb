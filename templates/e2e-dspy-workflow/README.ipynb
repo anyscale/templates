{
 "cells": [
  {
   "cell_type": "markdown",
   "metadata": {},
   "source": [
    "# End-to-end DSPy Workflows Guide \n",
    "\n",
    "Time to complete: 1.5 hours"
   ]
  },
  {
   "cell_type": "markdown",
   "metadata": {},
   "source": [
    "## Building an Efficient LLM Pipeline with DSPy and Anyscale\n",
    "\n",
    "In this guide, we'll show how you can build an efficient pipeline covering synthetic data generation, data processing, fine-tuning, evaluation and serving with DSPy and Anyscale.\n",
    "\n",
    "**What is DSPy?**\n",
    "\n",
    "DSPy is a framework for building and optimizing programs involving language models.\n",
    "\n",
    "It allows you to define a complex pipeline with simple Python code, and then optimize the pipeline for better performance on whatever your task is.\n",
    "\n",
    "See the [DSPy Documentation](https://dspy-docs.vercel.app/intro/) for more information.\n",
    "\n",
    "## Why DSPy and Anyscale?\n",
    "DSPy simplifies the complex workflow of:\n",
    "- Data Collection/Labeling\n",
    "- Fine-tuning\n",
    "- Prompt Optimization\n",
    "- Evaluation\n",
    "  \n",
    "We'll use Anyscale for scalable infrastructure for training and serving/deploying models.\n",
    "\n",
    "## Scenario: Cost-Effective Customer Support Query Classification\n",
    "\n",
    "Consider an example of classification with limited labelled data. The specific dataset we'll be working with is the [PolyAI/banking77](https://huggingface.co/datasets/PolyAI/banking77) dataset, which consists of customer support queries for a bank. We'll simulate a scenario with low labelled data: let's say we have a dataset has limited labeled data (100 queries) and 4,000 unlabeled customer queries. We'll build a solution that leverages DSPy on Anyscale to distill knowledge from a 70B model into a more cost-effective 1B model, making it practical for production deployment.\n",
    "\n",
    "- DSPy enables easy creation of a pipeline for knowledge distillation from a 70B model to a 1B model in a low data environment\n",
    "- Anyscale's infrastructure supports efficient fine-tuning and deployment\n",
    "- Result: A cost-effective, accurate classification system for 25 categories\n",
    "\n",
    "## Table of Contents\n",
    "\n",
    "1. Setup\n",
    "2. Data Processing and Labeling\n",
    "3. Model Fine-tuning\n",
    "4. Evaluation and Optimization\n",
    "5. Production Deployment\n",
    "6. Future Improvements"
   ]
  },
  {
   "cell_type": "markdown",
   "metadata": {},
   "source": [
    "## Set up"
   ]
  },
  {
   "cell_type": "markdown",
   "metadata": {},
   "source": [
    "We will be running everything on A100-80GB GPUs. This is not necessary, especially for running a 1B model. You can edit the serving configuration files used throughout the notebook to use different GPUs if you do not have access to A100s.\n",
    "\n",
    "We use Anyscale's Auto-select worker node feature to launch and manage child nodes that are running our LLM. You can also set your own compute configuration to autoscale different types of GPUs at different ranges."
   ]
  },
  {
   "cell_type": "code",
   "execution_count": 1,
   "metadata": {},
   "outputs": [],
   "source": [
    "%load_ext autoreload\n",
    "%autoreload 2"
   ]
  },
  {
   "cell_type": "code",
   "execution_count": 2,
   "metadata": {},
   "outputs": [
    {
     "name": "stdout",
     "output_type": "stream",
     "text": [
      "dspy is already installed\n",
      "Requirement already satisfied: matplotlib in /home/ray/anaconda3/lib/python3.9/site-packages (3.9.2)\n",
      "Requirement already satisfied: python-dotenv in /home/ray/anaconda3/lib/python3.9/site-packages (1.0.1)\n",
      "Requirement already satisfied: contourpy>=1.0.1 in /home/ray/anaconda3/lib/python3.9/site-packages (from matplotlib) (1.3.0)\n",
      "Requirement already satisfied: cycler>=0.10 in /home/ray/anaconda3/lib/python3.9/site-packages (from matplotlib) (0.12.1)\n",
      "Requirement already satisfied: fonttools>=4.22.0 in /home/ray/anaconda3/lib/python3.9/site-packages (from matplotlib) (4.54.1)\n",
      "Requirement already satisfied: kiwisolver>=1.3.1 in /home/ray/anaconda3/lib/python3.9/site-packages (from matplotlib) (1.4.7)\n",
      "Requirement already satisfied: numpy>=1.23 in /home/ray/anaconda3/lib/python3.9/site-packages (from matplotlib) (1.23.5)\n",
      "Requirement already satisfied: packaging>=20.0 in /home/ray/anaconda3/lib/python3.9/site-packages (from matplotlib) (23.0)\n",
      "Requirement already satisfied: pillow>=8 in /home/ray/anaconda3/lib/python3.9/site-packages (from matplotlib) (9.2.0)\n",
      "Requirement already satisfied: pyparsing>=2.3.1 in /home/ray/anaconda3/lib/python3.9/site-packages (from matplotlib) (3.1.4)\n",
      "Requirement already satisfied: python-dateutil>=2.7 in /home/ray/anaconda3/lib/python3.9/site-packages (from matplotlib) (2.8.2)\n",
      "Requirement already satisfied: importlib-resources>=3.2.0 in /home/ray/anaconda3/lib/python3.9/site-packages (from matplotlib) (6.4.5)\n",
      "Requirement already satisfied: zipp>=3.1.0 in /home/ray/anaconda3/lib/python3.9/site-packages (from importlib-resources>=3.2.0->matplotlib) (3.19.2)\n",
      "Requirement already satisfied: six>=1.5 in /home/ray/anaconda3/lib/python3.9/site-packages (from python-dateutil>=2.7->matplotlib) (1.16.0)\n"
     ]
    }
   ],
   "source": [
    "import importlib.util\n",
    "\n",
    "if importlib.util.find_spec(\"dspy\") is None:\n",
    "    print(\"Installing dspy\")\n",
    "    !pip install git+https://github.com/stanfordnlp/dspy.git@main\n",
    "\n",
    "else:\n",
    "    print(\"dspy is already installed\")\n",
    "\n",
    "!pip install matplotlib python-dotenv"
   ]
  },
  {
   "cell_type": "code",
   "execution_count": 3,
   "metadata": {},
   "outputs": [],
   "source": [
    "import dspy\n",
    "dspy.settings.configure(experimental=True)\n",
    "\n",
    "import ujson\n",
    "\n",
    "from src import set_dspy_cache_location\n",
    "set_dspy_cache_location(\"/home/ray/default/dspy/cache\")"
   ]
  },
  {
   "cell_type": "markdown",
   "metadata": {},
   "source": [
    "In order to run this notebook, you need to have the following environment variables set:\n",
    "- HF_HOME=/mnt/local_storage/huggingface (By default, the cache directory used by HuggingFace is in the home directory -`/home/ray` in this workspace. We'll use `/mnt/local_storage` here for downloading large model weight files)\n",
    "- HF_TOKEN\n",
    "- (optional) WANDB_API_KEY\n",
    "\n",
    "You can get a HF_TOKEN [here](https://huggingface.co/settings/tokens). You will need to request access to the Meta-Llama-3.1-70B-Instruct model and the Llama-3.2-1B-Instruct model.\n",
    "\n",
    "You can get a WANDB_API_KEY [here](https://wandb.ai/authorize)."
   ]
  },
  {
   "cell_type": "markdown",
   "metadata": {},
   "source": [
    "<b style=\"background-color: yellow;\">&nbsp;🔄 REPLACE&nbsp;</b>: Set the HF_TOKEN, HF_HOME, and optionally the WANDB_API_KEY environment variables in the notebook."
   ]
  },
  {
   "cell_type": "code",
   "execution_count": 5,
   "metadata": {},
   "outputs": [
    {
     "data": {
      "text/plain": [
       "True"
      ]
     },
     "execution_count": 5,
     "metadata": {},
     "output_type": "execute_result"
    }
   ],
   "source": [
    "import os\n",
    "import ray \n",
    "\n",
    "os.environ[\"HF_HOME\"] = \"/mnt/local_storage/huggingface\"\n",
    "os.environ[\"HF_TOKEN\"] = \"Add your HF token here\"\n",
    "# Optional: Add your Wandb token\n",
    "# os.environ[\"WANDB_API_KEY\"] = \"12345\"\n",
    "\n",
    "# You can also use a .env file to store your HF_TOKEN and WANDB_API_KEY\n",
    "# from dotenv import load_dotenv\n",
    "# load_dotenv(override=True)"
   ]
  },
  {
   "cell_type": "markdown",
   "metadata": {},
   "source": [
    "We will make use of a random number generator in this notebook to ensure that our notebook is reproducible."
   ]
  },
  {
   "cell_type": "code",
   "execution_count": 6,
   "metadata": {},
   "outputs": [],
   "source": [
    "from src import set_random_seed\n",
    "rng = set_random_seed()"
   ]
  },
  {
   "cell_type": "code",
   "execution_count": 7,
   "metadata": {},
   "outputs": [],
   "source": [
    "from src import check_env_vars\n",
    "\n",
    "# Check if env vars are set correctly\n",
    "check_env_vars()"
   ]
  },
  {
   "cell_type": "code",
   "execution_count": 8,
   "metadata": {},
   "outputs": [
    {
     "name": "stdout",
     "output_type": "stream",
     "text": [
      "(autoscaler +1h14m30s) [autoscaler] Downscaling node g-96a4b6c44579a0001 (node IP: 10.0.0.29) due to node idle termination.\n"
     ]
    }
   ],
   "source": [
    "from src import init_ray\n",
    "init_ray()"
   ]
  },
  {
   "cell_type": "markdown",
   "metadata": {},
   "source": [
    "# Dataset Preparation\n",
    "\n",
    "We will be using the `PolyAI/banking77` dataset for this tutorial. We use the built in dspy DataLoader to load the dataset from Huggingface as a list of dspy.Example objects."
   ]
  },
  {
   "cell_type": "code",
   "execution_count": 9,
   "metadata": {},
   "outputs": [],
   "source": [
    "# Prepare the dataset\n",
    "from src import load_data_from_huggingface, convert_int_label_to_string\n",
    "full_trainset, full_testset = load_data_from_huggingface()\n",
    "\n",
    "full_trainset_processed, full_testset_processed = convert_int_label_to_string(full_trainset, full_testset)"
   ]
  },
  {
   "cell_type": "markdown",
   "metadata": {},
   "source": [
    "The dataset is originally called \"banking77\" because there are 77 labels. We will be reducing this to the top 25 most frequent labels."
   ]
  },
  {
   "cell_type": "code",
   "execution_count": 10,
   "metadata": {},
   "outputs": [
    {
     "name": "stdout",
     "output_type": "stream",
     "text": [
      "Dataset filtered to top 25 labels. New sizes:\n",
      "Training set size: 4171; Test set size: 1000\n",
      "Top 25 labels: card_payment_fee_charged, direct_debit_payment_not_recognised, balance_not_updated_after_cheque_or_cash_deposit, wrong_amount_of_cash_received, cash_withdrawal_charge, transaction_charged_twice, declined_cash_withdrawal, transfer_fee_charged, balance_not_updated_after_bank_transfer, transfer_not_received_by_recipient, request_refund, card_payment_not_recognised, card_payment_wrong_exchange_rate, extra_charge_on_statement, wrong_exchange_rate_for_cash_withdrawal, refund_not_showing_up, reverted_card_payment, cash_withdrawal_not_recognised, activate_my_card, pending_card_payment, cancel_transfer, beneficiary_not_allowed, card_arrival, declined_card_payment, pending_top_up\n",
      "Example training set: Example({'label': 'card_arrival', 'text': 'I am still waiting on my card?'}) (input_keys={'text'})\n",
      "Example test set: Example({'label': 'card_arrival', 'text': 'How do I locate my card?'}) (input_keys={'text'})\n"
     ]
    }
   ],
   "source": [
    "from src import filter_to_top_n_labels\n",
    "full_trainset_filtered, full_testset_filtered, top_25_labels = filter_to_top_n_labels(full_trainset_processed, full_testset_processed, n=25)\n",
    "labels_in_use = top_25_labels\n",
    "print(f\"Dataset filtered to top 25 labels. New sizes:\")\n",
    "print(f\"Training set size: {len(full_trainset_filtered)}; Test set size: {len(full_testset_filtered)}\")\n",
    "print(f\"Top 25 labels: {', '.join(str(label) for label in top_25_labels)}\")\n",
    "print(f\"Example training set: {full_trainset_filtered[0]}\")\n",
    "print(f\"Example test set: {full_testset_filtered[0]}\")"
   ]
  },
  {
   "cell_type": "markdown",
   "metadata": {},
   "source": [
    "Now we will shuffle our training set and split it into a training and labeled set.\n",
    "\n",
    "The scenario we are emulating is that we only trust our 70B model to do a good job at classifying the queries, but don't want to serve a 70B parameter model for classification. We are saying that we have 4K (length of the training set) unlabeled examples we can then label using an oracle model, and then distill the knowledge from the oracle model into our 1B model."
   ]
  },
  {
   "cell_type": "code",
   "execution_count": 12,
   "metadata": {},
   "outputs": [],
   "source": [
    "from src import adjusted_exact_match, delete_labels, NUM_THREADS\n",
    "\n",
    "\n",
    "shuffled_trainset = [d for d in full_trainset_filtered]\n",
    "rng.shuffle(shuffled_trainset)\n",
    "\n",
    "# For realism of this scenario, we are going to delete all our labels except for our test set\n",
    "ft_trainset_to_label = delete_labels(ft_trainset)\n",
    "\n",
    "testset = full_testset_filtered\n",
    "\n",
    "common_kwargs = dict(metric=adjusted_exact_match, num_threads=NUM_THREADS, display_progress=True, max_errors=10000)\n",
    "# evaluate_testset is our \"eval harness for this program\"\n",
    "evaluate_testset = dspy.Evaluate(devset=testset, **common_kwargs)"
   ]
  },
  {
   "cell_type": "markdown",
   "metadata": {},
   "source": [
    "# Implementing a Simple Chain of Thought Program in DSPy\n",
    "\n",
    "## Defining the Signature\n",
    "\n",
    "At the heart of our DSPy program is the `Signature` class. This class serves as a blueprint, outlining the inputs and outputs of our language model task. Here's how we structure it:\n",
    "\n",
    "1. **Docstring for Context**: We utilize the docstring to provide context to the LLM. In this case, we're passing our fixed set of 25 labels directly in the docstring. This approach is ideal when dealing with a static set of options.\n",
    "\n",
    "2. **Input Field**: We define an `intent` field as the input to our program. This will contain the natural language query we want to classify.\n",
    "\n",
    "3. **Output Field**: The `label` field represents our desired output - the classified intent.\n",
    "\n",
    "Both input and output fields are accompanied by concise descriptions, just to help the LLM understand the task.\n",
    "\n",
    "By structuring our program this way, we utilize DSPy's capabilities to create a clear, modular design that's both powerful and easy to maintain. "
   ]
  },
  {
   "cell_type": "code",
   "execution_count": 13,
   "metadata": {},
   "outputs": [],
   "source": [
    "class IntentClassification(dspy.Signature):\n",
    "    \"\"\"As a part of a banking issue traiging system, classify the intent of a natural language query into one of the 25 labels.\n",
    "    The intent should exactly match one of the following:\n",
    "    ['card_payment_fee_charged', 'direct_debit_payment_not_recognised', 'balance_not_updated_after_cheque_or_cash_deposit', 'wrong_amount_of_cash_received', 'cash_withdrawal_charge', 'transaction_charged_twice', 'declined_cash_withdrawal', 'transfer_fee_charged', 'balance_not_updated_after_bank_transfer', 'transfer_not_received_by_recipient', 'request_refund', 'card_payment_not_recognised', 'card_payment_wrong_exchange_rate', 'extra_charge_on_statement', 'wrong_exchange_rate_for_cash_withdrawal', 'refund_not_showing_up', 'reverted_card_payment', 'cash_withdrawal_not_recognised', 'activate_my_card', 'pending_card_payment', 'cancel_transfer', 'beneficiary_not_allowed', 'card_arrival', 'declined_card_payment', 'pending_top_up']\n",
    "    \"\"\"\n",
    "\n",
    "    intent = dspy.InputField(desc=\"Intent of the query\")\n",
    "    label = dspy.OutputField(desc=\"Type of the intent; Should just be one of the 25 labels with no other text\")"
   ]
  },
  {
   "cell_type": "markdown",
   "metadata": {},
   "source": [
    "For the module, we create a dspy.Module class that contains the Chain of Thought predictor using the signature we defined above.\n",
    "We also pass in the valid labels to the module.\n",
    "\n",
    "Inside the forward method, we pass the text to the predictor, do a little cleaning, and return the prediction."
   ]
  },
  {
   "cell_type": "code",
   "execution_count": 14,
   "metadata": {},
   "outputs": [],
   "source": [
    "class IntentClassificationModule(dspy.Module):\n",
    "    def __init__(self, labels_in_use):\n",
    "        self.intent_classifier = dspy.ChainOfThought(IntentClassification)\n",
    "        self.valid_labels = set(labels_in_use)\n",
    "\n",
    "    def forward(self, text):\n",
    "        prediction = self.intent_classifier(intent=text)\n",
    "        sanitized_prediction = dspy.Prediction(label=prediction.label.lower().strip().replace(\" \", \"_\"), reasoning=prediction.reasoning)\n",
    "        return sanitized_prediction"
   ]
  },
  {
   "cell_type": "markdown",
   "metadata": {},
   "source": [
    "Lastly, we set up some the vanilla program we will use throughout the notebook."
   ]
  },
  {
   "cell_type": "code",
   "execution_count": 15,
   "metadata": {},
   "outputs": [],
   "source": [
    "from src import MODEL_PARAMETERS, LOCAL_API_PARAMETERS\n",
    "vanilla_program = IntentClassificationModule(labels_in_use)"
   ]
  },
  {
   "cell_type": "code",
   "execution_count": null,
   "metadata": {},
   "outputs": [],
   "source": [
    "# Note: Run above this to do all setup without launching any models\n",
    "# This is useful if you have already collected data and want to start from finetuning or from evaluation"
   ]
  },
  {
   "cell_type": "markdown",
   "metadata": {},
   "source": [
    "# Deploying and Utilizing a 70B Language Model\n",
    "\n",
    "This section outlines the process of deploying and utilizing a 70B parameter language model for data gathering and training. Key steps include:\n",
    "\n",
    "1. Infrastructure: Leverage Anyscale's [RayLLM](https://docs.anyscale.com/llms/serving/intro) with \"Auto-select worker nodes\" for dynamically allocating GPUs.\n",
    "2. Configuration: Use a pre-generated serve config file (created via `rayllm gen-config`) to configure the RayLLM instance.\n",
    "\n",
    "Below we show the contents of the serve config and its corresponding model config file.\n",
    "\n",
    "`serve_70B.yaml` is a file that we created using rayllm gen-config for the purposes of this notebook. A serve config needs to have access to your HF_TOKEN so that it can correctly download the model from hugging face."
   ]
  },
  {
   "cell_type": "code",
   "execution_count": 16,
   "metadata": {},
   "outputs": [
    {
     "name": "stdout",
     "output_type": "stream",
     "text": [
      "serve_70B.yaml:\n",
      "applications:\n",
      "- args:\n",
      "    llm_configs:\n",
      "    - ./model_config/meta-llama--Meta-Llama-3_1-70B-Instruct.yaml\n",
      "  import_path: rayllm:app\n",
      "  name: llm-endpoint\n",
      "  route_prefix: /\n",
      "query_auth_token_enabled: false\n",
      "\n",
      "==================================================\n",
      "model_config:\n",
      "accelerator_type: A100-80G\n",
      "deployment_config:\n",
      "  autoscaling_config:\n",
      "    initial_replicas: 1\n",
      "    max_replicas: 2\n",
      "    min_replicas: 0\n",
      "    target_ongoing_requests: 128\n",
      "  max_ongoing_requests: 300\n",
      "engine_kwargs:\n",
      "  enable_chunked_prefill: true\n",
      "  max_num_batched_tokens: 8192\n",
      "  max_num_seqs: 256\n",
      "  tokenizer_pool_extra_config:\n",
      "    runtime_env:\n",
      "      pip: null\n",
      "  tokenizer_pool_size: 2\n",
      "  trust_remote_code: true\n",
      "generation_config:\n",
      "  prompt_format:\n",
      "    assistant: '<|start_header_id|>assistant<|end_header_id|>\n",
      "\n",
      "\n",
      "      {instruction}<|eot_id|>'\n",
      "    bos: <|begin_of_text|>\n",
      "    default_system_message: ''\n",
      "    system: '<|start_header_id|>system<|end_header_id|>\n",
      "\n",
      "\n",
      "      {instruction}<|eot_id|>'\n",
      "    system_in_user: false\n",
      "    trailing_assistant: '<|start_header_id|>assistant<|end_header_id|>\n",
      "\n",
      "\n",
      "      '\n",
      "    user: '<|start_header_id|>user<|end_header_id|>\n",
      "\n",
      "\n",
      "      {instruction}<|eot_id|>'\n",
      "  stopping_sequences: []\n",
      "  stopping_tokens:\n",
      "  - 128001\n",
      "  - 128009\n",
      "input_modality: text\n",
      "json_mode:\n",
      "  enabled: false\n",
      "llm_engine: VLLMEngine\n",
      "lora_config: null\n",
      "max_request_context_length: 8192\n",
      "model_loading_config:\n",
      "  model_id: meta-llama/Meta-Llama-3.1-70B-Instruct\n",
      "  model_source: meta-llama/Meta-Llama-3.1-70B-Instruct\n",
      "runtime_env:\n",
      "  env_vars:\n",
      "    HUGGING_FACE_HUB_TOKEN: Add your HF Token here\n",
      "tensor_parallelism:\n",
      "  degree: 4\n",
      "\n"
     ]
    }
   ],
   "source": [
    "from src import print_serve_and_model_config, update_serve_config_hf_token\n",
    "\n",
    "# First we update the config to contain your actual HF_TOKEN to get access to the Meta-LLama huggingface repositories\n",
    "update_serve_config_hf_token(\"serve_70B.yaml\")\n",
    "\n",
    "print_serve_and_model_config(\"serve_70B.yaml\")"
   ]
  },
  {
   "cell_type": "markdown",
   "metadata": {},
   "source": [
    "The `serve run [file]` command is used in order to launch any ray serve deployments. For RayLLM specifically, that will allow us to query `localhost:8000` as an OpenAI compatible API with whatever model is served."
   ]
  },
  {
   "cell_type": "code",
   "execution_count": 17,
   "metadata": {},
   "outputs": [
    {
     "name": "stdout",
     "output_type": "stream",
     "text": [
      "2024-10-22 19:26:09,320\tINFO scripts.py:489 -- Running config file: 'serve_70B.yaml'.\n",
      "2024-10-22 19:26:09,626\tINFO worker.py:1601 -- Connecting to existing Ray cluster at address: 10.0.0.28:6379...\n",
      "2024-10-22 19:26:09,634\tINFO worker.py:1777 -- Connected to Ray cluster. View the dashboard at https://session-6frbgpfbuzs27m75xhz3c8vnde.i.anyscaleuserdata.com \n",
      "2024-10-22 19:26:09,637\tINFO packaging.py:359 -- Pushing file package 'gcs://_ray_pkg_ffba39e2fd9b77762b656d5627e46788fbe81064.zip' (0.50MiB) to Ray cluster...\n",
      "2024-10-22 19:26:09,642\tINFO packaging.py:372 -- Successfully pushed file package 'gcs://_ray_pkg_ffba39e2fd9b77762b656d5627e46788fbe81064.zip'.\n",
      "INFO 2024-10-22 19:26:13,340 serve 7960 api.py:277 - Started Serve in namespace \"serve\".\n",
      "2024-10-22 19:26:13,351\tSUCC scripts.py:540 -- Submitted deploy config successfully.\n",
      "(ServeController pid=8037) INFO 2024-10-22 19:26:13,344 controller 8037 application_state.py:881 - Deploying new app 'llm-endpoint'.\n",
      "(ServeController pid=8037) INFO 2024-10-22 19:26:13,345 controller 8037 application_state.py:457 - Importing and building app 'llm-endpoint'.\n",
      "(ProxyActor pid=8098) INFO 2024-10-22 19:26:13,294 proxy 10.0.0.28 proxy.py:1235 - Proxy starting on node 76e2eab0a833e02208d948f67f54806e64e4d0b26f1a49507548855a (HTTP port: 8000).\n"
     ]
    }
   ],
   "source": [
    "!serve run --non-blocking serve_70B.yaml"
   ]
  },
  {
   "cell_type": "markdown",
   "metadata": {},
   "source": [
    "Now we instantiate a `dspy.LM` object pointing at our RayLLM deployment. This will allow us to query it inside of DSPy programs."
   ]
  },
  {
   "cell_type": "code",
   "execution_count": 42,
   "metadata": {},
   "outputs": [
    {
     "name": "stdout",
     "output_type": "stream",
     "text": [
      "Model Parameters: {'max_tokens': 1000, 'temperature': 0}\n",
      "Local API Parameters: {'api_base': 'http://localhost:8000/v1', 'api_key': 'fake-key-doesnt-matter'}\n"
     ]
    }
   ],
   "source": [
    "print(\"Model Parameters:\", MODEL_PARAMETERS)\n",
    "print(\"Local API Parameters:\", LOCAL_API_PARAMETERS)\n",
    "llama_70b = dspy.LM(model=\"openai/meta-llama/Meta-Llama-3.1-70B-Instruct\", **MODEL_PARAMETERS, **LOCAL_API_PARAMETERS)"
   ]
  },
  {
   "cell_type": "markdown",
   "metadata": {},
   "source": [
    "Below is a sanity check to make sure that our program is running properly.\n",
    "\n",
    "All it is doing is passing a single request to the DSPy program.\n",
    "\n",
    "The request will wait until the server starts up before it finishes.\n",
    "\n",
    "When the server starts up, it may need to recruit a worker node and also download the 70B model weights. Once that returns, our server is good to go, and we can use it like any other endpoint.\n",
    "\n",
    "You can expect the cell below to take around 8-10 minutes to run, as it waits for a worker node and to download the weights."
   ]
  },
  {
   "cell_type": "code",
   "execution_count": null,
   "metadata": {},
   "outputs": [],
   "source": [
    "from src import sanity_check_program\n",
    "\n",
    "sanity_check_program(llama_70b, vanilla_program, ft_trainset[0])"
   ]
  },
  {
   "cell_type": "markdown",
   "metadata": {},
   "source": [
    "### Bootstrap Data\n",
    "\n",
    "In this section, we collect our synthetic data for fine-tuning.\n",
    "\n",
    "We use a metric, that checks if the prediction is in the set of labels we are using to get rid of any labels that the oracle LLM may hallucinate."
   ]
  },
  {
   "cell_type": "code",
   "execution_count": 52,
   "metadata": {},
   "outputs": [
    {
     "name": "stderr",
     "output_type": "stream",
     "text": [
      "Average Metric: 4062 / 4071  (99.8): 100%|██████████| 4071/4071 [00:03<00:00, 1036.60it/s]\n"
     ]
    }
   ],
   "source": [
    "from dspy.teleprompt.finetune_teleprompter import bootstrap_data, convert_to_module_level_message_data\n",
    "from src import NUM_THREADS, get_valid_label_metric_fn\n",
    "\n",
    "with dspy.context(lm=llama_70b):\n",
    "    bootstrap_data_kwargs = {\n",
    "        \"program\": vanilla_program, \n",
    "        \"dataset\": ft_trainset_to_label, \n",
    "        \"num_threads\": NUM_THREADS, \n",
    "        \"max_errors\": 10000, \n",
    "        \"metric\": get_valid_label_metric_fn(labels_in_use)\n",
    "    }\n",
    "    collected_data = bootstrap_data(**bootstrap_data_kwargs)\n",
    "    # Make sure to only include the labels we are actively using or that arent hallucinated by the oracle\n",
    "    collected_data_filtered = [x for x in collected_data if x[\"prediction\"][\"label\"] in labels_in_use]\n",
    "\n",
    "dataset = convert_to_module_level_message_data(collected_data_filtered, program=vanilla_program, exclude_demos=True)\n",
    "\n",
    "dataset_formatted = [{\"messages\": item} for item in dataset]"
   ]
  },
  {
   "cell_type": "code",
   "execution_count": 6,
   "metadata": {},
   "outputs": [],
   "source": [
    "import rich\n",
    "\n",
    "rich.print(dataset_formatted[0])\n",
    "print(\"Length of dataset:\\t\", len(dataset))"
   ]
  },
  {
   "cell_type": "code",
   "execution_count": 21,
   "metadata": {},
   "outputs": [
    {
     "name": "stdout",
     "output_type": "stream",
     "text": [
      "2024-10-22 19:41:10,127\tWARN scripts.py:132 -- The `RAY_AGENT_ADDRESS` env var has been deprecated in favor of the `RAY_DASHBOARD_ADDRESS` env var. The `RAY_AGENT_ADDRESS` is ignored.\n",
      "2024-10-22 19:41:13,759\tSUCC scripts.py:747 -- Sent shutdown request; applications will be deleted asynchronously.\n"
     ]
    }
   ],
   "source": [
    "# Now we are done with the 70B model, so we can kill the server\n",
    "!serve shutdown -y"
   ]
  },
  {
   "cell_type": "markdown",
   "metadata": {},
   "source": [
    "# Fine-tuning\n",
    "\n",
    "We will use LLM Forge to fine-tune the 1B model.\n",
    "\n",
    "In order to do this, we need to format our data into the correct format (Follows OpenAI messaging format).\n",
    "\n",
    "Anyscale now has a first class integration with DSPy for finetuning. Anyscale offers a tool for finetuning called LLMForge, which DSPy will interface with to do the actual finetuning using your own cluster on the task you defined above.\n",
    "\n",
    "We can let DSPy do the rest, where it will properly generate the config and run the finetuning.\n",
    "\n",
    "Be sure to checkout the fine-tuning documentation for the latest on how to use our [API](https://docs.anyscale.com/llms/finetuning/intro) and additional [capabilities](https://docs.anyscale.com/category/fine-tuning-beta/)."
   ]
  },
  {
   "cell_type": "code",
   "execution_count": 4,
   "metadata": {},
   "outputs": [],
   "source": [
    "from dspy.clients.lm import TrainingMethod\n",
    "\n",
    "train_data = dataset_formatted\n",
    "method = TrainingMethod.SFT\n",
    "\n",
    "# There are a few important files that we are providing for you in this template in order to finetune + serve using LLMForge and RayLLM\n",
    "job_config_path = \"configs/job.yaml\"\n",
    "llmforge_config_path = \"configs/training/lora/llama-3-8b.yaml\"\n",
    "serve_config_path = \"serve_1B.yaml\""
   ]
  },
  {
   "cell_type": "markdown",
   "metadata": {},
   "source": [
    "When you want to launch a finetuning run, you run the command `llmforge anyscale finetune [config file]`. You can do this locally if you are on a GPU head node, but because you generally run on a CPU head node, we will launch it as a job on the Anyscale platform.\n",
    "\n",
    "In order to interface properly with DSPy, there are new abstractions that were introduced in order to lower the complexity of combining a finetuning platform and DSPy.\n",
    "\n",
    "DSPy will verify and format your data, submit your finetuning job using the **Job Config** and **LLMForge Config** files, then update your **Serve Config** so that your serve config knows where the finetuned weights are stored.\n",
    "\n",
    "There are 4 important files here, and we will go through them one by one:\n",
    "1. **Job Config**: job config points to a yaml file that will launch the LLMForge finetuning run as a job on the Anyscale platform.\n",
    "    All that a job config contains are the image to use, any environment variables, and an entrypoint that is the command to run, in this case `llmforge anyscale finetune [config file]`. [Job Config Documentation](https://docs.anyscale.com/reference/job-api/#jobconfig)."
   ]
  },
  {
   "cell_type": "code",
   "execution_count": 7,
   "metadata": {},
   "outputs": [
    {
     "data": {
      "text/html": [
       "<pre style=\"white-space:pre;overflow-x:auto;line-height:normal;font-family:Menlo,'DejaVu Sans Mono',consolas,'Courier New',monospace\"><span style=\"font-weight: bold\">{</span>\n",
       "    <span style=\"color: #008000; text-decoration-color: #008000\">'name'</span>: <span style=\"color: #008000; text-decoration-color: #008000\">'dspy-llmforge-fine-tuning-job'</span>,\n",
       "    <span style=\"color: #008000; text-decoration-color: #008000\">'entrypoint'</span>: <span style=\"color: #008000; text-decoration-color: #008000\">'llmforge anyscale finetune configs/training/lora/llama-3-8b.yaml'</span>,\n",
       "    <span style=\"color: #008000; text-decoration-color: #008000\">'working_dir'</span>: <span style=\"color: #008000; text-decoration-color: #008000\">'.'</span>,\n",
       "    <span style=\"color: #008000; text-decoration-color: #008000\">'image_uri'</span>: <span style=\"color: #008000; text-decoration-color: #008000\">'localhost:5555/anyscale/llm-forge:0.5.7'</span>\n",
       "<span style=\"font-weight: bold\">}</span>\n",
       "</pre>\n"
      ],
      "text/plain": [
       "\u001b[1m{\u001b[0m\n",
       "    \u001b[32m'name'\u001b[0m: \u001b[32m'dspy-llmforge-fine-tuning-job'\u001b[0m,\n",
       "    \u001b[32m'entrypoint'\u001b[0m: \u001b[32m'llmforge anyscale finetune configs/training/lora/llama-3-8b.yaml'\u001b[0m,\n",
       "    \u001b[32m'working_dir'\u001b[0m: \u001b[32m'.'\u001b[0m,\n",
       "    \u001b[32m'image_uri'\u001b[0m: \u001b[32m'localhost:5555/anyscale/llm-forge:0.5.7'\u001b[0m\n",
       "\u001b[1m}\u001b[0m\n"
      ]
     },
     "metadata": {},
     "output_type": "display_data"
    }
   ],
   "source": [
    "import yaml\n",
    "rich.print(yaml.safe_load(open(job_config_path)))"
   ]
  },
  {
   "cell_type": "markdown",
   "metadata": {},
   "source": [
    "2. **LLMForge Config**:\n",
    "The LLMForge config contains the relevant details for how to actually finetune the model. This contains every parameter you might expect for doing the actual finetuning: model, training data, epochs to run, batch size, LoRA parameters, etc.\n"
   ]
  },
  {
   "cell_type": "code",
   "execution_count": 8,
   "metadata": {},
   "outputs": [
    {
     "data": {
      "text/html": [
       "<pre style=\"white-space:pre;overflow-x:auto;line-height:normal;font-family:Menlo,'DejaVu Sans Mono',consolas,'Courier New',monospace\"><span style=\"font-weight: bold\">{</span>\n",
       "    <span style=\"color: #008000; text-decoration-color: #008000\">'context_length'</span>: <span style=\"color: #008080; text-decoration-color: #008080; font-weight: bold\">2048</span>,\n",
       "    <span style=\"color: #008000; text-decoration-color: #008000\">'dataset_size_scaling_factor'</span>: <span style=\"color: #008080; text-decoration-color: #008080; font-weight: bold\">10000</span>,\n",
       "    <span style=\"color: #008000; text-decoration-color: #008000\">'deepspeed'</span>: <span style=\"font-weight: bold\">{</span><span style=\"color: #008000; text-decoration-color: #008000\">'config_path'</span>: <span style=\"color: #008000; text-decoration-color: #008000\">'configs/deepspeed/zero_3.json'</span><span style=\"font-weight: bold\">}</span>,\n",
       "    <span style=\"color: #008000; text-decoration-color: #008000\">'eval_batch_size_per_device'</span>: <span style=\"color: #008080; text-decoration-color: #008080; font-weight: bold\">16</span>,\n",
       "    <span style=\"color: #008000; text-decoration-color: #008000\">'flash_attention_2'</span>: <span style=\"color: #00ff00; text-decoration-color: #00ff00; font-style: italic\">True</span>,\n",
       "    <span style=\"color: #008000; text-decoration-color: #008000\">'generation_config'</span>: <span style=\"font-weight: bold\">{</span>\n",
       "        <span style=\"color: #008000; text-decoration-color: #008000\">'prompt_format'</span>: <span style=\"font-weight: bold\">{</span>\n",
       "            <span style=\"color: #008000; text-decoration-color: #008000\">'assistant'</span>: <span style=\"color: #008000; text-decoration-color: #008000\">'&lt;|start_header_id|&gt;assistant&lt;|end_header_id|&gt;\\n\\n{instruction}&lt;|eot_id|&gt;'</span><span style=\"color: #000000; text-decoration-color: #000000\">,</span>\n",
       "<span style=\"color: #000000; text-decoration-color: #000000\">            </span><span style=\"color: #008000; text-decoration-color: #008000\">'bos'</span><span style=\"color: #000000; text-decoration-color: #000000\">: </span><span style=\"color: #008000; text-decoration-color: #008000\">'&lt;|begin_of_text|&gt;'</span><span style=\"color: #000000; text-decoration-color: #000000\">,</span>\n",
       "<span style=\"color: #000000; text-decoration-color: #000000\">            </span><span style=\"color: #008000; text-decoration-color: #008000\">'default_system_message'</span><span style=\"color: #000000; text-decoration-color: #000000\">: </span><span style=\"color: #008000; text-decoration-color: #008000\">''</span><span style=\"color: #000000; text-decoration-color: #000000\">,</span>\n",
       "<span style=\"color: #000000; text-decoration-color: #000000\">            </span><span style=\"color: #008000; text-decoration-color: #008000\">'system'</span><span style=\"color: #000000; text-decoration-color: #000000\">: </span><span style=\"color: #008000; text-decoration-color: #008000\">'&lt;|start_header_id|&gt;system&lt;|end_header_id|&gt;\\n\\n{instruction}&lt;|eot_id|&gt;'</span><span style=\"color: #000000; text-decoration-color: #000000\">,</span>\n",
       "<span style=\"color: #000000; text-decoration-color: #000000\">            </span><span style=\"color: #008000; text-decoration-color: #008000\">'system_in_user'</span><span style=\"color: #000000; text-decoration-color: #000000\">: </span><span style=\"color: #ff0000; text-decoration-color: #ff0000; font-style: italic\">False</span><span style=\"color: #000000; text-decoration-color: #000000\">,</span>\n",
       "<span style=\"color: #000000; text-decoration-color: #000000\">            </span><span style=\"color: #008000; text-decoration-color: #008000\">'trailing_assistant'</span><span style=\"color: #000000; text-decoration-color: #000000\">: </span><span style=\"color: #008000; text-decoration-color: #008000\">'&lt;|start_header_id|&gt;assistant&lt;|end_header_id|&gt;\\n\\n'</span><span style=\"color: #000000; text-decoration-color: #000000\">,</span>\n",
       "<span style=\"color: #000000; text-decoration-color: #000000\">            </span><span style=\"color: #008000; text-decoration-color: #008000\">'user'</span><span style=\"color: #000000; text-decoration-color: #000000\">: </span><span style=\"color: #008000; text-decoration-color: #008000\">'&lt;|start_header_id|&gt;user&lt;|end_header_id|&gt;\\n{instruction}&lt;|eot_id|&gt;'</span>\n",
       "        <span style=\"font-weight: bold\">}</span>\n",
       "    <span style=\"font-weight: bold\">}</span>,\n",
       "    <span style=\"color: #008000; text-decoration-color: #008000\">'learning_rate'</span>: <span style=\"color: #008080; text-decoration-color: #008080; font-weight: bold\">3e-05</span>,\n",
       "    <span style=\"color: #008000; text-decoration-color: #008000\">'lora_config'</span>: <span style=\"font-weight: bold\">{</span>\n",
       "        <span style=\"color: #008000; text-decoration-color: #008000\">'bias'</span>: <span style=\"color: #008000; text-decoration-color: #008000\">'none'</span>,\n",
       "        <span style=\"color: #008000; text-decoration-color: #008000\">'fan_in_fan_out'</span>: <span style=\"color: #ff0000; text-decoration-color: #ff0000; font-style: italic\">False</span>,\n",
       "        <span style=\"color: #008000; text-decoration-color: #008000\">'init_lora_weights'</span>: <span style=\"color: #00ff00; text-decoration-color: #00ff00; font-style: italic\">True</span>,\n",
       "        <span style=\"color: #008000; text-decoration-color: #008000\">'lora_alpha'</span>: <span style=\"color: #008080; text-decoration-color: #008080; font-weight: bold\">16</span>,\n",
       "        <span style=\"color: #008000; text-decoration-color: #008000\">'lora_dropout'</span>: <span style=\"color: #008080; text-decoration-color: #008080; font-weight: bold\">0.05</span>,\n",
       "        <span style=\"color: #008000; text-decoration-color: #008000\">'modules_to_save'</span>: <span style=\"font-weight: bold\">[]</span>,\n",
       "        <span style=\"color: #008000; text-decoration-color: #008000\">'r'</span>: <span style=\"color: #008080; text-decoration-color: #008080; font-weight: bold\">8</span>,\n",
       "        <span style=\"color: #008000; text-decoration-color: #008000\">'target_modules'</span>: <span style=\"font-weight: bold\">[</span>\n",
       "            <span style=\"color: #008000; text-decoration-color: #008000\">'q_proj'</span>,\n",
       "            <span style=\"color: #008000; text-decoration-color: #008000\">'v_proj'</span>,\n",
       "            <span style=\"color: #008000; text-decoration-color: #008000\">'k_proj'</span>,\n",
       "            <span style=\"color: #008000; text-decoration-color: #008000\">'o_proj'</span>,\n",
       "            <span style=\"color: #008000; text-decoration-color: #008000\">'gate_proj'</span>,\n",
       "            <span style=\"color: #008000; text-decoration-color: #008000\">'up_proj'</span>,\n",
       "            <span style=\"color: #008000; text-decoration-color: #008000\">'down_proj'</span>,\n",
       "            <span style=\"color: #008000; text-decoration-color: #008000\">'embed_tokens'</span>,\n",
       "            <span style=\"color: #008000; text-decoration-color: #008000\">'lm_head'</span>\n",
       "        <span style=\"font-weight: bold\">]</span>,\n",
       "        <span style=\"color: #008000; text-decoration-color: #008000\">'task_type'</span>: <span style=\"color: #008000; text-decoration-color: #008000\">'CAUSAL_LM'</span>\n",
       "    <span style=\"font-weight: bold\">}</span>,\n",
       "    <span style=\"color: #008000; text-decoration-color: #008000\">'model_id'</span>: <span style=\"color: #008000; text-decoration-color: #008000\">'meta-llama/Llama-3.2-1B-Instruct'</span>,\n",
       "    <span style=\"color: #008000; text-decoration-color: #008000\">'num_checkpoints_to_keep'</span>: <span style=\"color: #008080; text-decoration-color: #008080; font-weight: bold\">1</span>,\n",
       "    <span style=\"color: #008000; text-decoration-color: #008000\">'num_devices'</span>: <span style=\"color: #008080; text-decoration-color: #008080; font-weight: bold\">4</span>,\n",
       "    <span style=\"color: #008000; text-decoration-color: #008000\">'num_epochs'</span>: <span style=\"color: #008080; text-decoration-color: #008080; font-weight: bold\">6</span>,\n",
       "    <span style=\"color: #008000; text-decoration-color: #008000\">'output_dir'</span>: <span style=\"color: #008000; text-decoration-color: #008000\">'/mnt/local_storage'</span>,\n",
       "    <span style=\"color: #008000; text-decoration-color: #008000\">'padding'</span>: <span style=\"color: #008000; text-decoration-color: #008000\">'longest'</span>,\n",
       "    <span style=\"color: #008000; text-decoration-color: #008000\">'train_batch_size_per_device'</span>: <span style=\"color: #008080; text-decoration-color: #008080; font-weight: bold\">32</span>,\n",
       "    <span style=\"color: #008000; text-decoration-color: #008000\">'train_path'</span>: \n",
       "<span style=\"color: #008000; text-decoration-color: #008000\">'gs://storage-bucket-cld-tffbxe9ia5phqr1unxhz4f7e1e/org_4snvy99zwbmh4gbtk64jfqggmj/cld_tffbxe9ia5phqr1unxhz4f7e1e/d</span>\n",
       "<span style=\"color: #008000; text-decoration-color: #008000\">atasets/dataset_6wl61ndxii7crnaqcr58gp7d91/18/anyscale_7f76ca8a05f2c9d9.jsonl'</span>,\n",
       "    <span style=\"color: #008000; text-decoration-color: #008000\">'worker_resources'</span>: <span style=\"font-weight: bold\">{</span><span style=\"color: #008000; text-decoration-color: #008000\">'accelerator_type:A100-80G'</span>: <span style=\"color: #008080; text-decoration-color: #008080; font-weight: bold\">0.001</span><span style=\"font-weight: bold\">}</span>\n",
       "<span style=\"font-weight: bold\">}</span>\n",
       "</pre>\n"
      ],
      "text/plain": [
       "\u001b[1m{\u001b[0m\n",
       "    \u001b[32m'context_length'\u001b[0m: \u001b[1;36m2048\u001b[0m,\n",
       "    \u001b[32m'dataset_size_scaling_factor'\u001b[0m: \u001b[1;36m10000\u001b[0m,\n",
       "    \u001b[32m'deepspeed'\u001b[0m: \u001b[1m{\u001b[0m\u001b[32m'config_path'\u001b[0m: \u001b[32m'configs/deepspeed/zero_3.json'\u001b[0m\u001b[1m}\u001b[0m,\n",
       "    \u001b[32m'eval_batch_size_per_device'\u001b[0m: \u001b[1;36m16\u001b[0m,\n",
       "    \u001b[32m'flash_attention_2'\u001b[0m: \u001b[3;92mTrue\u001b[0m,\n",
       "    \u001b[32m'generation_config'\u001b[0m: \u001b[1m{\u001b[0m\n",
       "        \u001b[32m'prompt_format'\u001b[0m: \u001b[1m{\u001b[0m\n",
       "            \u001b[32m'assistant'\u001b[0m: \u001b[32m'\u001b[0m\u001b[32m<\u001b[0m\u001b[32m|start_header_id|\u001b[0m\u001b[32m>assistant<|end_header_id|>\\n\\n\u001b[0m\u001b[32m{\u001b[0m\u001b[32minstruction\u001b[0m\u001b[32m}\u001b[0m\u001b[32m<|eot_id|>'\u001b[0m\u001b[39m,\u001b[0m\n",
       "\u001b[39m            \u001b[0m\u001b[32m'bos'\u001b[0m\u001b[39m: \u001b[0m\u001b[32m'<|begin_of_text|>'\u001b[0m\u001b[39m,\u001b[0m\n",
       "\u001b[39m            \u001b[0m\u001b[32m'default_system_message'\u001b[0m\u001b[39m: \u001b[0m\u001b[32m''\u001b[0m\u001b[39m,\u001b[0m\n",
       "\u001b[39m            \u001b[0m\u001b[32m'system'\u001b[0m\u001b[39m: \u001b[0m\u001b[32m'<|start_header_id|>system<|end_header_id|>\\n\\n\u001b[0m\u001b[32m{\u001b[0m\u001b[32minstruction\u001b[0m\u001b[32m}\u001b[0m\u001b[32m<|eot_id|>'\u001b[0m\u001b[39m,\u001b[0m\n",
       "\u001b[39m            \u001b[0m\u001b[32m'system_in_user'\u001b[0m\u001b[39m: \u001b[0m\u001b[3;91mFalse\u001b[0m\u001b[39m,\u001b[0m\n",
       "\u001b[39m            \u001b[0m\u001b[32m'trailing_assistant'\u001b[0m\u001b[39m: \u001b[0m\u001b[32m'<|start_header_id|>assistant<|end_header_id|>\\n\\n'\u001b[0m\u001b[39m,\u001b[0m\n",
       "\u001b[39m            \u001b[0m\u001b[32m'user'\u001b[0m\u001b[39m: \u001b[0m\u001b[32m'<|start_header_id|>user<|end_header_id|>\\n\u001b[0m\u001b[32m{\u001b[0m\u001b[32minstruction\u001b[0m\u001b[32m}\u001b[0m\u001b[32m<|eot_id|\u001b[0m\u001b[32m>\u001b[0m\u001b[32m'\u001b[0m\n",
       "        \u001b[1m}\u001b[0m\n",
       "    \u001b[1m}\u001b[0m,\n",
       "    \u001b[32m'learning_rate'\u001b[0m: \u001b[1;36m3e-05\u001b[0m,\n",
       "    \u001b[32m'lora_config'\u001b[0m: \u001b[1m{\u001b[0m\n",
       "        \u001b[32m'bias'\u001b[0m: \u001b[32m'none'\u001b[0m,\n",
       "        \u001b[32m'fan_in_fan_out'\u001b[0m: \u001b[3;91mFalse\u001b[0m,\n",
       "        \u001b[32m'init_lora_weights'\u001b[0m: \u001b[3;92mTrue\u001b[0m,\n",
       "        \u001b[32m'lora_alpha'\u001b[0m: \u001b[1;36m16\u001b[0m,\n",
       "        \u001b[32m'lora_dropout'\u001b[0m: \u001b[1;36m0.05\u001b[0m,\n",
       "        \u001b[32m'modules_to_save'\u001b[0m: \u001b[1m[\u001b[0m\u001b[1m]\u001b[0m,\n",
       "        \u001b[32m'r'\u001b[0m: \u001b[1;36m8\u001b[0m,\n",
       "        \u001b[32m'target_modules'\u001b[0m: \u001b[1m[\u001b[0m\n",
       "            \u001b[32m'q_proj'\u001b[0m,\n",
       "            \u001b[32m'v_proj'\u001b[0m,\n",
       "            \u001b[32m'k_proj'\u001b[0m,\n",
       "            \u001b[32m'o_proj'\u001b[0m,\n",
       "            \u001b[32m'gate_proj'\u001b[0m,\n",
       "            \u001b[32m'up_proj'\u001b[0m,\n",
       "            \u001b[32m'down_proj'\u001b[0m,\n",
       "            \u001b[32m'embed_tokens'\u001b[0m,\n",
       "            \u001b[32m'lm_head'\u001b[0m\n",
       "        \u001b[1m]\u001b[0m,\n",
       "        \u001b[32m'task_type'\u001b[0m: \u001b[32m'CAUSAL_LM'\u001b[0m\n",
       "    \u001b[1m}\u001b[0m,\n",
       "    \u001b[32m'model_id'\u001b[0m: \u001b[32m'meta-llama/Llama-3.2-1B-Instruct'\u001b[0m,\n",
       "    \u001b[32m'num_checkpoints_to_keep'\u001b[0m: \u001b[1;36m1\u001b[0m,\n",
       "    \u001b[32m'num_devices'\u001b[0m: \u001b[1;36m4\u001b[0m,\n",
       "    \u001b[32m'num_epochs'\u001b[0m: \u001b[1;36m6\u001b[0m,\n",
       "    \u001b[32m'output_dir'\u001b[0m: \u001b[32m'/mnt/local_storage'\u001b[0m,\n",
       "    \u001b[32m'padding'\u001b[0m: \u001b[32m'longest'\u001b[0m,\n",
       "    \u001b[32m'train_batch_size_per_device'\u001b[0m: \u001b[1;36m32\u001b[0m,\n",
       "    \u001b[32m'train_path'\u001b[0m: \n",
       "\u001b[32m'gs://storage-bucket-cld-tffbxe9ia5phqr1unxhz4f7e1e/org_4snvy99zwbmh4gbtk64jfqggmj/cld_tffbxe9ia5phqr1unxhz4f7e1e/d\u001b[0m\n",
       "\u001b[32matasets/dataset_6wl61ndxii7crnaqcr58gp7d91/18/anyscale_7f76ca8a05f2c9d9.jsonl'\u001b[0m,\n",
       "    \u001b[32m'worker_resources'\u001b[0m: \u001b[1m{\u001b[0m\u001b[32m'accelerator_type:A100-80G'\u001b[0m: \u001b[1;36m0.001\u001b[0m\u001b[1m}\u001b[0m\n",
       "\u001b[1m}\u001b[0m\n"
      ]
     },
     "metadata": {},
     "output_type": "display_data"
    }
   ],
   "source": [
    "rich.print(yaml.safe_load(open(llmforge_config_path)))"
   ]
  },
  {
   "cell_type": "markdown",
   "metadata": {},
   "source": [
    "3. **Serve Config**: This is a RayLLM serving configuration file that points to the model config file we want to serve.\n",
    "For what Job Config is to the LLMForge config, Serve Config is to the model config.\n",
    "\n",
    "Serve config just points to the model config file that we want to serve.\n",
    "\n",
    "4. **Model Config**: This is the file that contains the details of the model we want to finetune. It contains parameters like where to read in LoRA weights from, what model to serve, what resources to use to serve the model, etc."
   ]
  },
  {
   "cell_type": "code",
   "execution_count": null,
   "metadata": {},
   "outputs": [],
   "source": [
    "print_serve_and_model_config(serve_config_path)"
   ]
  },
  {
   "cell_type": "markdown",
   "metadata": {},
   "source": [
    "DSPy has an abstraction around LLMForge finetuning in order to allow you to pass in your configuration files and not have to worry about the details of how to interface with LLMForge.\n",
    "\n",
    "What we do is we create a `dspy.LM` object that points to the model we want to finetune.\n",
    "\n",
    "Part of the new behavior added in order to support better finetuning flows, is that `dspy.LM` objects now have a `.finetune()` method that will take in the train data, training arguments, a method, and a provider. Each provider can individually handle the finetuning process differently, but will return a `dspy.FinetuningJob` object that you can use to access your finetuned model.\n",
    "\n",
    "The end of this process is the `dspy.FinetuningJob` object, which contains a `.result()` method that will return the finetuned `dspy.LM` object.\n",
    "\n",
    "Note that `dspy.LM` objects do not manage the weights themselves, and can be considered essentially immutable. The returned `dspy.LM` object has a `.model` attribute that points to the finetuned model, in this example, `meta-llama/Llama-3.2-1B-Instruct:name:suffix`, where name and suffix come from LLMForge.\n",
    "\n",
    "When you call `LM.finetune()`, DSPy will:\n",
    "1. Verify your data is formatted correctly\n",
    "2. Upload your data to the cloud using the Anyscale Datasets API\n",
    "3. Update your LLMForge config to point to the data that has been uploaded\n",
    "4. Launch a LLMForge job using the provided job config, LLMForge config, and the data you uploaded\n",
    "5. Update the serve config to point to the finetuned model\n",
    "6. Wait for the finetuning job to complete\n",
    "7. Return the finetuned `dspy.LM` object\n",
    "\n",
    "You can see what DSPy is doing under the hood [here](https://github.com/stanfordnlp/dspy/blob/main/dspy/clients/anyscale.py)"
   ]
  },
  {
   "cell_type": "code",
   "execution_count": 22,
   "metadata": {},
   "outputs": [
    {
     "data": {
      "application/vnd.jupyter.widget-view+json": {
       "model_id": "2d9532abca2c43cab1c57b5a76dc715f",
       "version_major": 2,
       "version_minor": 0
      },
      "text/plain": [
       "Output()"
      ]
     },
     "metadata": {},
     "output_type": "display_data"
    },
    {
     "data": {
      "text/html": [
       "<pre style=\"white-space:pre;overflow-x:auto;line-height:normal;font-family:Menlo,'DejaVu Sans Mono',consolas,'Courier New',monospace\"><span style=\"color: #008000; text-decoration-color: #008000; font-weight: bold\">Upload complete!</span>\n",
       "</pre>\n"
      ],
      "text/plain": [
       "\u001b[1;32mUpload complete!\u001b[0m\n"
      ]
     },
     "metadata": {},
     "output_type": "display_data"
    },
    {
     "data": {
      "text/html": [
       "<pre style=\"white-space:pre;overflow-x:auto;line-height:normal;font-family:Menlo,'DejaVu Sans Mono',consolas,'Courier New',monospace\"></pre>\n"
      ],
      "text/plain": []
     },
     "metadata": {},
     "output_type": "display_data"
    },
    {
     "data": {
      "text/html": [
       "<pre style=\"white-space:pre;overflow-x:auto;line-height:normal;font-family:Menlo,'DejaVu Sans Mono',consolas,'Courier New',monospace\">\n",
       "</pre>\n"
      ],
      "text/plain": [
       "\n"
      ]
     },
     "metadata": {},
     "output_type": "display_data"
    },
    {
     "name": "stderr",
     "output_type": "stream",
     "text": [
      "2024-10-22T19:41:21.335305Z [warning  ] model_id and train_path inside configs/training/lora/llama-3-8b.yaml are going to be overridden [dspy.clients.anyscale] filename=anyscale.py lineno=156\n",
      "(anyscale +16m8.2s) Uploading local dir '.' to cloud storage.\n",
      "(anyscale +16m10.4s) Including workspace-managed pip dependencies.\n",
      "(anyscale +16m10.9s) Job 'dspy-llmforge-fine-tuning-job' submitted, ID: 'prodjob_pibnwgdk65vl1zevwtgtlfr8a1'.\n",
      "(anyscale +16m10.9s) View the job in the UI: https://console.anyscale.com/jobs/prodjob_pibnwgdk65vl1zevwtgtlfr8a1\n",
      "(anyscale +16m11.2s) Waiting for job 'prodjob_pibnwgdk65vl1zevwtgtlfr8a1' to reach target state SUCCEEDED, currently in state: STARTING\n",
      "(anyscale +18m5.0s) Job 'prodjob_pibnwgdk65vl1zevwtgtlfr8a1' transitioned from STARTING to RUNNING\n",
      "(anyscale +35m25.5s) Job 'prodjob_pibnwgdk65vl1zevwtgtlfr8a1' transitioned from RUNNING to SUCCEEDED\n",
      "(anyscale +35m25.5s) Job 'prodjob_pibnwgdk65vl1zevwtgtlfr8a1' reached target state, exiting\n"
     ]
    }
   ],
   "source": [
    "finetuneable_lm = dspy.LM(model=\"meta-llama/Llama-3.2-1B-Instruct\", **MODEL_PARAMETERS, **LOCAL_API_PARAMETERS)\n",
    "\n",
    "try:\n",
    "    finetuning_kwargs = {\n",
    "        \"train_data\": train_data, \n",
    "        \"train_kwargs\": {\n",
    "            \"job_config_path\": job_config_path, \n",
    "            \"llmforge_config_path\": llmforge_config_path, \n",
    "            \"serve_config_path\": serve_config_path\n",
    "        }, \n",
    "        \"train_method\": method, \n",
    "        \"provider\": \"anyscale\"\n",
    "    }\n",
    "\n",
    "    finetuning_job = finetuneable_lm.finetune(**finetuning_kwargs)\n",
    "    finetuned_llama = finetuning_job.result()\n",
    "    print(\"Finetuned Model ID:\", finetuned_llama.model)\n",
    "except Exception as e:\n",
    "    print(e)"
   ]
  },
  {
   "cell_type": "markdown",
   "metadata": {},
   "source": [
    "# Evaluation\n",
    "\n",
    "## Performance comparisons\n",
    "\n",
    "**Datasets:**\n",
    "- Synthetic Devset - we care about how well a model does on the dataset, as it is our closest thing to ground truth in our scenario with a lot of unlabeled data.\n",
    "- Real Testset - in this case, we do actually have a test set, so we can see how well a model does on a representative dataset of unseen user queries.\n",
    "\n",
    "**LM Comparison:**\n",
    "We will compare the finetuned model to the non-finetuned model, both with and without prompt optimization. We expect to see that the finetuned model does better on the synthetic devset compared to the testset, as it was trained on exactly that data.\n",
    "- 1B Non-finetuned\n",
    "- 1B Non-finetuned + Prompt Optimization\n",
    "- 1B Finetuned (last checkpoint)\n",
    "- 1B Finetuned (last checkpoint) + Prompt Optimization\n",
    "\n",
    "Note that we do not provide an eval set when finetuning, as the eval loss of a checkpoint isn't necessarily predictive of the downstream performance of the program. We use the last checkpoint by default."
   ]
  },
  {
   "cell_type": "code",
   "execution_count": 23,
   "metadata": {},
   "outputs": [
    {
     "name": "stdout",
     "output_type": "stream",
     "text": [
      "openai/meta-llama/Llama-3.2-1B-Instruct:isaac:faoyo\n"
     ]
    }
   ],
   "source": [
    "print(finetuned_llama.model)"
   ]
  },
  {
   "cell_type": "markdown",
   "metadata": {},
   "source": [
    "We will run a local RayLLM instance that serves the model.\n",
    "\n",
    "Provided with this template is are two files, `serve_1B.yaml` and `model_configs/meta-llama--Llama-3_2-1B-Instruct.yaml`. \n",
    "\n",
    "The first file, `serve_1B.yaml`, contains the serve configuration to load the model with RayLLM.\n",
    "\n",
    "The second file, `model_configs/meta-llama--Llama-3_2-1B-Instruct.yaml`, contains the necessary configurations to run the 1B model.\n",
    "\n",
    "<b style=\"background-color: yellow;\">&nbsp;🔄 REPLACE&nbsp;</b>:\n",
    "Make sure you set your HF_TOKEN and HF_HOME environment variables, and run the following command to start the server:"
   ]
  },
  {
   "cell_type": "code",
   "execution_count": 24,
   "metadata": {},
   "outputs": [],
   "source": [
    "from src import update_serve_config_hf_token\n",
    "\n",
    "update_serve_config_hf_token(\"serve_1B.yaml\")"
   ]
  },
  {
   "cell_type": "markdown",
   "metadata": {},
   "source": [
    "Run this command to start the 1B RayLLM server:"
   ]
  },
  {
   "cell_type": "code",
   "execution_count": 25,
   "metadata": {},
   "outputs": [
    {
     "name": "stdout",
     "output_type": "stream",
     "text": [
      "2024-10-22 20:01:24,883\tINFO scripts.py:489 -- Running config file: 'serve_1B.yaml'.\n",
      "2024-10-22 20:01:25,215\tINFO worker.py:1601 -- Connecting to existing Ray cluster at address: 10.0.0.28:6379...\n",
      "2024-10-22 20:01:25,222\tINFO worker.py:1777 -- Connected to Ray cluster. View the dashboard at https://session-6frbgpfbuzs27m75xhz3c8vnde.i.anyscaleuserdata.com \n",
      "2024-10-22 20:01:25,225\tINFO packaging.py:359 -- Pushing file package 'gcs://_ray_pkg_014106e27015567ec4a30c5eabf06c9cfb9b351c.zip' (0.51MiB) to Ray cluster...\n",
      "2024-10-22 20:01:25,230\tINFO packaging.py:372 -- Successfully pushed file package 'gcs://_ray_pkg_014106e27015567ec4a30c5eabf06c9cfb9b351c.zip'.\n",
      "INFO 2024-10-22 20:01:28,877 serve 24321 api.py:277 - Started Serve in namespace \"serve\".\n",
      "2024-10-22 20:01:28,886\tSUCC scripts.py:540 -- Submitted deploy config successfully.\n",
      "(ServeController pid=24398) INFO 2024-10-22 20:01:28,880 controller 24398 application_state.py:881 - Deploying new app 'llm-endpoint'.\n",
      "(ServeController pid=24398) INFO 2024-10-22 20:01:28,881 controller 24398 application_state.py:457 - Importing and building app 'llm-endpoint'.\n",
      "(ProxyActor pid=24456) INFO 2024-10-22 20:01:28,851 proxy 10.0.0.28 proxy.py:1235 - Proxy starting on node 76e2eab0a833e02208d948f67f54806e64e4d0b26f1a49507548855a (HTTP port: 8000).\n"
     ]
    }
   ],
   "source": [
    "!serve run --non-blocking serve_1B.yaml"
   ]
  },
  {
   "cell_type": "code",
   "execution_count": 26,
   "metadata": {},
   "outputs": [],
   "source": [
    "from src import MODEL_PARAMETERS, LOCAL_API_PARAMETERS\n",
    "\n",
    "non_ft_llama = dspy.LM(model=\"openai/meta-llama/Llama-3.2-1B-Instruct\", **MODEL_PARAMETERS, **LOCAL_API_PARAMETERS)\n",
    "\n",
    "all_llamas = {\"base\": non_ft_llama, finetuned_llama.model: finetuned_llama}\n"
   ]
  },
  {
   "cell_type": "code",
   "execution_count": 27,
   "metadata": {},
   "outputs": [
    {
     "name": "stdout",
     "output_type": "stream",
     "text": [
      "Program input: Example({'text': 'I still have not received an answer as to why I was charged $1.00 in a transaction?'}) (input_keys={'text'})\n",
      "Expected dict_keys(['reasoning', 'label']) but got dict_keys([])\n"
     ]
    }
   ],
   "source": [
    "# Sanity check that the finetuned models are working\n",
    "\n",
    "try:\n",
    "    sanity_check_program(non_ft_llama, vanilla_program, ft_trainset[0])\n",
    "except ValueError as e:\n",
    "    # Sometimes the 1B model isn't capable of correctly outputting the label before prompt optimization, so we can just ignore this error.\n",
    "    print(\"Non fine-tuned model returned invalid output out and errored out with\", e)\n",
    "\n",
    "try:\n",
    "    sanity_check_program(finetuned_llama, vanilla_program, ft_trainset[0])\n",
    "except ValueError as e:\n",
    "    print(\"Fine-tuned model returned invalid output out and errored out with\", e)"
   ]
  },
  {
   "cell_type": "markdown",
   "metadata": {},
   "source": [
    "We are going to be doing prompt optimization using DSPy's `BootstrapFewShotWithRandomSearch (BFRS)` function.\n",
    "\n",
    "BootstrapFewShotWithRandomSearch will:\n",
    "- Collect a set of chains of thought from the model\n",
    "- Use these examples that lead to a correct prediction to \"bootstrap\" the program\n",
    "- See which set of examples lead to the most correct predictions across your evaluation metric\n",
    "- Continue this process for a set number of iterations, using the best performing programs to bootstrap the next iteration\n",
    "- Return the best program\n",
    "\n",
    "Let's go over what the hyperparameters mean:\n",
    "- **max_bootstrapped_demos**: DSPy will \"bootstrap\" the program by collecting examples at each step that are successful and reusing those in the pipeline. This means that it will automatically collect and add chains of thought to the pipeline.\n",
    "- **max_labeled_demos**: DSPy will also insert some labeled demonstrations from the training set. These would be unmodified examples from the training set that are just using the given answer.\n",
    "- **num_candidate_programs**: This is the number of candidate programs that the optimizer will generate. The actual number of programs that are created is this plus three, as DSPy will also try a program with no examples, a program with just the labeled demonstrations, and a bootstrapped program with the first few examples.\n",
    "\n",
    "Learn more about the BFRS optimizer [here](https://dspy-docs.vercel.app/deep-dive/optimizers/bootstrap-fewshot/)."
   ]
  },
  {
   "cell_type": "code",
   "execution_count": 29,
   "metadata": {},
   "outputs": [
    {
     "name": "stdout",
     "output_type": "stream",
     "text": [
      "Parameters:\n",
      "max_bootstrapped_demos: 3\n",
      "max_labeled_demos: 3\n",
      "num_candidate_programs: 6\n"
     ]
    }
   ],
   "source": [
    "from src import bootstrap_fewshot_random_search_parameters, adjusted_exact_match\n",
    "\n",
    "print(\"Parameters:\")\n",
    "for k, v in bootstrap_fewshot_random_search_parameters.items():\n",
    "    print(f\"{k}: {v}\")"
   ]
  },
  {
   "cell_type": "code",
   "execution_count": 30,
   "metadata": {},
   "outputs": [
    {
     "name": "stdout",
     "output_type": "stream",
     "text": [
      "Lengths:\n",
      "Synthetic Devset:\t 1000\n",
      "Optimizer Trainset:\t 2762\n",
      "Optimizer Devset:\t 300\n",
      "Example from synthetic devset:\n",
      "Example({'text': 'I still have not received an answer as to why I was charged $1.00 in a transaction?', 'label': 'extra_charge_on_statement'}) (input_keys={'text'})\n"
     ]
    }
   ],
   "source": [
    "from src import split_into_devset_and_optimizer_sets\n",
    "\n",
    "def collected_data_to_example(data):\n",
    "    return dspy.Example(text=data[\"example\"][\"text\"], label=data[\"prediction\"][\"label\"]).with_inputs(\"text\")\n",
    "\n",
    "collected_data_examples = [collected_data_to_example(x) for x in collected_data_filtered]\n",
    "\n",
    "devset_synthetic, ft_optimizer_trainset, ft_optimizer_devset = split_into_devset_and_optimizer_sets(collected_data_examples, dev_size=1000, optimizer_num_val=300)\n",
    "print(\"Lengths:\")\n",
    "print(\"Synthetic Devset:\\t\", len(devset_synthetic))\n",
    "print(\"Optimizer Trainset:\\t\", len(ft_optimizer_trainset))\n",
    "print(\"Optimizer Devset:\\t\", len(ft_optimizer_devset))\n",
    "print(\"Example from synthetic devset:\")\n",
    "print(devset_synthetic[0])"
   ]
  },
  {
   "cell_type": "markdown",
   "metadata": {},
   "source": [
    "Now we will evaluate our finetuned model and the base model, prompt optimize them, and evaluate them on the synthetic devset.\n",
    "\n",
    "Note that there is a `%%capture` below. This is to suppress the output of the evaluation and prompt optimization because it is quite long and will slow down the notebook. We will graph the results in the cell after. You can remove the tag in order to see the output.\n",
    "\n",
    "You can expect this to take around 15-20 minutes to run.\n",
    "\n",
    "If you remove the `%%capture` tag, you will see that the output is quite long and full of errors. This is because the base LLama 1B model is not capable of formatting the outputs correctly in the way that DSPy expects, so it will throw errors. Our finetuned model is much better at this, and throws significantly less errors."
   ]
  },
  {
   "cell_type": "code",
   "execution_count": null,
   "metadata": {},
   "outputs": [],
   "source": [
    "%%capture\n",
    "from src import evaluate_and_prompt_optimize\n",
    "\n",
    "evaluation_kwargs = {\n",
    "    \"models\": all_llamas,\n",
    "    \"module_class\": IntentClassificationModule,\n",
    "    \"optimizer_trainset\": ft_optimizer_trainset,\n",
    "    \"optimizer_valset\": ft_optimizer_devset,\n",
    "    \"devset\": devset_synthetic,\n",
    "    \"metric\": adjusted_exact_match,\n",
    "    \"labels_in_use\": labels_in_use\n",
    "}\n",
    "\n",
    "ft_results = evaluate_and_prompt_optimize(**evaluation_kwargs)"
   ]
  },
  {
   "cell_type": "code",
   "execution_count": 33,
   "metadata": {},
   "outputs": [
    {
     "name": "stdout",
     "output_type": "stream",
     "text": [
      "{'base': {'vanilla': {'devset': 0.0}, 'bfrs': {'devset': 36.2}}, 'ft': {'vanilla': {'devset': 9.5}, 'bfrs': {'devset': 48.6}}}\n"
     ]
    }
   ],
   "source": [
    "print(ft_results)"
   ]
  },
  {
   "cell_type": "code",
   "execution_count": 34,
   "metadata": {},
   "outputs": [
    {
     "data": {
      "image/png": "[encoded data removed]",
      "text/plain": [
       "<Figure size 1200x600 with 1 Axes>"
      ]
     },
     "metadata": {},
     "output_type": "display_data"
    },
    {
     "name": "stdout",
     "output_type": "stream",
     "text": [
      "Highest Dev Set Score: 48.6, Model: fine-tuned\n"
     ]
    }
   ],
   "source": [
    "from src import graph_devset_results, graph_testset_results\n",
    "\n",
    "graph_devset_results(ft_results)"
   ]
  },
  {
   "cell_type": "markdown",
   "metadata": {},
   "source": [
    "We see that the our finetuned model significantly outperforms the base model on the synthetic devset, even when prompt optimized.\n",
    "\n",
    "We will now evaluate both the finetuned and base models on the real test set to see if we have improved performance. We will use the prompt optimized versions of the models that we created using the synthetic devset as our in context examples.\n",
    "\n",
    "This should take around 10 minutes to run."
   ]
  },
  {
   "cell_type": "code",
   "execution_count": 36,
   "metadata": {},
   "outputs": [],
   "source": [
    "%%capture\n",
    "# Now we need to evaluate the test set\n",
    "from src import run_testset_evaluation\n",
    "\n",
    "testset_evaluation_kwargs = {\n",
    "    \"ft_results\": ft_results,\n",
    "    \"all_llamas\": all_llamas,\n",
    "    \"labels_in_use\": labels_in_use,\n",
    "    \"testset\": testset,\n",
    "    \"metric\": adjusted_exact_match,\n",
    "    \"module_class\": IntentClassificationModule\n",
    "}\n",
    "\n",
    "ft_results_testset, (best_program_path, best_model, best_score) = run_testset_evaluation(**testset_evaluation_kwargs)"
   ]
  },
  {
   "cell_type": "code",
   "execution_count": 37,
   "metadata": {},
   "outputs": [
    {
     "data": {
      "image/png": "[encoded data removed]",
      "text/plain": [
       "<Figure size 1000x600 with 1 Axes>"
      ]
     },
     "metadata": {},
     "output_type": "display_data"
    }
   ],
   "source": [
    "graph_testset_results(ft_results_testset)"
   ]
  },
  {
   "cell_type": "code",
   "execution_count": 38,
   "metadata": {},
   "outputs": [
    {
     "name": "stdout",
     "output_type": "stream",
     "text": [
      "Best testset result: \n",
      "ft with score: 43.8\n"
     ]
    }
   ],
   "source": [
    "print(f\"Best testset result: \\n{best_model} with score: {best_score}\")"
   ]
  },
  {
   "cell_type": "markdown",
   "metadata": {},
   "source": [
    "# Serving"
   ]
  },
  {
   "cell_type": "markdown",
   "metadata": {},
   "source": [
    "# TODO: Add context about what we are doing"
   ]
  },
  {
   "cell_type": "markdown",
   "metadata": {},
   "source": [
    "<b style=\"background-color: blue;\">&nbsp;🔄 RUN (optional)&nbsp;</b>:\n",
    "You can optionally deploy your model to Anyscale in order to use it in production.\n",
    "To do this, run the following command:\n",
    "\n",
    "```\n",
    "!anyscale service deploy -f serve_1B.yaml\n",
    "```\n",
    "\n",
    "Follow the URL in order to find your service URL and API key for your deployed service.\n",
    "\n",
    "If you choose not to deploy your model, you can run the following code to run the model locally.\n",
    "```\n",
    "serve run serve_1B.yaml\n",
    "```\n",
    "\n",
    "If you never took down your service from the previous section, there is no need to rerun the service run command."
   ]
  },
  {
   "cell_type": "code",
   "execution_count": null,
   "metadata": {},
   "outputs": [],
   "source": [
    "# !anyscale service deploy -f serve_1B.yaml\n",
    "# !serve run serve_1B.yaml"
   ]
  },
  {
   "cell_type": "markdown",
   "metadata": {},
   "source": [
    "<b style=\"background-color: yellow;\">&nbsp;🔄 REPLACE&nbsp;</b>:\n",
    "Replace the following variables with your Anyscale service URL and API key.\n",
    "\n",
    "```\n",
    "ANYSCALE_SERVICE_BASE_URL = None\n",
    "ANYSCALE_API_KEY = None\n",
    "```\n",
    "\n",
    "You can find them by clicking the query button on the Anyscale dashboard for your service.\n",
    "\n",
    "<!-- <img src=\"files/service-query.png\" alt=\"Service Query\" width=\"500\"> -->\n",
    "![Service Query](README_files/service-query.png)"
   ]
  },
  {
   "cell_type": "code",
   "execution_count": 39,
   "metadata": {},
   "outputs": [],
   "source": [
    "ANYSCALE_SERVICE_BASE_URL = None\n",
    "ANYSCALE_API_KEY = None"
   ]
  },
  {
   "cell_type": "code",
   "execution_count": 40,
   "metadata": {},
   "outputs": [],
   "source": [
    "from src import MODEL_PARAMETERS, LOCAL_API_PARAMETERS\n",
    "if ANYSCALE_SERVICE_BASE_URL and ANYSCALE_API_KEY:\n",
    "    API_PARAMETERS = {\"api_base\": ANYSCALE_SERVICE_BASE_URL, \"api_key\": ANYSCALE_API_KEY}\n",
    "else:\n",
    "    API_PARAMETERS = LOCAL_API_PARAMETERS"
   ]
  },
  {
   "cell_type": "markdown",
   "metadata": {},
   "source": [
    "The typical usecase for DSPy is for optimizing prompts and weights programmatically. DSPy allows you to define a complex pipeline with different components like a retriever and one or more LLMs. Often, we're interested in taking the same system we optimized during training to inference. \n",
    "\n",
    "To deploy, we recommend you serve the optimized DSPy program directly: This is the simplest option to take your program to production. Since DSPy simply relies on a deployed inference endpoint for LLM calls, we can use it in conjunction with optimized serving libraries like RayLLM. We can leverage Ray Serve with our DSPy pipeline being our custom business logic while serving.\n",
    "\n",
    "NOTE: As of DSPy 2.5, there are scalability limitations for extremely high throughput scenarios with DSPy. DSPy compiled programs currently use threading for handling multiple queries in parallel, which might not scale as well as a native `async` implementation. A native `async` implementation is in the immediate roadmap for DSPy."
   ]
  },
  {
   "cell_type": "code",
   "execution_count": 41,
   "metadata": {},
   "outputs": [],
   "source": [
    "from ray import serve\n",
    "from fastapi import FastAPI\n",
    "\n",
    "app = FastAPI()\n",
    "\n",
    "@serve.deployment(\n",
    "    ray_actor_options={\"num_cpus\": 0.1},\n",
    "    autoscaling_config=dict(min_replicas=1, max_replicas=3)\n",
    ")\n",
    "@serve.ingress(app)\n",
    "class LLMClient:\n",
    "    def __init__(self):\n",
    "        self.llm = dspy.LM(model=\"openai/\" + best_model, **MODEL_PARAMETERS, **API_PARAMETERS)\n",
    "        dspy.settings.configure(experimental=True, lm=self.llm)\n",
    "        self.program = IntentClassificationModule(labels_in_use)\n",
    "        self.program.load(best_program_path)\n",
    "\n",
    "    @app.get(\"/\")\n",
    "    async def classify_intent(\n",
    "        self,\n",
    "        query: str,\n",
    "    ):\n",
    "        \"\"\"Answer the given question and provide sources.\"\"\"\n",
    "        retrieval_response = self.program(query)\n",
    "\n",
    "        return retrieval_response.label\n",
    "\n",
    "llm_client = LLMClient.bind()\n",
    "llm_handle = serve.run(llm_client, route_prefix=\"/classify_intent\", name=\"llm_client\")"
   ]
  },
  {
   "cell_type": "code",
   "execution_count": null,
   "metadata": {},
   "outputs": [],
   "source": [
    "example_query = ft_trainset[1][\"text\"]\n",
    "llm_response = await llm_handle.classify_intent.remote(\n",
    "    query=example_query,\n",
    ")\n",
    "print(example_query)\n",
    "print(llm_response)"
   ]
  },
  {
   "cell_type": "markdown",
   "metadata": {},
   "source": [
    "We can also query directly using HTTP requests, because we use the `@app` decorator on our FastAPI app."
   ]
  },
  {
   "cell_type": "code",
   "execution_count": null,
   "metadata": {},
   "outputs": [],
   "source": [
    "import requests\n",
    "try:\n",
    "    response = requests.get(f\"http://localhost:8000/classify_intent?query={example_query}\")\n",
    "    print(response.json())\n",
    "except Exception as e:\n",
    "    print(e)"
   ]
  },
  {
   "cell_type": "markdown",
   "metadata": {},
   "source": [
    "<b style=\"background-color: yellow;\">&nbsp;🛑 IMPORTANT&nbsp;</b>: Please `Terminate` your service from the Service page to avoid depleting your free trial credits."
   ]
  },
  {
   "cell_type": "code",
   "execution_count": null,
   "metadata": {},
   "outputs": [],
   "source": [
    "# Clean up\n",
    "!python src/clear_cell_nums.py\n",
    "!find . | grep -E \".ipynb_checkpoints\" | xargs rm -rf\n",
    "!find . | grep -E \"(__pycache__|\\.pyc|\\.pyo)\" | xargs rm -rf\n",
    "!rm -rf __pycache__ data .HF_TOKEN deploy/services"
   ]
  }
 ],
 "metadata": {
  "kernelspec": {
   "display_name": "base",
   "language": "python",
   "name": "python3"
  },
  "language_info": {
   "codemirror_mode": {
    "name": "ipython",
    "version": 3
   },
   "file_extension": ".py",
   "mimetype": "text/x-python",
   "name": "python",
   "nbconvert_exporter": "python",
   "pygments_lexer": "ipython3",
   "version": "3.9.19"
  }
 },
 "nbformat": 4,
 "nbformat_minor": 2
}
