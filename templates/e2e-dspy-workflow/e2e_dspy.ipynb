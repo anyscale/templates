{
 "cells": [
  {
   "cell_type": "markdown",
   "metadata": {},
   "source": [
    "# End-to-end DSPy Workflows Guide "
   ]
  },
  {
   "cell_type": "markdown",
   "metadata": {},
   "source": [
    "# TODO: Motivation - have this problem and going to solve it with dspy and that is why we believe ti is the right solution\n",
    "\n",
    "This guide will cover the following topics:\n",
    "\n",
    "## Creating a Multi-stage LLM Pipeline\n",
    "- Building a pipeline with an untuned model in DSPy\n",
    "- Implementing batch inference (using Ray data)\n",
    "\n",
    "## Improving the Pipeline\n",
    "1. Prompt optimization\n",
    "2. Fine-tuning\n",
    "    - How to make an 8B model perform almost as well as a 70B model in your pipeline\n",
    "3. Combining fine-tuning with prompt optimization\n",
    "\n",
    "## Deployment\n",
    "- Steps to deploy the optimized pipeline and fine-tuned model to production\n",
    "\n",
    "## Future Work and Open Questions\n",
    "- Efficient batch inference with a DSPy pipeline\n",
    "- Exploring different fine-tuning methods and hyperparameter sweeps\n",
    "\n",
    "This guide aims to provide a comprehensive overview of building, optimizing, and deploying LLM pipelines using DSPy and Anyscale."
   ]
  },
  {
   "cell_type": "markdown",
   "metadata": {},
   "source": [
    "## Set up"
   ]
  },
  {
   "cell_type": "markdown",
   "metadata": {},
   "source": [
    "Node Set up:\n",
    "\n",
    "We will be running everything on a head node that uses 4xA100-80GB GPUs. I find that L4s are usually available and suitable for this usecase. You can also use any more powerful node.\n",
    "\n",
    "To change to use A100 GPUs, click the \"1 active node\" in the top right corner, then for workspace node, click the pencil icon and navigate to the A100 tab and select the 4xA100 option. If you do not see A100 in the list of GPUs, they may not be available on your cloud. Choose another kind of GPU (This notebook has been tested on X, and Y as alternatives) (TODO)"
   ]
  },
  {
   "cell_type": "code",
   "execution_count": 3,
   "metadata": {},
   "outputs": [],
   "source": [
    "%load_ext autoreload\n",
    "%autoreload 2"
   ]
  },
  {
   "cell_type": "code",
   "execution_count": 4,
   "metadata": {},
   "outputs": [],
   "source": [
    "# TODO(work): DSPy installation cell\n",
    "# TODO(decision): are these changes going to be merged into DSPy main\n",
    "\n",
    "# TODO: look at my own init file to see all the stupid extra pip installs\n",
    "\n",
    "# !pip install -e dspy-d\n",
    "# !pip install -r dspy-d/requirements.txt\n",
    "# !pip install vllm\n",
    "\n",
    "# ignore future warnings\n",
    "import warnings\n",
    "warnings.filterwarnings(\"ignore\", category=FutureWarning)"
   ]
  },
  {
   "cell_type": "code",
   "execution_count": 5,
   "metadata": {},
   "outputs": [
    {
     "data": {
      "text/plain": [
       "True"
      ]
     },
     "execution_count": 5,
     "metadata": {},
     "output_type": "execute_result"
    }
   ],
   "source": [
    "import dspy\n",
    "import dsp\n",
    "import os\n",
    "import ujson\n",
    "\n",
    "from dotenv import load_dotenv\n",
    "# TODO: include cache in notebook\n",
    "cache_dir = \"/home/ray/default/dspy/cache\"\n",
    "if not os.path.exists(cache_dir):\n",
    "    os.makedirs(cache_dir)\n",
    "# I have included a .env.example with the necessary environment variables to be set\n",
    "# You can also set them manually if you prefer\n",
    "\n",
    "os.environ[\"DSP_CACHEDIR\"] = cache_dir\n",
    "\n",
    "load_dotenv()"
   ]
  },
  {
   "cell_type": "code",
   "execution_count": 6,
   "metadata": {},
   "outputs": [],
   "source": [
    "necessary_env_vars = [\n",
    "    \"DSP_CACHEDIR\",\n",
    "    \"HF_TOKEN\",\n",
    "    \"HF_HOME\"\n",
    "]\n",
    "\n",
    "for var in necessary_env_vars:\n",
    "    assert os.environ[var], f\"{var} is not set\""
   ]
  },
  {
   "cell_type": "code",
   "execution_count": 7,
   "metadata": {},
   "outputs": [
    {
     "name": "stderr",
     "output_type": "stream",
     "text": [
      "2024-10-05 02:38:08,838\tINFO worker.py:1601 -- Connecting to existing Ray cluster at address: 10.0.0.57:6379...\n",
      "2024-10-05 02:38:08,848\tINFO worker.py:1777 -- Connected to Ray cluster. View the dashboard at https://session-fkvdirx4bzefi53sjl55m7asad.i.anyscaleuserdata.com \n",
      "2024-10-05 02:38:08,873\tINFO packaging.py:531 -- Creating a file package for local directory '/home/ray/default/dspy/dspy'.\n",
      "2024-10-05 02:38:08,904\tINFO packaging.py:359 -- Pushing file package 'gcs://_ray_pkg_a94507f311006af4.zip' (0.80MiB) to Ray cluster...\n",
      "2024-10-05 02:38:08,914\tINFO packaging.py:372 -- Successfully pushed file package 'gcs://_ray_pkg_a94507f311006af4.zip'.\n",
      "2024-10-05 02:38:08,927\tINFO packaging.py:531 -- Creating a file package for local directory '/home/ray/default/dspy/dsp'.\n",
      "2024-10-05 02:38:08,948\tINFO packaging.py:359 -- Pushing file package 'gcs://_ray_pkg_1089f6904fbdbe62.zip' (0.64MiB) to Ray cluster...\n",
      "2024-10-05 02:38:08,955\tINFO packaging.py:372 -- Successfully pushed file package 'gcs://_ray_pkg_1089f6904fbdbe62.zip'.\n",
      "2024-10-05 02:38:09,232\tINFO packaging.py:359 -- Pushing file package 'gcs://_ray_pkg_650de65d4df4dc9779c558502215b94ef48d42d8.zip' (98.11MiB) to Ray cluster...\n",
      "2024-10-05 02:38:10,386\tINFO packaging.py:372 -- Successfully pushed file package 'gcs://_ray_pkg_650de65d4df4dc9779c558502215b94ef48d42d8.zip'.\n"
     ]
    }
   ],
   "source": [
    "import ray\n",
    "\n",
    "if not ray.is_initialized():\n",
    "    ray.init(runtime_env={\"env_vars\": os.environ, \"py_modules\": [dspy, dsp]})"
   ]
  },
  {
   "cell_type": "markdown",
   "metadata": {},
   "source": [
    "We will make use of a random number generator in this notebook. We are creating a Random object here to ensure that our notebook is reproducible."
   ]
  },
  {
   "cell_type": "code",
   "execution_count": 8,
   "metadata": {},
   "outputs": [],
   "source": [
    "import random\n",
    "\n",
    "rng = random.Random()"
   ]
  },
  {
   "cell_type": "markdown",
   "metadata": {},
   "source": [
    "# Creating your multi-stage LLM pipeline"
   ]
  },
  {
   "cell_type": "code",
   "execution_count": 9,
   "metadata": {},
   "outputs": [],
   "source": [
    "from dspy.datasets import HotPotQA\n",
    "from dspy.evaluate import Evaluate\n",
    "from dsp.utils.utils import deduplicate\n",
    "\n",
    "\n",
    "# We are setting the experimental flag to True to make use of the fine-tuning\n",
    "# features that are still in development.\n",
    "dspy.settings.configure(experimental=True)\n",
    "\n",
    "# Define the program\n",
    "class BasicMH(dspy.Module):\n",
    "    def __init__(self, passages_per_hop=3, num_hops=2):\n",
    "        super().__init__()\n",
    "        self.num_hops = num_hops\n",
    "        self.retrieve = dspy.Retrieve(k=passages_per_hop)\n",
    "        # self.generate_query = dspy.ChainOfThought(GenerateSearchQuery)\n",
    "        self.generate_query = [dspy.ChainOfThought(\"context, question -> search_query\") for _ in range(self.num_hops)]\n",
    "        self.generate_answer = dspy.ChainOfThought(\"context, question -> answer\")\n",
    "    \n",
    "    def forward(self, question):\n",
    "        context = []\n",
    "        \n",
    "        for hop in range(self.num_hops):\n",
    "            search_query = self.generate_query[hop](context=context, question=question).search_query\n",
    "            passages = self.retrieve(search_query).passages\n",
    "            context = deduplicate(context + passages)\n",
    "\n",
    "        prediction = self.generate_answer(context=context, question=question).copy(context=context)\n",
    "        return prediction"
   ]
  },
  {
   "cell_type": "markdown",
   "metadata": {},
   "source": [
    "# Let's break down the BasicMH program\n",
    "\n",
    "## Program Design\n",
    "The BasicMH program is designed to answer complex questions requiring multiple retrieval steps without relying on the model's internal knowledge.\n",
    "\n",
    "For example, if we asked \"What the capital of the country that has the eiffel tower\"\n",
    "\n",
    "The model cannot just throw the original question \"What the capital of the country that has the eiffel tower\" into a retriever, the model needs to generate a query with the right search terms in order to get the correct passages.\n",
    "\n",
    "### Program Flow:\n",
    "1. Iterate through the specified number of hops:\n",
    "\n",
    "   a. Generate a search query using `generate_query` modules.\n",
    "\n",
    "   b. Retrieve passages using the `retrieve` module.\n",
    "\n",
    "   c. Deduplicate and add retrieved passages to the context.\n",
    "2. After completing all hops, generate the final answer using the `generate_answer` module.\n",
    "\n",
    "This multi-step approach enables the program to break down complex questions and gather necessary information incrementally, improving the accuracy of the final answer.\n",
    "\n",
    "## Program Implementation\n",
    "\n",
    "### `BasicMH` class\n",
    "\n",
    "#### `__init__` method\n",
    "\n",
    "This method initializes the class with the specified number of hops and passages per hop. It also sets up the `retrieve` module for passage retrieval and a list of `generate_query` modules for generating search queries at each hop. It should be noted that each hop has a different generate_query module, which means they all get optimized separately. The intuition here is that a good prompt for the first hop may not be good for the second hop, and so on.\n",
    "\n",
    "#### `forward` method\n",
    "\n",
    "This method implements the forward pass of the program. It iterates through the specified number of hops, generating a search query at each hop and retrieving passages. The retrieved passages are then deduplicated and added to the context. After completing all hops, it generates the final answer using the `generate_answer` module.\n",
    "\n",
    "A note here is that you directly return the result of the `generate_answer` module. A common anti-pattern is to return `prediction.answer` instead of `prediction`. This is because `prediction` is an object that contains information that is useful for optimization, and the answer can be extracted later.\n",
    "\n",
    "### Example Usage\n",
    "\n",
    "Here's an example of how to use the `BasicMH` class:\n",
    "\n",
    "```\n",
    "program = BasicMH()\n",
    "prediction = program(question=\"What is the capital of the country that has the Eiffel Tower?\")\n",
    "print(prediction.answer)\n",
    "# Prints: Paris\n",
    "```"
   ]
  },
  {
   "cell_type": "markdown",
   "metadata": {},
   "source": [
    "Below we load the dataset using a built in `HotPotQA` dataset class from DSPy.\n",
    "\n",
    "We set the `train_seed` and `eval_seed` to `0` for reproducibility and the `test_size` to `0` because we do not need a test set for this tutorial."
   ]
  },
  {
   "cell_type": "code",
   "execution_count": 10,
   "metadata": {},
   "outputs": [],
   "source": [
    "# Prepare the dataset\n",
    "TRAIN_SIZE = 1500\n",
    "DEV_SIZE = 1500\n",
    "dataset = HotPotQA(train_seed=0, eval_seed=0, test_size=0)\n",
    "trainset = [x.with_inputs('question') for x in dataset.train]\n",
    "devset = [x.with_inputs('question') for x in dataset.dev]"
   ]
  },
  {
   "cell_type": "markdown",
   "metadata": {},
   "source": [
    "Here we set up the metric and evaluator. We will be using the answer exact match metric.\n",
    "\n",
    "The evaluator is what we will consider as our test set.\n",
    "\n",
    "We choose `num_threads=90` because we are bottlenecked by the retrieval server, and through testing this is the maximum number of concurrent threads that can be run without causing issues for other people using the retrieval server."
   ]
  },
  {
   "cell_type": "code",
   "execution_count": 11,
   "metadata": {},
   "outputs": [],
   "source": [
    "# Prepare the metric and evaluator\n",
    "NUM_THREADS = 90\n",
    "metric = dspy.evaluate.answer_exact_match\n",
    "evaluate_devset = Evaluate(devset=devset[:DEV_SIZE], metric=metric, num_threads=NUM_THREADS, display_progress=True)"
   ]
  },
  {
   "cell_type": "markdown",
   "metadata": {},
   "source": [
    "TODO(optional): Implement LLM as judge"
   ]
  },
  {
   "cell_type": "code",
   "execution_count": 12,
   "metadata": {},
   "outputs": [],
   "source": [
    "# Prepare the retriever model\n",
    "# Note that this is not hosted on Anyscale\n",
    "COLBERT_V2_ENDPOINT = \"http://20.102.90.50:2017/wiki17_abstracts\"\n",
    "retriever = dspy.ColBERTv2(url=COLBERT_V2_ENDPOINT)"
   ]
  },
  {
   "cell_type": "markdown",
   "metadata": {},
   "source": [
    "## Gathering baseline performance\n",
    "\n",
    "run evaluate on a base pipeline"
   ]
  },
  {
   "cell_type": "code",
   "execution_count": 13,
   "metadata": {},
   "outputs": [],
   "source": [
    "MAX_TOKENS = 3000\n",
    "MODEL_PARAMETERS = {\n",
    "  \"max_tokens\": MAX_TOKENS,\n",
    "  \"temperature\": 0,\n",
    "}\n",
    "\n",
    "LOCAL_API_PARAMETERS = {\n",
    "  \"api_base\": \"http://localhost:8000/v1\",\n",
    "  \"api_provider\": \"vllm\",\n",
    "  \"api_key\": \"fake-key-doesnt-matter\"\n",
    "}\n",
    "vanilla_program = BasicMH()"
   ]
  },
  {
   "cell_type": "code",
   "execution_count": null,
   "metadata": {},
   "outputs": [],
   "source": [
    "# Note: Run above this to do all setup without launching any models"
   ]
  },
  {
   "cell_type": "markdown",
   "metadata": {},
   "source": [
    "We will be using a local VLLM instance to run the initial benchmarks and data collection."
   ]
  },
  {
   "cell_type": "markdown",
   "metadata": {},
   "source": [
    "The first model to run is the 8B model in order to collect a baseline of performance.\n",
    "\n",
    "You can run the local VLLM instance with the following command:\n",
    "\n",
    "Make sure to set your HF_TOKEN and HF_HOME environment variables\n",
    "\n",
    "For Anyscale, putting models into /mnt/local_storage is a typical pattern.\n",
    "\n",
    "\n",
    "`vllm serve meta-llama/Meta-Llama-3.1-8B-Instruct --port 8000 --pipeline_parallel_size 4 --enable_prefix_caching`\n",
    "\n",
    "Lets break down what this command does:\n",
    "- `vllm serve` is the command to run the VLLM server\n",
    "- `meta-llama/Meta-Llama-3.1-8B-Instruct` is the model to run\n",
    "- `--port 8000` is the port to run the server on\n",
    "- `--pipeline_parallel_size 4` is the number of pipeline parallel size to run the server with. We are using 4 because we have 4 GPUs all of which can hold an instance of the model.\n",
    "- `--enable_prefix_caching` is the flag to enable the prefix caching. This will store and reuse the beginnings of prompts to avoid repeating the same computation. This is especially useful for DSPy since we are almost always using prompts with the same beginning parts in the form of few shot demonstrations."
   ]
  },
  {
   "cell_type": "code",
   "execution_count": null,
   "metadata": {},
   "outputs": [],
   "source": [
    "# Command for easy copying: \n",
    "# `vllm serve meta-llama/Meta-Llama-3.1-8B-Instruct --port 8000 --pipeline_parallel_size 4 --enable_prefix_caching`\n",
    "input(\"Press Enter once you have the vllm server running...\")"
   ]
  },
  {
   "cell_type": "code",
   "execution_count": null,
   "metadata": {},
   "outputs": [],
   "source": [
    "# TODO: switch to local model\n",
    "# llama_8b = dspy.MultiOpenAI(model=\"meta-llama/Meta-Llama-3.1-8B-Instruct\", **MODEL_PARAMETERS, **LOCAL_API_PARAMETERS)\n",
    "llama_1b = dspy.MultiOpenAI(model=\"meta-llama/Llama-3.2-1B-Instruct\", **MODEL_PARAMETERS, **LOCAL_API_PARAMETERS)"
   ]
  },
  {
   "cell_type": "code",
   "execution_count": null,
   "metadata": {},
   "outputs": [],
   "source": [
    "# Quick sanity check to see if the program is working\n",
    "with dspy.context(lm=llama_1b, rm=retriever):\n",
    "    test_predictor = BasicMH()\n",
    "    print(test_predictor(question=\"What is the capital of France?\").answer)"
   ]
  },
  {
   "cell_type": "code",
   "execution_count": null,
   "metadata": {},
   "outputs": [],
   "source": [
    "with dspy.context(lm=llama_1b, rm=retriever):\n",
    "  print(\"Evaluating the vanilla program on the devset using the model to be trained (llama 1B)...\")\n",
    "  vanilla_1b_base_eval = evaluate_devset(vanilla_program)"
   ]
  },
  {
   "cell_type": "markdown",
   "metadata": {},
   "source": [
    "# Running the 70B Model\n",
    "\n",
    "Now that we have a baseline for the 8B model, let's run the 70B model and compare its performance.\n",
    "\n",
    "## Preparation\n",
    "\n",
    "Before running the 70B model:\n",
    "1. Kill the 8B server (use `Ctrl+C`) to free up memory.\n",
    "2. Remember to set your HF_TOKEN and HF_HOME environment variables\n",
    "3. Use the following command to start the 70B server:\n",
    "\n",
    "   ```\n",
    "   vllm serve meta-llama/Meta-Llama-3.1-70B-Instruct --port 8000 --pipeline_parallel_size 2 --enable_prefix_caching --tensor_parallel_size 2\n",
    "   ```\n",
    "\n",
    "## Parallelism Configuration\n",
    "\n",
    "We've chosen pipeline parallelism and tensor parallelism of 2 for the 70B model based on our current setup. Here's the reasoning:\n",
    "\n",
    "1. Model size: The 70B model has 30 parts of ~5 GB each (based on [HuggingFace documentation](https://huggingface.co/meta-llama/Meta-Llama-3.1-70B-Instruct/tree/main)).\n",
    "   - Total size: 30 * 5 GB = 150 GB\n",
    "\n",
    "2. Available VRAM:\n",
    "   - Our GPUs: 80 GB VRAM x 4 = 320 GB\n",
    "   - Tensor parallelism: floor(320/150) = 2\n",
    "   - Pipeline parallelism: floor(num_gpus/2) = 2\n",
    "   - To use all 4 GPUs efficiently:\n",
    "     - Pipeline parallel size: 2\n",
    "     - Tensor parallelism: 2\n",
    "\n",
    "3. Alternative setup (8x24GB GPUs):\n",
    "   - Pipeline parallel size: 1\n",
    "   - Tensor parallelism: ceil(150/24) = 7\n",
    "\n",
    "This configuration allows us to run the 70B model efficiently across our available GPU resources."
   ]
  },
  {
   "cell_type": "markdown",
   "metadata": {},
   "source": [
    "Note that I needed to add the HF_HOME var to my serve config"
   ]
  },
  {
   "cell_type": "code",
   "execution_count": null,
   "metadata": {},
   "outputs": [],
   "source": [
    "# Command for easy copying: \n",
    "import subprocess\n",
    "# `export HF_HOME=/mnt/local_storage/huggingface`\n",
    "# `vllm serve meta-llama/Meta-Llama-3.1-70B-Instruct --port 8000 --pipeline_parallel_size 2 --enable_prefix_caching --tensor_parallel_size 2`\n",
    "# input(\"Press Enter once you have the vllm server running...\")\n",
    "# process = subprocess.Popen([\"python3\", \"-m\", \"http.server\", \"8000\"])\n",
    "# process = subprocess.Popen([\"vllm\", \"serve\", \"meta-llama/Meta-Llama-3.1-70B-Instruct\", \"--port\", \"8000\", \"--pipeline_parallel_size\", \"2\", \"--enable_prefix_caching\", \"--tensor_parallel_size\", \"2\"])"
   ]
  },
  {
   "cell_type": "code",
   "execution_count": null,
   "metadata": {},
   "outputs": [],
   "source": [
    "llama_70b = dspy.MultiOpenAI(model=\"meta-llama/Meta-Llama-3.1-70B-Instruct\", **MODEL_PARAMETERS, **LOCAL_API_PARAMETERS)"
   ]
  },
  {
   "cell_type": "code",
   "execution_count": null,
   "metadata": {},
   "outputs": [],
   "source": [
    "# Another sanity check\n",
    "with dspy.context(lm=llama_70b, rm=retriever):\n",
    "    test_predictor = BasicMH()\n",
    "    print(test_predictor(question=\"What is the capital of Russia?\").answer)"
   ]
  },
  {
   "cell_type": "code",
   "execution_count": null,
   "metadata": {},
   "outputs": [],
   "source": [
    "with dspy.context(lm=llama_70b, rm=retriever):\n",
    "  print(\"Evaluating the vanilla program on the devset using llama 70B...\")\n",
    "  llama_70b_base_eval = evaluate_devset(vanilla_program)"
   ]
  },
  {
   "cell_type": "markdown",
   "metadata": {},
   "source": [
    "We hope to bring the 8B performance up to at least 70B level"
   ]
  },
  {
   "cell_type": "markdown",
   "metadata": {},
   "source": [
    "## Optimizing the LLaMa 70B pipeline\n",
    "\n",
    "Now we are ready to optimize the pipeline. We want to optimize the 70B pipeline in order to get the best possible data to then train our 8B model.\n",
    "\n",
    "We will use Bootstrap Few Shot with Random Search (BFRS) to optimize the pipeline.\n",
    "\n",
    "The essence of BFRS is to try out different configurations of few shot demonstrations per step and see which one works best on the validation set.\n",
    "\n",
    "The cool part about BFRs is that it will automatically collect the \"good\" chains of thought for us and add them to the examples at each step."
   ]
  },
  {
   "cell_type": "markdown",
   "metadata": {},
   "source": [
    "Now we know how well the base pipeline performs, let's run prompt optimization on the pipeline in order to juice up the performance.\n",
    "\n",
    "Let's go over what the hyperparameters mean:\n",
    "- MAX_BOOTSTRAPPED_DEMOS: DSPy will \"bootstrap\" the program by collecting examples at each step that are successful and reusing those in the pipeline. This means that it will automatically collect and add chains of thought to the pipeline.\n",
    "- MAX_LABELED_DEMOS: DSPy will also insert some labeled demonstrations from the training set. These would be unmodified examples from the training set that are just using the gold answer.\n",
    "- NUM_CANDIDATE_PROGRAMS: This is the number of candidate programs that the optimizer will generate. The actual number of programs that are created is this plus three, as DSPy will also try a program with no examples, a program with TODO (check)\n",
    "- OPTIMIZER_NUM_TRAIN and OPTIMIZER_NUM_VAL: These are the number of examples that the optimizer will use for training and validation. Note that we will be taking the \"validation\" set from the trainset so as the actual validation set is untouched."
   ]
  },
  {
   "cell_type": "code",
   "execution_count": null,
   "metadata": {},
   "outputs": [],
   "source": [
    "# Optimization hyperparameters\n",
    "from dspy.teleprompt.random_search import BootstrapFewShotWithRandomSearch\n",
    "\n",
    "# Define the hyperparameters for prompt optimization\n",
    "MAX_BOOTSTRAPPED_DEMOS = 3\n",
    "MAX_LABELED_DEMOS = 3\n",
    "NUM_CANDIDATE_PROGRAMS = 6\n",
    "OPTIMIZER_NUM_TRAIN = 100\n",
    "OPTIMIZER_NUM_VAL = 150"
   ]
  },
  {
   "cell_type": "code",
   "execution_count": null,
   "metadata": {},
   "outputs": [],
   "source": [
    "# Prepare the training and validation sets for the optimizer using the original\n",
    "# trainset. This ensures that our actual devset is left untouched.\n",
    "shuffled_trainset = [d for d in trainset]\n",
    "rng.shuffle(shuffled_trainset)\n",
    "optimizer_trainset = shuffled_trainset[:OPTIMIZER_NUM_TRAIN]\n",
    "optimizer_valset = shuffled_trainset[OPTIMIZER_NUM_TRAIN:OPTIMIZER_NUM_TRAIN+OPTIMIZER_NUM_VAL]"
   ]
  },
  {
   "cell_type": "code",
   "execution_count": null,
   "metadata": {},
   "outputs": [],
   "source": [
    "# Initialize the optimizer\n",
    "bfrs_optimizer = BootstrapFewShotWithRandomSearch(\n",
    "    metric=metric,\n",
    "    max_bootstrapped_demos=MAX_BOOTSTRAPPED_DEMOS,\n",
    "    max_labeled_demos=MAX_LABELED_DEMOS,\n",
    "    num_candidate_programs=NUM_CANDIDATE_PROGRAMS,\n",
    "    num_threads=NUM_THREADS\n",
    ")"
   ]
  },
  {
   "cell_type": "code",
   "execution_count": null,
   "metadata": {},
   "outputs": [],
   "source": [
    "# We have added this flag to save you some compute and time while running the notebook\n",
    "COMPILE_PROGRAM = False\n",
    "\n",
    "# Compile the optimizer and evaluate\n",
    "with dspy.context(lm=llama_70b, rm=retriever):\n",
    "    vanilla_program = BasicMH()\n",
    "    if COMPILE_PROGRAM:\n",
    "        bfrs_base_program = bfrs_optimizer.compile(vanilla_program, trainset=optimizer_trainset, valset=optimizer_valset)\n",
    "        bfrs_base_program.save(f\"basicmh_70b_31_bfrs_{MAX_BOOTSTRAPPED_DEMOS}_{MAX_LABELED_DEMOS}_{NUM_CANDIDATE_PROGRAMS}.json\")\n",
    "    else:\n",
    "        bfrs_base_program = BasicMH()\n",
    "        bfrs_base_program.load(f\"basicmh_70b_31_bfrs_{MAX_BOOTSTRAPPED_DEMOS}_{MAX_LABELED_DEMOS}_{NUM_CANDIDATE_PROGRAMS}.json\")\n",
    "    \n",
    "    llama_70b_bfrs_eval = evaluate_devset(bfrs_base_program)"
   ]
  },
  {
   "cell_type": "code",
   "execution_count": null,
   "metadata": {},
   "outputs": [],
   "source": [
    "from dspy.teleprompt import MIPROv2\n",
    "\n",
    "eval_kwargs = dict(display_progress=True, display_table=0, num_threads=NUM_THREADS)\n",
    "teleprompter = MIPROv2(prompt_model=llama_70b, task_model=llama_70b, metric=metric, num_candidates=10, init_temperature=0.9, verbose=True)\n",
    "\n",
    "COMPILE_PROGRAM = False\n",
    "if COMPILE_PROGRAM:\n",
    "    with dspy.context(lm=llama_70b, rm=retriever):\n",
    "        compiled_program = teleprompter.compile(vanilla_program, trainset=optimizer_trainset, valset=optimizer_valset, num_batches=30, max_bootstrapped_demos=MAX_BOOTSTRAPPED_DEMOS,max_labeled_demos=MAX_LABELED_DEMOS, eval_kwargs=eval_kwargs, requires_permission_to_run=False)\n",
    "        compiled_program.save(f\"basicmh_70b_31_MIPROv2_{MAX_BOOTSTRAPPED_DEMOS}_{MAX_LABELED_DEMOS}.json\")\n",
    "else:\n",
    "    compiled_program = BasicMH()\n",
    "    compiled_program.load(f\"basicmh_70b_31_MIPROv2_{MAX_BOOTSTRAPPED_DEMOS}_{MAX_LABELED_DEMOS}.json\")\n",
    "\n",
    "# with dspy.context(lm=llama_70b, rm=retriever):\n",
    "#     llama_70b_mipro_eval = evaluate_devset(compiled_program)"
   ]
  },
  {
   "cell_type": "markdown",
   "metadata": {},
   "source": [
    "### Bootstrap Data\n",
    "\n",
    "\n",
    "In this section, we bootstrap data for fine-tuning. In the code block below, we are deciding which program should be used to collect the bootstraps. We are setting this to the prompt optimized program, but one could also set this to the vanilla program, though doing so would lead to lower quality bootstraps."
   ]
  },
  {
   "cell_type": "code",
   "execution_count": null,
   "metadata": {},
   "outputs": [],
   "source": [
    "bootstrap_program = bfrs_base_program"
   ]
  },
  {
   "cell_type": "markdown",
   "metadata": {},
   "source": [
    "We do something that kind of looks like rejection sampling here. For 3 rounds, we will run the model on the dataset and collect any \n",
    "examples that are solved. We then remove the solved examples from the dataset and repeat.\n",
    "\n",
    "In the [Large Language Monkeys paper](https://arxiv.org/pdf/2407.21787), they show that sampling up to 100 times can still get you a single correct answe in domains with ground truth or a verifier, so we can get away with this form of rejection sampling. Three rounds puts us at a decent spot on the curve of sampling up to N times. If we were in a domain where getting any correct answers was extremely hard, we may consider doing more rounds of sampling, but for now 3 rounds works.\n",
    "\n",
    "We did some experiments to see what the sampling curve looks like:\n",
    "\n",
    "<!-- ![Sampling Curve](./sampling_curve.png) -->\n",
    "<img src=\"./sampling_curve.png\" alt=\"Sampling Curve\" width=\"500\">"
   ]
  },
  {
   "cell_type": "code",
   "execution_count": 14,
   "metadata": {},
   "outputs": [],
   "source": [
    "TRAIN_SIZE = 1500\n",
    "EVAL_SIZE = int(TRAIN_SIZE/4)"
   ]
  },
  {
   "cell_type": "code",
   "execution_count": null,
   "metadata": {},
   "outputs": [],
   "source": [
    "from dspy.teleprompt.finetune_teleprompter import bootstrap_data, convert_to_module_level_prompt_completion_data, bootstrap_data_for_round\n",
    "import ujson\n",
    "\n",
    "# This should be moved inside the finetune_teleprompter class\n",
    "def write_data(program, data, filename):\n",
    "    print(\"Bootstrapping and writing data to\", filename)\n",
    "    correct_data = []\n",
    "    unsolved_examples = data.copy()\n",
    "    sampling_temperature = 0.902\n",
    "    sampling_temperature_delta = 0.0001\n",
    "    \n",
    "    for i in range(3):\n",
    "        if len(unsolved_examples) == 0:\n",
    "            break\n",
    "        data = bootstrap_data_for_round(program, unsolved_examples, metric=metric, num_threads=NUM_THREADS, sampling_round=i, sampling_temperature=sampling_temperature, sampling_temperature_delta=sampling_temperature_delta)\n",
    "        correct_data_round = [x for x in data if x[\"score\"]]\n",
    "        correct_examples_round = set([x[\"example\"] for x in correct_data_round])\n",
    "        print(f\"Round {i} complete. Solved {len(correct_data_round)} of {len(unsolved_examples)} examples. {len(unsolved_examples) - len(correct_examples_round)} examples remain unsolved.\")\n",
    "        unsolved_examples = [x for x in unsolved_examples if x not in correct_examples_round]\n",
    "\n",
    "        correct_data.extend(correct_data_round)\n",
    "        sampling_temperature += sampling_temperature_delta\n",
    "    \n",
    "    # Convert the data to prompt completion format\n",
    "    dataset = convert_to_module_level_prompt_completion_data(correct_data, program=program, exclude_demos=True)\n",
    "    \n",
    "    # Format the data for finetuning using the LM\n",
    "    print(\"Writing dataset with length\", len(dataset), \"to\", filename)\n",
    "    with open(filename, \"w\") as f:\n",
    "        ujson.dump(dataset, f)\n",
    "\n",
    "\n",
    "\n",
    "\n",
    "dataset_filenames = {f\"trainset_data_{TRAIN_SIZE}.json\": shuffled_trainset[:TRAIN_SIZE], f\"trainset_val_data_{EVAL_SIZE}.json\": shuffled_trainset[TRAIN_SIZE:TRAIN_SIZE+EVAL_SIZE]}\n",
    "\n",
    "dspy.settings.configure(experimental=True, lm=llama_70b, rm=retriever)\n",
    "\n",
    "WRITE_DATA = False\n",
    "if WRITE_DATA:\n",
    "    for filename, data in dataset_filenames.items():\n",
    "        write_data(bootstrap_program, data, filename)"
   ]
  },
  {
   "cell_type": "code",
   "execution_count": null,
   "metadata": {},
   "outputs": [],
   "source": [
    "# Let's look at an example prompt completion pair!\n",
    "with open(f\"trainset_data_{TRAIN_SIZE}.json\", \"r\") as f:\n",
    "    data_example = ujson.load(f)\n",
    "print(\"Example prompt:\")\n",
    "print(data_example[0]['prompt'])\n",
    "print(\"-\"*50,\"\\n\")\n",
    "print(\"Example completion:\")\n",
    "print(data_example[0]['completion'])\n",
    "print(\"-\"*50)"
   ]
  },
  {
   "cell_type": "markdown",
   "metadata": {},
   "source": [
    "Now you should kill your 70B vllm server so that you can use your GPUs for finetuning"
   ]
  },
  {
   "cell_type": "code",
   "execution_count": null,
   "metadata": {},
   "outputs": [],
   "source": [
    "# Press enter once you have killed the 70B vllm server\n",
    "input(\"Press Enter once you have killed the 70B vllm server (press Ctrl+C to kill)...\")"
   ]
  },
  {
   "cell_type": "markdown",
   "metadata": {},
   "source": [
    "# Fine-tuning\n",
    "\n",
    "We will use LLM Forge to fine-tune the 8B model.\n",
    "\n",
    "In order to do this, we need to format our data into the correct format (Follows OpenAI messaging format placed in a jsonl file).\n",
    "\n",
    "We initially saved the data into a json file in prompt-completion format.\n",
    "\n",
    "In order to prepare for finetuning, we need to do three steps:\n",
    "1. Format the data into the correct format and verify that the data is valid\n",
    "2. Upload the data to GCP\n",
    "3. Generate the compute configuration file\n",
    "\n",
    "After the compute configuration file is generated, we can submit the job to LLM Forge, using either the command line or using the anyscale jobs sdk.\n",
    "TODO: Add the anyscale jobs sdk submit method"
   ]
  },
  {
   "cell_type": "markdown",
   "metadata": {},
   "source": [
    "Be sure to checkout the fine-tuning documentation for the latest on how to use our [API](https://docs.anyscale.com/llms/finetuning/intro) and additional [capabilities](https://docs.anyscale.com/category/fine-tuning-beta/)."
   ]
  },
  {
   "cell_type": "code",
   "execution_count": 15,
   "metadata": {},
   "outputs": [
    {
     "name": "stdout",
     "output_type": "stream",
     "text": [
      "in multiopenai 0.0\n",
      "in multiopenai 0.0\n"
     ]
    }
   ],
   "source": [
    "student_llama_8b = dspy.TrainableAnyscale(model=\"meta-llama/Meta-Llama-3.1-8B-Instruct\")\n",
    "student_llama_1b = dspy.TrainableAnyscale(model=\"meta-llama/Llama-3.2-1B-Instruct\")\n"
   ]
  },
  {
   "cell_type": "markdown",
   "metadata": {},
   "source": [
    "TODO: All this should be moved into the TrainableAnyscaleLM class. You should instead just call a finetune method with your datasets, hparams, compute config"
   ]
  },
  {
   "cell_type": "code",
   "execution_count": 27,
   "metadata": {},
   "outputs": [
    {
     "name": "stdout",
     "output_type": "stream",
     "text": [
      "No errors found in the dataset format using the OpenAI API.\n"
     ]
    },
    {
     "name": "stdout",
     "output_type": "stream",
     "text": [
      "There are 2421 examples that are missing a system message.\n",
      "The charge for finetuning is determined by the number of epochs multiplied by the number of billing tokens in the dataset. Here are the stats for this training dataset:\n",
      "    num_billing_tokens: 1186690\n",
      "    n_epochs: 3\n",
      "    num_total_charge_tokens: 3560070\n",
      "No errors found in the dataset format using the OpenAI API.\n",
      "Number of items in train data: 2421\n",
      "Uploading train data to S3 at gs://storage-bucket-cld-tffbxe9ia5phqr1unxhz4f7e1e/org_4snvy99zwbmh4gbtk64jfqggmj/cld_tffbxe9ia5phqr1unxhz4f7e1e/artifact_storage/trainset_data_1500_formatted.jsonl\n"
     ]
    },
    {
     "name": "stderr",
     "output_type": "stream",
     "text": [
      "Copying file://trainset_data_1500_formatted.jsonl to gs://storage-bucket-cld-tffbxe9ia5phqr1unxhz4f7e1e/org_4snvy99zwbmh4gbtk64jfqggmj/cld_tffbxe9ia5phqr1unxhz4f7e1e/artifact_storage/trainset_data_1500_formatted.jsonl\n",
      "  \n",
      ".\n"
     ]
    },
    {
     "name": "stdout",
     "output_type": "stream",
     "text": [
      "Number of items in val data: 591\n",
      "Uploading val data to S3 at gs://storage-bucket-cld-tffbxe9ia5phqr1unxhz4f7e1e/org_4snvy99zwbmh4gbtk64jfqggmj/cld_tffbxe9ia5phqr1unxhz4f7e1e/artifact_storage/devset_data_375_formatted.jsonl\n"
     ]
    },
    {
     "name": "stderr",
     "output_type": "stream",
     "text": [
      "Copying file://devset_data_375_formatted.jsonl to gs://storage-bucket-cld-tffbxe9ia5phqr1unxhz4f7e1e/org_4snvy99zwbmh4gbtk64jfqggmj/cld_tffbxe9ia5phqr1unxhz4f7e1e/artifact_storage/devset_data_375_formatted.jsonl\n",
      "  \n",
      "\n"
     ]
    },
    {
     "name": "stdout",
     "output_type": "stream",
     "text": [
      "Using default yaml template for model: configs/training/lora/llama-3-8b.yaml\n",
      "{'model_id': 'meta-llama/Llama-3.2-1B-Instruct', 'train_path': 'gs://storage-bucket-cld-tffbxe9ia5phqr1unxhz4f7e1e/org_4snvy99zwbmh4gbtk64jfqggmj/cld_tffbxe9ia5phqr1unxhz4f7e1e/artifact_storage/trainset_data_1500_formatted.jsonl', 'valid_path': 'gs://storage-bucket-cld-tffbxe9ia5phqr1unxhz4f7e1e/org_4snvy99zwbmh4gbtk64jfqggmj/cld_tffbxe9ia5phqr1unxhz4f7e1e/artifact_storage/devset_data_375_formatted.jsonl', 'context_length': 512, 'num_devices': 4, 'num_epochs': 6, 'train_batch_size_per_device': 24, 'eval_batch_size_per_device': 16, 'learning_rate': 0.0001, 'padding': 'longest', 'num_checkpoints_to_keep': 10, 'dataset_size_scaling_factor': 10000, 'output_dir': '/mnt/local_storage', 'deepspeed': {'config_path': 'configs/deepspeed/zero_3_offload_optim+param.json'}, 'flash_attention_2': True, 'lora_config': {'r': 8, 'lora_alpha': 16, 'lora_dropout': 0.05, 'target_modules': ['q_proj', 'v_proj', 'k_proj', 'o_proj', 'gate_proj', 'up_proj', 'down_proj', 'embed_tokens', 'lm_head'], 'task_type': 'CAUSAL_LM', 'modules_to_save': [], 'bias': 'none', 'fan_in_fan_out': False, 'init_lora_weights': True}, 'generation_config': {'prompt_format': {'system': '<|start_header_id|>system<|end_header_id|>\\\\n\\\\n{instruction}<|eot_id|>', 'user': '<|start_header_id|>user<|end_header_id|>\\\\n{instruction}<|eot_id|>', 'assistant': '<|start_header_id|>assistant<|end_header_id|>\\\\n\\\\n{instruction}<|eot_id|>', 'trailing_assistant': '<|start_header_id|>assistant<|end_header_id|>\\\\n\\\\n', 'bos': '<|begin_of_text|>', 'system_in_user': False, 'default_system_message': ''}}, 'logger': {'provider': 'wandb'}}\n"
     ]
    }
   ],
   "source": [
    "from dsp.modules.lm import TrainingMethod\n",
    "\n",
    "train_path = f\"trainset_data_{TRAIN_SIZE}.json\"\n",
    "eval_path = f\"devset_data_{EVAL_SIZE}.json\"\n",
    "method = TrainingMethod.SFT\n",
    "kwargs = {\n",
    "    \"hyperparameters\": {\n",
    "        \"num_devices\": 4,\n",
    "        \"trainer_resources\": None,\n",
    "        \"worker_resources\": None,\n",
    "        \"generation_config\": {\n",
    "            \"prompt_format\": {\n",
    "                \"system\": \"<|start_header_id|>system<|end_header_id|>\\\\n\\\\n{instruction}<|eot_id|>\",\n",
    "                \"user\": \"<|start_header_id|>user<|end_header_id|>\\\\n{instruction}<|eot_id|>\",\n",
    "                \"assistant\": \"<|start_header_id|>assistant<|end_header_id|>\\\\n\\\\n{instruction}<|eot_id|>\",\n",
    "                \"trailing_assistant\": \"<|start_header_id|>assistant<|end_header_id|>\\\\n\\\\n\", # inference-only\n",
    "                \"bos\": \"<|begin_of_text|>\",\n",
    "                \"system_in_user\": False,\n",
    "                \"default_system_message\": \"\"\n",
    "            },\n",
    "        },\n",
    "        \"learning_rate\": 1e-4,\n",
    "        \"num_epochs\": 6,\n",
    "        \"train_batch_size_per_device\": 32\n",
    "    },\n",
    "    \"use_lora\": True\n",
    "}\n",
    "\n",
    "if method != TrainingMethod.SFT:\n",
    "    raise NotImplementedError(\"Only SFT training is supported at the moment.\")\n",
    "\n",
    "train_dataset = student_llama_1b._format_data_for_vanilla_finetuning(train_path)\n",
    "val_dataset = student_llama_1b._format_data_for_vanilla_finetuning(eval_path) if eval_path else None\n",
    "\n",
    "if not student_llama_1b._verify_datasets(train_dataset, val_dataset):\n",
    "    print(\"Unable to verify arguments\")\n",
    "    raise RuntimeError(\"Unable to verify argument\")\n",
    "\n",
    "# TODO: This should be a function inside the TrainableAnyscaleLM class\n",
    "formatted_paths = {}\n",
    "for path, dataset in [(train_path, train_dataset), (eval_path, val_dataset)]:\n",
    "    if not (path and dataset):\n",
    "        continue\n",
    "    formatted_path = path.split(\".\")[0] + \"_formatted.jsonl\"\n",
    "    with open(formatted_path, \"w\") as f:\n",
    "        for item in dataset:\n",
    "            f.write(ujson.dumps(item) + \"\\n\")\n",
    "\n",
    "    formatted_paths[path] = formatted_path\n",
    "\n",
    "# print(formatted_paths[train_path])\n",
    "remote_train_path, remote_eval_path = student_llama_1b._submit_data(train_path=formatted_paths[train_path], eval_path=formatted_paths[eval_path])\n",
    "compute_config_path, compute_config = student_llama_1b._generate_config_files(train_path=remote_train_path, eval_path=remote_eval_path, **kwargs)\n"
   ]
  },
  {
   "cell_type": "markdown",
   "metadata": {},
   "source": [
    "We'll fine-tune our LLM by choosing a set of configurations. We have created recipes for different LLMs in the [`training configs`](configs/training/lora/llama-3-8b.yaml) folder which can be used as is or modified for experiments. These configurations provide flexibility over a broad range of parameters such as model, data paths, compute to use for training, number of training epochs, how often to save checkpoints, padding, loss, etc. We also include several [DeepSpeed](https://github.com/microsoft/DeepSpeed) [configurations](configs/deepspeed/zero_3_offload_optim+param.json) to choose from for further optimizations around data/model parallelism, mixed precision, checkpointing, etc.\n",
    "\n",
    "We also have recipes for [LoRA](https://arxiv.org/abs/2106.09685) (where we train a set of small low ranked matrices instead of the original attention and feed forward layers) or full parameter fine-tuning. We recommend starting with LoRA as it's less resource intensive and quicker to train."
   ]
  },
  {
   "cell_type": "code",
   "execution_count": null,
   "metadata": {},
   "outputs": [],
   "source": [
    "# View the compute config\n",
    "print(\"Compute config:\", compute_config)"
   ]
  },
  {
   "cell_type": "code",
   "execution_count": 28,
   "metadata": {},
   "outputs": [
    {
     "name": "stderr",
     "output_type": "stream",
     "text": [
      "(anyscale +48m48.6s) Uploading local dir '.' to cloud storage.\n",
      "(anyscale +48m50.4s) Job 'dspy-llmforge-fine-tuning-job' submitted, ID: 'prodjob_85agx1hpyivr4psfahlwtmvxf3'.\n",
      "(anyscale +48m50.4s) View the job in the UI: https://console.anyscale.com/jobs/prodjob_85agx1hpyivr4psfahlwtmvxf3\n",
      "(anyscale +48m50.5s) Waiting for job 'prodjob_85agx1hpyivr4psfahlwtmvxf3' to reach target state SUCCEEDED, currently in state: STARTING\n",
      "(anyscale +52m26.3s) Job 'prodjob_85agx1hpyivr4psfahlwtmvxf3' transitioned from STARTING to RUNNING\n",
      "(anyscale +1h2m4.7s) Job 'prodjob_85agx1hpyivr4psfahlwtmvxf3' transitioned from RUNNING to SUCCEEDED\n",
      "(anyscale +1h2m4.7s) Job 'prodjob_85agx1hpyivr4psfahlwtmvxf3' reached target state, exiting\n"
     ]
    },
    {
     "name": "stdout",
     "output_type": "stream",
     "text": [
      "Job prodjob_85agx1hpyivr4psfahlwtmvxf3 succeeded!\n"
     ]
    }
   ],
   "source": [
    "import anyscale\n",
    "\n",
    "SKIP_FT = False\n",
    "if not SKIP_FT:\n",
    "    # TODO: Get job working with LLMForge\n",
    "    # prodjob_idbtjgp6lrggxsjas5snj1jiv2\n",
    "    job_id: str = anyscale.job.submit(\n",
    "        compute_config\n",
    "    )\n",
    "    anyscale.job.wait(id=job_id, timeout_s=18000)\n",
    "    print(f\"Job {job_id} succeeded!\")\n",
    "\n",
    "\n",
    "    # command = compute_config.entrypoint\n",
    "    # print(command)\n",
    "    # os.system(command)"
   ]
  },
  {
   "cell_type": "code",
   "execution_count": null,
   "metadata": {},
   "outputs": [],
   "source": [
    "# input(\"Press Enter once you have copied the path from the logs...\")"
   ]
  },
  {
   "cell_type": "code",
   "execution_count": 29,
   "metadata": {},
   "outputs": [],
   "source": [
    "def download_from_gcp_bucket(bucket_name, source_folder, destination_folder):\n",
    "    \"\"\"Downloads a folder from a GCP bucket to a local folder.\n",
    "\n",
    "    Args:\n",
    "        bucket_name (str): The name of the GCP bucket.\n",
    "        source_folder (str): The path to the folder in the bucket.\n",
    "        destination_folder (str): The local path where files should be saved.\n",
    "\n",
    "    Returns:\n",
    "        str: The path to the downloaded folder.\n",
    "    \"\"\"\n",
    "    import google.cloud.storage as storage\n",
    "    \n",
    "    storage_client = storage.Client()\n",
    "    bucket = storage_client.bucket(bucket_name)\n",
    "    blobs = bucket.list_blobs(prefix=source_folder)\n",
    "\n",
    "    for blob in blobs:\n",
    "        if blob.name.endswith('/'):\n",
    "            continue  # Skip directories\n",
    "        \n",
    "        relative_path = os.path.relpath(blob.name, source_folder)\n",
    "        local_file_path = os.path.join(destination_folder, relative_path)\n",
    "        \n",
    "        os.makedirs(os.path.dirname(local_file_path), exist_ok=True)\n",
    "        # only download if the file doesn't exist\n",
    "        if not os.path.exists(local_file_path):\n",
    "            blob.download_to_filename(local_file_path)\n",
    "            print(f\"Downloaded {blob.name} to {local_file_path}\")\n",
    "\n",
    "    print(f\"Folder {source_folder} downloaded to {destination_folder}.\")\n",
    "    return destination_folder"
   ]
  },
  {
   "cell_type": "code",
   "execution_count": 30,
   "metadata": {},
   "outputs": [
    {
     "name": "stdout",
     "output_type": "stream",
     "text": [
      "Downloaded org_4snvy99zwbmh4gbtk64jfqggmj/cld_tffbxe9ia5phqr1unxhz4f7e1e/artifact_storage/isaac__miller/llmforge-finetuning/meta-llama/Llama-3.2-1B-Instruct/TorchTrainer_2024-10-04_20-05-27/epochs-5-total-trained-steps-228/README.md to llama_1b_best_checkpoints_torchtrainer/README.md\n",
      "Downloaded org_4snvy99zwbmh4gbtk64jfqggmj/cld_tffbxe9ia5phqr1unxhz4f7e1e/artifact_storage/isaac__miller/llmforge-finetuning/meta-llama/Llama-3.2-1B-Instruct/TorchTrainer_2024-10-04_20-05-27/epochs-5-total-trained-steps-228/adapter_config.json to llama_1b_best_checkpoints_torchtrainer/adapter_config.json\n",
      "Downloaded org_4snvy99zwbmh4gbtk64jfqggmj/cld_tffbxe9ia5phqr1unxhz4f7e1e/artifact_storage/isaac__miller/llmforge-finetuning/meta-llama/Llama-3.2-1B-Instruct/TorchTrainer_2024-10-04_20-05-27/epochs-5-total-trained-steps-228/adapter_model.safetensors to llama_1b_best_checkpoints_torchtrainer/adapter_model.safetensors\n",
      "Downloaded org_4snvy99zwbmh4gbtk64jfqggmj/cld_tffbxe9ia5phqr1unxhz4f7e1e/artifact_storage/isaac__miller/llmforge-finetuning/meta-llama/Llama-3.2-1B-Instruct/TorchTrainer_2024-10-04_20-05-27/epochs-5-total-trained-steps-228/config.json to llama_1b_best_checkpoints_torchtrainer/config.json\n",
      "Downloaded org_4snvy99zwbmh4gbtk64jfqggmj/cld_tffbxe9ia5phqr1unxhz4f7e1e/artifact_storage/isaac__miller/llmforge-finetuning/meta-llama/Llama-3.2-1B-Instruct/TorchTrainer_2024-10-04_20-05-27/epochs-5-total-trained-steps-228/new_embeddings.safetensors to llama_1b_best_checkpoints_torchtrainer/new_embeddings.safetensors\n",
      "Downloaded org_4snvy99zwbmh4gbtk64jfqggmj/cld_tffbxe9ia5phqr1unxhz4f7e1e/artifact_storage/isaac__miller/llmforge-finetuning/meta-llama/Llama-3.2-1B-Instruct/TorchTrainer_2024-10-04_20-05-27/epochs-5-total-trained-steps-228/rayllm_generation_config.json to llama_1b_best_checkpoints_torchtrainer/rayllm_generation_config.json\n",
      "Downloaded org_4snvy99zwbmh4gbtk64jfqggmj/cld_tffbxe9ia5phqr1unxhz4f7e1e/artifact_storage/isaac__miller/llmforge-finetuning/meta-llama/Llama-3.2-1B-Instruct/TorchTrainer_2024-10-04_20-05-27/epochs-5-total-trained-steps-228/special_tokens_map.json to llama_1b_best_checkpoints_torchtrainer/special_tokens_map.json\n",
      "Downloaded org_4snvy99zwbmh4gbtk64jfqggmj/cld_tffbxe9ia5phqr1unxhz4f7e1e/artifact_storage/isaac__miller/llmforge-finetuning/meta-llama/Llama-3.2-1B-Instruct/TorchTrainer_2024-10-04_20-05-27/epochs-5-total-trained-steps-228/tokenizer.json to llama_1b_best_checkpoints_torchtrainer/tokenizer.json\n",
      "Downloaded org_4snvy99zwbmh4gbtk64jfqggmj/cld_tffbxe9ia5phqr1unxhz4f7e1e/artifact_storage/isaac__miller/llmforge-finetuning/meta-llama/Llama-3.2-1B-Instruct/TorchTrainer_2024-10-04_20-05-27/epochs-5-total-trained-steps-228/tokenizer_config.json to llama_1b_best_checkpoints_torchtrainer/tokenizer_config.json\n",
      "Folder org_4snvy99zwbmh4gbtk64jfqggmj/cld_tffbxe9ia5phqr1unxhz4f7e1e/artifact_storage/isaac__miller/llmforge-finetuning/meta-llama/Llama-3.2-1B-Instruct/TorchTrainer_2024-10-04_20-05-27/epochs-5-total-trained-steps-228 downloaded to llama_1b_best_checkpoints_torchtrainer.\n"
     ]
    },
    {
     "data": {
      "text/plain": [
       "'llama_1b_best_checkpoints_torchtrainer'"
      ]
     },
     "execution_count": 30,
     "metadata": {},
     "output_type": "execute_result"
    }
   ],
   "source": [
    "# I need to get all the checkpoints somehow\n",
    "# bucket: storage-bucket-cld-tffbxe9ia5phqr1unxhz4f7e1e and path: org_4snvy99zwbmh4gbtk64jfqggmj/cld_tffbxe9ia5phqr1unxhz4f7e1e/artifact_storage/lora_fine_tuning/meta-llama/Meta-Llama-3.1-8B-Instruct:isaac:vblcs\n",
    "\n",
    "# download_from_gcp_bucket(\"storage-bucket-cld-tffbxe9ia5phqr1unxhz4f7e1e\", \"org_4snvy99zwbmh4gbtk64jfqggmj/cld_tffbxe9ia5phqr1unxhz4f7e1e/artifact_storage/lora_fine_tuning/meta-llama/Meta-Llama-3.1-8B-Instruct:isaac:vblcs\", \"llama_8b_checkpoints\")\n",
    "\n",
    "# storage-bucket-cld-tffbxe9ia5phqr1unxhz4f7e1e/org_4snvy99zwbmh4gbtk64jfqggmj/cld_tffbxe9ia5phqr1unxhz4f7e1e/artifact_storage/isaac__miller/llmforge-finetuning/meta-llama/Meta-Llama-3.1-8B-Instruct/TorchTrainer_2024-09-26_17-26-38\n",
    "#storage-bucket-cld-tffbxe9ia5phqr1unxhz4f7e1e/org_4snvy99zwbmh4gbtk64jfqggmj/cld_tffbxe9ia5phqr1unxhz4f7e1e/artifact_storage/isaac__miller/llmforge-finetuning/meta-llama/Llama-3.2-1B-Instruct/TorchTrainer_2024-10-03_17-51-10/TorchTrainer_c043e_00000_0_2024-10-03_17-51-11\n",
    "# download_from_gcp_bucket(\"storage-bucket-cld-tffbxe9ia5phqr1unxhz4f7e1e\", \"org_4snvy99zwbmh4gbtk64jfqggmj/cld_tffbxe9ia5phqr1unxhz4f7e1e/artifact_storage/isaac__miller/llmforge-finetuning/meta-llama/Llama-3.2-1B-Instruct/TorchTrainer_2024-10-03_17-51-10\", \"llama_1b_checkpoints_torchtrainer\")\n",
    "# download_from_gcp_bucket(\"storage-bucket-cld-tffbxe9ia5phqr1unxhz4f7e1e\", \"org_4snvy99zwbmh4gbtk64jfqggmj/cld_tffbxe9ia5phqr1unxhz4f7e1e/artifact_storage/isaac__miller/llmforge-finetuning/meta-llama/Llama-3.2-1B-Instruct/TorchTrainer_2024-09-26_17-26-38\", \"llama_8b_checkpoints_torchtrainer\")\n",
    "\n",
    "\n",
    "# \"gs://storage-bucket-cld-tffbxe9ia5phqr1unxhz4f7e1e/org_4snvy99zwbmh4gbtk64jfqggmj/cld_tffbxe9ia5phqr1unxhz4f7e1e/artifact_storage/isaac__miller/llmforge-finetuning/meta-llama/Llama-3.2-1B-Instruct/TorchTrainer_2024-10-04_20-05-27/epochs-5-total-trained-steps-228\"\n",
    "download_from_gcp_bucket(\"storage-bucket-cld-tffbxe9ia5phqr1unxhz4f7e1e\", \"org_4snvy99zwbmh4gbtk64jfqggmj/cld_tffbxe9ia5phqr1unxhz4f7e1e/artifact_storage/isaac__miller/llmforge-finetuning/meta-llama/Llama-3.2-1B-Instruct/TorchTrainer_2024-10-04_20-05-27/epochs-5-total-trained-steps-228\", \"llama_1b_best_checkpoints_torchtrainer\")\n"
   ]
  },
  {
   "cell_type": "code",
   "execution_count": null,
   "metadata": {},
   "outputs": [],
   "source": [
    "# Lets sanity check the finetuned model. We need to download it first.\n",
    "# After the finetuning is complete, the logs will say something like \"Note: Best LoRA weights forwarded to gs://storage-bucket...\"\n",
    "# Update that link below with the correct path.\n",
    "if job_id:\n",
    "    model_info = anyscale.llm.model.get(job_id=job_id).to_dict()\n",
    "\n",
    "model_id = model_info[\"base_model_id\"] if job_id else \"meta-llama/Meta-Llama-3.1-8B-Instruct\"\n",
    "lora_source_path = model_info['storage_uri'] if job_id else \"\"\n",
    "\n",
    "# lora_source_path = \"gs://storage-bucket-cld-tffbxe9ia5phqr1unxhz4f7e1e/org_4snvy99zwbmh4gbtk64jfqggmj/cld_tffbxe9ia5phqr1unxhz4f7e1e/artifact_storage/lora_fine_tuning/meta-llama/Meta-Llama-3.1-8B-Instruct:isaac:yuxwd\""
   ]
  },
  {
   "cell_type": "code",
   "execution_count": null,
   "metadata": {},
   "outputs": [],
   "source": [
    "# # Parse the GCS path\n",
    "bucket_name = lora_source_path.split('/')[2]\n",
    "source_folder = '/'.join(lora_source_path.split('/')[3:])\n",
    "\n",
    "# Download the LoRA model folder locally\n",
    "local_lora_path = download_from_gcp_bucket(bucket_name, source_folder, \"/mnt/local_storage/dspy/mhqa-lora\")"
   ]
  },
  {
   "cell_type": "markdown",
   "metadata": {},
   "source": [
    "# Evaluation\n",
    "\n",
    "Throughout this section, anything using 8B model (or technically 70B too) should use the new evaluate with ray data batch offline(or technically online) inference.\n",
    "\n",
    "Probably worth testing offline with 8x8 threads vs just 64 threads to see if it makes a meaningful difference.\n",
    "\n",
    "## Performance comparisons\n",
    "\n",
    "- 70B\n",
    "- 70B BSFS\n",
    "- 8B\n",
    "- 8B BSFT\n",
    "- 8B BSFT + BSFS"
   ]
  },
  {
   "cell_type": "markdown",
   "metadata": {},
   "source": [
    "First, we need to serve the base model and tell VLLM where to find the LoRA weights\n",
    "\n",
    "Run the following command:\n",
    "\n",
    "```\n",
    "vllm serve meta-llama/Meta-Llama-3.1-8B-Instruct --port 8000 --pipeline_parallel_size 4 --enable_prefix_caching --enable_lora --lora_modules mhqa-lora=/mnt/local_storage/dspy/mhqa-lora\n",
    "```\n",
    "\n",
    "# Explanation:\n",
    "This command starts a VLLM server to serve the Meta-Llama-3-8B-Instruct model with LoRA fine-tuning.\n",
    "Here's a breakdown of the command:\n",
    "- 'vllm serve': Starts the VLLM server\n",
    "- 'meta-llama/Meta-Llama-3.1-8B-Instruct': Specifies the base model to use\n",
    "- '--port 8000': Sets the server port to 8000\n",
    "- '--pipeline_parallel_size 4': Enables pipeline parallelism with 4 stages\n",
    "- '--enable_prefix_caching': Enables caching of prefixes for faster inference\n",
    "- '--enable_lora': Enables LoRA (Low-Rank Adaptation) for fine-tuning\n",
    "- '--lora_modules mhqa-lora=/mnt/local_storage/dspy/mhqa-lora': Specifies the name of the LoRA module and the path to the LoRA weights. We use the name instead of the base model name when trying to use the LoRA weights. If we just use the base model name, the server will ignore the LoRA weights.\n",
    "\n",
    "This setup allows us to serve a fine-tuned version of the 8B model, which we'll use for subsequent evaluations."
   ]
  },
  {
   "cell_type": "code",
   "execution_count": 33,
   "metadata": {},
   "outputs": [
    {
     "data": {
      "text/plain": [
       "{'epochs-5-total-trained-steps-228': '/home/ray/default/templates/templates/e2e-dspy-workflow/llama_1b_best_checkpoints_torchtrainer/epochs-5-total-trained-steps-228'}"
      ]
     },
     "execution_count": 33,
     "metadata": {},
     "output_type": "execute_result"
    }
   ],
   "source": [
    "import os\n",
    "\n",
    "# All checkpoints are inside llama_8b_checkpoints_torchtrainer\n",
    "# get all folders inside llama_8b_checkpoints_torchtrainer\n",
    "# folders = os.listdir(\"llama_1b_best_checkpoints_torchtrainer\")\n",
    "# folders = [f for f in folders if os.path.isdir(os.path.join(\"llama_1b_best_checkpoints_torchtrainer\", f)) and f.startswith(\"epoch\")]\n",
    "\n",
    "# Get the current working directory\n",
    "current_working_path = os.getcwd()\n",
    "\n",
    "# folder_lora_location = {f: os.path.join(current_working_path, \"llama_1b_best_checkpoints_torchtrainer\", f) for f in folders}\n",
    "folder_lora_location = {f: os.path.join(current_working_path, \"llama_1b_best_checkpoints_torchtrainer\", f) for f in [\"epochs-5-total-trained-steps-228\"]}\n",
    "folder_lora_location"
   ]
  },
  {
   "cell_type": "code",
   "execution_count": 34,
   "metadata": {},
   "outputs": [
    {
     "name": "stdout",
     "output_type": "stream",
     "text": [
      "in multiopenai 0\n",
      "in multiopenai 0\n",
      "in multiopenai 0\n"
     ]
    }
   ],
   "source": [
    "# Command for easy copying: \n",
    "\n",
    "# `vllm serve meta-llama/Meta-Llama-3.1-8B-Instruct --port 8000 --pipeline_parallel_size 4 --enable_prefix_caching --enable_lora --lora_modules mhqa-lora=/mnt/local_storage/dspy/mhqa-lora`\n",
    "# LOCAL_API_PARAMETERS[\"api_base\"] = \"http://localhost:6942/v1\"\n",
    "llama_8b = dspy.MultiOpenAI(model=\"meta-llama/Meta-Llama-3.1-8B-Instruct\", **LOCAL_API_PARAMETERS, **MODEL_PARAMETERS)\n",
    "llama_1b = dspy.MultiOpenAI(model=\"meta-llama/Llama-3.2-1B-Instruct\", **LOCAL_API_PARAMETERS, **MODEL_PARAMETERS)\n",
    "# mhqa_llama_8b = dspy.MultiOpenAI(model=\"mhqa-lora\", **LOCAL_API_PARAMETERS, **MODEL_PARAMETERS)\n",
    "# llama_1b_lora = dspy.MultiOpenAI(model=\"llama-1b-lora\", **LOCAL_API_PARAMETERS, **MODEL_PARAMETERS)\n",
    "mhqa_finetuned_llamas_1b = {f: dspy.MultiOpenAI(model=f, **LOCAL_API_PARAMETERS, **MODEL_PARAMETERS) for f in folder_lora_location.keys()}"
   ]
  },
  {
   "cell_type": "code",
   "execution_count": 35,
   "metadata": {},
   "outputs": [
    {
     "name": "stdout",
     "output_type": "stream",
     "text": [
      "vllm serve meta-llama/Llama-3.2-1B-Instruct --port 8000 --pipeline_parallel_size 4 --enable_prefix_caching --enable_lora --lora_modules epochs-5-total-trained-steps-228=/home/ray/default/templates/templates/e2e-dspy-workflow/llama_1b_best_checkpoints_torchtrainer/epochs-5-total-trained-steps-228\n"
     ]
    }
   ],
   "source": [
    "# Lets dynamically generate a vllm command that will load all the models\n",
    "# base = \"vllm serve meta-llama/Meta-Llama-3.1-8B-Instruct --port 8000 --pipeline_parallel_size 4 --enable_prefix_caching --enable_lora --lora_modules\"\n",
    "\n",
    "base = \"vllm serve meta-llama/Llama-3.2-1B-Instruct --port 8000 --pipeline_parallel_size 4 --enable_prefix_caching --enable_lora --lora_modules\"\n",
    "for folder, path in folder_lora_location.items():\n",
    "    base += f\" {folder}={path}\"\n",
    "print(base)"
   ]
  },
  {
   "cell_type": "code",
   "execution_count": 37,
   "metadata": {},
   "outputs": [
    {
     "name": "stdout",
     "output_type": "stream",
     "text": [
      "Evaluating the vanilla program on the devset using the model to be trained (epochs-5-total-trained-steps-228)...\n"
     ]
    },
    {
     "name": "stderr",
     "output_type": "stream",
     "text": [
      "Average Metric: 213 / 1500  (14.2): 100%|██████████| 1500/1500 [14:01<00:00,  1.78it/s]\n"
     ]
    },
    {
     "name": "stdout",
     "output_type": "stream",
     "text": [
      "result for epochs-5-total-trained-steps-228: 14.2\n"
     ]
    }
   ],
   "source": [
    "for folder, llama in mhqa_finetuned_llamas_1b.items():\n",
    "    with dspy.context(lm=llama, rm=retriever):\n",
    "        print(f\"Evaluating the vanilla program on the devset using the model to be trained ({folder})...\")\n",
    "        eval_result = evaluate_devset(vanilla_program)\n",
    "        print(f\"result for {folder}: {eval_result}\")"
   ]
  },
  {
   "cell_type": "markdown",
   "metadata": {},
   "source": [
    "Now let's try optimizing the program with the finetuned model"
   ]
  },
  {
   "cell_type": "code",
   "execution_count": null,
   "metadata": {},
   "outputs": [],
   "source": [
    "mhqa_finetuned_llamas_1b.values()[0].inspect_history()"
   ]
  },
  {
   "cell_type": "code",
   "execution_count": null,
   "metadata": {},
   "outputs": [],
   "source": [
    "COMPILE_PROGRAM = True\n",
    "\n",
    "# best_finetune = \"epochs-3-total-trained-steps-152\"\n",
    "# print(f\"Best finetune: {best_finetune}\")\n",
    "\n",
    "with dspy.context(lm=mhqa_finetuned_llamas_1b.values()[0], rm=retriever):\n",
    "    vanilla_program = BasicMH()\n",
    "    if COMPILE_PROGRAM:\n",
    "        bfrs_finetuned_program = bfrs_optimizer.compile(vanilla_program, trainset=optimizer_trainset, valset=optimizer_valset)\n",
    "        bfrs_finetuned_program.save(f\"basicmh_1b_32_ft_bfrs_{MAX_BOOTSTRAPPED_DEMOS}_{MAX_LABELED_DEMOS}_{NUM_CANDIDATE_PROGRAMS}_{best_finetune}.json\")\n",
    "    else:\n",
    "        bfrs_finetuned_program = BasicMH()\n",
    "        bfrs_finetuned_program.load(f\"basicmh_1b_32_ft_bfrs_{MAX_BOOTSTRAPPED_DEMOS}_{MAX_LABELED_DEMOS}_{NUM_CANDIDATE_PROGRAMS}_{best_finetune}.json\")\n",
    "    llama_1b_bfrs_finetuned_eval = evaluate_devset(bfrs_finetuned_program)"
   ]
  },
  {
   "cell_type": "code",
   "execution_count": null,
   "metadata": {},
   "outputs": [],
   "source": [
    "COMPILE_PROGRAM = True\n",
    "with dspy.context(lm=mhqa_llama_8b, rm=retriever):\n",
    "    vanilla_program = BasicMH()\n",
    "    if COMPILE_PROGRAM:\n",
    "        teleprompter = MIPROv2(prompt_model=llama_8b, task_model=mhqa_llama_8b, metric=metric, num_candidates=10, init_temperature=0.9, verbose=True)\n",
    "        compiled_program = teleprompter.compile(vanilla_program, trainset=optimizer_trainset, valset=optimizer_valset, num_batches=30, max_bootstrapped_demos=MAX_BOOTSTRAPPED_DEMOS,max_labeled_demos=MAX_LABELED_DEMOS, eval_kwargs=eval_kwargs, requires_permission_to_run=False)\n",
    "        compiled_program.save(f\"basicmh_8b_ft_MIPROv2_{MAX_BOOTSTRAPPED_DEMOS}_{MAX_LABELED_DEMOS}.json\")\n",
    "    else:\n",
    "        compiled_program = BasicMH()\n",
    "        compiled_program.load(f\"basicmh_8b_ft_MIPROv2_{MAX_BOOTSTRAPPED_DEMOS}_{MAX_LABELED_DEMOS}.json\")\n",
    "    llama_8b_ft_mipro_eval = evaluate_devset(compiled_program)"
   ]
  },
  {
   "cell_type": "markdown",
   "metadata": {},
   "source": [
    "Lastly, lets give the base 8B model a fair chance by prompt optimizing it."
   ]
  },
  {
   "cell_type": "code",
   "execution_count": null,
   "metadata": {},
   "outputs": [],
   "source": [
    "COMPILE_PROGRAM = True\n",
    "\n",
    "with dspy.context(lm=llama_1b, rm=retriever):\n",
    "    vanilla_program = BasicMH()\n",
    "    if COMPILE_PROGRAM:\n",
    "        bfrs_program = bfrs_optimizer.compile(vanilla_program, trainset=optimizer_trainset, valset=optimizer_valset)\n",
    "        bfrs_program.save(f\"basicmh_1b_31_bfrs_{MAX_BOOTSTRAPPED_DEMOS}_{MAX_LABELED_DEMOS}_{NUM_CANDIDATE_PROGRAMS}.json\")\n",
    "    else:\n",
    "        bfrs_program = BasicMH()\n",
    "        bfrs_program.load(f\"basicmh_1b_31_bfrs_{MAX_BOOTSTRAPPED_DEMOS}_{MAX_LABELED_DEMOS}_{NUM_CANDIDATE_PROGRAMS}.json\")\n",
    "    llama_1b_bfrs_eval = evaluate_devset(bfrs_program)"
   ]
  },
  {
   "cell_type": "code",
   "execution_count": null,
   "metadata": {},
   "outputs": [],
   "source": [
    "# Now we can compare all iterations of this pipeline\n",
    "print(f\"Results for HotPotQA fine-tuning LLaMa 8B with a starting trainset\")\n",
    "print(f\"    70B model (vanilla program): {llama_70b_base_eval}\")\n",
    "print(f\"    70B model (bfrs program): {llama_70b_bfrs_eval}\")\n",
    "print(f\"    8B model (vanilla program): {vanilla_8b_base_eval}\")\n",
    "print(f\"    8B model (bfrs program): {llama_8b_bfrs_eval}\")\n",
    "print(f\"    8B model (finetuned program): {llama_8b_finetuned_eval}\")\n",
    "print(f\"    8B model (finetuned bfrs program): {llama_8b_bfrs_finetuned_eval}\")\n",
    "print(f\"    8B model (finetuned mipro program): {llama_8b_ft_mipro_eval}\")"
   ]
  },
  {
   "cell_type": "markdown",
   "metadata": {},
   "source": [
    "TODO: Let's now use the new offline batch inference to evaluate the finetuned model with optimized program on the entire devset"
   ]
  },
  {
   "cell_type": "code",
   "execution_count": null,
   "metadata": {},
   "outputs": [],
   "source": [
    "# TODO: implement once done"
   ]
  },
  {
   "cell_type": "code",
   "execution_count": null,
   "metadata": {},
   "outputs": [],
   "source": [
    "raise NotImplementedError(\"Stop here\")"
   ]
  },
  {
   "cell_type": "markdown",
   "metadata": {},
   "source": [
    "# Serving\n",
    "\n",
    "This is the second biggest unknown\n",
    "I imagine it to be easy, but crazier things have happened\n",
    "\n",
    "I need to keep a reference or link to the LLM forge job inside the LM.finetune method"
   ]
  },
  {
   "cell_type": "markdown",
   "metadata": {},
   "source": [
    "how do I get the ray llm image!\n",
    "\n",
    "We'll start by running the rayllm CLI command below to start the workflow to generate the service yaml configuration:\n",
    "```bash\n",
    "mkdir /home/ray/default/deploy/services\n",
    "cd /home/ray/default/deploy/services\n",
    "rayllm gen-config \n",
    "```\n",
    "\n",
    "<img src=\"assets/cli.png\" width=500 alt=\"todo! get this inage of what I need to serve\">\n"
   ]
  },
  {
   "cell_type": "markdown",
   "metadata": {},
   "source": [
    "## Batch offline inference\n",
    "- Compare running inference using \n",
    "    - Ray Data \n",
    "    - multithreading on local VLLM thru HTTP\n",
    "    - Multithreading to Ray Serve instance thru HTTP\n",
    "- Dev time estimate: 7 days"
   ]
  },
  {
   "cell_type": "markdown",
   "metadata": {},
   "source": []
  },
  {
   "cell_type": "markdown",
   "metadata": {},
   "source": [
    "<b style=\"background-color: yellow;\">&nbsp;🛑 IMPORTANT&nbsp;</b>: Please `Terminate` your service from the Service page to avoid depleting your free trial credits."
   ]
  },
  {
   "cell_type": "code",
   "execution_count": null,
   "metadata": {},
   "outputs": [],
   "source": [
    "# Clean up\n",
    "!python src/clear_cell_nums.py\n",
    "!find . | grep -E \".ipynb_checkpoints\" | xargs rm -rf\n",
    "!find . | grep -E \"(__pycache__|\\.pyc|\\.pyo)\" | xargs rm -rf\n",
    "!rm -rf __pycache__ data .HF_TOKEN deploy/services"
   ]
  }
 ],
 "metadata": {
  "kernelspec": {
   "display_name": "base",
   "language": "python",
   "name": "python3"
  },
  "language_info": {
   "codemirror_mode": {
    "name": "ipython",
    "version": 3
   },
   "file_extension": ".py",
   "mimetype": "text/x-python",
   "name": "python",
   "nbconvert_exporter": "python",
   "pygments_lexer": "ipython3",
   "version": "3.9.19"
  }
 },
 "nbformat": 4,
 "nbformat_minor": 2
}
