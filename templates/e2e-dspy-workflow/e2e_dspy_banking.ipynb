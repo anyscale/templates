{
 "cells": [
  {
   "cell_type": "markdown",
   "metadata": {},
   "source": [
    "# End-to-end DSPy Workflows Guide "
   ]
  },
  {
   "cell_type": "markdown",
   "metadata": {},
   "source": [
    "# TODO: Motivation - have this problem and going to solve it with dspy and that is why we believe ti is the right solution\n",
    "\n",
    "This guide will cover the following topics:\n",
    "\n",
    "## Creating a Multi-stage LLM Pipeline\n",
    "- Building a pipeline with an untuned model in DSPy\n",
    "- Implementing batch inference (using Ray data)\n",
    "\n",
    "## Improving the Pipeline\n",
    "1. Prompt optimization\n",
    "2. Fine-tuning\n",
    "    - How to make an 8B model perform almost as well as a 70B model in your pipeline\n",
    "3. Combining fine-tuning with prompt optimization\n",
    "\n",
    "## Deployment\n",
    "- Steps to deploy the optimized pipeline and fine-tuned model to production\n",
    "\n",
    "## Future Work and Open Questions\n",
    "- Efficient batch inference with a DSPy pipeline\n",
    "- Exploring different fine-tuning methods and hyperparameter sweeps\n",
    "\n",
    "This guide aims to provide a comprehensive overview of building, optimizing, and deploying LLM pipelines using DSPy and Anyscale."
   ]
  },
  {
   "cell_type": "markdown",
   "metadata": {},
   "source": [
    "## Set up"
   ]
  },
  {
   "cell_type": "markdown",
   "metadata": {},
   "source": [
    "Node Set up:\n",
    "\n",
    "We will be running everything on a head node that uses 4xA100-80GB GPUs. I find that L4s are usually available and suitable for this usecase. You can also use any more powerful node.\n",
    "\n",
    "To change to use A100 GPUs, click the \"1 active node\" in the top right corner, then for workspace node, click the pencil icon and navigate to the A100 tab and select the 4xA100 option. If you do not see A100 in the list of GPUs, they may not be available on your cloud. Choose another kind of GPU (This notebook has been tested on X, and Y as alternatives) (TODO)"
   ]
  },
  {
   "cell_type": "code",
   "execution_count": 1,
   "metadata": {},
   "outputs": [],
   "source": [
    "%load_ext autoreload\n",
    "%autoreload 2"
   ]
  },
  {
   "cell_type": "code",
   "execution_count": 2,
   "metadata": {},
   "outputs": [],
   "source": [
    "# TODO(work): DSPy installation cell\n",
    "# TODO(decision): are these changes going to be merged into DSPy main\n",
    "\n",
    "# TODO: look at my own init file to see all the stupid extra pip installs\n",
    "\n",
    "# !pip install -e dspy-d\n",
    "# !pip install -r dspy-d/requirements.txt\n",
    "# !pip install vllm\n",
    "\n",
    "# ignore future warnings\n",
    "import warnings\n",
    "warnings.filterwarnings(\"ignore\", category=FutureWarning)"
   ]
  },
  {
   "cell_type": "code",
   "execution_count": 3,
   "metadata": {},
   "outputs": [
    {
     "data": {
      "text/plain": [
       "True"
      ]
     },
     "execution_count": 3,
     "metadata": {},
     "output_type": "execute_result"
    }
   ],
   "source": [
    "import dspy\n",
    "import dsp\n",
    "import os\n",
    "import ujson\n",
    "\n",
    "from dotenv import load_dotenv\n",
    "# TODO: include cache in notebook\n",
    "cache_dir = \"/home/ray/default/dspy/cache\"\n",
    "if not os.path.exists(cache_dir):\n",
    "    os.makedirs(cache_dir)\n",
    "# I have included a .env.example with the necessary environment variables to be set\n",
    "# You can also set them manually if you prefer\n",
    "\n",
    "os.environ[\"DSP_CACHEDIR\"] = cache_dir\n",
    "\n",
    "load_dotenv()"
   ]
  },
  {
   "cell_type": "code",
   "execution_count": 4,
   "metadata": {},
   "outputs": [],
   "source": [
    "necessary_env_vars = [\n",
    "    \"DSP_CACHEDIR\",\n",
    "    \"HF_TOKEN\",\n",
    "    \"HF_HOME\"\n",
    "]\n",
    "\n",
    "for var in necessary_env_vars:\n",
    "    assert os.environ[var], f\"{var} is not set\""
   ]
  },
  {
   "cell_type": "code",
   "execution_count": 5,
   "metadata": {},
   "outputs": [
    {
     "name": "stderr",
     "output_type": "stream",
     "text": [
      "2024-10-06 19:49:41,735\tINFO worker.py:1601 -- Connecting to existing Ray cluster at address: 10.0.0.47:6379...\n",
      "2024-10-06 19:49:41,744\tINFO worker.py:1777 -- Connected to Ray cluster. View the dashboard at https://session-fkvdirx4bzefi53sjl55m7asad.i.anyscaleuserdata.com \n",
      "2024-10-06 19:49:42,234\tINFO packaging.py:359 -- Pushing file package 'gcs://_ray_pkg_5254ef6a9825beb5c0b4b455fdc324938dc98c21.zip' (166.87MiB) to Ray cluster...\n",
      "2024-10-06 19:49:44,081\tINFO packaging.py:372 -- Successfully pushed file package 'gcs://_ray_pkg_5254ef6a9825beb5c0b4b455fdc324938dc98c21.zip'.\n"
     ]
    }
   ],
   "source": [
    "import ray\n",
    "\n",
    "if not ray.is_initialized():\n",
    "    ray.init(runtime_env={\"env_vars\": os.environ, \"py_modules\": [dspy, dsp]})"
   ]
  },
  {
   "cell_type": "markdown",
   "metadata": {},
   "source": [
    "We will make use of a random number generator in this notebook. We are creating a Random object here to ensure that our notebook is reproducible."
   ]
  },
  {
   "cell_type": "code",
   "execution_count": 6,
   "metadata": {},
   "outputs": [],
   "source": [
    "import random\n",
    "\n",
    "rng = random.Random()"
   ]
  },
  {
   "cell_type": "markdown",
   "metadata": {},
   "source": [
    "# Creating your multi-stage LLM pipeline"
   ]
  },
  {
   "cell_type": "code",
   "execution_count": 7,
   "metadata": {},
   "outputs": [],
   "source": [
    "from dspy.datasets import HotPotQA\n",
    "from dspy.evaluate import Evaluate\n",
    "from dsp.utils.utils import deduplicate\n",
    "\n",
    "\n",
    "# We are setting the experimental flag to True to make use of the fine-tuning\n",
    "# features that are still in development.\n",
    "dspy.settings.configure(experimental=True)\n",
    "\n",
    "class IntentExtraction(dspy.Signature):\n",
    "    \"\"\"Extract the intent of a natural language query.\"\"\"\n",
    "\n",
    "    text = dspy.InputField(desc=\"Natural language query\")\n",
    "    intent = dspy.OutputField(desc=\"Intent of the query\")\n",
    "\n",
    "class IntentClassification(dspy.Signature):\n",
    "    \"\"\"Classify the intent of a natural language query.\n",
    "    The intent should exactly match one of the following:\n",
    "    ['activate_my_card', 'balance_not_updated_after_bank_transfer', 'balance_not_updated_after_cheque_or_cash_deposit', 'beneficiary_not_allowed', 'cancel_transfer', 'card_arrival', 'card_payment_fee_charged', 'card_payment_not_recognised', 'card_payment_wrong_exchange_rate', 'cash_withdrawal_charge', 'cash_withdrawal_not_recognised', 'declined_card_payment', 'declined_cash_withdrawal', 'direct_debit_payment_not_recognised', 'extra_charge_on_statement', 'pending_card_payment', 'pending_top_up', 'Refund_not_showing_up', 'request_refund', 'reverted_card_payment', 'transaction_charged_twice', 'transfer_fee_charged', 'transfer_not_received_by_recipient', 'wrong_amount_of_cash_received', 'wrong_exchange_rate_for_cash_withdrawal']\n",
    "    \"\"\"\n",
    "\n",
    "    intent = dspy.InputField(desc=\"Intent of the query\")\n",
    "    label = dspy.OutputField(desc=\"Type of the intent; Should just be one of the 25 labels with no other text\")\n",
    "\n",
    "\n",
    "class UnifiedIntentClassification(dspy.Signature):\n",
    "    \"\"\"Classify the intent of a natural language query.\n",
    "    The intent should exactly match one of the following:\n",
    "    ['activate_my_card', 'balance_not_updated_after_bank_transfer', 'balance_not_updated_after_cheque_or_cash_deposit', 'beneficiary_not_allowed', 'cancel_transfer', 'card_arrival', 'card_payment_fee_charged', 'card_payment_not_recognised', 'card_payment_wrong_exchange_rate', 'cash_withdrawal_charge', 'cash_withdrawal_not_recognised', 'declined_card_payment', 'declined_cash_withdrawal', 'direct_debit_payment_not_recognised', 'extra_charge_on_statement', 'pending_card_payment', 'pending_top_up', 'Refund_not_showing_up', 'request_refund', 'reverted_card_payment', 'transaction_charged_twice', 'transfer_fee_charged', 'transfer_not_received_by_recipient', 'wrong_amount_of_cash_received', 'wrong_exchange_rate_for_cash_withdrawal']\n",
    "    \"\"\"\n",
    "\n",
    "    text = dspy.InputField(desc=\"Natural language query\")\n",
    "    description = dspy.OutputField(desc=\"Description of the intent; Should be 4-5 words of what the user wants\")\n",
    "    label = dspy.OutputField(desc=\"Type of the intent; Should just be one of the 25 labels with no other text\")\n",
    "\n",
    "class SimpleIntentClassificationModule(dspy.Module):\n",
    "    def __init__(self):\n",
    "        self.intent_classifier = dspy.ChainOfThought(IntentClassification)\n",
    "\n",
    "    def forward(self, text):\n",
    "        prediction = self.intent_classifier(intent=text)\n",
    "        sanitized_prediction = dspy.Prediction(label=prediction.label.lower().strip().replace(\" \", \"_\"))\n",
    "        return sanitized_prediction\n",
    "\n"
   ]
  },
  {
   "cell_type": "markdown",
   "metadata": {},
   "source": [
    "# Let's break down the Text to SQL program"
   ]
  },
  {
   "cell_type": "markdown",
   "metadata": {},
   "source": [
    "Below we load the dataset using a built in `HotPotQA` dataset class from DSPy.\n",
    "\n",
    "We set the `train_seed` and `eval_seed` to `0` for reproducibility and the `test_size` to `0` because we do not need a test set for this tutorial."
   ]
  },
  {
   "cell_type": "code",
   "execution_count": 8,
   "metadata": {},
   "outputs": [
    {
     "name": "stdout",
     "output_type": "stream",
     "text": [
      "Counter({15: 187, 28: 182, 6: 181, 75: 180, 19: 177, 63: 175, 26: 173, 64: 172, 66: 171, 5: 171, 52: 169, 16: 168, 17: 167, 34: 166, 76: 163, 51: 162, 53: 161, 20: 160, 45: 159, 0: 159, 8: 157, 7: 156, 11: 153, 25: 153, 47: 149, 48: 148, 61: 146, 59: 145, 46: 143, 13: 139, 35: 137, 73: 135, 27: 133, 54: 129, 39: 129, 9: 129, 24: 129, 67: 128, 4: 127, 36: 126, 71: 126, 2: 126, 21: 122, 30: 121, 74: 121, 29: 121, 42: 121, 31: 121, 43: 120, 33: 118, 49: 115, 58: 114, 57: 114, 70: 113, 65: 113, 32: 112, 12: 112, 14: 112, 56: 111, 1: 110, 55: 108, 38: 106, 44: 105, 69: 104, 62: 103, 68: 102, 40: 98, 60: 97, 37: 97, 50: 95, 3: 87, 22: 86, 41: 82, 18: 61, 10: 59, 72: 41, 23: 35})\n",
      "Dataset filtered to top 25 labels. New sizes:\n",
      "Training set: 4171\n",
      "Test set: 1000\n",
      "Top 25 labels: 0, 5, 6, 7, 8, 11, 15, 16, 17, 19, 20, 25, 26, 28, 34, 45, 47, 51, 52, 53, 63, 64, 66, 75, 76\n"
     ]
    }
   ],
   "source": [
    "# Prepare the dataset\n",
    "from dspy.datasets import DataLoader\n",
    "\n",
    "dl = DataLoader()\n",
    "full_trainset = dl.from_huggingface(\n",
    "    dataset_name=\"PolyAI/banking77\", # Dataset name from Huggingface\n",
    "    fields=(\"label\", \"text\"), # Fields needed\n",
    "    input_keys=(\"text\",), # What our model expects to recieve to generate an output\n",
    "    split=\"train\"\n",
    ")\n",
    "\n",
    "full_testset = dl.from_huggingface(\n",
    "    dataset_name=\"PolyAI/banking77\", # Dataset name from Huggingface\n",
    "    fields=(\"label\", \"text\"), # Fields needed\n",
    "    input_keys=(\"text\",), # What our model expects to recieve to generate an output\n",
    "    split=\"test\"\n",
    ")\n",
    "\n",
    "# Find the 15 most common class labels\n",
    "from collections import Counter\n",
    "\n",
    "# Count occurrences of each label\n",
    "label_counts = Counter(example['label'] for example in full_trainset)\n",
    "print(label_counts)\n",
    "\n",
    "# Get the 15 most common labels\n",
    "top_25_labels = set([label for label, _ in label_counts.most_common(25)])\n",
    "\n",
    "# Filter the datasets to only include examples with the top 15 labels\n",
    "full_trainset_filtered = [example for example in full_trainset if example['label'] in top_25_labels]\n",
    "full_testset_filtered = [example for example in full_testset if example['label'] in top_25_labels]\n",
    "\n",
    "# Replace the original datasets with the filtered versions\n",
    "full_trainset = full_trainset_filtered\n",
    "full_testset = full_testset_filtered\n",
    "\n",
    "print(f\"Dataset filtered to top 25 labels. New sizes:\")\n",
    "print(f\"Training set: {len(full_trainset)}\")\n",
    "print(f\"Test set: {len(full_testset)}\")\n",
    "print(f\"Top 25 labels: {', '.join(str(label) for label in top_25_labels)}\")\n",
    "\n",
    "\n",
    "TRAIN_SIZE = 2000\n",
    "DEV_SIZE = 1000\n",
    "trainset = full_trainset[:TRAIN_SIZE]\n",
    "devset = full_trainset[TRAIN_SIZE:TRAIN_SIZE+DEV_SIZE]\n",
    "testset = full_testset"
   ]
  },
  {
   "cell_type": "code",
   "execution_count": 9,
   "metadata": {},
   "outputs": [],
   "source": [
    "int_to_label_dict = {\n",
    "    0: \"activate_my_card\",\n",
    "    1: \"age_limit\",\n",
    "    2: \"apple_pay_or_google_pay\",\n",
    "    3: \"atm_support\",\n",
    "    4: \"automatic_top_up\",\n",
    "    5: \"balance_not_updated_after_bank_transfer\",\n",
    "    6: \"balance_not_updated_after_cheque_or_cash_deposit\",\n",
    "    7: \"beneficiary_not_allowed\",\n",
    "    8: \"cancel_transfer\",\n",
    "    9: \"card_about_to_expire\",\n",
    "    10: \"card_acceptance\",\n",
    "    11: \"card_arrival\",\n",
    "    12: \"card_delivery_estimate\",\n",
    "    13: \"card_linking\",\n",
    "    14: \"card_not_working\",\n",
    "    15: \"card_payment_fee_charged\",\n",
    "    16: \"card_payment_not_recognised\",\n",
    "    17: \"card_payment_wrong_exchange_rate\",\n",
    "    18: \"card_swallowed\",\n",
    "    19: \"cash_withdrawal_charge\",\n",
    "    20: \"cash_withdrawal_not_recognised\",\n",
    "    21: \"change_pin\",\n",
    "    22: \"compromised_card\",\n",
    "    23: \"contactless_not_working\",\n",
    "    24: \"country_support\",\n",
    "    25: \"declined_card_payment\",\n",
    "    26: \"declined_cash_withdrawal\",\n",
    "    27: \"declined_transfer\",\n",
    "    28: \"direct_debit_payment_not_recognised\",\n",
    "    29: \"disposable_card_limits\",\n",
    "    30: \"edit_personal_details\",\n",
    "    31: \"exchange_charge\",\n",
    "    32: \"exchange_rate\",\n",
    "    33: \"exchange_via_app\",\n",
    "    34: \"extra_charge_on_statement\",\n",
    "    35: \"failed_transfer\",\n",
    "    36: \"fiat_currency_support\",\n",
    "    37: \"get_disposable_virtual_card\",\n",
    "    38: \"get_physical_card\",\n",
    "    39: \"getting_spare_card\",\n",
    "    40: \"getting_virtual_card\",\n",
    "    41: \"lost_or_stolen_card\",\n",
    "    42: \"lost_or_stolen_phone\",\n",
    "    43: \"order_physical_card\",\n",
    "    44: \"passcode_forgotten\",\n",
    "    45: \"pending_card_payment\",\n",
    "    46: \"pending_cash_withdrawal\",\n",
    "    47: \"pending_top_up\",\n",
    "    48: \"pending_transfer\",\n",
    "    49: \"pin_blocked\",\n",
    "    50: \"receiving_money\",\n",
    "    51: \"Refund_not_showing_up\",\n",
    "    52: \"request_refund\",\n",
    "    53: \"reverted_card_payment\",\n",
    "    54: \"supported_cards_and_currencies\",\n",
    "    55: \"terminate_account\",\n",
    "    56: \"top_up_by_bank_transfer_charge\",\n",
    "    57: \"top_up_by_card_charge\",\n",
    "    58: \"top_up_by_cash_or_cheque\",\n",
    "    59: \"top_up_failed\",\n",
    "    60: \"top_up_limits\",\n",
    "    61: \"top_up_reverted\",\n",
    "    62: \"topping_up_by_card\",\n",
    "    63: \"transaction_charged_twice\",\n",
    "    64: \"transfer_fee_charged\",\n",
    "    65: \"transfer_into_account\",\n",
    "    66: \"transfer_not_received_by_recipient\",\n",
    "    67: \"transfer_timing\",\n",
    "    68: \"unable_to_verify_identity\",\n",
    "    69: \"verify_my_identity\",\n",
    "    70: \"verify_source_of_funds\",\n",
    "    71: \"verify_top_up\",\n",
    "    72: \"virtual_card_not_working\",\n",
    "    73: \"visa_or_mastercard\",\n",
    "    74: \"why_verify_identity\",\n",
    "    75: \"wrong_amount_of_cash_received\",\n",
    "    76: \"wrong_exchange_rate_for_cash_withdrawal\"\n",
    "}\n",
    "\n",
    "label_to_int_dict = {v: k for k, v in int_to_label_dict.items()}\n"
   ]
  },
  {
   "cell_type": "code",
   "execution_count": 10,
   "metadata": {},
   "outputs": [
    {
     "name": "stdout",
     "output_type": "stream",
     "text": [
      "['activate_my_card', 'balance_not_updated_after_bank_transfer', 'balance_not_updated_after_cheque_or_cash_deposit', 'beneficiary_not_allowed', 'cancel_transfer', 'card_arrival', 'card_payment_fee_charged', 'card_payment_not_recognised', 'card_payment_wrong_exchange_rate', 'cash_withdrawal_charge', 'cash_withdrawal_not_recognised', 'declined_card_payment', 'declined_cash_withdrawal', 'direct_debit_payment_not_recognised', 'extra_charge_on_statement', 'pending_card_payment', 'pending_top_up', 'Refund_not_showing_up', 'request_refund', 'reverted_card_payment', 'transaction_charged_twice', 'transfer_fee_charged', 'transfer_not_received_by_recipient', 'wrong_amount_of_cash_received', 'wrong_exchange_rate_for_cash_withdrawal']\n",
      "Example({'label': 'card_arrival', 'text': 'I am still waiting on my card?'}) (input_keys={'text'})\n"
     ]
    }
   ],
   "source": [
    "labels_in_use = [int_to_label_dict[label] for label in top_25_labels]\n",
    "\n",
    "print(labels_in_use)\n",
    "\n",
    "def convert_int_to_label(example):\n",
    "    example[\"label\"] = int_to_label_dict[example[\"label\"]]\n",
    "    return example\n",
    "\n",
    "trainset = [convert_int_to_label(example) for example in trainset]\n",
    "devset = [convert_int_to_label(example) for example in devset]\n",
    "testset = [convert_int_to_label(example) for example in testset]\n",
    "\n",
    "print(trainset[0])"
   ]
  },
  {
   "cell_type": "markdown",
   "metadata": {},
   "source": [
    "Here we set up the metric and evaluator. We will be using the answer exact match metric.\n",
    "\n",
    "The evaluator is what we will consider as our test set.\n",
    "\n",
    "We choose `num_threads=90` because we are bottlenecked by the retrieval server, and through testing this is the maximum number of concurrent threads that can be run without causing issues for other people using the retrieval server."
   ]
  },
  {
   "cell_type": "code",
   "execution_count": 11,
   "metadata": {},
   "outputs": [],
   "source": [
    "# Prepare the metric and evaluator\n",
    "NUM_THREADS = 250\n",
    "def answer_exact_match(example, pred, trace=None, frac=1.0):\n",
    "    try:\n",
    "        example.answer = example.label\n",
    "        pred.answer = pred.label\n",
    "        if type(example.answer) is str:\n",
    "            return dsp.answer_match(pred.answer, [example.answer], frac=frac)\n",
    "        else: # type(example.answer) is list\n",
    "            return dsp.answer_match(pred.answer, example.answer, frac=frac)\n",
    "    except Exception as e:\n",
    "        print(f\"Error in answer_exact_match: {e}\")\n",
    "        print(f\"Example: {example}\")\n",
    "        print(f\"Prediction: {pred}\")\n",
    "        return False\n",
    "\n",
    "metric = answer_exact_match\n",
    "evaluate_devset = Evaluate(devset=devset[:DEV_SIZE], metric=metric, num_threads=NUM_THREADS, display_progress=True, max_errors=10000)"
   ]
  },
  {
   "cell_type": "markdown",
   "metadata": {},
   "source": [
    "TODO(optional): Implement LLM as judge"
   ]
  },
  {
   "cell_type": "markdown",
   "metadata": {},
   "source": [
    "## Gathering baseline performance\n",
    "\n",
    "run evaluate on a base pipeline"
   ]
  },
  {
   "cell_type": "code",
   "execution_count": 12,
   "metadata": {},
   "outputs": [],
   "source": [
    "MAX_TOKENS = 1000\n",
    "MODEL_PARAMETERS = {\n",
    "  \"max_tokens\": MAX_TOKENS,\n",
    "  \"temperature\": 0,\n",
    "}\n",
    "\n",
    "LOCAL_API_PARAMETERS = {\n",
    "  \"api_base\": \"http://localhost:8000/v1\",\n",
    "  \"api_provider\": \"vllm\",\n",
    "  \"api_key\": \"fake-key-doesnt-matter\"\n",
    "}\n",
    "vanilla_program = SimpleIntentClassificationModule()"
   ]
  },
  {
   "cell_type": "code",
   "execution_count": null,
   "metadata": {},
   "outputs": [],
   "source": [
    "# Note: Run above this to do all setup without launching any models"
   ]
  },
  {
   "cell_type": "markdown",
   "metadata": {},
   "source": [
    "We will be using a local VLLM instance to run the initial benchmarks and data collection."
   ]
  },
  {
   "cell_type": "markdown",
   "metadata": {},
   "source": [
    "The first model to run is the 8B model in order to collect a baseline of performance.\n",
    "\n",
    "You can run the local VLLM instance with the following command:\n",
    "\n",
    "Make sure to set your HF_TOKEN and HF_HOME environment variables\n",
    "\n",
    "For Anyscale, putting models into /mnt/local_storage is a typical pattern.\n",
    "\n",
    "\n",
    "`vllm serve meta-llama/Meta-Llama-3.1-8B-Instruct --port 8000 --pipeline_parallel_size 4 --enable_prefix_caching`\n",
    "\n",
    "Lets break down what this command does:\n",
    "- `vllm serve` is the command to run the VLLM server\n",
    "- `meta-llama/Meta-Llama-3.1-8B-Instruct` is the model to run\n",
    "- `--port 8000` is the port to run the server on\n",
    "- `--pipeline_parallel_size 4` is the number of pipeline parallel size to run the server with. We are using 4 because we have 4 GPUs all of which can hold an instance of the model.\n",
    "- `--enable_prefix_caching` is the flag to enable the prefix caching. This will store and reuse the beginnings of prompts to avoid repeating the same computation. This is especially useful for DSPy since we are almost always using prompts with the same beginning parts in the form of few shot demonstrations."
   ]
  },
  {
   "cell_type": "code",
   "execution_count": null,
   "metadata": {},
   "outputs": [],
   "source": [
    "# Command for easy copying: \n",
    "# `vllm serve meta-llama/Meta-Llama-3.1-8B-Instruct --port 8000 --pipeline_parallel_size 4 --enable_prefix_caching`\n",
    "# `vllm serve meta-llama/Llama-3.2-1B-Instruct --port 8000 --pipeline_parallel_size 4 --enable_prefix_caching`\n",
    "input(\"Press Enter once you have the vllm server running...\")"
   ]
  },
  {
   "cell_type": "code",
   "execution_count": null,
   "metadata": {},
   "outputs": [],
   "source": [
    "# TODO: switch to local model\n",
    "llama_8b = dspy.MultiOpenAI(model=\"meta-llama/Meta-Llama-3.1-8B-Instruct\", **MODEL_PARAMETERS, **LOCAL_API_PARAMETERS)\n",
    "llama_1b = dspy.MultiOpenAI(model=\"meta-llama/Llama-3.2-1B-Instruct\", **MODEL_PARAMETERS, **LOCAL_API_PARAMETERS)"
   ]
  },
  {
   "cell_type": "code",
   "execution_count": null,
   "metadata": {},
   "outputs": [],
   "source": [
    "# Quick sanity check to see if the program is working\n",
    "with dspy.context(lm=llama_1b):\n",
    "    test_predictor = SimpleIntentClassificationModule()\n",
    "    sample_input = trainset[0]\n",
    "    print(sample_input)\n",
    "    print(test_predictor(**sample_input.inputs()).label)"
   ]
  },
  {
   "cell_type": "code",
   "execution_count": null,
   "metadata": {},
   "outputs": [],
   "source": [
    "with dspy.context(lm=llama_1b):\n",
    "  print(\"Evaluating the vanilla program on the devset using the model to be trained (llama 1B)...\")\n",
    "  vanilla_1b_base_eval = evaluate_devset(vanilla_program)"
   ]
  },
  {
   "cell_type": "code",
   "execution_count": null,
   "metadata": {},
   "outputs": [],
   "source": [
    "with dspy.context(lm=llama_1b):\n",
    "  print(\"Evaluating the vanilla program on the devset using the model to be trained (llama 1B)...\")\n",
    "  vanilla_1b_base_eval = evaluate_devset(vanilla_program)"
   ]
  },
  {
   "cell_type": "markdown",
   "metadata": {},
   "source": [
    "# Running the 70B Model\n",
    "\n",
    "Now that we have a baseline for the 8B model, let's run the 70B model and compare its performance.\n",
    "\n",
    "## Preparation\n",
    "\n",
    "Before running the 70B model:\n",
    "1. Kill the 8B server (use `Ctrl+C`) to free up memory.\n",
    "2. Remember to set your HF_TOKEN and HF_HOME environment variables\n",
    "3. Use the following command to start the 70B server:\n",
    "\n",
    "   ```\n",
    "   vllm serve meta-llama/Meta-Llama-3.1-70B-Instruct --port 8000 --pipeline_parallel_size 2 --enable_prefix_caching --tensor_parallel_size 2\n",
    "   ```\n",
    "\n",
    "## Parallelism Configuration\n",
    "\n",
    "We've chosen pipeline parallelism and tensor parallelism of 2 for the 70B model based on our current setup. Here's the reasoning:\n",
    "\n",
    "1. Model size: The 70B model has 30 parts of ~5 GB each (based on [HuggingFace documentation](https://huggingface.co/meta-llama/Meta-Llama-3.1-70B-Instruct/tree/main)).\n",
    "   - Total size: 30 * 5 GB = 150 GB\n",
    "\n",
    "2. Available VRAM:\n",
    "   - Our GPUs: 80 GB VRAM x 4 = 320 GB\n",
    "   - Tensor parallelism: floor(320/150) = 2\n",
    "   - Pipeline parallelism: floor(num_gpus/2) = 2\n",
    "   - To use all 4 GPUs efficiently:\n",
    "     - Pipeline parallel size: 2\n",
    "     - Tensor parallelism: 2\n",
    "\n",
    "3. Alternative setup (8x24GB GPUs):\n",
    "   - Pipeline parallel size: 1\n",
    "   - Tensor parallelism: ceil(150/24) = 7\n",
    "\n",
    "This configuration allows us to run the 70B model efficiently across our available GPU resources."
   ]
  },
  {
   "cell_type": "markdown",
   "metadata": {},
   "source": [
    "Note that I needed to add the HF_HOME var to my serve config"
   ]
  },
  {
   "cell_type": "code",
   "execution_count": null,
   "metadata": {},
   "outputs": [],
   "source": [
    "# Command for easy copying: \n",
    "# `export HF_HOME=/mnt/local_storage/huggingface`\n",
    "# `vllm serve meta-llama/Meta-Llama-3.1-70B-Instruct --port 8000 --pipeline_parallel_size 2 --enable_prefix_caching --tensor_parallel_size 2`\n",
    "\n",
    "# input(\"Press Enter once you have the vllm server running...\")"
   ]
  },
  {
   "cell_type": "code",
   "execution_count": null,
   "metadata": {},
   "outputs": [],
   "source": [
    "llama_70b = dspy.MultiOpenAI(model=\"meta-llama/Meta-Llama-3.1-70B-Instruct\", **MODEL_PARAMETERS, **LOCAL_API_PARAMETERS)"
   ]
  },
  {
   "cell_type": "code",
   "execution_count": null,
   "metadata": {},
   "outputs": [],
   "source": [
    "# Another sanity check\n",
    "with dspy.context(lm=llama_70b):\n",
    "    test_predictor = SimpleIntentClassificationModule()\n",
    "    sample_input = trainset[0]\n",
    "    print(sample_input)\n",
    "    print(test_predictor(**sample_input.inputs()).label)"
   ]
  },
  {
   "cell_type": "code",
   "execution_count": null,
   "metadata": {},
   "outputs": [],
   "source": [
    "vanilla_program = SimpleIntentClassificationModule()\n",
    "with dspy.context(lm=llama_70b):\n",
    "  print(\"Evaluating the vanilla program on the devset using llama 70B...\")\n",
    "  llama_70b_base_eval = evaluate_devset(vanilla_program)"
   ]
  },
  {
   "cell_type": "markdown",
   "metadata": {},
   "source": [
    "We hope to bring the 8B performance up to at least 70B level"
   ]
  },
  {
   "cell_type": "markdown",
   "metadata": {},
   "source": [
    "## Optimizing the LLaMa 70B pipeline\n",
    "\n",
    "Now we are ready to optimize the pipeline. We want to optimize the 70B pipeline in order to get the best possible data to then train our 8B model.\n",
    "\n",
    "We will use Bootstrap Few Shot with Random Search (BFRS) to optimize the pipeline.\n",
    "\n",
    "The essence of BFRS is to try out different configurations of few shot demonstrations per step and see which one works best on the validation set.\n",
    "\n",
    "The cool part about BFRs is that it will automatically collect the \"good\" chains of thought for us and add them to the examples at each step."
   ]
  },
  {
   "cell_type": "markdown",
   "metadata": {},
   "source": [
    "Now we know how well the base pipeline performs, let's run prompt optimization on the pipeline in order to juice up the performance.\n",
    "\n",
    "Let's go over what the hyperparameters mean:\n",
    "- MAX_BOOTSTRAPPED_DEMOS: DSPy will \"bootstrap\" the program by collecting examples at each step that are successful and reusing those in the pipeline. This means that it will automatically collect and add chains of thought to the pipeline.\n",
    "- MAX_LABELED_DEMOS: DSPy will also insert some labeled demonstrations from the training set. These would be unmodified examples from the training set that are just using the gold answer.\n",
    "- NUM_CANDIDATE_PROGRAMS: This is the number of candidate programs that the optimizer will generate. The actual number of programs that are created is this plus three, as DSPy will also try a program with no examples, a program with TODO (check)\n",
    "- OPTIMIZER_NUM_TRAIN and OPTIMIZER_NUM_VAL: These are the number of examples that the optimizer will use for training and validation. Note that we will be taking the \"validation\" set from the trainset so as the actual validation set is untouched."
   ]
  },
  {
   "cell_type": "code",
   "execution_count": null,
   "metadata": {},
   "outputs": [],
   "source": [
    "# Optimization hyperparameters\n",
    "from dspy.teleprompt.random_search import BootstrapFewShotWithRandomSearch\n",
    "\n",
    "# Define the hyperparameters for prompt optimization\n",
    "MAX_BOOTSTRAPPED_DEMOS = 3\n",
    "MAX_LABELED_DEMOS = 3\n",
    "NUM_CANDIDATE_PROGRAMS = 6\n",
    "OPTIMIZER_NUM_TRAIN = 100\n",
    "OPTIMIZER_NUM_VAL = 300"
   ]
  },
  {
   "cell_type": "code",
   "execution_count": 40,
   "metadata": {},
   "outputs": [],
   "source": [
    "# Prepare the training and validation sets for the optimizer using the original\n",
    "# trainset. This ensures that our actual devset is left untouched.\n",
    "shuffled_trainset = [d for d in trainset]\n",
    "rng.shuffle(shuffled_trainset)\n",
    "optimizer_trainset = shuffled_trainset[:OPTIMIZER_NUM_TRAIN]\n",
    "optimizer_valset = shuffled_trainset[OPTIMIZER_NUM_TRAIN:OPTIMIZER_NUM_TRAIN+OPTIMIZER_NUM_VAL]\n",
    "\n",
    "def get_optimizer_train_val_set(trainset, num_train, num_val):\n",
    "    shuffled_trainset = [d for d in trainset]\n",
    "    rng.shuffle(shuffled_trainset)\n",
    "    return shuffled_trainset[:num_train], shuffled_trainset[num_train:num_train+num_val]\n"
   ]
  },
  {
   "cell_type": "code",
   "execution_count": null,
   "metadata": {},
   "outputs": [],
   "source": [
    "# Initialize the optimizer\n",
    "bfrs_optimizer = BootstrapFewShotWithRandomSearch(\n",
    "    metric=metric,\n",
    "    max_bootstrapped_demos=MAX_BOOTSTRAPPED_DEMOS,\n",
    "    max_labeled_demos=MAX_LABELED_DEMOS,\n",
    "    num_candidate_programs=NUM_CANDIDATE_PROGRAMS,\n",
    "    num_threads=NUM_THREADS\n",
    ")"
   ]
  },
  {
   "cell_type": "code",
   "execution_count": null,
   "metadata": {},
   "outputs": [],
   "source": [
    "# We have added this flag to save you some compute and time while running the notebook\n",
    "COMPILE_PROGRAM = False\n",
    "EVAL_PROGRAM = False\n",
    "# Compile the optimizer and evaluate\n",
    "with dspy.context(lm=llama_70b):\n",
    "    vanilla_program = SimpleIntentClassificationModule()\n",
    "    if COMPILE_PROGRAM:\n",
    "        bfrs_base_program = bfrs_optimizer.compile(vanilla_program, trainset=optimizer_trainset, valset=optimizer_valset)\n",
    "        bfrs_base_program.save(f\"b25_70b_31_bfrs_{MAX_BOOTSTRAPPED_DEMOS}_{MAX_LABELED_DEMOS}_{NUM_CANDIDATE_PROGRAMS}.json\")\n",
    "    else:\n",
    "        bfrs_base_program = SimpleIntentClassificationModule()\n",
    "        bfrs_base_program.load(f\"b25_70b_31_bfrs_{MAX_BOOTSTRAPPED_DEMOS}_{MAX_LABELED_DEMOS}_{NUM_CANDIDATE_PROGRAMS}.json\")\n",
    "    if EVAL_PROGRAM:\n",
    "        llama_70b_bfrs_eval = evaluate_devset(bfrs_base_program)\n"
   ]
  },
  {
   "cell_type": "code",
   "execution_count": null,
   "metadata": {},
   "outputs": [],
   "source": [
    "from dspy.teleprompt import MIPROv2\n",
    "\n",
    "eval_kwargs = dict(display_progress=True, display_table=0, num_threads=NUM_THREADS)\n",
    "teleprompter = MIPROv2(prompt_model=llama_70b, task_model=llama_70b, metric=metric, num_candidates=10, init_temperature=0.9, verbose=True)\n",
    "\n",
    "COMPILE_PROGRAM = True\n",
    "if COMPILE_PROGRAM:\n",
    "    with dspy.context(lm=llama_70b):\n",
    "        compiled_program = teleprompter.compile(vanilla_program, trainset=optimizer_trainset, valset=optimizer_valset, num_batches=30, max_bootstrapped_demos=MAX_BOOTSTRAPPED_DEMOS,max_labeled_demos=MAX_LABELED_DEMOS, eval_kwargs=eval_kwargs, requires_permission_to_run=False)\n",
    "        compiled_program.save(f\"t2sql_70b_31_MIPROv2_{MAX_BOOTSTRAPPED_DEMOS}_{MAX_LABELED_DEMOS}.json\")\n",
    "else:\n",
    "    compiled_program = TextToSQLModule()\n",
    "    compiled_program.load(f\"t2sql_70b_31_MIPROv2_{MAX_BOOTSTRAPPED_DEMOS}_{MAX_LABELED_DEMOS}.json\")\n",
    "\n",
    "with dspy.context(lm=llama_70b):\n",
    "    llama_70b_mipro_eval = evaluate_devset(compiled_program)"
   ]
  },
  {
   "cell_type": "markdown",
   "metadata": {},
   "source": [
    "### Bootstrap Data\n",
    "\n",
    "\n",
    "In this section, we bootstrap data for fine-tuning. In the code block below, we are deciding which program should be used to collect the bootstraps. We are setting this to the prompt optimized program, but one could also set this to the vanilla program, though doing so would lead to lower quality bootstraps."
   ]
  },
  {
   "cell_type": "code",
   "execution_count": null,
   "metadata": {},
   "outputs": [],
   "source": [
    "bootstrap_program = bfrs_base_program"
   ]
  },
  {
   "cell_type": "markdown",
   "metadata": {},
   "source": [
    "We do something that kind of looks like rejection sampling here. For 3 rounds, we will run the model on the dataset and collect any \n",
    "examples that are solved. We then remove the solved examples from the dataset and repeat.\n",
    "\n",
    "In the [Large Language Monkeys paper](https://arxiv.org/pdf/2407.21787), they show that sampling up to 100 times can still get you a single correct answe in domains with ground truth or a verifier, so we can get away with this form of rejection sampling. Three rounds puts us at a decent spot on the curve of sampling up to N times. If we were in a domain where getting any correct answers was extremely hard, we may consider doing more rounds of sampling, but for now 3 rounds works.\n",
    "\n",
    "We did some experiments to see what the sampling curve looks like:\n",
    "\n",
    "<!-- ![Sampling Curve](./sampling_curve.png) -->\n",
    "<img src=\"./sampling_curve.png\" alt=\"Sampling Curve\" width=\"500\">"
   ]
  },
  {
   "cell_type": "code",
   "execution_count": null,
   "metadata": {},
   "outputs": [],
   "source": [
    "TRAIN_SIZE = 1500\n",
    "EVAL_SIZE = int(TRAIN_SIZE/4)"
   ]
  },
  {
   "cell_type": "code",
   "execution_count": 43,
   "metadata": {},
   "outputs": [
    {
     "name": "stdout",
     "output_type": "stream",
     "text": [
      "Bootstrapping and writing data to trainset_data_banking_2000.json\n",
      "copying with temp 0.902\n",
      "in multiopenai 0.902\n",
      "{'temperature': 0.902, 'max_tokens': 1000, 'top_p': 1, 'frequency_penalty': 0, 'presence_penalty': 0, 'n': 1, 'model': 'meta-llama/Meta-Llama-3.1-70B-Instruct'}\n"
     ]
    },
    {
     "name": "stderr",
     "output_type": "stream",
     "text": [
      "Average Metric: 1617 / 2000  (80.8): 100%|██████████| 2000/2000 [00:04<00:00, 452.90it/s] \n"
     ]
    },
    {
     "name": "stdout",
     "output_type": "stream",
     "text": [
      "80.85\n",
      "Round 0 complete. Solved 1618 of 2000 examples. 382 examples remain unsolved.\n",
      "copying with temp 0.9022\n",
      "in multiopenai 0.9022\n",
      "{'temperature': 0.9022, 'max_tokens': 1000, 'top_p': 1, 'frequency_penalty': 0, 'presence_penalty': 0, 'n': 1, 'model': 'meta-llama/Meta-Llama-3.1-70B-Instruct'}\n"
     ]
    },
    {
     "name": "stderr",
     "output_type": "stream",
     "text": [
      "Average Metric: 0 / 382  (0.0): 100%|██████████| 382/382 [00:09<00:00, 38.46it/s]  \n"
     ]
    },
    {
     "name": "stdout",
     "output_type": "stream",
     "text": [
      "0.0\n",
      "Round 1 complete. Solved 1 of 382 examples. 381 examples remain unsolved.\n",
      "copying with temp 0.9024\n",
      "in multiopenai 0.9024\n",
      "{'temperature': 0.9024, 'max_tokens': 1000, 'top_p': 1, 'frequency_penalty': 0, 'presence_penalty': 0, 'n': 1, 'model': 'meta-llama/Meta-Llama-3.1-70B-Instruct'}\n"
     ]
    },
    {
     "name": "stderr",
     "output_type": "stream",
     "text": [
      "Average Metric: 0 / 381  (0.0): 100%|██████████| 381/381 [00:08<00:00, 45.77it/s]  \n"
     ]
    },
    {
     "name": "stdout",
     "output_type": "stream",
     "text": [
      "0.0\n",
      "Round 2 complete. Solved 0 of 381 examples. 381 examples remain unsolved.\n",
      "Writing dataset with length 1619 to trainset_data_banking_2000.json\n",
      "Bootstrapping and writing data to trainset_val_data_banking_375.json\n",
      "copying with temp 0.902\n",
      "in multiopenai 0.902\n",
      "{'temperature': 0.902, 'max_tokens': 1000, 'top_p': 1, 'frequency_penalty': 0, 'presence_penalty': 0, 'n': 1, 'model': 'meta-llama/Meta-Llama-3.1-70B-Instruct'}\n"
     ]
    },
    {
     "name": "stderr",
     "output_type": "stream",
     "text": [
      "Average Metric: 331 / 375  (88.3): 100%|██████████| 375/375 [01:33<00:00,  4.03it/s]\n"
     ]
    },
    {
     "name": "stdout",
     "output_type": "stream",
     "text": [
      "88.27\n",
      "Round 0 complete. Solved 331 of 375 examples. 44 examples remain unsolved.\n",
      "copying with temp 0.9022\n",
      "in multiopenai 0.9022\n",
      "{'temperature': 0.9022, 'max_tokens': 1000, 'top_p': 1, 'frequency_penalty': 0, 'presence_penalty': 0, 'n': 1, 'model': 'meta-llama/Meta-Llama-3.1-70B-Instruct'}\n"
     ]
    },
    {
     "name": "stderr",
     "output_type": "stream",
     "text": [
      "Average Metric: 0 / 44  (0.0): 100%|██████████| 44/44 [00:13<00:00,  3.38it/s] \n"
     ]
    },
    {
     "name": "stdout",
     "output_type": "stream",
     "text": [
      "0.0\n",
      "Round 1 complete. Solved 1 of 44 examples. 43 examples remain unsolved.\n",
      "copying with temp 0.9024\n",
      "in multiopenai 0.9024\n",
      "{'temperature': 0.9024, 'max_tokens': 1000, 'top_p': 1, 'frequency_penalty': 0, 'presence_penalty': 0, 'n': 1, 'model': 'meta-llama/Meta-Llama-3.1-70B-Instruct'}\n"
     ]
    },
    {
     "name": "stderr",
     "output_type": "stream",
     "text": [
      "Average Metric: 1 / 43  (2.3): 100%|██████████| 43/43 [00:14<00:00,  2.89it/s] \n"
     ]
    },
    {
     "name": "stdout",
     "output_type": "stream",
     "text": [
      "2.33\n",
      "Round 2 complete. Solved 1 of 43 examples. 42 examples remain unsolved.\n",
      "Writing dataset with length 333 to trainset_val_data_banking_375.json\n"
     ]
    }
   ],
   "source": [
    "from dspy.teleprompt.finetune_teleprompter import bootstrap_data, convert_to_module_level_prompt_completion_data, bootstrap_data_for_round\n",
    "import ujson\n",
    "\n",
    "# This should be moved inside the finetune_teleprompter class\n",
    "def write_data(program, data, filename):\n",
    "    print(\"Bootstrapping and writing data to\", filename)\n",
    "    correct_data = []\n",
    "    unsolved_examples = data.copy()\n",
    "    sampling_temperature = 0.902\n",
    "    sampling_temperature_delta = 0.0001\n",
    "    \n",
    "    for i in range(3):\n",
    "        if len(unsolved_examples) == 0:\n",
    "            break\n",
    "        data = bootstrap_data_for_round(program, unsolved_examples, metric=metric, num_threads=NUM_THREADS, sampling_round=i, sampling_temperature=sampling_temperature, sampling_temperature_delta=sampling_temperature_delta)\n",
    "        correct_data_round = [x for x in data if x[\"score\"]]\n",
    "        correct_examples_round = set([x[\"example\"] for x in correct_data_round])\n",
    "        print(f\"Round {i} complete. Solved {len(correct_data_round)} of {len(unsolved_examples)} examples. {len(unsolved_examples) - len(correct_examples_round)} examples remain unsolved.\")\n",
    "        unsolved_examples = [x for x in unsolved_examples if x not in correct_examples_round]\n",
    "\n",
    "        correct_data.extend(correct_data_round)\n",
    "        sampling_temperature += sampling_temperature_delta\n",
    "    \n",
    "    # Convert the data to prompt completion format\n",
    "    dataset = convert_to_module_level_prompt_completion_data(correct_data, program=program, exclude_demos=True)\n",
    "    \n",
    "    # Format the data for finetuning using the LM\n",
    "    print(\"Writing dataset with length\", len(dataset), \"to\", filename)\n",
    "    with open(filename, \"w\") as f:\n",
    "        ujson.dump(dataset, f)\n",
    "\n",
    "\n",
    "\n",
    "# Note: Maybe dont use devset here\n",
    "dataset_filenames = {f\"trainset_data_banking_{TRAIN_SIZE}.json\": shuffled_trainset[:TRAIN_SIZE], f\"trainset_val_data_banking_{EVAL_SIZE}.json\": devset[:EVAL_SIZE]}\n",
    "\n",
    "dspy.settings.configure(experimental=True, lm=llama_70b)\n",
    "\n",
    "WRITE_DATA = True\n",
    "if WRITE_DATA:\n",
    "    for filename, data in dataset_filenames.items():\n",
    "        write_data(bootstrap_program, data, filename)"
   ]
  },
  {
   "cell_type": "code",
   "execution_count": 46,
   "metadata": {},
   "outputs": [
    {
     "name": "stdout",
     "output_type": "stream",
     "text": [
      "Example prompt:\n",
      "Classify the intent of a natural language query.\n",
      "The intent should exactly match one of the following:\n",
      "['activate_my_card', 'balance_not_updated_after_bank_transfer', 'balance_not_updated_after_cheque_or_cash_deposit', 'beneficiary_not_allowed', 'cancel_transfer', 'card_arrival', 'card_payment_fee_charged', 'card_payment_not_recognised', 'card_payment_wrong_exchange_rate', 'cash_withdrawal_charge', 'cash_withdrawal_not_recognised', 'declined_card_payment', 'declined_cash_withdrawal', 'direct_debit_payment_not_recognised', 'extra_charge_on_statement', 'pending_card_payment', 'pending_top_up', 'Refund_not_showing_up', 'request_refund', 'reverted_card_payment', 'transaction_charged_twice', 'transfer_fee_charged', 'transfer_not_received_by_recipient', 'wrong_amount_of_cash_received', 'wrong_exchange_rate_for_cash_withdrawal']\n",
      "\n",
      "---\n",
      "\n",
      "Follow the following format.\n",
      "\n",
      "Intent: Intent of the query\n",
      "Reasoning: Let's think step by step in order to ${produce the output fields}. We ...\n",
      "Label: Type of the intent; Should just be one of the 25 labels with no other text\n",
      "\n",
      "---\n",
      "\n",
      "Intent: why hasnt my card come in yet?\n",
      "Reasoning: Let's think step by step in order to\n",
      "<end prompt>\n",
      "--------------------------------------------------\n",
      "Example completion:\n",
      " classify the intent of the query. We first identify the key elements of the query, which are \"card\" and \"hasn't come in yet\". This suggests that the query is related to the status of a card delivery. The query implies that the card was expected to arrive but has not, which is consistent with the intent \"card_arrival\".\n",
      "Label: card_arrival\n",
      "<end completion>\n",
      "--------------------------------------------------\n"
     ]
    }
   ],
   "source": [
    "# Let's look at an example prompt completion pair!\n",
    "with open(f\"trainset_data_banking_{TRAIN_SIZE}.json\", \"r\") as f:\n",
    "    data_example = ujson.load(f)\n",
    "print(\"Example prompt:\")\n",
    "print(data_example[0]['prompt'])\n",
    "print(\"<end prompt>\\n\"+\"-\"*50)\n",
    "print(\"Example completion:\")\n",
    "print(data_example[0]['completion'])\n",
    "print(\"<end completion>\\n\"+\"-\"*50)"
   ]
  },
  {
   "cell_type": "markdown",
   "metadata": {},
   "source": [
    "Now you should kill your 70B vllm server so that you can use your GPUs for finetuning"
   ]
  },
  {
   "cell_type": "code",
   "execution_count": null,
   "metadata": {},
   "outputs": [],
   "source": [
    "# Press enter once you have killed the 70B vllm server\n",
    "input(\"Press Enter once you have killed the 70B vllm server (press Ctrl+C to kill)...\")"
   ]
  },
  {
   "cell_type": "markdown",
   "metadata": {},
   "source": [
    "# Fine-tuning\n",
    "\n",
    "We will use LLM Forge to fine-tune the 8B model.\n",
    "\n",
    "In order to do this, we need to format our data into the correct format (Follows OpenAI messaging format placed in a jsonl file).\n",
    "\n",
    "We initially saved the data into a json file in prompt-completion format.\n",
    "\n",
    "In order to prepare for finetuning, we need to do three steps:\n",
    "1. Format the data into the correct format and verify that the data is valid\n",
    "2. Upload the data to GCP\n",
    "3. Generate the compute configuration file\n",
    "\n",
    "After the compute configuration file is generated, we can submit the job to LLM Forge, using either the command line or using the anyscale jobs sdk.\n",
    "TODO: Add the anyscale jobs sdk submit method"
   ]
  },
  {
   "cell_type": "markdown",
   "metadata": {},
   "source": [
    "Be sure to checkout the fine-tuning documentation for the latest on how to use our [API](https://docs.anyscale.com/llms/finetuning/intro) and additional [capabilities](https://docs.anyscale.com/category/fine-tuning-beta/)."
   ]
  },
  {
   "cell_type": "code",
   "execution_count": 53,
   "metadata": {},
   "outputs": [
    {
     "name": "stdout",
     "output_type": "stream",
     "text": [
      "in multiopenai 0.0\n",
      "in multiopenai 0.0\n"
     ]
    }
   ],
   "source": [
    "student_llama_8b = dspy.TrainableAnyscale(model=\"meta-llama/Meta-Llama-3.1-8B-Instruct\")\n",
    "student_llama_1b = dspy.TrainableAnyscale(model=\"meta-llama/Llama-3.2-1B-Instruct\")"
   ]
  },
  {
   "cell_type": "markdown",
   "metadata": {},
   "source": [
    "TODO: All this should be moved into the TrainableAnyscaleLM class. You should instead just call a finetune method with your datasets, hparams, compute config"
   ]
  },
  {
   "cell_type": "code",
   "execution_count": 55,
   "metadata": {},
   "outputs": [
    {
     "name": "stdout",
     "output_type": "stream",
     "text": [
      "No errors found in the dataset format using the OpenAI API.\n"
     ]
    },
    {
     "name": "stdout",
     "output_type": "stream",
     "text": [
      "There are 1619 examples that are missing a system message.\n",
      "The charge for finetuning is determined by the number of epochs multiplied by the number of billing tokens in the dataset. Here are the stats for this training dataset:\n",
      "    num_billing_tokens: 644776\n",
      "    n_epochs: 3\n",
      "    num_total_charge_tokens: 1934328\n",
      "No errors found in the dataset format using the OpenAI API.\n",
      "Number of items in train data: 1619\n",
      "Uploading train data to S3 at gs://storage-bucket-cld-tffbxe9ia5phqr1unxhz4f7e1e/org_4snvy99zwbmh4gbtk64jfqggmj/cld_tffbxe9ia5phqr1unxhz4f7e1e/artifact_storage/trainset_data_banking_2000_formatted.jsonl\n"
     ]
    },
    {
     "name": "stderr",
     "output_type": "stream",
     "text": [
      "Copying file://trainset_data_banking_2000_formatted.jsonl to gs://storage-bucket-cld-tffbxe9ia5phqr1unxhz4f7e1e/org_4snvy99zwbmh4gbtk64jfqggmj/cld_tffbxe9ia5phqr1unxhz4f7e1e/artifact_storage/trainset_data_banking_2000_formatted.jsonl\n",
      "  \n",
      ".\n"
     ]
    },
    {
     "name": "stdout",
     "output_type": "stream",
     "text": [
      "Number of items in val data: 333\n",
      "Uploading val data to S3 at gs://storage-bucket-cld-tffbxe9ia5phqr1unxhz4f7e1e/org_4snvy99zwbmh4gbtk64jfqggmj/cld_tffbxe9ia5phqr1unxhz4f7e1e/artifact_storage/trainset_val_data_banking_375_formatted.jsonl\n"
     ]
    },
    {
     "name": "stderr",
     "output_type": "stream",
     "text": [
      "Copying file://trainset_val_data_banking_375_formatted.jsonl to gs://storage-bucket-cld-tffbxe9ia5phqr1unxhz4f7e1e/org_4snvy99zwbmh4gbtk64jfqggmj/cld_tffbxe9ia5phqr1unxhz4f7e1e/artifact_storage/trainset_val_data_banking_375_formatted.jsonl\n",
      "  \n",
      "\n"
     ]
    },
    {
     "name": "stdout",
     "output_type": "stream",
     "text": [
      "Using default yaml template for model: configs/training/lora/llama-3-8b.yaml\n",
      "{'model_id': 'meta-llama/Llama-3.2-1B-Instruct', 'train_path': 'gs://storage-bucket-cld-tffbxe9ia5phqr1unxhz4f7e1e/org_4snvy99zwbmh4gbtk64jfqggmj/cld_tffbxe9ia5phqr1unxhz4f7e1e/artifact_storage/trainset_data_banking_2000_formatted.jsonl', 'valid_path': 'gs://storage-bucket-cld-tffbxe9ia5phqr1unxhz4f7e1e/org_4snvy99zwbmh4gbtk64jfqggmj/cld_tffbxe9ia5phqr1unxhz4f7e1e/artifact_storage/trainset_val_data_banking_375_formatted.jsonl', 'context_length': 512, 'num_devices': 4, 'num_epochs': 6, 'train_batch_size_per_device': 32, 'eval_batch_size_per_device': 16, 'learning_rate': 4.5e-05, 'padding': 'longest', 'num_checkpoints_to_keep': 10, 'dataset_size_scaling_factor': 10000, 'output_dir': '/mnt/local_storage', 'deepspeed': {'config_path': 'configs/deepspeed/zero_3_offload_optim+param.json'}, 'flash_attention_2': True, 'lora_config': {'r': 8, 'lora_alpha': 16, 'lora_dropout': 0.05, 'target_modules': ['q_proj', 'v_proj', 'k_proj', 'o_proj', 'gate_proj', 'up_proj', 'down_proj', 'embed_tokens', 'lm_head'], 'task_type': 'CAUSAL_LM', 'modules_to_save': [], 'bias': 'none', 'fan_in_fan_out': False, 'init_lora_weights': True}, 'generation_config': {'prompt_format': {'system': '<|start_header_id|>system<|end_header_id|>\\n\\n{instruction}<|eot_id|>', 'user': '<|start_header_id|>user<|end_header_id|>\\n{instruction}<|eot_id|>', 'assistant': '<|start_header_id|>assistant<|end_header_id|>\\n\\n{instruction}<|eot_id|>', 'trailing_assistant': '<|start_header_id|>assistant<|end_header_id|>\\n\\n', 'bos': '<|begin_of_text|>', 'system_in_user': False, 'default_system_message': ''}}, 'logger': {'provider': 'wandb'}}\n"
     ]
    }
   ],
   "source": [
    "from dsp.modules.lm import TrainingMethod\n",
    "\n",
    "train_path = f\"trainset_data_banking_{TRAIN_SIZE}.json\"\n",
    "eval_path = f\"trainset_val_data_banking_{EVAL_SIZE}.json\"\n",
    "method = TrainingMethod.SFT\n",
    "kwargs = {\n",
    "    \"hyperparameters\": {\n",
    "        \"num_devices\": 4,\n",
    "        \"trainer_resources\": None,\n",
    "        \"worker_resources\": None,\n",
    "        \"generation_config\": {\n",
    "            \"prompt_format\": {\n",
    "                \"system\": \"<|start_header_id|>system<|end_header_id|>\\n\\n{instruction}<|eot_id|>\",\n",
    "                \"user\": \"<|start_header_id|>user<|end_header_id|>\\n{instruction}<|eot_id|>\",\n",
    "                \"assistant\": \"<|start_header_id|>assistant<|end_header_id|>\\n\\n{instruction}<|eot_id|>\",\n",
    "                \"trailing_assistant\": \"<|start_header_id|>assistant<|end_header_id|>\\n\\n\", # inference-only\n",
    "                \"bos\": \"<|begin_of_text|>\",\n",
    "                \"system_in_user\": False,\n",
    "                \"default_system_message\": \"\"\n",
    "            },\n",
    "        },\n",
    "        \"learning_rate\": 4.5e-5,\n",
    "        \"num_epochs\": 6,\n",
    "        \"train_batch_size_per_device\": 32\n",
    "    },\n",
    "    \"use_lora\": True\n",
    "}\n",
    "\n",
    "if method != TrainingMethod.SFT:\n",
    "    raise NotImplementedError(\"Only SFT training is supported at the moment.\")\n",
    "\n",
    "train_dataset = student_llama_1b._format_data_for_vanilla_finetuning(train_path)\n",
    "val_dataset = student_llama_1b._format_data_for_vanilla_finetuning(eval_path) if eval_path else None\n",
    "\n",
    "if not student_llama_1b._verify_datasets(train_dataset, val_dataset):\n",
    "    print(\"Unable to verify arguments\")\n",
    "    raise RuntimeError(\"Unable to verify argument\")\n",
    "\n",
    "# TODO: This should be a function inside the TrainableAnyscaleLM class\n",
    "formatted_paths = {}\n",
    "for path, dataset in [(train_path, train_dataset), (eval_path, val_dataset)]:\n",
    "    if not (path and dataset):\n",
    "        continue\n",
    "    formatted_path = path.split(\".\")[0] + \"_formatted.jsonl\"\n",
    "    with open(formatted_path, \"w\") as f:\n",
    "        for item in dataset:\n",
    "            f.write(ujson.dumps(item) + \"\\n\")\n",
    "\n",
    "    formatted_paths[path] = formatted_path\n",
    "\n",
    "# print(formatted_paths[train_path])\n",
    "remote_train_path, remote_eval_path = student_llama_1b._submit_data(train_path=formatted_paths[train_path], eval_path=formatted_paths[eval_path])\n",
    "compute_config_path, compute_config = student_llama_1b._generate_config_files(train_path=remote_train_path, eval_path=remote_eval_path, **kwargs)\n"
   ]
  },
  {
   "cell_type": "markdown",
   "metadata": {},
   "source": [
    "We'll fine-tune our LLM by choosing a set of configurations. We have created recipes for different LLMs in the [`training configs`](configs/training/lora/llama-3-8b.yaml) folder which can be used as is or modified for experiments. These configurations provide flexibility over a broad range of parameters such as model, data paths, compute to use for training, number of training epochs, how often to save checkpoints, padding, loss, etc. We also include several [DeepSpeed](https://github.com/microsoft/DeepSpeed) [configurations](configs/deepspeed/zero_3_offload_optim+param.json) to choose from for further optimizations around data/model parallelism, mixed precision, checkpointing, etc.\n",
    "\n",
    "We also have recipes for [LoRA](https://arxiv.org/abs/2106.09685) (where we train a set of small low ranked matrices instead of the original attention and feed forward layers) or full parameter fine-tuning. We recommend starting with LoRA as it's less resource intensive and quicker to train."
   ]
  },
  {
   "cell_type": "code",
   "execution_count": null,
   "metadata": {},
   "outputs": [],
   "source": [
    "# View the compute config\n",
    "print(\"Compute config:\", compute_config)"
   ]
  },
  {
   "cell_type": "code",
   "execution_count": 56,
   "metadata": {},
   "outputs": [
    {
     "name": "stderr",
     "output_type": "stream",
     "text": [
      "(anyscale +51m57.7s) Uploading local dir '.' to cloud storage.\n",
      "(anyscale +51m59.6s) Job 'dspy-llmforge-fine-tuning-job' submitted, ID: 'prodjob_vj4e8it2x8g9kiaelaut6zdh15'.\n",
      "(anyscale +51m59.6s) View the job in the UI: https://console.anyscale.com/jobs/prodjob_vj4e8it2x8g9kiaelaut6zdh15\n",
      "(anyscale +51m59.9s) Waiting for job 'prodjob_vj4e8it2x8g9kiaelaut6zdh15' to reach target state SUCCEEDED, currently in state: STARTING\n",
      "(anyscale +55m35.3s) Job 'prodjob_vj4e8it2x8g9kiaelaut6zdh15' transitioned from STARTING to RUNNING\n",
      "(anyscale +1h3m16.0s) Job 'prodjob_vj4e8it2x8g9kiaelaut6zdh15' transitioned from RUNNING to SUCCEEDED\n",
      "(anyscale +1h3m16.1s) Job 'prodjob_vj4e8it2x8g9kiaelaut6zdh15' reached target state, exiting\n"
     ]
    },
    {
     "name": "stdout",
     "output_type": "stream",
     "text": [
      "Job prodjob_vj4e8it2x8g9kiaelaut6zdh15 succeeded!\n"
     ]
    }
   ],
   "source": [
    "import anyscale\n",
    "\n",
    "SKIP_FT = False\n",
    "if not SKIP_FT:\n",
    "    # TODO: Get job working with LLMForge\n",
    "    # prodjob_idbtjgp6lrggxsjas5snj1jiv2\n",
    "    job_id: str = anyscale.job.submit(\n",
    "        compute_config\n",
    "    )\n",
    "    anyscale.job.wait(id=job_id, timeout_s=18000)\n",
    "    print(f\"Job {job_id} succeeded!\")\n",
    "\n",
    "\n",
    "    # command = compute_config.entrypoint\n",
    "    # print(command)\n",
    "    # os.system(command)"
   ]
  },
  {
   "cell_type": "code",
   "execution_count": null,
   "metadata": {},
   "outputs": [],
   "source": [
    "# input(\"Press Enter once you have copied the path from the logs...\")"
   ]
  },
  {
   "cell_type": "code",
   "execution_count": 57,
   "metadata": {},
   "outputs": [],
   "source": [
    "def download_from_gcp_bucket(bucket_name, source_folder, destination_folder):\n",
    "    \"\"\"Downloads a folder from a GCP bucket to a local folder.\n",
    "\n",
    "    Args:\n",
    "        bucket_name (str): The name of the GCP bucket.\n",
    "        source_folder (str): The path to the folder in the bucket.\n",
    "        destination_folder (str): The local path where files should be saved.\n",
    "\n",
    "    Returns:\n",
    "        str: The path to the downloaded folder.\n",
    "    \"\"\"\n",
    "    import google.cloud.storage as storage\n",
    "    \n",
    "    storage_client = storage.Client()\n",
    "    bucket = storage_client.bucket(bucket_name)\n",
    "    blobs = bucket.list_blobs(prefix=source_folder)\n",
    "\n",
    "    for blob in blobs:\n",
    "        if blob.name.endswith('/'):\n",
    "            continue  # Skip directories\n",
    "        \n",
    "        relative_path = os.path.relpath(blob.name, source_folder)\n",
    "        local_file_path = os.path.join(destination_folder, relative_path)\n",
    "        \n",
    "        os.makedirs(os.path.dirname(local_file_path), exist_ok=True)\n",
    "        # only download if the file doesn't exist\n",
    "        if not os.path.exists(local_file_path):\n",
    "            blob.download_to_filename(local_file_path)\n",
    "            print(f\"Downloaded {blob.name} to {local_file_path}\")\n",
    "\n",
    "    print(f\"Folder {source_folder} downloaded to {destination_folder}.\")\n",
    "    return destination_folder"
   ]
  },
  {
   "cell_type": "code",
   "execution_count": 58,
   "metadata": {},
   "outputs": [
    {
     "name": "stdout",
     "output_type": "stream",
     "text": [
      "Downloaded org_4snvy99zwbmh4gbtk64jfqggmj/cld_tffbxe9ia5phqr1unxhz4f7e1e/artifact_storage/isaac__miller/llmforge-finetuning/meta-llama/Llama-3.2-1B-Instruct/TorchTrainer_2024-10-06_12-32-25/.validate_storage_marker to llama_1b_checkpoints_banking_torchtrainer/.validate_storage_marker\n",
      "Downloaded org_4snvy99zwbmh4gbtk64jfqggmj/cld_tffbxe9ia5phqr1unxhz4f7e1e/artifact_storage/isaac__miller/llmforge-finetuning/meta-llama/Llama-3.2-1B-Instruct/TorchTrainer_2024-10-06_12-32-25/TorchTrainer_b7bd3_00000_0_2024-10-06_12-32-26/events.out.tfevents.1728243153.g-84b6677adb40e0001 to llama_1b_checkpoints_banking_torchtrainer/TorchTrainer_b7bd3_00000_0_2024-10-06_12-32-26/events.out.tfevents.1728243153.g-84b6677adb40e0001\n",
      "Downloaded org_4snvy99zwbmh4gbtk64jfqggmj/cld_tffbxe9ia5phqr1unxhz4f7e1e/artifact_storage/isaac__miller/llmforge-finetuning/meta-llama/Llama-3.2-1B-Instruct/TorchTrainer_2024-10-06_12-32-25/TorchTrainer_b7bd3_00000_0_2024-10-06_12-32-26/params.json to llama_1b_checkpoints_banking_torchtrainer/TorchTrainer_b7bd3_00000_0_2024-10-06_12-32-26/params.json\n",
      "Downloaded org_4snvy99zwbmh4gbtk64jfqggmj/cld_tffbxe9ia5phqr1unxhz4f7e1e/artifact_storage/isaac__miller/llmforge-finetuning/meta-llama/Llama-3.2-1B-Instruct/TorchTrainer_2024-10-06_12-32-25/TorchTrainer_b7bd3_00000_0_2024-10-06_12-32-26/params.pkl to llama_1b_checkpoints_banking_torchtrainer/TorchTrainer_b7bd3_00000_0_2024-10-06_12-32-26/params.pkl\n",
      "Downloaded org_4snvy99zwbmh4gbtk64jfqggmj/cld_tffbxe9ia5phqr1unxhz4f7e1e/artifact_storage/isaac__miller/llmforge-finetuning/meta-llama/Llama-3.2-1B-Instruct/TorchTrainer_2024-10-06_12-32-25/TorchTrainer_b7bd3_00000_0_2024-10-06_12-32-26/progress.csv to llama_1b_checkpoints_banking_torchtrainer/TorchTrainer_b7bd3_00000_0_2024-10-06_12-32-26/progress.csv\n",
      "Downloaded org_4snvy99zwbmh4gbtk64jfqggmj/cld_tffbxe9ia5phqr1unxhz4f7e1e/artifact_storage/isaac__miller/llmforge-finetuning/meta-llama/Llama-3.2-1B-Instruct/TorchTrainer_2024-10-06_12-32-25/TorchTrainer_b7bd3_00000_0_2024-10-06_12-32-26/result.json to llama_1b_checkpoints_banking_torchtrainer/TorchTrainer_b7bd3_00000_0_2024-10-06_12-32-26/result.json\n",
      "Downloaded org_4snvy99zwbmh4gbtk64jfqggmj/cld_tffbxe9ia5phqr1unxhz4f7e1e/artifact_storage/isaac__miller/llmforge-finetuning/meta-llama/Llama-3.2-1B-Instruct/TorchTrainer_2024-10-06_12-32-25/basic-variant-state-2024-10-06_12-32-26.json to llama_1b_checkpoints_banking_torchtrainer/basic-variant-state-2024-10-06_12-32-26.json\n",
      "Downloaded org_4snvy99zwbmh4gbtk64jfqggmj/cld_tffbxe9ia5phqr1unxhz4f7e1e/artifact_storage/isaac__miller/llmforge-finetuning/meta-llama/Llama-3.2-1B-Instruct/TorchTrainer_2024-10-06_12-32-25/epochs-0-total-trained-steps-13/README.md to llama_1b_checkpoints_banking_torchtrainer/epochs-0-total-trained-steps-13/README.md\n",
      "Downloaded org_4snvy99zwbmh4gbtk64jfqggmj/cld_tffbxe9ia5phqr1unxhz4f7e1e/artifact_storage/isaac__miller/llmforge-finetuning/meta-llama/Llama-3.2-1B-Instruct/TorchTrainer_2024-10-06_12-32-25/epochs-0-total-trained-steps-13/adapter_config.json to llama_1b_checkpoints_banking_torchtrainer/epochs-0-total-trained-steps-13/adapter_config.json\n",
      "Downloaded org_4snvy99zwbmh4gbtk64jfqggmj/cld_tffbxe9ia5phqr1unxhz4f7e1e/artifact_storage/isaac__miller/llmforge-finetuning/meta-llama/Llama-3.2-1B-Instruct/TorchTrainer_2024-10-06_12-32-25/epochs-0-total-trained-steps-13/adapter_model.safetensors to llama_1b_checkpoints_banking_torchtrainer/epochs-0-total-trained-steps-13/adapter_model.safetensors\n",
      "Downloaded org_4snvy99zwbmh4gbtk64jfqggmj/cld_tffbxe9ia5phqr1unxhz4f7e1e/artifact_storage/isaac__miller/llmforge-finetuning/meta-llama/Llama-3.2-1B-Instruct/TorchTrainer_2024-10-06_12-32-25/epochs-0-total-trained-steps-13/config.json to llama_1b_checkpoints_banking_torchtrainer/epochs-0-total-trained-steps-13/config.json\n",
      "Downloaded org_4snvy99zwbmh4gbtk64jfqggmj/cld_tffbxe9ia5phqr1unxhz4f7e1e/artifact_storage/isaac__miller/llmforge-finetuning/meta-llama/Llama-3.2-1B-Instruct/TorchTrainer_2024-10-06_12-32-25/epochs-0-total-trained-steps-13/new_embeddings.safetensors to llama_1b_checkpoints_banking_torchtrainer/epochs-0-total-trained-steps-13/new_embeddings.safetensors\n",
      "Downloaded org_4snvy99zwbmh4gbtk64jfqggmj/cld_tffbxe9ia5phqr1unxhz4f7e1e/artifact_storage/isaac__miller/llmforge-finetuning/meta-llama/Llama-3.2-1B-Instruct/TorchTrainer_2024-10-06_12-32-25/epochs-0-total-trained-steps-13/rayllm_generation_config.json to llama_1b_checkpoints_banking_torchtrainer/epochs-0-total-trained-steps-13/rayllm_generation_config.json\n",
      "Downloaded org_4snvy99zwbmh4gbtk64jfqggmj/cld_tffbxe9ia5phqr1unxhz4f7e1e/artifact_storage/isaac__miller/llmforge-finetuning/meta-llama/Llama-3.2-1B-Instruct/TorchTrainer_2024-10-06_12-32-25/epochs-0-total-trained-steps-13/special_tokens_map.json to llama_1b_checkpoints_banking_torchtrainer/epochs-0-total-trained-steps-13/special_tokens_map.json\n",
      "Downloaded org_4snvy99zwbmh4gbtk64jfqggmj/cld_tffbxe9ia5phqr1unxhz4f7e1e/artifact_storage/isaac__miller/llmforge-finetuning/meta-llama/Llama-3.2-1B-Instruct/TorchTrainer_2024-10-06_12-32-25/epochs-0-total-trained-steps-13/tokenizer.json to llama_1b_checkpoints_banking_torchtrainer/epochs-0-total-trained-steps-13/tokenizer.json\n",
      "Downloaded org_4snvy99zwbmh4gbtk64jfqggmj/cld_tffbxe9ia5phqr1unxhz4f7e1e/artifact_storage/isaac__miller/llmforge-finetuning/meta-llama/Llama-3.2-1B-Instruct/TorchTrainer_2024-10-06_12-32-25/epochs-0-total-trained-steps-13/tokenizer_config.json to llama_1b_checkpoints_banking_torchtrainer/epochs-0-total-trained-steps-13/tokenizer_config.json\n",
      "Downloaded org_4snvy99zwbmh4gbtk64jfqggmj/cld_tffbxe9ia5phqr1unxhz4f7e1e/artifact_storage/isaac__miller/llmforge-finetuning/meta-llama/Llama-3.2-1B-Instruct/TorchTrainer_2024-10-06_12-32-25/epochs-1-total-trained-steps-26/README.md to llama_1b_checkpoints_banking_torchtrainer/epochs-1-total-trained-steps-26/README.md\n",
      "Downloaded org_4snvy99zwbmh4gbtk64jfqggmj/cld_tffbxe9ia5phqr1unxhz4f7e1e/artifact_storage/isaac__miller/llmforge-finetuning/meta-llama/Llama-3.2-1B-Instruct/TorchTrainer_2024-10-06_12-32-25/epochs-1-total-trained-steps-26/adapter_config.json to llama_1b_checkpoints_banking_torchtrainer/epochs-1-total-trained-steps-26/adapter_config.json\n",
      "Downloaded org_4snvy99zwbmh4gbtk64jfqggmj/cld_tffbxe9ia5phqr1unxhz4f7e1e/artifact_storage/isaac__miller/llmforge-finetuning/meta-llama/Llama-3.2-1B-Instruct/TorchTrainer_2024-10-06_12-32-25/epochs-1-total-trained-steps-26/adapter_model.safetensors to llama_1b_checkpoints_banking_torchtrainer/epochs-1-total-trained-steps-26/adapter_model.safetensors\n",
      "Downloaded org_4snvy99zwbmh4gbtk64jfqggmj/cld_tffbxe9ia5phqr1unxhz4f7e1e/artifact_storage/isaac__miller/llmforge-finetuning/meta-llama/Llama-3.2-1B-Instruct/TorchTrainer_2024-10-06_12-32-25/epochs-1-total-trained-steps-26/config.json to llama_1b_checkpoints_banking_torchtrainer/epochs-1-total-trained-steps-26/config.json\n",
      "Downloaded org_4snvy99zwbmh4gbtk64jfqggmj/cld_tffbxe9ia5phqr1unxhz4f7e1e/artifact_storage/isaac__miller/llmforge-finetuning/meta-llama/Llama-3.2-1B-Instruct/TorchTrainer_2024-10-06_12-32-25/epochs-1-total-trained-steps-26/new_embeddings.safetensors to llama_1b_checkpoints_banking_torchtrainer/epochs-1-total-trained-steps-26/new_embeddings.safetensors\n",
      "Downloaded org_4snvy99zwbmh4gbtk64jfqggmj/cld_tffbxe9ia5phqr1unxhz4f7e1e/artifact_storage/isaac__miller/llmforge-finetuning/meta-llama/Llama-3.2-1B-Instruct/TorchTrainer_2024-10-06_12-32-25/epochs-1-total-trained-steps-26/rayllm_generation_config.json to llama_1b_checkpoints_banking_torchtrainer/epochs-1-total-trained-steps-26/rayllm_generation_config.json\n",
      "Downloaded org_4snvy99zwbmh4gbtk64jfqggmj/cld_tffbxe9ia5phqr1unxhz4f7e1e/artifact_storage/isaac__miller/llmforge-finetuning/meta-llama/Llama-3.2-1B-Instruct/TorchTrainer_2024-10-06_12-32-25/epochs-1-total-trained-steps-26/special_tokens_map.json to llama_1b_checkpoints_banking_torchtrainer/epochs-1-total-trained-steps-26/special_tokens_map.json\n",
      "Downloaded org_4snvy99zwbmh4gbtk64jfqggmj/cld_tffbxe9ia5phqr1unxhz4f7e1e/artifact_storage/isaac__miller/llmforge-finetuning/meta-llama/Llama-3.2-1B-Instruct/TorchTrainer_2024-10-06_12-32-25/epochs-1-total-trained-steps-26/tokenizer.json to llama_1b_checkpoints_banking_torchtrainer/epochs-1-total-trained-steps-26/tokenizer.json\n",
      "Downloaded org_4snvy99zwbmh4gbtk64jfqggmj/cld_tffbxe9ia5phqr1unxhz4f7e1e/artifact_storage/isaac__miller/llmforge-finetuning/meta-llama/Llama-3.2-1B-Instruct/TorchTrainer_2024-10-06_12-32-25/epochs-1-total-trained-steps-26/tokenizer_config.json to llama_1b_checkpoints_banking_torchtrainer/epochs-1-total-trained-steps-26/tokenizer_config.json\n",
      "Downloaded org_4snvy99zwbmh4gbtk64jfqggmj/cld_tffbxe9ia5phqr1unxhz4f7e1e/artifact_storage/isaac__miller/llmforge-finetuning/meta-llama/Llama-3.2-1B-Instruct/TorchTrainer_2024-10-06_12-32-25/epochs-2-total-trained-steps-39/README.md to llama_1b_checkpoints_banking_torchtrainer/epochs-2-total-trained-steps-39/README.md\n",
      "Downloaded org_4snvy99zwbmh4gbtk64jfqggmj/cld_tffbxe9ia5phqr1unxhz4f7e1e/artifact_storage/isaac__miller/llmforge-finetuning/meta-llama/Llama-3.2-1B-Instruct/TorchTrainer_2024-10-06_12-32-25/epochs-2-total-trained-steps-39/adapter_config.json to llama_1b_checkpoints_banking_torchtrainer/epochs-2-total-trained-steps-39/adapter_config.json\n",
      "Downloaded org_4snvy99zwbmh4gbtk64jfqggmj/cld_tffbxe9ia5phqr1unxhz4f7e1e/artifact_storage/isaac__miller/llmforge-finetuning/meta-llama/Llama-3.2-1B-Instruct/TorchTrainer_2024-10-06_12-32-25/epochs-2-total-trained-steps-39/adapter_model.safetensors to llama_1b_checkpoints_banking_torchtrainer/epochs-2-total-trained-steps-39/adapter_model.safetensors\n",
      "Downloaded org_4snvy99zwbmh4gbtk64jfqggmj/cld_tffbxe9ia5phqr1unxhz4f7e1e/artifact_storage/isaac__miller/llmforge-finetuning/meta-llama/Llama-3.2-1B-Instruct/TorchTrainer_2024-10-06_12-32-25/epochs-2-total-trained-steps-39/config.json to llama_1b_checkpoints_banking_torchtrainer/epochs-2-total-trained-steps-39/config.json\n",
      "Downloaded org_4snvy99zwbmh4gbtk64jfqggmj/cld_tffbxe9ia5phqr1unxhz4f7e1e/artifact_storage/isaac__miller/llmforge-finetuning/meta-llama/Llama-3.2-1B-Instruct/TorchTrainer_2024-10-06_12-32-25/epochs-2-total-trained-steps-39/new_embeddings.safetensors to llama_1b_checkpoints_banking_torchtrainer/epochs-2-total-trained-steps-39/new_embeddings.safetensors\n",
      "Downloaded org_4snvy99zwbmh4gbtk64jfqggmj/cld_tffbxe9ia5phqr1unxhz4f7e1e/artifact_storage/isaac__miller/llmforge-finetuning/meta-llama/Llama-3.2-1B-Instruct/TorchTrainer_2024-10-06_12-32-25/epochs-2-total-trained-steps-39/rayllm_generation_config.json to llama_1b_checkpoints_banking_torchtrainer/epochs-2-total-trained-steps-39/rayllm_generation_config.json\n",
      "Downloaded org_4snvy99zwbmh4gbtk64jfqggmj/cld_tffbxe9ia5phqr1unxhz4f7e1e/artifact_storage/isaac__miller/llmforge-finetuning/meta-llama/Llama-3.2-1B-Instruct/TorchTrainer_2024-10-06_12-32-25/epochs-2-total-trained-steps-39/special_tokens_map.json to llama_1b_checkpoints_banking_torchtrainer/epochs-2-total-trained-steps-39/special_tokens_map.json\n",
      "Downloaded org_4snvy99zwbmh4gbtk64jfqggmj/cld_tffbxe9ia5phqr1unxhz4f7e1e/artifact_storage/isaac__miller/llmforge-finetuning/meta-llama/Llama-3.2-1B-Instruct/TorchTrainer_2024-10-06_12-32-25/epochs-2-total-trained-steps-39/tokenizer.json to llama_1b_checkpoints_banking_torchtrainer/epochs-2-total-trained-steps-39/tokenizer.json\n",
      "Downloaded org_4snvy99zwbmh4gbtk64jfqggmj/cld_tffbxe9ia5phqr1unxhz4f7e1e/artifact_storage/isaac__miller/llmforge-finetuning/meta-llama/Llama-3.2-1B-Instruct/TorchTrainer_2024-10-06_12-32-25/epochs-2-total-trained-steps-39/tokenizer_config.json to llama_1b_checkpoints_banking_torchtrainer/epochs-2-total-trained-steps-39/tokenizer_config.json\n",
      "Downloaded org_4snvy99zwbmh4gbtk64jfqggmj/cld_tffbxe9ia5phqr1unxhz4f7e1e/artifact_storage/isaac__miller/llmforge-finetuning/meta-llama/Llama-3.2-1B-Instruct/TorchTrainer_2024-10-06_12-32-25/epochs-3-total-trained-steps-52/README.md to llama_1b_checkpoints_banking_torchtrainer/epochs-3-total-trained-steps-52/README.md\n",
      "Downloaded org_4snvy99zwbmh4gbtk64jfqggmj/cld_tffbxe9ia5phqr1unxhz4f7e1e/artifact_storage/isaac__miller/llmforge-finetuning/meta-llama/Llama-3.2-1B-Instruct/TorchTrainer_2024-10-06_12-32-25/epochs-3-total-trained-steps-52/adapter_config.json to llama_1b_checkpoints_banking_torchtrainer/epochs-3-total-trained-steps-52/adapter_config.json\n",
      "Downloaded org_4snvy99zwbmh4gbtk64jfqggmj/cld_tffbxe9ia5phqr1unxhz4f7e1e/artifact_storage/isaac__miller/llmforge-finetuning/meta-llama/Llama-3.2-1B-Instruct/TorchTrainer_2024-10-06_12-32-25/epochs-3-total-trained-steps-52/adapter_model.safetensors to llama_1b_checkpoints_banking_torchtrainer/epochs-3-total-trained-steps-52/adapter_model.safetensors\n",
      "Downloaded org_4snvy99zwbmh4gbtk64jfqggmj/cld_tffbxe9ia5phqr1unxhz4f7e1e/artifact_storage/isaac__miller/llmforge-finetuning/meta-llama/Llama-3.2-1B-Instruct/TorchTrainer_2024-10-06_12-32-25/epochs-3-total-trained-steps-52/config.json to llama_1b_checkpoints_banking_torchtrainer/epochs-3-total-trained-steps-52/config.json\n",
      "Downloaded org_4snvy99zwbmh4gbtk64jfqggmj/cld_tffbxe9ia5phqr1unxhz4f7e1e/artifact_storage/isaac__miller/llmforge-finetuning/meta-llama/Llama-3.2-1B-Instruct/TorchTrainer_2024-10-06_12-32-25/epochs-3-total-trained-steps-52/new_embeddings.safetensors to llama_1b_checkpoints_banking_torchtrainer/epochs-3-total-trained-steps-52/new_embeddings.safetensors\n",
      "Downloaded org_4snvy99zwbmh4gbtk64jfqggmj/cld_tffbxe9ia5phqr1unxhz4f7e1e/artifact_storage/isaac__miller/llmforge-finetuning/meta-llama/Llama-3.2-1B-Instruct/TorchTrainer_2024-10-06_12-32-25/epochs-3-total-trained-steps-52/rayllm_generation_config.json to llama_1b_checkpoints_banking_torchtrainer/epochs-3-total-trained-steps-52/rayllm_generation_config.json\n",
      "Downloaded org_4snvy99zwbmh4gbtk64jfqggmj/cld_tffbxe9ia5phqr1unxhz4f7e1e/artifact_storage/isaac__miller/llmforge-finetuning/meta-llama/Llama-3.2-1B-Instruct/TorchTrainer_2024-10-06_12-32-25/epochs-3-total-trained-steps-52/special_tokens_map.json to llama_1b_checkpoints_banking_torchtrainer/epochs-3-total-trained-steps-52/special_tokens_map.json\n",
      "Downloaded org_4snvy99zwbmh4gbtk64jfqggmj/cld_tffbxe9ia5phqr1unxhz4f7e1e/artifact_storage/isaac__miller/llmforge-finetuning/meta-llama/Llama-3.2-1B-Instruct/TorchTrainer_2024-10-06_12-32-25/epochs-3-total-trained-steps-52/tokenizer.json to llama_1b_checkpoints_banking_torchtrainer/epochs-3-total-trained-steps-52/tokenizer.json\n",
      "Downloaded org_4snvy99zwbmh4gbtk64jfqggmj/cld_tffbxe9ia5phqr1unxhz4f7e1e/artifact_storage/isaac__miller/llmforge-finetuning/meta-llama/Llama-3.2-1B-Instruct/TorchTrainer_2024-10-06_12-32-25/epochs-3-total-trained-steps-52/tokenizer_config.json to llama_1b_checkpoints_banking_torchtrainer/epochs-3-total-trained-steps-52/tokenizer_config.json\n",
      "Downloaded org_4snvy99zwbmh4gbtk64jfqggmj/cld_tffbxe9ia5phqr1unxhz4f7e1e/artifact_storage/isaac__miller/llmforge-finetuning/meta-llama/Llama-3.2-1B-Instruct/TorchTrainer_2024-10-06_12-32-25/epochs-4-total-trained-steps-65/README.md to llama_1b_checkpoints_banking_torchtrainer/epochs-4-total-trained-steps-65/README.md\n",
      "Downloaded org_4snvy99zwbmh4gbtk64jfqggmj/cld_tffbxe9ia5phqr1unxhz4f7e1e/artifact_storage/isaac__miller/llmforge-finetuning/meta-llama/Llama-3.2-1B-Instruct/TorchTrainer_2024-10-06_12-32-25/epochs-4-total-trained-steps-65/adapter_config.json to llama_1b_checkpoints_banking_torchtrainer/epochs-4-total-trained-steps-65/adapter_config.json\n",
      "Downloaded org_4snvy99zwbmh4gbtk64jfqggmj/cld_tffbxe9ia5phqr1unxhz4f7e1e/artifact_storage/isaac__miller/llmforge-finetuning/meta-llama/Llama-3.2-1B-Instruct/TorchTrainer_2024-10-06_12-32-25/epochs-4-total-trained-steps-65/adapter_model.safetensors to llama_1b_checkpoints_banking_torchtrainer/epochs-4-total-trained-steps-65/adapter_model.safetensors\n",
      "Downloaded org_4snvy99zwbmh4gbtk64jfqggmj/cld_tffbxe9ia5phqr1unxhz4f7e1e/artifact_storage/isaac__miller/llmforge-finetuning/meta-llama/Llama-3.2-1B-Instruct/TorchTrainer_2024-10-06_12-32-25/epochs-4-total-trained-steps-65/config.json to llama_1b_checkpoints_banking_torchtrainer/epochs-4-total-trained-steps-65/config.json\n",
      "Downloaded org_4snvy99zwbmh4gbtk64jfqggmj/cld_tffbxe9ia5phqr1unxhz4f7e1e/artifact_storage/isaac__miller/llmforge-finetuning/meta-llama/Llama-3.2-1B-Instruct/TorchTrainer_2024-10-06_12-32-25/epochs-4-total-trained-steps-65/new_embeddings.safetensors to llama_1b_checkpoints_banking_torchtrainer/epochs-4-total-trained-steps-65/new_embeddings.safetensors\n",
      "Downloaded org_4snvy99zwbmh4gbtk64jfqggmj/cld_tffbxe9ia5phqr1unxhz4f7e1e/artifact_storage/isaac__miller/llmforge-finetuning/meta-llama/Llama-3.2-1B-Instruct/TorchTrainer_2024-10-06_12-32-25/epochs-4-total-trained-steps-65/rayllm_generation_config.json to llama_1b_checkpoints_banking_torchtrainer/epochs-4-total-trained-steps-65/rayllm_generation_config.json\n",
      "Downloaded org_4snvy99zwbmh4gbtk64jfqggmj/cld_tffbxe9ia5phqr1unxhz4f7e1e/artifact_storage/isaac__miller/llmforge-finetuning/meta-llama/Llama-3.2-1B-Instruct/TorchTrainer_2024-10-06_12-32-25/epochs-4-total-trained-steps-65/special_tokens_map.json to llama_1b_checkpoints_banking_torchtrainer/epochs-4-total-trained-steps-65/special_tokens_map.json\n",
      "Downloaded org_4snvy99zwbmh4gbtk64jfqggmj/cld_tffbxe9ia5phqr1unxhz4f7e1e/artifact_storage/isaac__miller/llmforge-finetuning/meta-llama/Llama-3.2-1B-Instruct/TorchTrainer_2024-10-06_12-32-25/epochs-4-total-trained-steps-65/tokenizer.json to llama_1b_checkpoints_banking_torchtrainer/epochs-4-total-trained-steps-65/tokenizer.json\n",
      "Downloaded org_4snvy99zwbmh4gbtk64jfqggmj/cld_tffbxe9ia5phqr1unxhz4f7e1e/artifact_storage/isaac__miller/llmforge-finetuning/meta-llama/Llama-3.2-1B-Instruct/TorchTrainer_2024-10-06_12-32-25/epochs-4-total-trained-steps-65/tokenizer_config.json to llama_1b_checkpoints_banking_torchtrainer/epochs-4-total-trained-steps-65/tokenizer_config.json\n",
      "Downloaded org_4snvy99zwbmh4gbtk64jfqggmj/cld_tffbxe9ia5phqr1unxhz4f7e1e/artifact_storage/isaac__miller/llmforge-finetuning/meta-llama/Llama-3.2-1B-Instruct/TorchTrainer_2024-10-06_12-32-25/epochs-5-total-trained-steps-78/README.md to llama_1b_checkpoints_banking_torchtrainer/epochs-5-total-trained-steps-78/README.md\n",
      "Downloaded org_4snvy99zwbmh4gbtk64jfqggmj/cld_tffbxe9ia5phqr1unxhz4f7e1e/artifact_storage/isaac__miller/llmforge-finetuning/meta-llama/Llama-3.2-1B-Instruct/TorchTrainer_2024-10-06_12-32-25/epochs-5-total-trained-steps-78/adapter_config.json to llama_1b_checkpoints_banking_torchtrainer/epochs-5-total-trained-steps-78/adapter_config.json\n",
      "Downloaded org_4snvy99zwbmh4gbtk64jfqggmj/cld_tffbxe9ia5phqr1unxhz4f7e1e/artifact_storage/isaac__miller/llmforge-finetuning/meta-llama/Llama-3.2-1B-Instruct/TorchTrainer_2024-10-06_12-32-25/epochs-5-total-trained-steps-78/adapter_model.safetensors to llama_1b_checkpoints_banking_torchtrainer/epochs-5-total-trained-steps-78/adapter_model.safetensors\n",
      "Downloaded org_4snvy99zwbmh4gbtk64jfqggmj/cld_tffbxe9ia5phqr1unxhz4f7e1e/artifact_storage/isaac__miller/llmforge-finetuning/meta-llama/Llama-3.2-1B-Instruct/TorchTrainer_2024-10-06_12-32-25/epochs-5-total-trained-steps-78/config.json to llama_1b_checkpoints_banking_torchtrainer/epochs-5-total-trained-steps-78/config.json\n",
      "Downloaded org_4snvy99zwbmh4gbtk64jfqggmj/cld_tffbxe9ia5phqr1unxhz4f7e1e/artifact_storage/isaac__miller/llmforge-finetuning/meta-llama/Llama-3.2-1B-Instruct/TorchTrainer_2024-10-06_12-32-25/epochs-5-total-trained-steps-78/new_embeddings.safetensors to llama_1b_checkpoints_banking_torchtrainer/epochs-5-total-trained-steps-78/new_embeddings.safetensors\n",
      "Downloaded org_4snvy99zwbmh4gbtk64jfqggmj/cld_tffbxe9ia5phqr1unxhz4f7e1e/artifact_storage/isaac__miller/llmforge-finetuning/meta-llama/Llama-3.2-1B-Instruct/TorchTrainer_2024-10-06_12-32-25/epochs-5-total-trained-steps-78/rayllm_generation_config.json to llama_1b_checkpoints_banking_torchtrainer/epochs-5-total-trained-steps-78/rayllm_generation_config.json\n",
      "Downloaded org_4snvy99zwbmh4gbtk64jfqggmj/cld_tffbxe9ia5phqr1unxhz4f7e1e/artifact_storage/isaac__miller/llmforge-finetuning/meta-llama/Llama-3.2-1B-Instruct/TorchTrainer_2024-10-06_12-32-25/epochs-5-total-trained-steps-78/special_tokens_map.json to llama_1b_checkpoints_banking_torchtrainer/epochs-5-total-trained-steps-78/special_tokens_map.json\n",
      "Downloaded org_4snvy99zwbmh4gbtk64jfqggmj/cld_tffbxe9ia5phqr1unxhz4f7e1e/artifact_storage/isaac__miller/llmforge-finetuning/meta-llama/Llama-3.2-1B-Instruct/TorchTrainer_2024-10-06_12-32-25/epochs-5-total-trained-steps-78/tokenizer.json to llama_1b_checkpoints_banking_torchtrainer/epochs-5-total-trained-steps-78/tokenizer.json\n",
      "Downloaded org_4snvy99zwbmh4gbtk64jfqggmj/cld_tffbxe9ia5phqr1unxhz4f7e1e/artifact_storage/isaac__miller/llmforge-finetuning/meta-llama/Llama-3.2-1B-Instruct/TorchTrainer_2024-10-06_12-32-25/epochs-5-total-trained-steps-78/tokenizer_config.json to llama_1b_checkpoints_banking_torchtrainer/epochs-5-total-trained-steps-78/tokenizer_config.json\n",
      "Downloaded org_4snvy99zwbmh4gbtk64jfqggmj/cld_tffbxe9ia5phqr1unxhz4f7e1e/artifact_storage/isaac__miller/llmforge-finetuning/meta-llama/Llama-3.2-1B-Instruct/TorchTrainer_2024-10-06_12-32-25/experiment_state-2024-10-06_12-32-26.json to llama_1b_checkpoints_banking_torchtrainer/experiment_state-2024-10-06_12-32-26.json\n",
      "Downloaded org_4snvy99zwbmh4gbtk64jfqggmj/cld_tffbxe9ia5phqr1unxhz4f7e1e/artifact_storage/isaac__miller/llmforge-finetuning/meta-llama/Llama-3.2-1B-Instruct/TorchTrainer_2024-10-06_12-32-25/trainer.pkl to llama_1b_checkpoints_banking_torchtrainer/trainer.pkl\n",
      "Downloaded org_4snvy99zwbmh4gbtk64jfqggmj/cld_tffbxe9ia5phqr1unxhz4f7e1e/artifact_storage/isaac__miller/llmforge-finetuning/meta-llama/Llama-3.2-1B-Instruct/TorchTrainer_2024-10-06_12-32-25/tuner.pkl to llama_1b_checkpoints_banking_torchtrainer/tuner.pkl\n",
      "Folder org_4snvy99zwbmh4gbtk64jfqggmj/cld_tffbxe9ia5phqr1unxhz4f7e1e/artifact_storage/isaac__miller/llmforge-finetuning/meta-llama/Llama-3.2-1B-Instruct/TorchTrainer_2024-10-06_12-32-25/ downloaded to llama_1b_checkpoints_banking_torchtrainer.\n"
     ]
    },
    {
     "data": {
      "text/plain": [
       "'llama_1b_checkpoints_banking_torchtrainer'"
      ]
     },
     "execution_count": 58,
     "metadata": {},
     "output_type": "execute_result"
    }
   ],
   "source": [
    "# I need to get all the checkpoints somehow\n",
    "# bucket: storage-bucket-cld-tffbxe9ia5phqr1unxhz4f7e1e and path: org_4snvy99zwbmh4gbtk64jfqggmj/cld_tffbxe9ia5phqr1unxhz4f7e1e/artifact_storage/lora_fine_tuning/meta-llama/Meta-Llama-3.1-8B-Instruct:isaac:vblcs\n",
    "\n",
    "# download_from_gcp_bucket(\"storage-bucket-cld-tffbxe9ia5phqr1unxhz4f7e1e\", \"org_4snvy99zwbmh4gbtk64jfqggmj/cld_tffbxe9ia5phqr1unxhz4f7e1e/artifact_storage/lora_fine_tuning/meta-llama/Meta-Llama-3.1-8B-Instruct:isaac:vblcs\", \"llama_8b_checkpoints\")\n",
    "\n",
    "# storage-bucket-cld-tffbxe9ia5phqr1unxhz4f7e1e/org_4snvy99zwbmh4gbtk64jfqggmj/cld_tffbxe9ia5phqr1unxhz4f7e1e/artifact_storage/isaac__miller/llmforge-finetuning/meta-llama/Meta-Llama-3.1-8B-Instruct/TorchTrainer_2024-09-26_17-26-38\n",
    "\n",
    "# download_from_gcp_bucket(\"storage-bucket-cld-tffbxe9ia5phqr1unxhz4f7e1e\", \"org_4snvy99zwbmh4gbtk64jfqggmj/cld_tffbxe9ia5phqr1unxhz4f7e1e/artifact_storage/isaac__miller/llmforge-finetuning/meta-llama/Meta-Llama-3.1-8B-Instruct/TorchTrainer_2024-09-26_17-26-38\", \"llama_8b_checkpoints_torchtrainer\")\n",
    "\n",
    "\n",
    "# gs://storage-bucket-cld-tffbxe9ia5phqr1unxhz4f7e1e/org_4snvy99zwbmh4gbtk64jfqggmj/cld_tffbxe9ia5phqr1unxhz4f7e1e/artifact_storage/isaac__miller/llmforge-finetuning/meta-llama/Llama-3.2-1B-Instruct/TorchTrainer_2024-10-06_12-32-25/\n",
    "\n",
    "download_from_gcp_bucket(\"storage-bucket-cld-tffbxe9ia5phqr1unxhz4f7e1e\", \"org_4snvy99zwbmh4gbtk64jfqggmj/cld_tffbxe9ia5phqr1unxhz4f7e1e/artifact_storage/isaac__miller/llmforge-finetuning/meta-llama/Llama-3.2-1B-Instruct/TorchTrainer_2024-10-06_12-32-25/\", \"llama_1b_checkpoints_banking_torchtrainer\")\n"
   ]
  },
  {
   "cell_type": "code",
   "execution_count": null,
   "metadata": {},
   "outputs": [],
   "source": [
    "# Lets sanity check the finetuned model. We need to download it first.\n",
    "# After the finetuning is complete, the logs will say something like \"Note: Best LoRA weights forwarded to gs://storage-bucket...\"\n",
    "# Update that link below with the correct path.\n",
    "if job_id:\n",
    "    model_info = anyscale.llm.model.get(job_id=job_id).to_dict()\n",
    "\n",
    "model_id = model_info[\"base_model_id\"] if job_id else \"meta-llama/Meta-Llama-3.1-8B-Instruct\"\n",
    "lora_source_path = model_info['storage_uri'] if job_id else \"\"\n",
    "\n",
    "# lora_source_path = \"gs://storage-bucket-cld-tffbxe9ia5phqr1unxhz4f7e1e/org_4snvy99zwbmh4gbtk64jfqggmj/cld_tffbxe9ia5phqr1unxhz4f7e1e/artifact_storage/lora_fine_tuning/meta-llama/Meta-Llama-3.1-8B-Instruct:isaac:yuxwd\""
   ]
  },
  {
   "cell_type": "code",
   "execution_count": null,
   "metadata": {},
   "outputs": [],
   "source": [
    "# # Parse the GCS path\n",
    "bucket_name = lora_source_path.split('/')[2]\n",
    "source_folder = '/'.join(lora_source_path.split('/')[3:])\n",
    "\n",
    "# Download the LoRA model folder locally\n",
    "local_lora_path = download_from_gcp_bucket(bucket_name, source_folder, \"/mnt/local_storage/dspy/mhqa-lora\")"
   ]
  },
  {
   "cell_type": "markdown",
   "metadata": {},
   "source": [
    "# Evaluation\n",
    "\n",
    "Throughout this section, anything using 8B model (or technically 70B too) should use the new evaluate with ray data batch offline(or technically online) inference.\n",
    "\n",
    "Probably worth testing offline with 8x8 threads vs just 64 threads to see if it makes a meaningful difference.\n",
    "\n",
    "## Performance comparisons\n",
    "\n",
    "- 70B\n",
    "- 70B BSFS\n",
    "- 8B\n",
    "- 8B BSFT\n",
    "- 8B BSFT + BSFS"
   ]
  },
  {
   "cell_type": "markdown",
   "metadata": {},
   "source": [
    "First, we need to serve the base model and tell VLLM where to find the LoRA weights\n",
    "\n",
    "Run the following command:\n",
    "\n",
    "```\n",
    "vllm serve meta-llama/Meta-Llama-3.1-8B-Instruct --port 8000 --pipeline_parallel_size 4 --enable_prefix_caching --enable_lora --lora_modules mhqa-lora=/mnt/local_storage/dspy/mhqa-lora\n",
    "```\n",
    "\n",
    "# Explanation:\n",
    "This command starts a VLLM server to serve the Meta-Llama-3-8B-Instruct model with LoRA fine-tuning.\n",
    "Here's a breakdown of the command:\n",
    "- 'vllm serve': Starts the VLLM server\n",
    "- 'meta-llama/Meta-Llama-3.1-8B-Instruct': Specifies the base model to use\n",
    "- '--port 8000': Sets the server port to 8000\n",
    "- '--pipeline_parallel_size 4': Enables pipeline parallelism with 4 stages\n",
    "- '--enable_prefix_caching': Enables caching of prefixes for faster inference\n",
    "- '--enable_lora': Enables LoRA (Low-Rank Adaptation) for fine-tuning\n",
    "- '--lora_modules mhqa-lora=/mnt/local_storage/dspy/mhqa-lora': Specifies the name of the LoRA module and the path to the LoRA weights. We use the name instead of the base model name when trying to use the LoRA weights. If we just use the base model name, the server will ignore the LoRA weights.\n",
    "\n",
    "This setup allows us to serve a fine-tuned version of the 8B model, which we'll use for subsequent evaluations."
   ]
  },
  {
   "cell_type": "code",
   "execution_count": 13,
   "metadata": {},
   "outputs": [
    {
     "data": {
      "text/plain": [
       "{'epochs-4-total-trained-steps-65': '/home/ray/default/templates/templates/e2e-dspy-workflow/llama_1b_checkpoints_banking_torchtrainer/epochs-4-total-trained-steps-65',\n",
       " 'epochs-3-total-trained-steps-52': '/home/ray/default/templates/templates/e2e-dspy-workflow/llama_1b_checkpoints_banking_torchtrainer/epochs-3-total-trained-steps-52',\n",
       " 'epochs-2-total-trained-steps-39': '/home/ray/default/templates/templates/e2e-dspy-workflow/llama_1b_checkpoints_banking_torchtrainer/epochs-2-total-trained-steps-39',\n",
       " 'epochs-1-total-trained-steps-26': '/home/ray/default/templates/templates/e2e-dspy-workflow/llama_1b_checkpoints_banking_torchtrainer/epochs-1-total-trained-steps-26',\n",
       " 'epochs-5-total-trained-steps-78': '/home/ray/default/templates/templates/e2e-dspy-workflow/llama_1b_checkpoints_banking_torchtrainer/epochs-5-total-trained-steps-78',\n",
       " 'epochs-0-total-trained-steps-13': '/home/ray/default/templates/templates/e2e-dspy-workflow/llama_1b_checkpoints_banking_torchtrainer/epochs-0-total-trained-steps-13'}"
      ]
     },
     "execution_count": 13,
     "metadata": {},
     "output_type": "execute_result"
    }
   ],
   "source": [
    "import os\n",
    "\n",
    "# All checkpoints are inside llama_8b_checkpoints_torchtrainer\n",
    "# get all folders inside llama_8b_checkpoints_torchtrainer\n",
    "folders = os.listdir(\"llama_1b_checkpoints_banking_torchtrainer\")\n",
    "folders = [f for f in folders if os.path.isdir(os.path.join(\"llama_1b_checkpoints_banking_torchtrainer\", f)) and f.startswith(\"epoch\")]\n",
    "\n",
    "# Get the current working directory\n",
    "current_working_path = os.getcwd()\n",
    "\n",
    "folder_lora_location = {f: os.path.join(current_working_path, \"llama_1b_checkpoints_banking_torchtrainer\", f) for f in folders}\n",
    "folder_lora_location\n"
   ]
  },
  {
   "cell_type": "code",
   "execution_count": 14,
   "metadata": {},
   "outputs": [
    {
     "name": "stdout",
     "output_type": "stream",
     "text": [
      "in multiopenai 0\n",
      "in multiopenai 0\n",
      "in multiopenai 0\n"
     ]
    },
    {
     "name": "stdout",
     "output_type": "stream",
     "text": [
      "in multiopenai 0\n",
      "in multiopenai 0\n",
      "in multiopenai 0\n",
      "in multiopenai 0\n"
     ]
    }
   ],
   "source": [
    "# Command for easy copying: \n",
    "\n",
    "# `vllm serve meta-llama/Meta-Llama-3.1-8B-Instruct --port 8000 --pipeline_parallel_size 4 --enable_prefix_caching --enable_lora --lora_modules mhqa-lora=/mnt/local_storage/dspy/mhqa-lora`\n",
    "# LOCAL_API_PARAMETERS[\"api_base\"] = \"http://localhost:6942/v1\"\n",
    "llama_1b = dspy.MultiOpenAI(model=\"meta-llama/Llama-3.2-1B-Instruct\", **LOCAL_API_PARAMETERS, **MODEL_PARAMETERS)\n",
    "# mhqa_llama_8b = dspy.MultiOpenAI(model=\"mhqa-lora\", **LOCAL_API_PARAMETERS, **MODEL_PARAMETERS)\n",
    "mhqa_finetuned_llamas_8b = {f: dspy.MultiOpenAI(model=f, **LOCAL_API_PARAMETERS, **MODEL_PARAMETERS) for f in folder_lora_location.keys()}"
   ]
  },
  {
   "cell_type": "code",
   "execution_count": 61,
   "metadata": {},
   "outputs": [
    {
     "name": "stdout",
     "output_type": "stream",
     "text": [
      "vllm serve meta-llama/Llama-3.2-1B-Instruct --port 8000 --pipeline_parallel_size 4 --enable_prefix_caching --enable_lora --lora_modules epochs-4-total-trained-steps-65=/home/ray/default/templates/templates/e2e-dspy-workflow/llama_1b_checkpoints_banking_torchtrainer/epochs-4-total-trained-steps-65 epochs-3-total-trained-steps-52=/home/ray/default/templates/templates/e2e-dspy-workflow/llama_1b_checkpoints_banking_torchtrainer/epochs-3-total-trained-steps-52 epochs-2-total-trained-steps-39=/home/ray/default/templates/templates/e2e-dspy-workflow/llama_1b_checkpoints_banking_torchtrainer/epochs-2-total-trained-steps-39 epochs-1-total-trained-steps-26=/home/ray/default/templates/templates/e2e-dspy-workflow/llama_1b_checkpoints_banking_torchtrainer/epochs-1-total-trained-steps-26 epochs-5-total-trained-steps-78=/home/ray/default/templates/templates/e2e-dspy-workflow/llama_1b_checkpoints_banking_torchtrainer/epochs-5-total-trained-steps-78 epochs-0-total-trained-steps-13=/home/ray/default/templates/templates/e2e-dspy-workflow/llama_1b_checkpoints_banking_torchtrainer/epochs-0-total-trained-steps-13\n"
     ]
    }
   ],
   "source": [
    "# Lets dynamically generate a vllm command that will load all the models\n",
    "base = \"vllm serve meta-llama/Llama-3.2-1B-Instruct --port 8000 --pipeline_parallel_size 4 --enable_prefix_caching --enable_lora --lora_modules\"\n",
    "for folder, path in folder_lora_location.items():\n",
    "    base += f\" {folder}={path}\"\n",
    "print(base)\n"
   ]
  },
  {
   "cell_type": "code",
   "execution_count": 63,
   "metadata": {},
   "outputs": [
    {
     "name": "stdout",
     "output_type": "stream",
     "text": [
      "{'epochs-4-total-trained-steps-65': <dsp.modules.multi_openai.MultiOpenAI object at 0x78a254819b50>, 'epochs-3-total-trained-steps-52': <dsp.modules.multi_openai.MultiOpenAI object at 0x78a224396f40>, 'epochs-2-total-trained-steps-39': <dsp.modules.multi_openai.MultiOpenAI object at 0x78a164feb580>, 'epochs-1-total-trained-steps-26': <dsp.modules.multi_openai.MultiOpenAI object at 0x78a25632b070>, 'epochs-5-total-trained-steps-78': <dsp.modules.multi_openai.MultiOpenAI object at 0x78a2f032c820>, 'epochs-0-total-trained-steps-13': <dsp.modules.multi_openai.MultiOpenAI object at 0x78a25422bd30>}\n"
     ]
    }
   ],
   "source": [
    "print(mhqa_finetuned_llamas_8b)"
   ]
  },
  {
   "cell_type": "code",
   "execution_count": 15,
   "metadata": {},
   "outputs": [
    {
     "name": "stdout",
     "output_type": "stream",
     "text": [
      "Evaluating the vanilla program on the devset using the model to be trained (epochs-4-total-trained-steps-65)...\n"
     ]
    },
    {
     "name": "stderr",
     "output_type": "stream",
     "text": [
      "Average Metric: 391 / 1000  (39.1): 100%|██████████| 1000/1000 [05:11<00:00,  3.21it/s]\n"
     ]
    },
    {
     "name": "stdout",
     "output_type": "stream",
     "text": [
      "result for epochs-4-total-trained-steps-65: 39.1\n",
      "Evaluating the vanilla program on the devset using the model to be trained (epochs-3-total-trained-steps-52)...\n"
     ]
    },
    {
     "name": "stderr",
     "output_type": "stream",
     "text": [
      "Average Metric: 351 / 1000  (35.1): 100%|██████████| 1000/1000 [05:17<00:00,  3.15it/s]\n"
     ]
    },
    {
     "name": "stdout",
     "output_type": "stream",
     "text": [
      "result for epochs-3-total-trained-steps-52: 35.1\n",
      "Evaluating the vanilla program on the devset using the model to be trained (epochs-2-total-trained-steps-39)...\n"
     ]
    },
    {
     "name": "stderr",
     "output_type": "stream",
     "text": [
      "Average Metric: 342 / 1000  (34.2): 100%|██████████| 1000/1000 [04:39<00:00,  3.58it/s]\n"
     ]
    },
    {
     "name": "stdout",
     "output_type": "stream",
     "text": [
      "result for epochs-2-total-trained-steps-39: 34.2\n",
      "Evaluating the vanilla program on the devset using the model to be trained (epochs-1-total-trained-steps-26)...\n"
     ]
    },
    {
     "name": "stderr",
     "output_type": "stream",
     "text": [
      "Average Metric: 422 / 1000  (42.2): 100%|██████████| 1000/1000 [02:25<00:00,  6.89it/s]\n"
     ]
    },
    {
     "name": "stdout",
     "output_type": "stream",
     "text": [
      "result for epochs-1-total-trained-steps-26: 42.2\n",
      "Evaluating the vanilla program on the devset using the model to be trained (epochs-5-total-trained-steps-78)...\n"
     ]
    },
    {
     "name": "stderr",
     "output_type": "stream",
     "text": [
      "Average Metric: 378 / 1000  (37.8): 100%|██████████| 1000/1000 [05:36<00:00,  2.97it/s]\n"
     ]
    },
    {
     "name": "stdout",
     "output_type": "stream",
     "text": [
      "result for epochs-5-total-trained-steps-78: 37.8\n",
      "Evaluating the vanilla program on the devset using the model to be trained (epochs-0-total-trained-steps-13)...\n"
     ]
    },
    {
     "name": "stderr",
     "output_type": "stream",
     "text": [
      "Average Metric: 251 / 1000  (25.1): 100%|██████████| 1000/1000 [02:03<00:00,  8.10it/s]\n"
     ]
    },
    {
     "name": "stdout",
     "output_type": "stream",
     "text": [
      "result for epochs-0-total-trained-steps-13: 25.1\n"
     ]
    }
   ],
   "source": [
    "for folder, llama in mhqa_finetuned_llamas_8b.items():\n",
    "    vanilla_program = SimpleIntentClassificationModule()\n",
    "    with dspy.context(lm=llama):\n",
    "        print(f\"Evaluating the vanilla program on the devset using the model to be trained ({folder})...\")\n",
    "        eval_result = evaluate_devset(vanilla_program)\n",
    "        print(f\"result for {folder}: {eval_result}\")"
   ]
  },
  {
   "cell_type": "markdown",
   "metadata": {},
   "source": [
    "Now let's try optimizing the program with the finetuned model"
   ]
  },
  {
   "cell_type": "code",
   "execution_count": null,
   "metadata": {},
   "outputs": [],
   "source": [
    "COMPILE_PROGRAM = True\n",
    "\n",
    "with dspy.context(lm=mhqa_llama_8b, rm=retriever):\n",
    "    vanilla_program = BasicMH()\n",
    "    if COMPILE_PROGRAM:\n",
    "        bfrs_finetuned_program = bfrs_optimizer.compile(vanilla_program, trainset=optimizer_trainset, valset=optimizer_valset)\n",
    "        bfrs_finetuned_program.save(f\"basicmh_8b_32_ft_bfrs_{MAX_BOOTSTRAPPED_DEMOS}_{MAX_LABELED_DEMOS}_{NUM_CANDIDATE_PROGRAMS}.json\")\n",
    "    else:\n",
    "        bfrs_finetuned_program = BasicMH()\n",
    "        bfrs_finetuned_program.load(f\"basicmh_8b_32_ft_bfrs_{MAX_BOOTSTRAPPED_DEMOS}_{MAX_LABELED_DEMOS}_{NUM_CANDIDATE_PROGRAMS}.json\")\n",
    "    llama_8b_bfrs_finetuned_eval = evaluate_devset(bfrs_finetuned_program)"
   ]
  },
  {
   "cell_type": "code",
   "execution_count": null,
   "metadata": {},
   "outputs": [],
   "source": [
    "COMPILE_PROGRAM = True\n",
    "with dspy.context(lm=mhqa_llama_8b, rm=retriever):\n",
    "    vanilla_program = BasicMH()\n",
    "    if COMPILE_PROGRAM:\n",
    "        teleprompter = MIPROv2(prompt_model=llama_8b, task_model=mhqa_llama_8b, metric=metric, num_candidates=10, init_temperature=0.9, verbose=True)\n",
    "        compiled_program = teleprompter.compile(vanilla_program, trainset=optimizer_trainset, valset=optimizer_valset, num_batches=30, max_bootstrapped_demos=MAX_BOOTSTRAPPED_DEMOS,max_labeled_demos=MAX_LABELED_DEMOS, eval_kwargs=eval_kwargs, requires_permission_to_run=False)\n",
    "        compiled_program.save(f\"basicmh_8b_ft_MIPROv2_{MAX_BOOTSTRAPPED_DEMOS}_{MAX_LABELED_DEMOS}.json\")\n",
    "    else:\n",
    "        compiled_program = BasicMH()\n",
    "        compiled_program.load(f\"basicmh_8b_ft_MIPROv2_{MAX_BOOTSTRAPPED_DEMOS}_{MAX_LABELED_DEMOS}.json\")\n",
    "    llama_8b_ft_mipro_eval = evaluate_devset(compiled_program)"
   ]
  },
  {
   "cell_type": "markdown",
   "metadata": {},
   "source": [
    "Lastly, lets give the base 8B model a fair chance by prompt optimizing it."
   ]
  },
  {
   "cell_type": "code",
   "execution_count": null,
   "metadata": {},
   "outputs": [],
   "source": [
    "COMPILE_PROGRAM = True\n",
    "\n",
    "optimizer_trainset, optimizer_valset = get_optimizer_train_val_set(shuffled_trainset, OPTIMIZER_NUM_TRAIN, OPTIMIZER_NUM_VAL)\n",
    "\n",
    "with dspy.context(lm=llama_1b):\n",
    "    vanilla_program = SimpleIntentClassificationModule()\n",
    "    if COMPILE_PROGRAM:\n",
    "        bfrs_program = bfrs_optimizer.compile(vanilla_program, trainset=optimizer_trainset, valset=optimizer_valset)\n",
    "        bfrs_program.save(f\"simpleintent_1b_32_bfrs_{MAX_BOOTSTRAPPED_DEMOS}_{MAX_LABELED_DEMOS}_{NUM_CANDIDATE_PROGRAMS}.json\")\n",
    "    else:\n",
    "        bfrs_program = SimpleIntentClassificationModule()\n",
    "        bfrs_program.load(f\"simpleintent_1b_32_bfrs_{MAX_BOOTSTRAPPED_DEMOS}_{MAX_LABELED_DEMOS}_{NUM_CANDIDATE_PROGRAMS}.json\")\n",
    "    llama_1b_bfrs_eval = evaluate_devset(bfrs_program)\n"
   ]
  },
  {
   "cell_type": "code",
   "execution_count": null,
   "metadata": {},
   "outputs": [],
   "source": [
    "# Now we can compare all iterations of this pipeline\n",
    "print(f\"Results for HotPotQA fine-tuning LLaMa 8B with a starting trainset\")\n",
    "print(f\"    70B model (vanilla program): {llama_70b_base_eval}\")\n",
    "print(f\"    70B model (bfrs program): {llama_70b_bfrs_eval}\")\n",
    "print(f\"    8B model (vanilla program): {vanilla_8b_base_eval}\")\n",
    "print(f\"    8B model (bfrs program): {llama_8b_bfrs_eval}\")\n",
    "print(f\"    8B model (finetuned program): {llama_8b_finetuned_eval}\")\n",
    "print(f\"    8B model (finetuned bfrs program): {llama_8b_bfrs_finetuned_eval}\")\n",
    "print(f\"    8B model (finetuned mipro program): {llama_8b_ft_mipro_eval}\")"
   ]
  },
  {
   "cell_type": "markdown",
   "metadata": {},
   "source": [
    "TODO: Let's now use the new offline batch inference to evaluate the finetuned model with optimized program on the entire devset"
   ]
  },
  {
   "cell_type": "code",
   "execution_count": null,
   "metadata": {},
   "outputs": [],
   "source": [
    "# TODO: implement once done"
   ]
  },
  {
   "cell_type": "code",
   "execution_count": null,
   "metadata": {},
   "outputs": [],
   "source": [
    "raise NotImplementedError(\"Stop here\")"
   ]
  },
  {
   "cell_type": "markdown",
   "metadata": {},
   "source": [
    "# Serving\n",
    "\n",
    "This is the second biggest unknown\n",
    "I imagine it to be easy, but crazier things have happened\n",
    "\n",
    "I need to keep a reference or link to the LLM forge job inside the LM.finetune method"
   ]
  },
  {
   "cell_type": "markdown",
   "metadata": {},
   "source": [
    "how do I get the ray llm image!\n",
    "\n",
    "We'll start by running the rayllm CLI command below to start the workflow to generate the service yaml configuration:\n",
    "```bash\n",
    "mkdir /home/ray/default/deploy/services\n",
    "cd /home/ray/default/deploy/services\n",
    "rayllm gen-config \n",
    "```\n",
    "\n",
    "<img src=\"assets/cli.png\" width=500 alt=\"todo! get this inage of what I need to serve\">\n"
   ]
  },
  {
   "cell_type": "markdown",
   "metadata": {},
   "source": [
    "## Batch offline inference\n",
    "- Compare running inference using \n",
    "    - Ray Data \n",
    "    - multithreading on local VLLM thru HTTP\n",
    "    - Multithreading to Ray Serve instance thru HTTP\n",
    "- Dev time estimate: 7 days"
   ]
  },
  {
   "cell_type": "markdown",
   "metadata": {},
   "source": []
  },
  {
   "cell_type": "markdown",
   "metadata": {},
   "source": [
    "<b style=\"background-color: yellow;\">&nbsp;🛑 IMPORTANT&nbsp;</b>: Please `Terminate` your service from the Service page to avoid depleting your free trial credits."
   ]
  },
  {
   "cell_type": "code",
   "execution_count": null,
   "metadata": {},
   "outputs": [],
   "source": [
    "# Clean up\n",
    "!python src/clear_cell_nums.py\n",
    "!find . | grep -E \".ipynb_checkpoints\" | xargs rm -rf\n",
    "!find . | grep -E \"(__pycache__|\\.pyc|\\.pyo)\" | xargs rm -rf\n",
    "!rm -rf __pycache__ data .HF_TOKEN deploy/services"
   ]
  }
 ],
 "metadata": {
  "kernelspec": {
   "display_name": "base",
   "language": "python",
   "name": "python3"
  },
  "language_info": {
   "codemirror_mode": {
    "name": "ipython",
    "version": 3
   },
   "file_extension": ".py",
   "mimetype": "text/x-python",
   "name": "python",
   "nbconvert_exporter": "python",
   "pygments_lexer": "ipython3",
   "version": "3.9.19"
  }
 },
 "nbformat": 4,
 "nbformat_minor": 2
}
