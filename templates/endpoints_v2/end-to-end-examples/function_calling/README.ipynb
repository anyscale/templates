{
 "cells": [
  {
   "cell_type": "markdown",
   "metadata": {},
   "source": [
    "# Build Tool Calling Feature for LLMs using JSON Mode\n",
    "**⏱️ Time to complete**: 20 min\n",
    "\n",
    "**Tool calling** (aka **Function calling**) allows you to hook up external tools to an LLM, enabling it to use APIs and other functions to perform tasks. This feature is particularly useful when you want to extend the capabilities of an LLM beyond its internal knowledge base.\n",
    "\n",
    "This example explains how to use [JSON Mode](docs.anyscale.com/llms/serving/guides/json_mode) to enable this capability for *any* LLM. "
   ]
  },
  {
   "cell_type": "markdown",
   "metadata": {},
   "source": [
    "\n",
    "## How does tool calling work?\n",
    "\n",
    "Tool calling typically follows three steps:\n",
    "\n",
    "1. The user submits a query and includes a list of functions along with their parameters and descriptions.\n",
    "\n",
    "2. The LLM evaluates whether to activate a function:\n",
    "    * If it decides not to, it responds in natural language– either providing an answer based on its internal knowledge or seeking clarifications about the query and tool usage.\n",
    "    * If it decides to use a function, it suggests the appropriate API and details on how to employ it, all formatted in JSON.\n",
    "\n",
    "3. The user then executes the API call in their application and then submits the response back to the LLM. The LLM analyzes the results and continues with any next steps.\n",
    "\n",
    "Tool calling can be enabled with one of the two following approaches:\n",
    "\n",
    "1. **Fine-tuning**: You can fine-tune an LLM to use tools when prompted in a specific way. Many recently released open-weight models have gone through some stages of post-training and come out-of-the-box with the capability to use tools. For examples, `mistralai/Mixtral-8x22B-Instruct-v0.1` and `meta-llama/Meta-Llama-3.1-8B-Instruct` natively support tool calling. They have been fine-tuned to do so when given a special prompt format. To use these models, you must specify the tool-compatible prompt format in your LLM config YAML. \n",
    "\n",
    "For example, for `mistralai/Mixtral-8x22B-Instruct-v0.1`, here is the prompt format used to enable tool calling (see the full config [here](./llm_configs/mistralai--Mixtral-8x22B-Instruct-v0_1.yaml)):\n",
    "\n",
    "```yaml\n",
    "    prompt_format:\n",
    "        system: \"{instruction}\\n\\n \"\n",
    "        assistant: \"{tool_calls}{instruction} </s> \"\n",
    "        # Special part of assistant message (shows the previous assistant message that was a tool call).\n",
    "        tool_calls: \" [TOOL_CALLS] {instruction}\"\n",
    "        # Special new role that should trigger the model to ingest results of tool calls\n",
    "        tool: \"[TOOL_RESULTS] {instruction} [/TOOL_RESULTS]\"\n",
    "        # The format of the available tools that for mixtral goes into the last user message\n",
    "        tools_list: \"[AVAILABLE_TOOLS] {instruction} [/AVAILABLE_TOOLS] \"\n",
    "        trailing_assistant: \"\"\n",
    "        user: \"{tools_list}[INST] {system}{instruction} [/INST]\"\n",
    "        # Only one BOS is added at the beginning of the entire conversation\n",
    "        bos: \"<s> \"\n",
    "        system_in_user: true\n",
    "        # Similar to system_in_user, if true it preprends available tools to the user message.\n",
    "        tools_list_in_user: true\n",
    "        # If true it will only prepend this message to the last user. \n",
    "        system_in_last_user: true\n",
    "        # If true it will only prepend this message to the last user. \n",
    "        tools_list_in_last_user: true\n",
    "        add_system_tags_even_if_message_is_empty: false\n",
    "        strip_whitespace: true\n",
    "        default_system_message: \"Always assist with care, respect, and truth. Respond with utmost utility yet securely. Avoid harmful, unethical, prejudiced, or negative content. Ensure replies promote fairness and positivity.\"\n",
    "```\n",
    "\n",
    "With this prompt format, RayLLM can provide OpenAI API-compatible tool support for this model. The full config can be generated with the RayLLM CLI (`rayllm gen-config`).\n",
    "\n",
    "2. **JSON mode**: Not all models come with tool calling capabilities out of the box. In such cases, you can use JSON mode to enable tool calling. JSON mode makes the LLM's output structured and predictable.\n",
    "\n",
    "In this example, we show how to use JSON mode to build an LLM client that can understand tools in a similar API to the OpenAI SDK."
   ]
  },
  {
   "cell_type": "markdown",
   "metadata": {},
   "source": [
    "## Tool calling client\n",
    "\n",
    "We can break down the problem of tool calling into two stages:\n",
    "\n",
    "1. Do we need a tool?\n",
    "2. If yes, how should it be called, and can we use JSON mode to predictably get the response for these questions?\n",
    "\n",
    "This pseudo code shows the high-level design of a tool-calling client that relies on JSON Mode:\n",
    "\n",
    "```python\n",
    "# Predict if any tool should be used\n",
    "# Uses JSON Mode to predict the tool choice\n",
    "tool = predict_tool_choice(tools, messages)\n",
    "\n",
    "if not tool:\n",
    "    # If no tool is needed, return the normal response\n",
    "    return normal_response(messages)\n",
    "\n",
    "# If a tool is needed, predict the tool arguments\n",
    "# Uses JSON Mode to predict the tool arguments\n",
    "return return_tool_args(tool, messages)\n",
    "```"
   ]
  },
  {
   "cell_type": "markdown",
   "metadata": {},
   "source": [
    "We first use JSON Mode when we want to predict the tool choice so that the response is parsable in a structured way. In this step, we prompt the model to predict whether any tool should be used given the context. For example a prompt like the following is used:"
   ]
  },
  {
   "cell_type": "code",
   "execution_count": 5,
   "metadata": {},
   "outputs": [
    {
     "name": "stdout",
     "output_type": "stream",
     "text": [
      "\n",
      "\n",
      "To help the user, you are given a set of tools which you can optionally use. Determine which tool to use. If no tool should be used output {\"tool_name\": \"none\"}. Here are the optional list of tools: {tool_list_str}\n",
      "\n",
      "Rules:\n",
      "\t1. Output the name of the tool you want to use via {\"tool_name\": \"<name_of_the_tool>\"}.\n",
      "\t2. If there has been an error from the previous tool call, output the same tool_name.\n",
      "\t3. Output {\"tool_name\": \"none\"} in the following cases:\n",
      "\t\t1) Based on context there is ambiguity in what arguments to use for the tools\n",
      "\t\t2) The tools are irrelevant for  answering the user's question\n",
      "\t\t3) The question is answered based on the previous tool response.\n",
      "\t If none of these cases are true, output the name of the tool. Output in JSON.\n"
     ]
    }
   ],
   "source": [
    "text = \"\\n\\nTo help the user, you are given a set of tools which you can optionally use. Determine which tool to use. If no tool should be used output {\\\"tool_name\\\": \\\"none\\\"}. Here are the optional list of tools: {tool_list_str}\\n\\nRules:\\n\\t1. Output the name of the tool you want to use via {\\\"tool_name\\\": \\\"<name_of_the_tool>\\\"}.\\n\\t2. If there has been an error from the previous tool call, output the same tool_name.\\n\\t3. Output {\\\"tool_name\\\": \\\"none\\\"} in the following cases:\\n\\t\\t1) Based on context there is ambiguity in what arguments to use for the tools\\n\\t\\t2) The tools are irrelevant for  answering the user's question\\n\\t\\t3) The question is answered based on the previous tool response.\\n\\t If none of these cases are true, output the name of the tool. Output in JSON.\"\n",
    "print(text)"
   ]
  },
  {
   "cell_type": "markdown",
   "metadata": {},
   "source": [
    "With a schema that looks like this:\n",
    "\n",
    "```json\n",
    "{\n",
    "    \"type\": \"object\",\n",
    "    \"properties\": {\n",
    "        \"tool_name\": {\n",
    "            \"type\": \"string\",\n",
    "            \"enum\": [\"get_weather\", \"add\"] + [\"none\"],\n",
    "            \"description\": \"The name of the tool to call\",\n",
    "        }\n",
    "    },\n",
    "    \"required\": [\"tool_name\"],\n",
    "}\n",
    "```"
   ]
  },
  {
   "cell_type": "markdown",
   "metadata": {},
   "source": [
    "This forces the output to have a structure like this:\n",
    "\n",
    "```json\n",
    "{\"tool_name\": \"get_weather\" | \"none\"}\n",
    "```\n"
   ]
  },
  {
   "cell_type": "markdown",
   "metadata": {},
   "source": [
    "After the tool has been selected in a separate call, we can ask for the arguments of the tool to be predicted. For example, a prompt like the following is used:"
   ]
  },
  {
   "cell_type": "code",
   "execution_count": 6,
   "metadata": {},
   "outputs": [
    {
     "name": "stdout",
     "output_type": "stream",
     "text": [
      "\n",
      "\n",
      "To help answer, you have access to the following tool:\n",
      "{tool}.\n",
      "\n",
      " Based on the provided context what should be the arguments to call the tool. If there are errors with the previous tool call, fix the arguments. Output in JSON format.\n"
     ]
    }
   ],
   "source": [
    "text = \"\\n\\nTo help answer, you have access to the following tool:\\n{tool}.\\n\\n Based on the provided context what should be the arguments to call the tool. If there are errors with the previous tool call, fix the arguments. Output in JSON format.\"\n",
    "print(text)"
   ]
  },
  {
   "cell_type": "markdown",
   "metadata": {},
   "source": [
    "We then use the corresponding tool's schema to guarantee that the output matches the desired schema of the tool. An example of this implementation is done in this [client module](./client/client.py)."
   ]
  },
  {
   "cell_type": "markdown",
   "metadata": {},
   "source": [
    "## Example usage"
   ]
  },
  {
   "cell_type": "markdown",
   "metadata": {},
   "source": [
    "The pre-requisite for the following code is to have a self-deployed model (e.g. `meta-llama/Meta-Llama-3.1-8B-Instruct`). To do so, you can follow the instructions in the [RayLLM documentation](https://docs.anyscale.com/llms/serving/intro).\n",
    "\n",
    "Alternatively, you can do `serve run serve_llama_3p1.yaml --non-blocking` to deploy a service locally on a 1xA10 GPU. Make sure to add your HuggingFace token to the [LLM config](./llm_configs/meta-llama--Meta-Llama-3_1-8B-Instruct.yaml) first."
   ]
  },
  {
   "cell_type": "code",
   "execution_count": 13,
   "metadata": {},
   "outputs": [],
   "source": [
    "from client import FunctionCallingClient\n",
    "\n",
    "# This will work if you have deployed the server locally in a workspace.\n",
    "client = FunctionCallingClient(\n",
    "    base_url=\"http://localhost:8000/v1\", # PUT YOUR URL HERE\n",
    "    api_key=\"fake\" # PUT YOUR API KEY HERE\n",
    ")"
   ]
  },
  {
   "cell_type": "code",
   "execution_count": 11,
   "metadata": {},
   "outputs": [
    {
     "name": "stdout",
     "output_type": "stream",
     "text": [
      "{\"function\": {\"name\": \"get_current_weather\", \"arguments\": {\"location\": \"Boston\", \"unit\": \"fahrenheit\"}}} "
     ]
    }
   ],
   "source": [
    "# Introduce two functions to the model\n",
    "tools = [\n",
    "    {\n",
    "        \"type\": \"function\",\n",
    "        \"function\": {\n",
    "        \"name\": \"get_current_weather\",\n",
    "        \"description\": \"Get the current weather in a given location\",\n",
    "        \"parameters\": {\n",
    "            \"type\": \"object\",\n",
    "            \"properties\": {\n",
    "            \"location\": {\n",
    "                \"type\": \"string\",\n",
    "                \"description\": \"The city and state, e.g. San Francisco, CA\",\n",
    "            },\n",
    "            \"unit\": {\"type\": \"string\", \"enum\": [\"celsius\", \"fahrenheit\"]},\n",
    "            },\n",
    "            \"required\": [\"location\"],\n",
    "        },\n",
    "        }\n",
    "    },\n",
    "    {\n",
    "        \"type\": \"function\",\n",
    "        \"function\": {\n",
    "        \"name\": \"add\",\n",
    "        \"description\": \"Adds two numbers together\",\n",
    "        \"parameters\": {\n",
    "            \"type\": \"object\",\n",
    "            \"properties\": {\n",
    "            \"a\": {\"type\": \"number\"},\n",
    "            \"b\": {\"type\": \"number\"},\n",
    "            },\n",
    "            \"required\": [\"a\", \"b\"],\n",
    "        },\n",
    "        }\n",
    "    }\n",
    "]\n",
    "\n",
    "messages = [{\"role\": \"user\", \"content\": \"What's the weather like in Boston today?\"}]\n",
    "\n",
    "\n",
    "completion = client.create(\n",
    "    model=\"meta-llama/Meta-Llama-3.1-8B-Instruct\",\n",
    "    messages=messages,\n",
    "    tools=tools,\n",
    "    tool_choice=\"auto\",\n",
    "    stream=True,\n",
    ")\n",
    "\n",
    "for chunk in completion:\n",
    "    text = chunk.choices[0].delta.content\n",
    "    if text:\n",
    "        print(text, end=\"\")"
   ]
  },
  {
   "cell_type": "markdown",
   "metadata": {},
   "source": [
    "Now that we have got the function, we can assume that we have called the `get_current_weather` tool and received the following response:\n",
    "\n",
    "```json\n",
    "{\n",
    "    \"temperature\": 25,\n",
    "    \"weather\": \"sunny\"\n",
    "}\n",
    "```"
   ]
  },
  {
   "cell_type": "markdown",
   "metadata": {},
   "source": [
    "We now call the LLM again, returning the response we got with a role of `tool`."
   ]
  },
  {
   "cell_type": "code",
   "execution_count": 12,
   "metadata": {},
   "outputs": [
    {
     "name": "stdout",
     "output_type": "stream",
     "text": [
      "Today in Boston, the temperature is 25 degrees and it is sunny."
     ]
    }
   ],
   "source": [
    "messages.append({'role': 'assistant', 'content': '{\"function\": {\"name\": \"get_current_weather\", \"arguments\": {\"location\": \"Boston\", \"unit\": \"fahrenheit\"}}} '})\n",
    "messages.append({\"role\": \"tool\", \"content\": \"{'temperature': 25, 'weather': 'sunny'}\"})\n",
    "\n",
    "completion = client.create(\n",
    "    model=\"meta-llama/Meta-Llama-3.1-8B-Instruct\",\n",
    "    messages=messages,\n",
    "    tools=tools,\n",
    "    tool_choice=\"auto\",\n",
    "    stream=True,\n",
    ")\n",
    "\n",
    "\n",
    "for chunk in completion:\n",
    "    text = chunk.choices[0].delta.content\n",
    "    if text:\n",
    "        print(text, end=\"\")"
   ]
  },
  {
   "cell_type": "markdown",
   "metadata": {},
   "source": [
    "## Conclusion\n",
    "\n",
    "In this example, we have shown how you can use JSON Mode to create a simple client that is capable of tool calling on Any Open-weight LLM, even if the LLM is not fine-tuned to natively support tool calling. \n",
    "\n",
    "The implementation in [client.py](./client/client.py) is complete and you can read the code to cover all the details."
   ]
  },
  {
   "cell_type": "markdown",
   "metadata": {},
   "source": []
  }
 ],
 "metadata": {
  "kernelspec": {
   "display_name": "base",
   "language": "python",
   "name": "python3"
  },
  "language_info": {
   "codemirror_mode": {
    "name": "ipython",
    "version": 3
   },
   "file_extension": ".py",
   "mimetype": "text/x-python",
   "name": "python",
   "nbconvert_exporter": "python",
   "pygments_lexer": "ipython3",
   "version": "3.9.19"
  }
 },
 "nbformat": 4,
 "nbformat_minor": 2
}
