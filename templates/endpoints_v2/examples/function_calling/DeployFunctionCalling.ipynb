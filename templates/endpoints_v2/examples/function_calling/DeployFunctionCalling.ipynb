{
 "cells": [
  {
   "cell_type": "markdown",
   "metadata": {},
   "source": [
    "# Serving Function calling Models\n",
    "\n",
    "Anyscale Endpoints supports [function calling mode](https://www.anyscale.com/blog/anyscale-endpoints-json-mode-and-function-calling-features). We generally recommend running the starter script via ``python main.py`` to enable function calling for the selected models. You can go through the below steps if your model isn't based on one of the provided model architectures and prefer to construct the model config yaml yourself.\n"
   ]
  },
  {
   "cell_type": "markdown",
   "metadata": {},
   "source": [
    "\n",
    "# Step 1 - Configuring Function calling model\n",
    "\n",
    "You can use the `generate_config.py` script to generate a model configuration YAML for function calling. \n",
    "\n",
    "These are the fields that will be set in the resulting model YAMLs for function calling -\n",
    "1. `enable_json_logits_processors: true` under `engine_kwargs`\n",
    "\n",
    "```\n",
    "  engine_kwargs:\n",
    "    trust_remote_code: true\n",
    "    max_num_batched_tokens: 16384\n",
    "    max_num_seqs: 64\n",
    "    gpu_memory_utilization: 0.95\n",
    "    num_tokenizer_actors: 2\n",
    "    enable_cuda_graph: true\n",
    "    enable_json_logits_processors: true\n",
    "```\n",
    "\n",
    "2. `standalone_function_calling_model: true`\n"
   ]
  },
  {
   "cell_type": "markdown",
   "metadata": {},
   "source": [
    "\n",
    "# Step 2 - Deploying & Querying Function calling model\n",
    "\n",
    "To deploy simply use `serve run` with the generated Ray Serve configuration file. \n",
    "\n",
    "```python\n",
    "!serve run serve_TIMESTAMP.yaml\n",
    "```"
   ]
  },
  {
   "cell_type": "markdown",
   "metadata": {},
   "source": [
    "\n",
    "# Step 3 - Query the service endpoint\n",
    "\n",
    "In order to query the endpoint, you can modify the `func_calling-query.py` script, replacing the query url with the Service URL found in the Service UI.\n",
    "\n",
    "Note: please make sure to include the path \"/v1\" at the end of the Service url.\n"
   ]
  }
 ],
 "metadata": {
  "language_info": {
   "name": "python"
  },
  "orig_nbformat": 4
 },
 "nbformat": 4,
 "nbformat_minor": 2
}
