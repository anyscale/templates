{
 "cells": [
  {
   "cell_type": "markdown",
   "metadata": {},
   "source": [
    "# Intro to Fine-tuning Open-weight LLMs with Anyscale\n",
    "\n",
    "**⏱️ Time to complete**: ~3 hours (includes the time for training the model)\n",
    "\n",
    "\n",
    "This template comes with a installed library for training LLMs on Anyscale called [LLMForge](https://docs.anyscale.com/reference/llmforge-versions). It provides the fastest way to try out training LLMs with Ray on Anyscale. You can read more about this library and its features in the [docs](https://docs.anyscale.com/llms/finetuning/intro). For learning on how to serve the model online or offline for doing batch inference you can refer to the [serving template](https://console.anyscale.com/v2/template-preview/endpoints_v2) or the [offline batch inference template](https://console.anyscale.com/v2/template-preview/batch-llm), respecitvely.\n"
   ]
  },
  {
   "cell_type": "markdown",
   "metadata": {},
   "source": [
    "## Getting Started\n",
    "\n",
    "You can find some tested config files examples in the `training_configs` directory. LLMForge comes with a CLI that lets you pass in a config YAML file to start your training.\n",
    "\n",
    "Then you can launch fine tuning by running the following command:\n",
    "```bash\n",
    "llmforge anyscale finetune training_configs/custom/meta-llama/Meta-Llama-3-8B/lora/4xA10-512.yaml\n",
    "```\n",
    "\n",
    "This code will run LoRA fine-tuning on the Meta-Llama-3-8B-Instruct model with 4xA10-512 configuration on a GSM-8k math dataset.\n",
    "\n",
    "When the training is done, you will see a message like this:\n",
    "\n",
    "```bash\n",
    "Note: LoRA weights will also be stored in path <path>\n",
    "````\n",
    "\n",
    "This is the path where the adapted weights are stored, you can use them for inference. You can also see the list of your fine-tuned models in the `Models` tab in the Anyscale console.\n",
    "\n",
    "**Note**: To monitor training using experiment tracking tools like WandB or MLflow, see the guide on [logging integrations](https://docs.anyscale.com/llms/finetuning/guides/logging_integrations)."
   ]
  },
  {
   "cell_type": "markdown",
   "metadata": {},
   "source": [
    "# What is Next?\n",
    "\n",
    "* Make sure to checkout the [LLMForge documentation](https://docs.anyscale.com/llms/finetuning/intro) and [user guides](https://docs.anyscale.com/category/fine-tuning-beta) for more information on how to use the library.\n",
    "* You can also check out more [end-to-end examples](#end-to-end-examples).\n",
    "* You can follow the [serving template](https://console.anyscale.com/v2/template-preview/endpoints_v2) to learn how to serve the model online.\n",
    "* You can follow the [offline batch inference template](https://console.anyscale.com/v2/template-preview/batch-llm) to learn how to do batch inference.\n",
    "\n"
   ]
  },
  {
   "cell_type": "markdown",
   "metadata": {},
   "source": [
    "## End-to-end Examples\n",
    "\n",
    "Here is a list of end-to-end examples that involve more steps such as data preprocessing, evaluation, etc but with a main focus on improving model quality via fine-tuning.\n",
    "\n",
    "* [Fine-tuning for Function calling on custom data](./end-to-end-examples/fine-tune-function-calling/README.ipynb): This example demonstrates how to fine-tune a model on a custom dataset for function calling task.\n",
    "* [Preference tuning for summarization](./end-to-end-examples/fine-tune-preference/README.ipynb): An example of Direct Preference Optimization (DPO) fine-tuning for summarization."
   ]
  }
 ],
 "metadata": {
  "kernelspec": {
   "display_name": "Python 3 (ipykernel)",
   "language": "python",
   "name": "python3"
  },
  "language_info": {
   "codemirror_mode": {
    "name": "ipython",
    "version": 3
   },
   "file_extension": ".py",
   "mimetype": "text/x-python",
   "name": "python",
   "nbconvert_exporter": "python",
   "pygments_lexer": "ipython3",
   "version": "3.10.14"
  }
 },
 "nbformat": 4,
 "nbformat_minor": 4
}
