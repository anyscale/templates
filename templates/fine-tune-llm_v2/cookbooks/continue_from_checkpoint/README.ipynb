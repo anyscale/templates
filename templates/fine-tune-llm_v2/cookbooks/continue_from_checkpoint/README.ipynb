{
 "cells": [
  {
   "cell_type": "markdown",
   "metadata": {},
   "source": [
    "# Continue fine-tuning from a previous checkpointing\n",
    "\n",
    "**⏱️ Time to complete**: 40 minutes\n",
    "\n",
    "This guide assumes that you have familiarized yourself with the [main fine-tuning guide](../../README.md) of this template.\n",
    "In this cookbook tutorial, we showcase how a checkpoint that was created earlier can be used as initialization for another round of fine-tuning.\n",
    "This allows us to sequentially combine fine-tuning on multiple datasets in order to get performance boost on the final task that we care about. \n",
    "\n",
    "We support both Full-parameter checkpoints, and LoRA-adapter checkpoints. However, we recommend not to combine the two by training a full-parameter model followed by a LoRA adaptation. Serving the resulting LoRA adapter will require the base full-parameter checkpoint. Unless you are fine-tuning many such LoRA adaptors for different tasks, this serving architecture does not have the neither the economical benefits of LoRA nor the quality benefits of full-parameter.\n",
    "\n",
    "## How to fine-tune from a previous checkpointing\n",
    "\n",
    "To get started, we can run the following illustrative example:"
   ]
  },
  {
   "cell_type": "code",
   "execution_count": null,
   "metadata": {},
   "outputs": [],
   "source": [
    "# [Optional] You can set the WandB API key to track model performance\n",
    "# !export WANDB_API_KEY={YOUR_WANDB_API_KEY}\n",
    "\n",
    "# Continue LoRA fine-tuning on the GSM8k dataset with Llama 3 8B\n",
    "!python main.py llama-3-8b.yaml"
   ]
  },
  {
   "cell_type": "markdown",
   "metadata": {},
   "source": [
    "Running the above command will fine-tune on the [GSM8k dataset](https://huggingface.co/datasets/gsm8k). \n",
    "In this example, we have splited the dataset into two halves, each consisting of approximately 4,000 samples.\n",
    "The provided initial checkpoint has been trained on the first half and is already good at solving GSM8k. By running the above command, you continue fine-tuning from the provided checkpoint with the second half.\n",
    "\n",
    "Note the following evaluation losses. The first three epochs of training where run on the first half of the GSM8k dataset. The second three epochs of training where run on the second half.\n",
    "\n",
    "<img src=\"../../assets/cookbooks/continue_from_checkpoint/continue_ft.png\" alt=\"evaluation losses\" width=\"600\"/>\n",
    "\n",
    "Note that on the first iteration of the second training (epoch 4), the evaluation loss starts off much lower than in the first training.\n",
    "\n",
    "## What and how are we fine-tuning?\n",
    "\n",
    "The following is a snippet from the `llama-3-8b.yaml` file we use above. \n",
    "\n",
    "```yaml\n",
    "# ...\n",
    "model_id: meta-llama/Meta-Llama-3-8B-Instruct\n",
    "# initial_base_model_ckpt_path: ...\n",
    "initial_adapter_model_ckpt_path: s3://large-dl-models-mirror/finetuning_template/continued_ft_gsm8k_checkpoint\n",
    "train_path: s3://large-dl-models-mirror/finetuning_template/train_2.jsonl\n",
    "# ...\n",
    "```\n",
    "\n",
    "We fine-tune Llama 3 8B Instruct, but the initial weights of the LoRA adapter are loaded from our s3 mirror.\n",
    "It makes sense to keep those weights in a bucket so that they can be accessed from all nodes of your cluster.\n",
    "The train path `(.../train_2.jsonl)` points to the second part of the GSM8k dataset that we fine-tune on.\n",
    "If we wanted to continue the finetuning of a full-parameter checkpoint, we should configure `initial_base_model_ckpt_path` instead of `initial_adapter_model_ckpt_path`. \n",
    "\n",
    "# How to use this for your own purpose\n",
    "\n",
    "The training and evaluation loss of the second, the continued, fine-tuning are lower than what we saw in the first run.\n",
    "For example, the checkpoint that you find in the llama-3-8b.yaml has an evaluation loss of 0.8886.\n",
    "After continued fine-tuning, we reach a checkpoint with an evaluation loss of 0.8668.\n",
    "Such loss values depend greatly on the task at hand - a difference of 0.0218 may be a big improvement on some tasks and a minor improvement on others.\n",
    "\n",
    "We advise to monitor training loss and evaluation loss of fine-tunes to find out if you are improving through the continued fine-tuning.\n",
    "\n",
    "## FAQ\n",
    "\n",
    "### In what order should I fine-tune?\n",
    "\n",
    "In general: Finish with the dataset that is closest to what you want during inference.\n",
    "If you are extending the context of the model beyond its native context length, you should start with the smallest context length end with the largest.\n",
    "\n",
    "### Should I extend the dataset samples or replace them with new ones when I continue fine-tuning?\n",
    "\n",
    "This depends on your task and how many epochs have already been trained. If in doubt, you can always watch the training and evaluation loss to see if you are overfitting.\n",
    "\n",
    "### How can I fine-tune a model that I fine-tuned on Anyscale Endpoints?\n",
    "\n",
    "You have to download the model weights through the `Serving` page, upload them to a bucket of your choice and reference the bucket as an initial checkpoint in the training config yaml.\n",
    "<img src=\"../../assets/cookbooks/continue_from_checkpoint/download.png\" alt=\"downloading the model weights\" width=\"500\"/>"
   ]
  }
 ],
 "metadata": {
  "kernelspec": {
   "display_name": "Python 3 (ipykernel)",
   "language": "python",
   "name": "python3"
  },
  "language_info": {
   "codemirror_mode": {
    "name": "ipython",
    "version": 3
   },
   "file_extension": ".py",
   "mimetype": "text/x-python",
   "name": "python",
   "nbconvert_exporter": "python",
   "pygments_lexer": "ipython3",
   "version": "3.10.14"
  }
 },
 "nbformat": 4,
 "nbformat_minor": 4
}
