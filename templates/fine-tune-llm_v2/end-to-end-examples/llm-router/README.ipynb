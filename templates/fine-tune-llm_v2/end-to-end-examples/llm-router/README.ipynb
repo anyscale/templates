{
 "cells": [
  {
   "cell_type": "markdown",
   "metadata": {},
   "source": [
    "# Building an LLM Router for High-Quality and Cost-Effective Responses\n",
    "\n",
    "## TLDR\n",
    "1. We introduce a framework for training state-of-the-art *LLM routers*, systems that dynamically direct queries to either high-quality closed LLMs or cost-effective open-source LLMs, based on query complexity, optimizing both response quality and cost.\n",
    "\n",
    "2. This tutorial provides an in-depth guide on building an LLM router *based on a causal-LLM classifier*, starting with generating labeled data, finetuning an LLM-based classifier with Anyscale's API, and finally running offline evaluations.\n",
    "\n",
    "3. In collaboration with the Berkeley LMSys group, we release an [arXiv paper](https://arxiv.org/pdf/2406.18665) presenting extensive evaluations of this model along with other models. Overall, our LLM Routers can achieve the same performance as our baselines with up to a 70% cost reduction on MT Bench, a 30% cost reduction on MMLU, and a 40% cost reduction on GSM8K.\n",
    "\n",
    "# Background\n",
    "When developing applications using Large Language Models (LLMs), achieving high-quality responses while maintaining a budget is a key challenge. Closed models like GPT-4 provide superior quality but are costly, especially with a high volume of queries. Conversely, Open Source Software (OSS) models are more economical but may not match the quality, especially for complex or domain-specific queries.\n",
    "\n",
    "An **LLM Router** helps balance these aspects by deciding which queries are routed to a closed LLM and which to an OSS LLM based on the query's complexity or domain specificity. Below is a schematic representation of an LLM Router:\n",
    "\n",
    "<div style=\"text-align: center;\">\n",
    "    <img src=\"assets/llm-router-flowchart_2.png\" alt=\"LLM Router\" width=\"800\"/>\n",
    "</div>\n",
    "\n",
    "Given a set of user queries, an LLM router enables generating high-quality LLM responses while minimizing the overall cost.\n",
    "\n",
    "# Approach\n",
    "\n",
    "In this tutorial, we'll demonstrate how to train a *causal-LLM classifier* on the Anyscale platform as an effective LLM router. We make the following design choices:\n",
    "\n",
    "1. **Model Choices**: We’ll use GPT-4 as an example of a closed LLM and Mixtral-8x7B as the OSS LLM, so our causal LLM classifier will route between these two models.\n",
    "2. **Response Quality Rating**: We'll quantify the quality of an LLM response on a scale of 1 to 5 stars, with higher scores indicating better quality. For simplicity, we'll assume that GPT-4 always achieves a 5-star rating, so it serves as a reference for Mixtral-8x7B.\n",
    "3. **Causal LLM Classifier**: We'll finetune a Llama3-8B model as our causal LLM classifier and leverage Anyscale's powerful API. [Our research](https://arxiv.org/pdf/2406.18665) shows that this model offers superior routing performance compared to smaller architectures.\n",
    "\n",
    "More concretely, the objective of the causal LLM classifier is to direct \"simple\" queries to Mixtral-8x7B, thereby maintaining high overall response quality (e.g., an average score of 4.8/5) while significantly reducing costs (e.g., by 50%).\n",
    "\n",
    "We show that it's possible to build LLM routers that achieve outstanding performance. Below are results from our best-performing LLM routers, the Causal LLM and a Matrix Factorization (MF) model, evaluated on the [MT Bench benchmark](https://arxiv.org/pdf/2306.05685), which demonstrate that our routers can achieve higher quality with lower costs (i.e., fewer calls to GPT-4) compared to the random baseline and public LLM routing systems from Unify AI and Martian. For more details on these results and additional ones, refer to our paper.\n",
    "\n",
    "<div style=\"display: flex; justify-content: center; align-items: center; gap: 20px;\">\n",
    "    <img src=\"assets/indep-benchmarks.png\" alt=\"Benchmark 1\" style=\"width: 400px;\"/>\n",
    "    <img src=\"assets/indep-benchmarks-llama.png\" alt=\"Benchmark 2\" style=\"width: 400px;\"/>\n",
    "</div>\n",
    "\n",
    "In the following sections, we discuss the steps that enable anyone to build a strong LLM router.\n"
   ]
  },
  {
   "cell_type": "markdown",
   "metadata": {},
   "source": [
    "# Table of Contents\n",
    "\n",
    "1. [**Prepare Labeled Data**](#generate-labeled-data): The foundation of a robust LLM router is high-quality labeled data. In this section, we'll guide you through preparing this training data.\n",
    "\n",
    "2. [**Finetune a Router Model**](#finetune-router-model): We demonstrate how to finetune a causal-LLM classifier using Anyscale's finetuning API, transforming it into an effective LLM router.\n",
    "\n",
    "3. [**Offline Evaluation**](#offline-eval): Using the public codebase ([RouteLLM](https://github.com/lm-sys/RouteLLM)), we will walk through an offline evaluation on standard benchmarks.\n",
    "\n",
    "**Time to complete**: Approximately 120 minutes, including time to train on a node with 8xA10 GPUs.\n",
    "\n"
   ]
  },
  {
   "cell_type": "markdown",
   "metadata": {},
   "source": [
    "### Setup"
   ]
  },
  {
   "cell_type": "code",
   "execution_count": null,
   "metadata": {},
   "outputs": [],
   "source": [
    "# Install required packages\n",
    "!pip install -r requirements.txt\n",
    "\n",
    "# Store your ANYSCALE_API_KEY and OPENAI_API_KEY in /home/ray/default/.env\n",
    "from dotenv import load_dotenv\n",
    "load_dotenv(\"/home/ray/default/.env\")\n"
   ]
  },
  {
   "cell_type": "markdown",
   "metadata": {},
   "source": [
    "# Step 1: Prepare Labeled Data <a id=\"generate-labeled-data\"></a>\n",
    "\n",
    "The llm router essentially functions as a binary classifier, deciding whether to route a query to GPT-4 or Mixtral-8x7B based on the query text. Initially, we considered labeled data in the format `(query, routing_label)`, where `routing_label` is 1 if the query should be routed to Mixtral-8x7B and 0 if it should be routed to GPT-4.\n",
    "\n",
    "However, our early experiments revealed that *binary labels do not provide sufficient signal for training a robust router model*. Therefore, we adopted a different labeling approach using a *1-5 scoring system*, which reflects how well Mixtral-8x7B can effectively respond to the user's query. More specifically:\n",
    "\n",
    "- **4-5**: Mixtral-8x7B produces a very strong answer, showing deep understanding, creativity, detailed insight, and high relevance.\n",
    "- **3**: Mixtral-8x7B provides an adequate answer with moderate detail, relevance, and factual accuracy.\n",
    "- **1-2**: Mixtral-8x7B struggles to produce a strong answer due to the question's difficulty, vagueness, or the model's limitations.\n",
    "\n",
    "We use labeled samples in the format `(query, score_label)`. The `routing_label` can be derived from the `score_label` by setting a score threshold for quality, i.e. `routing_label = 1 if score_label >= 4 else 0`.\n",
    "\n",
    "Next, we'll dive into the detailed process of preparing our labeled dataset.\n"
   ]
  },
  {
   "cell_type": "markdown",
   "metadata": {},
   "source": [
    "## 1.1: Query Dataset\n",
    "\n",
    "We want our llm router to be effective in open-ended chat domains. So, our first step is to collect a set of generic queries from the [Nectar dataset](https://huggingface.co/datasets/berkeley-nest/Nectar). We chose the Nectar dataset for two reasons: it combines queries from many different domains, including open-ended chat, and it has responses from many models, including over 191K responses from GPT-4."
   ]
  },
  {
   "cell_type": "code",
   "execution_count": 2,
   "metadata": {},
   "outputs": [
    {
     "data": {
      "text/html": [
       "<div>\n",
       "<style scoped>\n",
       "    .dataframe tbody tr th:only-of-type {\n",
       "        vertical-align: middle;\n",
       "    }\n",
       "\n",
       "    .dataframe tbody tr th {\n",
       "        vertical-align: top;\n",
       "    }\n",
       "\n",
       "    .dataframe thead th {\n",
       "        text-align: right;\n",
       "    }\n",
       "</style>\n",
       "<table border=\"1\" class=\"dataframe\">\n",
       "  <thead>\n",
       "    <tr style=\"text-align: right;\">\n",
       "      <th></th>\n",
       "      <th>prompt</th>\n",
       "      <th>answers</th>\n",
       "      <th>turns</th>\n",
       "      <th>num_responses</th>\n",
       "      <th>source</th>\n",
       "      <th>good_natured</th>\n",
       "    </tr>\n",
       "  </thead>\n",
       "  <tbody>\n",
       "    <tr>\n",
       "      <th>0</th>\n",
       "      <td>\\n\\nHuman: 0.002 = 1000 \\n1 = x?\\n\\nAssistant:</td>\n",
       "      <td>[{'answer': 'To find the value of x, we can set up a proportion using the given information:\n",
       "\n",
       "0.002/1000 = 1/x\n",
       "\n",
       "To solve for x, we can cross multiply:\n",
       "\n",
       "0.002 * x = 1000 * 1\n",
       "\n",
       "0.002x = 1000\n",
       "\n",
       "Dividing both sides by 0.002:\n",
       "\n",
       "x = 1000 / 0.002\n",
       "\n",
       "x = 500,000\n",
       "\n",
       "Therefore, 1 is equal to 500,000 in this proportion.', 'model': 'gpt-3.5-turbo', 'rank': 1.0}, {'answer': 'To solve for x in this equation, you can use cross-multiplication. Here's how:\n",
       "\n",
       "0.002 / 1 = 1000 / x\n",
       "\n",
       "Cross-multiplication gives:\n",
       "\n",
       "0.002 * x = 1000\n",
       "\n",
       "To solve for x, divide both sides by 0.002:\n",
       "\n",
       "x = 1000 / 0.002\n",
       "\n",
       "So, x equals 500,000.', 'model': 'gpt-4-0613', 'rank': 2.0}, {'answer': 'This looks like a proportion. To solve for x, you can set up a proportion equation:\n",
       "\n",
       "0.002 / 1 = 1000 / x\n",
       "\n",
       "Now, cross-multiply:\n",
       "\n",
       "0.002 \\* x = 1 \\* 1000\n",
       "\n",
       "Then, solve for x:\n",
       "\n",
       "0.002x = 1000\n",
       "\n",
       "x = 1000 / 0.002\n",
       "\n",
       "x = 500,000', 'model': 'gpt-3.5-turbo', 'rank': 3.0}, {'answer': 'If 0.002 equals 1000, then 1 would equal 500,000.', 'model': 'gpt-4', 'rank': 4.0}, {'answer': 'I apologize, but the equation you provided is not correct.\n",
       "\n",
       "0.002 is equal to 0.002, not 1000.\n",
       "\n",
       "1 is equal to x, not a number.\n",
       "\n",
       "Can you please provide a correct equation or problem for me to solve?', 'model': 'llama-2-7b-chat', 'rank': 5.0}, {'answer': '0.001 = x', 'model': 'gpt-3.5-turbo-instruct', 'rank': 6.0}, {'answer': 'It seems like you are asking for the value of x in the equation x = 1/0.002. \n",
       "\n",
       "To solve this equation, you can divide both sides by 0.002 to get: \n",
       "\n",
       "x = 1/0.002 \n",
       "x = 500 \n",
       "\n",
       "Therefore, x = 500.', 'model': 'mistral-7b-instruct-v0.1', 'rank': 7.0}]</td>\n",
       "      <td>1</td>\n",
       "      <td>7</td>\n",
       "      <td>[sharegpt]</td>\n",
       "      <td>True</td>\n",
       "    </tr>\n",
       "  </tbody>\n",
       "</table>\n",
       "</div>"
      ],
      "text/plain": [
       "                                            prompt  \\\n",
       "0  \\n\\nHuman: 0.002 = 1000 \\n1 = x?\\n\\nAssistant:    \n",
       "\n",
       "                                                                                                                                                                                                                                                                                                                                                                                                                                                                                                                                                                                                                                                                                                                                                                                                                                                                                                                                                                                                                                                                                                                                                                                                                                                                                                                                                                                                                                                                                                                                                                                                                                         answers  \\\n",
       "0  [{'answer': 'To find the value of x, we can set up a proportion using the given information:\n",
       "\n",
       "0.002/1000 = 1/x\n",
       "\n",
       "To solve for x, we can cross multiply:\n",
       "\n",
       "0.002 * x = 1000 * 1\n",
       "\n",
       "0.002x = 1000\n",
       "\n",
       "Dividing both sides by 0.002:\n",
       "\n",
       "x = 1000 / 0.002\n",
       "\n",
       "x = 500,000\n",
       "\n",
       "Therefore, 1 is equal to 500,000 in this proportion.', 'model': 'gpt-3.5-turbo', 'rank': 1.0}, {'answer': 'To solve for x in this equation, you can use cross-multiplication. Here's how:\n",
       "\n",
       "0.002 / 1 = 1000 / x\n",
       "\n",
       "Cross-multiplication gives:\n",
       "\n",
       "0.002 * x = 1000\n",
       "\n",
       "To solve for x, divide both sides by 0.002:\n",
       "\n",
       "x = 1000 / 0.002\n",
       "\n",
       "So, x equals 500,000.', 'model': 'gpt-4-0613', 'rank': 2.0}, {'answer': 'This looks like a proportion. To solve for x, you can set up a proportion equation:\n",
       "\n",
       "0.002 / 1 = 1000 / x\n",
       "\n",
       "Now, cross-multiply:\n",
       "\n",
       "0.002 \\* x = 1 \\* 1000\n",
       "\n",
       "Then, solve for x:\n",
       "\n",
       "0.002x = 1000\n",
       "\n",
       "x = 1000 / 0.002\n",
       "\n",
       "x = 500,000', 'model': 'gpt-3.5-turbo', 'rank': 3.0}, {'answer': 'If 0.002 equals 1000, then 1 would equal 500,000.', 'model': 'gpt-4', 'rank': 4.0}, {'answer': 'I apologize, but the equation you provided is not correct.\n",
       "\n",
       "0.002 is equal to 0.002, not 1000.\n",
       "\n",
       "1 is equal to x, not a number.\n",
       "\n",
       "Can you please provide a correct equation or problem for me to solve?', 'model': 'llama-2-7b-chat', 'rank': 5.0}, {'answer': '0.001 = x', 'model': 'gpt-3.5-turbo-instruct', 'rank': 6.0}, {'answer': 'It seems like you are asking for the value of x in the equation x = 1/0.002. \n",
       "\n",
       "To solve this equation, you can divide both sides by 0.002 to get: \n",
       "\n",
       "x = 1/0.002 \n",
       "x = 500 \n",
       "\n",
       "Therefore, x = 500.', 'model': 'mistral-7b-instruct-v0.1', 'rank': 7.0}]   \n",
       "\n",
       "   turns  num_responses      source  good_natured  \n",
       "0      1              7  [sharegpt]          True  "
      ]
     },
     "metadata": {},
     "output_type": "display_data"
    },
    {
     "name": "stdout",
     "output_type": "stream",
     "text": [
      "Number of queries with GPT-4 responses: 191487\n"
     ]
    }
   ],
   "source": [
    "from src.utils import load_and_display_nectar\n",
    "\n",
    "nectar_df = load_and_display_nectar()"
   ]
  },
  {
   "cell_type": "markdown",
   "metadata": {},
   "source": [
    "## 1.2 Data Preprocessing\n",
    "\n",
    "We will use a subset of the Nectar data that includes responses from GPT-4, as these will be used to generate scores (as seen below). We will process this data by focusing on single-turn conversations, filtering for good-natured interactions, and cleaning up the prompts and responses to maintain high quality. Additionally, we will sample a small subset from the dataset for the purpose of this tutorial; however, you can skip sampling to work with the full dataset."
   ]
  },
  {
   "cell_type": "code",
   "execution_count": 3,
   "metadata": {},
   "outputs": [],
   "source": [
    "from src.utils import preprocess_nectar\n",
    "\n",
    "nectar_gpt4_df = preprocess_nectar(\n",
    "    nectar_df, model=\"gpt-4\", response_column=\"gpt4_response\"\n",
    ")\n",
    "\n",
    "# Sample a small subset from the dataset for the purpose of this tutorial\n",
    "N_SUBSET = 30\n",
    "dataset_df = nectar_gpt4_df.sample(N_SUBSET, random_state=42)"
   ]
  },
  {
   "cell_type": "markdown",
   "metadata": {},
   "source": [
    "### Dataset overview with GPT-4 responses"
   ]
  },
  {
   "cell_type": "code",
   "execution_count": 4,
   "metadata": {},
   "outputs": [
    {
     "data": {
      "text/html": [
       "<div>\n",
       "<style scoped>\n",
       "    .dataframe tbody tr th:only-of-type {\n",
       "        vertical-align: middle;\n",
       "    }\n",
       "\n",
       "    .dataframe tbody tr th {\n",
       "        vertical-align: top;\n",
       "    }\n",
       "\n",
       "    .dataframe thead th {\n",
       "        text-align: right;\n",
       "    }\n",
       "</style>\n",
       "<table border=\"1\" class=\"dataframe\">\n",
       "  <thead>\n",
       "    <tr style=\"text-align: right;\">\n",
       "      <th></th>\n",
       "      <th>prompt</th>\n",
       "      <th>source</th>\n",
       "      <th>gpt4_response</th>\n",
       "    </tr>\n",
       "  </thead>\n",
       "  <tbody>\n",
       "    <tr>\n",
       "      <th>6062</th>\n",
       "      <td>Based on the features mentioned, which hotel d...</td>\n",
       "      <td>[evol_instruct]</td>\n",
       "      <td>Based on the features mentioned, Hotel A seems...</td>\n",
       "    </tr>\n",
       "    <tr>\n",
       "      <th>113830</th>\n",
       "      <td>Provide step-by-step instructions on how to cr...</td>\n",
       "      <td>[ultrachat]</td>\n",
       "      <td>Sure, here's a simple step-by-step guide on ho...</td>\n",
       "    </tr>\n",
       "    <tr>\n",
       "      <th>138869</th>\n",
       "      <td>What are the 10 largest cities in the US by po...</td>\n",
       "      <td>[lmsys-chat-1m]</td>\n",
       "      <td>As of the most recent data available, the 10 l...</td>\n",
       "    </tr>\n",
       "    <tr>\n",
       "      <th>169249</th>\n",
       "      <td>Write a comparison essay of at least 500 words...</td>\n",
       "      <td>[ultrachat]</td>\n",
       "      <td>Title: A Comparative Analysis of Driving a Car...</td>\n",
       "    </tr>\n",
       "    <tr>\n",
       "      <th>116934</th>\n",
       "      <td>Q: You are provided with an \"Event\", \"Intent\" ...</td>\n",
       "      <td>[flan_v2_niv2]</td>\n",
       "      <td>PersonX might feel satisfied or content using ...</td>\n",
       "    </tr>\n",
       "  </tbody>\n",
       "</table>\n",
       "</div>"
      ],
      "text/plain": [
       "                                                   prompt           source  \\\n",
       "6062    Based on the features mentioned, which hotel d...  [evol_instruct]   \n",
       "113830  Provide step-by-step instructions on how to cr...      [ultrachat]   \n",
       "138869  What are the 10 largest cities in the US by po...  [lmsys-chat-1m]   \n",
       "169249  Write a comparison essay of at least 500 words...      [ultrachat]   \n",
       "116934  Q: You are provided with an \"Event\", \"Intent\" ...   [flan_v2_niv2]   \n",
       "\n",
       "                                            gpt4_response  \n",
       "6062    Based on the features mentioned, Hotel A seems...  \n",
       "113830  Sure, here's a simple step-by-step guide on ho...  \n",
       "138869  As of the most recent data available, the 10 l...  \n",
       "169249  Title: A Comparative Analysis of Driving a Car...  \n",
       "116934  PersonX might feel satisfied or content using ...  "
      ]
     },
     "metadata": {},
     "output_type": "display_data"
    }
   ],
   "source": [
    "display(dataset_df.head())"
   ]
  },
  {
   "cell_type": "markdown",
   "metadata": {},
   "source": [
    "## 1.3 Data Labeling\n",
    "\n",
    "We don't have human labels for scores, so we will use the [LLM-as-a-Judge approach](https://arxiv.org/abs/2306.05685). GPT-4 will act as an evaluator, reviewing the query and Mixtral's response to provide a score from 1-5. As shown in the paper, the most robust way to get labels is by providing a reference answer for comparison. Here, GPT-4's own response serves as the reference, and Mixtral's response is evaluated against it.\n",
    "\n",
    "There are two main steps in this process:\n",
    "1. **Generate Mixtral-8x7B responses for all queries**: We will use an online batch-inference method utilizing Ray and Anyscale endpoints.\n",
    "2. **Generate LLM-as-a-Judge labels**: We will ask GPT-4 to evaluate the Mixtral responses against its own reference answers and provide a score from 1-5."
   ]
  },
  {
   "cell_type": "markdown",
   "metadata": {},
   "source": [
    "### Generate Mixtral-8x7B Responses"
   ]
  },
  {
   "cell_type": "code",
   "execution_count": null,
   "metadata": {},
   "outputs": [],
   "source": [
    "import os\n",
    "from src.online_inference import generate_mixtral_responses\n",
    "\n",
    "dataset_df = generate_mixtral_responses(\n",
    "    dataset_df, os.getenv(\"ANYSCALE_API_KEY\"), response_column=\"mixtral_response\"\n",
    ")"
   ]
  },
  {
   "cell_type": "markdown",
   "metadata": {},
   "source": [
    "### Dataset overview with Mixtral responses\n"
   ]
  },
  {
   "cell_type": "code",
   "execution_count": 10,
   "metadata": {},
   "outputs": [
    {
     "data": {
      "text/html": [
       "<div>\n",
       "<style scoped>\n",
       "    .dataframe tbody tr th:only-of-type {\n",
       "        vertical-align: middle;\n",
       "    }\n",
       "\n",
       "    .dataframe tbody tr th {\n",
       "        vertical-align: top;\n",
       "    }\n",
       "\n",
       "    .dataframe thead th {\n",
       "        text-align: right;\n",
       "    }\n",
       "</style>\n",
       "<table border=\"1\" class=\"dataframe\">\n",
       "  <thead>\n",
       "    <tr style=\"text-align: right;\">\n",
       "      <th></th>\n",
       "      <th>prompt</th>\n",
       "      <th>source</th>\n",
       "      <th>gpt4_response</th>\n",
       "      <th>mixtral_response</th>\n",
       "    </tr>\n",
       "  </thead>\n",
       "  <tbody>\n",
       "    <tr>\n",
       "      <th>6062</th>\n",
       "      <td>Based on the features mentioned, which hotel d...</td>\n",
       "      <td>[evol_instruct]</td>\n",
       "      <td>Based on the features mentioned, Hotel A seems...</td>\n",
       "      <td>Based on the information you've provided, I c...</td>\n",
       "    </tr>\n",
       "    <tr>\n",
       "      <th>113830</th>\n",
       "      <td>Provide step-by-step instructions on how to cr...</td>\n",
       "      <td>[ultrachat]</td>\n",
       "      <td>Sure, here's a simple step-by-step guide on ho...</td>\n",
       "      <td>Sure, I'd be happy to help you make a homemad...</td>\n",
       "    </tr>\n",
       "    <tr>\n",
       "      <th>138869</th>\n",
       "      <td>What are the 10 largest cities in the US by po...</td>\n",
       "      <td>[lmsys-chat-1m]</td>\n",
       "      <td>As of the most recent data available, the 10 l...</td>\n",
       "      <td>Sure, I'd be happy to help with that! Here ar...</td>\n",
       "    </tr>\n",
       "    <tr>\n",
       "      <th>169249</th>\n",
       "      <td>Write a comparison essay of at least 500 words...</td>\n",
       "      <td>[ultrachat]</td>\n",
       "      <td>Title: A Comparative Analysis of Driving a Car...</td>\n",
       "      <td>Title: The Great Debate: Driving a Car vs. Ri...</td>\n",
       "    </tr>\n",
       "    <tr>\n",
       "      <th>116934</th>\n",
       "      <td>Q: You are provided with an \"Event\", \"Intent\" ...</td>\n",
       "      <td>[flan_v2_niv2]</td>\n",
       "      <td>PersonX might feel satisfied or content using ...</td>\n",
       "      <td>PersonX likely feels comfortable and focused,...</td>\n",
       "    </tr>\n",
       "  </tbody>\n",
       "</table>\n",
       "</div>"
      ],
      "text/plain": [
       "                                                   prompt           source  \\\n",
       "6062    Based on the features mentioned, which hotel d...  [evol_instruct]   \n",
       "113830  Provide step-by-step instructions on how to cr...      [ultrachat]   \n",
       "138869  What are the 10 largest cities in the US by po...  [lmsys-chat-1m]   \n",
       "169249  Write a comparison essay of at least 500 words...      [ultrachat]   \n",
       "116934  Q: You are provided with an \"Event\", \"Intent\" ...   [flan_v2_niv2]   \n",
       "\n",
       "                                            gpt4_response  \\\n",
       "6062    Based on the features mentioned, Hotel A seems...   \n",
       "113830  Sure, here's a simple step-by-step guide on ho...   \n",
       "138869  As of the most recent data available, the 10 l...   \n",
       "169249  Title: A Comparative Analysis of Driving a Car...   \n",
       "116934  PersonX might feel satisfied or content using ...   \n",
       "\n",
       "                                         mixtral_response  \n",
       "6062     Based on the information you've provided, I c...  \n",
       "113830   Sure, I'd be happy to help you make a homemad...  \n",
       "138869   Sure, I'd be happy to help with that! Here ar...  \n",
       "169249   Title: The Great Debate: Driving a Car vs. Ri...  \n",
       "116934   PersonX likely feels comfortable and focused,...  "
      ]
     },
     "metadata": {},
     "output_type": "display_data"
    }
   ],
   "source": [
    "display(dataset_df.head())"
   ]
  },
  {
   "cell_type": "markdown",
   "metadata": {},
   "source": [
    "### Generate GPT-4-as-a-judge scores "
   ]
  },
  {
   "cell_type": "markdown",
   "metadata": {},
   "source": [
    "Let's first take a look at an example query we will send to GPT-4 for judgement"
   ]
  },
  {
   "cell_type": "code",
   "execution_count": 11,
   "metadata": {},
   "outputs": [
    {
     "name": "stdout",
     "output_type": "stream",
     "text": [
      "[Instruction]\n",
      "Evaluate the AI assistant's proficiency in answering the user question displayed below. Your evaluation should consider factors such as the helpfulness, relevance, adherence to real-world facts, depth, creativity, and level of detail of the response. You will be given a reference answer which is considered of high quality. Your assessment will have two lines: First line has a rating on a scale of 1 to 5 with a higher rating representing higher response quality. Follow strictly this format: \"[[rating]]\", for example: \"[[3]]\". Second line contains a short explanation of your rating.\n",
      "\n",
      "[Question]\n",
      "Q: You are provided with an \"Event\", \"Intent\" related to PersonX. Guess a reaction/reaction of PersonX about the given event and their intention.\n",
      "Event:PersonX uses ___ in class. Intent: 1) to use his prefered writing implement\n",
      "A:\n",
      "\n",
      "[Reference Answer]\n",
      "PersonX might feel satisfied or content using their preferred writing implement in class, as it aligns with their intention to utilize a comfortable and desired tool for writing. \n",
      "Confidence: 85%\n",
      "\n",
      "[Assistant Answer]\n",
      " PersonX likely feels comfortable and focused, as they are using their preferred writing implement in class. This may help them engage more effectively with the material being taught and participate in the class more willingly.\n",
      "\n",
      "Guidelines for Rating:\n",
      " - High Rating (4-5): Reserved for responses that are very close to the quality of the reference or even better.\n",
      " - Medium Rating (3): Reserved for responses that have moderate quality compared to the reference.\n",
      " - Low Rating (1-2): Allocated to response that are much lower quality compared to the reference or completely wrong.\n",
      "\n",
      "Assessment:\n",
      "\n"
     ]
    }
   ],
   "source": [
    "from src.utils import inspect_llm_judge_queries\n",
    "\n",
    "inspect_llm_judge_queries(dataset_df)"
   ]
  },
  {
   "cell_type": "markdown",
   "metadata": {},
   "source": [
    "Now, we apply a similar online batch-inference method to generate our labels."
   ]
  },
  {
   "cell_type": "code",
   "execution_count": null,
   "metadata": {},
   "outputs": [],
   "source": [
    "import os\n",
    "from src.online_inference import generate_llm_judge_labels\n",
    "\n",
    "dataset_df = generate_llm_judge_labels(dataset_df, os.getenv('OPENAI_API_KEY'))"
   ]
  },
  {
   "cell_type": "markdown",
   "metadata": {},
   "source": [
    "### Dataset overview with score labels\n"
   ]
  },
  {
   "cell_type": "code",
   "execution_count": 13,
   "metadata": {},
   "outputs": [
    {
     "data": {
      "text/html": [
       "<div>\n",
       "<style scoped>\n",
       "    .dataframe tbody tr th:only-of-type {\n",
       "        vertical-align: middle;\n",
       "    }\n",
       "\n",
       "    .dataframe tbody tr th {\n",
       "        vertical-align: top;\n",
       "    }\n",
       "\n",
       "    .dataframe thead th {\n",
       "        text-align: right;\n",
       "    }\n",
       "</style>\n",
       "<table border=\"1\" class=\"dataframe\">\n",
       "  <thead>\n",
       "    <tr style=\"text-align: right;\">\n",
       "      <th></th>\n",
       "      <th>prompt</th>\n",
       "      <th>source</th>\n",
       "      <th>gpt4_response</th>\n",
       "      <th>mixtral_response</th>\n",
       "      <th>mixtral_score</th>\n",
       "    </tr>\n",
       "  </thead>\n",
       "  <tbody>\n",
       "    <tr>\n",
       "      <th>6062</th>\n",
       "      <td>Based on the features mentioned, which hotel d...</td>\n",
       "      <td>[evol_instruct]</td>\n",
       "      <td>Based on the features mentioned, Hotel A seems...</td>\n",
       "      <td>Based on the information you've provided, I c...</td>\n",
       "      <td>5</td>\n",
       "    </tr>\n",
       "    <tr>\n",
       "      <th>113830</th>\n",
       "      <td>Provide step-by-step instructions on how to cr...</td>\n",
       "      <td>[ultrachat]</td>\n",
       "      <td>Sure, here's a simple step-by-step guide on ho...</td>\n",
       "      <td>Sure, I'd be happy to help you make a homemad...</td>\n",
       "      <td>4</td>\n",
       "    </tr>\n",
       "    <tr>\n",
       "      <th>138869</th>\n",
       "      <td>What are the 10 largest cities in the US by po...</td>\n",
       "      <td>[lmsys-chat-1m]</td>\n",
       "      <td>As of the most recent data available, the 10 l...</td>\n",
       "      <td>Sure, I'd be happy to help with that! Here ar...</td>\n",
       "      <td>5</td>\n",
       "    </tr>\n",
       "    <tr>\n",
       "      <th>169249</th>\n",
       "      <td>Write a comparison essay of at least 500 words...</td>\n",
       "      <td>[ultrachat]</td>\n",
       "      <td>Title: A Comparative Analysis of Driving a Car...</td>\n",
       "      <td>Title: The Great Debate: Driving a Car vs. Ri...</td>\n",
       "      <td>5</td>\n",
       "    </tr>\n",
       "    <tr>\n",
       "      <th>116934</th>\n",
       "      <td>Q: You are provided with an \"Event\", \"Intent\" ...</td>\n",
       "      <td>[flan_v2_niv2]</td>\n",
       "      <td>PersonX might feel satisfied or content using ...</td>\n",
       "      <td>PersonX likely feels comfortable and focused,...</td>\n",
       "      <td>5</td>\n",
       "    </tr>\n",
       "  </tbody>\n",
       "</table>\n",
       "</div>"
      ],
      "text/plain": [
       "                                                   prompt           source  \\\n",
       "6062    Based on the features mentioned, which hotel d...  [evol_instruct]   \n",
       "113830  Provide step-by-step instructions on how to cr...      [ultrachat]   \n",
       "138869  What are the 10 largest cities in the US by po...  [lmsys-chat-1m]   \n",
       "169249  Write a comparison essay of at least 500 words...      [ultrachat]   \n",
       "116934  Q: You are provided with an \"Event\", \"Intent\" ...   [flan_v2_niv2]   \n",
       "\n",
       "                                            gpt4_response  \\\n",
       "6062    Based on the features mentioned, Hotel A seems...   \n",
       "113830  Sure, here's a simple step-by-step guide on ho...   \n",
       "138869  As of the most recent data available, the 10 l...   \n",
       "169249  Title: A Comparative Analysis of Driving a Car...   \n",
       "116934  PersonX might feel satisfied or content using ...   \n",
       "\n",
       "                                         mixtral_response  mixtral_score  \n",
       "6062     Based on the information you've provided, I c...              5  \n",
       "113830   Sure, I'd be happy to help you make a homemad...              4  \n",
       "138869   Sure, I'd be happy to help with that! Here ar...              5  \n",
       "169249   Title: The Great Debate: Driving a Car vs. Ri...              5  \n",
       "116934   PersonX likely feels comfortable and focused,...              5  "
      ]
     },
     "metadata": {},
     "output_type": "display_data"
    }
   ],
   "source": [
    "display(dataset_df.head())"
   ]
  },
  {
   "cell_type": "markdown",
   "metadata": {},
   "source": [
    "### Full Dataset\n",
    "We have previously generated the full labeled datasets, created a train and validation splits, and published them as a public huggingface dataset `routellm/gpt4_dataset`. Let's load the dataset and explore the score distribution.\n"
   ]
  },
  {
   "cell_type": "code",
   "execution_count": 1,
   "metadata": {},
   "outputs": [
    {
     "name": "stdout",
     "output_type": "stream",
     "text": [
      "Train size: 109101\n"
     ]
    },
    {
     "data": {
      "text/html": [
       "<div>\n",
       "<style scoped>\n",
       "    .dataframe tbody tr th:only-of-type {\n",
       "        vertical-align: middle;\n",
       "    }\n",
       "\n",
       "    .dataframe tbody tr th {\n",
       "        vertical-align: top;\n",
       "    }\n",
       "\n",
       "    .dataframe thead th {\n",
       "        text-align: right;\n",
       "    }\n",
       "</style>\n",
       "<table border=\"1\" class=\"dataframe\">\n",
       "  <thead>\n",
       "    <tr style=\"text-align: right;\">\n",
       "      <th></th>\n",
       "      <th>prompt</th>\n",
       "      <th>source</th>\n",
       "      <th>gpt4_response</th>\n",
       "      <th>mixtral_response</th>\n",
       "      <th>mixtral_score</th>\n",
       "    </tr>\n",
       "  </thead>\n",
       "  <tbody>\n",
       "    <tr>\n",
       "      <th>0</th>\n",
       "      <td>I'll give you a review, can you extract the fo...</td>\n",
       "      <td>[lmsys-chat-1m]</td>\n",
       "      <td>Sure, here's the analysis of the review:\\n\\n1....</td>\n",
       "      <td>Food aspects and opinion words:\\n\\n1. Made to ...</td>\n",
       "      <td>4</td>\n",
       "    </tr>\n",
       "    <tr>\n",
       "      <th>1</th>\n",
       "      <td>Answer the following question: Claim: \"Joker m...</td>\n",
       "      <td>[flan_v2_cot]</td>\n",
       "      <td>The answer is no.\\nChain of thoughts: Stan Lee...</td>\n",
       "      <td>The answer is no.\\n\\nChain of thoughts: While ...</td>\n",
       "      <td>5</td>\n",
       "    </tr>\n",
       "    <tr>\n",
       "      <th>2</th>\n",
       "      <td>TASK DEFINITION: In this task you will be give...</td>\n",
       "      <td>[flan_v2_niv2]</td>\n",
       "      <td>ZdoublexpropheciesS</td>\n",
       "      <td>ZdoublexpropheciesS\\n\\nIn this task, you are a...</td>\n",
       "      <td>5</td>\n",
       "    </tr>\n",
       "    <tr>\n",
       "      <th>3</th>\n",
       "      <td>Detailed Instructions: In this task, you need ...</td>\n",
       "      <td>[flan_v2_niv2]</td>\n",
       "      <td>Yes</td>\n",
       "      <td>No, 'station' is not the longest word in the s...</td>\n",
       "      <td>5</td>\n",
       "    </tr>\n",
       "    <tr>\n",
       "      <th>4</th>\n",
       "      <td>A guy pick up a woman Then he puts her down Ex...</td>\n",
       "      <td>[sharegpt]</td>\n",
       "      <td>This phrase could be interpreted as a joke bec...</td>\n",
       "      <td>This joke is a play on words and relies on the...</td>\n",
       "      <td>5</td>\n",
       "    </tr>\n",
       "  </tbody>\n",
       "</table>\n",
       "</div>"
      ],
      "text/plain": [
       "                                              prompt           source  \\\n",
       "0  I'll give you a review, can you extract the fo...  [lmsys-chat-1m]   \n",
       "1  Answer the following question: Claim: \"Joker m...    [flan_v2_cot]   \n",
       "2  TASK DEFINITION: In this task you will be give...   [flan_v2_niv2]   \n",
       "3  Detailed Instructions: In this task, you need ...   [flan_v2_niv2]   \n",
       "4  A guy pick up a woman Then he puts her down Ex...       [sharegpt]   \n",
       "\n",
       "                                       gpt4_response  \\\n",
       "0  Sure, here's the analysis of the review:\\n\\n1....   \n",
       "1  The answer is no.\\nChain of thoughts: Stan Lee...   \n",
       "2                                ZdoublexpropheciesS   \n",
       "3                                                Yes   \n",
       "4  This phrase could be interpreted as a joke bec...   \n",
       "\n",
       "                                    mixtral_response  mixtral_score  \n",
       "0  Food aspects and opinion words:\\n\\n1. Made to ...              4  \n",
       "1  The answer is no.\\n\\nChain of thoughts: While ...              5  \n",
       "2  ZdoublexpropheciesS\\n\\nIn this task, you are a...              5  \n",
       "3  No, 'station' is not the longest word in the s...              5  \n",
       "4  This joke is a play on words and relies on the...              5  "
      ]
     },
     "metadata": {},
     "output_type": "display_data"
    },
    {
     "data": {
      "image/png": "[encoded data removed]",
      "text/plain": [
       "<Figure size 640x480 with 1 Axes>"
      ]
     },
     "metadata": {},
     "output_type": "display_data"
    }
   ],
   "source": [
    "from datasets import load_dataset\n",
    "from src.utils import visualize_label_distribution\n",
    "\n",
    "full_dataset_df = load_dataset(\"routellm/gpt4_dataset\")\n",
    "train_df = full_dataset_df[\"train\"].to_pandas()\n",
    "\n",
    "print(f\"Train size: {len(train_df)}\")\n",
    "display(train_df.head())\n",
    "visualize_label_distribution(train_df, key=\"mixtral_score\")"
   ]
  },
  {
   "cell_type": "markdown",
   "metadata": {},
   "source": [
    "Higher counts for 4-5 scores indicate that Mixtral-8x7B consistently produces high-quality responses, demonstrating its competitive performance compared to the June 2023 version of GPT-4, whose responses are logged in the Nectar dataset.\n",
    "\n",
    "Let us assume that if the score is >= 4, we will route to the OSS model (indicating the response quality is good enough); otherwise, we will route to the closed model. Under this assumption, the data distribution looks like this:\n"
   ]
  },
  {
   "cell_type": "code",
   "execution_count": 2,
   "metadata": {},
   "outputs": [
    {
     "data": {
      "image/png": "[encoded data removed]",
      "text/plain": [
       "<Figure size 640x480 with 1 Axes>"
      ]
     },
     "metadata": {},
     "output_type": "display_data"
    }
   ],
   "source": [
    "train_df[\"routing_label\"] = train_df[\"mixtral_score\"].apply(\n",
    "    lambda x: 1 if x >= 4 else 0\n",
    ")\n",
    "\n",
    "visualize_label_distribution(train_df, key=\"routing_label\")"
   ]
  },
  {
   "cell_type": "markdown",
   "metadata": {},
   "source": [
    "# Step 2: Finetune a router model <a id=\"finetune-router-model\"></a>\n",
    "\n",
    "In this section, we will explain how to finetune a causal LLM classifier to be an effective router. While our data contains `gpt4_response` and `mixtral_response`, we will only use the pair (`query`, `mixtral_score`) for training. The goal is for the router to rely solely on the query text to determine which model to route to. Our approach is straightforward: we train a 5-way classifier to predict the `mixtral_score` from the `query`. At inference time, we will route to Mixtral if our router predicts a high score (i.e., 4-5) and to GPT-4 otherwise.\n"
   ]
  },
  {
   "cell_type": "markdown",
   "metadata": {},
   "source": [
    "## 2.1 Data Preparation\n",
    "We will discuss a few preprocessing steps to prepare the data for finetuning an LLM classifier.\n",
    "\n",
    "### Task Instructions\n",
    "We use the instruction-following framework to finetune an LLM as a router. The task instructions guide the model to predict the score label for a given query. They ensure the model understands the evaluation criteria and can accurately assess the query's complexity and expected response quality."
   ]
  },
  {
   "cell_type": "code",
   "execution_count": 3,
   "metadata": {},
   "outputs": [
    {
     "name": "stdout",
     "output_type": "stream",
     "text": [
      "[Instruction]\n",
      "Based on the question provided below, predict the score an expert evaluator would give to an AI assistant's response, considering its helpfulness, relevance, adherence to facts, depth, creativity, and detail. Your prediction should infer the level of proficiency needed to address the question effectively. Use a scale from 1 to 5, where a higher score indicates a higher anticipated quality of response. Provide your prediction as: \"[[predicted rating]]\".\n",
      "\n",
      "Score criteria:\n",
      "- **4-5**: The AI assistant can produce a very strong answer, showing deep understanding, creativity, detailed insight, and high relevance.\n",
      "- **3**: The AI assistant can provide an adequate answer with moderate detail, relevance, and factual accuracy.\n",
      "- **1-2**: The AI assistant will struggle to produce a strong answer due to the question's difficulty, vagueness, or the assistant's limitations.\n",
      "\n",
      "[Question]\n",
      "{question}\n",
      "\n",
      "Prediction:\n",
      "\n"
     ]
    }
   ],
   "source": [
    "from src.utils import inspect_instructions\n",
    "\n",
    "inspect_instructions()"
   ]
  },
  {
   "cell_type": "markdown",
   "metadata": {},
   "source": [
    "### API Data Format\n",
    "\n",
    "To finetune the model, we must format the data to be compatible with [Anyscale's finetuning API](https://docs.anyscale.com/endpoints/fine-tuning/dataset-prep).\n"
   ]
  },
  {
   "cell_type": "code",
   "execution_count": 4,
   "metadata": {},
   "outputs": [
    {
     "data": {
      "text/plain": [
       "[{'role': 'system',\n",
       "  'content': '[Instruction]\\nBased on the question provided below, predict the score an expert evaluator would give to an AI assistant\\'s response, considering its helpfulness, relevance, adherence to facts, depth, creativity, and detail. Your prediction should infer the level of proficiency needed to address the question effectively. Use a scale from 1 to 5, where a higher score indicates a higher anticipated quality of response. Provide your prediction as: \"[[predicted rating]]\".\\n\\nScore criteria:\\n- **4-5**: The AI assistant can produce a very strong answer, showing deep understanding, creativity, detailed insight, and high relevance.\\n- **3**: The AI assistant can provide an adequate answer with moderate detail, relevance, and factual accuracy.\\n- **1-2**: The AI assistant will struggle to produce a strong answer due to the question\\'s difficulty, vagueness, or the assistant\\'s limitations.\\n'},\n",
       " {'role': 'user',\n",
       "  'content': \"[Question]\\nI'll give you a review, can you extract the food aspects and the opinion words of these aspects and analyze the sentiment of these opinion from this review? the review is:They tore the old NAME_1 down then built another one...? Anyway, they sell wine and beer and snacks and have a seating area inside and outside to eat. Besides gas, the big draw is the Made to Order food. I ordered some tacos and French toast sticks both were pretty good. I think I'd like to try more snacks.And they're open 24/7.\\n\\nPrediction:\\n\"},\n",
       " {'role': 'assistant', 'content': '[[4]]'}]"
      ]
     },
     "metadata": {},
     "output_type": "display_data"
    }
   ],
   "source": [
    "from src.utils import prepare_ft_messages\n",
    "\n",
    "train_df[\"messages\"] = prepare_ft_messages(train_df, \"mixtral_score\")\n",
    "\n",
    "# here's what the API data format looks like:\n",
    "display(train_df[\"messages\"].iloc[0])"
   ]
  },
  {
   "cell_type": "markdown",
   "metadata": {},
   "source": [
    "### Label Rebalancing\n",
    "\n",
    "For classification tasks, it's recommended to train on label-balanced datasets to ensure models are not biased to a specific label. We will balance the dataset based on `routing_label`, as this is the label of primary interest.\n"
   ]
  },
  {
   "cell_type": "code",
   "execution_count": 5,
   "metadata": {},
   "outputs": [
    {
     "name": "stdout",
     "output_type": "stream",
     "text": [
      "Train size: 29504\n"
     ]
    }
   ],
   "source": [
    "from src.utils import balance_dataset\n",
    "\n",
    "balanced_train_df = balance_dataset(train_df, key=\"routing_label\")\n",
    "\n",
    "print(f\"Train size: {len(balanced_train_df)}\")"
   ]
  },
  {
   "cell_type": "markdown",
   "metadata": {},
   "source": [
    "### Subsample and Store Data\n",
    "\n",
    "To expedite the time to run this tutorial, we will subsample 1,000 examples for training. We'll store the data in JSONL format to prepare for launching the finetuning job in the next section."
   ]
  },
  {
   "cell_type": "code",
   "execution_count": 10,
   "metadata": {},
   "outputs": [],
   "source": [
    "n_sample = 1000\n",
    "output_file = \"/mnt/user_storage/train_data_sample.jsonl\"\n",
    "\n",
    "subsampled_df = balanced_train_df.sample(n=n_sample, random_state=42)\n",
    "subsampled_df.to_json(output_file, orient=\"records\", lines=True)"
   ]
  },
  {
   "cell_type": "markdown",
   "metadata": {},
   "source": [
    "## 2.2 Fine-tune with Anyscale API\n",
    "\n",
    "We will run a fine-tuning job using Anyscale's LLM finetuning API as an isolated job, similar to our [end-to-end LLM workflows guide](https://github.com/anyscale/e2e-llm-workflows?tab=readme-ov-file#fine-tuning-1).\n",
    "\n",
    "For this tutorial, we will perform full-parameter finetuning of Llama3-8B on the same 1,000 samples we showed earlier to debug the training dynamics and ensure the model can fit the training set. Below, we present the training and job configurations before submitting the training job.\n"
   ]
  },
  {
   "cell_type": "code",
   "execution_count": 20,
   "metadata": {},
   "outputs": [
    {
     "name": "stdout",
     "output_type": "stream",
     "text": [
      "model_id: meta-llama/Meta-Llama-3-8B\n",
      "train_path: /mnt/user_storage/train_data_sample.jsonl\n",
      "valid_path: /mnt/user_storage/train_data_sample.jsonl\n",
      "context_length: 1024\n",
      "num_devices: 8\n",
      "num_epochs: 5\n",
      "checkpoint_every_n_epochs: 5\n",
      "train_batch_size_per_device: 4\n",
      "eval_batch_size_per_device: 4\n",
      "lr_scheduler_type: constant\n",
      "learning_rate: 1e-5\n",
      "num_checkpoints_to_keep: 1\n",
      "no_gradient_checkpoint: False\n",
      "output_dir: /mnt/local_storage\n",
      "deepspeed:\n",
      "  config_path: config_files/deepspeed/zero_3_optimizer_parameter_offload.json\n",
      "flash_attention_2: true\n",
      "classifier_config:\n",
      "  label_tokens:\n",
      "      - \"[[1]]\"\n",
      "      - \"[[2]]\"\n",
      "      - \"[[3]]\"\n",
      "      - \"[[4]]\"\n",
      "      - \"[[5]]\"\n"
     ]
    }
   ],
   "source": [
    "# View the full-param finetuning configuration for llama-3-8B\n",
    "!cat configs/ft_config_a10.yaml"
   ]
  },
  {
   "cell_type": "code",
   "execution_count": 21,
   "metadata": {},
   "outputs": [
    {
     "name": "stdout",
     "output_type": "stream",
     "text": [
      "name: llm-router-tutorial\n",
      "entrypoint: python src/ft.py configs/ft_config_a10.yaml\n",
      "image_uri: localhost:5555/anyscale/llm-forge:0.5.0.0\n",
      "requirements: requirements.txt\n",
      "max_retries: 0\n"
     ]
    }
   ],
   "source": [
    "# View job yaml config\n",
    "!cat configs/ft_job.yaml"
   ]
  },
  {
   "cell_type": "code",
   "execution_count": null,
   "metadata": {},
   "outputs": [],
   "source": [
    "# Job submission\n",
    "!anyscale job submit --config-file configs/ft_job.yaml --exclude assets"
   ]
  },
  {
   "cell_type": "markdown",
   "metadata": {},
   "source": [
    "The job takes around 10 minutes on `4xA100-80gb` and 1 hour on `8xA10-22gb` to finish. Training logs will show the final model checkpoint, e.g.:\n",
    "\n",
    "```\n",
    "Best checkpoint is stored in:\n",
    "storage-bucket-cld-tffbxe9ia5phqr1unxhz4f7e1e/org_4snvy99zwbmh4gbtk64jfqggmj/cld_tffbxe9ia5phqr1unxhz4f7e1e/artifact_storage/amjad__almahairi_dkaubsimoyxpiksqxqkxrfgfvzzotwtacs/llmforge-finetuning/meta-llama/Meta-Llama-3-8B/TorchTrainer_2024-06-21_17-02-52/epoch-4\n",
    "With perplexity: 1.0318867739521242\n",
    "```\n",
    "This checkpoint can be used to run batch inference or serve the model online."
   ]
  },
  {
   "cell_type": "markdown",
   "metadata": {},
   "source": [
    "# Step 3: Offline Evaluation <a id=\"offline-eval\"></a>\n",
    "\n",
    "Next, we will conduct an offline evaluation of the model trained on an out-of-domain dataset. The same model, now trained on the full dataset, is available in the following GitHub repository: [https://github.com/lm-sys/RouteLLM/](https://github.com/lm-sys/RouteLLM/), along with other router models.\n"
   ]
  },
  {
   "cell_type": "markdown",
   "metadata": {},
   "source": [
    "### Install `RouteLLM` package"
   ]
  },
  {
   "cell_type": "code",
   "execution_count": null,
   "metadata": {},
   "outputs": [],
   "source": [
    "# Clone the repository under /home/ray/default/\n",
    "!git clone https://github.com/lm-sys/RouteLLM.git /home/ray/default/RouteLLM\n",
    "\n",
    "# Change to the cloned repository directory\n",
    "%cd /home/ray/default/RouteLLM\n",
    "\n",
    "# Install the package with the specified extras\n",
    "!pip install -e .[eval]"
   ]
  },
  {
   "cell_type": "markdown",
   "metadata": {},
   "source": [
    "### Inference Example\n",
    "Let's show an example of loading the model and running inference with a single example sampled from our data. Note that you need to get access to `meta-llama/Meta-Llama-3-8B` in order to run these evaluations.  Let's first show how a formatted input looks like."
   ]
  },
  {
   "cell_type": "code",
   "execution_count": 7,
   "metadata": {},
   "outputs": [
    {
     "name": "stdout",
     "output_type": "stream",
     "text": [
      "Prompt: What challenges did FDR face while in office\n",
      "Label: 5\n",
      "Messages:\n",
      "[{'content': '[Instruction]\\n'\n",
      "             'Based on the question provided below, predict the score an '\n",
      "             \"expert evaluator would give to an AI assistant's response, \"\n",
      "             'considering its helpfulness, relevance, adherence to facts, '\n",
      "             'depth, creativity, and detail. Your prediction should infer the '\n",
      "             'level of proficiency needed to address the question effectively. '\n",
      "             'Use a scale from 1 to 5, where a higher score indicates a higher '\n",
      "             'anticipated quality of response. Provide your prediction as: '\n",
      "             '\"[[predicted rating]]\".\\n'\n",
      "             '\\n'\n",
      "             'Score criteria:\\n'\n",
      "             '- **4-5**: The AI assistant can produce a very strong answer, '\n",
      "             'showing deep understanding, creativity, detailed insight, and '\n",
      "             'high relevance.\\n'\n",
      "             '- **3**: The AI assistant can provide an adequate answer with '\n",
      "             'moderate detail, relevance, and factual accuracy.\\n'\n",
      "             '- **1-2**: The AI assistant will struggle to produce a strong '\n",
      "             \"answer due to the question's difficulty, vagueness, or the \"\n",
      "             \"assistant's limitations.\\n\",\n",
      "  'role': 'system'},\n",
      " {'content': '[Question]\\n'\n",
      "             'What challenges did FDR face while in office\\n'\n",
      "             '\\n'\n",
      "             'Prediction:\\n',\n",
      "  'role': 'user'},\n",
      " {'content': '[[5]]', 'role': 'assistant'}]\n"
     ]
    }
   ],
   "source": [
    "# Store your `meta-llama` access token in /home/ray/default/.env with the name LLAMA2_HF_TOKEN\n",
    "from dotenv import load_dotenv\n",
    "load_dotenv(\"/home/ray/default/.env\")\n",
    "\n",
    "from pprint import pprint\n",
    "\n",
    "# Sample one row from the DataFrame\n",
    "sampled_row = train_df.sample(n=1, random_state=42)\n",
    "\n",
    "# Convert the sampled row to a dictionary without the index\n",
    "input_example = sampled_row.to_dict(orient='records')[0]\n",
    "\n",
    "print(\"Prompt:\", input_example['prompt'])\n",
    "print(\"Label:\", input_example['mixtral_score'])\n",
    "print(\"Messages:\")\n",
    "pprint(input_example['messages'])"
   ]
  },
  {
   "cell_type": "markdown",
   "metadata": {},
   "source": [
    "Let's run inference with this example and examine the model's output."
   ]
  },
  {
   "cell_type": "code",
   "execution_count": 11,
   "metadata": {},
   "outputs": [
    {
     "name": "stdout",
     "output_type": "stream",
     "text": [
      "Loading model checkpoint from routellm/causal_llm_gpt4_augmented ...\n"
     ]
    },
    {
     "data": {
      "application/vnd.jupyter.widget-view+json": {
       "model_id": "f8c9ce535c7d4ee182965a84a29b034c",
       "version_major": 2,
       "version_minor": 0
      },
      "text/plain": [
       "Loading checkpoint shards:   0%|          | 0/4 [00:00<?, ?it/s]"
      ]
     },
     "metadata": {},
     "output_type": "display_data"
    },
    {
     "name": "stderr",
     "output_type": "stream",
     "text": [
      "Special tokens have been added in the vocabulary, make sure the associated word embeddings are fine-tuned or trained.\n"
     ]
    },
    {
     "name": "stdout",
     "output_type": "stream",
     "text": [
      "Done loading model in 5.880241394042969 seconds.\n",
      "{'binary_prob': 0.9662781,\n",
      " 'output_ids': tensor([128006,  78191, 128007,    271, 128260, 128009]),\n",
      " 'output_str': '<|start_header_id|>assistant<|end_header_id|>\\n'\n",
      "               '\\n'\n",
      "               '[[5]]<|eot_id|>',\n",
      " 'output_tokens': ['<|start_header_id|>',\n",
      "                   'assistant',\n",
      "                   '<|end_header_id|>',\n",
      "                   'ĊĊ',\n",
      "                   '[[5]]',\n",
      "                   '<|eot_id|>'],\n",
      " 'score_logits': array([10.3125, 10.9375, 11.4375, 14.4375, 15.    ], dtype=float32),\n",
      " 'score_pred': 5,\n",
      " 'softmax_scores': array([0.00566901, 0.0105911 , 0.01746178, 0.3507292 , 0.6155489 ],\n",
      "      dtype=float32)}\n"
     ]
    }
   ],
   "source": [
    "import gc\n",
    "import torch\n",
    "from src.offline_inference import single_example_inference\n",
    "\n",
    "result = single_example_inference(input_example)\n",
    "pprint(result)\n",
    "\n",
    "# Free up GPU memory for next step\n",
    "del result\n",
    "gc.collect()\n",
    "torch.cuda.empty_cache() "
   ]
  },
  {
   "cell_type": "markdown",
   "metadata": {},
   "source": [
    "The model outputs the predicted score as a special token`[[5]]`, since it is trained to predict one of the 5 labels which we add as special tokens to the vocabulary. We extract softmax scores of each of 5 labels in `softmax_scores`, and compute the routing probability as `binary_prob = sum(softmax_scores[3:])`.\n",
    "\n",
    "To optimize inference speed, we can append the header tokens `<|start_header_id|>assistant<|end_header_id|>\\n\\n`  so the first token that the model outputs is the predicted label."
   ]
  },
  {
   "cell_type": "markdown",
   "metadata": {},
   "source": [
    "### Benchmark Evaluation\n",
    "We will use the RouteLLM evaluation framework to measure the performance of our router against a random router on GSM8K. \n",
    "We report the percentage of calls the router needs to send to GPT-4 in order to achieve `20%`, `50%` and `80%` of GPT-4 performance, along with area under curve. \n",
    "See our [paper](https://arxiv.org/pdf/2406.18665) for more details on the evalaution metrics."
   ]
  },
  {
   "cell_type": "code",
   "execution_count": null,
   "metadata": {},
   "outputs": [],
   "source": [
    "!python -m routellm.evals.evaluate --config config.example.yaml --routers random causal_llm --benchmark gsm8k"
   ]
  },
  {
   "cell_type": "code",
   "execution_count": 12,
   "metadata": {},
   "outputs": [
    {
     "data": {
      "image/png": "[encoded data removed]",
      "text/plain": [
       "<IPython.core.display.Image object>"
      ]
     },
     "metadata": {},
     "output_type": "display_data"
    }
   ],
   "source": [
    "from IPython.display import Image, display\n",
    "\n",
    "# Display full plot saved in the following path\n",
    "image_path = \"/home/ray/default/RouteLLM/gsm8k.png\"\n",
    "display(Image(filename=image_path))"
   ]
  },
  {
   "cell_type": "markdown",
   "metadata": {},
   "source": [
    "This plot illustrates that as we relax the cost constraints (i.e., increase the percentage of GPT-4 calls), the performance improves. While the performance of a random router improves linearly with cost, our router achieves significantly better results at each cost level."
   ]
  },
  {
   "cell_type": "markdown",
   "metadata": {},
   "source": [
    "# Conclusion\n",
    "In this tutorial, we have successfully built and evaluated a finetuned-LLM router. We generated synthetic labeled data using the LLM-as-a-judge method to train the model, finetuned an LLM classifier using Anyscale's API, and conducted offline evaluation on a standard benchmark-- demonstrating that our model is effective in out-of-domain generalization."
   ]
  }
 ],
 "metadata": {
  "kernelspec": {
   "display_name": "Python 3 (ipykernel)",
   "language": "python",
   "name": "python3"
  },
  "language_info": {
   "codemirror_mode": {
    "name": "ipython",
    "version": 3
   },
   "file_extension": ".py",
   "mimetype": "text/x-python",
   "name": "python",
   "nbconvert_exporter": "python",
   "pygments_lexer": "ipython3",
   "version": "3.11.8"
  }
 },
 "nbformat": 4,
 "nbformat_minor": 4
}
