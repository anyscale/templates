{
 "cells": [
  {
   "cell_type": "markdown",
   "metadata": {},
   "source": [
    "# Fine-tuning Stable Diffusion XL with Ray Train\n",
    "\n",
    "**⏱️ Time to complete**: 10 min\n",
    "\n",
    "This template shows you how to do [Dreambooth](https://arxiv.org/abs/2208.12242) fine-tuning, which is a method of personalizing a stable diffusion model on a few examples (3~5) of a subject.\n",
    "\n",
    "![Sample results](assets/finetune-sample-results.png)\n",
    "\n",
    "In this tutorial, you will learn about:\n",
    "1. How to easily scale out an existing HuggingFace `diffusers` example to run on a Ray cluster with minimal modifications.\n",
    "2. Basic features of [Ray Train](https://docs.ray.io/en/latest/train/train.html) such as specifying the number of training workers and the desired accelerator type.\n",
    "3. Anyscale's smart instance selection and autoscaling that makes it simple to scale up your training workload to any size."
   ]
  },
  {
   "cell_type": "markdown",
   "metadata": {},
   "source": [
    "## Step 1: Install Python dependencies\n",
    "\n",
    "The application requires a few extra Python dependencies. Install them using `pip`. When launching remote workers, Anyscale automatically installs the dependencies on them."
   ]
  },
  {
   "cell_type": "code",
   "execution_count": null,
   "metadata": {},
   "outputs": [],
   "source": [
    "!pip install -U accelerate==0.28.0 diffusers==0.27.2 peft==0.10.0 transformers==4.39.1 huggingface_hub==0.25.2"
   ]
  },
  {
   "cell_type": "markdown",
   "metadata": {},
   "source": [
    "## Step 2: Set up a dataset of your subject\n",
    "\n",
    "First, provide some images of the subject you want to fine-tune on.\n",
    "\n",
    "This example uses a sample dog dataset to demonstrate, but you can use pictures of your own subject.\n",
    "Fine-tuning works best if your images are all cropped to a square with your subject in the center.\n",
    "\n",
    "A few notes on these constants that you can modify when training on your own custom subject:\n",
    "* `SUBJECT_TOKEN` is the a unique token that you teach the model to correspond to your subject. This token can be any token that doesn't appear much in normal text.\n",
    "    * Think of it as the name of your subject that the diffusion model learns to recognize. You can leave it as `sks`.\n",
    "    * When generating images, make sure to include `sks` in your prompt--otherwise the model generates any random dog, not the dog that you fine-tuned it on.\n",
    "* `SUBJECT_CLASS` is the category that your subject falls into.\n",
    "    * For example, if you have a human subject, the class could be `\"man\"` or `\"woman\"`.\n",
    "    * Use this class in combination with the `SUBJECT_TOKEN` in a prompt to convey the meaning: \"a dog named sks\".\n",
    "* Put training images of your subject in `SUBJECT_IMAGES_PATH` to upload later to cloud storage so that all worker nodes can access the dataset.\n",
    "    * The easiest way to use your own images is to drag files into a folder in the VS Code file explorer, then moving the folder to `SUBJECT_IMAGES_PATH` in the command line. For example, `mv ./images /mnt/local_storage/subject_images`."
   ]
  },
  {
   "cell_type": "code",
   "execution_count": null,
   "metadata": {},
   "outputs": [],
   "source": [
    "SUBJECT_TOKEN = \"sks\"\n",
    "SUBJECT_CLASS = \"dog\"\n",
    "SUBJECT_IMAGES_PATH = \"/mnt/local_storage/subject_images\""
   ]
  },
  {
   "cell_type": "code",
   "execution_count": null,
   "metadata": {},
   "outputs": [],
   "source": [
    "# Copy the sample dog dataset to the subject images path--feel free to comment this out.\n",
    "!mkdir -p {SUBJECT_IMAGES_PATH} && cp ./assets/dog/*.jpeg {SUBJECT_IMAGES_PATH}"
   ]
  },
  {
   "cell_type": "markdown",
   "metadata": {},
   "source": [
    "Take a look at the dataset."
   ]
  },
  {
   "cell_type": "code",
   "execution_count": null,
   "metadata": {},
   "outputs": [],
   "source": [
    "from IPython.display import Image, display\n",
    "from pathlib import Path\n",
    "\n",
    "display(*[Image(filename=image_path, width=250) for image_path in Path(SUBJECT_IMAGES_PATH).iterdir()])"
   ]
  },
  {
   "cell_type": "markdown",
   "metadata": {},
   "source": [
    "Next, upload the dataset to cloud storage so that Anyscale can download it on each worker node at the start of training."
   ]
  },
  {
   "cell_type": "code",
   "execution_count": null,
   "metadata": {},
   "outputs": [],
   "source": [
    "import os\n",
    "from utils import upload_to_cloud\n",
    "\n",
    "DATA_CLOUD_PATH = os.environ[\"ANYSCALE_ARTIFACT_STORAGE\"] + \"/subject_images\"\n",
    "upload_to_cloud(local_path=SUBJECT_IMAGES_PATH, cloud_uri=DATA_CLOUD_PATH)\n",
    "print(\"Uploaded data to: \", DATA_CLOUD_PATH)"
   ]
  },
  {
   "cell_type": "markdown",
   "metadata": {},
   "source": [
    "Create some prompts to test our model on after fine-tuning. Notice that every prompt includes the `{SUBJECT_TOKEN} {SUBJECT_CLASS}`.\n",
    "\n",
    "You can change these to be more applicable for your subject."
   ]
  },
  {
   "cell_type": "code",
   "execution_count": null,
   "metadata": {},
   "outputs": [],
   "source": [
    "PROMPTS = [\n",
    "    f\"{SUBJECT_TOKEN} {SUBJECT_CLASS} at the beach\",\n",
    "    f\"{SUBJECT_TOKEN} {SUBJECT_CLASS} in a bucket\",\n",
    "    f\"{SUBJECT_TOKEN} {SUBJECT_CLASS} sleeping soundly\",\n",
    "    f\"{SUBJECT_TOKEN} {SUBJECT_CLASS} as a superhero\",\n",
    "]\n",
    "PROMPTS"
   ]
  },
  {
   "cell_type": "markdown",
   "metadata": {},
   "source": [
    "## Step 3: Run fine-tuning with Ray Train and Hugging Face Accelerate\n",
    "\n",
    "Next, launch the distributed fine-tuning job.\n",
    "\n",
    "Use the training script provided by the [Hugging Face diffusers Dreambooth fine-tuning example](https://github.com/huggingface/diffusers/blob/d7634cca87641897baf90f5a006f2d6d16eac6ec/examples/dreambooth/README_sdxl.md) with very slight modifications.\n",
    "\n",
    "See `train_dreambooth_lora_sdxl.py` for the training script. The example does fine-tuning with [Low Rank Adaptation](https://arxiv.org/abs/2106.09685) (LoRA), which is a method that freezes most layers but injects a small set of trainable layers that get added to existing layers. This method greatly reduces the amount of training state in GPU memory and reduces the checkpoint size, while maintaining the fine-tuned model quality.\n",
    "\n",
    "This script uses Hugging Face Accelerate, and this example shows that it's easy to scale out an existing training script on a Ray cluster with Ray Train."
   ]
  },
  {
   "cell_type": "markdown",
   "metadata": {},
   "source": [
    "### Parse training arguments\n",
    "\n",
    "The original example launches the `diffusers` script at the command line. This example launches it with Ray Train instead and passes in the parsed command line arguments, in order to make as few modifications to the training script as possible.\n",
    "\n",
    "The settings and hyperparameters below are taken from the [Hugging Face example](https://github.com/huggingface/diffusers/blob/d7634cca87641897baf90f5a006f2d6d16eac6ec/examples/dreambooth/README_sdxl.md)."
   ]
  },
  {
   "cell_type": "code",
   "execution_count": null,
   "metadata": {},
   "outputs": [],
   "source": [
    "from train_dreambooth_lora_sdxl import parse_args\n",
    "\n",
    "# [Optional] Setup wandb to visualize generated samples during fine-tuning.\n",
    "# os.environ[\"WANDB_API_KEY\"] = \"YOUR_WANDB_API_KEY\"\n",
    "\n",
    "# See `parse_args` in train_dreambooth_lora_sdxl.py to see all the possible configurations.\n",
    "cmd_line_args = [\n",
    "    f\"--pretrained_model_name_or_path=stabilityai/stable-diffusion-xl-base-1.0\",\n",
    "    f\"--pretrained_vae_model_name_or_path=madebyollin/sdxl-vae-fp16-fix\",\n",
    "    f\"--instance_data_dir={SUBJECT_IMAGES_PATH}\",\n",
    "    \"--output_dir=/mnt/local_storage/lora-trained-xl\",\n",
    "    \"--mixed_precision=fp16\",\n",
    "    # A neutral prompt that serves as the caption for the subject image during training.\n",
    "    f\"--instance_prompt=a photo of {SUBJECT_TOKEN} {SUBJECT_CLASS}\",\n",
    "    \"--resolution=1024\",\n",
    "    # The global batch size is: num_workers * train_batch_size * gradient_accumulation_steps\n",
    "    # Define the number of workers later in the TorchTrainer.\n",
    "    \"--train_batch_size=1\",  # This is the batch size *per* worker.\n",
    "    \"--gradient_accumulation_steps=1\",\n",
    "    \"--learning_rate=1e-4\",\n",
    "    \"--lr_scheduler=constant\",\n",
    "    \"--lr_warmup_steps=0\",\n",
    "    \"--max_train_steps=100\",\n",
    "    \"--checkpointing_steps=100\",\n",
    "    # Use the first prompt as a sample to generate during training.\n",
    "    \"--seed=0\",\n",
    "] + (\n",
    "    [\n",
    "        f\"--validation_prompt={PROMPTS[0]}\",\n",
    "        \"--validation_epochs=25\",\n",
    "        \"--report_to=wandb\",\n",
    "    ]\n",
    "    if os.environ.get(\"WANDB_API_KEY\")\n",
    "    else []\n",
    ")\n",
    "\n",
    "TRAINING_ARGS = parse_args(input_args=cmd_line_args)"
   ]
  },
  {
   "cell_type": "markdown",
   "metadata": {},
   "source": [
    "### Launch distributed training with Ray Train\n",
    "\n",
    "To run distributed training, use a `ray.train.torch.TorchTrainer` to request GPU workers and connect them together in a distributed worker group. Then, when the workers run the training script, Hugging Face Accelerate detects this distributed process group and sets up the model to do data parallel training.\n",
    "\n",
    "A few notes:\n",
    "* `ray.init(runtime_env={\"env_vars\": ...})` sets the environment variables on all workers in the cluster -- setting the environment variable in this notebook on the head node is not enough in a distributed setting.\n",
    "* `train_fn_per_worker` is the function that will run on all distributed training workers. In this case, it's just a light wrapper on top of the `diffusers` example script that copies the latest checkpoint to shared cluster storage.\n",
    "* `ScalingConfig` is the configuration that determines how many workers and what kind of accelerator to use for training. Once the training is launched, **Anyscale will automatically scale up nodes to meet this resource request!**\n",
    "\n",
    "The result of this fine-tuning is a fine-tuned LoRA model checkpoint at `MODEL_CHECKPOINT_PATH`."
   ]
  },
  {
   "cell_type": "code",
   "execution_count": null,
   "metadata": {},
   "outputs": [],
   "source": [
    "MODEL_CHECKPOINT_PATH = os.environ[\"ANYSCALE_ARTIFACT_STORAGE\"] + \"/checkpoint-final\"\n",
    "\n",
    "print(\"Final checkpoint will be uploaded to: \", MODEL_CHECKPOINT_PATH)"
   ]
  },
  {
   "cell_type": "code",
   "execution_count": null,
   "metadata": {},
   "outputs": [],
   "source": [
    "import ray\n",
    "import ray.train\n",
    "from ray.train.torch import TorchTrainer\n",
    "\n",
    "from train_dreambooth_lora_sdxl import main\n",
    "from utils import (\n",
    "    download_from_cloud,\n",
    "    upload_to_cloud,\n",
    "    get_a10g_or_equivalent_accelerator_type,\n",
    ")\n",
    "\n",
    "\n",
    "# Set environment variables across the entire cluster.\n",
    "ENV_VARS = {\"HF_HOME\": \"/mnt/local_storage/huggingface\"}\n",
    "\n",
    "WANDB_API_KEY = os.environ.get(\"WANDB_API_KEY\")\n",
    "if WANDB_API_KEY:\n",
    "    ENV_VARS[\"WANDB_API_KEY\"] = WANDB_API_KEY\n",
    "\n",
    "ray.shutdown()\n",
    "ray.init(runtime_env={\"env_vars\": ENV_VARS})\n",
    "\n",
    "\n",
    "def train_fn_per_worker(config: dict):\n",
    "    download_from_cloud(cloud_uri=DATA_CLOUD_PATH, local_path=SUBJECT_IMAGES_PATH)\n",
    "\n",
    "    # See train_dreambooth_lora_sdxl.py for all of the training details.\n",
    "    final_checkpoint_path = main(config[\"args\"])\n",
    "\n",
    "    # Upload final checkpoint to cloud. (Only the rank 0 worker will return a path here.)\n",
    "    if final_checkpoint_path is not None:\n",
    "        upload_to_cloud(\n",
    "            local_path=final_checkpoint_path, cloud_uri=MODEL_CHECKPOINT_PATH\n",
    "        )\n",
    "        print(\"Final checkpoint has been uploaded to: \", MODEL_CHECKPOINT_PATH)\n",
    "\n",
    "\n",
    "trainer = TorchTrainer(\n",
    "    train_fn_per_worker,\n",
    "    # Pass command line arguments to the `config` dict of the `train_fn_per_worker`\n",
    "    train_loop_config={\"args\": TRAINING_ARGS},\n",
    "    scaling_config=ray.train.ScalingConfig(\n",
    "        # Do data parallel training with GPU workers\n",
    "        # Request A10G GPUs (or L4 GPUs if running on GCP)\n",
    "        num_workers=4,\n",
    "        use_gpu=True,\n",
    "        accelerator_type=get_a10g_or_equivalent_accelerator_type(),\n",
    "    ),\n",
    ")\n",
    "\n",
    "# Launch the training.\n",
    "trainer.fit()\n",
    "print(\"Finished fine-tuning!\")"
   ]
  },
  {
   "cell_type": "markdown",
   "metadata": {},
   "source": [
    "## Step 3: Generate some images with your fine-tuned model.\n",
    "\n",
    "Finally, generate some images!\n",
    "\n",
    "Launch 2 remote GPU tasks to generate images from the `PROMPTS` you defined earlier, one using just the base model and one that loads the fine-tuned LoRA weights. Compare them to see the results of fine-tuning.\n",
    "\n",
    "Note: If Anyscale already scaled down your cluster from the training job due to the workers being idle, then this step might take a little longer to relaunch new GPU workers."
   ]
  },
  {
   "cell_type": "code",
   "execution_count": null,
   "metadata": {},
   "outputs": [],
   "source": [
    "import ray\n",
    "from utils import generate\n",
    "\n",
    "[base_model_images, finetuned_images] = ray.get(\n",
    "    [\n",
    "        generate.remote(prompts=PROMPTS, args=TRAINING_ARGS),\n",
    "        generate.remote(\n",
    "            prompts=PROMPTS,\n",
    "            args=TRAINING_ARGS,\n",
    "            model_checkpoint_path=MODEL_CHECKPOINT_PATH,\n",
    "        ),\n",
    "    ]\n",
    ")"
   ]
  },
  {
   "cell_type": "markdown",
   "metadata": {},
   "source": [
    "### Images generated with the finetuned model\n",
    "\n",
    "These images should resemble your subject. If the generated image quality isn't satisfactory, see to the tips in [this blog post](https://huggingface.co/blog/dreambooth#tldr-recommended-settings) to tweak your hyperparameters."
   ]
  },
  {
   "cell_type": "code",
   "execution_count": null,
   "metadata": {},
   "outputs": [],
   "source": [
    "from IPython.display import display\n",
    "\n",
    "display(*finetuned_images)"
   ]
  },
  {
   "cell_type": "markdown",
   "metadata": {},
   "source": [
    "### Images generated with the base model for comparison"
   ]
  },
  {
   "cell_type": "code",
   "execution_count": null,
   "metadata": {},
   "outputs": [],
   "source": [
    "# Uncomment below to show the images generated by the base model\n",
    "# for a comparison of generate images before and after fine-tuning.\n",
    "\n",
    "# display(*base_model_images)"
   ]
  },
  {
   "cell_type": "markdown",
   "metadata": {},
   "source": [
    "## Summary\n",
    "\n",
    "At this point, you've fine-tuned Stable Diffusion XL.\n",
    "\n",
    "As a recap, this notebook:\n",
    "1. Installed cluster-wide dependencies.\n",
    "2. Scaled out fine-tuning to multiple GPU workers.\n",
    "3. Compared the generated output results before and after fine-tuning.\n",
    "\n",
    "As a next step, you can take the fine-tuned model checkpoint and use it to serve the model. See the tutorial on serving stable diffusion on the home page to get started."
   ]
  }
 ],
 "metadata": {
  "kernelspec": {
   "display_name": "base",
   "language": "python",
   "name": "python3"
  },
  "language_info": {
   "codemirror_mode": {
    "name": "ipython",
    "version": 3
   },
   "file_extension": ".py",
   "mimetype": "text/x-python",
   "name": "python",
   "nbconvert_exporter": "python",
   "pygments_lexer": "ipython3",
   "version": "3.9.19"
  },
  "orig_nbformat": 4
 },
 "nbformat": 4,
 "nbformat_minor": 2
}
