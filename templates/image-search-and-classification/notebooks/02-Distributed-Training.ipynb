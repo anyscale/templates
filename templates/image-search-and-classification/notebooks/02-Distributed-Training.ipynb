{
 "cells": [
  {
   "cell_type": "markdown",
   "metadata": {},
   "source": [
    "# Distributed training\n",
    "\n",
    "<div align=\"left\">\n",
    "<a target=\"_blank\" href=\"https://console.anyscale.com/\"><img src=\"https://img.shields.io/badge/🚀 Run_on-Anyscale-9hf\"></a>&nbsp;\n",
    "<a href=\"https://github.com/anyscale/foundational-ray-app\" role=\"button\"><img src=\"https://img.shields.io/static/v1?label=&amp;message=View%20On%20GitHub&amp;color=586069&amp;logo=github&amp;labelColor=2f363d\"></a>&nbsp;\n",
    "</div>\n",
    "\n",
    "In this tutorial, we'll execute a distributed training workload that will connect the following heterogenous workloads:\n",
    "- preprocess the dataset prior to training\n",
    "- distributed training with Ray Train and PyTorch (with observability)\n",
    "- evaluation (batch inference + eval logic)\n",
    "- save model artifacts to a model registry (MLOps)\n",
    "\n",
    "**Note**: we won't be tuning our model in this tutorial but be sure to check out [Ray Tune](https://docs.ray.io/en/latest/tune/index.html) for experiment execution and hyperparameter tuning at any scale.\n",
    "\n",
    "<img src=\"https://raw.githubusercontent.com/anyscale/foundational-ray-app/refs/heads/main/images/distributed_training.png\" width=800>"
   ]
  },
  {
   "cell_type": "code",
   "execution_count": null,
   "metadata": {},
   "outputs": [],
   "source": [
    "%load_ext autoreload\n",
    "%autoreload all"
   ]
  },
  {
   "cell_type": "code",
   "execution_count": null,
   "metadata": {},
   "outputs": [],
   "source": [
    "import os\n",
    "import ray\n",
    "import sys\n",
    "sys.path.append(os.path.abspath(\"..\"))"
   ]
  },
  {
   "cell_type": "code",
   "execution_count": null,
   "metadata": {},
   "outputs": [
    {
     "name": "stderr",
     "output_type": "stream",
     "text": [
      "2025-04-08 20:55:30,958\tINFO worker.py:1660 -- Connecting to existing Ray cluster at address: 10.0.53.26:6379...\n",
      "2025-04-08 20:55:30,968\tINFO worker.py:1843 -- Connected to Ray cluster. View the dashboard at \u001b[1m\u001b[32mhttps://session-fyhrc759flh928h7czptpn79mb.i.anyscaleuserdata.com \u001b[39m\u001b[22m\n",
      "2025-04-08 20:55:31,024\tINFO packaging.py:575 -- Creating a file package for local module '/home/ray/default'.\n",
      "2025-04-08 20:55:31,095\tINFO packaging.py:367 -- Pushing file package 'gcs://_ray_pkg_e2f48bd8c2474819.zip' (13.56MiB) to Ray cluster...\n",
      "2025-04-08 20:55:31,154\tINFO packaging.py:380 -- Successfully pushed file package 'gcs://_ray_pkg_e2f48bd8c2474819.zip'.\n"
     ]
    },
    {
     "data": {
      "application/vnd.jupyter.widget-view+json": {
       "model_id": "ab305133c07c4ec6ae6dc5c8fd45f7bf",
       "version_major": 2,
       "version_minor": 0
      },
      "text/html": [
       "<div class=\"lm-Widget p-Widget lm-Panel p-Panel jp-Cell-outputWrapper\">\n",
       "    <div style=\"margin-left: 50px;display: flex;flex-direction: row;align-items: center\">\n",
       "        <div class=\"jp-RenderedHTMLCommon\" style=\"display: flex; flex-direction: row;\">\n",
       "  <svg viewBox=\"0 0 567 224\" fill=\"none\" xmlns=\"http://www.w3.org/2000/svg\" style=\"height: 3em;\">\n",
       "    <g clip-path=\"url(#clip0_4338_178347)\">\n",
       "        <path d=\"M341.29 165.561H355.29L330.13 129.051C345.63 123.991 354.21 112.051 354.21 94.2307C354.21 71.3707 338.72 58.1807 311.88 58.1807H271V165.561H283.27V131.661H311.8C314.25 131.661 316.71 131.501 319.01 131.351L341.25 165.561H341.29ZM283.29 119.851V70.0007H311.82C331.3 70.0007 342.34 78.2907 342.34 94.5507C342.34 111.271 331.34 119.861 311.82 119.861L283.29 119.851ZM451.4 138.411L463.4 165.561H476.74L428.74 58.1807H416L367.83 165.561H380.83L392.83 138.411H451.4ZM446.19 126.601H398L422 72.1407L446.24 126.601H446.19ZM526.11 128.741L566.91 58.1807H554.35L519.99 114.181L485.17 58.1807H472.44L514.01 129.181V165.541H526.13V128.741H526.11Z\" fill=\"var(--jp-ui-font-color0)\"/>\n",
       "        <path d=\"M82.35 104.44C84.0187 97.8827 87.8248 92.0678 93.1671 87.9146C98.5094 83.7614 105.083 81.5067 111.85 81.5067C118.617 81.5067 125.191 83.7614 130.533 87.9146C135.875 92.0678 139.681 97.8827 141.35 104.44H163.75C164.476 101.562 165.622 98.8057 167.15 96.2605L127.45 56.5605C121.071 60.3522 113.526 61.6823 106.235 60.3005C98.9443 58.9187 92.4094 54.9203 87.8602 49.0574C83.3109 43.1946 81.0609 35.8714 81.5332 28.4656C82.0056 21.0599 85.1679 14.0819 90.4252 8.8446C95.6824 3.60726 102.672 0.471508 110.08 0.0272655C117.487 -0.416977 124.802 1.86091 130.647 6.4324C136.493 11.0039 140.467 17.5539 141.821 24.8501C143.175 32.1463 141.816 39.6859 138 46.0505L177.69 85.7505C182.31 82.9877 187.58 81.4995 192.962 81.4375C198.345 81.3755 203.648 82.742 208.33 85.3976C213.012 88.0532 216.907 91.9029 219.616 96.5544C222.326 101.206 223.753 106.492 223.753 111.875C223.753 117.258 222.326 122.545 219.616 127.197C216.907 131.848 213.012 135.698 208.33 138.353C203.648 141.009 198.345 142.375 192.962 142.313C187.58 142.251 182.31 140.763 177.69 138L138 177.7C141.808 184.071 143.155 191.614 141.79 198.91C140.424 206.205 136.44 212.75 130.585 217.313C124.731 221.875 117.412 224.141 110.004 223.683C102.596 223.226 95.6103 220.077 90.3621 214.828C85.1139 209.58 81.9647 202.595 81.5072 195.187C81.0497 187.779 83.3154 180.459 87.878 174.605C92.4405 168.751 98.9853 164.766 106.281 163.401C113.576 162.035 121.119 163.383 127.49 167.19L167.19 127.49C165.664 124.941 164.518 122.182 163.79 119.3H141.39C139.721 125.858 135.915 131.673 130.573 135.826C125.231 139.98 118.657 142.234 111.89 142.234C105.123 142.234 98.5494 139.98 93.2071 135.826C87.8648 131.673 84.0587 125.858 82.39 119.3H60C58.1878 126.495 53.8086 132.78 47.6863 136.971C41.5641 141.163 34.1211 142.972 26.7579 142.059C19.3947 141.146 12.6191 137.574 7.70605 132.014C2.79302 126.454 0.0813599 119.29 0.0813599 111.87C0.0813599 104.451 2.79302 97.2871 7.70605 91.7272C12.6191 86.1673 19.3947 82.5947 26.7579 81.6817C34.1211 80.7686 41.5641 82.5781 47.6863 86.7696C53.8086 90.9611 58.1878 97.2456 60 104.44H82.35ZM100.86 204.32C103.407 206.868 106.759 208.453 110.345 208.806C113.93 209.159 117.527 208.258 120.522 206.256C123.517 204.254 125.725 201.276 126.771 197.828C127.816 194.38 127.633 190.677 126.253 187.349C124.874 184.021 122.383 181.274 119.205 179.577C116.027 177.88 112.359 177.337 108.826 178.042C105.293 178.746 102.113 180.654 99.8291 183.44C97.5451 186.226 96.2979 189.718 96.3 193.32C96.2985 195.364 96.7006 197.388 97.4831 199.275C98.2656 201.163 99.4132 202.877 100.86 204.32ZM204.32 122.88C206.868 120.333 208.453 116.981 208.806 113.396C209.159 109.811 208.258 106.214 206.256 103.219C204.254 100.223 201.275 98.0151 197.827 96.97C194.38 95.9249 190.676 96.1077 187.348 97.4873C184.02 98.8669 181.274 101.358 179.577 104.536C177.879 107.714 177.337 111.382 178.041 114.915C178.746 118.448 180.653 121.627 183.439 123.911C186.226 126.195 189.717 127.443 193.32 127.44C195.364 127.443 197.388 127.042 199.275 126.259C201.163 125.476 202.878 124.328 204.32 122.88ZM122.88 19.4205C120.333 16.8729 116.981 15.2876 113.395 14.9347C109.81 14.5817 106.213 15.483 103.218 17.4849C100.223 19.4868 98.0146 22.4654 96.9696 25.9131C95.9245 29.3608 96.1073 33.0642 97.4869 36.3922C98.8665 39.7202 101.358 42.4668 104.535 44.1639C107.713 45.861 111.381 46.4036 114.914 45.6992C118.447 44.9949 121.627 43.0871 123.911 40.301C126.195 37.515 127.442 34.0231 127.44 30.4205C127.44 28.3772 127.038 26.3539 126.255 24.4664C125.473 22.5788 124.326 20.8642 122.88 19.4205ZM19.42 100.86C16.8725 103.408 15.2872 106.76 14.9342 110.345C14.5813 113.93 15.4826 117.527 17.4844 120.522C19.4863 123.518 22.4649 125.726 25.9127 126.771C29.3604 127.816 33.0638 127.633 36.3918 126.254C39.7198 124.874 42.4664 122.383 44.1635 119.205C45.8606 116.027 46.4032 112.359 45.6988 108.826C44.9944 105.293 43.0866 102.114 40.3006 99.8296C37.5145 97.5455 34.0227 96.2983 30.42 96.3005C26.2938 96.3018 22.337 97.9421 19.42 100.86ZM100.86 100.86C98.3125 103.408 96.7272 106.76 96.3742 110.345C96.0213 113.93 96.9226 117.527 98.9244 120.522C100.926 123.518 103.905 125.726 107.353 126.771C110.8 127.816 114.504 127.633 117.832 126.254C121.16 124.874 123.906 122.383 125.604 119.205C127.301 116.027 127.843 112.359 127.139 108.826C126.434 105.293 124.527 102.114 121.741 99.8296C118.955 97.5455 115.463 96.2983 111.86 96.3005C109.817 96.299 107.793 96.701 105.905 97.4835C104.018 98.2661 102.303 99.4136 100.86 100.86Z\" fill=\"#00AEEF\"/>\n",
       "    </g>\n",
       "    <defs>\n",
       "        <clipPath id=\"clip0_4338_178347\">\n",
       "            <rect width=\"566.93\" height=\"223.75\" fill=\"white\"/>\n",
       "        </clipPath>\n",
       "    </defs>\n",
       "  </svg>\n",
       "</div>\n",
       "\n",
       "        <table class=\"jp-RenderedHTMLCommon\" style=\"border-collapse: collapse;color: var(--jp-ui-font-color1);font-size: var(--jp-ui-font-size1);\">\n",
       "    <tr>\n",
       "        <td style=\"text-align: left\"><b>Python version:</b></td>\n",
       "        <td style=\"text-align: left\"><b>3.12.9</b></td>\n",
       "    </tr>\n",
       "    <tr>\n",
       "        <td style=\"text-align: left\"><b>Ray version:</b></td>\n",
       "        <td style=\"text-align: left\"><b>2.44.1</b></td>\n",
       "    </tr>\n",
       "    <tr>\n",
       "    <td style=\"text-align: left\"><b>Dashboard:</b></td>\n",
       "    <td style=\"text-align: left\"><b><a href=\"http://session-fyhrc759flh928h7czptpn79mb.i.anyscaleuserdata.com\" target=\"_blank\">http://session-fyhrc759flh928h7czptpn79mb.i.anyscaleuserdata.com</a></b></td>\n",
       "</tr>\n",
       "\n",
       "</table>\n",
       "\n",
       "    </div>\n",
       "</div>\n"
      ],
      "text/plain": [
       "RayContext(dashboard_url='session-fyhrc759flh928h7czptpn79mb.i.anyscaleuserdata.com', python_version='3.12.9', ray_version='2.44.1', ray_commit='66b3699996151045a71991762f4f83ecc03f881e')"
      ]
     },
     "execution_count": null,
     "metadata": {},
     "output_type": "execute_result"
    }
   ],
   "source": [
    "# Enable Ray Train v2 (it's too good to wait for public release!)\n",
    "ray.init(\n",
    "    runtime_env={\n",
    "        \"env_vars\": {\"RAY_TRAIN_V2_ENABLED\": \"1\"}, \n",
    "        \"working_dir\": \"/home/ray/default\",  # to import doggos (default working_dir=\".\")\n",
    "    },\n",
    ")"
   ]
  },
  {
   "cell_type": "code",
   "execution_count": null,
   "metadata": {},
   "outputs": [],
   "source": [
    "%%bash\n",
    "# This will be removed once Ray Train v2 is part of latest Ray version\n",
    "echo \"RAY_TRAIN_V2_ENABLED=1\" > /home/ray/default/.env"
   ]
  },
  {
   "cell_type": "code",
   "execution_count": null,
   "metadata": {},
   "outputs": [
    {
     "data": {
      "text/plain": [
       "True"
      ]
     },
     "execution_count": null,
     "metadata": {},
     "output_type": "execute_result"
    }
   ],
   "source": [
    "# Load env vars in notebooks\n",
    "from dotenv import load_dotenv\n",
    "load_dotenv()"
   ]
  },
  {
   "cell_type": "markdown",
   "metadata": {},
   "source": [
    "### Preprocess"
   ]
  },
  {
   "cell_type": "markdown",
   "metadata": {},
   "source": [
    "We need to convert our classes to labels (unique integers) so that we can train a classifier that can correctly predict the class given an input image. But before we do this, we'll quickly apply the same data ingestion and preprocessing as the previous notebook."
   ]
  },
  {
   "cell_type": "code",
   "execution_count": null,
   "metadata": {},
   "outputs": [],
   "source": [
    "def add_class(row):\n",
    "    row[\"class\"] = row[\"path\"].rsplit(\"/\", 3)[-2]\n",
    "    return row"
   ]
  },
  {
   "cell_type": "code",
   "execution_count": null,
   "metadata": {},
   "outputs": [],
   "source": [
    "# Preprocess data splits\n",
    "train_ds = ray.data.read_images(\"s3://doggos-dataset/train\", include_paths=True, shuffle=\"files\")\n",
    "train_ds = train_ds.map(add_class)\n",
    "val_ds = ray.data.read_images(\"s3://doggos-dataset/val\", include_paths=True)\n",
    "val_ds = val_ds.map(add_class)"
   ]
  },
  {
   "cell_type": "markdown",
   "metadata": {},
   "source": [
    "We'll define a `Preprocessor` class that will:\n",
    "- create an embedding, we will move the embedding layer outside of the model since we will freeze the embedding layer's weights and so we don't have to do it repeatedly as part of the model's forward pass (unecessary compute)\n",
    "- convert our classes into labels for the classifier. \n",
    "\n",
    "While we could've just done this as a simple operation, we're taking the time to organize it as a class so that we can save and load for inference later."
   ]
  },
  {
   "cell_type": "code",
   "execution_count": null,
   "metadata": {},
   "outputs": [],
   "source": [
    "from doggos.embed import EmbeddingGenerator"
   ]
  },
  {
   "cell_type": "code",
   "execution_count": null,
   "metadata": {},
   "outputs": [],
   "source": [
    "class Preprocessor:\n",
    "    \"\"\"Preprocessor class.\"\"\"\n",
    "    def __init__(self, class_to_label=None):\n",
    "        self.class_to_label = class_to_label or {}  # mutable defaults\n",
    "        self.label_to_class = {v: k for k, v in self.class_to_label.items()}\n",
    "        \n",
    "    def fit(self, ds, column):\n",
    "        self.classes = ds.unique(column=column)\n",
    "        self.class_to_label = {tag: i for i, tag in enumerate(self.classes)}\n",
    "        self.label_to_class = {v: k for k, v in self.class_to_label.items()}\n",
    "        return self\n",
    "\n",
    "    def convert_to_label(self, row, class_to_label):\n",
    "        if \"class\" in row:\n",
    "            row[\"label\"] = class_to_label[row[\"class\"]]\n",
    "        return row\n",
    "    \n",
    "    def transform(self, ds, concurrency=4, batch_size=64, num_gpus=1):\n",
    "        ds = ds.map(\n",
    "            self.convert_to_label, \n",
    "            fn_kwargs={\"class_to_label\": self.class_to_label},\n",
    "        )\n",
    "        ds = ds.map_batches(\n",
    "            EmbeddingGenerator,\n",
    "            fn_constructor_kwargs={\"model_id\": \"openai/clip-vit-base-patch32\"},\n",
    "            fn_kwargs={\"device\": \"cuda\"}, \n",
    "            concurrency=concurrency, \n",
    "            batch_size=batch_size,\n",
    "            num_gpus=num_gpus,\n",
    "        )\n",
    "        ds = ds.drop_columns([\"image\"])\n",
    "        return ds\n",
    "\n",
    "    def save(self, fp):\n",
    "        with open(fp, \"w\") as f:\n",
    "            json.dump(self.class_to_label, f)"
   ]
  },
  {
   "cell_type": "code",
   "execution_count": null,
   "metadata": {},
   "outputs": [
    {
     "name": "stderr",
     "output_type": "stream",
     "text": [
      "2025-04-08 20:55:36,893\tINFO dataset.py:2809 -- Tip: Use `take_batch()` instead of `take() / show()` to return records in pandas or numpy batch format.\n",
      "2025-04-08 20:55:36,903\tINFO streaming_executor.py:108 -- Starting execution of Dataset. Full logs are in /tmp/ray/session_2025-04-08_19-40-48_740426_2260/logs/ray-data\n",
      "2025-04-08 20:55:36,903\tINFO streaming_executor.py:109 -- Execution plan of Dataset: InputDataBuffer[Input] -> TaskPoolMapOperator[ListFiles] -> TaskPoolMapOperator[ReadFiles] -> TaskPoolMapOperator[Map(add_class)] -> AllToAllOperator[Aggregate] -> LimitOperator[limit=1]\n"
     ]
    },
    {
     "data": {
      "application/vnd.jupyter.widget-view+json": {
       "model_id": "79b75038c3914a059c94419e7b0488d5",
       "version_major": 2,
       "version_minor": 0
      },
      "text/plain": [
       "Running 0: 0.00 row [00:00, ? row/s]"
      ]
     },
     "metadata": {},
     "output_type": "display_data"
    },
    {
     "data": {
      "application/vnd.jupyter.widget-view+json": {
       "model_id": "cd55dd51743640d9a28c9137dfba4cb4",
       "version_major": 2,
       "version_minor": 0
      },
      "text/plain": [
       "- ListFiles 1: 0.00 row [00:00, ? row/s]"
      ]
     },
     "metadata": {},
     "output_type": "display_data"
    },
    {
     "data": {
      "application/vnd.jupyter.widget-view+json": {
       "model_id": "8fa08a150fc34bd6ba21ffbef841e6eb",
       "version_major": 2,
       "version_minor": 0
      },
      "text/plain": [
       "- ReadFiles 2: 0.00 row [00:00, ? row/s]"
      ]
     },
     "metadata": {},
     "output_type": "display_data"
    },
    {
     "data": {
      "application/vnd.jupyter.widget-view+json": {
       "model_id": "57eeab6c1fc14de5a97934ecf2e7c7ce",
       "version_major": 2,
       "version_minor": 0
      },
      "text/plain": [
       "- Map(add_class) 3: 0.00 row [00:00, ? row/s]"
      ]
     },
     "metadata": {},
     "output_type": "display_data"
    },
    {
     "data": {
      "application/vnd.jupyter.widget-view+json": {
       "model_id": "c6bf8e9af47e4986867c9f121244f77a",
       "version_major": 2,
       "version_minor": 0
      },
      "text/plain": [
       "- Aggregate 4: 0.00 row [00:00, ? row/s]"
      ]
     },
     "metadata": {},
     "output_type": "display_data"
    },
    {
     "data": {
      "application/vnd.jupyter.widget-view+json": {
       "model_id": "152fa25b708e4f3eb806947838908e80",
       "version_major": 2,
       "version_minor": 0
      },
      "text/plain": [
       "Sort Sample 5:   0%|          | 0.00/1.00 [00:00<?, ? row/s]"
      ]
     },
     "metadata": {},
     "output_type": "display_data"
    },
    {
     "data": {
      "application/vnd.jupyter.widget-view+json": {
       "model_id": "0afd77bf1ade42f6856321a81692191f",
       "version_major": 2,
       "version_minor": 0
      },
      "text/plain": [
       "Shuffle Map 6:   0%|          | 0.00/1.00 [00:00<?, ? row/s]"
      ]
     },
     "metadata": {},
     "output_type": "display_data"
    },
    {
     "data": {
      "application/vnd.jupyter.widget-view+json": {
       "model_id": "d671ae5144af478089941a8b3410b9f0",
       "version_major": 2,
       "version_minor": 0
      },
      "text/plain": [
       "Shuffle Reduce 7:   0%|          | 0.00/1.00 [00:00<?, ? row/s]"
      ]
     },
     "metadata": {},
     "output_type": "display_data"
    },
    {
     "data": {
      "application/vnd.jupyter.widget-view+json": {
       "model_id": "76d6595fa8cd4b60ade618eedc2eb8ce",
       "version_major": 2,
       "version_minor": 0
      },
      "text/plain": [
       "- limit=1 8: 0.00 row [00:00, ? row/s]"
      ]
     },
     "metadata": {},
     "output_type": "display_data"
    },
    {
     "name": "stdout",
     "output_type": "stream",
     "text": [
      "\u001b[36m(ListFiles pid=22438, ip=10.0.128.118)\u001b[0m >>> [DBG] partition_files: before: pyarrow.Table\n",
      "\u001b[36m(ListFiles pid=22438, ip=10.0.128.118)\u001b[0m __path: string\n",
      "\u001b[36m(ListFiles pid=22438, ip=10.0.128.118)\u001b[0m __file_size: int64\n",
      "\u001b[36m(ListFiles pid=22438, ip=10.0.128.118)\u001b[0m ----\n",
      "\u001b[36m(ListFiles pid=22438, ip=10.0.128.118)\u001b[0m __path: [[\"doggos-dataset/train/basset/basset_10028.jpg\",\"doggos-dataset/train/basset/basset_10054.jpg\",\"doggos-dataset/train/basset/basset_10072.jpg\",\"doggos-dataset/train/basset/basset_10095.jpg\",\"doggos-dataset/train/basset/basset_10110.jpg\",...,\"doggos-dataset/train/yorkshire_terrier/yorkshire_terrier_889.jpg\",\"doggos-dataset/train/yorkshire_terrier/yorkshire_terrier_9618.jpg\",\"doggos-dataset/train/yorkshire_terrier/yorkshire_terrier_962.jpg\",\"doggos-dataset/train/yorkshire_terrier/yorkshire_terrier_967.jpg\",\"doggos-dataset/train/yorkshire_terrier/yorkshire_terrier_9739.jpg\"]]\n",
      "\u001b[36m(ListFiles pid=22438, ip=10.0.128.118)\u001b[0m __file_size: [[56919,36417,21093,23721,12511,...,19267,43746,29862,37592,32578]]\n",
      "\u001b[36m(ListFiles pid=22438, ip=10.0.128.118)\u001b[0m >>> [DBG] partition_files: after: pyarrow.Table\n",
      "\u001b[36m(ListFiles pid=22438, ip=10.0.128.118)\u001b[0m __path: string\n",
      "\u001b[36m(ListFiles pid=22438, ip=10.0.128.118)\u001b[0m __file_size: int64\n",
      "\u001b[36m(ListFiles pid=22438, ip=10.0.128.118)\u001b[0m ----\n",
      "\u001b[36m(ListFiles pid=22438, ip=10.0.128.118)\u001b[0m __path: [[\"doggos-dataset/train/beagle/beagle_12973.jpg\",\"doggos-dataset/train/beagle/beagle_4070.jpg\",\"doggos-dataset/train/great_dane/great_dane_21589.jpg\",\"doggos-dataset/train/bloodhound/bloodhound_9360.jpg\",\"doggos-dataset/train/yorkshire_terrier/yorkshire_terrier_1770.jpg\",...,\"doggos-dataset/train/shih_tzu/shih_tzu_1725.jpg\",\"doggos-dataset/train/samoyed/samoyed_3499.jpg\",\"doggos-dataset/train/chow/chow_6350.jpg\",\"doggos-dataset/train/maltese_dog/maltese_dog_9590.jpg\",\"doggos-dataset/train/shih_tzu/shih_tzu_3582.jpg\"]]\n",
      "\u001b[36m(ListFiles pid=22438, ip=10.0.128.118)\u001b[0m __file_size: [[33598,28394,27243,39458,31354,...,42384,34598,34117,34693,15168]]\n"
     ]
    },
    {
     "name": "stderr",
     "output_type": "stream",
     "text": [
      "2025-04-08 20:55:51,379\tINFO streaming_executor.py:108 -- Starting execution of Dataset. Full logs are in /tmp/ray/session_2025-04-08_19-40-48_740426_2260/logs/ray-data\n",
      "2025-04-08 20:55:51,380\tINFO streaming_executor.py:109 -- Execution plan of Dataset: InputDataBuffer[Input] -> TaskPoolMapOperator[ListFiles] -> TaskPoolMapOperator[ReadFiles] -> TaskPoolMapOperator[Map(add_class)->Map(Preprocessor.convert_to_label)] -> ActorPoolMapOperator[MapBatches(EmbeddingGenerator)] -> TaskPoolMapOperator[MapBatches(drop_columns)] -> LimitOperator[limit=1]\n"
     ]
    },
    {
     "data": {
      "application/vnd.jupyter.widget-view+json": {
       "model_id": "3432a17b8acc4d20abaea10f93a47125",
       "version_major": 2,
       "version_minor": 0
      },
      "text/plain": [
       "Running 0: 0.00 row [00:00, ? row/s]"
      ]
     },
     "metadata": {},
     "output_type": "display_data"
    },
    {
     "data": {
      "application/vnd.jupyter.widget-view+json": {
       "model_id": "f4b811b077614655b605bfe2f1e3895d",
       "version_major": 2,
       "version_minor": 0
      },
      "text/plain": [
       "- ListFiles 1: 0.00 row [00:00, ? row/s]"
      ]
     },
     "metadata": {},
     "output_type": "display_data"
    },
    {
     "data": {
      "application/vnd.jupyter.widget-view+json": {
       "model_id": "fd62bbb839bb4d0a9f6517d44d3482a5",
       "version_major": 2,
       "version_minor": 0
      },
      "text/plain": [
       "- ReadFiles 2: 0.00 row [00:00, ? row/s]"
      ]
     },
     "metadata": {},
     "output_type": "display_data"
    },
    {
     "data": {
      "application/vnd.jupyter.widget-view+json": {
       "model_id": "255357a3c48444dd8c086635ac5b1bae",
       "version_major": 2,
       "version_minor": 0
      },
      "text/plain": [
       "- Map(add_class)->Map(Preprocessor.convert_to_label) 3: 0.00 row [00:00, ? row/s]"
      ]
     },
     "metadata": {},
     "output_type": "display_data"
    },
    {
     "data": {
      "application/vnd.jupyter.widget-view+json": {
       "model_id": "d158ee2568dd4762aa89a65e7946062e",
       "version_major": 2,
       "version_minor": 0
      },
      "text/plain": [
       "- MapBatches(EmbeddingGenerator) 4: 0.00 row [00:00, ? row/s]"
      ]
     },
     "metadata": {},
     "output_type": "display_data"
    },
    {
     "data": {
      "application/vnd.jupyter.widget-view+json": {
       "model_id": "c5e843b2832d48648458836b37e93d40",
       "version_major": 2,
       "version_minor": 0
      },
      "text/plain": [
       "- MapBatches(drop_columns) 5: 0.00 row [00:00, ? row/s]"
      ]
     },
     "metadata": {},
     "output_type": "display_data"
    },
    {
     "data": {
      "application/vnd.jupyter.widget-view+json": {
       "model_id": "3a8b011932a145dc9105b068e87702d6",
       "version_major": 2,
       "version_minor": 0
      },
      "text/plain": [
       "- limit=1 6: 0.00 row [00:00, ? row/s]"
      ]
     },
     "metadata": {},
     "output_type": "display_data"
    },
    {
     "name": "stdout",
     "output_type": "stream",
     "text": [
      "\u001b[36m(ListFiles pid=22439, ip=10.0.128.118)\u001b[0m >>> [DBG] partition_files: before: pyarrow.Table\n",
      "\u001b[36m(ListFiles pid=22439, ip=10.0.128.118)\u001b[0m __path: string\u001b[32m [repeated 2x across cluster] (Ray deduplicates logs by default. Set RAY_DEDUP_LOGS=0 to disable log deduplication, or see https://docs.ray.io/en/master/ray-observability/user-guides/configure-logging.html#log-deduplication for more options.)\u001b[0m\n",
      "\u001b[36m(ListFiles pid=22439, ip=10.0.128.118)\u001b[0m __file_size: [[100435,70632,7333,23060,33810,...,45243,23578,42791,21563,43553]]\u001b[32m [repeated 4x across cluster]\u001b[0m\n",
      "\u001b[36m(ListFiles pid=22439, ip=10.0.128.118)\u001b[0m ----\u001b[32m [repeated 2x across cluster]\u001b[0m\n",
      "\u001b[36m(ListFiles pid=22439, ip=10.0.128.118)\u001b[0m __path: [[\"doggos-dataset/train/italian_greyhound/italian_greyhound_18.jpg\",\"doggos-dataset/train/cocker_spaniel/cocker_spaniel_14073.jpg\",\"doggos-dataset/train/yorkshire_terrier/yorkshire_terrier_7394.jpg\",\"doggos-dataset/train/great_pyrenees/great_pyrenees_9015.jpg\",\"doggos-dataset/train/pug/pug_11256.jpg\",...,\"doggos-dataset/train/chow/chow_10457.jpg\",\"doggos-dataset/train/dingo/dingo_6407.jpg\",\"doggos-dataset/train/labrador_retriever/labrador_retriever_1383.jpg\",\"doggos-dataset/train/maltese_dog/maltese_dog_8365.jpg\",\"doggos-dataset/train/toy_poodle/toy_poodle_1832.jpg\"]]\u001b[32m [repeated 2x across cluster]\u001b[0m\n",
      "\u001b[36m(ListFiles pid=22439, ip=10.0.128.118)\u001b[0m >>> [DBG] partition_files: after: pyarrow.Table\n"
     ]
    },
    {
     "data": {
      "text/plain": [
       "[{'path': 'doggos-dataset/train/bull_mastiff/bull_mastiff_4375.jpg',\n",
       "  'class': 'bull_mastiff',\n",
       "  'label': 10,\n",
       "  'embedding': array([ 1.73454791e-01,  2.72175744e-02, -2.24488869e-01, -1.12512283e-01,\n",
       "         -1.06712162e-01, -2.98873782e-01,  4.23507571e-01,  2.06249237e-01,\n",
       "          8.79954249e-02,  7.35617995e-01, -2.57802486e-01,  4.14738297e-01,\n",
       "         -4.92882788e-01, -1.64752558e-01,  2.11747140e-01, -1.16831094e-01,\n",
       "          2.70434678e-01, -2.05583721e-01,  3.05190943e-02, -1.68489814e-01,\n",
       "         -6.00930512e-01,  4.15377915e-02,  1.17664590e-01,  1.90915912e-01,\n",
       "         -2.64864117e-01, -8.59661549e-02, -2.39479095e-01,  3.10329013e-02,\n",
       "          7.49131292e-03,  1.90075576e-01, -1.69165954e-01, -7.26508349e-02,\n",
       "         -7.07097948e-02, -1.99425951e-01, -4.47013885e-01,  3.00211072e-01,\n",
       "         -1.43459737e-01, -3.21481436e-01,  1.77398652e-01,  1.45181715e+00,\n",
       "         -6.87312543e-01,  9.56681520e-02,  1.90398782e-01, -6.07736886e-01,\n",
       "         -3.74231368e-01, -9.37203050e-01,  2.86793709e-03,  1.26249671e-01,\n",
       "          6.90612018e-01,  1.48868412e-01, -2.28401572e-01, -3.54244560e-01,\n",
       "          1.66585624e-01, -5.26444614e-03,  5.62430859e-01,  6.68603927e-02,\n",
       "         -1.66288257e-01,  4.43333149e-01, -1.35374576e-01,  5.30173704e-02,\n",
       "         -5.79002619e-01,  1.85317606e-01,  4.53928590e-01,  4.76944149e-01,\n",
       "         -2.30234832e-01, -3.38321447e-01,  6.03162527e-01,  6.50804937e-02,\n",
       "         -4.62674588e-01, -1.62923366e-01, -2.39174832e-02, -1.15809955e-01,\n",
       "          1.65416658e-01,  8.09794590e-02,  1.35283351e-01, -3.58475238e-01,\n",
       "         -1.59191750e-02,  2.15589583e-01, -1.66707277e-01,  4.94241305e-02,\n",
       "          5.63274622e-02, -6.50169492e-01, -1.08545728e-01, -5.58679640e-01,\n",
       "         -7.36345872e-02, -3.34854692e-01,  5.82701564e-01, -6.84930563e-01,\n",
       "          6.05901062e-01, -2.38529906e-01,  8.35777149e-02, -6.06735706e-01,\n",
       "         -6.47335196e+00,  7.07767069e-01, -5.17428458e-01, -2.07163796e-01,\n",
       "         -1.03607580e-01, -4.42542434e-01, -1.05118704e+00,  1.68841374e+00,\n",
       "         -2.68792957e-01,  5.24348319e-02,  2.45848715e-01, -1.73336938e-01,\n",
       "          6.12625301e-01, -4.40448999e-01,  1.89678222e-02, -1.41816080e-01,\n",
       "          8.18058774e-02, -5.25269806e-01,  1.71147719e-01, -1.88255951e-01,\n",
       "          3.71928126e-01, -2.20528245e-03,  5.69412224e-02, -3.18234861e-01,\n",
       "         -7.78415978e-01, -5.86903453e-01,  3.56378853e-02, -1.90540344e-01,\n",
       "          6.44861013e-02,  6.67375922e-02,  5.32016039e-01, -1.20235682e-01,\n",
       "          2.41108701e-01, -5.54590106e-01,  4.80372310e-02,  8.65337178e-02,\n",
       "         -5.17671883e-01, -3.21859241e-01,  4.61648524e-01,  2.74934262e-01,\n",
       "          9.70794782e-02,  8.50947559e-01, -3.30011453e-03,  6.06273651e-01,\n",
       "          3.65324259e-01, -5.13679564e-01, -1.23609692e-01, -4.97323722e-02,\n",
       "         -6.25446141e-02, -1.93927407e-01,  3.88131529e-01,  1.35834068e-01,\n",
       "          4.73832905e-01,  4.71139759e-01,  2.49260068e-01, -6.31497800e-02,\n",
       "          1.08831778e-01,  3.32633853e-01, -1.22684643e-01,  3.88396531e-01,\n",
       "          2.45110914e-02,  2.48044863e-01, -1.89467847e-01, -2.57478714e-01,\n",
       "         -4.94828016e-01, -1.28630251e-01,  7.61280432e-02,  1.49054378e-01,\n",
       "          1.64818093e-01,  3.57576221e-01,  4.26788405e-02,  3.03431228e-03,\n",
       "         -3.21099728e-01, -8.26746747e-02, -3.57286096e-01,  5.27033024e-02,\n",
       "         -3.60922478e-02, -1.98604852e-01, -7.14508072e-02,  2.48393118e-01,\n",
       "          1.14550531e-01, -3.34827602e-01,  4.50230092e-01, -2.91871369e-01,\n",
       "          6.91627562e-02, -2.82670707e-02, -5.41729629e-01, -1.93852544e-01,\n",
       "         -2.70062864e-01, -6.66026413e-01,  1.71089560e-01, -1.21547617e-01,\n",
       "          2.82131135e-04, -8.82664621e-02,  2.05959707e-01,  2.38179639e-02,\n",
       "         -9.11230296e-02,  3.36499751e-01,  2.73393840e-01, -4.34111804e-03,\n",
       "          1.20608345e-01, -5.99833801e-02,  1.78063750e-01,  1.18867680e-01,\n",
       "          2.62217820e-02, -3.59813452e-01, -1.05734456e+00, -5.73337674e-01,\n",
       "         -1.29478469e-01,  1.81594938e-01,  2.92318195e-01, -3.11131269e-01,\n",
       "         -1.09045625e-01, -4.63803709e-01,  6.98282793e-02, -6.90517575e-02,\n",
       "         -1.46152675e-01,  3.93376172e-01, -1.39968246e-01,  2.83478498e-01,\n",
       "         -2.70866662e-01, -2.47213185e-01, -1.52004659e-01, -4.26736623e-01,\n",
       "         -3.37671399e-01,  5.91614664e-01,  6.88023329e-01,  4.69378568e-02,\n",
       "          8.60104859e-02,  1.08437955e+00, -1.73846245e-01,  2.65920520e-01,\n",
       "         -6.50273383e-01, -4.52458322e-01,  1.33532718e-01, -9.34340805e-02,\n",
       "         -1.39643550e-02, -3.67848784e-01, -1.36143133e-01,  7.55296201e-02,\n",
       "         -2.27007478e-01,  7.91797519e-01,  1.11376077e-01,  5.64077348e-02,\n",
       "         -1.83674142e-01, -2.05009170e-02,  2.07617164e-01, -3.52686286e-01,\n",
       "          2.26357579e-02, -2.68031597e-01, -2.09071532e-01, -5.66452742e-03,\n",
       "         -7.79633760e-01,  9.36757863e-01,  7.14366436e-01, -7.45599091e-01,\n",
       "          3.21070939e-01,  3.23997736e-01,  2.88233638e-01,  2.62584120e-01,\n",
       "         -2.52717882e-02,  6.44735023e-02,  5.24831116e-01, -1.59776509e-01,\n",
       "          4.36262563e-02, -1.14868343e-01,  4.29351151e-01,  5.25894016e-03,\n",
       "         -2.23606095e-01, -2.29152679e-01, -4.58846211e-01, -1.38263667e+00,\n",
       "          2.11922437e-01, -2.11733386e-01, -3.30952138e-01, -3.76490951e-01,\n",
       "         -3.57717782e-01, -6.68655038e-02, -8.99205580e-02, -7.17794001e-02,\n",
       "          4.65780169e-01,  1.08807035e-01, -1.51959687e-01, -2.53428817e-01,\n",
       "         -3.29687119e-01, -2.82967091e-01, -1.38276815e-03,  7.34842345e-02,\n",
       "         -5.44000983e-01, -2.38095000e-02, -3.19362134e-01,  3.19489747e-01,\n",
       "         -2.02558607e-01, -1.35328114e-01,  4.21613932e-01,  7.27904499e-01,\n",
       "         -3.26139480e-03, -1.33954525e-01,  2.94664085e-01, -8.69267732e-02,\n",
       "         -2.38704443e-01, -1.43853262e-01,  3.33372921e-01,  2.67496407e-02,\n",
       "          2.55611986e-02,  4.67149615e-01,  3.21218759e-01,  1.80247486e-01,\n",
       "          1.03345916e-01, -9.34187025e-02,  8.98826048e-02, -1.58501446e-01,\n",
       "          3.14718723e-01,  3.05012465e-02,  3.44242305e-02,  2.79038191e-01,\n",
       "          1.97547853e-01, -1.37134731e-01, -3.18961233e-01,  1.00540996e+00,\n",
       "          8.47065628e-01,  1.90443844e-01, -3.48448932e-01, -3.44158411e-02,\n",
       "          3.23707193e-01,  3.31198394e-01, -6.36445731e-02,  5.68054438e-01,\n",
       "          1.05886102e-01,  4.81802404e-01, -1.23148978e-01, -1.18724912e-01,\n",
       "          3.71495843e-01,  1.99944884e-01,  1.26059711e-01,  3.83554816e-01,\n",
       "         -6.83704555e-01, -2.35965252e-01, -1.28783032e-01, -3.96272242e-01,\n",
       "          2.82417566e-01, -4.43157107e-01,  8.90745670e-02, -1.70286864e-01,\n",
       "         -2.88402706e-01, -3.87181312e-01, -2.42360041e-01, -2.09946513e-01,\n",
       "          3.09431672e-01, -2.05330998e-01,  1.33202121e-01,  1.18704401e-01,\n",
       "          8.82013217e-02, -7.14666694e-02,  2.49823481e-02,  5.29323161e-01,\n",
       "         -4.88145918e-01,  4.77436185e-03, -3.46119791e-01,  1.48232430e-02,\n",
       "          1.30402938e-01, -4.59364280e-02,  3.01636487e-01,  1.07686937e+00,\n",
       "         -3.69917542e-01, -3.88359785e-01,  1.81265384e-01,  3.54384780e-01,\n",
       "          5.73850751e-01,  6.62571490e-02,  3.49895954e-02,  6.52057678e-02,\n",
       "         -8.40949714e-01,  4.53436494e-01, -4.47841734e-02, -5.53815551e-02,\n",
       "          8.65054578e-02, -5.27237475e-01,  2.26255655e-01,  4.01116490e-01,\n",
       "         -3.77717316e-02,  3.57054174e-02, -6.92549944e-02,  2.66675234e-01,\n",
       "          2.39613914e+00,  7.45624185e-01,  4.13138479e-01,  2.75249004e-01,\n",
       "          2.24520639e-01, -2.06304237e-01, -1.99598044e-01,  5.04713058e-01,\n",
       "         -8.91421083e-03,  1.87711567e-02, -4.03748721e-01,  1.73636675e-02,\n",
       "          1.24496482e-01, -1.39862657e+00, -2.51746833e-01, -5.87680161e-01,\n",
       "          1.60871476e-01, -9.94733647e-02, -2.38958210e-01,  2.15587676e-01,\n",
       "         -6.44798726e-02,  1.87031537e-01,  1.98299915e-01, -8.79282355e-01,\n",
       "         -2.07862407e-01, -4.59874451e-01, -4.32689250e-01,  4.53658700e-01,\n",
       "          2.17882857e-01, -5.93112633e-02,  1.17228404e-02, -1.72930822e-01,\n",
       "          1.51673391e-01, -7.27792382e-02,  5.52481294e-01, -1.12788551e-01,\n",
       "         -1.34397179e-01, -4.06015217e-02,  9.99914631e-02,  2.52911597e-01,\n",
       "         -4.07915004e-02,  1.12668633e-01,  3.85631144e-01, -5.38245142e-01,\n",
       "         -4.45748568e-02,  3.45010832e-02, -1.49280280e-01, -2.59872496e-01,\n",
       "          2.40136892e-01,  2.12892264e-01, -2.32837163e-02,  2.46108800e-01,\n",
       "         -6.93442225e-02, -7.14018941e-02, -2.74640411e-01,  6.49854481e-01,\n",
       "          6.64230049e-01, -1.07858151e-01, -2.80018359e-01,  1.46166503e-01,\n",
       "         -1.65741056e-01, -8.75950679e-02,  3.71638000e-01, -4.09449823e-02,\n",
       "          8.57595861e-01,  9.57339257e-02, -2.88950026e-01,  3.59403789e-01,\n",
       "          2.87938178e-01, -3.01712215e-01,  2.61820763e-01, -3.59133571e-01,\n",
       "         -3.73551607e-01, -3.73239696e-01, -3.33429784e-01, -1.48422688e-01,\n",
       "         -1.16124712e-01, -1.91076681e-01, -1.28726721e-01,  1.22859329e-01,\n",
       "         -7.60868192e-04,  6.60006106e-01,  5.50409913e-01,  1.07783541e-01,\n",
       "          8.20500255e-02, -4.51994151e-01, -1.51041448e-01,  3.45673174e-01,\n",
       "          4.76260215e-01,  5.39821088e-01, -4.58231598e-01,  3.26559424e-01,\n",
       "         -4.62196529e-01, -2.18562976e-01,  5.11760950e-01,  9.03305188e-02,\n",
       "          5.95294833e-02, -5.24332702e-01, -3.03876460e-01, -2.93680817e-01,\n",
       "          1.45628572e-01,  3.87330920e-01, -8.55934381e-01, -2.65151203e-01,\n",
       "          1.81513131e-02, -2.08500832e-01, -2.98351645e-02, -2.70656347e-01,\n",
       "         -3.74078482e-01,  1.00885525e-01,  2.30311781e-01, -6.69148743e-01,\n",
       "          2.32999921e-01,  5.59709296e-02,  4.11732435e-01,  8.93659517e-03,\n",
       "         -6.81035072e-02,  7.25789368e-02,  2.53537953e-01,  3.53382319e-01,\n",
       "         -3.14522624e-01,  5.60427487e-01,  5.73412888e-02,  6.25513494e-02,\n",
       "          9.05235112e-02, -1.14292026e-01,  2.42364347e-01,  2.35806584e-01,\n",
       "         -8.26779306e-02, -1.68339446e-01,  3.46125513e-02,  4.70505655e-03,\n",
       "         -4.63861585e-01,  6.92108333e-01,  4.64018494e-01, -3.85292083e-01],\n",
       "        dtype=float32)}]"
      ]
     },
     "execution_count": null,
     "metadata": {},
     "output_type": "execute_result"
    }
   ],
   "source": [
    "# Preprocess\n",
    "preprocessor = Preprocessor()\n",
    "preprocessor = preprocessor.fit(train_ds, column=\"class\")\n",
    "train_ds = preprocessor.transform(ds=train_ds)\n",
    "val_ds = preprocessor.transform(ds=val_ds)\n",
    "train_ds.take(1)"
   ]
  },
  {
   "cell_type": "markdown",
   "metadata": {},
   "source": [
    "<div class=\"alert alert-block alert\"> <b> Data Processing</b> \n",
    "\n",
    "Be sure to checkout this extensive guide on [data loading and preprocessing](https://docs.ray.io/en/latest/train/user-guides/data-loading-preprocessing.html) for the last-mile preprocessing we'll need to do prior to training our models. However, Ray Data does support performant joins, filters, aggregations, etc. for the more structure data processing your workloads may need."
   ]
  },
  {
   "cell_type": "markdown",
   "metadata": {},
   "source": [
    "<div class=\"alert alert-block alert\"> <b> Store often, Save compute</b> \n",
    "\n",
    "We're going to now store our preprocessed data into shared cloud storage because we want to:\n",
    "- save a record of what this preprocessed data looks like\n",
    "- avoid triggering the entire preprocessing for each batch our model will process\n",
    "- don't want to [`materialize`](https://docs.ray.io/en/latest/data/api/doc/ray.data.Dataset.materialize.html) the preprocessed data either (shouldn't force large data to fit in memory)"
   ]
  },
  {
   "cell_type": "code",
   "execution_count": null,
   "metadata": {},
   "outputs": [],
   "source": [
    "import shutil"
   ]
  },
  {
   "cell_type": "code",
   "execution_count": null,
   "metadata": {},
   "outputs": [
    {
     "name": "stderr",
     "output_type": "stream",
     "text": [
      "2025-04-08 20:56:08,152\tINFO streaming_executor.py:108 -- Starting execution of Dataset. Full logs are in /tmp/ray/session_2025-04-08_19-40-48_740426_2260/logs/ray-data\n",
      "2025-04-08 20:56:08,153\tINFO streaming_executor.py:109 -- Execution plan of Dataset: InputDataBuffer[Input] -> TaskPoolMapOperator[ListFiles] -> TaskPoolMapOperator[ReadFiles] -> TaskPoolMapOperator[Map(add_class)->Map(Preprocessor.convert_to_label)] -> ActorPoolMapOperator[MapBatches(EmbeddingGenerator)] -> TaskPoolMapOperator[MapBatches(drop_columns)->Write]\n"
     ]
    },
    {
     "data": {
      "application/vnd.jupyter.widget-view+json": {
       "model_id": "96990e34732d414e9518a314896914ef",
       "version_major": 2,
       "version_minor": 0
      },
      "text/plain": [
       "Running 0: 0.00 row [00:00, ? row/s]"
      ]
     },
     "metadata": {},
     "output_type": "display_data"
    },
    {
     "name": "stdout",
     "output_type": "stream",
     "text": [
      "\u001b[36m(autoscaler +43s)\u001b[0m Tip: use `ray status` to view detailed cluster status. To disable these messages, set RAY_SCHEDULER_EVENTS=0.\n",
      "\u001b[36m(autoscaler +43s)\u001b[0m [autoscaler] [4xT4:48CPU-192GB] Attempting to add 1 node(s) to the cluster (increasing from 1 to 2).\n",
      "\u001b[36m(autoscaler +43s)\u001b[0m [autoscaler] [4xT4:48CPU-192GB] Launched 1 instances.\n"
     ]
    },
    {
     "data": {
      "application/vnd.jupyter.widget-view+json": {
       "model_id": "189277c402cf400184b47288f2adab6e",
       "version_major": 2,
       "version_minor": 0
      },
      "text/plain": [
       "- ListFiles 1: 0.00 row [00:00, ? row/s]"
      ]
     },
     "metadata": {},
     "output_type": "display_data"
    },
    {
     "data": {
      "application/vnd.jupyter.widget-view+json": {
       "model_id": "9ec780544bef40c49499886c8c4cf3ba",
       "version_major": 2,
       "version_minor": 0
      },
      "text/plain": [
       "- ReadFiles 2: 0.00 row [00:00, ? row/s]"
      ]
     },
     "metadata": {},
     "output_type": "display_data"
    },
    {
     "data": {
      "application/vnd.jupyter.widget-view+json": {
       "model_id": "3a1673dbee0b445996954761392d0922",
       "version_major": 2,
       "version_minor": 0
      },
      "text/plain": [
       "- Map(add_class)->Map(Preprocessor.convert_to_label) 3: 0.00 row [00:00, ? row/s]"
      ]
     },
     "metadata": {},
     "output_type": "display_data"
    },
    {
     "data": {
      "application/vnd.jupyter.widget-view+json": {
       "model_id": "594429fb1edf4ff3a866085d790bd378",
       "version_major": 2,
       "version_minor": 0
      },
      "text/plain": [
       "- MapBatches(EmbeddingGenerator) 4: 0.00 row [00:00, ? row/s]"
      ]
     },
     "metadata": {},
     "output_type": "display_data"
    },
    {
     "data": {
      "application/vnd.jupyter.widget-view+json": {
       "model_id": "a899a09cb3b645ec9c76f15d8f719472",
       "version_major": 2,
       "version_minor": 0
      },
      "text/plain": [
       "- MapBatches(drop_columns)->Write 5: 0.00 row [00:00, ? row/s]"
      ]
     },
     "metadata": {},
     "output_type": "display_data"
    },
    {
     "name": "stdout",
     "output_type": "stream",
     "text": [
      "\u001b[36m(ListFiles pid=22682, ip=10.0.128.118)\u001b[0m >>> [DBG] partition_files: before: pyarrow.Table\n",
      "\u001b[36m(ListFiles pid=22682, ip=10.0.128.118)\u001b[0m __path: string\n",
      "\u001b[36m(ListFiles pid=22682, ip=10.0.128.118)\u001b[0m __file_size: int64\n",
      "\u001b[36m(ListFiles pid=22682, ip=10.0.128.118)\u001b[0m ----\n",
      "\u001b[36m(ListFiles pid=22682, ip=10.0.128.118)\u001b[0m __path: [[\"doggos-dataset/train/basset/basset_10028.jpg\",\"doggos-dataset/train/basset/basset_10054.jpg\",\"doggos-dataset/train/basset/basset_10072.jpg\",\"doggos-dataset/train/basset/basset_10095.jpg\",\"doggos-dataset/train/basset/basset_10110.jpg\",...,\"doggos-dataset/train/yorkshire_terrier/yorkshire_terrier_889.jpg\",\"doggos-dataset/train/yorkshire_terrier/yorkshire_terrier_9618.jpg\",\"doggos-dataset/train/yorkshire_terrier/yorkshire_terrier_962.jpg\",\"doggos-dataset/train/yorkshire_terrier/yorkshire_terrier_967.jpg\",\"doggos-dataset/train/yorkshire_terrier/yorkshire_terrier_9739.jpg\"]]\n",
      "\u001b[36m(ListFiles pid=22682, ip=10.0.128.118)\u001b[0m __file_size: [[56919,36417,21093,23721,12511,...,19267,43746,29862,37592,32578]]\n",
      "\u001b[36m(ListFiles pid=22682, ip=10.0.128.118)\u001b[0m >>> [DBG] partition_files: after: pyarrow.Table\n",
      "\u001b[36m(ListFiles pid=22682, ip=10.0.128.118)\u001b[0m __path: string\n",
      "\u001b[36m(ListFiles pid=22682, ip=10.0.128.118)\u001b[0m __file_size: int64\n",
      "\u001b[36m(ListFiles pid=22682, ip=10.0.128.118)\u001b[0m ----\n",
      "\u001b[36m(ListFiles pid=22682, ip=10.0.128.118)\u001b[0m __path: [[\"doggos-dataset/train/collie/collie_16173.jpg\",\"doggos-dataset/train/boxer/boxer_2815.jpg\",\"doggos-dataset/train/tibetan_mastiff/tibetan_mastiff_2861.jpg\",\"doggos-dataset/train/siberian_husky/siberian_husky_6263.jpg\",\"doggos-dataset/train/beagle/beagle_6089.jpg\",...,\"doggos-dataset/train/malamute/malamute_11227.jpg\",\"doggos-dataset/train/french_bulldog/french_bulldog_6008.jpg\",\"doggos-dataset/train/eskimo_dog/eskimo_dog_3946.jpg\",\"doggos-dataset/train/yorkshire_terrier/yorkshire_terrier_3655.jpg\",\"doggos-dataset/train/cocker_spaniel/cocker_spaniel_873.jpg\"]]\n",
      "\u001b[36m(ListFiles pid=22682, ip=10.0.128.118)\u001b[0m __file_size: [[50435,28040,57965,29426,32737,...,42104,172311,23609,25814,50497]]\n"
     ]
    },
    {
     "name": "stderr",
     "output_type": "stream",
     "text": [
      "2025-04-08 20:56:27,159\tINFO dataset.py:4178 -- Data sink Parquet finished. 2880 rows and 5.9MB data written.\n",
      "2025-04-08 20:56:27,184\tINFO streaming_executor.py:108 -- Starting execution of Dataset. Full logs are in /tmp/ray/session_2025-04-08_19-40-48_740426_2260/logs/ray-data\n",
      "2025-04-08 20:56:27,185\tINFO streaming_executor.py:109 -- Execution plan of Dataset: InputDataBuffer[Input] -> TaskPoolMapOperator[ListFiles] -> TaskPoolMapOperator[ReadFiles] -> TaskPoolMapOperator[Map(add_class)->Map(Preprocessor.convert_to_label)] -> ActorPoolMapOperator[MapBatches(EmbeddingGenerator)] -> TaskPoolMapOperator[MapBatches(drop_columns)->Write]\n"
     ]
    },
    {
     "data": {
      "application/vnd.jupyter.widget-view+json": {
       "model_id": "76e1ca8313274f199b9b787575e1a7fb",
       "version_major": 2,
       "version_minor": 0
      },
      "text/plain": [
       "Running 0: 0.00 row [00:00, ? row/s]"
      ]
     },
     "metadata": {},
     "output_type": "display_data"
    },
    {
     "data": {
      "application/vnd.jupyter.widget-view+json": {
       "model_id": "eab35a62b8d5442b9092cd7494952256",
       "version_major": 2,
       "version_minor": 0
      },
      "text/plain": [
       "- ListFiles 1: 0.00 row [00:00, ? row/s]"
      ]
     },
     "metadata": {},
     "output_type": "display_data"
    },
    {
     "data": {
      "application/vnd.jupyter.widget-view+json": {
       "model_id": "8aaa518418e8462ea95663edb7a7ba63",
       "version_major": 2,
       "version_minor": 0
      },
      "text/plain": [
       "- ReadFiles 2: 0.00 row [00:00, ? row/s]"
      ]
     },
     "metadata": {},
     "output_type": "display_data"
    },
    {
     "data": {
      "application/vnd.jupyter.widget-view+json": {
       "model_id": "9e617835155648819d9f2d45f39f6631",
       "version_major": 2,
       "version_minor": 0
      },
      "text/plain": [
       "- Map(add_class)->Map(Preprocessor.convert_to_label) 3: 0.00 row [00:00, ? row/s]"
      ]
     },
     "metadata": {},
     "output_type": "display_data"
    },
    {
     "data": {
      "application/vnd.jupyter.widget-view+json": {
       "model_id": "48a5a432a8cf414a92d470a5217f481f",
       "version_major": 2,
       "version_minor": 0
      },
      "text/plain": [
       "- MapBatches(EmbeddingGenerator) 4: 0.00 row [00:00, ? row/s]"
      ]
     },
     "metadata": {},
     "output_type": "display_data"
    },
    {
     "data": {
      "application/vnd.jupyter.widget-view+json": {
       "model_id": "fe7b2147f7fe4d599e3a913bbf13e506",
       "version_major": 2,
       "version_minor": 0
      },
      "text/plain": [
       "- MapBatches(drop_columns)->Write 5: 0.00 row [00:00, ? row/s]"
      ]
     },
     "metadata": {},
     "output_type": "display_data"
    },
    {
     "name": "stderr",
     "output_type": "stream",
     "text": [
      "2025-04-08 20:56:43,885\tINFO dataset.py:4178 -- Data sink Parquet finished. 720 rows and 1.5MB data written.\n"
     ]
    }
   ],
   "source": [
    "# Write processed data to cloud storage\n",
    "preprocessed_data_path = os.path.join(\"/mnt/user_storage\", \"doggos/preprocessed_data\")\n",
    "if os.path.exists(preprocessed_data_path):  # clean up\n",
    "    shutil.rmtree(preprocessed_data_path)\n",
    "preprocessed_train_path = os.path.join(preprocessed_data_path, \"preprocessed_train\")\n",
    "preprocessed_val_path = os.path.join(preprocessed_data_path, \"preprocessed_val\")\n",
    "train_ds.write_parquet(preprocessed_train_path)\n",
    "val_ds.write_parquet(preprocessed_val_path)"
   ]
  },
  {
   "cell_type": "markdown",
   "metadata": {},
   "source": [
    "### Model"
   ]
  },
  {
   "cell_type": "markdown",
   "metadata": {},
   "source": [
    "Let's define our model -- a simple two layer neural net with softmax layer to predict class probabilities. You'll notice that it's all just base PyTorch and nothing else."
   ]
  },
  {
   "cell_type": "code",
   "execution_count": null,
   "metadata": {},
   "outputs": [],
   "source": [
    "import json\n",
    "from pathlib import Path\n",
    "import torch\n",
    "import torch.nn as nn\n",
    "import torch.nn.functional as F"
   ]
  },
  {
   "cell_type": "code",
   "execution_count": null,
   "metadata": {},
   "outputs": [],
   "source": [
    "class ClassificationModel(torch.nn.Module):\n",
    "    def __init__(self, embedding_dim, hidden_dim, dropout_p, num_classes):\n",
    "        super().__init__()\n",
    "        # Hyperparameters\n",
    "        self.embedding_dim = embedding_dim\n",
    "        self.hidden_dim = hidden_dim\n",
    "        self.dropout_p = dropout_p\n",
    "        self.num_classes = num_classes\n",
    "\n",
    "        # Define layers\n",
    "        self.fc1 = nn.Linear(embedding_dim, hidden_dim)\n",
    "        self.batch_norm = nn.BatchNorm1d(hidden_dim)\n",
    "        self.relu = nn.ReLU()\n",
    "        self.dropout = nn.Dropout(dropout_p)\n",
    "        self.fc2 = nn.Linear(hidden_dim, num_classes)\n",
    "\n",
    "    def forward(self, batch):\n",
    "        z = self.fc1(batch[\"embedding\"])\n",
    "        z = self.batch_norm(z)\n",
    "        z = self.relu(z)\n",
    "        z = self.dropout(z)\n",
    "        z = self.fc2(z)\n",
    "        return z\n",
    "\n",
    "    @torch.inference_mode()\n",
    "    def predict(self, batch):\n",
    "        z = self(batch)\n",
    "        y_pred = torch.argmax(z, dim=1).cpu().numpy()\n",
    "        return y_pred\n",
    "\n",
    "    @torch.inference_mode()\n",
    "    def predict_probabilities(self, batch):\n",
    "        z = self(batch)\n",
    "        y_probs = F.softmax(z, dim=1).cpu().numpy()\n",
    "        return y_probs\n",
    "\n",
    "    def save(self, dp):\n",
    "        Path(dp).mkdir(parents=True, exist_ok=True)\n",
    "        with open(Path(dp, \"args.json\"), \"w\") as fp:\n",
    "            json.dump({\n",
    "                \"embedding_dim\": self.embedding_dim,\n",
    "                \"hidden_dim\": self.hidden_dim,\n",
    "                \"dropout_p\": self.dropout_p,\n",
    "                \"num_classes\": self.num_classes,\n",
    "            }, fp, indent=4)\n",
    "        torch.save(self.state_dict(), Path(dp, \"model.pt\"))\n",
    "\n",
    "    @classmethod\n",
    "    def load(cls, args_fp, state_dict_fp, device=\"cpu\"):\n",
    "        with open(args_fp, \"r\") as fp:\n",
    "            model = cls(**json.load(fp))\n",
    "        model.load_state_dict(torch.load(state_dict_fp, map_location=device))\n",
    "        return model"
   ]
  },
  {
   "cell_type": "code",
   "execution_count": null,
   "metadata": {},
   "outputs": [
    {
     "name": "stdout",
     "output_type": "stream",
     "text": [
      "ClassificationModel(\n",
      "  (fc1): Linear(in_features=512, out_features=256, bias=True)\n",
      "  (batch_norm): BatchNorm1d(256, eps=1e-05, momentum=0.1, affine=True, track_running_stats=True)\n",
      "  (relu): ReLU()\n",
      "  (dropout): Dropout(p=0.3, inplace=False)\n",
      "  (fc2): Linear(in_features=256, out_features=36, bias=True)\n",
      ")\n"
     ]
    }
   ],
   "source": [
    "# Initialize model\n",
    "num_classes = len(preprocessor.classes)\n",
    "model = ClassificationModel(\n",
    "    embedding_dim=512, \n",
    "    hidden_dim=256, \n",
    "    dropout_p=0.3, \n",
    "    num_classes=num_classes,\n",
    ")\n",
    "print (model)"
   ]
  },
  {
   "cell_type": "markdown",
   "metadata": {},
   "source": [
    "### Batching"
   ]
  },
  {
   "cell_type": "markdown",
   "metadata": {},
   "source": [
    "Let's take a look at a sample batch of data and ensure that tensors of the proper data type."
   ]
  },
  {
   "cell_type": "code",
   "execution_count": null,
   "metadata": {},
   "outputs": [],
   "source": [
    "from ray.train.torch import get_device"
   ]
  },
  {
   "cell_type": "code",
   "execution_count": null,
   "metadata": {},
   "outputs": [],
   "source": [
    "def collate_fn(batch):\n",
    "    dtypes = {\"embedding\": torch.float32, \"label\": torch.int64}\n",
    "    tensor_batch = {}\n",
    "    for key in dtypes.keys():\n",
    "        if key in batch:\n",
    "            tensor_batch[key] = torch.as_tensor(\n",
    "                batch[key],\n",
    "                dtype=dtypes[key],\n",
    "                device=get_device(),\n",
    "            )\n",
    "    return tensor_batch"
   ]
  },
  {
   "cell_type": "code",
   "execution_count": null,
   "metadata": {},
   "outputs": [
    {
     "name": "stderr",
     "output_type": "stream",
     "text": [
      "2025-04-08 20:56:45,722\tINFO streaming_executor.py:108 -- Starting execution of Dataset. Full logs are in /tmp/ray/session_2025-04-08_19-40-48_740426_2260/logs/ray-data\n",
      "2025-04-08 20:56:45,722\tINFO streaming_executor.py:109 -- Execution plan of Dataset: InputDataBuffer[Input] -> TaskPoolMapOperator[ListFiles] -> TaskPoolMapOperator[ReadFiles] -> TaskPoolMapOperator[Map(add_class)->Map(Preprocessor.convert_to_label)] -> ActorPoolMapOperator[MapBatches(EmbeddingGenerator)] -> TaskPoolMapOperator[MapBatches(drop_columns)] -> LimitOperator[limit=3]\n"
     ]
    },
    {
     "data": {
      "application/vnd.jupyter.widget-view+json": {
       "model_id": "e076d747da7e4223be25f6a6b8a21a51",
       "version_major": 2,
       "version_minor": 0
      },
      "text/plain": [
       "Running 0: 0.00 row [00:00, ? row/s]"
      ]
     },
     "metadata": {},
     "output_type": "display_data"
    },
    {
     "data": {
      "application/vnd.jupyter.widget-view+json": {
       "model_id": "fa72efda238a4f8c82b7eab7b9b7e24c",
       "version_major": 2,
       "version_minor": 0
      },
      "text/plain": [
       "- ListFiles 1: 0.00 row [00:00, ? row/s]"
      ]
     },
     "metadata": {},
     "output_type": "display_data"
    },
    {
     "data": {
      "application/vnd.jupyter.widget-view+json": {
       "model_id": "08e87d5ec8394cf08723c67e8262944a",
       "version_major": 2,
       "version_minor": 0
      },
      "text/plain": [
       "- ReadFiles 2: 0.00 row [00:00, ? row/s]"
      ]
     },
     "metadata": {},
     "output_type": "display_data"
    },
    {
     "data": {
      "application/vnd.jupyter.widget-view+json": {
       "model_id": "fc2b10475ef34ebfbd92847a9f7a6ca4",
       "version_major": 2,
       "version_minor": 0
      },
      "text/plain": [
       "- Map(add_class)->Map(Preprocessor.convert_to_label) 3: 0.00 row [00:00, ? row/s]"
      ]
     },
     "metadata": {},
     "output_type": "display_data"
    },
    {
     "data": {
      "application/vnd.jupyter.widget-view+json": {
       "model_id": "3008fe4cebfa4edcb0adc18c52daba0b",
       "version_major": 2,
       "version_minor": 0
      },
      "text/plain": [
       "- MapBatches(EmbeddingGenerator) 4: 0.00 row [00:00, ? row/s]"
      ]
     },
     "metadata": {},
     "output_type": "display_data"
    },
    {
     "data": {
      "application/vnd.jupyter.widget-view+json": {
       "model_id": "96de6ba80ab744389db724ce0d61b1fd",
       "version_major": 2,
       "version_minor": 0
      },
      "text/plain": [
       "- MapBatches(drop_columns) 5: 0.00 row [00:00, ? row/s]"
      ]
     },
     "metadata": {},
     "output_type": "display_data"
    },
    {
     "data": {
      "application/vnd.jupyter.widget-view+json": {
       "model_id": "3ef0724d133941169b7be59a01d9247c",
       "version_major": 2,
       "version_minor": 0
      },
      "text/plain": [
       "- limit=3 6: 0.00 row [00:00, ? row/s]"
      ]
     },
     "metadata": {},
     "output_type": "display_data"
    },
    {
     "name": "stdout",
     "output_type": "stream",
     "text": [
      "\u001b[36m(ListFiles pid=22680, ip=10.0.128.118)\u001b[0m >>> [DBG] partition_files: before: pyarrow.Table\n",
      "\u001b[36m(ListFiles pid=22680, ip=10.0.128.118)\u001b[0m __path: string\n",
      "\u001b[36m(ListFiles pid=22680, ip=10.0.128.118)\u001b[0m __file_size: int64\n",
      "\u001b[36m(ListFiles pid=22680, ip=10.0.128.118)\u001b[0m ----\n",
      "\u001b[36m(ListFiles pid=22680, ip=10.0.128.118)\u001b[0m __path: [[\"doggos-dataset/train/basset/basset_10028.jpg\",\"doggos-dataset/train/basset/basset_10054.jpg\",\"doggos-dataset/train/basset/basset_10072.jpg\",\"doggos-dataset/train/basset/basset_10095.jpg\",\"doggos-dataset/train/basset/basset_10110.jpg\",...,\"doggos-dataset/train/yorkshire_terrier/yorkshire_terrier_889.jpg\",\"doggos-dataset/train/yorkshire_terrier/yorkshire_terrier_9618.jpg\",\"doggos-dataset/train/yorkshire_terrier/yorkshire_terrier_962.jpg\",\"doggos-dataset/train/yorkshire_terrier/yorkshire_terrier_967.jpg\",\"doggos-dataset/train/yorkshire_terrier/yorkshire_terrier_9739.jpg\"]]\n",
      "\u001b[36m(ListFiles pid=22680, ip=10.0.128.118)\u001b[0m __file_size: [[56919,36417,21093,23721,12511,...,19267,43746,29862,37592,32578]]\n",
      "\u001b[36m(ListFiles pid=22680, ip=10.0.128.118)\u001b[0m >>> [DBG] partition_files: after: pyarrow.Table\n",
      "\u001b[36m(ListFiles pid=22680, ip=10.0.128.118)\u001b[0m __path: string\n",
      "\u001b[36m(ListFiles pid=22680, ip=10.0.128.118)\u001b[0m __file_size: int64\n",
      "\u001b[36m(ListFiles pid=22680, ip=10.0.128.118)\u001b[0m ----\n",
      "\u001b[36m(ListFiles pid=22680, ip=10.0.128.118)\u001b[0m __path: [[\"doggos-dataset/train/cocker_spaniel/cocker_spaniel_10818.jpg\",\"doggos-dataset/train/saint_bernard/saint_bernard_950.jpg\",\"doggos-dataset/train/german_shepherd/german_shepherd_16014.jpg\",\"doggos-dataset/train/miniature_poodle/miniature_poodle_3327.jpg\",\"doggos-dataset/train/cocker_spaniel/cocker_spaniel_14111.jpg\",...,\"doggos-dataset/train/tibetan_mastiff/tibetan_mastiff_1287.jpg\",\"doggos-dataset/train/eskimo_dog/eskimo_dog_2727.jpg\",\"doggos-dataset/train/beagle/beagle_8612.jpg\",\"doggos-dataset/train/chow/chow_11550.jpg\",\"doggos-dataset/train/saint_bernard/saint_bernard_10960.jpg\"]]\n",
      "\u001b[36m(ListFiles pid=22680, ip=10.0.128.118)\u001b[0m __file_size: [[35560,29945,23825,37898,17967,...,133398,32035,27887,40008,65509]]\n"
     ]
    },
    {
     "name": "stderr",
     "output_type": "stream",
     "text": [
      "/tmp/ipykernel_9260/3214280880.py:6: UserWarning: The given NumPy array is not writable, and PyTorch does not support non-writable tensors. This means writing to this tensor will result in undefined behavior. You may want to copy the array to protect its data or make it writable before converting it to a tensor. This type of warning will be suppressed for the rest of this program. (Triggered internally at ../torch/csrc/utils/tensor_numpy.cpp:206.)\n",
      "  tensor_batch[key] = torch.as_tensor(\n"
     ]
    },
    {
     "data": {
      "text/plain": [
       "{'embedding': tensor([[ 0.0318, -0.0209, -0.1565,  ...,  0.2199,  0.0661, -0.2088],\n",
       "         [ 0.2489,  0.3815, -0.1670,  ...,  1.1564,  0.2895,  0.0753],\n",
       "         [ 0.1206,  0.2530,  0.2751,  ...,  0.8945,  0.0975,  0.1883]]),\n",
       " 'label': tensor([4, 1, 8])}"
      ]
     },
     "execution_count": null,
     "metadata": {},
     "output_type": "execute_result"
    }
   ],
   "source": [
    "# Sample batch\n",
    "sample_batch = train_ds.take_batch(batch_size=3)\n",
    "collate_fn(batch=sample_batch)"
   ]
  },
  {
   "cell_type": "markdown",
   "metadata": {},
   "source": [
    "### Model registry"
   ]
  },
  {
   "cell_type": "markdown",
   "metadata": {},
   "source": [
    "We'll be creating a model registry in our [Anyscale user storage](https://docs.anyscale.com/configuration/storage/#user-storage) to save our model checkpoints to. We'll be using OSS mlflow but we can easily [set up other experiment trackers](https://docs.ray.io/en/latest/train/user-guides/experiment-tracking.html) with Ray."
   ]
  },
  {
   "cell_type": "code",
   "execution_count": null,
   "metadata": {},
   "outputs": [],
   "source": [
    "import shutil"
   ]
  },
  {
   "cell_type": "code",
   "execution_count": null,
   "metadata": {},
   "outputs": [],
   "source": [
    "model_registry = \"/mnt/user_storage/mlflow/doggos\"\n",
    "if os.path.isdir(model_registry):\n",
    "    shutil.rmtree(model_registry)  # clean up  \n",
    "os.makedirs(model_registry, exist_ok=True)"
   ]
  },
  {
   "cell_type": "markdown",
   "metadata": {},
   "source": [
    "### Training"
   ]
  },
  {
   "cell_type": "markdown",
   "metadata": {},
   "source": [
    "We'll define our training workload by specifying our:\n",
    "- experiment and model parameters\n",
    "- compute scaling configuration\n",
    "- forward pass for batches of training and validation data\n",
    "- train loop for each epoch of data (and checkpointing)\n",
    "\n",
    "<img src=\"https://raw.githubusercontent.com/anyscale/foundational-ray-app/refs/heads/main/images/trainer.png\" width=500>"
   ]
  },
  {
   "cell_type": "code",
   "execution_count": null,
   "metadata": {},
   "outputs": [],
   "source": [
    "# Train loop config\n",
    "experiment_name = \"doggos\"\n",
    "train_loop_config = {\n",
    "    \"model_registry\": model_registry,\n",
    "    \"experiment_name\": experiment_name,\n",
    "    \"embedding_dim\": 512,\n",
    "    \"hidden_dim\": 256,\n",
    "    \"dropout_p\": 0.3,\n",
    "    \"lr\": 1e-3,\n",
    "    \"lr_factor\": 0.8,\n",
    "    \"lr_patience\": 3,\n",
    "    \"num_epochs\": 20,\n",
    "    \"batch_size\": 256,\n",
    "}"
   ]
  },
  {
   "cell_type": "code",
   "execution_count": null,
   "metadata": {},
   "outputs": [],
   "source": [
    "# Scaling config\n",
    "num_workers = 2\n",
    "scaling_config = ray.train.ScalingConfig(\n",
    "    num_workers=num_workers,\n",
    "    use_gpu=True,\n",
    "    resources_per_worker={\"CPU\": 8, \"GPU\": 2})"
   ]
  },
  {
   "cell_type": "code",
   "execution_count": null,
   "metadata": {},
   "outputs": [],
   "source": [
    "import tempfile\n",
    "import mlflow\n",
    "import numpy as np\n",
    "from ray.train.torch import TorchTrainer"
   ]
  },
  {
   "cell_type": "code",
   "execution_count": null,
   "metadata": {},
   "outputs": [],
   "source": [
    "def train_epoch(ds, batch_size, model, num_classes, loss_fn, optimizer):\n",
    "    model.train()\n",
    "    loss = 0.0\n",
    "    ds_generator = ds.iter_torch_batches(batch_size=batch_size, collate_fn=collate_fn)\n",
    "    for i, batch in enumerate(ds_generator):\n",
    "        optimizer.zero_grad()  # reset gradients\n",
    "        z = model(batch)  # forward pass\n",
    "        targets = F.one_hot(batch[\"label\"], num_classes=num_classes).float()\n",
    "        J = loss_fn(z, targets)  # define loss\n",
    "        J.backward()  # backward pass\n",
    "        optimizer.step()  # update weights\n",
    "        loss += (J.detach().item() - loss) / (i + 1)  # cumulative loss\n",
    "    return loss"
   ]
  },
  {
   "cell_type": "code",
   "execution_count": null,
   "metadata": {},
   "outputs": [],
   "source": [
    "def eval_epoch(ds, batch_size, model, num_classes, loss_fn):\n",
    "    model.eval()\n",
    "    loss = 0.0\n",
    "    y_trues, y_preds = [], []\n",
    "    ds_generator = ds.iter_torch_batches(batch_size=batch_size, collate_fn=collate_fn)\n",
    "    with torch.inference_mode():\n",
    "        for i, batch in enumerate(ds_generator):\n",
    "            z = model(batch)\n",
    "            targets = F.one_hot(batch[\"label\"], num_classes=num_classes).float()  # one-hot (for loss_fn)\n",
    "            J = loss_fn(z, targets).item()\n",
    "            loss += (J - loss) / (i + 1)\n",
    "            y_trues.extend(batch[\"label\"].cpu().numpy())\n",
    "            y_preds.extend(torch.argmax(z, dim=1).cpu().numpy())\n",
    "    return loss, np.vstack(y_trues), np.vstack(y_preds)"
   ]
  },
  {
   "cell_type": "code",
   "execution_count": null,
   "metadata": {},
   "outputs": [],
   "source": [
    "def train_loop_per_worker(config):\n",
    "    # Hyperparameters\n",
    "    model_registry = config[\"model_registry\"]\n",
    "    experiment_name = config[\"experiment_name\"]\n",
    "    embedding_dim = config[\"embedding_dim\"]\n",
    "    hidden_dim = config[\"hidden_dim\"]\n",
    "    dropout_p = config[\"dropout_p\"]\n",
    "    lr = config[\"lr\"]\n",
    "    lr_factor = config[\"lr_factor\"]\n",
    "    lr_patience = config[\"lr_patience\"]\n",
    "    num_epochs = config[\"num_epochs\"]\n",
    "    batch_size = config[\"batch_size\"]\n",
    "    num_classes = config[\"num_classes\"]\n",
    "\n",
    "    # Experiment tracking\n",
    "    if ray.train.get_context().get_world_rank() == 0:\n",
    "        mlflow.set_tracking_uri(f\"file:{model_registry}\")\n",
    "        mlflow.set_experiment(experiment_name)\n",
    "        mlflow.start_run()\n",
    "        mlflow.log_params(config)\n",
    "\n",
    "    # Datasets\n",
    "    train_ds = ray.train.get_dataset_shard(\"train\")\n",
    "    val_ds = ray.train.get_dataset_shard(\"val\")\n",
    "\n",
    "    # Model\n",
    "    model = ClassificationModel(\n",
    "        embedding_dim=embedding_dim, \n",
    "        hidden_dim=hidden_dim, \n",
    "        dropout_p=dropout_p, \n",
    "        num_classes=num_classes,\n",
    "    )\n",
    "    model = ray.train.torch.prepare_model(model)\n",
    "\n",
    "    # Training components\n",
    "    loss_fn = torch.nn.CrossEntropyLoss()\n",
    "    optimizer = torch.optim.Adam(model.parameters(), lr=lr)\n",
    "    scheduler = torch.optim.lr_scheduler.ReduceLROnPlateau(\n",
    "        optimizer, \n",
    "        mode=\"min\", \n",
    "        factor=lr_factor, \n",
    "        patience=lr_patience,\n",
    "    )\n",
    "\n",
    "    # Training\n",
    "    best_val_loss = float(\"inf\")\n",
    "    for epoch in range(num_epochs):\n",
    "        # Steps\n",
    "        train_loss = train_epoch(train_ds, batch_size, model, num_classes, loss_fn, optimizer)\n",
    "        val_loss, _, _ = eval_epoch(val_ds, batch_size, model, num_classes, loss_fn)\n",
    "        scheduler.step(val_loss)\n",
    "\n",
    "        # Checkpoint (metrics, preprocessor and model artifacts)\n",
    "        with tempfile.TemporaryDirectory() as dp:\n",
    "            model.module.save(dp=dp)\n",
    "            metrics = dict(lr=optimizer.param_groups[0][\"lr\"], train_loss=train_loss, val_loss=val_loss)\n",
    "            with open(os.path.join(dp, \"class_to_label.json\"), \"w\") as fp:\n",
    "                json.dump(config[\"class_to_label\"], fp, indent=4)\n",
    "            if ray.train.get_context().get_world_rank() == 0:  # only on main worker 0\n",
    "                mlflow.log_metrics(metrics, step=epoch)\n",
    "                if val_loss < best_val_loss:\n",
    "                    best_val_loss = val_loss\n",
    "                    mlflow.log_artifacts(dp)\n",
    "\n",
    "    # End experiment tracking\n",
    "    if ray.train.get_context().get_world_rank() == 0:\n",
    "        mlflow.end_run()"
   ]
  },
  {
   "cell_type": "markdown",
   "metadata": {},
   "source": [
    "<div class=\"alert alert-block alert\"> <b> Minimal change to your training code</b> \n",
    "\n",
    "You'll notice that there isn't much new Ray Train code on top of our base PyTorch code. We specified how we want to scale out our training workload, load the Ray datasets and then checkpoint on our main worker node... and that's it! Check out these guides ([PyTorch](https://docs.ray.io/en/latest/train/getting-started-pytorch.html), [PyTorch Lightning](https://docs.ray.io/en/latest/train/getting-started-pytorch-lightning.html), [HuggingFace Transformers](https://docs.ray.io/en/latest/train/getting-started-transformers.html)) to see the minimal delta code needed to distribute our training workloads and check out this extensive list of [Ray Train user guides](https://docs.ray.io/en/latest/train/user-guides.html)."
   ]
  },
  {
   "cell_type": "code",
   "execution_count": null,
   "metadata": {},
   "outputs": [],
   "source": [
    "# Load preprocessed datasets\n",
    "preprocessed_train_ds = ray.data.read_parquet(preprocessed_train_path)\n",
    "preprocessed_val_ds = ray.data.read_parquet(preprocessed_val_path)"
   ]
  },
  {
   "cell_type": "code",
   "execution_count": null,
   "metadata": {},
   "outputs": [],
   "source": [
    "# Trainer\n",
    "train_loop_config[\"class_to_label\"] = preprocessor.class_to_label\n",
    "train_loop_config[\"num_classes\"] = len(preprocessor.class_to_label)\n",
    "trainer = TorchTrainer(\n",
    "    train_loop_per_worker=train_loop_per_worker,\n",
    "    train_loop_config=train_loop_config,\n",
    "    scaling_config=scaling_config,\n",
    "    datasets={\"train\": preprocessed_train_ds, \"val\": preprocessed_val_ds},\n",
    ")"
   ]
  },
  {
   "cell_type": "markdown",
   "metadata": {},
   "source": [
    "<div class=\"alert alert-block alert\"> <b> Ray Train</b> \n",
    "\n",
    "- automatically handles **multi-node, multi-GPU** setup with no manual SSH setup or hostfile configs. \n",
    "- define **per-worker franctional resource requirements** (e.g., 2 CPUs and 0.5 GPU per worker).\n",
    "- run on **heterogeneous machines** and scale flexibly (e.g., CPU for preprocessing and GPU for training). \n",
    "- built-in **fault tolerance** via retry of failed workers (and continue from last checkpoint).\n",
    "- supports Data Parallel, Model Parallel, Parameter Server, and even custom strategies.\n",
    "- [Ray Compiled graphs](https://docs.ray.io/en/latest/ray-core/compiled-graph/ray-compiled-graph.html) allow us to even define different parallelism for jointly optimizing multipe models (Megatron, Deepspeed, etc. only allow for one global setting).\n",
    "- You can also use Torch DDP, FSPD, DeepSpeed, etc. under the hood if you want.\n",
    "\n",
    "[RayTurbo Train](https://docs.anyscale.com/rayturbo/rayturbo-train) offers even more improvement to the price-performance ratio, performance monitoring and more:\n",
    "- **elastic training** to scale to a dynamic number of workers, continue training on fewer resources (even on spot instances).\n",
    "- **purpose-built dashboard** designed to streamline the debugging of Ray Train workloads\n",
    "    - Monitoring: View the status of training runs and train workers.\n",
    "    - Metrics: See insights on training throughput, training system operation time.\n",
    "    - Profiling: Investigate bottlenecks, hangs, or errors from individual training worker processes.\n",
    "\n",
    "<img src=\"https://raw.githubusercontent.com/anyscale/foundational-ray-app/refs/heads/main/images/train_dashboard.png\" width=700>"
   ]
  },
  {
   "cell_type": "code",
   "execution_count": null,
   "metadata": {},
   "outputs": [
    {
     "name": "stdout",
     "output_type": "stream",
     "text": [
      "\u001b[36m(autoscaler +1m38s)\u001b[0m [autoscaler] Cluster upscaled to {96 CPU, 8 GPU}.\n"
     ]
    },
    {
     "name": "stderr",
     "output_type": "stream",
     "text": [
      "\u001b[36m(TrainController pid=31972)\u001b[0m Attempting to start training worker group of size 2 with the following resources: [{'CPU': 8, 'GPU': 2}] * 2\n"
     ]
    },
    {
     "name": "stdout",
     "output_type": "stream",
     "text": [
      "\u001b[33m(raylet)\u001b[0m WARNING: 4 PYTHON worker processes have been started on node: 6093b9d1ab3fef38648622799ecbac350f1656efa6c7c5834530bee3 with address: 10.0.53.26. This could be a result of using a large number of actors, or due to tasks blocked in ray.get() calls (see https://github.com/ray-project/ray/issues/3644 for some discussion of workarounds).\n"
     ]
    },
    {
     "name": "stderr",
     "output_type": "stream",
     "text": [
      "\u001b[36m(SplitCoordinator pid=32112)\u001b[0m Starting execution of Dataset. Full logs are in /tmp/ray/session_2025-04-08_19-40-48_740426_2260/logs/ray-data\n",
      "\u001b[36m(SplitCoordinator pid=32112)\u001b[0m Execution plan of Dataset: InputDataBuffer[Input] -> TaskPoolMapOperator[ListFiles] -> TaskPoolMapOperator[ReadFiles]\n"
     ]
    },
    {
     "data": {
      "application/vnd.jupyter.widget-view+json": {
       "model_id": "af3154cd0da948f5aa8feb37af8148a3",
       "version_major": 2,
       "version_minor": 0
      },
      "text/plain": [
       "(pid=32112) Running 0: 0.00 row [00:00, ? row/s]"
      ]
     },
     "metadata": {},
     "output_type": "display_data"
    },
    {
     "data": {
      "application/vnd.jupyter.widget-view+json": {
       "model_id": "34bba7de918a47d49314ca6af3719cf4",
       "version_major": 2,
       "version_minor": 0
      },
      "text/plain": [
       "(pid=32160) Running 0: 0.00 row [00:00, ? row/s]"
      ]
     },
     "metadata": {},
     "output_type": "display_data"
    },
    {
     "name": "stderr",
     "output_type": "stream",
     "text": [
      "\u001b[36m(RayTrainWorker pid=3086, ip=10.0.152.43)\u001b[0m Setting up process group for: env:// [rank=0, world_size=2]\n",
      "\u001b[36m(RayTrainWorker pid=3086, ip=10.0.152.43)\u001b[0m 2025/04/08 20:57:19 INFO mlflow.tracking.fluent: Experiment with name 'doggos' does not exist. Creating a new experiment.\n",
      "\u001b[36m(SplitCoordinator pid=32160)\u001b[0m Starting execution of Dataset. Full logs are in /tmp/ray/session_2025-04-08_19-40-48_740426_2260/logs/ray-data\n",
      "\u001b[36m(SplitCoordinator pid=32160)\u001b[0m Execution plan of Dataset: InputDataBuffer[Input] -> TaskPoolMapOperator[ListFiles] -> TaskPoolMapOperator[ReadFiles]\n",
      "\u001b[36m(RayTrainWorker pid=3086, ip=10.0.152.43)\u001b[0m Moving model to device: cuda:0\n",
      "\u001b[36m(RayTrainWorker pid=3086, ip=10.0.152.43)\u001b[0m Wrapping provided model in DistributedDataParallel.\n",
      "\u001b[36m(SplitCoordinator pid=32112)\u001b[0m Starting execution of Dataset. Full logs are in /tmp/ray/session_2025-04-08_19-40-48_740426_2260/logs/ray-data\n",
      "\u001b[36m(SplitCoordinator pid=32112)\u001b[0m Execution plan of Dataset: InputDataBuffer[Input] -> TaskPoolMapOperator[ListFiles] -> TaskPoolMapOperator[ReadFiles] -> OutputSplitter[split(2, equal=True)]\n"
     ]
    },
    {
     "data": {
      "application/vnd.jupyter.widget-view+json": {
       "model_id": "67f76aee0bcf45abbbf7a3dac0cea16c",
       "version_major": 2,
       "version_minor": 0
      },
      "text/plain": [
       "(pid=32112) Running 0: 0.00 row [00:00, ? row/s]"
      ]
     },
     "metadata": {},
     "output_type": "display_data"
    },
    {
     "data": {
      "application/vnd.jupyter.widget-view+json": {
       "model_id": "2e97b8fc68cd452da5ebfc0995450b66",
       "version_major": 2,
       "version_minor": 0
      },
      "text/plain": [
       "(pid=32112) - ListFiles 1: 0.00 row [00:00, ? row/s]"
      ]
     },
     "metadata": {},
     "output_type": "display_data"
    },
    {
     "data": {
      "application/vnd.jupyter.widget-view+json": {
       "model_id": "f35a49a7726f4d449043e1edc7f27927",
       "version_major": 2,
       "version_minor": 0
      },
      "text/plain": [
       "(pid=32112) - ReadFiles 2: 0.00 row [00:00, ? row/s]"
      ]
     },
     "metadata": {},
     "output_type": "display_data"
    },
    {
     "data": {
      "application/vnd.jupyter.widget-view+json": {
       "model_id": "80059e19d08f444da805434f15a0d6cd",
       "version_major": 2,
       "version_minor": 0
      },
      "text/plain": [
       "(pid=32112) - split(2, equal=True) 3: 0.00 row [00:00, ? row/s]"
      ]
     },
     "metadata": {},
     "output_type": "display_data"
    },
    {
     "name": "stderr",
     "output_type": "stream",
     "text": [
      "\u001b[36m(RayTrainWorker pid=3229, ip=10.0.152.43)\u001b[0m /tmp/ipykernel_9260/3214280880.py:6: UserWarning: The given NumPy array is not writable, and PyTorch does not support non-writable tensors. This means writing to this tensor will result in undefined behavior. You may want to copy the array to protect its data or make it writable before converting it to a tensor. This type of warning will be suppressed for the rest of this program. (Triggered internally at ../torch/csrc/utils/tensor_numpy.cpp:206.)\n"
     ]
    },
    {
     "data": {
      "application/vnd.jupyter.widget-view+json": {
       "model_id": "8e05546afb564297be6d64e7f7e5feed",
       "version_major": 2,
       "version_minor": 0
      },
      "text/plain": [
       "(pid=32160) Running 0: 0.00 row [00:00, ? row/s]"
      ]
     },
     "metadata": {},
     "output_type": "display_data"
    },
    {
     "data": {
      "application/vnd.jupyter.widget-view+json": {
       "model_id": "f9e1f4f1ff7e4379a6639e387510cbb3",
       "version_major": 2,
       "version_minor": 0
      },
      "text/plain": [
       "(pid=32160) - ListFiles 1: 0.00 row [00:00, ? row/s]"
      ]
     },
     "metadata": {},
     "output_type": "display_data"
    },
    {
     "data": {
      "application/vnd.jupyter.widget-view+json": {
       "model_id": "9a73ce81631249b7901980d0c58526f3",
       "version_major": 2,
       "version_minor": 0
      },
      "text/plain": [
       "(pid=32160) - ReadFiles 2: 0.00 row [00:00, ? row/s]"
      ]
     },
     "metadata": {},
     "output_type": "display_data"
    },
    {
     "data": {
      "application/vnd.jupyter.widget-view+json": {
       "model_id": "25d42fcfd01e4042929e20543690de73",
       "version_major": 2,
       "version_minor": 0
      },
      "text/plain": [
       "(pid=32160) - split(2, equal=True) 3: 0.00 row [00:00, ? row/s]"
      ]
     },
     "metadata": {},
     "output_type": "display_data"
    },
    {
     "data": {
      "application/vnd.jupyter.widget-view+json": {
       "model_id": "5afe2402598b44ec91a5f7386c1e92fc",
       "version_major": 2,
       "version_minor": 0
      },
      "text/plain": [
       "(pid=32112) Running 0: 0.00 row [00:00, ? row/s]"
      ]
     },
     "metadata": {},
     "output_type": "display_data"
    },
    {
     "data": {
      "application/vnd.jupyter.widget-view+json": {
       "model_id": "f962582e28fa40249daa0866b1e3d91e",
       "version_major": 2,
       "version_minor": 0
      },
      "text/plain": [
       "(pid=32112) - ListFiles 1: 0.00 row [00:00, ? row/s]"
      ]
     },
     "metadata": {},
     "output_type": "display_data"
    },
    {
     "data": {
      "application/vnd.jupyter.widget-view+json": {
       "model_id": "f53d744d8de04fe3a3914eeaa6f9f89e",
       "version_major": 2,
       "version_minor": 0
      },
      "text/plain": [
       "(pid=32112) - ReadFiles 2: 0.00 row [00:00, ? row/s]"
      ]
     },
     "metadata": {},
     "output_type": "display_data"
    },
    {
     "data": {
      "application/vnd.jupyter.widget-view+json": {
       "model_id": "a94d8671b17c4bbaabcb95e1d5ec2346",
       "version_major": 2,
       "version_minor": 0
      },
      "text/plain": [
       "(pid=32112) - split(2, equal=True) 3: 0.00 row [00:00, ? row/s]"
      ]
     },
     "metadata": {},
     "output_type": "display_data"
    },
    {
     "data": {
      "application/vnd.jupyter.widget-view+json": {
       "model_id": "a6ff414ee1c84a3394205262ea420b4e",
       "version_major": 2,
       "version_minor": 0
      },
      "text/plain": [
       "(pid=32160) Running 0: 0.00 row [00:00, ? row/s]"
      ]
     },
     "metadata": {},
     "output_type": "display_data"
    },
    {
     "data": {
      "application/vnd.jupyter.widget-view+json": {
       "model_id": "183286660c884776be7b5cd61ca1a0bb",
       "version_major": 2,
       "version_minor": 0
      },
      "text/plain": [
       "(pid=32160) - ListFiles 1: 0.00 row [00:00, ? row/s]"
      ]
     },
     "metadata": {},
     "output_type": "display_data"
    },
    {
     "data": {
      "application/vnd.jupyter.widget-view+json": {
       "model_id": "63d5f643d6314f93aa3cc9cff464b179",
       "version_major": 2,
       "version_minor": 0
      },
      "text/plain": [
       "(pid=32160) - ReadFiles 2: 0.00 row [00:00, ? row/s]"
      ]
     },
     "metadata": {},
     "output_type": "display_data"
    },
    {
     "data": {
      "application/vnd.jupyter.widget-view+json": {
       "model_id": "8ceb562df4eb41c99b68e644a8bf3af3",
       "version_major": 2,
       "version_minor": 0
      },
      "text/plain": [
       "(pid=32160) - split(2, equal=True) 3: 0.00 row [00:00, ? row/s]"
      ]
     },
     "metadata": {},
     "output_type": "display_data"
    },
    {
     "data": {
      "application/vnd.jupyter.widget-view+json": {
       "model_id": "9d8d5d97509b4f319cf183a8a6ccd6d4",
       "version_major": 2,
       "version_minor": 0
      },
      "text/plain": [
       "(pid=32112) Running 0: 0.00 row [00:00, ? row/s]"
      ]
     },
     "metadata": {},
     "output_type": "display_data"
    },
    {
     "data": {
      "application/vnd.jupyter.widget-view+json": {
       "model_id": "0e1d8aa00a124b2e98815d89a4a003e6",
       "version_major": 2,
       "version_minor": 0
      },
      "text/plain": [
       "(pid=32112) - ListFiles 1: 0.00 row [00:00, ? row/s]"
      ]
     },
     "metadata": {},
     "output_type": "display_data"
    },
    {
     "data": {
      "application/vnd.jupyter.widget-view+json": {
       "model_id": "6713045c49414133b00050d7b57ec780",
       "version_major": 2,
       "version_minor": 0
      },
      "text/plain": [
       "(pid=32112) - ReadFiles 2: 0.00 row [00:00, ? row/s]"
      ]
     },
     "metadata": {},
     "output_type": "display_data"
    },
    {
     "data": {
      "application/vnd.jupyter.widget-view+json": {
       "model_id": "cbe358764ffc499e8eca4b2bd8b1150f",
       "version_major": 2,
       "version_minor": 0
      },
      "text/plain": [
       "(pid=32112) - split(2, equal=True) 3: 0.00 row [00:00, ? row/s]"
      ]
     },
     "metadata": {},
     "output_type": "display_data"
    },
    {
     "data": {
      "application/vnd.jupyter.widget-view+json": {
       "model_id": "e62b4554a7e04c4b9a2fbe67d2812132",
       "version_major": 2,
       "version_minor": 0
      },
      "text/plain": [
       "(pid=32160) Running 0: 0.00 row [00:00, ? row/s]"
      ]
     },
     "metadata": {},
     "output_type": "display_data"
    },
    {
     "data": {
      "application/vnd.jupyter.widget-view+json": {
       "model_id": "b259ff1708d7476d8377780a76362617",
       "version_major": 2,
       "version_minor": 0
      },
      "text/plain": [
       "(pid=32160) - ListFiles 1: 0.00 row [00:00, ? row/s]"
      ]
     },
     "metadata": {},
     "output_type": "display_data"
    },
    {
     "data": {
      "application/vnd.jupyter.widget-view+json": {
       "model_id": "dcd56013082a4271ba13427d9f381a3c",
       "version_major": 2,
       "version_minor": 0
      },
      "text/plain": [
       "(pid=32160) - ReadFiles 2: 0.00 row [00:00, ? row/s]"
      ]
     },
     "metadata": {},
     "output_type": "display_data"
    },
    {
     "data": {
      "application/vnd.jupyter.widget-view+json": {
       "model_id": "84233c2690bd40d2aa385ce691507a28",
       "version_major": 2,
       "version_minor": 0
      },
      "text/plain": [
       "(pid=32160) - split(2, equal=True) 3: 0.00 row [00:00, ? row/s]"
      ]
     },
     "metadata": {},
     "output_type": "display_data"
    },
    {
     "data": {
      "application/vnd.jupyter.widget-view+json": {
       "model_id": "4dc67a7578c04c459aa159c3b81e3487",
       "version_major": 2,
       "version_minor": 0
      },
      "text/plain": [
       "(pid=32112) Running 0: 0.00 row [00:00, ? row/s]"
      ]
     },
     "metadata": {},
     "output_type": "display_data"
    },
    {
     "data": {
      "application/vnd.jupyter.widget-view+json": {
       "model_id": "77f580e9114b4616b9d9b45692c95780",
       "version_major": 2,
       "version_minor": 0
      },
      "text/plain": [
       "(pid=32112) - ListFiles 1: 0.00 row [00:00, ? row/s]"
      ]
     },
     "metadata": {},
     "output_type": "display_data"
    },
    {
     "data": {
      "application/vnd.jupyter.widget-view+json": {
       "model_id": "f40b872aaa234e018c48413b992ef4ca",
       "version_major": 2,
       "version_minor": 0
      },
      "text/plain": [
       "(pid=32112) - ReadFiles 2: 0.00 row [00:00, ? row/s]"
      ]
     },
     "metadata": {},
     "output_type": "display_data"
    },
    {
     "data": {
      "application/vnd.jupyter.widget-view+json": {
       "model_id": "979cd1dca2c34feba65bd4337eb605a2",
       "version_major": 2,
       "version_minor": 0
      },
      "text/plain": [
       "(pid=32112) - split(2, equal=True) 3: 0.00 row [00:00, ? row/s]"
      ]
     },
     "metadata": {},
     "output_type": "display_data"
    },
    {
     "data": {
      "application/vnd.jupyter.widget-view+json": {
       "model_id": "b7c3dfc5c14d4206bf08a954157af899",
       "version_major": 2,
       "version_minor": 0
      },
      "text/plain": [
       "(pid=32160) Running 0: 0.00 row [00:00, ? row/s]"
      ]
     },
     "metadata": {},
     "output_type": "display_data"
    },
    {
     "data": {
      "application/vnd.jupyter.widget-view+json": {
       "model_id": "71807a86427d49df8f77c2bec2dbaa9e",
       "version_major": 2,
       "version_minor": 0
      },
      "text/plain": [
       "(pid=32160) - ListFiles 1: 0.00 row [00:00, ? row/s]"
      ]
     },
     "metadata": {},
     "output_type": "display_data"
    },
    {
     "data": {
      "application/vnd.jupyter.widget-view+json": {
       "model_id": "720abd3728c448809a4ba716ac7d2311",
       "version_major": 2,
       "version_minor": 0
      },
      "text/plain": [
       "(pid=32160) - ReadFiles 2: 0.00 row [00:00, ? row/s]"
      ]
     },
     "metadata": {},
     "output_type": "display_data"
    },
    {
     "data": {
      "application/vnd.jupyter.widget-view+json": {
       "model_id": "6a8033640464499b836427f3491a748a",
       "version_major": 2,
       "version_minor": 0
      },
      "text/plain": [
       "(pid=32160) - split(2, equal=True) 3: 0.00 row [00:00, ? row/s]"
      ]
     },
     "metadata": {},
     "output_type": "display_data"
    },
    {
     "data": {
      "application/vnd.jupyter.widget-view+json": {
       "model_id": "24b0ef161b6e472d996ba001843d4722",
       "version_major": 2,
       "version_minor": 0
      },
      "text/plain": [
       "(pid=32112) Running 0: 0.00 row [00:00, ? row/s]"
      ]
     },
     "metadata": {},
     "output_type": "display_data"
    },
    {
     "data": {
      "application/vnd.jupyter.widget-view+json": {
       "model_id": "464aecf53a934d4fa5700d30d6fa3b1e",
       "version_major": 2,
       "version_minor": 0
      },
      "text/plain": [
       "(pid=32112) - ListFiles 1: 0.00 row [00:00, ? row/s]"
      ]
     },
     "metadata": {},
     "output_type": "display_data"
    },
    {
     "data": {
      "application/vnd.jupyter.widget-view+json": {
       "model_id": "5e931b5559604d798a903f5776e349ca",
       "version_major": 2,
       "version_minor": 0
      },
      "text/plain": [
       "(pid=32112) - ReadFiles 2: 0.00 row [00:00, ? row/s]"
      ]
     },
     "metadata": {},
     "output_type": "display_data"
    },
    {
     "data": {
      "application/vnd.jupyter.widget-view+json": {
       "model_id": "020ad3576a3e448fa75be5b350bada97",
       "version_major": 2,
       "version_minor": 0
      },
      "text/plain": [
       "(pid=32112) - split(2, equal=True) 3: 0.00 row [00:00, ? row/s]"
      ]
     },
     "metadata": {},
     "output_type": "display_data"
    },
    {
     "data": {
      "application/vnd.jupyter.widget-view+json": {
       "model_id": "843db86e7c0c42f3845164333ed4ace9",
       "version_major": 2,
       "version_minor": 0
      },
      "text/plain": [
       "(pid=32160) Running 0: 0.00 row [00:00, ? row/s]"
      ]
     },
     "metadata": {},
     "output_type": "display_data"
    },
    {
     "data": {
      "application/vnd.jupyter.widget-view+json": {
       "model_id": "eee2d50f6e4943f49d64213ede2138dc",
       "version_major": 2,
       "version_minor": 0
      },
      "text/plain": [
       "(pid=32160) - ListFiles 1: 0.00 row [00:00, ? row/s]"
      ]
     },
     "metadata": {},
     "output_type": "display_data"
    },
    {
     "data": {
      "application/vnd.jupyter.widget-view+json": {
       "model_id": "5ef75a2a80ab400abb8651fd5af51343",
       "version_major": 2,
       "version_minor": 0
      },
      "text/plain": [
       "(pid=32160) - ReadFiles 2: 0.00 row [00:00, ? row/s]"
      ]
     },
     "metadata": {},
     "output_type": "display_data"
    },
    {
     "data": {
      "application/vnd.jupyter.widget-view+json": {
       "model_id": "69e67ebfdf7648b7b12d13cfb0030a05",
       "version_major": 2,
       "version_minor": 0
      },
      "text/plain": [
       "(pid=32160) - split(2, equal=True) 3: 0.00 row [00:00, ? row/s]"
      ]
     },
     "metadata": {},
     "output_type": "display_data"
    },
    {
     "data": {
      "application/vnd.jupyter.widget-view+json": {
       "model_id": "ebfd046338864b7989d879cb54f41d66",
       "version_major": 2,
       "version_minor": 0
      },
      "text/plain": [
       "(pid=32112) Running 0: 0.00 row [00:00, ? row/s]"
      ]
     },
     "metadata": {},
     "output_type": "display_data"
    },
    {
     "data": {
      "application/vnd.jupyter.widget-view+json": {
       "model_id": "837c6c6af5f44e76bf77daff1ea1e62a",
       "version_major": 2,
       "version_minor": 0
      },
      "text/plain": [
       "(pid=32112) - ListFiles 1: 0.00 row [00:00, ? row/s]"
      ]
     },
     "metadata": {},
     "output_type": "display_data"
    },
    {
     "data": {
      "application/vnd.jupyter.widget-view+json": {
       "model_id": "1372441585304e05accb9b9658fa73e3",
       "version_major": 2,
       "version_minor": 0
      },
      "text/plain": [
       "(pid=32112) - ReadFiles 2: 0.00 row [00:00, ? row/s]"
      ]
     },
     "metadata": {},
     "output_type": "display_data"
    },
    {
     "data": {
      "application/vnd.jupyter.widget-view+json": {
       "model_id": "0b88f70528b74016bbde1478dba3db77",
       "version_major": 2,
       "version_minor": 0
      },
      "text/plain": [
       "(pid=32112) - split(2, equal=True) 3: 0.00 row [00:00, ? row/s]"
      ]
     },
     "metadata": {},
     "output_type": "display_data"
    },
    {
     "name": "stderr",
     "output_type": "stream",
     "text": [
      "\u001b[36m(SplitCoordinator pid=32160)\u001b[0m Starting execution of Dataset. Full logs are in /tmp/ray/session_2025-04-08_19-40-48_740426_2260/logs/ray-data\u001b[32m [repeated 11x across cluster]\u001b[0m\n",
      "\u001b[36m(SplitCoordinator pid=32160)\u001b[0m Execution plan of Dataset: InputDataBuffer[Input] -> TaskPoolMapOperator[ListFiles] -> TaskPoolMapOperator[ReadFiles] -> OutputSplitter[split(2, equal=True)]\u001b[32m [repeated 11x across cluster]\u001b[0m\n"
     ]
    },
    {
     "data": {
      "application/vnd.jupyter.widget-view+json": {
       "model_id": "27f08d57c32242d5952c807851ec0b39",
       "version_major": 2,
       "version_minor": 0
      },
      "text/plain": [
       "(pid=32160) Running 0: 0.00 row [00:00, ? row/s]"
      ]
     },
     "metadata": {},
     "output_type": "display_data"
    },
    {
     "data": {
      "application/vnd.jupyter.widget-view+json": {
       "model_id": "e5d09a1c360e4a53a4a7e06e19a9db18",
       "version_major": 2,
       "version_minor": 0
      },
      "text/plain": [
       "(pid=32160) - ListFiles 1: 0.00 row [00:00, ? row/s]"
      ]
     },
     "metadata": {},
     "output_type": "display_data"
    },
    {
     "data": {
      "application/vnd.jupyter.widget-view+json": {
       "model_id": "cce439bc62bc4d0f88d62316f6ddcd01",
       "version_major": 2,
       "version_minor": 0
      },
      "text/plain": [
       "(pid=32160) - ReadFiles 2: 0.00 row [00:00, ? row/s]"
      ]
     },
     "metadata": {},
     "output_type": "display_data"
    },
    {
     "data": {
      "application/vnd.jupyter.widget-view+json": {
       "model_id": "2e05f94894774938a316173ea804b96d",
       "version_major": 2,
       "version_minor": 0
      },
      "text/plain": [
       "(pid=32160) - split(2, equal=True) 3: 0.00 row [00:00, ? row/s]"
      ]
     },
     "metadata": {},
     "output_type": "display_data"
    },
    {
     "data": {
      "application/vnd.jupyter.widget-view+json": {
       "model_id": "579eab68901f401ebb1e14abbefbe035",
       "version_major": 2,
       "version_minor": 0
      },
      "text/plain": [
       "(pid=32112) Running 0: 0.00 row [00:00, ? row/s]"
      ]
     },
     "metadata": {},
     "output_type": "display_data"
    },
    {
     "data": {
      "application/vnd.jupyter.widget-view+json": {
       "model_id": "52f7ed95e6d340f285ccd4fad55720aa",
       "version_major": 2,
       "version_minor": 0
      },
      "text/plain": [
       "(pid=32112) - ListFiles 1: 0.00 row [00:00, ? row/s]"
      ]
     },
     "metadata": {},
     "output_type": "display_data"
    },
    {
     "data": {
      "application/vnd.jupyter.widget-view+json": {
       "model_id": "351185203fda49e8868ca8f7e641a127",
       "version_major": 2,
       "version_minor": 0
      },
      "text/plain": [
       "(pid=32112) - ReadFiles 2: 0.00 row [00:00, ? row/s]"
      ]
     },
     "metadata": {},
     "output_type": "display_data"
    },
    {
     "data": {
      "application/vnd.jupyter.widget-view+json": {
       "model_id": "e68d5797479145c59dd268b9b33be3f0",
       "version_major": 2,
       "version_minor": 0
      },
      "text/plain": [
       "(pid=32112) - split(2, equal=True) 3: 0.00 row [00:00, ? row/s]"
      ]
     },
     "metadata": {},
     "output_type": "display_data"
    },
    {
     "data": {
      "application/vnd.jupyter.widget-view+json": {
       "model_id": "33ac0529689844e7b4a90193fadef641",
       "version_major": 2,
       "version_minor": 0
      },
      "text/plain": [
       "(pid=32160) Running 0: 0.00 row [00:00, ? row/s]"
      ]
     },
     "metadata": {},
     "output_type": "display_data"
    },
    {
     "data": {
      "application/vnd.jupyter.widget-view+json": {
       "model_id": "0e8cc47783274576aa2d0fae2f5eded4",
       "version_major": 2,
       "version_minor": 0
      },
      "text/plain": [
       "(pid=32160) - ListFiles 1: 0.00 row [00:00, ? row/s]"
      ]
     },
     "metadata": {},
     "output_type": "display_data"
    },
    {
     "data": {
      "application/vnd.jupyter.widget-view+json": {
       "model_id": "6253316dea4b4065b9d4029341538990",
       "version_major": 2,
       "version_minor": 0
      },
      "text/plain": [
       "(pid=32160) - ReadFiles 2: 0.00 row [00:00, ? row/s]"
      ]
     },
     "metadata": {},
     "output_type": "display_data"
    },
    {
     "data": {
      "application/vnd.jupyter.widget-view+json": {
       "model_id": "12f9b8e38a4842e6815f348955717676",
       "version_major": 2,
       "version_minor": 0
      },
      "text/plain": [
       "(pid=32160) - split(2, equal=True) 3: 0.00 row [00:00, ? row/s]"
      ]
     },
     "metadata": {},
     "output_type": "display_data"
    },
    {
     "data": {
      "application/vnd.jupyter.widget-view+json": {
       "model_id": "33fbdc2a61fe44869eb33a16d791f320",
       "version_major": 2,
       "version_minor": 0
      },
      "text/plain": [
       "(pid=32112) Running 0: 0.00 row [00:00, ? row/s]"
      ]
     },
     "metadata": {},
     "output_type": "display_data"
    },
    {
     "data": {
      "application/vnd.jupyter.widget-view+json": {
       "model_id": "d1080305786e4f57852252d7b1f3281a",
       "version_major": 2,
       "version_minor": 0
      },
      "text/plain": [
       "(pid=32112) - ListFiles 1: 0.00 row [00:00, ? row/s]"
      ]
     },
     "metadata": {},
     "output_type": "display_data"
    },
    {
     "data": {
      "application/vnd.jupyter.widget-view+json": {
       "model_id": "52edfe910c434622b7fd4a89fe2b0088",
       "version_major": 2,
       "version_minor": 0
      },
      "text/plain": [
       "(pid=32112) - ReadFiles 2: 0.00 row [00:00, ? row/s]"
      ]
     },
     "metadata": {},
     "output_type": "display_data"
    },
    {
     "data": {
      "application/vnd.jupyter.widget-view+json": {
       "model_id": "5fffc1d1a1dc49b481cae566e4807220",
       "version_major": 2,
       "version_minor": 0
      },
      "text/plain": [
       "(pid=32112) - split(2, equal=True) 3: 0.00 row [00:00, ? row/s]"
      ]
     },
     "metadata": {},
     "output_type": "display_data"
    },
    {
     "name": "stderr",
     "output_type": "stream",
     "text": [
      "\u001b[36m(RayTrainWorker pid=3086, ip=10.0.152.43)\u001b[0m /tmp/ipykernel_9260/3214280880.py:6: UserWarning: The given NumPy array is not writable, and PyTorch does not support non-writable tensors. This means writing to this tensor will result in undefined behavior. You may want to copy the array to protect its data or make it writable before converting it to a tensor. This type of warning will be suppressed for the rest of this program. (Triggered internally at ../torch/csrc/utils/tensor_numpy.cpp:206.)\n"
     ]
    },
    {
     "data": {
      "application/vnd.jupyter.widget-view+json": {
       "model_id": "478f5dae332443c3b3d743c4d2a634d9",
       "version_major": 2,
       "version_minor": 0
      },
      "text/plain": [
       "(pid=32160) Running 0: 0.00 row [00:00, ? row/s]"
      ]
     },
     "metadata": {},
     "output_type": "display_data"
    },
    {
     "data": {
      "application/vnd.jupyter.widget-view+json": {
       "model_id": "44b8260b5f1441fa82130226b5d5263c",
       "version_major": 2,
       "version_minor": 0
      },
      "text/plain": [
       "(pid=32160) - ListFiles 1: 0.00 row [00:00, ? row/s]"
      ]
     },
     "metadata": {},
     "output_type": "display_data"
    },
    {
     "data": {
      "application/vnd.jupyter.widget-view+json": {
       "model_id": "4ace7d644e2b4faeaf3e44c91a9d9e0b",
       "version_major": 2,
       "version_minor": 0
      },
      "text/plain": [
       "(pid=32160) - ReadFiles 2: 0.00 row [00:00, ? row/s]"
      ]
     },
     "metadata": {},
     "output_type": "display_data"
    },
    {
     "data": {
      "application/vnd.jupyter.widget-view+json": {
       "model_id": "4057bde6bd9c4aadb830787cd0f29499",
       "version_major": 2,
       "version_minor": 0
      },
      "text/plain": [
       "(pid=32160) - split(2, equal=True) 3: 0.00 row [00:00, ? row/s]"
      ]
     },
     "metadata": {},
     "output_type": "display_data"
    },
    {
     "data": {
      "application/vnd.jupyter.widget-view+json": {
       "model_id": "5765407aaa31482da07c9972db2c003e",
       "version_major": 2,
       "version_minor": 0
      },
      "text/plain": [
       "(pid=32112) Running 0: 0.00 row [00:00, ? row/s]"
      ]
     },
     "metadata": {},
     "output_type": "display_data"
    },
    {
     "data": {
      "application/vnd.jupyter.widget-view+json": {
       "model_id": "42d285067767493fbc5402bd386b336b",
       "version_major": 2,
       "version_minor": 0
      },
      "text/plain": [
       "(pid=32112) - ListFiles 1: 0.00 row [00:00, ? row/s]"
      ]
     },
     "metadata": {},
     "output_type": "display_data"
    },
    {
     "data": {
      "application/vnd.jupyter.widget-view+json": {
       "model_id": "7f78377cacaf46e38ddf9ae2a59ac28e",
       "version_major": 2,
       "version_minor": 0
      },
      "text/plain": [
       "(pid=32112) - ReadFiles 2: 0.00 row [00:00, ? row/s]"
      ]
     },
     "metadata": {},
     "output_type": "display_data"
    },
    {
     "data": {
      "application/vnd.jupyter.widget-view+json": {
       "model_id": "95e7bf0b4a1940348e8fbaa6368e568d",
       "version_major": 2,
       "version_minor": 0
      },
      "text/plain": [
       "(pid=32112) - split(2, equal=True) 3: 0.00 row [00:00, ? row/s]"
      ]
     },
     "metadata": {},
     "output_type": "display_data"
    },
    {
     "data": {
      "application/vnd.jupyter.widget-view+json": {
       "model_id": "c4617e27d9434359990450a6ae379758",
       "version_major": 2,
       "version_minor": 0
      },
      "text/plain": [
       "(pid=32160) Running 0: 0.00 row [00:00, ? row/s]"
      ]
     },
     "metadata": {},
     "output_type": "display_data"
    },
    {
     "data": {
      "application/vnd.jupyter.widget-view+json": {
       "model_id": "68a3d367251e4df7a76d6a025522cdf9",
       "version_major": 2,
       "version_minor": 0
      },
      "text/plain": [
       "(pid=32160) - ListFiles 1: 0.00 row [00:00, ? row/s]"
      ]
     },
     "metadata": {},
     "output_type": "display_data"
    },
    {
     "data": {
      "application/vnd.jupyter.widget-view+json": {
       "model_id": "82c4c870202342f4b8728f80c1196ae1",
       "version_major": 2,
       "version_minor": 0
      },
      "text/plain": [
       "(pid=32160) - ReadFiles 2: 0.00 row [00:00, ? row/s]"
      ]
     },
     "metadata": {},
     "output_type": "display_data"
    },
    {
     "data": {
      "application/vnd.jupyter.widget-view+json": {
       "model_id": "a5be2a7b0ed544e1a777bee885c3012c",
       "version_major": 2,
       "version_minor": 0
      },
      "text/plain": [
       "(pid=32160) - split(2, equal=True) 3: 0.00 row [00:00, ? row/s]"
      ]
     },
     "metadata": {},
     "output_type": "display_data"
    },
    {
     "data": {
      "application/vnd.jupyter.widget-view+json": {
       "model_id": "c6e76c1a4eaf4a34a857f71eb05c4844",
       "version_major": 2,
       "version_minor": 0
      },
      "text/plain": [
       "(pid=32112) Running 0: 0.00 row [00:00, ? row/s]"
      ]
     },
     "metadata": {},
     "output_type": "display_data"
    },
    {
     "data": {
      "application/vnd.jupyter.widget-view+json": {
       "model_id": "a7f4ae0b50074df5a219e1637b344f2c",
       "version_major": 2,
       "version_minor": 0
      },
      "text/plain": [
       "(pid=32112) - ListFiles 1: 0.00 row [00:00, ? row/s]"
      ]
     },
     "metadata": {},
     "output_type": "display_data"
    },
    {
     "data": {
      "application/vnd.jupyter.widget-view+json": {
       "model_id": "3f1c42b1fb1e43e29a28f06b1ab19a52",
       "version_major": 2,
       "version_minor": 0
      },
      "text/plain": [
       "(pid=32112) - ReadFiles 2: 0.00 row [00:00, ? row/s]"
      ]
     },
     "metadata": {},
     "output_type": "display_data"
    },
    {
     "data": {
      "application/vnd.jupyter.widget-view+json": {
       "model_id": "bf8d96aee8694892b953343daedd7e1a",
       "version_major": 2,
       "version_minor": 0
      },
      "text/plain": [
       "(pid=32112) - split(2, equal=True) 3: 0.00 row [00:00, ? row/s]"
      ]
     },
     "metadata": {},
     "output_type": "display_data"
    },
    {
     "data": {
      "application/vnd.jupyter.widget-view+json": {
       "model_id": "97c9733ed23a4396a6be117a0cf69d53",
       "version_major": 2,
       "version_minor": 0
      },
      "text/plain": [
       "(pid=32160) Running 0: 0.00 row [00:00, ? row/s]"
      ]
     },
     "metadata": {},
     "output_type": "display_data"
    },
    {
     "data": {
      "application/vnd.jupyter.widget-view+json": {
       "model_id": "b1b970091bac4b62906c44ea4f6cabb6",
       "version_major": 2,
       "version_minor": 0
      },
      "text/plain": [
       "(pid=32160) - ListFiles 1: 0.00 row [00:00, ? row/s]"
      ]
     },
     "metadata": {},
     "output_type": "display_data"
    },
    {
     "data": {
      "application/vnd.jupyter.widget-view+json": {
       "model_id": "7313aa1efdcf4611ace856d9d81068b7",
       "version_major": 2,
       "version_minor": 0
      },
      "text/plain": [
       "(pid=32160) - ReadFiles 2: 0.00 row [00:00, ? row/s]"
      ]
     },
     "metadata": {},
     "output_type": "display_data"
    },
    {
     "data": {
      "application/vnd.jupyter.widget-view+json": {
       "model_id": "ca983bfbf263455e8e10ef7e1c706d57",
       "version_major": 2,
       "version_minor": 0
      },
      "text/plain": [
       "(pid=32160) - split(2, equal=True) 3: 0.00 row [00:00, ? row/s]"
      ]
     },
     "metadata": {},
     "output_type": "display_data"
    },
    {
     "data": {
      "application/vnd.jupyter.widget-view+json": {
       "model_id": "25dcb6e2370d4409a606a87a4c5e6f07",
       "version_major": 2,
       "version_minor": 0
      },
      "text/plain": [
       "(pid=32112) Running 0: 0.00 row [00:00, ? row/s]"
      ]
     },
     "metadata": {},
     "output_type": "display_data"
    },
    {
     "data": {
      "application/vnd.jupyter.widget-view+json": {
       "model_id": "9e14d9579e474e748b6ef1a1c6dded4b",
       "version_major": 2,
       "version_minor": 0
      },
      "text/plain": [
       "(pid=32112) - ListFiles 1: 0.00 row [00:00, ? row/s]"
      ]
     },
     "metadata": {},
     "output_type": "display_data"
    },
    {
     "data": {
      "application/vnd.jupyter.widget-view+json": {
       "model_id": "0b05b5964682457f9e444bcb25a5f10b",
       "version_major": 2,
       "version_minor": 0
      },
      "text/plain": [
       "(pid=32112) - ReadFiles 2: 0.00 row [00:00, ? row/s]"
      ]
     },
     "metadata": {},
     "output_type": "display_data"
    },
    {
     "data": {
      "application/vnd.jupyter.widget-view+json": {
       "model_id": "440e7b3f08644be9ac4146acfb45f8bd",
       "version_major": 2,
       "version_minor": 0
      },
      "text/plain": [
       "(pid=32112) - split(2, equal=True) 3: 0.00 row [00:00, ? row/s]"
      ]
     },
     "metadata": {},
     "output_type": "display_data"
    },
    {
     "data": {
      "application/vnd.jupyter.widget-view+json": {
       "model_id": "82fd3833077e4c79b49948fbef3721a6",
       "version_major": 2,
       "version_minor": 0
      },
      "text/plain": [
       "(pid=32160) Running 0: 0.00 row [00:00, ? row/s]"
      ]
     },
     "metadata": {},
     "output_type": "display_data"
    },
    {
     "data": {
      "application/vnd.jupyter.widget-view+json": {
       "model_id": "42a3a8671cf645e3b77e119a35131ad2",
       "version_major": 2,
       "version_minor": 0
      },
      "text/plain": [
       "(pid=32160) - ListFiles 1: 0.00 row [00:00, ? row/s]"
      ]
     },
     "metadata": {},
     "output_type": "display_data"
    },
    {
     "data": {
      "application/vnd.jupyter.widget-view+json": {
       "model_id": "f5a8789df5954816aba392a425f0b676",
       "version_major": 2,
       "version_minor": 0
      },
      "text/plain": [
       "(pid=32160) - ReadFiles 2: 0.00 row [00:00, ? row/s]"
      ]
     },
     "metadata": {},
     "output_type": "display_data"
    },
    {
     "data": {
      "application/vnd.jupyter.widget-view+json": {
       "model_id": "6ef09e56bb1f47b389bb1ce643a1519f",
       "version_major": 2,
       "version_minor": 0
      },
      "text/plain": [
       "(pid=32160) - split(2, equal=True) 3: 0.00 row [00:00, ? row/s]"
      ]
     },
     "metadata": {},
     "output_type": "display_data"
    },
    {
     "data": {
      "application/vnd.jupyter.widget-view+json": {
       "model_id": "e06c303bb3e9491bb06e9535b3eb76cb",
       "version_major": 2,
       "version_minor": 0
      },
      "text/plain": [
       "(pid=32112) Running 0: 0.00 row [00:00, ? row/s]"
      ]
     },
     "metadata": {},
     "output_type": "display_data"
    },
    {
     "data": {
      "application/vnd.jupyter.widget-view+json": {
       "model_id": "fb84f35ef9fc4cc6910ea6265f9334b9",
       "version_major": 2,
       "version_minor": 0
      },
      "text/plain": [
       "(pid=32112) - ListFiles 1: 0.00 row [00:00, ? row/s]"
      ]
     },
     "metadata": {},
     "output_type": "display_data"
    },
    {
     "data": {
      "application/vnd.jupyter.widget-view+json": {
       "model_id": "c4194c35441a44f1a594afe014ee21fe",
       "version_major": 2,
       "version_minor": 0
      },
      "text/plain": [
       "(pid=32112) - ReadFiles 2: 0.00 row [00:00, ? row/s]"
      ]
     },
     "metadata": {},
     "output_type": "display_data"
    },
    {
     "data": {
      "application/vnd.jupyter.widget-view+json": {
       "model_id": "aa97df72cd3146cc89214c3ab3ac501f",
       "version_major": 2,
       "version_minor": 0
      },
      "text/plain": [
       "(pid=32112) - split(2, equal=True) 3: 0.00 row [00:00, ? row/s]"
      ]
     },
     "metadata": {},
     "output_type": "display_data"
    },
    {
     "data": {
      "application/vnd.jupyter.widget-view+json": {
       "model_id": "602c0574c82d487096f7fd242c36d17a",
       "version_major": 2,
       "version_minor": 0
      },
      "text/plain": [
       "(pid=32160) Running 0: 0.00 row [00:00, ? row/s]"
      ]
     },
     "metadata": {},
     "output_type": "display_data"
    },
    {
     "data": {
      "application/vnd.jupyter.widget-view+json": {
       "model_id": "d718eb3366f3450da205ed22d5568385",
       "version_major": 2,
       "version_minor": 0
      },
      "text/plain": [
       "(pid=32160) - ListFiles 1: 0.00 row [00:00, ? row/s]"
      ]
     },
     "metadata": {},
     "output_type": "display_data"
    },
    {
     "data": {
      "application/vnd.jupyter.widget-view+json": {
       "model_id": "bf28b4b542c548da8356e0d49e71131c",
       "version_major": 2,
       "version_minor": 0
      },
      "text/plain": [
       "(pid=32160) - ReadFiles 2: 0.00 row [00:00, ? row/s]"
      ]
     },
     "metadata": {},
     "output_type": "display_data"
    },
    {
     "data": {
      "application/vnd.jupyter.widget-view+json": {
       "model_id": "355cffe2c25d42ad820e0646819a0ac1",
       "version_major": 2,
       "version_minor": 0
      },
      "text/plain": [
       "(pid=32160) - split(2, equal=True) 3: 0.00 row [00:00, ? row/s]"
      ]
     },
     "metadata": {},
     "output_type": "display_data"
    },
    {
     "data": {
      "application/vnd.jupyter.widget-view+json": {
       "model_id": "8cbf9f552e7d4d999303b31ab658d6ce",
       "version_major": 2,
       "version_minor": 0
      },
      "text/plain": [
       "(pid=32112) Running 0: 0.00 row [00:00, ? row/s]"
      ]
     },
     "metadata": {},
     "output_type": "display_data"
    },
    {
     "data": {
      "application/vnd.jupyter.widget-view+json": {
       "model_id": "ff34064c87af49288815b6abb2738e05",
       "version_major": 2,
       "version_minor": 0
      },
      "text/plain": [
       "(pid=32112) - ListFiles 1: 0.00 row [00:00, ? row/s]"
      ]
     },
     "metadata": {},
     "output_type": "display_data"
    },
    {
     "data": {
      "application/vnd.jupyter.widget-view+json": {
       "model_id": "15c71d977d4c475788a5d26aa808c222",
       "version_major": 2,
       "version_minor": 0
      },
      "text/plain": [
       "(pid=32112) - ReadFiles 2: 0.00 row [00:00, ? row/s]"
      ]
     },
     "metadata": {},
     "output_type": "display_data"
    },
    {
     "data": {
      "application/vnd.jupyter.widget-view+json": {
       "model_id": "6d9518cd63a74d5aab708ec4115094aa",
       "version_major": 2,
       "version_minor": 0
      },
      "text/plain": [
       "(pid=32112) - split(2, equal=True) 3: 0.00 row [00:00, ? row/s]"
      ]
     },
     "metadata": {},
     "output_type": "display_data"
    },
    {
     "data": {
      "application/vnd.jupyter.widget-view+json": {
       "model_id": "37162234cd444c77a10afd978288e388",
       "version_major": 2,
       "version_minor": 0
      },
      "text/plain": [
       "(pid=32160) Running 0: 0.00 row [00:00, ? row/s]"
      ]
     },
     "metadata": {},
     "output_type": "display_data"
    },
    {
     "data": {
      "application/vnd.jupyter.widget-view+json": {
       "model_id": "681d75c50cec4f3b8519ea91e8b8b6c0",
       "version_major": 2,
       "version_minor": 0
      },
      "text/plain": [
       "(pid=32160) - ListFiles 1: 0.00 row [00:00, ? row/s]"
      ]
     },
     "metadata": {},
     "output_type": "display_data"
    },
    {
     "data": {
      "application/vnd.jupyter.widget-view+json": {
       "model_id": "f7ce1d0b45ed4d719102f26912f366cb",
       "version_major": 2,
       "version_minor": 0
      },
      "text/plain": [
       "(pid=32160) - ReadFiles 2: 0.00 row [00:00, ? row/s]"
      ]
     },
     "metadata": {},
     "output_type": "display_data"
    },
    {
     "data": {
      "application/vnd.jupyter.widget-view+json": {
       "model_id": "bfd945ddd38547218b4558d7524f86ab",
       "version_major": 2,
       "version_minor": 0
      },
      "text/plain": [
       "(pid=32160) - split(2, equal=True) 3: 0.00 row [00:00, ? row/s]"
      ]
     },
     "metadata": {},
     "output_type": "display_data"
    },
    {
     "data": {
      "application/vnd.jupyter.widget-view+json": {
       "model_id": "c56a96a349744539bdb55746e1ea99e3",
       "version_major": 2,
       "version_minor": 0
      },
      "text/plain": [
       "(pid=32112) Running 0: 0.00 row [00:00, ? row/s]"
      ]
     },
     "metadata": {},
     "output_type": "display_data"
    },
    {
     "data": {
      "application/vnd.jupyter.widget-view+json": {
       "model_id": "45419ed3bc5c4a308cd63ab6fb1a1569",
       "version_major": 2,
       "version_minor": 0
      },
      "text/plain": [
       "(pid=32112) - ListFiles 1: 0.00 row [00:00, ? row/s]"
      ]
     },
     "metadata": {},
     "output_type": "display_data"
    },
    {
     "data": {
      "application/vnd.jupyter.widget-view+json": {
       "model_id": "abddaa43962140958d4fe74ddba913f9",
       "version_major": 2,
       "version_minor": 0
      },
      "text/plain": [
       "(pid=32112) - ReadFiles 2: 0.00 row [00:00, ? row/s]"
      ]
     },
     "metadata": {},
     "output_type": "display_data"
    },
    {
     "data": {
      "application/vnd.jupyter.widget-view+json": {
       "model_id": "db266ea74f204eb18bb9505306dd5815",
       "version_major": 2,
       "version_minor": 0
      },
      "text/plain": [
       "(pid=32112) - split(2, equal=True) 3: 0.00 row [00:00, ? row/s]"
      ]
     },
     "metadata": {},
     "output_type": "display_data"
    },
    {
     "data": {
      "application/vnd.jupyter.widget-view+json": {
       "model_id": "f6d4648007e4451fb8ce2f9184a5a505",
       "version_major": 2,
       "version_minor": 0
      },
      "text/plain": [
       "(pid=32160) Running 0: 0.00 row [00:00, ? row/s]"
      ]
     },
     "metadata": {},
     "output_type": "display_data"
    },
    {
     "data": {
      "application/vnd.jupyter.widget-view+json": {
       "model_id": "9e243ebe1c2c48ba9a11bf1ebc9040c6",
       "version_major": 2,
       "version_minor": 0
      },
      "text/plain": [
       "(pid=32160) - ListFiles 1: 0.00 row [00:00, ? row/s]"
      ]
     },
     "metadata": {},
     "output_type": "display_data"
    },
    {
     "data": {
      "application/vnd.jupyter.widget-view+json": {
       "model_id": "65734a2775ee4c1696677343eb36d5b8",
       "version_major": 2,
       "version_minor": 0
      },
      "text/plain": [
       "(pid=32160) - ReadFiles 2: 0.00 row [00:00, ? row/s]"
      ]
     },
     "metadata": {},
     "output_type": "display_data"
    },
    {
     "data": {
      "application/vnd.jupyter.widget-view+json": {
       "model_id": "644c0e3af9db4c45a0aca7343a4183bd",
       "version_major": 2,
       "version_minor": 0
      },
      "text/plain": [
       "(pid=32160) - split(2, equal=True) 3: 0.00 row [00:00, ? row/s]"
      ]
     },
     "metadata": {},
     "output_type": "display_data"
    },
    {
     "data": {
      "application/vnd.jupyter.widget-view+json": {
       "model_id": "d20ae160813f4110a7a25f6e50209f50",
       "version_major": 2,
       "version_minor": 0
      },
      "text/plain": [
       "(pid=32112) Running 0: 0.00 row [00:00, ? row/s]"
      ]
     },
     "metadata": {},
     "output_type": "display_data"
    },
    {
     "data": {
      "application/vnd.jupyter.widget-view+json": {
       "model_id": "ec0b4a4242814f0f9b4aafe259415c99",
       "version_major": 2,
       "version_minor": 0
      },
      "text/plain": [
       "(pid=32112) - ListFiles 1: 0.00 row [00:00, ? row/s]"
      ]
     },
     "metadata": {},
     "output_type": "display_data"
    },
    {
     "data": {
      "application/vnd.jupyter.widget-view+json": {
       "model_id": "ce3caa503eec4ff1b3f0d07c4c1883e6",
       "version_major": 2,
       "version_minor": 0
      },
      "text/plain": [
       "(pid=32112) - ReadFiles 2: 0.00 row [00:00, ? row/s]"
      ]
     },
     "metadata": {},
     "output_type": "display_data"
    },
    {
     "data": {
      "application/vnd.jupyter.widget-view+json": {
       "model_id": "77c1a7e12c0540239fd6a2b0d041e885",
       "version_major": 2,
       "version_minor": 0
      },
      "text/plain": [
       "(pid=32112) - split(2, equal=True) 3: 0.00 row [00:00, ? row/s]"
      ]
     },
     "metadata": {},
     "output_type": "display_data"
    },
    {
     "data": {
      "application/vnd.jupyter.widget-view+json": {
       "model_id": "cdf4dbfda802415cb7d292fb1bbd4158",
       "version_major": 2,
       "version_minor": 0
      },
      "text/plain": [
       "(pid=32160) Running 0: 0.00 row [00:00, ? row/s]"
      ]
     },
     "metadata": {},
     "output_type": "display_data"
    },
    {
     "data": {
      "application/vnd.jupyter.widget-view+json": {
       "model_id": "08a7e7f7ca1a4095a1c08d1978af8cba",
       "version_major": 2,
       "version_minor": 0
      },
      "text/plain": [
       "(pid=32160) - ListFiles 1: 0.00 row [00:00, ? row/s]"
      ]
     },
     "metadata": {},
     "output_type": "display_data"
    },
    {
     "data": {
      "application/vnd.jupyter.widget-view+json": {
       "model_id": "2dbe678e48b9473b935e53489e62b2e1",
       "version_major": 2,
       "version_minor": 0
      },
      "text/plain": [
       "(pid=32160) - ReadFiles 2: 0.00 row [00:00, ? row/s]"
      ]
     },
     "metadata": {},
     "output_type": "display_data"
    },
    {
     "data": {
      "application/vnd.jupyter.widget-view+json": {
       "model_id": "e49e59206d0448269e66530290840c9b",
       "version_major": 2,
       "version_minor": 0
      },
      "text/plain": [
       "(pid=32160) - split(2, equal=True) 3: 0.00 row [00:00, ? row/s]"
      ]
     },
     "metadata": {},
     "output_type": "display_data"
    },
    {
     "data": {
      "application/vnd.jupyter.widget-view+json": {
       "model_id": "c3c7547590ee4ef0850b39d53e71e0a8",
       "version_major": 2,
       "version_minor": 0
      },
      "text/plain": [
       "(pid=32112) Running 0: 0.00 row [00:00, ? row/s]"
      ]
     },
     "metadata": {},
     "output_type": "display_data"
    },
    {
     "data": {
      "application/vnd.jupyter.widget-view+json": {
       "model_id": "2cfcf41ba3eb4efe8676eb022e91637a",
       "version_major": 2,
       "version_minor": 0
      },
      "text/plain": [
       "(pid=32112) - ListFiles 1: 0.00 row [00:00, ? row/s]"
      ]
     },
     "metadata": {},
     "output_type": "display_data"
    },
    {
     "data": {
      "application/vnd.jupyter.widget-view+json": {
       "model_id": "7b4699a28ebd46bf823da03bae9dda70",
       "version_major": 2,
       "version_minor": 0
      },
      "text/plain": [
       "(pid=32112) - ReadFiles 2: 0.00 row [00:00, ? row/s]"
      ]
     },
     "metadata": {},
     "output_type": "display_data"
    },
    {
     "data": {
      "application/vnd.jupyter.widget-view+json": {
       "model_id": "f46ec12ae8684d319c3c07cc53626955",
       "version_major": 2,
       "version_minor": 0
      },
      "text/plain": [
       "(pid=32112) - split(2, equal=True) 3: 0.00 row [00:00, ? row/s]"
      ]
     },
     "metadata": {},
     "output_type": "display_data"
    },
    {
     "data": {
      "application/vnd.jupyter.widget-view+json": {
       "model_id": "69fb769c164645d4bd291b9312919f16",
       "version_major": 2,
       "version_minor": 0
      },
      "text/plain": [
       "(pid=32160) Running 0: 0.00 row [00:00, ? row/s]"
      ]
     },
     "metadata": {},
     "output_type": "display_data"
    },
    {
     "data": {
      "application/vnd.jupyter.widget-view+json": {
       "model_id": "2cbeccfb96424943a23e2206ef761d0c",
       "version_major": 2,
       "version_minor": 0
      },
      "text/plain": [
       "(pid=32160) - ListFiles 1: 0.00 row [00:00, ? row/s]"
      ]
     },
     "metadata": {},
     "output_type": "display_data"
    },
    {
     "data": {
      "application/vnd.jupyter.widget-view+json": {
       "model_id": "bd2537ef0e5b4904b166d689ff071597",
       "version_major": 2,
       "version_minor": 0
      },
      "text/plain": [
       "(pid=32160) - ReadFiles 2: 0.00 row [00:00, ? row/s]"
      ]
     },
     "metadata": {},
     "output_type": "display_data"
    },
    {
     "data": {
      "application/vnd.jupyter.widget-view+json": {
       "model_id": "224e24152b44420aa4834143c42a7d8e",
       "version_major": 2,
       "version_minor": 0
      },
      "text/plain": [
       "(pid=32160) - split(2, equal=True) 3: 0.00 row [00:00, ? row/s]"
      ]
     },
     "metadata": {},
     "output_type": "display_data"
    },
    {
     "data": {
      "application/vnd.jupyter.widget-view+json": {
       "model_id": "d3472ce3e1d34f31ab56326168f94696",
       "version_major": 2,
       "version_minor": 0
      },
      "text/plain": [
       "(pid=32112) Running 0: 0.00 row [00:00, ? row/s]"
      ]
     },
     "metadata": {},
     "output_type": "display_data"
    },
    {
     "data": {
      "application/vnd.jupyter.widget-view+json": {
       "model_id": "55b30df65ca24fe6af488a79fa36bf7a",
       "version_major": 2,
       "version_minor": 0
      },
      "text/plain": [
       "(pid=32112) - ListFiles 1: 0.00 row [00:00, ? row/s]"
      ]
     },
     "metadata": {},
     "output_type": "display_data"
    },
    {
     "data": {
      "application/vnd.jupyter.widget-view+json": {
       "model_id": "d4aaa508bf02417f98453768f406ddaa",
       "version_major": 2,
       "version_minor": 0
      },
      "text/plain": [
       "(pid=32112) - ReadFiles 2: 0.00 row [00:00, ? row/s]"
      ]
     },
     "metadata": {},
     "output_type": "display_data"
    },
    {
     "data": {
      "application/vnd.jupyter.widget-view+json": {
       "model_id": "82ce0aad17f94fd2982a6d53082e5eb3",
       "version_major": 2,
       "version_minor": 0
      },
      "text/plain": [
       "(pid=32112) - split(2, equal=True) 3: 0.00 row [00:00, ? row/s]"
      ]
     },
     "metadata": {},
     "output_type": "display_data"
    },
    {
     "data": {
      "application/vnd.jupyter.widget-view+json": {
       "model_id": "96bfe212610a4574b4ccf91a420c5760",
       "version_major": 2,
       "version_minor": 0
      },
      "text/plain": [
       "(pid=32160) Running 0: 0.00 row [00:00, ? row/s]"
      ]
     },
     "metadata": {},
     "output_type": "display_data"
    },
    {
     "data": {
      "application/vnd.jupyter.widget-view+json": {
       "model_id": "f0a9348f042e43e4a53bebd6e698e276",
       "version_major": 2,
       "version_minor": 0
      },
      "text/plain": [
       "(pid=32160) - ListFiles 1: 0.00 row [00:00, ? row/s]"
      ]
     },
     "metadata": {},
     "output_type": "display_data"
    },
    {
     "data": {
      "application/vnd.jupyter.widget-view+json": {
       "model_id": "2d262d3e69f84e77b32c80d387b953d9",
       "version_major": 2,
       "version_minor": 0
      },
      "text/plain": [
       "(pid=32160) - ReadFiles 2: 0.00 row [00:00, ? row/s]"
      ]
     },
     "metadata": {},
     "output_type": "display_data"
    },
    {
     "data": {
      "application/vnd.jupyter.widget-view+json": {
       "model_id": "43a55931d7944fe8b0199cbd0284821e",
       "version_major": 2,
       "version_minor": 0
      },
      "text/plain": [
       "(pid=32160) - split(2, equal=True) 3: 0.00 row [00:00, ? row/s]"
      ]
     },
     "metadata": {},
     "output_type": "display_data"
    },
    {
     "data": {
      "application/vnd.jupyter.widget-view+json": {
       "model_id": "67e2e7601c26499a9061e21843b1f5f1",
       "version_major": 2,
       "version_minor": 0
      },
      "text/plain": [
       "(pid=32112) Running 0: 0.00 row [00:00, ? row/s]"
      ]
     },
     "metadata": {},
     "output_type": "display_data"
    },
    {
     "data": {
      "application/vnd.jupyter.widget-view+json": {
       "model_id": "135a24d276564ee998bf8fa1a76eaba7",
       "version_major": 2,
       "version_minor": 0
      },
      "text/plain": [
       "(pid=32112) - ListFiles 1: 0.00 row [00:00, ? row/s]"
      ]
     },
     "metadata": {},
     "output_type": "display_data"
    },
    {
     "data": {
      "application/vnd.jupyter.widget-view+json": {
       "model_id": "97f088eb5e6f442e931bd77a07875b2d",
       "version_major": 2,
       "version_minor": 0
      },
      "text/plain": [
       "(pid=32112) - ReadFiles 2: 0.00 row [00:00, ? row/s]"
      ]
     },
     "metadata": {},
     "output_type": "display_data"
    },
    {
     "data": {
      "application/vnd.jupyter.widget-view+json": {
       "model_id": "38d842bd0dd5440da039414a884f72de",
       "version_major": 2,
       "version_minor": 0
      },
      "text/plain": [
       "(pid=32112) - split(2, equal=True) 3: 0.00 row [00:00, ? row/s]"
      ]
     },
     "metadata": {},
     "output_type": "display_data"
    },
    {
     "name": "stderr",
     "output_type": "stream",
     "text": [
      "\u001b[36m(SplitCoordinator pid=32160)\u001b[0m Starting execution of Dataset. Full logs are in /tmp/ray/session_2025-04-08_19-40-48_740426_2260/logs/ray-data\u001b[32m [repeated 24x across cluster]\u001b[0m\n",
      "\u001b[36m(SplitCoordinator pid=32160)\u001b[0m Execution plan of Dataset: InputDataBuffer[Input] -> TaskPoolMapOperator[ListFiles] -> TaskPoolMapOperator[ReadFiles] -> OutputSplitter[split(2, equal=True)]\u001b[32m [repeated 24x across cluster]\u001b[0m\n"
     ]
    },
    {
     "data": {
      "application/vnd.jupyter.widget-view+json": {
       "model_id": "e7461e08647d41ff9d2bc29d35c3311a",
       "version_major": 2,
       "version_minor": 0
      },
      "text/plain": [
       "(pid=32160) Running 0: 0.00 row [00:00, ? row/s]"
      ]
     },
     "metadata": {},
     "output_type": "display_data"
    },
    {
     "data": {
      "application/vnd.jupyter.widget-view+json": {
       "model_id": "ab11940111d44e7b9a8bad70f8deab32",
       "version_major": 2,
       "version_minor": 0
      },
      "text/plain": [
       "(pid=32160) - ListFiles 1: 0.00 row [00:00, ? row/s]"
      ]
     },
     "metadata": {},
     "output_type": "display_data"
    },
    {
     "data": {
      "application/vnd.jupyter.widget-view+json": {
       "model_id": "00c43084227d48d3b45839549e9f0f33",
       "version_major": 2,
       "version_minor": 0
      },
      "text/plain": [
       "(pid=32160) - ReadFiles 2: 0.00 row [00:00, ? row/s]"
      ]
     },
     "metadata": {},
     "output_type": "display_data"
    },
    {
     "data": {
      "application/vnd.jupyter.widget-view+json": {
       "model_id": "3c0b6f46414948ec9c26e6755bd42ec5",
       "version_major": 2,
       "version_minor": 0
      },
      "text/plain": [
       "(pid=32160) - split(2, equal=True) 3: 0.00 row [00:00, ? row/s]"
      ]
     },
     "metadata": {},
     "output_type": "display_data"
    },
    {
     "data": {
      "application/vnd.jupyter.widget-view+json": {
       "model_id": "0cb79c3fa0554ffbabc111e9f4d60dd1",
       "version_major": 2,
       "version_minor": 0
      },
      "text/plain": [
       "(pid=32112) Running 0: 0.00 row [00:00, ? row/s]"
      ]
     },
     "metadata": {},
     "output_type": "display_data"
    },
    {
     "data": {
      "application/vnd.jupyter.widget-view+json": {
       "model_id": "1cfc30207b3e4ccea19470597bb15fff",
       "version_major": 2,
       "version_minor": 0
      },
      "text/plain": [
       "(pid=32112) - ListFiles 1: 0.00 row [00:00, ? row/s]"
      ]
     },
     "metadata": {},
     "output_type": "display_data"
    },
    {
     "data": {
      "application/vnd.jupyter.widget-view+json": {
       "model_id": "cfa5bb5fa10b4ef7a8f79b58f76c6fc2",
       "version_major": 2,
       "version_minor": 0
      },
      "text/plain": [
       "(pid=32112) - ReadFiles 2: 0.00 row [00:00, ? row/s]"
      ]
     },
     "metadata": {},
     "output_type": "display_data"
    },
    {
     "data": {
      "application/vnd.jupyter.widget-view+json": {
       "model_id": "c03fee5cf9314db3bac75d71ebd5e8c1",
       "version_major": 2,
       "version_minor": 0
      },
      "text/plain": [
       "(pid=32112) - split(2, equal=True) 3: 0.00 row [00:00, ? row/s]"
      ]
     },
     "metadata": {},
     "output_type": "display_data"
    },
    {
     "data": {
      "application/vnd.jupyter.widget-view+json": {
       "model_id": "b4a7bb4c3f7d4c0993558ce1de46a01d",
       "version_major": 2,
       "version_minor": 0
      },
      "text/plain": [
       "(pid=32160) Running 0: 0.00 row [00:00, ? row/s]"
      ]
     },
     "metadata": {},
     "output_type": "display_data"
    },
    {
     "data": {
      "application/vnd.jupyter.widget-view+json": {
       "model_id": "a7ed51bdd7854562a97945f1e9db2019",
       "version_major": 2,
       "version_minor": 0
      },
      "text/plain": [
       "(pid=32160) - ListFiles 1: 0.00 row [00:00, ? row/s]"
      ]
     },
     "metadata": {},
     "output_type": "display_data"
    },
    {
     "data": {
      "application/vnd.jupyter.widget-view+json": {
       "model_id": "5abe3b36d2534b188af1d1087bdd668a",
       "version_major": 2,
       "version_minor": 0
      },
      "text/plain": [
       "(pid=32160) - ReadFiles 2: 0.00 row [00:00, ? row/s]"
      ]
     },
     "metadata": {},
     "output_type": "display_data"
    },
    {
     "data": {
      "application/vnd.jupyter.widget-view+json": {
       "model_id": "a8ed879d08ee43a6af4df4d848002443",
       "version_major": 2,
       "version_minor": 0
      },
      "text/plain": [
       "(pid=32160) - split(2, equal=True) 3: 0.00 row [00:00, ? row/s]"
      ]
     },
     "metadata": {},
     "output_type": "display_data"
    },
    {
     "data": {
      "application/vnd.jupyter.widget-view+json": {
       "model_id": "a70ce212bb1047628d97425061304c62",
       "version_major": 2,
       "version_minor": 0
      },
      "text/plain": [
       "(pid=32112) Running 0: 0.00 row [00:00, ? row/s]"
      ]
     },
     "metadata": {},
     "output_type": "display_data"
    },
    {
     "data": {
      "application/vnd.jupyter.widget-view+json": {
       "model_id": "c1a04194687042f3b7e17776747b2e80",
       "version_major": 2,
       "version_minor": 0
      },
      "text/plain": [
       "(pid=32112) - ListFiles 1: 0.00 row [00:00, ? row/s]"
      ]
     },
     "metadata": {},
     "output_type": "display_data"
    },
    {
     "data": {
      "application/vnd.jupyter.widget-view+json": {
       "model_id": "992ec8d668e241889914bbcca87919c8",
       "version_major": 2,
       "version_minor": 0
      },
      "text/plain": [
       "(pid=32112) - ReadFiles 2: 0.00 row [00:00, ? row/s]"
      ]
     },
     "metadata": {},
     "output_type": "display_data"
    },
    {
     "data": {
      "application/vnd.jupyter.widget-view+json": {
       "model_id": "30019495c07048f5a079222e89d27c9e",
       "version_major": 2,
       "version_minor": 0
      },
      "text/plain": [
       "(pid=32112) - split(2, equal=True) 3: 0.00 row [00:00, ? row/s]"
      ]
     },
     "metadata": {},
     "output_type": "display_data"
    },
    {
     "data": {
      "application/vnd.jupyter.widget-view+json": {
       "model_id": "0317459d38a74bd69ef91af307174246",
       "version_major": 2,
       "version_minor": 0
      },
      "text/plain": [
       "(pid=32160) Running 0: 0.00 row [00:00, ? row/s]"
      ]
     },
     "metadata": {},
     "output_type": "display_data"
    },
    {
     "data": {
      "application/vnd.jupyter.widget-view+json": {
       "model_id": "d5e5fb7bfc654291ab2bcff0e9e55360",
       "version_major": 2,
       "version_minor": 0
      },
      "text/plain": [
       "(pid=32160) - ListFiles 1: 0.00 row [00:00, ? row/s]"
      ]
     },
     "metadata": {},
     "output_type": "display_data"
    },
    {
     "data": {
      "application/vnd.jupyter.widget-view+json": {
       "model_id": "82cc49e1e919467bbb80b88684c4298f",
       "version_major": 2,
       "version_minor": 0
      },
      "text/plain": [
       "(pid=32160) - ReadFiles 2: 0.00 row [00:00, ? row/s]"
      ]
     },
     "metadata": {},
     "output_type": "display_data"
    },
    {
     "data": {
      "application/vnd.jupyter.widget-view+json": {
       "model_id": "b14437372330458bb8828c0d09c3247e",
       "version_major": 2,
       "version_minor": 0
      },
      "text/plain": [
       "(pid=32160) - split(2, equal=True) 3: 0.00 row [00:00, ? row/s]"
      ]
     },
     "metadata": {},
     "output_type": "display_data"
    }
   ],
   "source": [
    "# Train\n",
    "results = trainer.fit()"
   ]
  },
  {
   "cell_type": "markdown",
   "metadata": {},
   "source": [
    "We can view our experiment metrics and model artifacts in our model registry. We're using OSS mlflow so we can run the server by pointing to our model registry location:\n",
    "\n",
    "```bash\n",
    "mlflow server -h 0.0.0.0 -p 8080 --backend-store-uri /mnt/user_storage/mlflow/doggos\n",
    "```\n",
    "\n",
    "We can view the dashboard by going to the **Overview tab** up top → **Open Ports**. \n",
    "\n",
    "<img src=\"https://raw.githubusercontent.com/anyscale/foundational-ray-app/refs/heads/main/images/mlflow.png\" width=685>\n",
    "\n",
    "We also have our Ray Dashboard and Train workfload specific dashboards above. \n",
    "\n",
    "<img src=\"https://raw.githubusercontent.com/anyscale/foundational-ray-app/refs/heads/main/images/train_metrics.png\" width=700>\n"
   ]
  },
  {
   "cell_type": "code",
   "execution_count": null,
   "metadata": {},
   "outputs": [
    {
     "data": {
      "text/plain": [
       "run_id                                      df3e891ee8bf46b9aabce8207ae4adf7\n",
       "experiment_id                                             807128632153660052\n",
       "status                                                              FINISHED\n",
       "artifact_uri               file:///mnt/user_storage/mlflow/doggos/8071286...\n",
       "start_time                                  2025-04-08 20:57:19.929000+00:00\n",
       "end_time                                    2025-04-08 20:57:32.239000+00:00\n",
       "metrics.lr                                                             0.001\n",
       "metrics.train_loss                                                  0.175167\n",
       "metrics.val_loss                                                    0.520214\n",
       "params.hidden_dim                                                        256\n",
       "params.embedding_dim                                                     512\n",
       "params.experiment_name                                                doggos\n",
       "params.class_to_label      {'miniature_poodle': 0, 'saint_bernard': 1, 'l...\n",
       "params.lr_patience                                                         3\n",
       "params.lr                                                              0.001\n",
       "params.batch_size                                                        256\n",
       "params.model_registry                        /mnt/user_storage/mlflow/doggos\n",
       "params.dropout_p                                                         0.3\n",
       "params.num_epochs                                                         20\n",
       "params.num_classes                                                        36\n",
       "params.lr_factor                                                         0.8\n",
       "tags.mlflow.user                                                         ray\n",
       "tags.mlflow.runName                                         defiant-shoat-19\n",
       "tags.mlflow.source.type                                                LOCAL\n",
       "tags.mlflow.source.name    /home/ray/anaconda3/lib/python3.12/site-packag...\n",
       "Name: 0, dtype: object"
      ]
     },
     "execution_count": null,
     "metadata": {},
     "output_type": "execute_result"
    }
   ],
   "source": [
    "# Sorted runs\n",
    "mlflow.set_tracking_uri(f\"file:{model_registry}\")\n",
    "sorted_runs = mlflow.search_runs(\n",
    "    experiment_names=[experiment_name], \n",
    "    order_by=[\"metrics.val_loss ASC\"])\n",
    "best_run = sorted_runs.iloc[0]\n",
    "best_run"
   ]
  },
  {
   "cell_type": "markdown",
   "metadata": {},
   "source": [
    "And we can easily wrap our training workload as a production grade [Anyscale Job](https://docs.anyscale.com/platform/jobs/) ([API ref](https://docs.anyscale.com/reference/job-api/))\n",
    "\n",
    "**Note**: \n",
    "- we're using a `containerfile` to define our dependencies, but we could easily use a pre-built image as well.\n",
    "- we can specify the compute as a [compute config](https://docs.anyscale.com/configuration/compute-configuration/) or inline in a [job config](https://docs.anyscale.com/reference/job-api#job-cli) file.\n",
    "- when we don't specify compute and when launching from a workspace, this defaults to the compute configuration of the Workspace."
   ]
  },
  {
   "cell_type": "code",
   "execution_count": null,
   "metadata": {},
   "outputs": [
    {
     "name": "stderr",
     "output_type": "stream",
     "text": [
      "Output\n",
      "(anyscale +0.9s) Submitting job with config JobConfig(name='train-doggos-model', image_uri=None, compute_config=None, env_vars=None, py_modules=None, py_executable=None, cloud=None, project=None, ray_version=None, job_queue_config=None).\n",
      "(anyscale +3.0s) Uploading local dir '/home/ray/default' to cloud storage.\n",
      "(anyscale +3.7s) Including workspace-managed pip dependencies.\n",
      "(anyscale +4.0s) Job 'train-doggos-model' submitted, ID: 'prodjob_a8thh4dadzupwbc53amwf8c1cd'.\n",
      "(anyscale +4.0s) View the job in the UI: https://console.anyscale.com/jobs/prodjob_a8thh4dadzupwbc53amwf8c1cd\n",
      "(anyscale +4.0s) Use `--wait` to wait for the job to run and stream logs.\n"
     ]
    }
   ],
   "source": [
    "%%bash\n",
    "# Production batch job\n",
    "anyscale job submit --name=train-doggos-model \\\n",
    "  --containerfile=\"/home/ray/default/containerfile\" \\\n",
    "  --working-dir=\"/home/ray/default\" \\\n",
    "  --exclude=\"\" \\\n",
    "  --max-retries=0 \\\n",
    "  -- python doggos/train.py"
   ]
  },
  {
   "cell_type": "markdown",
   "metadata": {},
   "source": [
    "<img src=\"https://raw.githubusercontent.com/anyscale/foundational-ray-app/refs/heads/main/images/train_job.png\" width=700>"
   ]
  },
  {
   "cell_type": "markdown",
   "metadata": {},
   "source": [
    "### Evaluation"
   ]
  },
  {
   "cell_type": "markdown",
   "metadata": {},
   "source": [
    "We'll conclude by evaluating our trained model on our test dataset. Evaluation is essentially just the same as our batch inference workload -- where we'll apply the model on batches of data and then calculate metrics using the predictions vs.true labels. Ray data is hyper optimized for throughput so preserving order is not a priority. But for evaluation, this is crucial! So we'll achieve this by preserving the entire row and adding the predicted label as another column to each row."
   ]
  },
  {
   "cell_type": "code",
   "execution_count": null,
   "metadata": {},
   "outputs": [],
   "source": [
    "from urllib.parse import urlparse\n",
    "from sklearn.metrics import multilabel_confusion_matrix"
   ]
  },
  {
   "cell_type": "code",
   "execution_count": null,
   "metadata": {},
   "outputs": [],
   "source": [
    "class TorchPredictor:\n",
    "    def __init__(self, preprocessor, model):\n",
    "        self.preprocessor = preprocessor\n",
    "        self.model = model\n",
    "        self.model.eval()\n",
    "\n",
    "    def __call__(self, batch, device=\"cuda\"):\n",
    "        self.model.to(device)\n",
    "        batch[\"prediction\"] = self.model.predict(collate_fn(batch))\n",
    "        return batch\n",
    "\n",
    "    def predict_probabilities(self, batch, device=\"cuda\"):\n",
    "        self.model.to(device)\n",
    "        predicted_probabilities = self.model.predict_probabilities(collate_fn(batch))\n",
    "        batch[\"probabilities\"] = [\n",
    "            {self.preprocessor.label_to_class[i]: prob for i, prob in enumerate(probabilities)}\n",
    "            for probabilities in predicted_probabilities\n",
    "        ]\n",
    "        return batch\n",
    "    \n",
    "    @classmethod\n",
    "    def from_artifacts_dir(cls, artifacts_dir):\n",
    "        with open(os.path.join(artifacts_dir, \"class_to_label.json\"), \"r\") as fp:\n",
    "            class_to_label = json.load(fp)\n",
    "        preprocessor = Preprocessor(class_to_label=class_to_label)\n",
    "        model = ClassificationModel.load(\n",
    "            args_fp=os.path.join(artifacts_dir, \"args.json\"), \n",
    "            state_dict_fp=os.path.join(artifacts_dir, \"model.pt\"),\n",
    "        )\n",
    "        return cls(preprocessor=preprocessor, model=model)"
   ]
  },
  {
   "cell_type": "code",
   "execution_count": null,
   "metadata": {},
   "outputs": [
    {
     "name": "stderr",
     "output_type": "stream",
     "text": [
      "/tmp/ipykernel_9260/1167522715.py:52: FutureWarning: You are using `torch.load` with `weights_only=False` (the current default value), which uses the default pickle module implicitly. It is possible to construct malicious pickle data which will execute arbitrary code during unpickling (See https://github.com/pytorch/pytorch/blob/main/SECURITY.md#untrusted-models for more details). In a future release, the default value for `weights_only` will be flipped to `True`. This limits the functions that could be executed during unpickling. Arbitrary objects will no longer be allowed to be loaded via this mode unless they are explicitly allowlisted by the user via `torch.serialization.add_safe_globals`. We recommend you start setting `weights_only=True` for any use case where you don't have full control of the loaded file. Please open an issue on GitHub for any issues related to this experimental feature.\n",
      "  model.load_state_dict(torch.load(state_dict_fp, map_location=device))\n"
     ]
    }
   ],
   "source": [
    "# Load and preproces eval dataset\n",
    "artifacts_dir = urlparse(best_run.artifact_uri).path\n",
    "predictor = TorchPredictor.from_artifacts_dir(artifacts_dir=artifacts_dir)\n",
    "test_ds = ray.data.read_images(\"s3://doggos-dataset/test\", include_paths=True)\n",
    "test_ds = test_ds.map(add_class)\n",
    "test_ds = predictor.preprocessor.transform(ds=test_ds)"
   ]
  },
  {
   "cell_type": "code",
   "execution_count": null,
   "metadata": {},
   "outputs": [
    {
     "name": "stderr",
     "output_type": "stream",
     "text": [
      "2025-04-08 20:57:40,484\tINFO streaming_executor.py:108 -- Starting execution of Dataset. Full logs are in /tmp/ray/session_2025-04-08_19-40-48_740426_2260/logs/ray-data\n",
      "2025-04-08 20:57:40,485\tINFO streaming_executor.py:109 -- Execution plan of Dataset: InputDataBuffer[Input] -> TaskPoolMapOperator[ListFiles] -> TaskPoolMapOperator[ReadFiles] -> TaskPoolMapOperator[Map(add_class)->Map(Preprocessor.convert_to_label)] -> ActorPoolMapOperator[MapBatches(EmbeddingGenerator)] -> TaskPoolMapOperator[MapBatches(drop_columns)] -> TaskPoolMapOperator[MapBatches(TorchPredictor)] -> LimitOperator[limit=1]\n"
     ]
    },
    {
     "data": {
      "application/vnd.jupyter.widget-view+json": {
       "model_id": "79b28f1c98a84951965b88c3a63f450a",
       "version_major": 2,
       "version_minor": 0
      },
      "text/plain": [
       "Running 0: 0.00 row [00:00, ? row/s]"
      ]
     },
     "metadata": {},
     "output_type": "display_data"
    },
    {
     "data": {
      "application/vnd.jupyter.widget-view+json": {
       "model_id": "a70a029c53ab4e79a304dec49c9c8bc9",
       "version_major": 2,
       "version_minor": 0
      },
      "text/plain": [
       "- ListFiles 1: 0.00 row [00:00, ? row/s]"
      ]
     },
     "metadata": {},
     "output_type": "display_data"
    },
    {
     "data": {
      "application/vnd.jupyter.widget-view+json": {
       "model_id": "18d0724317f341db8360dd63e2320bf2",
       "version_major": 2,
       "version_minor": 0
      },
      "text/plain": [
       "- ReadFiles 2: 0.00 row [00:00, ? row/s]"
      ]
     },
     "metadata": {},
     "output_type": "display_data"
    },
    {
     "data": {
      "application/vnd.jupyter.widget-view+json": {
       "model_id": "b956e2f80d164a2ab59dc256a8d2add4",
       "version_major": 2,
       "version_minor": 0
      },
      "text/plain": [
       "- Map(add_class)->Map(Preprocessor.convert_to_label) 3: 0.00 row [00:00, ? row/s]"
      ]
     },
     "metadata": {},
     "output_type": "display_data"
    },
    {
     "data": {
      "application/vnd.jupyter.widget-view+json": {
       "model_id": "5bdd9fcffda048ae85a97efc61d635ad",
       "version_major": 2,
       "version_minor": 0
      },
      "text/plain": [
       "- MapBatches(EmbeddingGenerator) 4: 0.00 row [00:00, ? row/s]"
      ]
     },
     "metadata": {},
     "output_type": "display_data"
    },
    {
     "data": {
      "application/vnd.jupyter.widget-view+json": {
       "model_id": "64c1b3c046fd4f31ae9a9e70532ca75d",
       "version_major": 2,
       "version_minor": 0
      },
      "text/plain": [
       "- MapBatches(drop_columns) 5: 0.00 row [00:00, ? row/s]"
      ]
     },
     "metadata": {},
     "output_type": "display_data"
    },
    {
     "data": {
      "application/vnd.jupyter.widget-view+json": {
       "model_id": "8b83ea7c0a5549fea3881f486b070d0d",
       "version_major": 2,
       "version_minor": 0
      },
      "text/plain": [
       "- MapBatches(TorchPredictor) 6: 0.00 row [00:00, ? row/s]"
      ]
     },
     "metadata": {},
     "output_type": "display_data"
    },
    {
     "data": {
      "application/vnd.jupyter.widget-view+json": {
       "model_id": "d79e49da065145b798ce5056b0c0af40",
       "version_major": 2,
       "version_minor": 0
      },
      "text/plain": [
       "- limit=1 7: 0.00 row [00:00, ? row/s]"
      ]
     },
     "metadata": {},
     "output_type": "display_data"
    },
    {
     "name": "stderr",
     "output_type": "stream",
     "text": [
      "\u001b[36m(MapBatches(TorchPredictor) pid=56632, ip=10.0.128.118)\u001b[0m /tmp/ipykernel_9260/3214280880.py:6: UserWarning: The given NumPy array is not writable, and PyTorch does not support non-writable tensors. This means writing to this tensor will result in undefined behavior. You may want to copy the array to protect its data or make it writable before converting it to a tensor. This type of warning will be suppressed for the rest of this program. (Triggered internally at ../torch/csrc/utils/tensor_numpy.cpp:206.)\n"
     ]
    },
    {
     "data": {
      "text/plain": [
       "[{'path': 'doggos-dataset/test/basset/basset_10757.jpg',\n",
       "  'class': 'basset',\n",
       "  'label': 23,\n",
       "  'embedding': array([ 4.19064760e-02, -1.36580795e-01, -5.55111244e-02, -3.96357208e-01,\n",
       "         -2.89811671e-01, -1.70328319e-01, -8.21812302e-02,  3.95795643e-01,\n",
       "          2.64987916e-01, -3.67216468e-02,  6.94891691e-01, -4.69115049e-01,\n",
       "          3.25280488e-01,  2.80551791e-01,  8.18852901e-01, -1.15559869e-01,\n",
       "          9.14698020e-02, -5.73977113e-01,  2.03209594e-01,  6.52529538e-01,\n",
       "         -1.05863035e+00,  6.68610111e-02,  2.93662250e-01, -9.76665989e-02,\n",
       "          2.73105353e-02,  7.52591044e-02,  8.73377100e-02,  8.97350311e-02,\n",
       "          4.72954869e-01,  4.51560557e-01,  4.05898392e-01,  1.42087102e-01,\n",
       "         -4.77296002e-02, -5.36885671e-02, -3.07975322e-01, -2.74191558e-01,\n",
       "          1.57595277e-01, -3.92906666e-01, -3.30133289e-01,  7.40982413e-01,\n",
       "         -1.75936371e-01,  2.47061938e-01,  4.92461503e-01,  9.03616399e-02,\n",
       "          3.38159025e-01,  9.64755565e-02, -4.13925707e-01, -3.70297819e-01,\n",
       "         -4.86789614e-01, -1.59323245e-01,  4.97663021e-01, -3.40220779e-02,\n",
       "         -1.20030120e-01,  6.08587265e-02,  1.87373072e-01, -2.27987587e-01,\n",
       "          2.52745032e-01,  2.04279110e-01,  1.08201481e-01,  4.48428169e-02,\n",
       "          1.97686851e-01, -1.93981528e-01,  5.75065136e-01,  4.33648676e-01,\n",
       "         -8.01339597e-02,  1.28072768e-01, -6.80327639e-02,  9.81313407e-01,\n",
       "         -2.71675706e-01,  1.78826332e-01, -4.86060262e-01,  3.70676219e-01,\n",
       "          1.30475499e-02,  2.76253670e-01, -2.90818095e-01,  2.76303768e-01,\n",
       "          1.69322670e-01, -3.84591192e-01,  1.37845606e-01,  9.69501212e-02,\n",
       "          3.50591153e-01, -2.81846821e-01, -1.71145588e-01, -7.32939720e-01,\n",
       "          1.02436140e-01, -3.30168098e-01,  3.00153196e-01,  1.88951641e-01,\n",
       "          1.73133388e-02,  3.90837997e-01,  7.84650445e-02,  9.69170630e-02,\n",
       "         -7.77383232e+00, -1.85921133e-01,  5.88736236e-01,  7.41565078e-02,\n",
       "         -6.82057321e-01,  3.15559596e-01, -8.82654548e-01,  1.34030357e-01,\n",
       "          1.20628245e-01, -1.54028058e-01, -1.78743839e-01,  3.25409740e-01,\n",
       "          6.01468801e-01, -6.16376817e-01, -6.61809370e-02,  2.40454495e-01,\n",
       "          4.20319766e-01, -5.86606920e-01,  1.89208716e-01, -1.09260596e-01,\n",
       "         -3.80073726e-01,  1.76712424e-01, -6.52843773e-01, -3.62809390e-01,\n",
       "         -6.27097905e-01,  4.80677858e-02,  1.57901168e-01,  3.95149291e-02,\n",
       "         -1.49436533e-01,  5.55554509e-01,  3.38173181e-01,  9.90666449e-02,\n",
       "         -1.95296302e-01, -2.74379790e-01, -3.77373546e-02,  1.39002815e-01,\n",
       "         -5.34663379e-01,  4.03817713e-01,  4.22720969e-01, -5.63378870e-01,\n",
       "          2.07848370e-01,  1.04311728e+00, -4.99287069e-01,  5.11074603e-01,\n",
       "          3.53753567e-01, -6.49008453e-01,  2.59881228e-01, -7.66894817e-02,\n",
       "         -4.13682461e-01,  9.74462330e-02, -1.26960248e-01,  1.44032121e-01,\n",
       "         -3.57008040e-01, -1.76370263e-01, -1.01607114e-01, -3.28194886e-01,\n",
       "         -1.32158190e-01, -2.61050999e-01,  2.24142358e-01,  3.43442738e-01,\n",
       "          9.50649261e-01,  1.40117124e-01, -5.05871549e-02,  5.50948903e-02,\n",
       "         -1.17288843e-01,  3.29707444e-01,  3.36004049e-02, -1.10350229e-01,\n",
       "          2.94435203e-01,  2.70950496e-01,  3.24223757e-01, -3.25044632e-01,\n",
       "          7.60981560e-01,  4.83716838e-02, -1.10951376e+00,  3.39770973e-01,\n",
       "          2.26698503e-01,  2.32336670e-03,  5.38640171e-02,  2.66780913e-01,\n",
       "         -1.21517681e-01, -1.43329680e-01, -5.52536920e-03,  2.74743959e-02,\n",
       "          4.26560119e-02,  1.28299952e-01,  4.43710029e-01,  7.79390559e-02,\n",
       "          1.20940655e-01, -9.28211659e-02,  3.90992820e-01,  2.60285288e-03,\n",
       "         -2.63466507e-01,  1.87994897e-01,  4.00598556e-01, -2.01151699e-01,\n",
       "         -3.02132130e-01,  3.24125737e-01,  4.52897698e-02,  2.86443055e-01,\n",
       "         -4.82923776e-01, -1.29084587e-01,  1.12971947e-01, -1.80478662e-01,\n",
       "          6.34078979e-01,  2.89372563e-01, -8.56641173e-01, -1.18244290e-01,\n",
       "          6.86164081e-01, -7.84159377e-02,  4.76634145e-01, -1.20181292e-01,\n",
       "          1.54707342e-01,  2.80011855e-02, -3.12410183e-02,  5.84602654e-02,\n",
       "          1.48844749e-01,  1.87712699e-01, -3.15700829e-01,  9.34061229e-01,\n",
       "          1.41762182e-01,  5.84958754e-02, -1.62314937e-01, -2.78054357e-01,\n",
       "          2.50732481e-01,  2.22666979e-01,  3.37514281e-01,  4.04685497e-01,\n",
       "         -2.93117166e-01,  3.47265005e-01,  2.28369713e-01, -1.87164292e-01,\n",
       "          6.21497691e-01, -4.98107493e-01,  6.76106066e-02, -9.42671001e-02,\n",
       "          2.65211999e-01, -7.60582983e-02, -1.88699648e-01,  3.89393926e-01,\n",
       "          5.38618490e-02,  4.88617152e-01, -2.56892025e-01, -4.79903698e-01,\n",
       "         -3.61647040e-01, -2.01520339e-01,  9.49351862e-02, -4.77069616e-01,\n",
       "          1.77510232e-01,  1.81168288e-01,  1.53784215e-01,  2.87806362e-01,\n",
       "          3.94680262e-01,  1.13467383e+00,  3.34870636e-01, -1.96445033e-01,\n",
       "         -3.16867888e-01, -1.68003589e-02, -1.64264157e-01,  2.66973466e-01,\n",
       "          1.64568037e-01,  7.04963624e-01, -9.77632031e-02, -5.63611448e-01,\n",
       "          3.36863473e-02,  1.66914374e-01, -3.60137343e-01, -7.25878179e-02,\n",
       "         -7.11031199e-01,  3.85586232e-01,  3.05600405e-01,  1.29461300e+00,\n",
       "          5.63064039e-01,  1.27537251e-01, -5.03153563e-01,  1.62131488e-02,\n",
       "          3.07083488e-01,  8.93367827e-02,  6.26875460e-02, -9.11268741e-02,\n",
       "          1.67498514e-01,  9.13407803e-02,  2.58504152e-01, -2.22510129e-01,\n",
       "         -4.66809332e-01,  2.39951313e-01, -8.83513317e-03,  5.40526628e-01,\n",
       "         -4.65629101e-01, -4.11089957e-01,  8.93241540e-02, -4.30052131e-01,\n",
       "         -1.07635468e-01,  2.30089277e-01, -8.92076731e-01,  2.90157795e-01,\n",
       "         -6.48763001e-01,  1.57758862e-01,  4.03568596e-01, -2.39367366e-01,\n",
       "         -1.37735546e-01,  6.89335167e-02,  4.24381077e-01,  5.77960908e-03,\n",
       "          1.92872062e-02,  3.10259759e-01,  1.98946416e-01,  2.64064878e-01,\n",
       "          7.36736804e-02,  1.21197805e-01, -4.77183461e-01,  7.03353882e-01,\n",
       "         -5.49824953e-01, -2.11633235e-01, -4.58092332e-01,  3.82177234e-01,\n",
       "          2.17816740e-01,  2.90140152e-01, -3.94839287e-01,  3.38419914e-01,\n",
       "          1.04316342e+00,  8.92943367e-02,  6.95777759e-02,  4.11873579e-01,\n",
       "          8.74300599e-01,  4.41856682e-01, -2.14029178e-01, -4.39686060e-01,\n",
       "          1.99861199e-01,  3.37290406e-01,  1.13648660e-01,  3.59490037e-01,\n",
       "          5.39332390e-01,  2.79617339e-01,  3.62113476e-01,  3.40786576e-01,\n",
       "          3.24971974e-01,  2.75303066e-01,  2.34712422e-01,  4.81539726e-01,\n",
       "          2.31995970e-01, -8.08465421e-01, -4.79557328e-02,  6.87994212e-02,\n",
       "         -2.40702838e-01,  2.65097618e-01,  4.46902812e-02, -9.22075361e-02,\n",
       "          5.63174859e-02, -3.93047959e-01,  1.44531816e-01, -1.26509339e-01,\n",
       "         -1.21592574e-01, -3.43924791e-01, -1.70228705e-01,  4.76584584e-01,\n",
       "          7.86313176e-01,  4.85940501e-02, -1.28226340e-01,  1.65396735e-01,\n",
       "          5.42223692e-01, -3.32825541e-01,  1.10362731e-01,  3.41769785e-01,\n",
       "         -3.66494298e-01,  4.92051423e-01,  2.93268681e-01,  3.09661925e-02,\n",
       "          2.97160506e-01, -2.48961926e-01, -6.99380457e-01, -1.85237795e-01,\n",
       "         -4.29821670e-01, -3.65174711e-01, -3.42368245e-01, -1.47138834e-01,\n",
       "          3.08080852e-01,  2.05411285e-01, -5.32003522e-01, -3.16894576e-02,\n",
       "         -1.69056937e-01, -3.36676463e-03, -2.78189003e-01, -8.28051627e-01,\n",
       "          1.15965366e+00,  7.52691180e-02, -2.81522453e-01,  7.49199092e-02,\n",
       "         -2.06875414e-01, -6.80358827e-01,  8.82528946e-02,  1.44705325e-01,\n",
       "          2.18054608e-01, -4.73880656e-02, -5.59090674e-02,  5.56569099e-01,\n",
       "          1.95931941e-02, -1.78101397e+00, -6.69559896e-01, -3.25727105e-01,\n",
       "         -4.77889478e-01,  3.41656744e-01,  6.94279969e-02,  4.09428567e-01,\n",
       "         -6.01665676e-03, -2.66550899e-01, -1.77608043e-01, -7.83893824e-01,\n",
       "          4.01132628e-02,  7.23101944e-02, -7.27870524e-01,  2.21228763e-01,\n",
       "         -2.97600389e-01, -4.35269088e-01, -3.10768485e-01, -1.24953881e-01,\n",
       "          1.24301277e-01,  6.94323108e-02,  4.32583280e-02, -6.45493865e-02,\n",
       "         -1.63231045e-01, -1.88606918e-01, -6.18342221e-01, -1.05589330e-01,\n",
       "          7.21565008e-01,  9.23945308e-02,  2.31744111e-01, -2.85459816e-01,\n",
       "          1.71615005e-01, -1.02168672e-01, -3.54158461e-01,  5.90790331e-01,\n",
       "         -6.06516302e-01,  2.98262298e-01,  2.75748253e-01,  6.33806050e-01,\n",
       "         -8.39588046e-01, -7.38594532e-02, -4.05342817e-01,  1.28917232e-01,\n",
       "         -5.81202209e-01, -3.66588950e-01,  9.48414505e-02, -2.09593371e-01,\n",
       "         -5.51773906e-01,  5.09782992e-02, -5.94579875e-01,  1.01740271e-01,\n",
       "          2.23322123e-01,  6.59332037e-01,  1.20651394e-01, -4.02864873e-01,\n",
       "         -3.85730863e-01, -5.16556576e-03,  1.38536632e-01, -1.72981843e-02,\n",
       "          1.85834229e-01, -2.11682588e-01,  1.64760351e-02, -1.06060833e-01,\n",
       "          2.13641360e-01, -2.45039001e-01, -3.28338861e-01, -3.25526178e-01,\n",
       "          1.11617148e-03,  4.57065441e-02,  1.33295596e-01,  5.18772844e-03,\n",
       "         -4.28479090e-02, -3.40956092e-01,  3.02443765e-02,  1.85664266e-01,\n",
       "          2.60594264e-02,  2.89510876e-01, -4.98010874e-01,  1.81605816e-01,\n",
       "         -3.82676452e-01, -3.52797806e-01,  1.03357029e+00,  9.68655944e-02,\n",
       "         -1.73556805e-03, -5.14918268e-01, -3.36268246e-01, -1.00730836e-01,\n",
       "         -1.25676528e-01, -6.18828982e-02, -4.76281643e-02, -2.28909150e-01,\n",
       "         -5.63441575e-01, -3.03614765e-01,  7.11317658e-02, -3.22315127e-01,\n",
       "          4.48298872e-01,  1.71170607e-02, -1.17540106e-01,  1.85387522e-01,\n",
       "          4.97133076e-01,  1.19162994e-02, -4.96600121e-01,  1.95453316e-03,\n",
       "          1.06926501e-01, -6.21897936e-01,  6.67988881e-03, -4.80976522e-01,\n",
       "          5.28127030e-02,  2.93969780e-01, -4.12428290e-01,  2.51130927e-02,\n",
       "         -1.09609395e-01, -7.27288425e-03, -2.65636355e-01,  1.28248006e-01,\n",
       "          9.85906273e-02,  8.12176019e-02, -3.82126629e-01,  2.33563542e-01,\n",
       "         -5.86985528e-01,  4.07770902e-01,  3.55581462e-01, -2.68261313e-01],\n",
       "        dtype=float32),\n",
       "  'prediction': 23}]"
      ]
     },
     "execution_count": null,
     "metadata": {},
     "output_type": "execute_result"
    }
   ],
   "source": [
    "# y_pred (batch inference)\n",
    "pred_ds = test_ds.map_batches(\n",
    "    predictor,\n",
    "    fn_kwargs={\"device\": \"cuda\"},\n",
    "    concurrency=4,\n",
    "    batch_size=64,\n",
    "    num_gpus=1,\n",
    ")\n",
    "pred_ds.take(1)"
   ]
  },
  {
   "cell_type": "code",
   "execution_count": null,
   "metadata": {},
   "outputs": [],
   "source": [
    "def batch_metric(batch):\n",
    "    labels = batch[\"label\"]\n",
    "    preds = batch[\"prediction\"]\n",
    "    mcm = multilabel_confusion_matrix(labels, preds)\n",
    "    tn, fp, fn, tp = [], [], [], []\n",
    "    for i in range(mcm.shape[0]):\n",
    "        tn.append(mcm[i, 0, 0])  # True negatives\n",
    "        fp.append(mcm[i, 0, 1])  # False positives\n",
    "        fn.append(mcm[i, 1, 0])  # False negatives\n",
    "        tp.append(mcm[i, 1, 1])  # True positives\n",
    "    return {\"TN\": tn, \"FP\": fp, \"FN\": fn, \"TP\": tp}\n"
   ]
  },
  {
   "cell_type": "code",
   "execution_count": null,
   "metadata": {},
   "outputs": [
    {
     "name": "stderr",
     "output_type": "stream",
     "text": [
      "2025-04-08 20:58:04,791\tINFO streaming_executor.py:108 -- Starting execution of Dataset. Full logs are in /tmp/ray/session_2025-04-08_19-40-48_740426_2260/logs/ray-data\n",
      "2025-04-08 20:58:04,792\tINFO streaming_executor.py:109 -- Execution plan of Dataset: InputDataBuffer[Input] -> TaskPoolMapOperator[ListFiles] -> TaskPoolMapOperator[ReadFiles] -> TaskPoolMapOperator[Map(add_class)->Map(Preprocessor.convert_to_label)] -> ActorPoolMapOperator[MapBatches(EmbeddingGenerator)] -> TaskPoolMapOperator[MapBatches(drop_columns)] -> TaskPoolMapOperator[MapBatches(TorchPredictor)] -> TaskPoolMapOperator[MapBatches(batch_metric)] -> AllToAllOperator[Aggregate] -> LimitOperator[limit=1]\n"
     ]
    },
    {
     "data": {
      "application/vnd.jupyter.widget-view+json": {
       "model_id": "ad3e81c06fa34b76b4cab757ee60c318",
       "version_major": 2,
       "version_minor": 0
      },
      "text/plain": [
       "Running 0: 0.00 row [00:00, ? row/s]"
      ]
     },
     "metadata": {},
     "output_type": "display_data"
    },
    {
     "data": {
      "application/vnd.jupyter.widget-view+json": {
       "model_id": "c1afc0b601e549e7a03af57557fdbed0",
       "version_major": 2,
       "version_minor": 0
      },
      "text/plain": [
       "- ListFiles 1: 0.00 row [00:00, ? row/s]"
      ]
     },
     "metadata": {},
     "output_type": "display_data"
    },
    {
     "data": {
      "application/vnd.jupyter.widget-view+json": {
       "model_id": "b01b53ef8fd747418219dad8ca75336a",
       "version_major": 2,
       "version_minor": 0
      },
      "text/plain": [
       "- ReadFiles 2: 0.00 row [00:00, ? row/s]"
      ]
     },
     "metadata": {},
     "output_type": "display_data"
    },
    {
     "data": {
      "application/vnd.jupyter.widget-view+json": {
       "model_id": "1679355b85954375bd220bf7823d07c3",
       "version_major": 2,
       "version_minor": 0
      },
      "text/plain": [
       "- Map(add_class)->Map(Preprocessor.convert_to_label) 3: 0.00 row [00:00, ? row/s]"
      ]
     },
     "metadata": {},
     "output_type": "display_data"
    },
    {
     "data": {
      "application/vnd.jupyter.widget-view+json": {
       "model_id": "0071e0ca17be47679f85f8b8b8bc1ea9",
       "version_major": 2,
       "version_minor": 0
      },
      "text/plain": [
       "- MapBatches(EmbeddingGenerator) 4: 0.00 row [00:00, ? row/s]"
      ]
     },
     "metadata": {},
     "output_type": "display_data"
    },
    {
     "data": {
      "application/vnd.jupyter.widget-view+json": {
       "model_id": "395de567e9624484b273e0ece3dcfe9e",
       "version_major": 2,
       "version_minor": 0
      },
      "text/plain": [
       "- MapBatches(drop_columns) 5: 0.00 row [00:00, ? row/s]"
      ]
     },
     "metadata": {},
     "output_type": "display_data"
    },
    {
     "data": {
      "application/vnd.jupyter.widget-view+json": {
       "model_id": "ea3e57245846452c878970aba42899b3",
       "version_major": 2,
       "version_minor": 0
      },
      "text/plain": [
       "- MapBatches(TorchPredictor) 6: 0.00 row [00:00, ? row/s]"
      ]
     },
     "metadata": {},
     "output_type": "display_data"
    },
    {
     "data": {
      "application/vnd.jupyter.widget-view+json": {
       "model_id": "99095b3885cd4aa9af5e71cb4066fb6b",
       "version_major": 2,
       "version_minor": 0
      },
      "text/plain": [
       "- MapBatches(batch_metric) 7: 0.00 row [00:00, ? row/s]"
      ]
     },
     "metadata": {},
     "output_type": "display_data"
    },
    {
     "data": {
      "application/vnd.jupyter.widget-view+json": {
       "model_id": "16aaef5c45664840b618ae02e950ba80",
       "version_major": 2,
       "version_minor": 0
      },
      "text/plain": [
       "- Aggregate 8: 0.00 row [00:00, ? row/s]"
      ]
     },
     "metadata": {},
     "output_type": "display_data"
    },
    {
     "data": {
      "application/vnd.jupyter.widget-view+json": {
       "model_id": "f83c97fbee3048d38142a815d1e91e1f",
       "version_major": 2,
       "version_minor": 0
      },
      "text/plain": [
       "Sort Sample 9:   0%|          | 0.00/1.00 [00:00<?, ? row/s]"
      ]
     },
     "metadata": {},
     "output_type": "display_data"
    },
    {
     "data": {
      "application/vnd.jupyter.widget-view+json": {
       "model_id": "5d5385b0d1524fa7b36733930b8d4a32",
       "version_major": 2,
       "version_minor": 0
      },
      "text/plain": [
       "Shuffle Map 10:   0%|          | 0.00/1.00 [00:00<?, ? row/s]"
      ]
     },
     "metadata": {},
     "output_type": "display_data"
    },
    {
     "data": {
      "application/vnd.jupyter.widget-view+json": {
       "model_id": "d9c31f4befc848ae8a417f8df1a832b4",
       "version_major": 2,
       "version_minor": 0
      },
      "text/plain": [
       "Shuffle Reduce 11:   0%|          | 0.00/1.00 [00:00<?, ? row/s]"
      ]
     },
     "metadata": {},
     "output_type": "display_data"
    },
    {
     "data": {
      "application/vnd.jupyter.widget-view+json": {
       "model_id": "0351c2c856584784a6576136d1e5a9e9",
       "version_major": 2,
       "version_minor": 0
      },
      "text/plain": [
       "- limit=1 12: 0.00 row [00:00, ? row/s]"
      ]
     },
     "metadata": {},
     "output_type": "display_data"
    },
    {
     "name": "stderr",
     "output_type": "stream",
     "text": [
      "\u001b[36m(MapBatches(TorchPredictor) pid=57926, ip=10.0.128.118)\u001b[0m /tmp/ipykernel_9260/3214280880.py:6: UserWarning: The given NumPy array is not writable, and PyTorch does not support non-writable tensors. This means writing to this tensor will result in undefined behavior. You may want to copy the array to protect its data or make it writable before converting it to a tensor. This type of warning will be suppressed for the rest of this program. (Triggered internally at ../torch/csrc/utils/tensor_numpy.cpp:206.)\n",
      "\u001b[36m(MapBatches(TorchPredictor) pid=60788, ip=10.0.128.118)\u001b[0m /tmp/ipykernel_9260/3214280880.py:6: UserWarning: The given NumPy array is not writable, and PyTorch does not support non-writable tensors. This means writing to this tensor will result in undefined behavior. You may want to copy the array to protect its data or make it writable before converting it to a tensor. This type of warning will be suppressed for the rest of this program. (Triggered internally at ../torch/csrc/utils/tensor_numpy.cpp:206.)\u001b[32m [repeated 4x across cluster]\u001b[0m\n",
      "\u001b[36m(MapBatches(TorchPredictor) pid=15820, ip=10.0.152.43)\u001b[0m /tmp/ipykernel_9260/3214280880.py:6: UserWarning: The given NumPy array is not writable, and PyTorch does not support non-writable tensors. This means writing to this tensor will result in undefined behavior. You may want to copy the array to protect its data or make it writable before converting it to a tensor. This type of warning will be suppressed for the rest of this program. (Triggered internally at ../torch/csrc/utils/tensor_numpy.cpp:206.)\u001b[32m [repeated 4x across cluster]\u001b[0m\n",
      "\u001b[36m(MapBatches(TorchPredictor) pid=16069, ip=10.0.152.43)\u001b[0m /tmp/ipykernel_9260/3214280880.py:6: UserWarning: The given NumPy array is not writable, and PyTorch does not support non-writable tensors. This means writing to this tensor will result in undefined behavior. You may want to copy the array to protect its data or make it writable before converting it to a tensor. This type of warning will be suppressed for the rest of this program. (Triggered internally at ../torch/csrc/utils/tensor_numpy.cpp:206.)\u001b[32m [repeated 4x across cluster]\u001b[0m\n",
      "\u001b[36m(MapBatches(TorchPredictor) pid=16320, ip=10.0.152.43)\u001b[0m /tmp/ipykernel_9260/3214280880.py:6: UserWarning: The given NumPy array is not writable, and PyTorch does not support non-writable tensors. This means writing to this tensor will result in undefined behavior. You may want to copy the array to protect its data or make it writable before converting it to a tensor. This type of warning will be suppressed for the rest of this program. (Triggered internally at ../torch/csrc/utils/tensor_numpy.cpp:206.)\u001b[32m [repeated 4x across cluster]\u001b[0m\n",
      "\u001b[36m(MapBatches(TorchPredictor) pid=61225, ip=10.0.128.118)\u001b[0m /tmp/ipykernel_9260/3214280880.py:6: UserWarning: The given NumPy array is not writable, and PyTorch does not support non-writable tensors. This means writing to this tensor will result in undefined behavior. You may want to copy the array to protect its data or make it writable before converting it to a tensor. This type of warning will be suppressed for the rest of this program. (Triggered internally at ../torch/csrc/utils/tensor_numpy.cpp:206.)\u001b[32m [repeated 4x across cluster]\u001b[0m\n",
      "\u001b[36m(MapBatches(TorchPredictor) pid=61469, ip=10.0.128.118)\u001b[0m /tmp/ipykernel_9260/3214280880.py:6: UserWarning: The given NumPy array is not writable, and PyTorch does not support non-writable tensors. This means writing to this tensor will result in undefined behavior. You may want to copy the array to protect its data or make it writable before converting it to a tensor. This type of warning will be suppressed for the rest of this program. (Triggered internally at ../torch/csrc/utils/tensor_numpy.cpp:206.)\u001b[32m [repeated 4x across cluster]\u001b[0m\n",
      "\u001b[36m(MapBatches(TorchPredictor) pid=61793, ip=10.0.128.118)\u001b[0m /tmp/ipykernel_9260/3214280880.py:6: UserWarning: The given NumPy array is not writable, and PyTorch does not support non-writable tensors. This means writing to this tensor will result in undefined behavior. You may want to copy the array to protect its data or make it writable before converting it to a tensor. This type of warning will be suppressed for the rest of this program. (Triggered internally at ../torch/csrc/utils/tensor_numpy.cpp:206.)\u001b[32m [repeated 4x across cluster]\u001b[0m\n",
      "\u001b[36m(MapBatches(TorchPredictor) pid=62053, ip=10.0.128.118)\u001b[0m /tmp/ipykernel_9260/3214280880.py:6: UserWarning: The given NumPy array is not writable, and PyTorch does not support non-writable tensors. This means writing to this tensor will result in undefined behavior. You may want to copy the array to protect its data or make it writable before converting it to a tensor. This type of warning will be suppressed for the rest of this program. (Triggered internally at ../torch/csrc/utils/tensor_numpy.cpp:206.)\u001b[32m [repeated 4x across cluster]\u001b[0m\n",
      "\u001b[36m(MapBatches(TorchPredictor) pid=16928, ip=10.0.152.43)\u001b[0m /tmp/ipykernel_9260/3214280880.py:6: UserWarning: The given NumPy array is not writable, and PyTorch does not support non-writable tensors. This means writing to this tensor will result in undefined behavior. You may want to copy the array to protect its data or make it writable before converting it to a tensor. This type of warning will be suppressed for the rest of this program. (Triggered internally at ../torch/csrc/utils/tensor_numpy.cpp:206.)\u001b[32m [repeated 4x across cluster]\u001b[0m\n",
      "\u001b[36m(MapBatches(TorchPredictor) pid=62394, ip=10.0.128.118)\u001b[0m /tmp/ipykernel_9260/3214280880.py:6: UserWarning: The given NumPy array is not writable, and PyTorch does not support non-writable tensors. This means writing to this tensor will result in undefined behavior. You may want to copy the array to protect its data or make it writable before converting it to a tensor. This type of warning will be suppressed for the rest of this program. (Triggered internally at ../torch/csrc/utils/tensor_numpy.cpp:206.)\u001b[32m [repeated 4x across cluster]\u001b[0m\n",
      "\u001b[36m(MapBatches(TorchPredictor) pid=62643, ip=10.0.128.118)\u001b[0m /tmp/ipykernel_9260/3214280880.py:6: UserWarning: The given NumPy array is not writable, and PyTorch does not support non-writable tensors. This means writing to this tensor will result in undefined behavior. You may want to copy the array to protect its data or make it writable before converting it to a tensor. This type of warning will be suppressed for the rest of this program. (Triggered internally at ../torch/csrc/utils/tensor_numpy.cpp:206.)\u001b[32m [repeated 4x across cluster]\u001b[0m\n"
     ]
    }
   ],
   "source": [
    "# Aggregated metrics after processing all batches\n",
    "metrics_ds = pred_ds.map_batches(batch_metric)\n",
    "aggregate_metrics = metrics_ds.sum([\"TN\", \"FP\", \"FN\", \"TP\"])\n",
    "\n",
    "# Aggregate the confusion matrix components across all batches\n",
    "tn = aggregate_metrics[\"sum(TN)\"]\n",
    "fp = aggregate_metrics[\"sum(FP)\"]\n",
    "fn = aggregate_metrics[\"sum(FN)\"]\n",
    "tp = aggregate_metrics[\"sum(TP)\"]\n",
    "\n",
    "# Calculate metrics\n",
    "precision = tp / (tp + fp) if (tp + fp) > 0 else 0\n",
    "recall = tp / (tp + fn) if (tp + fn) > 0 else 0\n",
    "f1 = 2 * precision * recall / (precision + recall) if (precision + recall) > 0 else 0\n",
    "accuracy = (tp + tn) / (tp + tn + fp + fn)"
   ]
  },
  {
   "cell_type": "code",
   "execution_count": null,
   "metadata": {},
   "outputs": [
    {
     "name": "stdout",
     "output_type": "stream",
     "text": [
      "Precision: 0.84\n",
      "Recall: 0.84\n",
      "F1: 0.84\n",
      "Accuracy: 0.98\n"
     ]
    }
   ],
   "source": [
    "print(f\"Precision: {precision:.2f}\")\n",
    "print(f\"Recall: {recall:.2f}\")\n",
    "print(f\"F1: {f1:.2f}\")\n",
    "print(f\"Accuracy: {accuracy:.2f}\")"
   ]
  },
  {
   "cell_type": "code",
   "execution_count": null,
   "metadata": {},
   "outputs": [
    {
     "data": {
      "text/plain": [
       "{'status': 'ok', 'restart': True}"
      ]
     },
     "execution_count": null,
     "metadata": {},
     "output_type": "execute_result"
    },
    {
     "ename": "",
     "evalue": "",
     "output_type": "error",
     "traceback": [
      "\u001b[1;31mThe Kernel crashed while executing code in the the current cell or a previous cell. Please review the code in the cell(s) to identify a possible cause of the failure. Click <a href='https://aka.ms/vscodeJupyterKernelCrash'>here</a> for more info. View Jupyter <a href='command:jupyter.viewOutput'>log</a> for further details."
     ]
    }
   ],
   "source": [
    "# Terminate this notebook's kernel before we run other notebooks\n",
    "import IPython\n",
    "IPython.get_ipython().kernel.do_shutdown(restart=True)"
   ]
  }
 ],
 "metadata": {
  "kernelspec": {
   "display_name": "base",
   "language": "python",
   "name": "python3"
  },
  "language_info": {
   "codemirror_mode": {
    "name": "ipython",
    "version": 3
   },
   "file_extension": ".py",
   "mimetype": "text/x-python",
   "name": "python",
   "nbconvert_exporter": "python",
   "pygments_lexer": "ipython3",
   "version": "3.12.9"
  }
 },
 "nbformat": 4,
 "nbformat_minor": 2
}
