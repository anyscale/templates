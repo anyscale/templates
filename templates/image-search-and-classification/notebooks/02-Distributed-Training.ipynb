{
 "cells": [
  {
   "cell_type": "markdown",
   "metadata": {},
   "source": [
    "# Distributed training\n",
    "\n",
    "<div align=\"left\">\n",
    "<a target=\"_blank\" href=\"https://console.anyscale.com/\"><img src=\"https://img.shields.io/badge/🚀 Run_on-Anyscale-9hf\"></a>&nbsp;\n",
    "<a href=\"https://github.com/anyscale/foundational-ray-app\" role=\"button\"><img src=\"https://img.shields.io/static/v1?label=&amp;message=View%20On%20GitHub&amp;color=586069&amp;logo=github&amp;labelColor=2f363d\"></a>&nbsp;\n",
    "</div>\n",
    "\n",
    "In this tutorial, we'll execute a distributed training workload that will connect the following heterogenous workloads:\n",
    "- preprocess the dataset prior to training\n",
    "- distributed training with Ray Train and PyTorch (with observability)\n",
    "- evaluation (batch inference + eval logic)\n",
    "- save model artifacts to a model registry (MLOps)\n",
    "\n",
    "**Note**: we won't be tuning our model in this tutorial but be sure to check out [Ray Tune](https://docs.ray.io/en/latest/tune/index.html) for experiment execution and hyperparameter tuning at any scale.\n",
    "\n",
    "<img src=\"https://raw.githubusercontent.com/anyscale/foundational-ray-app/refs/heads/main/images/distributed_training.png\" width=800>"
   ]
  },
  {
   "cell_type": "code",
   "execution_count": null,
   "metadata": {},
   "outputs": [
    {
     "name": "stdout",
     "output_type": "stream",
     "text": [
      "\u001b[92mSuccessfully registered `matplotlib, torch` and 4 other packages to be installed on all cluster nodes.\u001b[0m\n",
      "\u001b[92mView and update dependencies here: https://console.anyscale.com/cld_kvedZWag2qA8i5BjxUevf5i7/prj_cz951f43jjdybtzkx1s5sjgz99/workspaces/expwrk_bs6mbsfsxvlre2b4k1n242wkc9?workspace-tab=dependencies\u001b[0m\n"
     ]
    }
   ],
   "source": [
    "%%bash\n",
    "pip install -q \"matplotlib==3.10.0\" \"torch==2.5.1\" \"transformers==4.47.1\" \"scikit-learn==1.6.0\" \"mlflow==2.19.0\" \"ipywidgets\""
   ]
  },
  {
   "cell_type": "code",
   "execution_count": null,
   "metadata": {},
   "outputs": [],
   "source": [
    "%load_ext autoreload\n",
    "%autoreload all"
   ]
  },
  {
   "cell_type": "code",
   "execution_count": null,
   "metadata": {},
   "outputs": [],
   "source": [
    "import os\n",
    "import ray\n",
    "import sys\n",
    "sys.path.append(os.path.abspath(\"..\"))"
   ]
  },
  {
   "cell_type": "code",
   "execution_count": null,
   "metadata": {},
   "outputs": [
    {
     "name": "stderr",
     "output_type": "stream",
     "text": [
      "2025-04-14 01:49:21,835\tINFO worker.py:1660 -- Connecting to existing Ray cluster at address: 10.0.35.4:6379...\n",
      "2025-04-14 01:49:21,846\tINFO worker.py:1843 -- Connected to Ray cluster. View the dashboard at \u001b[1m\u001b[32mhttps://session-fyhrc759flh928h7czptpn79mb.i.anyscaleuserdata.com \u001b[39m\u001b[22m\n",
      "2025-04-14 01:49:21,933\tINFO packaging.py:575 -- Creating a file package for local module '/home/ray/default'.\n",
      "2025-04-14 01:49:21,988\tWARNING packaging.py:417 -- File /home/ray/default/.git/objects/pack/pack-686fcc421cba9d7b5add6ab0b51a94f3f1a6e80a.pack is very large (14.47MiB). Consider adding this file to the 'excludes' list to skip uploading it: `ray.init(..., runtime_env={'excludes': ['/home/ray/default/.git/objects/pack/pack-686fcc421cba9d7b5add6ab0b51a94f3f1a6e80a.pack']})`\n",
      "2025-04-14 01:49:22,052\tINFO packaging.py:367 -- Pushing file package 'gcs://_ray_pkg_7033a37f0fda5efd.zip' (28.17MiB) to Ray cluster...\n",
      "2025-04-14 01:49:22,188\tINFO packaging.py:380 -- Successfully pushed file package 'gcs://_ray_pkg_7033a37f0fda5efd.zip'.\n"
     ]
    },
    {
     "data": {
      "application/vnd.jupyter.widget-view+json": {
       "model_id": "dce76363da1b484d859035cbbcc4e2ee",
       "version_major": 2,
       "version_minor": 0
      },
      "text/html": [
       "<div class=\"lm-Widget p-Widget lm-Panel p-Panel jp-Cell-outputWrapper\">\n",
       "    <div style=\"margin-left: 50px;display: flex;flex-direction: row;align-items: center\">\n",
       "        <div class=\"jp-RenderedHTMLCommon\" style=\"display: flex; flex-direction: row;\">\n",
       "  <svg viewBox=\"0 0 567 224\" fill=\"none\" xmlns=\"http://www.w3.org/2000/svg\" style=\"height: 3em;\">\n",
       "    <g clip-path=\"url(#clip0_4338_178347)\">\n",
       "        <path d=\"M341.29 165.561H355.29L330.13 129.051C345.63 123.991 354.21 112.051 354.21 94.2307C354.21 71.3707 338.72 58.1807 311.88 58.1807H271V165.561H283.27V131.661H311.8C314.25 131.661 316.71 131.501 319.01 131.351L341.25 165.561H341.29ZM283.29 119.851V70.0007H311.82C331.3 70.0007 342.34 78.2907 342.34 94.5507C342.34 111.271 331.34 119.861 311.82 119.861L283.29 119.851ZM451.4 138.411L463.4 165.561H476.74L428.74 58.1807H416L367.83 165.561H380.83L392.83 138.411H451.4ZM446.19 126.601H398L422 72.1407L446.24 126.601H446.19ZM526.11 128.741L566.91 58.1807H554.35L519.99 114.181L485.17 58.1807H472.44L514.01 129.181V165.541H526.13V128.741H526.11Z\" fill=\"var(--jp-ui-font-color0)\"/>\n",
       "        <path d=\"M82.35 104.44C84.0187 97.8827 87.8248 92.0678 93.1671 87.9146C98.5094 83.7614 105.083 81.5067 111.85 81.5067C118.617 81.5067 125.191 83.7614 130.533 87.9146C135.875 92.0678 139.681 97.8827 141.35 104.44H163.75C164.476 101.562 165.622 98.8057 167.15 96.2605L127.45 56.5605C121.071 60.3522 113.526 61.6823 106.235 60.3005C98.9443 58.9187 92.4094 54.9203 87.8602 49.0574C83.3109 43.1946 81.0609 35.8714 81.5332 28.4656C82.0056 21.0599 85.1679 14.0819 90.4252 8.8446C95.6824 3.60726 102.672 0.471508 110.08 0.0272655C117.487 -0.416977 124.802 1.86091 130.647 6.4324C136.493 11.0039 140.467 17.5539 141.821 24.8501C143.175 32.1463 141.816 39.6859 138 46.0505L177.69 85.7505C182.31 82.9877 187.58 81.4995 192.962 81.4375C198.345 81.3755 203.648 82.742 208.33 85.3976C213.012 88.0532 216.907 91.9029 219.616 96.5544C222.326 101.206 223.753 106.492 223.753 111.875C223.753 117.258 222.326 122.545 219.616 127.197C216.907 131.848 213.012 135.698 208.33 138.353C203.648 141.009 198.345 142.375 192.962 142.313C187.58 142.251 182.31 140.763 177.69 138L138 177.7C141.808 184.071 143.155 191.614 141.79 198.91C140.424 206.205 136.44 212.75 130.585 217.313C124.731 221.875 117.412 224.141 110.004 223.683C102.596 223.226 95.6103 220.077 90.3621 214.828C85.1139 209.58 81.9647 202.595 81.5072 195.187C81.0497 187.779 83.3154 180.459 87.878 174.605C92.4405 168.751 98.9853 164.766 106.281 163.401C113.576 162.035 121.119 163.383 127.49 167.19L167.19 127.49C165.664 124.941 164.518 122.182 163.79 119.3H141.39C139.721 125.858 135.915 131.673 130.573 135.826C125.231 139.98 118.657 142.234 111.89 142.234C105.123 142.234 98.5494 139.98 93.2071 135.826C87.8648 131.673 84.0587 125.858 82.39 119.3H60C58.1878 126.495 53.8086 132.78 47.6863 136.971C41.5641 141.163 34.1211 142.972 26.7579 142.059C19.3947 141.146 12.6191 137.574 7.70605 132.014C2.79302 126.454 0.0813599 119.29 0.0813599 111.87C0.0813599 104.451 2.79302 97.2871 7.70605 91.7272C12.6191 86.1673 19.3947 82.5947 26.7579 81.6817C34.1211 80.7686 41.5641 82.5781 47.6863 86.7696C53.8086 90.9611 58.1878 97.2456 60 104.44H82.35ZM100.86 204.32C103.407 206.868 106.759 208.453 110.345 208.806C113.93 209.159 117.527 208.258 120.522 206.256C123.517 204.254 125.725 201.276 126.771 197.828C127.816 194.38 127.633 190.677 126.253 187.349C124.874 184.021 122.383 181.274 119.205 179.577C116.027 177.88 112.359 177.337 108.826 178.042C105.293 178.746 102.113 180.654 99.8291 183.44C97.5451 186.226 96.2979 189.718 96.3 193.32C96.2985 195.364 96.7006 197.388 97.4831 199.275C98.2656 201.163 99.4132 202.877 100.86 204.32ZM204.32 122.88C206.868 120.333 208.453 116.981 208.806 113.396C209.159 109.811 208.258 106.214 206.256 103.219C204.254 100.223 201.275 98.0151 197.827 96.97C194.38 95.9249 190.676 96.1077 187.348 97.4873C184.02 98.8669 181.274 101.358 179.577 104.536C177.879 107.714 177.337 111.382 178.041 114.915C178.746 118.448 180.653 121.627 183.439 123.911C186.226 126.195 189.717 127.443 193.32 127.44C195.364 127.443 197.388 127.042 199.275 126.259C201.163 125.476 202.878 124.328 204.32 122.88ZM122.88 19.4205C120.333 16.8729 116.981 15.2876 113.395 14.9347C109.81 14.5817 106.213 15.483 103.218 17.4849C100.223 19.4868 98.0146 22.4654 96.9696 25.9131C95.9245 29.3608 96.1073 33.0642 97.4869 36.3922C98.8665 39.7202 101.358 42.4668 104.535 44.1639C107.713 45.861 111.381 46.4036 114.914 45.6992C118.447 44.9949 121.627 43.0871 123.911 40.301C126.195 37.515 127.442 34.0231 127.44 30.4205C127.44 28.3772 127.038 26.3539 126.255 24.4664C125.473 22.5788 124.326 20.8642 122.88 19.4205ZM19.42 100.86C16.8725 103.408 15.2872 106.76 14.9342 110.345C14.5813 113.93 15.4826 117.527 17.4844 120.522C19.4863 123.518 22.4649 125.726 25.9127 126.771C29.3604 127.816 33.0638 127.633 36.3918 126.254C39.7198 124.874 42.4664 122.383 44.1635 119.205C45.8606 116.027 46.4032 112.359 45.6988 108.826C44.9944 105.293 43.0866 102.114 40.3006 99.8296C37.5145 97.5455 34.0227 96.2983 30.42 96.3005C26.2938 96.3018 22.337 97.9421 19.42 100.86ZM100.86 100.86C98.3125 103.408 96.7272 106.76 96.3742 110.345C96.0213 113.93 96.9226 117.527 98.9244 120.522C100.926 123.518 103.905 125.726 107.353 126.771C110.8 127.816 114.504 127.633 117.832 126.254C121.16 124.874 123.906 122.383 125.604 119.205C127.301 116.027 127.843 112.359 127.139 108.826C126.434 105.293 124.527 102.114 121.741 99.8296C118.955 97.5455 115.463 96.2983 111.86 96.3005C109.817 96.299 107.793 96.701 105.905 97.4835C104.018 98.2661 102.303 99.4136 100.86 100.86Z\" fill=\"#00AEEF\"/>\n",
       "    </g>\n",
       "    <defs>\n",
       "        <clipPath id=\"clip0_4338_178347\">\n",
       "            <rect width=\"566.93\" height=\"223.75\" fill=\"white\"/>\n",
       "        </clipPath>\n",
       "    </defs>\n",
       "  </svg>\n",
       "</div>\n",
       "\n",
       "        <table class=\"jp-RenderedHTMLCommon\" style=\"border-collapse: collapse;color: var(--jp-ui-font-color1);font-size: var(--jp-ui-font-size1);\">\n",
       "    <tr>\n",
       "        <td style=\"text-align: left\"><b>Python version:</b></td>\n",
       "        <td style=\"text-align: left\"><b>3.12.9</b></td>\n",
       "    </tr>\n",
       "    <tr>\n",
       "        <td style=\"text-align: left\"><b>Ray version:</b></td>\n",
       "        <td style=\"text-align: left\"><b>2.44.1</b></td>\n",
       "    </tr>\n",
       "    <tr>\n",
       "    <td style=\"text-align: left\"><b>Dashboard:</b></td>\n",
       "    <td style=\"text-align: left\"><b><a href=\"http://session-fyhrc759flh928h7czptpn79mb.i.anyscaleuserdata.com\" target=\"_blank\">http://session-fyhrc759flh928h7czptpn79mb.i.anyscaleuserdata.com</a></b></td>\n",
       "</tr>\n",
       "\n",
       "</table>\n",
       "\n",
       "    </div>\n",
       "</div>\n"
      ],
      "text/plain": [
       "RayContext(dashboard_url='session-fyhrc759flh928h7czptpn79mb.i.anyscaleuserdata.com', python_version='3.12.9', ray_version='2.44.1', ray_commit='66b3699996151045a71991762f4f83ecc03f881e')"
      ]
     },
     "execution_count": null,
     "metadata": {},
     "output_type": "execute_result"
    }
   ],
   "source": [
    "# Enable Ray Train v2 (it's too good to wait for public release!)\n",
    "ray.init(\n",
    "    runtime_env={\n",
    "        \"env_vars\": {\"RAY_TRAIN_V2_ENABLED\": \"1\"}, \n",
    "        \"working_dir\": \"/home/ray/default\",  # to import doggos (default working_dir=\".\")\n",
    "    },\n",
    ")"
   ]
  },
  {
   "cell_type": "code",
   "execution_count": null,
   "metadata": {},
   "outputs": [],
   "source": [
    "%%bash\n",
    "# This will be removed once Ray Train v2 is part of latest Ray version\n",
    "echo \"RAY_TRAIN_V2_ENABLED=1\" > /home/ray/default/.env"
   ]
  },
  {
   "cell_type": "code",
   "execution_count": null,
   "metadata": {},
   "outputs": [
    {
     "data": {
      "text/plain": [
       "True"
      ]
     },
     "execution_count": null,
     "metadata": {},
     "output_type": "execute_result"
    }
   ],
   "source": [
    "# Load env vars in notebooks\n",
    "from dotenv import load_dotenv\n",
    "load_dotenv()"
   ]
  },
  {
   "cell_type": "markdown",
   "metadata": {},
   "source": [
    "### Preprocess"
   ]
  },
  {
   "cell_type": "markdown",
   "metadata": {},
   "source": [
    "We need to convert our classes to labels (unique integers) so that we can train a classifier that can correctly predict the class given an input image. But before we do this, we'll quickly apply the same data ingestion and preprocessing as the previous notebook."
   ]
  },
  {
   "cell_type": "code",
   "execution_count": null,
   "metadata": {},
   "outputs": [],
   "source": [
    "def add_class(row):\n",
    "    row[\"class\"] = row[\"path\"].rsplit(\"/\", 3)[-2]\n",
    "    return row"
   ]
  },
  {
   "cell_type": "code",
   "execution_count": null,
   "metadata": {},
   "outputs": [],
   "source": [
    "# Preprocess data splits\n",
    "train_ds = ray.data.read_images(\"s3://doggos-dataset/train\", include_paths=True, shuffle=\"files\")\n",
    "train_ds = train_ds.map(add_class)\n",
    "val_ds = ray.data.read_images(\"s3://doggos-dataset/val\", include_paths=True)\n",
    "val_ds = val_ds.map(add_class)"
   ]
  },
  {
   "cell_type": "markdown",
   "metadata": {},
   "source": [
    "We'll define a `Preprocessor` class that will:\n",
    "- create an embedding, we will move the embedding layer outside of the model since we will freeze the embedding layer's weights and so we don't have to do it repeatedly as part of the model's forward pass (unecessary compute)\n",
    "- convert our classes into labels for the classifier. \n",
    "\n",
    "While we could've just done this as a simple operation, we're taking the time to organize it as a class so that we can save and load for inference later."
   ]
  },
  {
   "cell_type": "code",
   "execution_count": null,
   "metadata": {},
   "outputs": [],
   "source": [
    "from doggos.embed import EmbeddingGenerator"
   ]
  },
  {
   "cell_type": "code",
   "execution_count": null,
   "metadata": {},
   "outputs": [],
   "source": [
    "class Preprocessor:\n",
    "    \"\"\"Preprocessor class.\"\"\"\n",
    "    def __init__(self, class_to_label=None):\n",
    "        self.class_to_label = class_to_label or {}  # mutable defaults\n",
    "        self.label_to_class = {v: k for k, v in self.class_to_label.items()}\n",
    "        \n",
    "    def fit(self, ds, column):\n",
    "        self.classes = ds.unique(column=column)\n",
    "        self.class_to_label = {tag: i for i, tag in enumerate(self.classes)}\n",
    "        self.label_to_class = {v: k for k, v in self.class_to_label.items()}\n",
    "        return self\n",
    "\n",
    "    def convert_to_label(self, row, class_to_label):\n",
    "        if \"class\" in row:\n",
    "            row[\"label\"] = class_to_label[row[\"class\"]]\n",
    "        return row\n",
    "    \n",
    "    def transform(self, ds, concurrency=4, batch_size=64, num_gpus=1):\n",
    "        ds = ds.map(\n",
    "            self.convert_to_label, \n",
    "            fn_kwargs={\"class_to_label\": self.class_to_label},\n",
    "        )\n",
    "        ds = ds.map_batches(\n",
    "            EmbeddingGenerator,\n",
    "            fn_constructor_kwargs={\"model_id\": \"openai/clip-vit-base-patch32\"},\n",
    "            fn_kwargs={\"device\": \"cuda\"}, \n",
    "            concurrency=concurrency, \n",
    "            batch_size=batch_size,\n",
    "            num_gpus=num_gpus,\n",
    "            accelerator_type=\"A10G\",\n",
    "        )\n",
    "        ds = ds.drop_columns([\"image\"])\n",
    "        return ds\n",
    "\n",
    "    def save(self, fp):\n",
    "        with open(fp, \"w\") as f:\n",
    "            json.dump(self.class_to_label, f)"
   ]
  },
  {
   "cell_type": "code",
   "execution_count": null,
   "metadata": {},
   "outputs": [
    {
     "name": "stderr",
     "output_type": "stream",
     "text": [
      "2025-04-14 01:49:27,499\tINFO dataset.py:2809 -- Tip: Use `take_batch()` instead of `take() / show()` to return records in pandas or numpy batch format.\n"
     ]
    },
    {
     "name": "stderr",
     "output_type": "stream",
     "text": [
      "2025-04-14 01:49:27,512\tINFO streaming_executor.py:108 -- Starting execution of Dataset. Full logs are in /tmp/ray/session_2025-04-14_01-40-30_210331_55350/logs/ray-data\n",
      "2025-04-14 01:49:27,513\tINFO streaming_executor.py:109 -- Execution plan of Dataset: InputDataBuffer[Input] -> TaskPoolMapOperator[ListFiles] -> TaskPoolMapOperator[ReadFiles] -> TaskPoolMapOperator[Map(add_class)] -> AllToAllOperator[Aggregate] -> LimitOperator[limit=1]\n"
     ]
    },
    {
     "data": {
      "application/vnd.jupyter.widget-view+json": {
       "model_id": "5836e31d3fd5471ea8204d8ffd994d3c",
       "version_major": 2,
       "version_minor": 0
      },
      "text/plain": [
       "Running 0: 0.00 row [00:00, ? row/s]"
      ]
     },
     "metadata": {},
     "output_type": "display_data"
    },
    {
     "data": {
      "application/vnd.jupyter.widget-view+json": {
       "model_id": "81b19da0ae2a4d21ac5cb5c26a3a091d",
       "version_major": 2,
       "version_minor": 0
      },
      "text/plain": [
       "- ListFiles 1: 0.00 row [00:00, ? row/s]"
      ]
     },
     "metadata": {},
     "output_type": "display_data"
    },
    {
     "data": {
      "application/vnd.jupyter.widget-view+json": {
       "model_id": "d61585c9e7564e56ad942d2a73659236",
       "version_major": 2,
       "version_minor": 0
      },
      "text/plain": [
       "- ReadFiles 2: 0.00 row [00:00, ? row/s]"
      ]
     },
     "metadata": {},
     "output_type": "display_data"
    },
    {
     "data": {
      "application/vnd.jupyter.widget-view+json": {
       "model_id": "4d813508c4ee43f2be038adf0a647c7e",
       "version_major": 2,
       "version_minor": 0
      },
      "text/plain": [
       "- Map(add_class) 3: 0.00 row [00:00, ? row/s]"
      ]
     },
     "metadata": {},
     "output_type": "display_data"
    },
    {
     "data": {
      "application/vnd.jupyter.widget-view+json": {
       "model_id": "84074d36de3e4784b6a9f71d14d9d456",
       "version_major": 2,
       "version_minor": 0
      },
      "text/plain": [
       "- Aggregate 4: 0.00 row [00:00, ? row/s]"
      ]
     },
     "metadata": {},
     "output_type": "display_data"
    },
    {
     "data": {
      "application/vnd.jupyter.widget-view+json": {
       "model_id": "95a3002455004b72920ac19799bb29ac",
       "version_major": 2,
       "version_minor": 0
      },
      "text/plain": [
       "Sort Sample 5:   0%|          | 0.00/1.00 [00:00<?, ? row/s]"
      ]
     },
     "metadata": {},
     "output_type": "display_data"
    },
    {
     "data": {
      "application/vnd.jupyter.widget-view+json": {
       "model_id": "1dde05ee8c9a46eeaad49a83bd224660",
       "version_major": 2,
       "version_minor": 0
      },
      "text/plain": [
       "Shuffle Map 6:   0%|          | 0.00/1.00 [00:00<?, ? row/s]"
      ]
     },
     "metadata": {},
     "output_type": "display_data"
    },
    {
     "data": {
      "application/vnd.jupyter.widget-view+json": {
       "model_id": "3699604a34924bb198a34c012a173662",
       "version_major": 2,
       "version_minor": 0
      },
      "text/plain": [
       "Shuffle Reduce 7:   0%|          | 0.00/1.00 [00:00<?, ? row/s]"
      ]
     },
     "metadata": {},
     "output_type": "display_data"
    },
    {
     "data": {
      "application/vnd.jupyter.widget-view+json": {
       "model_id": "621c87f9772047cf9a36d38bfd350035",
       "version_major": 2,
       "version_minor": 0
      },
      "text/plain": [
       "- limit=1 8: 0.00 row [00:00, ? row/s]"
      ]
     },
     "metadata": {},
     "output_type": "display_data"
    },
    {
     "name": "stdout",
     "output_type": "stream",
     "text": [
      "\u001b[36m(ListFiles pid=29398, ip=10.0.181.54)\u001b[0m >>> [DBG] partition_files: before: pyarrow.Table\n",
      "\u001b[36m(ListFiles pid=29398, ip=10.0.181.54)\u001b[0m __path: string\n",
      "\u001b[36m(ListFiles pid=29398, ip=10.0.181.54)\u001b[0m __file_size: int64\n",
      "\u001b[36m(ListFiles pid=29398, ip=10.0.181.54)\u001b[0m ----\n",
      "\u001b[36m(ListFiles pid=29398, ip=10.0.181.54)\u001b[0m __path: [[\"doggos-dataset/train/basset/basset_10028.jpg\",\"doggos-dataset/train/basset/basset_10054.jpg\",\"doggos-dataset/train/basset/basset_10072.jpg\",\"doggos-dataset/train/basset/basset_10095.jpg\",\"doggos-dataset/train/basset/basset_10110.jpg\",...,\"doggos-dataset/train/yorkshire_terrier/yorkshire_terrier_889.jpg\",\"doggos-dataset/train/yorkshire_terrier/yorkshire_terrier_9618.jpg\",\"doggos-dataset/train/yorkshire_terrier/yorkshire_terrier_962.jpg\",\"doggos-dataset/train/yorkshire_terrier/yorkshire_terrier_967.jpg\",\"doggos-dataset/train/yorkshire_terrier/yorkshire_terrier_9739.jpg\"]]\n",
      "\u001b[36m(ListFiles pid=29398, ip=10.0.181.54)\u001b[0m __file_size: [[56919,36417,21093,23721,12511,...,19267,43746,29862,37592,32578]]\n",
      "\u001b[36m(ListFiles pid=29398, ip=10.0.181.54)\u001b[0m >>> [DBG] partition_files: after: pyarrow.Table\n",
      "\u001b[36m(ListFiles pid=29398, ip=10.0.181.54)\u001b[0m __path: string\n",
      "\u001b[36m(ListFiles pid=29398, ip=10.0.181.54)\u001b[0m __file_size: int64\n",
      "\u001b[36m(ListFiles pid=29398, ip=10.0.181.54)\u001b[0m ----\n",
      "\u001b[36m(ListFiles pid=29398, ip=10.0.181.54)\u001b[0m __path: [[\"doggos-dataset/train/pomeranian/pomeranian_6129.jpg\",\"doggos-dataset/train/collie/collie_15054.jpg\",\"doggos-dataset/train/miniature_schnauzer/miniature_schnauzer_4844.jpg\",\"doggos-dataset/train/shih_tzu/shih_tzu_1016.jpg\",\"doggos-dataset/train/malamute/malamute_17485.jpg\",...,\"doggos-dataset/train/malinois/malinois_5582.jpg\",\"doggos-dataset/train/collie/collie_15958.jpg\",\"doggos-dataset/train/malamute/malamute_11822.jpg\",\"doggos-dataset/train/rottweiler/rottweiler_4955.jpg\",\"doggos-dataset/train/pug/pug_12761.jpg\"]]\n",
      "\u001b[36m(ListFiles pid=29398, ip=10.0.181.54)\u001b[0m __file_size: [[17377,39927,54883,13468,44897,...,30108,29531,49878,12594,69387]]\n"
     ]
    },
    {
     "name": "stderr",
     "output_type": "stream",
     "text": [
      "2025-04-14 01:49:35,593\tINFO streaming_executor.py:108 -- Starting execution of Dataset. Full logs are in /tmp/ray/session_2025-04-14_01-40-30_210331_55350/logs/ray-data\n",
      "2025-04-14 01:49:35,593\tINFO streaming_executor.py:109 -- Execution plan of Dataset: InputDataBuffer[Input] -> TaskPoolMapOperator[ListFiles] -> TaskPoolMapOperator[ReadFiles] -> TaskPoolMapOperator[Map(add_class)->Map(Preprocessor.convert_to_label)] -> ActorPoolMapOperator[MapBatches(EmbeddingGenerator)] -> TaskPoolMapOperator[MapBatches(drop_columns)] -> LimitOperator[limit=1]\n"
     ]
    },
    {
     "data": {
      "application/vnd.jupyter.widget-view+json": {
       "model_id": "59e32233a78248e0a3b5ee2b1efa0d34",
       "version_major": 2,
       "version_minor": 0
      },
      "text/plain": [
       "Running 0: 0.00 row [00:00, ? row/s]"
      ]
     },
     "metadata": {},
     "output_type": "display_data"
    },
    {
     "data": {
      "application/vnd.jupyter.widget-view+json": {
       "model_id": "61ac1936c35046b39cc3bca66c61e4aa",
       "version_major": 2,
       "version_minor": 0
      },
      "text/plain": [
       "- ListFiles 1: 0.00 row [00:00, ? row/s]"
      ]
     },
     "metadata": {},
     "output_type": "display_data"
    },
    {
     "data": {
      "application/vnd.jupyter.widget-view+json": {
       "model_id": "1a4ffba7f2c74ce192c6db1631a80095",
       "version_major": 2,
       "version_minor": 0
      },
      "text/plain": [
       "- ReadFiles 2: 0.00 row [00:00, ? row/s]"
      ]
     },
     "metadata": {},
     "output_type": "display_data"
    },
    {
     "data": {
      "application/vnd.jupyter.widget-view+json": {
       "model_id": "361a94f9797f4f6abb42e33ff17f3373",
       "version_major": 2,
       "version_minor": 0
      },
      "text/plain": [
       "- Map(add_class)->Map(Preprocessor.convert_to_label) 3: 0.00 row [00:00, ? row/s]"
      ]
     },
     "metadata": {},
     "output_type": "display_data"
    },
    {
     "data": {
      "application/vnd.jupyter.widget-view+json": {
       "model_id": "0b1dedf51dc844a285e1216118b5e6a7",
       "version_major": 2,
       "version_minor": 0
      },
      "text/plain": [
       "- MapBatches(EmbeddingGenerator) 4: 0.00 row [00:00, ? row/s]"
      ]
     },
     "metadata": {},
     "output_type": "display_data"
    },
    {
     "data": {
      "application/vnd.jupyter.widget-view+json": {
       "model_id": "461966f6a7454ac992f66b4403717539",
       "version_major": 2,
       "version_minor": 0
      },
      "text/plain": [
       "- MapBatches(drop_columns) 5: 0.00 row [00:00, ? row/s]"
      ]
     },
     "metadata": {},
     "output_type": "display_data"
    },
    {
     "data": {
      "application/vnd.jupyter.widget-view+json": {
       "model_id": "68ac474a831f4dfab5beecdc18e582e4",
       "version_major": 2,
       "version_minor": 0
      },
      "text/plain": [
       "- limit=1 6: 0.00 row [00:00, ? row/s]"
      ]
     },
     "metadata": {},
     "output_type": "display_data"
    },
    {
     "name": "stdout",
     "output_type": "stream",
     "text": [
      "\u001b[36m(ListFiles pid=29604, ip=10.0.181.54)\u001b[0m >>> [DBG] partition_files: before: pyarrow.Table\n",
      "\u001b[36m(ListFiles pid=29604, ip=10.0.181.54)\u001b[0m __path: string\u001b[32m [repeated 2x across cluster] (Ray deduplicates logs by default. Set RAY_DEDUP_LOGS=0 to disable log deduplication, or see https://docs.ray.io/en/master/ray-observability/user-guides/configure-logging.html#log-deduplication for more options.)\u001b[0m\n",
      "\u001b[36m(ListFiles pid=29604, ip=10.0.181.54)\u001b[0m __file_size: [[28824,25075,43782,36588,34643,...,58921,35174,34144,37767,48837]]\u001b[32m [repeated 4x across cluster]\u001b[0m\n",
      "\u001b[36m(ListFiles pid=29604, ip=10.0.181.54)\u001b[0m ----\u001b[32m [repeated 2x across cluster]\u001b[0m\n",
      "\u001b[36m(ListFiles pid=29604, ip=10.0.181.54)\u001b[0m __path: [[\"doggos-dataset/train/basset/basset_9585.jpg\",\"doggos-dataset/train/border_collie/border_collie_1128.jpg\",\"doggos-dataset/train/malinois/malinois_1572.jpg\",\"doggos-dataset/train/german_shepherd/german_shepherd_2058.jpg\",\"doggos-dataset/train/basset/basset_9025.jpg\",...,\"doggos-dataset/train/bernese_mountain_dog/bernese_mountain_dog_997.jpg\",\"doggos-dataset/train/siberian_husky/siberian_husky_3651.jpg\",\"doggos-dataset/train/doberman/doberman_3709.jpg\",\"doggos-dataset/train/yorkshire_terrier/yorkshire_terrier_4399.jpg\",\"doggos-dataset/train/chow/chow_13415.jpg\"]]\u001b[32m [repeated 2x across cluster]\u001b[0m\n",
      "\u001b[36m(ListFiles pid=29604, ip=10.0.181.54)\u001b[0m >>> [DBG] partition_files: after: pyarrow.Table\n"
     ]
    },
    {
     "data": {
      "text/plain": [
       "[{'path': 'doggos-dataset/train/miniature_schnauzer/miniature_schnauzer_2002.jpg',\n",
       "  'class': 'miniature_schnauzer',\n",
       "  'label': 7,\n",
       "  'embedding': array([-7.06754327e-02,  2.51971930e-02, -3.26442569e-01,  4.67566788e-01,\n",
       "          1.80030555e-01, -2.50740170e-01,  2.10370451e-01, -7.69520819e-01,\n",
       "          2.83572942e-01, -2.97332555e-03,  9.81029868e-03,  2.59711444e-01,\n",
       "          1.82593800e-02,  3.60947311e-01,  1.09530643e-01,  2.71871015e-02,\n",
       "          9.27717566e-01,  3.04720819e-01,  1.02197886e-01, -1.69545040e-01,\n",
       "         -5.25379837e-01,  9.96874198e-02,  5.76953769e-01, -3.26453239e-01,\n",
       "         -3.95372301e-01,  1.10593930e-01,  3.30395520e-01,  6.34988472e-02,\n",
       "          7.89234266e-02,  9.23338234e-02,  6.88927323e-02,  1.05347522e-01,\n",
       "         -1.82498470e-01,  2.40195870e-01,  5.42487979e-01, -2.31930554e-01,\n",
       "          3.45748782e-01, -2.38964498e-01, -3.73868763e-01,  1.13795078e+00,\n",
       "         -4.64894265e-01,  3.32710415e-01,  5.30411303e-01, -2.54910439e-02,\n",
       "          2.78890878e-01,  1.96488485e-01,  9.11877900e-02,  9.21773091e-02,\n",
       "         -7.16098696e-02,  4.21432555e-01,  3.40859890e-01,  2.39551425e-01,\n",
       "          2.06154406e-01,  1.85273752e-01,  2.00796369e-02,  2.35633075e-01,\n",
       "          2.45630085e-01, -1.02996677e-01, -1.98159486e-01, -8.87864754e-02,\n",
       "          5.62737584e-01, -1.08484372e-01,  1.06859595e-01,  3.56354535e-01,\n",
       "          2.23155186e-01, -2.97324955e-02,  5.78882813e-01,  7.84216702e-01,\n",
       "          1.65510103e-02, -1.97490051e-01,  3.62174809e-01,  3.61894131e-01,\n",
       "          3.32903683e-01,  6.28920972e-01,  2.36327022e-01, -1.27145439e-01,\n",
       "          1.84257388e-01, -4.20351088e-01,  2.18611062e-01,  2.21566528e-01,\n",
       "          8.94383639e-02, -7.82289445e-01, -2.30686069e-01, -4.09852386e-01,\n",
       "          2.78138101e-01,  1.32813811e-01,  1.23185277e+00, -2.77863562e-01,\n",
       "          1.47407055e-01, -1.49484038e-01,  3.65485810e-02, -2.79545486e-01,\n",
       "         -6.99672222e+00,  1.57110974e-01,  6.06211610e-02,  1.95386380e-01,\n",
       "          2.11046457e-01, -2.15260237e-01, -7.55510867e-01,  4.84870911e-01,\n",
       "          2.81237423e-01, -2.67766058e-01, -3.35305259e-02,  1.91219747e-01,\n",
       "          8.27452660e-01, -3.92433763e-01,  1.34943664e+00, -1.36911273e-01,\n",
       "         -6.42418489e-02, -2.16708928e-01, -2.74696082e-01, -1.17595720e+00,\n",
       "         -1.03344470e-01, -2.91713357e-01,  1.15186110e-01,  6.87949210e-02,\n",
       "         -2.97360182e-01, -4.46172118e-01,  2.85567969e-01,  8.04508924e-02,\n",
       "          3.31428707e-01, -4.80435848e-01, -8.36559609e-02, -2.67254472e-01,\n",
       "          1.07804313e-01, -9.46581006e-01, -5.79167008e-01,  3.21626037e-01,\n",
       "          1.38966843e-01, -1.13519728e-01,  2.80208468e-01, -1.55153260e-01,\n",
       "          2.41319127e-02,  8.30738783e-01, -5.40141225e-01,  1.54452622e-01,\n",
       "         -2.74243683e-01,  5.42867184e-02, -7.85032958e-02,  4.01994109e-01,\n",
       "         -1.12673603e-01, -2.40986735e-01,  8.75016451e-02,  1.22405201e-01,\n",
       "         -1.50036544e-01,  4.66114014e-01,  4.51729685e-01, -1.46485791e-01,\n",
       "          1.41737133e-01, -8.28649104e-02,  8.27438012e-02,  4.13732409e-01,\n",
       "         -1.03195858e+00, -4.12844986e-01, -2.35590577e-01,  1.16489604e-02,\n",
       "          2.32550889e-01, -3.78336191e-01,  3.78731042e-02, -3.94061767e-02,\n",
       "          1.83118254e-01,  6.54016621e-03,  1.76491395e-01,  1.35460824e-01,\n",
       "          5.38608469e-02, -1.60974830e-01, -2.48330921e-01, -2.57515237e-02,\n",
       "         -7.45237172e-02,  5.84539473e-01,  1.39144391e-01,  5.49129248e-01,\n",
       "          4.68316898e-02, -1.29119679e-01, -8.34949762e-02, -3.77651453e-01,\n",
       "          7.14349449e-01,  2.80371398e-01,  4.03634071e-01,  1.84443086e-01,\n",
       "         -4.69039902e-02,  4.18416351e-01,  8.07075053e-02, -2.20789388e-02,\n",
       "          1.43950768e-02, -1.53365240e-01,  1.05722338e-01,  3.36192995e-01,\n",
       "          2.29456604e-01, -3.72226298e-01,  2.02468768e-01, -8.57019424e-02,\n",
       "         -1.72236755e-01, -1.04394779e-01,  2.23804057e-01,  1.81821167e-01,\n",
       "          2.82795131e-02, -6.01188421e-01, -1.30913818e+00, -6.54061675e-01,\n",
       "         -1.53671578e-01, -4.20111641e-02, -2.61407852e-01,  1.24344230e-02,\n",
       "         -2.19625056e-01, -3.98456067e-01,  1.92480087e-01, -1.10604301e-01,\n",
       "          1.43145341e-02,  3.08262825e-01, -5.88520110e-01,  4.68685925e-01,\n",
       "         -8.73388276e-02,  1.06831819e-01, -4.16203767e-01, -1.18923649e-01,\n",
       "          1.06520295e-01,  1.87615007e-01,  1.50787318e+00, -4.20337021e-01,\n",
       "          6.93537712e-01,  2.30365559e-01, -8.61927420e-02,  3.50416414e-02,\n",
       "          3.10394913e-04,  3.70794237e-01,  1.55667305e-01, -3.65141451e-01,\n",
       "          1.28359929e-01,  1.26748323e-01,  3.77255902e-02, -8.49996358e-02,\n",
       "         -5.25997043e-01,  6.63410127e-01,  9.93859023e-03, -6.41912743e-02,\n",
       "         -6.12704217e-01,  4.57341224e-02,  2.21967310e-01, -4.35488671e-02,\n",
       "         -2.34692693e-02,  4.33028251e-01,  1.12899743e-01,  1.12272114e-01,\n",
       "          1.61155850e-01,  6.41289353e-01,  3.95474136e-01, -5.88976860e-01,\n",
       "          2.09461659e-01,  2.61577517e-01,  2.18698591e-01,  2.66659141e-01,\n",
       "          5.53129986e-02,  1.68485045e-01,  2.24349886e-01, -3.49434376e-01,\n",
       "         -3.27620745e-01,  1.70446023e-01, -2.86270678e-03, -3.60490710e-01,\n",
       "         -2.10497454e-01,  1.89720079e-01,  4.01689351e-01, -7.09863186e-01,\n",
       "          3.45040202e-01, -4.00747567e-01,  9.92278680e-02,  5.75928353e-02,\n",
       "         -1.63583890e-01,  1.85471065e-02, -8.64103585e-02,  4.27476317e-02,\n",
       "          3.98413807e-01,  3.73985529e-01, -2.36830264e-01,  2.50512660e-02,\n",
       "         -4.11308222e-02, -1.80646032e-02, -1.23401500e-01,  2.30235755e-02,\n",
       "          1.62853479e-01, -1.55448005e-01, -4.66648608e-01,  2.29278117e-01,\n",
       "         -2.95543015e-01,  2.00151607e-01,  2.26107627e-01,  2.18140811e-01,\n",
       "          7.59570301e-02,  1.61242411e-01,  9.95887220e-02, -5.93057983e-02,\n",
       "          1.48219809e-01, -1.25632241e-01, -1.28481746e-01, -8.52062330e-02,\n",
       "          1.06603801e-02,  1.27894968e-01, -2.25053370e-01,  4.38859761e-02,\n",
       "         -1.83265463e-01,  3.44323188e-01, -1.91818684e-01,  5.84244490e-01,\n",
       "          2.09650695e-01, -1.25319347e-01,  8.65136310e-02,  3.51757646e-01,\n",
       "          3.94759774e-02, -8.14097077e-02,  6.24879673e-02,  3.04606140e-01,\n",
       "          8.29199195e-01,  2.60760248e-01, -3.96404803e-01,  3.77983987e-01,\n",
       "          5.26710033e-01,  7.86278844e-01, -8.75365809e-02, -5.63712895e-01,\n",
       "          3.38547885e-01,  1.70569265e+00, -2.63498813e-01,  9.95500535e-02,\n",
       "          4.02280331e-01,  9.27183703e-02, -5.53133413e-02,  6.19791031e-01,\n",
       "          2.63613276e-02, -1.46991327e-01, -3.66792977e-02,  1.37714460e-01,\n",
       "          4.41184044e-01, -3.04229826e-01, -3.76995564e-01,  2.72477716e-01,\n",
       "         -1.79902136e-01, -1.11685917e-02,  6.00405186e-02, -9.67612416e-02,\n",
       "         -3.62120807e-01, -2.42552444e-01, -8.99424329e-02,  2.74715364e-01,\n",
       "          2.06698075e-01, -1.11297980e-01,  1.51564747e-01,  5.36307931e-01,\n",
       "         -2.02545524e-03, -2.84957662e-02, -6.46945089e-02, -1.78407788e-01,\n",
       "          1.35996699e-01, -8.49343687e-02,  2.70280689e-02,  8.03313315e-01,\n",
       "         -2.69115657e-01, -3.89180183e-01,  9.69462320e-02,  6.28398836e-01,\n",
       "          4.55911085e-02,  1.25806108e-02,  2.06353664e-02, -3.89331222e-01,\n",
       "         -9.53486443e-01, -1.36443496e-01, -1.72208786e-01, -5.26696503e-01,\n",
       "          3.71270239e-01, -1.56742081e-01, -1.46681800e-01,  9.83468816e-02,\n",
       "          4.11718905e-01,  1.87674880e-01,  4.50595796e-01, -1.02366254e-01,\n",
       "          1.14846790e+00,  2.72420645e-01, -5.93565822e-01,  2.90576279e-01,\n",
       "          6.02963746e-01, -7.51238644e-01, -9.70653892e-02,  4.51774299e-01,\n",
       "          1.47081062e-01, -5.76833546e-01, -4.55599874e-01, -1.81161493e-01,\n",
       "          5.84860682e-01, -1.41822934e+00, -3.00253749e-01, -1.03558445e+00,\n",
       "         -8.21251869e-02,  1.53601646e-01,  1.61446825e-01,  2.71962881e-01,\n",
       "          2.21236855e-01, -1.34260014e-01, -2.13575348e-01, -8.15933943e-02,\n",
       "         -5.71228750e-02,  1.22910246e-01,  1.00144410e+00,  3.82541269e-01,\n",
       "         -1.83068693e-01,  1.70659050e-02,  2.70701200e-01, -3.10765386e-01,\n",
       "          3.24171066e-01,  1.75392687e-01,  4.70915973e-01,  3.55543673e-01,\n",
       "         -2.98980594e-01,  3.42280000e-01, -1.35846436e-01,  6.03662729e-02,\n",
       "         -2.49716789e-02, -4.82236817e-02,  3.22519183e-01, -5.73623836e-01,\n",
       "         -5.77082485e-03,  6.21759892e-01, -2.00287700e-02,  4.59718496e-01,\n",
       "          4.48334098e-01, -5.46005368e-01,  3.02973390e-03, -2.36718357e-01,\n",
       "          1.56204414e+00,  9.42782983e-02, -2.80644953e-01,  1.27957642e-01,\n",
       "         -1.82821155e-02,  3.18179846e-01,  4.45008397e-01, -9.13974717e-02,\n",
       "         -2.33544216e-01,  4.88320440e-01,  1.58213034e-01, -3.36046219e-01,\n",
       "          5.66146970e-02, -9.38193798e-02, -3.98249403e-02, -3.05246174e-01,\n",
       "          6.94005191e-02, -2.98383296e-01, -2.79985368e-01, -4.19178396e-01,\n",
       "         -3.88274342e-03, -2.19724387e-01,  5.21451160e-02, -1.88749522e-01,\n",
       "         -1.04997449e-01,  7.52963364e-01, -3.86990398e-01, -3.69665027e-01,\n",
       "          3.67319614e-01,  5.94619989e-01,  9.66945216e-02,  9.58502769e-01,\n",
       "         -3.06642894e-02, -9.03385431e-02, -4.04928118e-01, -2.46127427e-01,\n",
       "          3.06872547e-01,  4.21660095e-01, -7.21036911e-01, -3.23073566e-01,\n",
       "         -2.44385704e-01,  4.08559293e-01,  1.27752870e-01, -1.08124107e-01,\n",
       "         -2.97360241e-01,  3.18241000e-01, -2.48742491e-01, -4.70989272e-02,\n",
       "          2.07635701e-01,  2.39986092e-01, -6.18735909e-01, -3.29070598e-01,\n",
       "          3.02801669e-01, -1.46496832e-01, -3.16323459e-01,  1.85220502e-02,\n",
       "         -2.79553652e-01,  2.35679358e-01,  1.30259722e-01, -2.71060586e-01,\n",
       "         -1.42237410e-01,  1.07873127e-01, -5.62791109e-01, -1.94756627e-01,\n",
       "          9.53933150e-02, -2.06788272e-01, -1.11500081e-02, -1.48330200e-02,\n",
       "         -5.45290336e-02, -3.89812738e-02, -4.80313033e-01, -2.57640518e-02,\n",
       "         -1.68451935e-01, -2.24571884e-01, -7.04349875e-02,  4.67214584e-01,\n",
       "          2.04465613e-01,  4.19389158e-01, -2.29275972e-01,  4.16476488e-01,\n",
       "         -2.21255928e-01,  1.40831506e+00,  4.01756674e-01,  2.06455082e-01],\n",
       "        dtype=float32)}]"
      ]
     },
     "execution_count": null,
     "metadata": {},
     "output_type": "execute_result"
    }
   ],
   "source": [
    "# Preprocess\n",
    "preprocessor = Preprocessor()\n",
    "preprocessor = preprocessor.fit(train_ds, column=\"class\")\n",
    "train_ds = preprocessor.transform(ds=train_ds)\n",
    "val_ds = preprocessor.transform(ds=val_ds)\n",
    "train_ds.take(1)"
   ]
  },
  {
   "cell_type": "markdown",
   "metadata": {},
   "source": [
    "<div class=\"alert alert-block alert\"> <b> Data Processing</b> \n",
    "\n",
    "Be sure to checkout this extensive guide on [data loading and preprocessing](https://docs.ray.io/en/latest/train/user-guides/data-loading-preprocessing.html) for the last-mile preprocessing we'll need to do prior to training our models. However, Ray Data does support performant joins, filters, aggregations, etc. for the more structure data processing your workloads may need."
   ]
  },
  {
   "cell_type": "markdown",
   "metadata": {},
   "source": [
    "<div class=\"alert alert-block alert\"> <b> Store often, Save compute</b> \n",
    "\n",
    "We're going to now store our preprocessed data into shared cloud storage because we want to:\n",
    "- save a record of what this preprocessed data looks like\n",
    "- avoid triggering the entire preprocessing for each batch our model will process\n",
    "- don't want to [`materialize`](https://docs.ray.io/en/latest/data/api/doc/ray.data.Dataset.materialize.html) the preprocessed data either (shouldn't force large data to fit in memory)"
   ]
  },
  {
   "cell_type": "code",
   "execution_count": null,
   "metadata": {},
   "outputs": [],
   "source": [
    "import shutil"
   ]
  },
  {
   "cell_type": "code",
   "execution_count": null,
   "metadata": {},
   "outputs": [
    {
     "name": "stderr",
     "output_type": "stream",
     "text": [
      "2025-04-14 01:49:50,690\tINFO streaming_executor.py:108 -- Starting execution of Dataset. Full logs are in /tmp/ray/session_2025-04-14_01-40-30_210331_55350/logs/ray-data\n",
      "2025-04-14 01:49:50,691\tINFO streaming_executor.py:109 -- Execution plan of Dataset: InputDataBuffer[Input] -> TaskPoolMapOperator[ListFiles] -> TaskPoolMapOperator[ReadFiles] -> TaskPoolMapOperator[Map(add_class)->Map(Preprocessor.convert_to_label)] -> ActorPoolMapOperator[MapBatches(EmbeddingGenerator)] -> TaskPoolMapOperator[MapBatches(drop_columns)->Write]\n"
     ]
    },
    {
     "data": {
      "application/vnd.jupyter.widget-view+json": {
       "model_id": "dd6c8f9fa8f74c0796450a69d338bb1b",
       "version_major": 2,
       "version_minor": 0
      },
      "text/plain": [
       "Running 0: 0.00 row [00:00, ? row/s]"
      ]
     },
     "metadata": {},
     "output_type": "display_data"
    },
    {
     "data": {
      "application/vnd.jupyter.widget-view+json": {
       "model_id": "32d588dd414649878575e8ead073ca50",
       "version_major": 2,
       "version_minor": 0
      },
      "text/plain": [
       "- ListFiles 1: 0.00 row [00:00, ? row/s]"
      ]
     },
     "metadata": {},
     "output_type": "display_data"
    },
    {
     "data": {
      "application/vnd.jupyter.widget-view+json": {
       "model_id": "ceff8b44275f4b0d88a021ebf70aae03",
       "version_major": 2,
       "version_minor": 0
      },
      "text/plain": [
       "- ReadFiles 2: 0.00 row [00:00, ? row/s]"
      ]
     },
     "metadata": {},
     "output_type": "display_data"
    },
    {
     "data": {
      "application/vnd.jupyter.widget-view+json": {
       "model_id": "ce1f4391a7504ffd9242cbab45e17cac",
       "version_major": 2,
       "version_minor": 0
      },
      "text/plain": [
       "- Map(add_class)->Map(Preprocessor.convert_to_label) 3: 0.00 row [00:00, ? row/s]"
      ]
     },
     "metadata": {},
     "output_type": "display_data"
    },
    {
     "data": {
      "application/vnd.jupyter.widget-view+json": {
       "model_id": "46eb9b7b36d84d188ae93903ebec5d25",
       "version_major": 2,
       "version_minor": 0
      },
      "text/plain": [
       "- MapBatches(EmbeddingGenerator) 4: 0.00 row [00:00, ? row/s]"
      ]
     },
     "metadata": {},
     "output_type": "display_data"
    },
    {
     "data": {
      "application/vnd.jupyter.widget-view+json": {
       "model_id": "2efdfbcb766c49c89f104e78485c414d",
       "version_major": 2,
       "version_minor": 0
      },
      "text/plain": [
       "- MapBatches(drop_columns)->Write 5: 0.00 row [00:00, ? row/s]"
      ]
     },
     "metadata": {},
     "output_type": "display_data"
    },
    {
     "name": "stdout",
     "output_type": "stream",
     "text": [
      "\u001b[36m(ListFiles pid=29656, ip=10.0.181.54)\u001b[0m >>> [DBG] partition_files: before: pyarrow.Table\n",
      "\u001b[36m(ListFiles pid=29656, ip=10.0.181.54)\u001b[0m __path: string\n",
      "\u001b[36m(ListFiles pid=29656, ip=10.0.181.54)\u001b[0m __file_size: int64\n",
      "\u001b[36m(ListFiles pid=29656, ip=10.0.181.54)\u001b[0m ----\n",
      "\u001b[36m(ListFiles pid=29656, ip=10.0.181.54)\u001b[0m __path: [[\"doggos-dataset/train/basset/basset_10028.jpg\",\"doggos-dataset/train/basset/basset_10054.jpg\",\"doggos-dataset/train/basset/basset_10072.jpg\",\"doggos-dataset/train/basset/basset_10095.jpg\",\"doggos-dataset/train/basset/basset_10110.jpg\",...,\"doggos-dataset/train/yorkshire_terrier/yorkshire_terrier_889.jpg\",\"doggos-dataset/train/yorkshire_terrier/yorkshire_terrier_9618.jpg\",\"doggos-dataset/train/yorkshire_terrier/yorkshire_terrier_962.jpg\",\"doggos-dataset/train/yorkshire_terrier/yorkshire_terrier_967.jpg\",\"doggos-dataset/train/yorkshire_terrier/yorkshire_terrier_9739.jpg\"]]\n",
      "\u001b[36m(ListFiles pid=29656, ip=10.0.181.54)\u001b[0m __file_size: [[56919,36417,21093,23721,12511,...,19267,43746,29862,37592,32578]]\n",
      "\u001b[36m(ListFiles pid=29656, ip=10.0.181.54)\u001b[0m >>> [DBG] partition_files: after: pyarrow.Table\n",
      "\u001b[36m(ListFiles pid=29656, ip=10.0.181.54)\u001b[0m __path: string\n",
      "\u001b[36m(ListFiles pid=29656, ip=10.0.181.54)\u001b[0m __file_size: int64\n",
      "\u001b[36m(ListFiles pid=29656, ip=10.0.181.54)\u001b[0m ----\n",
      "\u001b[36m(ListFiles pid=29656, ip=10.0.181.54)\u001b[0m __path: [[\"doggos-dataset/train/collie/collie_873.jpg\",\"doggos-dataset/train/cocker_spaniel/cocker_spaniel_10180.jpg\",\"doggos-dataset/train/eskimo_dog/eskimo_dog_2608.jpg\",\"doggos-dataset/train/great_pyrenees/great_pyrenees_2746.jpg\",\"doggos-dataset/train/collie/collie_2471.jpg\",...,\"doggos-dataset/train/siberian_husky/siberian_husky_10273.jpg\",\"doggos-dataset/train/boxer/boxer_268.jpg\",\"doggos-dataset/train/border_collie/border_collie_1506.jpg\",\"doggos-dataset/train/border_collie/border_collie_1936.jpg\",\"doggos-dataset/train/miniature_schnauzer/miniature_schnauzer_5869.jpg\"]]\n",
      "\u001b[36m(ListFiles pid=29656, ip=10.0.181.54)\u001b[0m __file_size: [[12220,25349,88111,50452,32415,...,65535,60472,26546,23790,26165]]\n"
     ]
    },
    {
     "name": "stderr",
     "output_type": "stream",
     "text": [
      "2025-04-14 01:50:05,938\tINFO dataset.py:4178 -- Data sink Parquet finished. 2880 rows and 5.9MB data written.\n",
      "2025-04-14 01:50:05,965\tINFO streaming_executor.py:108 -- Starting execution of Dataset. Full logs are in /tmp/ray/session_2025-04-14_01-40-30_210331_55350/logs/ray-data\n",
      "2025-04-14 01:50:05,966\tINFO streaming_executor.py:109 -- Execution plan of Dataset: InputDataBuffer[Input] -> TaskPoolMapOperator[ListFiles] -> TaskPoolMapOperator[ReadFiles] -> TaskPoolMapOperator[Map(add_class)->Map(Preprocessor.convert_to_label)] -> ActorPoolMapOperator[MapBatches(EmbeddingGenerator)] -> TaskPoolMapOperator[MapBatches(drop_columns)->Write]\n"
     ]
    },
    {
     "data": {
      "application/vnd.jupyter.widget-view+json": {
       "model_id": "e6d449ef912d4e9789c69d23c7797f40",
       "version_major": 2,
       "version_minor": 0
      },
      "text/plain": [
       "Running 0: 0.00 row [00:00, ? row/s]"
      ]
     },
     "metadata": {},
     "output_type": "display_data"
    },
    {
     "data": {
      "application/vnd.jupyter.widget-view+json": {
       "model_id": "ffe7017899174e67982937ff03de9057",
       "version_major": 2,
       "version_minor": 0
      },
      "text/plain": [
       "- ListFiles 1: 0.00 row [00:00, ? row/s]"
      ]
     },
     "metadata": {},
     "output_type": "display_data"
    },
    {
     "data": {
      "application/vnd.jupyter.widget-view+json": {
       "model_id": "dd07217c366b4140b119eac0337e5297",
       "version_major": 2,
       "version_minor": 0
      },
      "text/plain": [
       "- ReadFiles 2: 0.00 row [00:00, ? row/s]"
      ]
     },
     "metadata": {},
     "output_type": "display_data"
    },
    {
     "data": {
      "application/vnd.jupyter.widget-view+json": {
       "model_id": "eaea2103ab24446f9aca4d51628a6e82",
       "version_major": 2,
       "version_minor": 0
      },
      "text/plain": [
       "- Map(add_class)->Map(Preprocessor.convert_to_label) 3: 0.00 row [00:00, ? row/s]"
      ]
     },
     "metadata": {},
     "output_type": "display_data"
    },
    {
     "data": {
      "application/vnd.jupyter.widget-view+json": {
       "model_id": "eb129f8fa54142d9ae4f2a3abb7e7eef",
       "version_major": 2,
       "version_minor": 0
      },
      "text/plain": [
       "- MapBatches(EmbeddingGenerator) 4: 0.00 row [00:00, ? row/s]"
      ]
     },
     "metadata": {},
     "output_type": "display_data"
    },
    {
     "data": {
      "application/vnd.jupyter.widget-view+json": {
       "model_id": "7eef5748367b4bfba5e4c114806596d9",
       "version_major": 2,
       "version_minor": 0
      },
      "text/plain": [
       "- MapBatches(drop_columns)->Write 5: 0.00 row [00:00, ? row/s]"
      ]
     },
     "metadata": {},
     "output_type": "display_data"
    },
    {
     "name": "stderr",
     "output_type": "stream",
     "text": [
      "2025-04-14 01:50:17,904\tINFO dataset.py:4178 -- Data sink Parquet finished. 720 rows and 1.5MB data written.\n"
     ]
    }
   ],
   "source": [
    "# Write processed data to cloud storage\n",
    "preprocessed_data_path = os.path.join(\"/mnt/user_storage\", \"doggos/preprocessed_data\")\n",
    "if os.path.exists(preprocessed_data_path):  # clean up\n",
    "    shutil.rmtree(preprocessed_data_path)\n",
    "preprocessed_train_path = os.path.join(preprocessed_data_path, \"preprocessed_train\")\n",
    "preprocessed_val_path = os.path.join(preprocessed_data_path, \"preprocessed_val\")\n",
    "train_ds.write_parquet(preprocessed_train_path)\n",
    "val_ds.write_parquet(preprocessed_val_path)"
   ]
  },
  {
   "cell_type": "markdown",
   "metadata": {},
   "source": [
    "### Model"
   ]
  },
  {
   "cell_type": "markdown",
   "metadata": {},
   "source": [
    "Let's define our model -- a simple two layer neural net with softmax layer to predict class probabilities. You'll notice that it's all just base PyTorch and nothing else."
   ]
  },
  {
   "cell_type": "code",
   "execution_count": null,
   "metadata": {},
   "outputs": [],
   "source": [
    "import json\n",
    "from pathlib import Path\n",
    "import torch\n",
    "import torch.nn as nn\n",
    "import torch.nn.functional as F"
   ]
  },
  {
   "cell_type": "code",
   "execution_count": null,
   "metadata": {},
   "outputs": [],
   "source": [
    "class ClassificationModel(torch.nn.Module):\n",
    "    def __init__(self, embedding_dim, hidden_dim, dropout_p, num_classes):\n",
    "        super().__init__()\n",
    "        # Hyperparameters\n",
    "        self.embedding_dim = embedding_dim\n",
    "        self.hidden_dim = hidden_dim\n",
    "        self.dropout_p = dropout_p\n",
    "        self.num_classes = num_classes\n",
    "\n",
    "        # Define layers\n",
    "        self.fc1 = nn.Linear(embedding_dim, hidden_dim)\n",
    "        self.batch_norm = nn.BatchNorm1d(hidden_dim)\n",
    "        self.relu = nn.ReLU()\n",
    "        self.dropout = nn.Dropout(dropout_p)\n",
    "        self.fc2 = nn.Linear(hidden_dim, num_classes)\n",
    "\n",
    "    def forward(self, batch):\n",
    "        z = self.fc1(batch[\"embedding\"])\n",
    "        z = self.batch_norm(z)\n",
    "        z = self.relu(z)\n",
    "        z = self.dropout(z)\n",
    "        z = self.fc2(z)\n",
    "        return z\n",
    "\n",
    "    @torch.inference_mode()\n",
    "    def predict(self, batch):\n",
    "        z = self(batch)\n",
    "        y_pred = torch.argmax(z, dim=1).cpu().numpy()\n",
    "        return y_pred\n",
    "\n",
    "    @torch.inference_mode()\n",
    "    def predict_probabilities(self, batch):\n",
    "        z = self(batch)\n",
    "        y_probs = F.softmax(z, dim=1).cpu().numpy()\n",
    "        return y_probs\n",
    "\n",
    "    def save(self, dp):\n",
    "        Path(dp).mkdir(parents=True, exist_ok=True)\n",
    "        with open(Path(dp, \"args.json\"), \"w\") as fp:\n",
    "            json.dump({\n",
    "                \"embedding_dim\": self.embedding_dim,\n",
    "                \"hidden_dim\": self.hidden_dim,\n",
    "                \"dropout_p\": self.dropout_p,\n",
    "                \"num_classes\": self.num_classes,\n",
    "            }, fp, indent=4)\n",
    "        torch.save(self.state_dict(), Path(dp, \"model.pt\"))\n",
    "\n",
    "    @classmethod\n",
    "    def load(cls, args_fp, state_dict_fp, device=\"cpu\"):\n",
    "        with open(args_fp, \"r\") as fp:\n",
    "            model = cls(**json.load(fp))\n",
    "        model.load_state_dict(torch.load(state_dict_fp, map_location=device))\n",
    "        return model"
   ]
  },
  {
   "cell_type": "code",
   "execution_count": null,
   "metadata": {},
   "outputs": [
    {
     "name": "stdout",
     "output_type": "stream",
     "text": [
      "ClassificationModel(\n",
      "  (fc1): Linear(in_features=512, out_features=256, bias=True)\n",
      "  (batch_norm): BatchNorm1d(256, eps=1e-05, momentum=0.1, affine=True, track_running_stats=True)\n",
      "  (relu): ReLU()\n",
      "  (dropout): Dropout(p=0.3, inplace=False)\n",
      "  (fc2): Linear(in_features=256, out_features=36, bias=True)\n",
      ")\n"
     ]
    }
   ],
   "source": [
    "# Initialize model\n",
    "num_classes = len(preprocessor.classes)\n",
    "model = ClassificationModel(\n",
    "    embedding_dim=512, \n",
    "    hidden_dim=256, \n",
    "    dropout_p=0.3, \n",
    "    num_classes=num_classes,\n",
    ")\n",
    "print (model)"
   ]
  },
  {
   "cell_type": "markdown",
   "metadata": {},
   "source": [
    "### Batching"
   ]
  },
  {
   "cell_type": "markdown",
   "metadata": {},
   "source": [
    "Let's take a look at a sample batch of data and ensure that tensors of the proper data type."
   ]
  },
  {
   "cell_type": "code",
   "execution_count": null,
   "metadata": {},
   "outputs": [],
   "source": [
    "from ray.train.torch import get_device"
   ]
  },
  {
   "cell_type": "code",
   "execution_count": null,
   "metadata": {},
   "outputs": [],
   "source": [
    "def collate_fn(batch):\n",
    "    dtypes = {\"embedding\": torch.float32, \"label\": torch.int64}\n",
    "    tensor_batch = {}\n",
    "    for key in dtypes.keys():\n",
    "        if key in batch:\n",
    "            tensor_batch[key] = torch.as_tensor(\n",
    "                batch[key],\n",
    "                dtype=dtypes[key],\n",
    "                device=get_device(),\n",
    "            )\n",
    "    return tensor_batch"
   ]
  },
  {
   "cell_type": "code",
   "execution_count": null,
   "metadata": {},
   "outputs": [
    {
     "name": "stderr",
     "output_type": "stream",
     "text": [
      "2025-04-14 01:50:20,192\tINFO streaming_executor.py:108 -- Starting execution of Dataset. Full logs are in /tmp/ray/session_2025-04-14_01-40-30_210331_55350/logs/ray-data\n",
      "2025-04-14 01:50:20,193\tINFO streaming_executor.py:109 -- Execution plan of Dataset: InputDataBuffer[Input] -> TaskPoolMapOperator[ListFiles] -> TaskPoolMapOperator[ReadFiles] -> TaskPoolMapOperator[Map(add_class)->Map(Preprocessor.convert_to_label)] -> ActorPoolMapOperator[MapBatches(EmbeddingGenerator)] -> TaskPoolMapOperator[MapBatches(drop_columns)] -> LimitOperator[limit=3]\n"
     ]
    },
    {
     "data": {
      "application/vnd.jupyter.widget-view+json": {
       "model_id": "fe3cb749c4c246269cfc9d29935b5233",
       "version_major": 2,
       "version_minor": 0
      },
      "text/plain": [
       "Running 0: 0.00 row [00:00, ? row/s]"
      ]
     },
     "metadata": {},
     "output_type": "display_data"
    },
    {
     "data": {
      "application/vnd.jupyter.widget-view+json": {
       "model_id": "4e4f7efd7fac411797cd6a6ac1b13dda",
       "version_major": 2,
       "version_minor": 0
      },
      "text/plain": [
       "- ListFiles 1: 0.00 row [00:00, ? row/s]"
      ]
     },
     "metadata": {},
     "output_type": "display_data"
    },
    {
     "data": {
      "application/vnd.jupyter.widget-view+json": {
       "model_id": "fe43e408050849bba3dd285c406f2735",
       "version_major": 2,
       "version_minor": 0
      },
      "text/plain": [
       "- ReadFiles 2: 0.00 row [00:00, ? row/s]"
      ]
     },
     "metadata": {},
     "output_type": "display_data"
    },
    {
     "data": {
      "application/vnd.jupyter.widget-view+json": {
       "model_id": "3b4664a45d204b62ad0ebc1f74d444ca",
       "version_major": 2,
       "version_minor": 0
      },
      "text/plain": [
       "- Map(add_class)->Map(Preprocessor.convert_to_label) 3: 0.00 row [00:00, ? row/s]"
      ]
     },
     "metadata": {},
     "output_type": "display_data"
    },
    {
     "data": {
      "application/vnd.jupyter.widget-view+json": {
       "model_id": "14c7d6331a6d44b78b1dccd40417fce7",
       "version_major": 2,
       "version_minor": 0
      },
      "text/plain": [
       "- MapBatches(EmbeddingGenerator) 4: 0.00 row [00:00, ? row/s]"
      ]
     },
     "metadata": {},
     "output_type": "display_data"
    },
    {
     "data": {
      "application/vnd.jupyter.widget-view+json": {
       "model_id": "5af1dfcd5baa4b29b6716b96f7791843",
       "version_major": 2,
       "version_minor": 0
      },
      "text/plain": [
       "- MapBatches(drop_columns) 5: 0.00 row [00:00, ? row/s]"
      ]
     },
     "metadata": {},
     "output_type": "display_data"
    },
    {
     "data": {
      "application/vnd.jupyter.widget-view+json": {
       "model_id": "1a2984d3db574a81965a13c6700d66e4",
       "version_major": 2,
       "version_minor": 0
      },
      "text/plain": [
       "- limit=3 6: 0.00 row [00:00, ? row/s]"
      ]
     },
     "metadata": {},
     "output_type": "display_data"
    },
    {
     "name": "stdout",
     "output_type": "stream",
     "text": [
      "\u001b[36m(ListFiles pid=29610, ip=10.0.181.54)\u001b[0m >>> [DBG] partition_files: before: pyarrow.Table\n",
      "\u001b[36m(ListFiles pid=29610, ip=10.0.181.54)\u001b[0m __path: string\n",
      "\u001b[36m(ListFiles pid=29610, ip=10.0.181.54)\u001b[0m __file_size: int64\n",
      "\u001b[36m(ListFiles pid=29610, ip=10.0.181.54)\u001b[0m ----\n",
      "\u001b[36m(ListFiles pid=29610, ip=10.0.181.54)\u001b[0m __path: [[\"doggos-dataset/train/basset/basset_10028.jpg\",\"doggos-dataset/train/basset/basset_10054.jpg\",\"doggos-dataset/train/basset/basset_10072.jpg\",\"doggos-dataset/train/basset/basset_10095.jpg\",\"doggos-dataset/train/basset/basset_10110.jpg\",...,\"doggos-dataset/train/yorkshire_terrier/yorkshire_terrier_889.jpg\",\"doggos-dataset/train/yorkshire_terrier/yorkshire_terrier_9618.jpg\",\"doggos-dataset/train/yorkshire_terrier/yorkshire_terrier_962.jpg\",\"doggos-dataset/train/yorkshire_terrier/yorkshire_terrier_967.jpg\",\"doggos-dataset/train/yorkshire_terrier/yorkshire_terrier_9739.jpg\"]]\n",
      "\u001b[36m(ListFiles pid=29610, ip=10.0.181.54)\u001b[0m __file_size: [[56919,36417,21093,23721,12511,...,19267,43746,29862,37592,32578]]\n",
      "\u001b[36m(ListFiles pid=29610, ip=10.0.181.54)\u001b[0m >>> [DBG] partition_files: after: pyarrow.Table\n",
      "\u001b[36m(ListFiles pid=29610, ip=10.0.181.54)\u001b[0m __path: string\n",
      "\u001b[36m(ListFiles pid=29610, ip=10.0.181.54)\u001b[0m __file_size: int64\n",
      "\u001b[36m(ListFiles pid=29610, ip=10.0.181.54)\u001b[0m ----\n",
      "\u001b[36m(ListFiles pid=29610, ip=10.0.181.54)\u001b[0m __path: [[\"doggos-dataset/train/eskimo_dog/eskimo_dog_4182.jpg\",\"doggos-dataset/train/maltese_dog/maltese_dog_4271.jpg\",\"doggos-dataset/train/bloodhound/bloodhound_12388.jpg\",\"doggos-dataset/train/tibetan_mastiff/tibetan_mastiff_3840.jpg\",\"doggos-dataset/train/bull_mastiff/bull_mastiff_1166.jpg\",...,\"doggos-dataset/train/tibetan_mastiff/tibetan_mastiff_3482.jpg\",\"doggos-dataset/train/eskimo_dog/eskimo_dog_1767.jpg\",\"doggos-dataset/train/eskimo_dog/eskimo_dog_2584.jpg\",\"doggos-dataset/train/shih_tzu/shih_tzu_61.jpg\",\"doggos-dataset/train/samoyed/samoyed_5452.jpg\"]]\n",
      "\u001b[36m(ListFiles pid=29610, ip=10.0.181.54)\u001b[0m __file_size: [[41708,22926,14597,20993,25912,...,30585,29676,17148,35122,20630]]\n"
     ]
    },
    {
     "name": "stderr",
     "output_type": "stream",
     "text": [
      "/tmp/ipykernel_63884/3214280880.py:6: UserWarning: The given NumPy array is not writable, and PyTorch does not support non-writable tensors. This means writing to this tensor will result in undefined behavior. You may want to copy the array to protect its data or make it writable before converting it to a tensor. This type of warning will be suppressed for the rest of this program. (Triggered internally at ../torch/csrc/utils/tensor_numpy.cpp:206.)\n",
      "  tensor_batch[key] = torch.as_tensor(\n"
     ]
    },
    {
     "data": {
      "text/plain": [
       "{'embedding': tensor([[-0.3026,  0.0754, -0.0799,  ...,  0.1884,  0.1589,  0.1242],\n",
       "         [-0.0206,  0.1151, -0.1241,  ...,  1.2970,  0.1379,  0.2824],\n",
       "         [ 0.3759,  0.0017, -0.0163,  ...,  0.2875,  0.0093,  0.0109]]),\n",
       " 'label': tensor([27, 28, 26])}"
      ]
     },
     "execution_count": null,
     "metadata": {},
     "output_type": "execute_result"
    }
   ],
   "source": [
    "# Sample batch\n",
    "sample_batch = train_ds.take_batch(batch_size=3)\n",
    "collate_fn(batch=sample_batch)"
   ]
  },
  {
   "cell_type": "markdown",
   "metadata": {},
   "source": [
    "### Model registry"
   ]
  },
  {
   "cell_type": "markdown",
   "metadata": {},
   "source": [
    "We'll be creating a model registry in our [Anyscale user storage](https://docs.anyscale.com/configuration/storage/#user-storage) to save our model checkpoints to. We'll be using OSS mlflow but we can easily [set up other experiment trackers](https://docs.ray.io/en/latest/train/user-guides/experiment-tracking.html) with Ray."
   ]
  },
  {
   "cell_type": "code",
   "execution_count": null,
   "metadata": {},
   "outputs": [],
   "source": [
    "import shutil"
   ]
  },
  {
   "cell_type": "code",
   "execution_count": null,
   "metadata": {},
   "outputs": [],
   "source": [
    "model_registry = \"/mnt/user_storage/mlflow/doggos\"\n",
    "if os.path.isdir(model_registry):\n",
    "    shutil.rmtree(model_registry)  # clean up  \n",
    "os.makedirs(model_registry, exist_ok=True)"
   ]
  },
  {
   "cell_type": "markdown",
   "metadata": {},
   "source": [
    "### Training"
   ]
  },
  {
   "cell_type": "markdown",
   "metadata": {},
   "source": [
    "We'll define our training workload by specifying our:\n",
    "- experiment and model parameters\n",
    "- compute scaling configuration\n",
    "- forward pass for batches of training and validation data\n",
    "- train loop for each epoch of data (and checkpointing)\n",
    "\n",
    "<img src=\"https://raw.githubusercontent.com/anyscale/foundational-ray-app/refs/heads/main/images/trainer.png\" width=500>"
   ]
  },
  {
   "cell_type": "code",
   "execution_count": null,
   "metadata": {},
   "outputs": [],
   "source": [
    "# Train loop config\n",
    "experiment_name = \"doggos\"\n",
    "train_loop_config = {\n",
    "    \"model_registry\": model_registry,\n",
    "    \"experiment_name\": experiment_name,\n",
    "    \"embedding_dim\": 512,\n",
    "    \"hidden_dim\": 256,\n",
    "    \"dropout_p\": 0.3,\n",
    "    \"lr\": 1e-3,\n",
    "    \"lr_factor\": 0.8,\n",
    "    \"lr_patience\": 3,\n",
    "    \"num_epochs\": 20,\n",
    "    \"batch_size\": 256,\n",
    "}"
   ]
  },
  {
   "cell_type": "code",
   "execution_count": null,
   "metadata": {},
   "outputs": [],
   "source": [
    "# Scaling config\n",
    "num_workers = 2\n",
    "scaling_config = ray.train.ScalingConfig(\n",
    "    num_workers=num_workers,\n",
    "    use_gpu=True,\n",
    "    resources_per_worker={\"CPU\": 8, \"GPU\": 2},\n",
    "    accelerator_type=\"A10G\",\n",
    ")"
   ]
  },
  {
   "cell_type": "code",
   "execution_count": null,
   "metadata": {},
   "outputs": [],
   "source": [
    "import tempfile\n",
    "import mlflow\n",
    "import numpy as np\n",
    "from ray.train.torch import TorchTrainer"
   ]
  },
  {
   "cell_type": "code",
   "execution_count": null,
   "metadata": {},
   "outputs": [],
   "source": [
    "def train_epoch(ds, batch_size, model, num_classes, loss_fn, optimizer):\n",
    "    model.train()\n",
    "    loss = 0.0\n",
    "    ds_generator = ds.iter_torch_batches(batch_size=batch_size, collate_fn=collate_fn)\n",
    "    for i, batch in enumerate(ds_generator):\n",
    "        optimizer.zero_grad()  # reset gradients\n",
    "        z = model(batch)  # forward pass\n",
    "        targets = F.one_hot(batch[\"label\"], num_classes=num_classes).float()\n",
    "        J = loss_fn(z, targets)  # define loss\n",
    "        J.backward()  # backward pass\n",
    "        optimizer.step()  # update weights\n",
    "        loss += (J.detach().item() - loss) / (i + 1)  # cumulative loss\n",
    "    return loss"
   ]
  },
  {
   "cell_type": "code",
   "execution_count": null,
   "metadata": {},
   "outputs": [],
   "source": [
    "def eval_epoch(ds, batch_size, model, num_classes, loss_fn):\n",
    "    model.eval()\n",
    "    loss = 0.0\n",
    "    y_trues, y_preds = [], []\n",
    "    ds_generator = ds.iter_torch_batches(batch_size=batch_size, collate_fn=collate_fn)\n",
    "    with torch.inference_mode():\n",
    "        for i, batch in enumerate(ds_generator):\n",
    "            z = model(batch)\n",
    "            targets = F.one_hot(batch[\"label\"], num_classes=num_classes).float()  # one-hot (for loss_fn)\n",
    "            J = loss_fn(z, targets).item()\n",
    "            loss += (J - loss) / (i + 1)\n",
    "            y_trues.extend(batch[\"label\"].cpu().numpy())\n",
    "            y_preds.extend(torch.argmax(z, dim=1).cpu().numpy())\n",
    "    return loss, np.vstack(y_trues), np.vstack(y_preds)"
   ]
  },
  {
   "cell_type": "code",
   "execution_count": null,
   "metadata": {},
   "outputs": [],
   "source": [
    "def train_loop_per_worker(config):\n",
    "    # Hyperparameters\n",
    "    model_registry = config[\"model_registry\"]\n",
    "    experiment_name = config[\"experiment_name\"]\n",
    "    embedding_dim = config[\"embedding_dim\"]\n",
    "    hidden_dim = config[\"hidden_dim\"]\n",
    "    dropout_p = config[\"dropout_p\"]\n",
    "    lr = config[\"lr\"]\n",
    "    lr_factor = config[\"lr_factor\"]\n",
    "    lr_patience = config[\"lr_patience\"]\n",
    "    num_epochs = config[\"num_epochs\"]\n",
    "    batch_size = config[\"batch_size\"]\n",
    "    num_classes = config[\"num_classes\"]\n",
    "\n",
    "    # Experiment tracking\n",
    "    if ray.train.get_context().get_world_rank() == 0:\n",
    "        mlflow.set_tracking_uri(f\"file:{model_registry}\")\n",
    "        mlflow.set_experiment(experiment_name)\n",
    "        mlflow.start_run()\n",
    "        mlflow.log_params(config)\n",
    "\n",
    "    # Datasets\n",
    "    train_ds = ray.train.get_dataset_shard(\"train\")\n",
    "    val_ds = ray.train.get_dataset_shard(\"val\")\n",
    "\n",
    "    # Model\n",
    "    model = ClassificationModel(\n",
    "        embedding_dim=embedding_dim, \n",
    "        hidden_dim=hidden_dim, \n",
    "        dropout_p=dropout_p, \n",
    "        num_classes=num_classes,\n",
    "    )\n",
    "    model = ray.train.torch.prepare_model(model)\n",
    "\n",
    "    # Training components\n",
    "    loss_fn = torch.nn.CrossEntropyLoss()\n",
    "    optimizer = torch.optim.Adam(model.parameters(), lr=lr)\n",
    "    scheduler = torch.optim.lr_scheduler.ReduceLROnPlateau(\n",
    "        optimizer, \n",
    "        mode=\"min\", \n",
    "        factor=lr_factor, \n",
    "        patience=lr_patience,\n",
    "    )\n",
    "\n",
    "    # Training\n",
    "    best_val_loss = float(\"inf\")\n",
    "    for epoch in range(num_epochs):\n",
    "        # Steps\n",
    "        train_loss = train_epoch(train_ds, batch_size, model, num_classes, loss_fn, optimizer)\n",
    "        val_loss, _, _ = eval_epoch(val_ds, batch_size, model, num_classes, loss_fn)\n",
    "        scheduler.step(val_loss)\n",
    "\n",
    "        # Checkpoint (metrics, preprocessor and model artifacts)\n",
    "        with tempfile.TemporaryDirectory() as dp:\n",
    "            model.module.save(dp=dp)\n",
    "            metrics = dict(lr=optimizer.param_groups[0][\"lr\"], train_loss=train_loss, val_loss=val_loss)\n",
    "            with open(os.path.join(dp, \"class_to_label.json\"), \"w\") as fp:\n",
    "                json.dump(config[\"class_to_label\"], fp, indent=4)\n",
    "            if ray.train.get_context().get_world_rank() == 0:  # only on main worker 0\n",
    "                mlflow.log_metrics(metrics, step=epoch)\n",
    "                if val_loss < best_val_loss:\n",
    "                    best_val_loss = val_loss\n",
    "                    mlflow.log_artifacts(dp)\n",
    "\n",
    "    # End experiment tracking\n",
    "    if ray.train.get_context().get_world_rank() == 0:\n",
    "        mlflow.end_run()"
   ]
  },
  {
   "cell_type": "markdown",
   "metadata": {},
   "source": [
    "<div class=\"alert alert-block alert\"> <b> Minimal change to your training code</b> \n",
    "\n",
    "You'll notice that there isn't much new Ray Train code on top of our base PyTorch code. We specified how we want to scale out our training workload, load the Ray datasets and then checkpoint on our main worker node... and that's it! Check out these guides ([PyTorch](https://docs.ray.io/en/latest/train/getting-started-pytorch.html), [PyTorch Lightning](https://docs.ray.io/en/latest/train/getting-started-pytorch-lightning.html), [HuggingFace Transformers](https://docs.ray.io/en/latest/train/getting-started-transformers.html)) to see the minimal delta code needed to distribute our training workloads and check out this extensive list of [Ray Train user guides](https://docs.ray.io/en/latest/train/user-guides.html)."
   ]
  },
  {
   "cell_type": "code",
   "execution_count": null,
   "metadata": {},
   "outputs": [],
   "source": [
    "# Load preprocessed datasets\n",
    "preprocessed_train_ds = ray.data.read_parquet(preprocessed_train_path)\n",
    "preprocessed_val_ds = ray.data.read_parquet(preprocessed_val_path)"
   ]
  },
  {
   "cell_type": "code",
   "execution_count": null,
   "metadata": {},
   "outputs": [],
   "source": [
    "# Trainer\n",
    "train_loop_config[\"class_to_label\"] = preprocessor.class_to_label\n",
    "train_loop_config[\"num_classes\"] = len(preprocessor.class_to_label)\n",
    "trainer = TorchTrainer(\n",
    "    train_loop_per_worker=train_loop_per_worker,\n",
    "    train_loop_config=train_loop_config,\n",
    "    scaling_config=scaling_config,\n",
    "    datasets={\"train\": preprocessed_train_ds, \"val\": preprocessed_val_ds},\n",
    ")"
   ]
  },
  {
   "cell_type": "markdown",
   "metadata": {},
   "source": [
    "<div class=\"alert alert-block alert\"> <b> Ray Train</b> \n",
    "\n",
    "- automatically handles **multi-node, multi-GPU** setup with no manual SSH setup or hostfile configs. \n",
    "- define **per-worker franctional resource requirements** (e.g., 2 CPUs and 0.5 GPU per worker).\n",
    "- run on **heterogeneous machines** and scale flexibly (e.g., CPU for preprocessing and GPU for training). \n",
    "- built-in **fault tolerance** via retry of failed workers (and continue from last checkpoint).\n",
    "- supports Data Parallel, Model Parallel, Parameter Server, and even custom strategies.\n",
    "- [Ray Compiled graphs](https://docs.ray.io/en/latest/ray-core/compiled-graph/ray-compiled-graph.html) allow us to even define different parallelism for jointly optimizing multipe models (Megatron, Deepspeed, etc. only allow for one global setting).\n",
    "- You can also use Torch DDP, FSPD, DeepSpeed, etc. under the hood if you want.\n",
    "\n",
    "[RayTurbo Train](https://docs.anyscale.com/rayturbo/rayturbo-train) offers even more improvement to the price-performance ratio, performance monitoring and more:\n",
    "- **elastic training** to scale to a dynamic number of workers, continue training on fewer resources (even on spot instances).\n",
    "- **purpose-built dashboard** designed to streamline the debugging of Ray Train workloads\n",
    "    - Monitoring: View the status of training runs and train workers.\n",
    "    - Metrics: See insights on training throughput, training system operation time.\n",
    "    - Profiling: Investigate bottlenecks, hangs, or errors from individual training worker processes.\n",
    "\n",
    "<img src=\"https://raw.githubusercontent.com/anyscale/foundational-ray-app/refs/heads/main/images/train_dashboard.png\" width=700>"
   ]
  },
  {
   "cell_type": "code",
   "execution_count": null,
   "metadata": {},
   "outputs": [
    {
     "name": "stderr",
     "output_type": "stream",
     "text": [
      "\u001b[36m(TrainController pid=65941)\u001b[0m Attempting to start training worker group of size 2 with the following resources: [{'CPU': 8, 'GPU': 2, 'accelerator_type:A10G': 0.001}] * 2\n"
     ]
    },
    {
     "name": "stdout",
     "output_type": "stream",
     "text": [
      "\u001b[33m(raylet)\u001b[0m WARNING: 4 PYTHON worker processes have been started on node: 626b1ba5045e911fd7e09730935c4248281d5ccbcbb090a0db09252c with address: 10.0.35.4. This could be a result of using a large number of actors, or due to tasks blocked in ray.get() calls (see https://github.com/ray-project/ray/issues/3644 for some discussion of workarounds).\n"
     ]
    },
    {
     "data": {
      "application/vnd.jupyter.widget-view+json": {
       "model_id": "8d502b32fed54e7ebfbe6b2f8c14638d",
       "version_major": 2,
       "version_minor": 0
      },
      "text/plain": [
       "(pid=66099) Running 0: 0.00 row [00:00, ? row/s]"
      ]
     },
     "metadata": {},
     "output_type": "display_data"
    },
    {
     "name": "stderr",
     "output_type": "stream",
     "text": [
      "\u001b[36m(SplitCoordinator pid=66099)\u001b[0m Starting execution of Dataset. Full logs are in /tmp/ray/session_2025-04-14_01-40-30_210331_55350/logs/ray-data\n",
      "\u001b[36m(SplitCoordinator pid=66099)\u001b[0m Execution plan of Dataset: InputDataBuffer[Input] -> TaskPoolMapOperator[ListFiles] -> TaskPoolMapOperator[ReadFiles]\n",
      "\u001b[36m(RayTrainWorker pid=30027, ip=10.0.146.106)\u001b[0m Setting up process group for: env:// [rank=0, world_size=2]\n"
     ]
    },
    {
     "data": {
      "application/vnd.jupyter.widget-view+json": {
       "model_id": "96acb3ab11924261b5310fa6125a6c67",
       "version_major": 2,
       "version_minor": 0
      },
      "text/plain": [
       "(pid=66146) Running 0: 0.00 row [00:00, ? row/s]"
      ]
     },
     "metadata": {},
     "output_type": "display_data"
    },
    {
     "name": "stderr",
     "output_type": "stream",
     "text": [
      "\u001b[36m(RayTrainWorker pid=30027, ip=10.0.146.106)\u001b[0m 2025/04/14 01:50:48 INFO mlflow.tracking.fluent: Experiment with name 'doggos' does not exist. Creating a new experiment.\n",
      "\u001b[36m(RayTrainWorker pid=30027, ip=10.0.146.106)\u001b[0m Moving model to device: cuda:0\n",
      "\u001b[36m(RayTrainWorker pid=30027, ip=10.0.146.106)\u001b[0m Wrapping provided model in DistributedDataParallel.\n"
     ]
    },
    {
     "data": {
      "application/vnd.jupyter.widget-view+json": {
       "model_id": "32b85cc6d7be4543a930839fe9a2a552",
       "version_major": 2,
       "version_minor": 0
      },
      "text/plain": [
       "(pid=66099) Running 0: 0.00 row [00:00, ? row/s]"
      ]
     },
     "metadata": {},
     "output_type": "display_data"
    },
    {
     "data": {
      "application/vnd.jupyter.widget-view+json": {
       "model_id": "ba77fb13a7b64988a63608af77e90871",
       "version_major": 2,
       "version_minor": 0
      },
      "text/plain": [
       "(pid=66099) - ListFiles 1: 0.00 row [00:00, ? row/s]"
      ]
     },
     "metadata": {},
     "output_type": "display_data"
    },
    {
     "data": {
      "application/vnd.jupyter.widget-view+json": {
       "model_id": "8d32067ea3a64980baf1d228860687c2",
       "version_major": 2,
       "version_minor": 0
      },
      "text/plain": [
       "(pid=66099) - ReadFiles 2: 0.00 row [00:00, ? row/s]"
      ]
     },
     "metadata": {},
     "output_type": "display_data"
    },
    {
     "data": {
      "application/vnd.jupyter.widget-view+json": {
       "model_id": "ebad608b2db748e9be3e0c7bfef69f52",
       "version_major": 2,
       "version_minor": 0
      },
      "text/plain": [
       "(pid=66099) - split(2, equal=True) 3: 0.00 row [00:00, ? row/s]"
      ]
     },
     "metadata": {},
     "output_type": "display_data"
    },
    {
     "name": "stderr",
     "output_type": "stream",
     "text": [
      "\u001b[36m(SplitCoordinator pid=66099)\u001b[0m Execution plan of Dataset: InputDataBuffer[Input] -> TaskPoolMapOperator[ListFiles] -> TaskPoolMapOperator[ReadFiles] -> OutputSplitter[split(2, equal=True)]\n",
      "\u001b[36m(RayTrainWorker pid=30027, ip=10.0.146.106)\u001b[0m /tmp/ipykernel_63884/3214280880.py:6: UserWarning: The given NumPy array is not writable, and PyTorch does not support non-writable tensors. This means writing to this tensor will result in undefined behavior. You may want to copy the array to protect its data or make it writable before converting it to a tensor. This type of warning will be suppressed for the rest of this program. (Triggered internally at ../torch/csrc/utils/tensor_numpy.cpp:206.)\n",
      "\u001b[36m(SplitCoordinator pid=66099)\u001b[0m Starting execution of Dataset. Full logs are in /tmp/ray/session_2025-04-14_01-40-30_210331_55350/logs/ray-data\u001b[32m [repeated 2x across cluster]\u001b[0m\n",
      "\u001b[36m(SplitCoordinator pid=66146)\u001b[0m Execution plan of Dataset: InputDataBuffer[Input] -> TaskPoolMapOperator[ListFiles] -> TaskPoolMapOperator[ReadFiles]\n"
     ]
    },
    {
     "data": {
      "application/vnd.jupyter.widget-view+json": {
       "model_id": "2a68595d2f92431da328355f039584a7",
       "version_major": 2,
       "version_minor": 0
      },
      "text/plain": [
       "(pid=66146) Running 0: 0.00 row [00:00, ? row/s]"
      ]
     },
     "metadata": {},
     "output_type": "display_data"
    },
    {
     "data": {
      "application/vnd.jupyter.widget-view+json": {
       "model_id": "c28ff726351a438eb67465ef11651eed",
       "version_major": 2,
       "version_minor": 0
      },
      "text/plain": [
       "(pid=66146) - ListFiles 1: 0.00 row [00:00, ? row/s]"
      ]
     },
     "metadata": {},
     "output_type": "display_data"
    },
    {
     "data": {
      "application/vnd.jupyter.widget-view+json": {
       "model_id": "acdbc74e7caf4187a07470eeb00034e0",
       "version_major": 2,
       "version_minor": 0
      },
      "text/plain": [
       "(pid=66146) - ReadFiles 2: 0.00 row [00:00, ? row/s]"
      ]
     },
     "metadata": {},
     "output_type": "display_data"
    },
    {
     "data": {
      "application/vnd.jupyter.widget-view+json": {
       "model_id": "de2f360faa9a4ff9817f93da11055f53",
       "version_major": 2,
       "version_minor": 0
      },
      "text/plain": [
       "(pid=66146) - split(2, equal=True) 3: 0.00 row [00:00, ? row/s]"
      ]
     },
     "metadata": {},
     "output_type": "display_data"
    },
    {
     "data": {
      "application/vnd.jupyter.widget-view+json": {
       "model_id": "fb6aa8b9f13f4f12abafa059d2bf0cf6",
       "version_major": 2,
       "version_minor": 0
      },
      "text/plain": [
       "(pid=66099) Running 0: 0.00 row [00:00, ? row/s]"
      ]
     },
     "metadata": {},
     "output_type": "display_data"
    },
    {
     "data": {
      "application/vnd.jupyter.widget-view+json": {
       "model_id": "28839179bd55437f8f3e0069f110a65e",
       "version_major": 2,
       "version_minor": 0
      },
      "text/plain": [
       "(pid=66099) - ListFiles 1: 0.00 row [00:00, ? row/s]"
      ]
     },
     "metadata": {},
     "output_type": "display_data"
    },
    {
     "data": {
      "application/vnd.jupyter.widget-view+json": {
       "model_id": "803cf8d68ab545ab8587f3a310020337",
       "version_major": 2,
       "version_minor": 0
      },
      "text/plain": [
       "(pid=66099) - ReadFiles 2: 0.00 row [00:00, ? row/s]"
      ]
     },
     "metadata": {},
     "output_type": "display_data"
    },
    {
     "data": {
      "application/vnd.jupyter.widget-view+json": {
       "model_id": "c7841b98755a44709742730e242f373e",
       "version_major": 2,
       "version_minor": 0
      },
      "text/plain": [
       "(pid=66099) - split(2, equal=True) 3: 0.00 row [00:00, ? row/s]"
      ]
     },
     "metadata": {},
     "output_type": "display_data"
    },
    {
     "data": {
      "application/vnd.jupyter.widget-view+json": {
       "model_id": "c7ee4c601a7e4ca4b6b57427925acf4d",
       "version_major": 2,
       "version_minor": 0
      },
      "text/plain": [
       "(pid=66146) Running 0: 0.00 row [00:00, ? row/s]"
      ]
     },
     "metadata": {},
     "output_type": "display_data"
    },
    {
     "data": {
      "application/vnd.jupyter.widget-view+json": {
       "model_id": "c22a7ffc7cfd4d41addb1d9e9e99e78b",
       "version_major": 2,
       "version_minor": 0
      },
      "text/plain": [
       "(pid=66146) - ListFiles 1: 0.00 row [00:00, ? row/s]"
      ]
     },
     "metadata": {},
     "output_type": "display_data"
    },
    {
     "data": {
      "application/vnd.jupyter.widget-view+json": {
       "model_id": "9dbf0eaa1d0c47e3804bcc86ef7b16f6",
       "version_major": 2,
       "version_minor": 0
      },
      "text/plain": [
       "(pid=66146) - ReadFiles 2: 0.00 row [00:00, ? row/s]"
      ]
     },
     "metadata": {},
     "output_type": "display_data"
    },
    {
     "data": {
      "application/vnd.jupyter.widget-view+json": {
       "model_id": "8179e77facf64792b7b9a8a4a2a69510",
       "version_major": 2,
       "version_minor": 0
      },
      "text/plain": [
       "(pid=66146) - split(2, equal=True) 3: 0.00 row [00:00, ? row/s]"
      ]
     },
     "metadata": {},
     "output_type": "display_data"
    },
    {
     "data": {
      "application/vnd.jupyter.widget-view+json": {
       "model_id": "bd585878bff549188ef5c2dc4df1c29b",
       "version_major": 2,
       "version_minor": 0
      },
      "text/plain": [
       "(pid=66099) Running 0: 0.00 row [00:00, ? row/s]"
      ]
     },
     "metadata": {},
     "output_type": "display_data"
    },
    {
     "data": {
      "application/vnd.jupyter.widget-view+json": {
       "model_id": "f1ec52bea6764a9f9c43c615bd3f9c4f",
       "version_major": 2,
       "version_minor": 0
      },
      "text/plain": [
       "(pid=66099) - ListFiles 1: 0.00 row [00:00, ? row/s]"
      ]
     },
     "metadata": {},
     "output_type": "display_data"
    },
    {
     "data": {
      "application/vnd.jupyter.widget-view+json": {
       "model_id": "6d7ebd6f6dd441c5ace38e80ad391790",
       "version_major": 2,
       "version_minor": 0
      },
      "text/plain": [
       "(pid=66099) - ReadFiles 2: 0.00 row [00:00, ? row/s]"
      ]
     },
     "metadata": {},
     "output_type": "display_data"
    },
    {
     "data": {
      "application/vnd.jupyter.widget-view+json": {
       "model_id": "3dec15c0437d494bad4d3cdad39d36fa",
       "version_major": 2,
       "version_minor": 0
      },
      "text/plain": [
       "(pid=66099) - split(2, equal=True) 3: 0.00 row [00:00, ? row/s]"
      ]
     },
     "metadata": {},
     "output_type": "display_data"
    },
    {
     "data": {
      "application/vnd.jupyter.widget-view+json": {
       "model_id": "9d596b289bf448fd95fbcccf05af4fea",
       "version_major": 2,
       "version_minor": 0
      },
      "text/plain": [
       "(pid=66146) Running 0: 0.00 row [00:00, ? row/s]"
      ]
     },
     "metadata": {},
     "output_type": "display_data"
    },
    {
     "data": {
      "application/vnd.jupyter.widget-view+json": {
       "model_id": "77b75db65f584266b324a915616f6efc",
       "version_major": 2,
       "version_minor": 0
      },
      "text/plain": [
       "(pid=66146) - ListFiles 1: 0.00 row [00:00, ? row/s]"
      ]
     },
     "metadata": {},
     "output_type": "display_data"
    },
    {
     "data": {
      "application/vnd.jupyter.widget-view+json": {
       "model_id": "4889077d533c448fb758c70b063d3669",
       "version_major": 2,
       "version_minor": 0
      },
      "text/plain": [
       "(pid=66146) - ReadFiles 2: 0.00 row [00:00, ? row/s]"
      ]
     },
     "metadata": {},
     "output_type": "display_data"
    },
    {
     "data": {
      "application/vnd.jupyter.widget-view+json": {
       "model_id": "06e24a21d6474f83a789047d46e657d9",
       "version_major": 2,
       "version_minor": 0
      },
      "text/plain": [
       "(pid=66146) - split(2, equal=True) 3: 0.00 row [00:00, ? row/s]"
      ]
     },
     "metadata": {},
     "output_type": "display_data"
    },
    {
     "data": {
      "application/vnd.jupyter.widget-view+json": {
       "model_id": "4c4471201ce84bec93e6db3f9b58022b",
       "version_major": 2,
       "version_minor": 0
      },
      "text/plain": [
       "(pid=66099) Running 0: 0.00 row [00:00, ? row/s]"
      ]
     },
     "metadata": {},
     "output_type": "display_data"
    },
    {
     "data": {
      "application/vnd.jupyter.widget-view+json": {
       "model_id": "2bb8bfd7c0f744adab694e40258d46e1",
       "version_major": 2,
       "version_minor": 0
      },
      "text/plain": [
       "(pid=66099) - ListFiles 1: 0.00 row [00:00, ? row/s]"
      ]
     },
     "metadata": {},
     "output_type": "display_data"
    },
    {
     "data": {
      "application/vnd.jupyter.widget-view+json": {
       "model_id": "da6208f3441147c8a199c43e1421167b",
       "version_major": 2,
       "version_minor": 0
      },
      "text/plain": [
       "(pid=66099) - ReadFiles 2: 0.00 row [00:00, ? row/s]"
      ]
     },
     "metadata": {},
     "output_type": "display_data"
    },
    {
     "data": {
      "application/vnd.jupyter.widget-view+json": {
       "model_id": "85bbb7d3d83249dfb785bc8d1ea7a529",
       "version_major": 2,
       "version_minor": 0
      },
      "text/plain": [
       "(pid=66099) - split(2, equal=True) 3: 0.00 row [00:00, ? row/s]"
      ]
     },
     "metadata": {},
     "output_type": "display_data"
    },
    {
     "data": {
      "application/vnd.jupyter.widget-view+json": {
       "model_id": "7ecaf26a8e1b41d699da9d4e5a1935e9",
       "version_major": 2,
       "version_minor": 0
      },
      "text/plain": [
       "(pid=66146) Running 0: 0.00 row [00:00, ? row/s]"
      ]
     },
     "metadata": {},
     "output_type": "display_data"
    },
    {
     "data": {
      "application/vnd.jupyter.widget-view+json": {
       "model_id": "1d5731c9cfb741e4ac38e814b3c8e784",
       "version_major": 2,
       "version_minor": 0
      },
      "text/plain": [
       "(pid=66146) - ListFiles 1: 0.00 row [00:00, ? row/s]"
      ]
     },
     "metadata": {},
     "output_type": "display_data"
    },
    {
     "data": {
      "application/vnd.jupyter.widget-view+json": {
       "model_id": "c53f8be8ddc341adb947df36aa7f1160",
       "version_major": 2,
       "version_minor": 0
      },
      "text/plain": [
       "(pid=66146) - ReadFiles 2: 0.00 row [00:00, ? row/s]"
      ]
     },
     "metadata": {},
     "output_type": "display_data"
    },
    {
     "data": {
      "application/vnd.jupyter.widget-view+json": {
       "model_id": "1f83bb9a45f2405087aa2b6396db974e",
       "version_major": 2,
       "version_minor": 0
      },
      "text/plain": [
       "(pid=66146) - split(2, equal=True) 3: 0.00 row [00:00, ? row/s]"
      ]
     },
     "metadata": {},
     "output_type": "display_data"
    },
    {
     "data": {
      "application/vnd.jupyter.widget-view+json": {
       "model_id": "39359bf961cd4b1bab0ab7f64796e669",
       "version_major": 2,
       "version_minor": 0
      },
      "text/plain": [
       "(pid=66099) Running 0: 0.00 row [00:00, ? row/s]"
      ]
     },
     "metadata": {},
     "output_type": "display_data"
    },
    {
     "data": {
      "application/vnd.jupyter.widget-view+json": {
       "model_id": "0e1950a5164c4934a98d2025b7f37dc1",
       "version_major": 2,
       "version_minor": 0
      },
      "text/plain": [
       "(pid=66099) - ListFiles 1: 0.00 row [00:00, ? row/s]"
      ]
     },
     "metadata": {},
     "output_type": "display_data"
    },
    {
     "data": {
      "application/vnd.jupyter.widget-view+json": {
       "model_id": "7d836838db984a698bafd4a274558625",
       "version_major": 2,
       "version_minor": 0
      },
      "text/plain": [
       "(pid=66099) - ReadFiles 2: 0.00 row [00:00, ? row/s]"
      ]
     },
     "metadata": {},
     "output_type": "display_data"
    },
    {
     "data": {
      "application/vnd.jupyter.widget-view+json": {
       "model_id": "c0015267076a48bfa679cbe3814ae8ea",
       "version_major": 2,
       "version_minor": 0
      },
      "text/plain": [
       "(pid=66099) - split(2, equal=True) 3: 0.00 row [00:00, ? row/s]"
      ]
     },
     "metadata": {},
     "output_type": "display_data"
    },
    {
     "name": "stderr",
     "output_type": "stream",
     "text": [
      "\u001b[36m(SplitCoordinator pid=66146)\u001b[0m Execution plan of Dataset: InputDataBuffer[Input] -> TaskPoolMapOperator[ListFiles] -> TaskPoolMapOperator[ReadFiles] -> OutputSplitter[split(2, equal=True)]\u001b[32m [repeated 9x across cluster]\u001b[0m\n"
     ]
    },
    {
     "data": {
      "application/vnd.jupyter.widget-view+json": {
       "model_id": "e9a7347081524c83b985fa12e6f6e939",
       "version_major": 2,
       "version_minor": 0
      },
      "text/plain": [
       "(pid=66146) Running 0: 0.00 row [00:00, ? row/s]"
      ]
     },
     "metadata": {},
     "output_type": "display_data"
    },
    {
     "data": {
      "application/vnd.jupyter.widget-view+json": {
       "model_id": "a4492139ddce4f999e230adcfe830d4f",
       "version_major": 2,
       "version_minor": 0
      },
      "text/plain": [
       "(pid=66146) - ListFiles 1: 0.00 row [00:00, ? row/s]"
      ]
     },
     "metadata": {},
     "output_type": "display_data"
    },
    {
     "data": {
      "application/vnd.jupyter.widget-view+json": {
       "model_id": "4be87a9ac12a45ba8fc82ae7ca637a05",
       "version_major": 2,
       "version_minor": 0
      },
      "text/plain": [
       "(pid=66146) - ReadFiles 2: 0.00 row [00:00, ? row/s]"
      ]
     },
     "metadata": {},
     "output_type": "display_data"
    },
    {
     "data": {
      "application/vnd.jupyter.widget-view+json": {
       "model_id": "82053829ad1d481cae2c0bd25ba18fe3",
       "version_major": 2,
       "version_minor": 0
      },
      "text/plain": [
       "(pid=66146) - split(2, equal=True) 3: 0.00 row [00:00, ? row/s]"
      ]
     },
     "metadata": {},
     "output_type": "display_data"
    },
    {
     "data": {
      "application/vnd.jupyter.widget-view+json": {
       "model_id": "fbaa80ef02fa41e4959d7884bfa566af",
       "version_major": 2,
       "version_minor": 0
      },
      "text/plain": [
       "(pid=66099) Running 0: 0.00 row [00:00, ? row/s]"
      ]
     },
     "metadata": {},
     "output_type": "display_data"
    },
    {
     "data": {
      "application/vnd.jupyter.widget-view+json": {
       "model_id": "3d8e406256864971b3dc9e5198ebf911",
       "version_major": 2,
       "version_minor": 0
      },
      "text/plain": [
       "(pid=66099) - ListFiles 1: 0.00 row [00:00, ? row/s]"
      ]
     },
     "metadata": {},
     "output_type": "display_data"
    },
    {
     "data": {
      "application/vnd.jupyter.widget-view+json": {
       "model_id": "a94c64cb864e4db483e8c67cd1c90a06",
       "version_major": 2,
       "version_minor": 0
      },
      "text/plain": [
       "(pid=66099) - ReadFiles 2: 0.00 row [00:00, ? row/s]"
      ]
     },
     "metadata": {},
     "output_type": "display_data"
    },
    {
     "data": {
      "application/vnd.jupyter.widget-view+json": {
       "model_id": "c2713e774d7f4c508417da7c79afea05",
       "version_major": 2,
       "version_minor": 0
      },
      "text/plain": [
       "(pid=66099) - split(2, equal=True) 3: 0.00 row [00:00, ? row/s]"
      ]
     },
     "metadata": {},
     "output_type": "display_data"
    },
    {
     "data": {
      "application/vnd.jupyter.widget-view+json": {
       "model_id": "4b52a51723ff41c695c765e2b4398c8e",
       "version_major": 2,
       "version_minor": 0
      },
      "text/plain": [
       "(pid=66146) Running 0: 0.00 row [00:00, ? row/s]"
      ]
     },
     "metadata": {},
     "output_type": "display_data"
    },
    {
     "data": {
      "application/vnd.jupyter.widget-view+json": {
       "model_id": "e1dc8f7a39f44ab19a02a5f91fcb4967",
       "version_major": 2,
       "version_minor": 0
      },
      "text/plain": [
       "(pid=66146) - ListFiles 1: 0.00 row [00:00, ? row/s]"
      ]
     },
     "metadata": {},
     "output_type": "display_data"
    },
    {
     "data": {
      "application/vnd.jupyter.widget-view+json": {
       "model_id": "885c925004f04df3bb52dc89f17d3f83",
       "version_major": 2,
       "version_minor": 0
      },
      "text/plain": [
       "(pid=66146) - ReadFiles 2: 0.00 row [00:00, ? row/s]"
      ]
     },
     "metadata": {},
     "output_type": "display_data"
    },
    {
     "data": {
      "application/vnd.jupyter.widget-view+json": {
       "model_id": "7b1ce1ad26344c1eb90ac79b1adc57e2",
       "version_major": 2,
       "version_minor": 0
      },
      "text/plain": [
       "(pid=66146) - split(2, equal=True) 3: 0.00 row [00:00, ? row/s]"
      ]
     },
     "metadata": {},
     "output_type": "display_data"
    },
    {
     "data": {
      "application/vnd.jupyter.widget-view+json": {
       "model_id": "3d13cae5417b459f891e9aa3dbf0b51e",
       "version_major": 2,
       "version_minor": 0
      },
      "text/plain": [
       "(pid=66099) Running 0: 0.00 row [00:00, ? row/s]"
      ]
     },
     "metadata": {},
     "output_type": "display_data"
    },
    {
     "data": {
      "application/vnd.jupyter.widget-view+json": {
       "model_id": "1e98ac3eb35b4e1e8afd067c96fd3930",
       "version_major": 2,
       "version_minor": 0
      },
      "text/plain": [
       "(pid=66099) - ListFiles 1: 0.00 row [00:00, ? row/s]"
      ]
     },
     "metadata": {},
     "output_type": "display_data"
    },
    {
     "data": {
      "application/vnd.jupyter.widget-view+json": {
       "model_id": "b0db50d5c0d9448b9ff372d38f9d85f9",
       "version_major": 2,
       "version_minor": 0
      },
      "text/plain": [
       "(pid=66099) - ReadFiles 2: 0.00 row [00:00, ? row/s]"
      ]
     },
     "metadata": {},
     "output_type": "display_data"
    },
    {
     "data": {
      "application/vnd.jupyter.widget-view+json": {
       "model_id": "38d5aff0b7cd48d3b592540971145d5b",
       "version_major": 2,
       "version_minor": 0
      },
      "text/plain": [
       "(pid=66099) - split(2, equal=True) 3: 0.00 row [00:00, ? row/s]"
      ]
     },
     "metadata": {},
     "output_type": "display_data"
    },
    {
     "name": "stderr",
     "output_type": "stream",
     "text": [
      "\u001b[36m(RayTrainWorker pid=30026, ip=10.0.146.106)\u001b[0m /tmp/ipykernel_63884/3214280880.py:6: UserWarning: The given NumPy array is not writable, and PyTorch does not support non-writable tensors. This means writing to this tensor will result in undefined behavior. You may want to copy the array to protect its data or make it writable before converting it to a tensor. This type of warning will be suppressed for the rest of this program. (Triggered internally at ../torch/csrc/utils/tensor_numpy.cpp:206.)\n",
      "\u001b[36m(SplitCoordinator pid=66146)\u001b[0m Starting execution of Dataset. Full logs are in /tmp/ray/session_2025-04-14_01-40-30_210331_55350/logs/ray-data\u001b[32m [repeated 13x across cluster]\u001b[0m\n"
     ]
    },
    {
     "data": {
      "application/vnd.jupyter.widget-view+json": {
       "model_id": "6e36aa59b8d04a2996f032005ae2ac27",
       "version_major": 2,
       "version_minor": 0
      },
      "text/plain": [
       "(pid=66146) Running 0: 0.00 row [00:00, ? row/s]"
      ]
     },
     "metadata": {},
     "output_type": "display_data"
    },
    {
     "data": {
      "application/vnd.jupyter.widget-view+json": {
       "model_id": "eed8398feec546e4861495fb56a0f5f2",
       "version_major": 2,
       "version_minor": 0
      },
      "text/plain": [
       "(pid=66146) - ListFiles 1: 0.00 row [00:00, ? row/s]"
      ]
     },
     "metadata": {},
     "output_type": "display_data"
    },
    {
     "data": {
      "application/vnd.jupyter.widget-view+json": {
       "model_id": "8f982f2aa1b243b69c3a3d538371c834",
       "version_major": 2,
       "version_minor": 0
      },
      "text/plain": [
       "(pid=66146) - ReadFiles 2: 0.00 row [00:00, ? row/s]"
      ]
     },
     "metadata": {},
     "output_type": "display_data"
    },
    {
     "data": {
      "application/vnd.jupyter.widget-view+json": {
       "model_id": "da0bf2bc514548dfbb55bcf2a3f20f37",
       "version_major": 2,
       "version_minor": 0
      },
      "text/plain": [
       "(pid=66146) - split(2, equal=True) 3: 0.00 row [00:00, ? row/s]"
      ]
     },
     "metadata": {},
     "output_type": "display_data"
    },
    {
     "data": {
      "application/vnd.jupyter.widget-view+json": {
       "model_id": "ea4b7f7e1940412488ea50f7aedda552",
       "version_major": 2,
       "version_minor": 0
      },
      "text/plain": [
       "(pid=66099) Running 0: 0.00 row [00:00, ? row/s]"
      ]
     },
     "metadata": {},
     "output_type": "display_data"
    },
    {
     "data": {
      "application/vnd.jupyter.widget-view+json": {
       "model_id": "4d52cc0df43a4112952391738759946f",
       "version_major": 2,
       "version_minor": 0
      },
      "text/plain": [
       "(pid=66099) - ListFiles 1: 0.00 row [00:00, ? row/s]"
      ]
     },
     "metadata": {},
     "output_type": "display_data"
    },
    {
     "data": {
      "application/vnd.jupyter.widget-view+json": {
       "model_id": "5ae745571fd34cabbc583cccf0b7d77a",
       "version_major": 2,
       "version_minor": 0
      },
      "text/plain": [
       "(pid=66099) - ReadFiles 2: 0.00 row [00:00, ? row/s]"
      ]
     },
     "metadata": {},
     "output_type": "display_data"
    },
    {
     "data": {
      "application/vnd.jupyter.widget-view+json": {
       "model_id": "0575d538554e4eb5ac0911f2e4ff0384",
       "version_major": 2,
       "version_minor": 0
      },
      "text/plain": [
       "(pid=66099) - split(2, equal=True) 3: 0.00 row [00:00, ? row/s]"
      ]
     },
     "metadata": {},
     "output_type": "display_data"
    },
    {
     "data": {
      "application/vnd.jupyter.widget-view+json": {
       "model_id": "754feebba4954236a2b915610b1b35ad",
       "version_major": 2,
       "version_minor": 0
      },
      "text/plain": [
       "(pid=66146) Running 0: 0.00 row [00:00, ? row/s]"
      ]
     },
     "metadata": {},
     "output_type": "display_data"
    },
    {
     "data": {
      "application/vnd.jupyter.widget-view+json": {
       "model_id": "4d0d48ccc6644ba091266f7f1092ea08",
       "version_major": 2,
       "version_minor": 0
      },
      "text/plain": [
       "(pid=66146) - ListFiles 1: 0.00 row [00:00, ? row/s]"
      ]
     },
     "metadata": {},
     "output_type": "display_data"
    },
    {
     "data": {
      "application/vnd.jupyter.widget-view+json": {
       "model_id": "b49059a4c36f408e8abcf8e01881e778",
       "version_major": 2,
       "version_minor": 0
      },
      "text/plain": [
       "(pid=66146) - ReadFiles 2: 0.00 row [00:00, ? row/s]"
      ]
     },
     "metadata": {},
     "output_type": "display_data"
    },
    {
     "data": {
      "application/vnd.jupyter.widget-view+json": {
       "model_id": "2f96a23d46564d8ca76a799e7b921435",
       "version_major": 2,
       "version_minor": 0
      },
      "text/plain": [
       "(pid=66146) - split(2, equal=True) 3: 0.00 row [00:00, ? row/s]"
      ]
     },
     "metadata": {},
     "output_type": "display_data"
    },
    {
     "data": {
      "application/vnd.jupyter.widget-view+json": {
       "model_id": "369163292dab412cb6dd91c878f79261",
       "version_major": 2,
       "version_minor": 0
      },
      "text/plain": [
       "(pid=66099) Running 0: 0.00 row [00:00, ? row/s]"
      ]
     },
     "metadata": {},
     "output_type": "display_data"
    },
    {
     "data": {
      "application/vnd.jupyter.widget-view+json": {
       "model_id": "0d2c0c9f4f454ac4b35a0b1df20fcff2",
       "version_major": 2,
       "version_minor": 0
      },
      "text/plain": [
       "(pid=66099) - ListFiles 1: 0.00 row [00:00, ? row/s]"
      ]
     },
     "metadata": {},
     "output_type": "display_data"
    },
    {
     "data": {
      "application/vnd.jupyter.widget-view+json": {
       "model_id": "f2c8231171f745d1a275b2dbc6ac07b5",
       "version_major": 2,
       "version_minor": 0
      },
      "text/plain": [
       "(pid=66099) - ReadFiles 2: 0.00 row [00:00, ? row/s]"
      ]
     },
     "metadata": {},
     "output_type": "display_data"
    },
    {
     "data": {
      "application/vnd.jupyter.widget-view+json": {
       "model_id": "6de774b8d2ac481798d7fa4e401d62e4",
       "version_major": 2,
       "version_minor": 0
      },
      "text/plain": [
       "(pid=66099) - split(2, equal=True) 3: 0.00 row [00:00, ? row/s]"
      ]
     },
     "metadata": {},
     "output_type": "display_data"
    },
    {
     "data": {
      "application/vnd.jupyter.widget-view+json": {
       "model_id": "0eac7f060e834965b97c12fd9066cc29",
       "version_major": 2,
       "version_minor": 0
      },
      "text/plain": [
       "(pid=66146) Running 0: 0.00 row [00:00, ? row/s]"
      ]
     },
     "metadata": {},
     "output_type": "display_data"
    },
    {
     "data": {
      "application/vnd.jupyter.widget-view+json": {
       "model_id": "bbb87782c4134d5280bee54364dd6b3d",
       "version_major": 2,
       "version_minor": 0
      },
      "text/plain": [
       "(pid=66146) - ListFiles 1: 0.00 row [00:00, ? row/s]"
      ]
     },
     "metadata": {},
     "output_type": "display_data"
    },
    {
     "data": {
      "application/vnd.jupyter.widget-view+json": {
       "model_id": "5208812483de4addaea657a3904ff7ac",
       "version_major": 2,
       "version_minor": 0
      },
      "text/plain": [
       "(pid=66146) - ReadFiles 2: 0.00 row [00:00, ? row/s]"
      ]
     },
     "metadata": {},
     "output_type": "display_data"
    },
    {
     "data": {
      "application/vnd.jupyter.widget-view+json": {
       "model_id": "050dc4ebe06e45b5b8cb111006235f4b",
       "version_major": 2,
       "version_minor": 0
      },
      "text/plain": [
       "(pid=66146) - split(2, equal=True) 3: 0.00 row [00:00, ? row/s]"
      ]
     },
     "metadata": {},
     "output_type": "display_data"
    },
    {
     "data": {
      "application/vnd.jupyter.widget-view+json": {
       "model_id": "c1804dbdd3844433806df46f090a9f3b",
       "version_major": 2,
       "version_minor": 0
      },
      "text/plain": [
       "(pid=66099) Running 0: 0.00 row [00:00, ? row/s]"
      ]
     },
     "metadata": {},
     "output_type": "display_data"
    },
    {
     "data": {
      "application/vnd.jupyter.widget-view+json": {
       "model_id": "a8f992e6ecc746a19646b37a57fcb7f6",
       "version_major": 2,
       "version_minor": 0
      },
      "text/plain": [
       "(pid=66099) - ListFiles 1: 0.00 row [00:00, ? row/s]"
      ]
     },
     "metadata": {},
     "output_type": "display_data"
    },
    {
     "data": {
      "application/vnd.jupyter.widget-view+json": {
       "model_id": "2e642393a6d44cabbb329fb3ec9a1e6a",
       "version_major": 2,
       "version_minor": 0
      },
      "text/plain": [
       "(pid=66099) - ReadFiles 2: 0.00 row [00:00, ? row/s]"
      ]
     },
     "metadata": {},
     "output_type": "display_data"
    },
    {
     "data": {
      "application/vnd.jupyter.widget-view+json": {
       "model_id": "c94801172bee4984b00dc9cfb0d58568",
       "version_major": 2,
       "version_minor": 0
      },
      "text/plain": [
       "(pid=66099) - split(2, equal=True) 3: 0.00 row [00:00, ? row/s]"
      ]
     },
     "metadata": {},
     "output_type": "display_data"
    },
    {
     "data": {
      "application/vnd.jupyter.widget-view+json": {
       "model_id": "75407de3a86047509522e3421b60dc95",
       "version_major": 2,
       "version_minor": 0
      },
      "text/plain": [
       "(pid=66146) Running 0: 0.00 row [00:00, ? row/s]"
      ]
     },
     "metadata": {},
     "output_type": "display_data"
    },
    {
     "data": {
      "application/vnd.jupyter.widget-view+json": {
       "model_id": "3a5d1fa8e8fc4932b06555c3f9f79cd9",
       "version_major": 2,
       "version_minor": 0
      },
      "text/plain": [
       "(pid=66146) - ListFiles 1: 0.00 row [00:00, ? row/s]"
      ]
     },
     "metadata": {},
     "output_type": "display_data"
    },
    {
     "data": {
      "application/vnd.jupyter.widget-view+json": {
       "model_id": "92703f49b69e46c4857c92b053543733",
       "version_major": 2,
       "version_minor": 0
      },
      "text/plain": [
       "(pid=66146) - ReadFiles 2: 0.00 row [00:00, ? row/s]"
      ]
     },
     "metadata": {},
     "output_type": "display_data"
    },
    {
     "data": {
      "application/vnd.jupyter.widget-view+json": {
       "model_id": "a288e6a0d4a4400cafa8a75589297286",
       "version_major": 2,
       "version_minor": 0
      },
      "text/plain": [
       "(pid=66146) - split(2, equal=True) 3: 0.00 row [00:00, ? row/s]"
      ]
     },
     "metadata": {},
     "output_type": "display_data"
    },
    {
     "data": {
      "application/vnd.jupyter.widget-view+json": {
       "model_id": "9c91001b280a48a4a2ed5cc68d26b4c8",
       "version_major": 2,
       "version_minor": 0
      },
      "text/plain": [
       "(pid=66099) Running 0: 0.00 row [00:00, ? row/s]"
      ]
     },
     "metadata": {},
     "output_type": "display_data"
    },
    {
     "data": {
      "application/vnd.jupyter.widget-view+json": {
       "model_id": "ed1947ba43404e93bdfc18eb82de7fef",
       "version_major": 2,
       "version_minor": 0
      },
      "text/plain": [
       "(pid=66099) - ListFiles 1: 0.00 row [00:00, ? row/s]"
      ]
     },
     "metadata": {},
     "output_type": "display_data"
    },
    {
     "data": {
      "application/vnd.jupyter.widget-view+json": {
       "model_id": "b4861bbc10eb48c6a82e2cd5cfde3da8",
       "version_major": 2,
       "version_minor": 0
      },
      "text/plain": [
       "(pid=66099) - ReadFiles 2: 0.00 row [00:00, ? row/s]"
      ]
     },
     "metadata": {},
     "output_type": "display_data"
    },
    {
     "data": {
      "application/vnd.jupyter.widget-view+json": {
       "model_id": "134adf38fe774354a9c94afd626a1234",
       "version_major": 2,
       "version_minor": 0
      },
      "text/plain": [
       "(pid=66099) - split(2, equal=True) 3: 0.00 row [00:00, ? row/s]"
      ]
     },
     "metadata": {},
     "output_type": "display_data"
    },
    {
     "data": {
      "application/vnd.jupyter.widget-view+json": {
       "model_id": "adbe21fe9e6d422abd81536547517f4a",
       "version_major": 2,
       "version_minor": 0
      },
      "text/plain": [
       "(pid=66146) Running 0: 0.00 row [00:00, ? row/s]"
      ]
     },
     "metadata": {},
     "output_type": "display_data"
    },
    {
     "data": {
      "application/vnd.jupyter.widget-view+json": {
       "model_id": "75c427154da3423e8b198470a185cc66",
       "version_major": 2,
       "version_minor": 0
      },
      "text/plain": [
       "(pid=66146) - ListFiles 1: 0.00 row [00:00, ? row/s]"
      ]
     },
     "metadata": {},
     "output_type": "display_data"
    },
    {
     "data": {
      "application/vnd.jupyter.widget-view+json": {
       "model_id": "ba14d260f7fc49c09a2683b4e958150d",
       "version_major": 2,
       "version_minor": 0
      },
      "text/plain": [
       "(pid=66146) - ReadFiles 2: 0.00 row [00:00, ? row/s]"
      ]
     },
     "metadata": {},
     "output_type": "display_data"
    },
    {
     "data": {
      "application/vnd.jupyter.widget-view+json": {
       "model_id": "2558cac8c9a040e68c468c97f45eb639",
       "version_major": 2,
       "version_minor": 0
      },
      "text/plain": [
       "(pid=66146) - split(2, equal=True) 3: 0.00 row [00:00, ? row/s]"
      ]
     },
     "metadata": {},
     "output_type": "display_data"
    },
    {
     "data": {
      "application/vnd.jupyter.widget-view+json": {
       "model_id": "d7710cf1ec0f4cf1a2398a37c1ac6f42",
       "version_major": 2,
       "version_minor": 0
      },
      "text/plain": [
       "(pid=66099) Running 0: 0.00 row [00:00, ? row/s]"
      ]
     },
     "metadata": {},
     "output_type": "display_data"
    },
    {
     "data": {
      "application/vnd.jupyter.widget-view+json": {
       "model_id": "b2f6be79a8ba4d9cb38f3a7d0b8001ed",
       "version_major": 2,
       "version_minor": 0
      },
      "text/plain": [
       "(pid=66099) - ListFiles 1: 0.00 row [00:00, ? row/s]"
      ]
     },
     "metadata": {},
     "output_type": "display_data"
    },
    {
     "data": {
      "application/vnd.jupyter.widget-view+json": {
       "model_id": "f1a345b70d574319942a961678b51c56",
       "version_major": 2,
       "version_minor": 0
      },
      "text/plain": [
       "(pid=66099) - ReadFiles 2: 0.00 row [00:00, ? row/s]"
      ]
     },
     "metadata": {},
     "output_type": "display_data"
    },
    {
     "data": {
      "application/vnd.jupyter.widget-view+json": {
       "model_id": "c51d6c2f8dcf489a874d13f64bc30473",
       "version_major": 2,
       "version_minor": 0
      },
      "text/plain": [
       "(pid=66099) - split(2, equal=True) 3: 0.00 row [00:00, ? row/s]"
      ]
     },
     "metadata": {},
     "output_type": "display_data"
    },
    {
     "data": {
      "application/vnd.jupyter.widget-view+json": {
       "model_id": "7fcdd7efc71b493ea06202c39e3bf1b6",
       "version_major": 2,
       "version_minor": 0
      },
      "text/plain": [
       "(pid=66146) Running 0: 0.00 row [00:00, ? row/s]"
      ]
     },
     "metadata": {},
     "output_type": "display_data"
    },
    {
     "data": {
      "application/vnd.jupyter.widget-view+json": {
       "model_id": "9c120ccb4ecc4a2f839d7e482ddd075c",
       "version_major": 2,
       "version_minor": 0
      },
      "text/plain": [
       "(pid=66146) - ListFiles 1: 0.00 row [00:00, ? row/s]"
      ]
     },
     "metadata": {},
     "output_type": "display_data"
    },
    {
     "data": {
      "application/vnd.jupyter.widget-view+json": {
       "model_id": "779dfbbc05644623a63a12656f9c7748",
       "version_major": 2,
       "version_minor": 0
      },
      "text/plain": [
       "(pid=66146) - ReadFiles 2: 0.00 row [00:00, ? row/s]"
      ]
     },
     "metadata": {},
     "output_type": "display_data"
    },
    {
     "data": {
      "application/vnd.jupyter.widget-view+json": {
       "model_id": "c95a1c19c96142e7a5ff774a0ca236da",
       "version_major": 2,
       "version_minor": 0
      },
      "text/plain": [
       "(pid=66146) - split(2, equal=True) 3: 0.00 row [00:00, ? row/s]"
      ]
     },
     "metadata": {},
     "output_type": "display_data"
    },
    {
     "data": {
      "application/vnd.jupyter.widget-view+json": {
       "model_id": "066195af0de14ac5bb9610d26be76399",
       "version_major": 2,
       "version_minor": 0
      },
      "text/plain": [
       "(pid=66099) Running 0: 0.00 row [00:00, ? row/s]"
      ]
     },
     "metadata": {},
     "output_type": "display_data"
    },
    {
     "data": {
      "application/vnd.jupyter.widget-view+json": {
       "model_id": "96612a9c91124c9f85eb7c07eb1908a4",
       "version_major": 2,
       "version_minor": 0
      },
      "text/plain": [
       "(pid=66099) - ListFiles 1: 0.00 row [00:00, ? row/s]"
      ]
     },
     "metadata": {},
     "output_type": "display_data"
    },
    {
     "data": {
      "application/vnd.jupyter.widget-view+json": {
       "model_id": "b3f059ad927d453496eb268ce4e56710",
       "version_major": 2,
       "version_minor": 0
      },
      "text/plain": [
       "(pid=66099) - ReadFiles 2: 0.00 row [00:00, ? row/s]"
      ]
     },
     "metadata": {},
     "output_type": "display_data"
    },
    {
     "data": {
      "application/vnd.jupyter.widget-view+json": {
       "model_id": "41a970ee56c84e7493bd32a8368eae2e",
       "version_major": 2,
       "version_minor": 0
      },
      "text/plain": [
       "(pid=66099) - split(2, equal=True) 3: 0.00 row [00:00, ? row/s]"
      ]
     },
     "metadata": {},
     "output_type": "display_data"
    },
    {
     "data": {
      "application/vnd.jupyter.widget-view+json": {
       "model_id": "096e3663fa53439697fcc9f9c4d8cf84",
       "version_major": 2,
       "version_minor": 0
      },
      "text/plain": [
       "(pid=66146) Running 0: 0.00 row [00:00, ? row/s]"
      ]
     },
     "metadata": {},
     "output_type": "display_data"
    },
    {
     "data": {
      "application/vnd.jupyter.widget-view+json": {
       "model_id": "4ca7461bb2af4b6aa7f00534566d4836",
       "version_major": 2,
       "version_minor": 0
      },
      "text/plain": [
       "(pid=66146) - ListFiles 1: 0.00 row [00:00, ? row/s]"
      ]
     },
     "metadata": {},
     "output_type": "display_data"
    },
    {
     "data": {
      "application/vnd.jupyter.widget-view+json": {
       "model_id": "0a482a1fecba47dfa2ef460078503ae7",
       "version_major": 2,
       "version_minor": 0
      },
      "text/plain": [
       "(pid=66146) - ReadFiles 2: 0.00 row [00:00, ? row/s]"
      ]
     },
     "metadata": {},
     "output_type": "display_data"
    },
    {
     "data": {
      "application/vnd.jupyter.widget-view+json": {
       "model_id": "ebb32e53b79d4dc7a0a5c4c1227aadcf",
       "version_major": 2,
       "version_minor": 0
      },
      "text/plain": [
       "(pid=66146) - split(2, equal=True) 3: 0.00 row [00:00, ? row/s]"
      ]
     },
     "metadata": {},
     "output_type": "display_data"
    },
    {
     "data": {
      "application/vnd.jupyter.widget-view+json": {
       "model_id": "b7fef823e1cb42eeb00902095ab6eb39",
       "version_major": 2,
       "version_minor": 0
      },
      "text/plain": [
       "(pid=66099) Running 0: 0.00 row [00:00, ? row/s]"
      ]
     },
     "metadata": {},
     "output_type": "display_data"
    },
    {
     "data": {
      "application/vnd.jupyter.widget-view+json": {
       "model_id": "ae78167082424337920fc8595c99debd",
       "version_major": 2,
       "version_minor": 0
      },
      "text/plain": [
       "(pid=66099) - ListFiles 1: 0.00 row [00:00, ? row/s]"
      ]
     },
     "metadata": {},
     "output_type": "display_data"
    },
    {
     "data": {
      "application/vnd.jupyter.widget-view+json": {
       "model_id": "af97bf6dd0dc41a3982fe767b09111bc",
       "version_major": 2,
       "version_minor": 0
      },
      "text/plain": [
       "(pid=66099) - ReadFiles 2: 0.00 row [00:00, ? row/s]"
      ]
     },
     "metadata": {},
     "output_type": "display_data"
    },
    {
     "data": {
      "application/vnd.jupyter.widget-view+json": {
       "model_id": "7b20c3827a6945ab90bd47aac9750a2c",
       "version_major": 2,
       "version_minor": 0
      },
      "text/plain": [
       "(pid=66099) - split(2, equal=True) 3: 0.00 row [00:00, ? row/s]"
      ]
     },
     "metadata": {},
     "output_type": "display_data"
    },
    {
     "data": {
      "application/vnd.jupyter.widget-view+json": {
       "model_id": "7d1f267601ca46928b008cd8b7383d3c",
       "version_major": 2,
       "version_minor": 0
      },
      "text/plain": [
       "(pid=66146) Running 0: 0.00 row [00:00, ? row/s]"
      ]
     },
     "metadata": {},
     "output_type": "display_data"
    },
    {
     "data": {
      "application/vnd.jupyter.widget-view+json": {
       "model_id": "6532f47e380c4e5d8f9f872c974bb1d3",
       "version_major": 2,
       "version_minor": 0
      },
      "text/plain": [
       "(pid=66146) - ListFiles 1: 0.00 row [00:00, ? row/s]"
      ]
     },
     "metadata": {},
     "output_type": "display_data"
    },
    {
     "data": {
      "application/vnd.jupyter.widget-view+json": {
       "model_id": "2385ce1d51a34445b98e1da74c6fed13",
       "version_major": 2,
       "version_minor": 0
      },
      "text/plain": [
       "(pid=66146) - ReadFiles 2: 0.00 row [00:00, ? row/s]"
      ]
     },
     "metadata": {},
     "output_type": "display_data"
    },
    {
     "data": {
      "application/vnd.jupyter.widget-view+json": {
       "model_id": "800d2e5df1a3422f84f37d1c30c3e5f2",
       "version_major": 2,
       "version_minor": 0
      },
      "text/plain": [
       "(pid=66146) - split(2, equal=True) 3: 0.00 row [00:00, ? row/s]"
      ]
     },
     "metadata": {},
     "output_type": "display_data"
    },
    {
     "data": {
      "application/vnd.jupyter.widget-view+json": {
       "model_id": "4783c7e31695420e9794b7d21a655547",
       "version_major": 2,
       "version_minor": 0
      },
      "text/plain": [
       "(pid=66099) Running 0: 0.00 row [00:00, ? row/s]"
      ]
     },
     "metadata": {},
     "output_type": "display_data"
    },
    {
     "data": {
      "application/vnd.jupyter.widget-view+json": {
       "model_id": "68fa43b8793444279a33963a4e1e1b2e",
       "version_major": 2,
       "version_minor": 0
      },
      "text/plain": [
       "(pid=66099) - ListFiles 1: 0.00 row [00:00, ? row/s]"
      ]
     },
     "metadata": {},
     "output_type": "display_data"
    },
    {
     "data": {
      "application/vnd.jupyter.widget-view+json": {
       "model_id": "b7a7798d23d04b16955aad031c376089",
       "version_major": 2,
       "version_minor": 0
      },
      "text/plain": [
       "(pid=66099) - ReadFiles 2: 0.00 row [00:00, ? row/s]"
      ]
     },
     "metadata": {},
     "output_type": "display_data"
    },
    {
     "data": {
      "application/vnd.jupyter.widget-view+json": {
       "model_id": "7cee112d6d9f41e590191e37d134517c",
       "version_major": 2,
       "version_minor": 0
      },
      "text/plain": [
       "(pid=66099) - split(2, equal=True) 3: 0.00 row [00:00, ? row/s]"
      ]
     },
     "metadata": {},
     "output_type": "display_data"
    },
    {
     "data": {
      "application/vnd.jupyter.widget-view+json": {
       "model_id": "6497feaa34104a02aaa66a8e3e534c7e",
       "version_major": 2,
       "version_minor": 0
      },
      "text/plain": [
       "(pid=66146) Running 0: 0.00 row [00:00, ? row/s]"
      ]
     },
     "metadata": {},
     "output_type": "display_data"
    },
    {
     "data": {
      "application/vnd.jupyter.widget-view+json": {
       "model_id": "7de81a77867c4528be0ea6a56264f66e",
       "version_major": 2,
       "version_minor": 0
      },
      "text/plain": [
       "(pid=66146) - ListFiles 1: 0.00 row [00:00, ? row/s]"
      ]
     },
     "metadata": {},
     "output_type": "display_data"
    },
    {
     "data": {
      "application/vnd.jupyter.widget-view+json": {
       "model_id": "b65969165fc247789c0a22f029fc8b4f",
       "version_major": 2,
       "version_minor": 0
      },
      "text/plain": [
       "(pid=66146) - ReadFiles 2: 0.00 row [00:00, ? row/s]"
      ]
     },
     "metadata": {},
     "output_type": "display_data"
    },
    {
     "data": {
      "application/vnd.jupyter.widget-view+json": {
       "model_id": "bf85cdf038664bffa86f27d619c3df80",
       "version_major": 2,
       "version_minor": 0
      },
      "text/plain": [
       "(pid=66146) - split(2, equal=True) 3: 0.00 row [00:00, ? row/s]"
      ]
     },
     "metadata": {},
     "output_type": "display_data"
    },
    {
     "data": {
      "application/vnd.jupyter.widget-view+json": {
       "model_id": "7eb8b82a2f2946b18995c03832de0da1",
       "version_major": 2,
       "version_minor": 0
      },
      "text/plain": [
       "(pid=66099) Running 0: 0.00 row [00:00, ? row/s]"
      ]
     },
     "metadata": {},
     "output_type": "display_data"
    },
    {
     "data": {
      "application/vnd.jupyter.widget-view+json": {
       "model_id": "9b687382913340c0b6db0ff133bf3d30",
       "version_major": 2,
       "version_minor": 0
      },
      "text/plain": [
       "(pid=66099) - ListFiles 1: 0.00 row [00:00, ? row/s]"
      ]
     },
     "metadata": {},
     "output_type": "display_data"
    },
    {
     "data": {
      "application/vnd.jupyter.widget-view+json": {
       "model_id": "cb2d108a53594afd9b9cec37644c5970",
       "version_major": 2,
       "version_minor": 0
      },
      "text/plain": [
       "(pid=66099) - ReadFiles 2: 0.00 row [00:00, ? row/s]"
      ]
     },
     "metadata": {},
     "output_type": "display_data"
    },
    {
     "data": {
      "application/vnd.jupyter.widget-view+json": {
       "model_id": "75f4881ff38949829aa4b3d73c5ae4b1",
       "version_major": 2,
       "version_minor": 0
      },
      "text/plain": [
       "(pid=66099) - split(2, equal=True) 3: 0.00 row [00:00, ? row/s]"
      ]
     },
     "metadata": {},
     "output_type": "display_data"
    },
    {
     "name": "stderr",
     "output_type": "stream",
     "text": [
      "\u001b[36m(SplitCoordinator pid=66146)\u001b[0m Execution plan of Dataset: InputDataBuffer[Input] -> TaskPoolMapOperator[ListFiles] -> TaskPoolMapOperator[ReadFiles] -> OutputSplitter[split(2, equal=True)]\u001b[32m [repeated 22x across cluster]\u001b[0m\n"
     ]
    },
    {
     "data": {
      "application/vnd.jupyter.widget-view+json": {
       "model_id": "9c7e088c75834ef98dc0c60f50d8f0d9",
       "version_major": 2,
       "version_minor": 0
      },
      "text/plain": [
       "(pid=66146) Running 0: 0.00 row [00:00, ? row/s]"
      ]
     },
     "metadata": {},
     "output_type": "display_data"
    },
    {
     "data": {
      "application/vnd.jupyter.widget-view+json": {
       "model_id": "e34059e330a44aafbb3442d2f7801c3f",
       "version_major": 2,
       "version_minor": 0
      },
      "text/plain": [
       "(pid=66146) - ListFiles 1: 0.00 row [00:00, ? row/s]"
      ]
     },
     "metadata": {},
     "output_type": "display_data"
    },
    {
     "data": {
      "application/vnd.jupyter.widget-view+json": {
       "model_id": "965dcd754d764c0a8d397f740e06517b",
       "version_major": 2,
       "version_minor": 0
      },
      "text/plain": [
       "(pid=66146) - ReadFiles 2: 0.00 row [00:00, ? row/s]"
      ]
     },
     "metadata": {},
     "output_type": "display_data"
    },
    {
     "data": {
      "application/vnd.jupyter.widget-view+json": {
       "model_id": "634115928a414919934e2b3925673252",
       "version_major": 2,
       "version_minor": 0
      },
      "text/plain": [
       "(pid=66146) - split(2, equal=True) 3: 0.00 row [00:00, ? row/s]"
      ]
     },
     "metadata": {},
     "output_type": "display_data"
    },
    {
     "data": {
      "application/vnd.jupyter.widget-view+json": {
       "model_id": "4a00b6f383604e06b8985397657df18f",
       "version_major": 2,
       "version_minor": 0
      },
      "text/plain": [
       "(pid=66099) Running 0: 0.00 row [00:00, ? row/s]"
      ]
     },
     "metadata": {},
     "output_type": "display_data"
    },
    {
     "data": {
      "application/vnd.jupyter.widget-view+json": {
       "model_id": "11d074c53333426abbd7f2c8fa0e4b20",
       "version_major": 2,
       "version_minor": 0
      },
      "text/plain": [
       "(pid=66099) - ListFiles 1: 0.00 row [00:00, ? row/s]"
      ]
     },
     "metadata": {},
     "output_type": "display_data"
    },
    {
     "data": {
      "application/vnd.jupyter.widget-view+json": {
       "model_id": "c1750cb9cec740c894d2cd6d879798c7",
       "version_major": 2,
       "version_minor": 0
      },
      "text/plain": [
       "(pid=66099) - ReadFiles 2: 0.00 row [00:00, ? row/s]"
      ]
     },
     "metadata": {},
     "output_type": "display_data"
    },
    {
     "data": {
      "application/vnd.jupyter.widget-view+json": {
       "model_id": "c94153089ef943428c915764055cc907",
       "version_major": 2,
       "version_minor": 0
      },
      "text/plain": [
       "(pid=66099) - split(2, equal=True) 3: 0.00 row [00:00, ? row/s]"
      ]
     },
     "metadata": {},
     "output_type": "display_data"
    },
    {
     "data": {
      "application/vnd.jupyter.widget-view+json": {
       "model_id": "119e87ace63d47b591b6ca07ef9a86a2",
       "version_major": 2,
       "version_minor": 0
      },
      "text/plain": [
       "(pid=66146) Running 0: 0.00 row [00:00, ? row/s]"
      ]
     },
     "metadata": {},
     "output_type": "display_data"
    },
    {
     "data": {
      "application/vnd.jupyter.widget-view+json": {
       "model_id": "46804377d6a74ea784b6471cbd9010d8",
       "version_major": 2,
       "version_minor": 0
      },
      "text/plain": [
       "(pid=66146) - ListFiles 1: 0.00 row [00:00, ? row/s]"
      ]
     },
     "metadata": {},
     "output_type": "display_data"
    },
    {
     "data": {
      "application/vnd.jupyter.widget-view+json": {
       "model_id": "0cd510d3e6e5491e9a259a22ff0ebf36",
       "version_major": 2,
       "version_minor": 0
      },
      "text/plain": [
       "(pid=66146) - ReadFiles 2: 0.00 row [00:00, ? row/s]"
      ]
     },
     "metadata": {},
     "output_type": "display_data"
    },
    {
     "data": {
      "application/vnd.jupyter.widget-view+json": {
       "model_id": "4f9b9deb2f9643cebfc7bdbc633a923e",
       "version_major": 2,
       "version_minor": 0
      },
      "text/plain": [
       "(pid=66146) - split(2, equal=True) 3: 0.00 row [00:00, ? row/s]"
      ]
     },
     "metadata": {},
     "output_type": "display_data"
    },
    {
     "data": {
      "application/vnd.jupyter.widget-view+json": {
       "model_id": "0743e6b5ccf54f5997d325dfe9bc80e5",
       "version_major": 2,
       "version_minor": 0
      },
      "text/plain": [
       "(pid=66099) Running 0: 0.00 row [00:00, ? row/s]"
      ]
     },
     "metadata": {},
     "output_type": "display_data"
    },
    {
     "data": {
      "application/vnd.jupyter.widget-view+json": {
       "model_id": "2015d52849fb47f089db20a6467ffd58",
       "version_major": 2,
       "version_minor": 0
      },
      "text/plain": [
       "(pid=66099) - ListFiles 1: 0.00 row [00:00, ? row/s]"
      ]
     },
     "metadata": {},
     "output_type": "display_data"
    },
    {
     "data": {
      "application/vnd.jupyter.widget-view+json": {
       "model_id": "79b14f4044fc499b9fe5fd5cdb0416b3",
       "version_major": 2,
       "version_minor": 0
      },
      "text/plain": [
       "(pid=66099) - ReadFiles 2: 0.00 row [00:00, ? row/s]"
      ]
     },
     "metadata": {},
     "output_type": "display_data"
    },
    {
     "data": {
      "application/vnd.jupyter.widget-view+json": {
       "model_id": "46d7230ae9aa4e7f87f48395da9d52dd",
       "version_major": 2,
       "version_minor": 0
      },
      "text/plain": [
       "(pid=66099) - split(2, equal=True) 3: 0.00 row [00:00, ? row/s]"
      ]
     },
     "metadata": {},
     "output_type": "display_data"
    },
    {
     "name": "stderr",
     "output_type": "stream",
     "text": [
      "\u001b[36m(SplitCoordinator pid=66146)\u001b[0m Starting execution of Dataset. Full logs are in /tmp/ray/session_2025-04-14_01-40-30_210331_55350/logs/ray-data\u001b[32m [repeated 22x across cluster]\u001b[0m\n"
     ]
    },
    {
     "data": {
      "application/vnd.jupyter.widget-view+json": {
       "model_id": "79ac6be2795e4bd1a285dcba24cb263d",
       "version_major": 2,
       "version_minor": 0
      },
      "text/plain": [
       "(pid=66146) Running 0: 0.00 row [00:00, ? row/s]"
      ]
     },
     "metadata": {},
     "output_type": "display_data"
    },
    {
     "data": {
      "application/vnd.jupyter.widget-view+json": {
       "model_id": "ebf5857c1813460698687101e116748f",
       "version_major": 2,
       "version_minor": 0
      },
      "text/plain": [
       "(pid=66146) - ListFiles 1: 0.00 row [00:00, ? row/s]"
      ]
     },
     "metadata": {},
     "output_type": "display_data"
    },
    {
     "data": {
      "application/vnd.jupyter.widget-view+json": {
       "model_id": "1f8f271360bf468f98defe9caf5295d7",
       "version_major": 2,
       "version_minor": 0
      },
      "text/plain": [
       "(pid=66146) - ReadFiles 2: 0.00 row [00:00, ? row/s]"
      ]
     },
     "metadata": {},
     "output_type": "display_data"
    },
    {
     "data": {
      "application/vnd.jupyter.widget-view+json": {
       "model_id": "87a6c2f330244ed1b7df4806aa5f4614",
       "version_major": 2,
       "version_minor": 0
      },
      "text/plain": [
       "(pid=66146) - split(2, equal=True) 3: 0.00 row [00:00, ? row/s]"
      ]
     },
     "metadata": {},
     "output_type": "display_data"
    },
    {
     "data": {
      "application/vnd.jupyter.widget-view+json": {
       "model_id": "728b701cb07b41aa9fa4eee458305e94",
       "version_major": 2,
       "version_minor": 0
      },
      "text/plain": [
       "(pid=66099) Running 0: 0.00 row [00:00, ? row/s]"
      ]
     },
     "metadata": {},
     "output_type": "display_data"
    },
    {
     "data": {
      "application/vnd.jupyter.widget-view+json": {
       "model_id": "be9a25d4ea944ac39be3a3686271aa95",
       "version_major": 2,
       "version_minor": 0
      },
      "text/plain": [
       "(pid=66099) - ListFiles 1: 0.00 row [00:00, ? row/s]"
      ]
     },
     "metadata": {},
     "output_type": "display_data"
    },
    {
     "data": {
      "application/vnd.jupyter.widget-view+json": {
       "model_id": "fa1498c44f2d45b39d10768dbc37c0e4",
       "version_major": 2,
       "version_minor": 0
      },
      "text/plain": [
       "(pid=66099) - ReadFiles 2: 0.00 row [00:00, ? row/s]"
      ]
     },
     "metadata": {},
     "output_type": "display_data"
    },
    {
     "data": {
      "application/vnd.jupyter.widget-view+json": {
       "model_id": "a20bdfbf862547498d2beb4937dd96d9",
       "version_major": 2,
       "version_minor": 0
      },
      "text/plain": [
       "(pid=66099) - split(2, equal=True) 3: 0.00 row [00:00, ? row/s]"
      ]
     },
     "metadata": {},
     "output_type": "display_data"
    },
    {
     "data": {
      "application/vnd.jupyter.widget-view+json": {
       "model_id": "88ce40e9984f4f3bbee3243e33b94ddc",
       "version_major": 2,
       "version_minor": 0
      },
      "text/plain": [
       "(pid=66146) Running 0: 0.00 row [00:00, ? row/s]"
      ]
     },
     "metadata": {},
     "output_type": "display_data"
    },
    {
     "data": {
      "application/vnd.jupyter.widget-view+json": {
       "model_id": "e706eb53092d4b59b8050b8ffb26d4a6",
       "version_major": 2,
       "version_minor": 0
      },
      "text/plain": [
       "(pid=66146) - ListFiles 1: 0.00 row [00:00, ? row/s]"
      ]
     },
     "metadata": {},
     "output_type": "display_data"
    },
    {
     "data": {
      "application/vnd.jupyter.widget-view+json": {
       "model_id": "78163ca0436c4c60a26af35f0db5d609",
       "version_major": 2,
       "version_minor": 0
      },
      "text/plain": [
       "(pid=66146) - ReadFiles 2: 0.00 row [00:00, ? row/s]"
      ]
     },
     "metadata": {},
     "output_type": "display_data"
    },
    {
     "data": {
      "application/vnd.jupyter.widget-view+json": {
       "model_id": "32d30efa47d04d79a59a1686fc2704ad",
       "version_major": 2,
       "version_minor": 0
      },
      "text/plain": [
       "(pid=66146) - split(2, equal=True) 3: 0.00 row [00:00, ? row/s]"
      ]
     },
     "metadata": {},
     "output_type": "display_data"
    },
    {
     "data": {
      "application/vnd.jupyter.widget-view+json": {
       "model_id": "063b0460701f4f4097455fe4896b309c",
       "version_major": 2,
       "version_minor": 0
      },
      "text/plain": [
       "(pid=66099) Running 0: 0.00 row [00:00, ? row/s]"
      ]
     },
     "metadata": {},
     "output_type": "display_data"
    },
    {
     "data": {
      "application/vnd.jupyter.widget-view+json": {
       "model_id": "17804191f1034531bcc5d903f3703bdd",
       "version_major": 2,
       "version_minor": 0
      },
      "text/plain": [
       "(pid=66099) - ListFiles 1: 0.00 row [00:00, ? row/s]"
      ]
     },
     "metadata": {},
     "output_type": "display_data"
    },
    {
     "data": {
      "application/vnd.jupyter.widget-view+json": {
       "model_id": "d1ccff0f38c544719a2c57a065243d3d",
       "version_major": 2,
       "version_minor": 0
      },
      "text/plain": [
       "(pid=66099) - ReadFiles 2: 0.00 row [00:00, ? row/s]"
      ]
     },
     "metadata": {},
     "output_type": "display_data"
    },
    {
     "data": {
      "application/vnd.jupyter.widget-view+json": {
       "model_id": "06d7dde2b6d14c13998c1035a7079034",
       "version_major": 2,
       "version_minor": 0
      },
      "text/plain": [
       "(pid=66099) - split(2, equal=True) 3: 0.00 row [00:00, ? row/s]"
      ]
     },
     "metadata": {},
     "output_type": "display_data"
    },
    {
     "data": {
      "application/vnd.jupyter.widget-view+json": {
       "model_id": "032075f358154d62a78ff7d217810b3e",
       "version_major": 2,
       "version_minor": 0
      },
      "text/plain": [
       "(pid=66146) Running 0: 0.00 row [00:00, ? row/s]"
      ]
     },
     "metadata": {},
     "output_type": "display_data"
    },
    {
     "data": {
      "application/vnd.jupyter.widget-view+json": {
       "model_id": "805c3d8b8b8b4f98a09a9ca31324d625",
       "version_major": 2,
       "version_minor": 0
      },
      "text/plain": [
       "(pid=66146) - ListFiles 1: 0.00 row [00:00, ? row/s]"
      ]
     },
     "metadata": {},
     "output_type": "display_data"
    },
    {
     "data": {
      "application/vnd.jupyter.widget-view+json": {
       "model_id": "4574c039ada84a2f9de0a4fcd007da73",
       "version_major": 2,
       "version_minor": 0
      },
      "text/plain": [
       "(pid=66146) - ReadFiles 2: 0.00 row [00:00, ? row/s]"
      ]
     },
     "metadata": {},
     "output_type": "display_data"
    },
    {
     "data": {
      "application/vnd.jupyter.widget-view+json": {
       "model_id": "1d23db1fe27f4844bac749edec184f74",
       "version_major": 2,
       "version_minor": 0
      },
      "text/plain": [
       "(pid=66146) - split(2, equal=True) 3: 0.00 row [00:00, ? row/s]"
      ]
     },
     "metadata": {},
     "output_type": "display_data"
    }
   ],
   "source": [
    "# Train\n",
    "results = trainer.fit()"
   ]
  },
  {
   "cell_type": "markdown",
   "metadata": {},
   "source": [
    "We can view our experiment metrics and model artifacts in our model registry. We're using OSS mlflow so we can run the server by pointing to our model registry location:\n",
    "\n",
    "```bash\n",
    "mlflow server -h 0.0.0.0 -p 8080 --backend-store-uri /mnt/user_storage/mlflow/doggos\n",
    "```\n",
    "\n",
    "We can view the dashboard by going to the **Overview tab** up top → **Open Ports**. \n",
    "\n",
    "<img src=\"https://raw.githubusercontent.com/anyscale/foundational-ray-app/refs/heads/main/images/mlflow.png\" width=685>\n",
    "\n",
    "We also have our Ray Dashboard and Train workfload specific dashboards above. \n",
    "\n",
    "<img src=\"https://raw.githubusercontent.com/anyscale/foundational-ray-app/refs/heads/main/images/train_metrics.png\" width=700>\n"
   ]
  },
  {
   "cell_type": "code",
   "execution_count": null,
   "metadata": {},
   "outputs": [
    {
     "data": {
      "text/plain": [
       "run_id                                      f1ceaedabc11424887cbeeff463c99f7\n",
       "experiment_id                                             554214753712428871\n",
       "status                                                              FINISHED\n",
       "artifact_uri               file:///mnt/user_storage/mlflow/doggos/5542147...\n",
       "start_time                                  2025-04-14 01:50:49.022000+00:00\n",
       "end_time                                    2025-04-14 01:51:01.954000+00:00\n",
       "metrics.lr                                                             0.001\n",
       "metrics.train_loss                                                  0.186492\n",
       "metrics.val_loss                                                    0.507574\n",
       "params.lr_factor                                                         0.8\n",
       "params.model_registry                        /mnt/user_storage/mlflow/doggos\n",
       "params.lr                                                              0.001\n",
       "params.num_classes                                                        36\n",
       "params.num_epochs                                                         20\n",
       "params.batch_size                                                        256\n",
       "params.dropout_p                                                         0.3\n",
       "params.lr_patience                                                         3\n",
       "params.class_to_label      {'pomeranian': 0, 'miniature_poodle': 1, 'gold...\n",
       "params.hidden_dim                                                        256\n",
       "params.experiment_name                                                doggos\n",
       "params.embedding_dim                                                     512\n",
       "tags.mlflow.user                                                         ray\n",
       "tags.mlflow.source.name    /home/ray/anaconda3/lib/python3.12/site-packag...\n",
       "tags.mlflow.runName                                        stately-stork-863\n",
       "tags.mlflow.source.type                                                LOCAL\n",
       "Name: 0, dtype: object"
      ]
     },
     "execution_count": null,
     "metadata": {},
     "output_type": "execute_result"
    }
   ],
   "source": [
    "# Sorted runs\n",
    "mlflow.set_tracking_uri(f\"file:{model_registry}\")\n",
    "sorted_runs = mlflow.search_runs(\n",
    "    experiment_names=[experiment_name], \n",
    "    order_by=[\"metrics.val_loss ASC\"])\n",
    "best_run = sorted_runs.iloc[0]\n",
    "best_run"
   ]
  },
  {
   "cell_type": "markdown",
   "metadata": {},
   "source": [
    "And we can easily wrap our training workload as a production grade [Anyscale Job](https://docs.anyscale.com/platform/jobs/) ([API ref](https://docs.anyscale.com/reference/job-api/))\n",
    "\n",
    "**Note**: \n",
    "- we're using a `containerfile` to define our dependencies, but we could easily use a pre-built image as well.\n",
    "- we can specify the compute as a [compute config](https://docs.anyscale.com/configuration/compute-configuration/) or inline in a [job config](https://docs.anyscale.com/reference/job-api#job-cli) file.\n",
    "- when we don't specify compute and when launching from a workspace, this defaults to the compute configuration of the Workspace."
   ]
  },
  {
   "cell_type": "code",
   "execution_count": null,
   "metadata": {},
   "outputs": [
    {
     "name": "stderr",
     "output_type": "stream",
     "text": [
      "Output\n",
      "(anyscale +0.9s) Submitting job with config JobConfig(name='train-doggos-model', image_uri=None, compute_config=None, env_vars=None, py_modules=None, py_executable=None, cloud=None, project=None, ray_version=None, job_queue_config=None).\n",
      "(anyscale +2.4s) Uploading local dir '/home/ray/default' to cloud storage.\n",
      "(anyscale +3.7s) Including workspace-managed pip dependencies.\n",
      "(anyscale +4.2s) Job 'train-doggos-model' submitted, ID: 'prodjob_mm7qnwcnbjuklrg3am4g8v46kj'.\n",
      "(anyscale +4.2s) View the job in the UI: https://console.anyscale.com/jobs/prodjob_mm7qnwcnbjuklrg3am4g8v46kj\n",
      "(anyscale +4.2s) Use `--wait` to wait for the job to run and stream logs.\n"
     ]
    }
   ],
   "source": [
    "%%bash\n",
    "# Production batch job\n",
    "anyscale job submit --name=train-doggos-model \\\n",
    "  --containerfile=\"/home/ray/default/containerfile\" \\\n",
    "  --working-dir=\"/home/ray/default\" \\\n",
    "  --exclude=\"\" \\\n",
    "  --max-retries=0 \\\n",
    "  -- python doggos/train.py"
   ]
  },
  {
   "cell_type": "markdown",
   "metadata": {},
   "source": [
    "<img src=\"https://raw.githubusercontent.com/anyscale/foundational-ray-app/refs/heads/main/images/train_job.png\" width=700>"
   ]
  },
  {
   "cell_type": "markdown",
   "metadata": {},
   "source": [
    "### Evaluation"
   ]
  },
  {
   "cell_type": "markdown",
   "metadata": {},
   "source": [
    "We'll conclude by evaluating our trained model on our test dataset. Evaluation is essentially just the same as our batch inference workload -- where we'll apply the model on batches of data and then calculate metrics using the predictions vs.true labels. Ray data is hyper optimized for throughput so preserving order is not a priority. But for evaluation, this is crucial! So we'll achieve this by preserving the entire row and adding the predicted label as another column to each row."
   ]
  },
  {
   "cell_type": "code",
   "execution_count": null,
   "metadata": {},
   "outputs": [],
   "source": [
    "from urllib.parse import urlparse\n",
    "from sklearn.metrics import multilabel_confusion_matrix"
   ]
  },
  {
   "cell_type": "code",
   "execution_count": null,
   "metadata": {},
   "outputs": [],
   "source": [
    "class TorchPredictor:\n",
    "    def __init__(self, preprocessor, model):\n",
    "        self.preprocessor = preprocessor\n",
    "        self.model = model\n",
    "        self.model.eval()\n",
    "\n",
    "    def __call__(self, batch, device=\"cuda\"):\n",
    "        self.model.to(device)\n",
    "        batch[\"prediction\"] = self.model.predict(collate_fn(batch))\n",
    "        return batch\n",
    "\n",
    "    def predict_probabilities(self, batch, device=\"cuda\"):\n",
    "        self.model.to(device)\n",
    "        predicted_probabilities = self.model.predict_probabilities(collate_fn(batch))\n",
    "        batch[\"probabilities\"] = [\n",
    "            {self.preprocessor.label_to_class[i]: prob for i, prob in enumerate(probabilities)}\n",
    "            for probabilities in predicted_probabilities\n",
    "        ]\n",
    "        return batch\n",
    "    \n",
    "    @classmethod\n",
    "    def from_artifacts_dir(cls, artifacts_dir):\n",
    "        with open(os.path.join(artifacts_dir, \"class_to_label.json\"), \"r\") as fp:\n",
    "            class_to_label = json.load(fp)\n",
    "        preprocessor = Preprocessor(class_to_label=class_to_label)\n",
    "        model = ClassificationModel.load(\n",
    "            args_fp=os.path.join(artifacts_dir, \"args.json\"), \n",
    "            state_dict_fp=os.path.join(artifacts_dir, \"model.pt\"),\n",
    "        )\n",
    "        return cls(preprocessor=preprocessor, model=model)"
   ]
  },
  {
   "cell_type": "code",
   "execution_count": null,
   "metadata": {},
   "outputs": [
    {
     "name": "stderr",
     "output_type": "stream",
     "text": [
      "/tmp/ipykernel_63884/1167522715.py:52: FutureWarning: You are using `torch.load` with `weights_only=False` (the current default value), which uses the default pickle module implicitly. It is possible to construct malicious pickle data which will execute arbitrary code during unpickling (See https://github.com/pytorch/pytorch/blob/main/SECURITY.md#untrusted-models for more details). In a future release, the default value for `weights_only` will be flipped to `True`. This limits the functions that could be executed during unpickling. Arbitrary objects will no longer be allowed to be loaded via this mode unless they are explicitly allowlisted by the user via `torch.serialization.add_safe_globals`. We recommend you start setting `weights_only=True` for any use case where you don't have full control of the loaded file. Please open an issue on GitHub for any issues related to this experimental feature.\n",
      "  model.load_state_dict(torch.load(state_dict_fp, map_location=device))\n"
     ]
    }
   ],
   "source": [
    "# Load and preproces eval dataset\n",
    "artifacts_dir = urlparse(best_run.artifact_uri).path\n",
    "predictor = TorchPredictor.from_artifacts_dir(artifacts_dir=artifacts_dir)\n",
    "test_ds = ray.data.read_images(\"s3://doggos-dataset/test\", include_paths=True)\n",
    "test_ds = test_ds.map(add_class)\n",
    "test_ds = predictor.preprocessor.transform(ds=test_ds)"
   ]
  },
  {
   "cell_type": "code",
   "execution_count": null,
   "metadata": {},
   "outputs": [
    {
     "name": "stderr",
     "output_type": "stream",
     "text": [
      "2025-04-14 01:51:09,991\tINFO streaming_executor.py:108 -- Starting execution of Dataset. Full logs are in /tmp/ray/session_2025-04-14_01-40-30_210331_55350/logs/ray-data\n",
      "2025-04-14 01:51:09,992\tINFO streaming_executor.py:109 -- Execution plan of Dataset: InputDataBuffer[Input] -> TaskPoolMapOperator[ListFiles] -> TaskPoolMapOperator[ReadFiles] -> TaskPoolMapOperator[Map(add_class)->Map(Preprocessor.convert_to_label)] -> ActorPoolMapOperator[MapBatches(EmbeddingGenerator)] -> TaskPoolMapOperator[MapBatches(drop_columns)] -> TaskPoolMapOperator[MapBatches(TorchPredictor)] -> LimitOperator[limit=1]\n"
     ]
    },
    {
     "data": {
      "application/vnd.jupyter.widget-view+json": {
       "model_id": "d30e73f3cbd045eea417b525e0589dd6",
       "version_major": 2,
       "version_minor": 0
      },
      "text/plain": [
       "Running 0: 0.00 row [00:00, ? row/s]"
      ]
     },
     "metadata": {},
     "output_type": "display_data"
    },
    {
     "data": {
      "application/vnd.jupyter.widget-view+json": {
       "model_id": "8255e686e89e45b78ed5d89d829d6491",
       "version_major": 2,
       "version_minor": 0
      },
      "text/plain": [
       "- ListFiles 1: 0.00 row [00:00, ? row/s]"
      ]
     },
     "metadata": {},
     "output_type": "display_data"
    },
    {
     "data": {
      "application/vnd.jupyter.widget-view+json": {
       "model_id": "32146f97619142e8aa1e2beecd3024bf",
       "version_major": 2,
       "version_minor": 0
      },
      "text/plain": [
       "- ReadFiles 2: 0.00 row [00:00, ? row/s]"
      ]
     },
     "metadata": {},
     "output_type": "display_data"
    },
    {
     "data": {
      "application/vnd.jupyter.widget-view+json": {
       "model_id": "e7b51ca680ae4fff87917083a213cacd",
       "version_major": 2,
       "version_minor": 0
      },
      "text/plain": [
       "- Map(add_class)->Map(Preprocessor.convert_to_label) 3: 0.00 row [00:00, ? row/s]"
      ]
     },
     "metadata": {},
     "output_type": "display_data"
    },
    {
     "data": {
      "application/vnd.jupyter.widget-view+json": {
       "model_id": "4d406cebcf344c2fb0345a15b5b3fd82",
       "version_major": 2,
       "version_minor": 0
      },
      "text/plain": [
       "- MapBatches(EmbeddingGenerator) 4: 0.00 row [00:00, ? row/s]"
      ]
     },
     "metadata": {},
     "output_type": "display_data"
    },
    {
     "data": {
      "application/vnd.jupyter.widget-view+json": {
       "model_id": "becd74fa2e2d4009a44af051a3f32c71",
       "version_major": 2,
       "version_minor": 0
      },
      "text/plain": [
       "- MapBatches(drop_columns) 5: 0.00 row [00:00, ? row/s]"
      ]
     },
     "metadata": {},
     "output_type": "display_data"
    },
    {
     "data": {
      "application/vnd.jupyter.widget-view+json": {
       "model_id": "17d5b6e7b9e24d5fafa0537afb59175e",
       "version_major": 2,
       "version_minor": 0
      },
      "text/plain": [
       "- MapBatches(TorchPredictor) 6: 0.00 row [00:00, ? row/s]"
      ]
     },
     "metadata": {},
     "output_type": "display_data"
    },
    {
     "data": {
      "application/vnd.jupyter.widget-view+json": {
       "model_id": "97c6a7a7d71f46158cea4b01a1d91fa6",
       "version_major": 2,
       "version_minor": 0
      },
      "text/plain": [
       "- limit=1 7: 0.00 row [00:00, ? row/s]"
      ]
     },
     "metadata": {},
     "output_type": "display_data"
    },
    {
     "name": "stdout",
     "output_type": "stream",
     "text": [
      "\u001b[36m(autoscaler +2m5s)\u001b[0m Tip: use `ray status` to view detailed cluster status. To disable these messages, set RAY_SCHEDULER_EVENTS=0.\n",
      "\u001b[36m(autoscaler +2m5s)\u001b[0m [autoscaler] [4xA10G:48CPU-192GB] Attempting to add 1 node(s) to the cluster (increasing from 1 to 2).\n",
      "\u001b[36m(autoscaler +2m5s)\u001b[0m [autoscaler] [4xA10G:48CPU-192GB] Launched 1 instances.\n"
     ]
    },
    {
     "name": "stderr",
     "output_type": "stream",
     "text": [
      "\u001b[36m(MapBatches(TorchPredictor) pid=33680, ip=10.0.146.106)\u001b[0m /tmp/ipykernel_63884/3214280880.py:6: UserWarning: The given NumPy array is not writable, and PyTorch does not support non-writable tensors. This means writing to this tensor will result in undefined behavior. You may want to copy the array to protect its data or make it writable before converting it to a tensor. This type of warning will be suppressed for the rest of this program. (Triggered internally at ../torch/csrc/utils/tensor_numpy.cpp:206.)\n"
     ]
    },
    {
     "data": {
      "text/plain": [
       "[{'path': 'doggos-dataset/test/basset/basset_11148.jpg',\n",
       "  'class': 'basset',\n",
       "  'label': 31,\n",
       "  'embedding': array([-1.14944965e-01, -7.05509037e-02, -8.52287263e-02,  1.81779608e-01,\n",
       "          5.88430874e-02, -1.09410636e-01,  3.30680102e-01, -8.05140734e-01,\n",
       "         -4.24340218e-02,  9.51298326e-02,  1.19627938e-01,  1.74087137e-02,\n",
       "         -4.66955274e-01, -9.86773595e-02,  8.36427271e-01,  1.40534267e-01,\n",
       "          1.90595612e-01,  1.32550761e-01, -3.77191365e-01,  2.37362579e-01,\n",
       "         -1.02310371e+00,  4.93371375e-02, -6.68109134e-02, -5.63177884e-01,\n",
       "         -1.47696584e-02,  2.25933224e-01,  2.50845343e-01,  1.50249183e-01,\n",
       "         -4.90042120e-01, -1.20671824e-01,  4.36223745e-01,  1.30623356e-01,\n",
       "          3.48298639e-01, -1.52034834e-01,  4.58702594e-01,  6.28483146e-02,\n",
       "          1.62959039e-01, -1.54271722e-04, -2.58266270e-01,  2.02510738e+00,\n",
       "         -3.68792236e-01,  9.03655142e-02,  3.00869435e-01,  7.83522427e-02,\n",
       "          6.28992319e-02, -7.16678321e-01,  1.85173422e-01,  2.28294000e-01,\n",
       "          1.62502289e-01, -4.85824049e-02,  1.73683614e-02,  3.96184921e-01,\n",
       "         -4.12891448e-01,  3.89370173e-01,  1.84570462e-01, -1.31703407e-01,\n",
       "          5.65296590e-01,  3.95025969e-01, -2.33275726e-01, -2.60971785e-02,\n",
       "         -3.27869952e-02, -1.44617483e-01,  1.16351858e-01,  2.28465766e-01,\n",
       "          8.61554686e-03, -2.57828206e-01,  9.23979804e-02,  1.24211386e-01,\n",
       "         -2.94861972e-01,  9.85485986e-02,  4.18609269e-02, -8.46228153e-02,\n",
       "          1.42780840e-01,  4.94979620e-02,  2.54005864e-02,  3.34829450e-01,\n",
       "         -2.88821250e-01,  2.29717284e-01, -7.94412345e-02,  1.06828220e-01,\n",
       "          1.19897678e-01,  4.75598760e-02, -1.38590902e-01, -9.79962766e-01,\n",
       "          3.03713948e-01, -2.80836999e-01,  6.43433452e-01,  1.75756484e-01,\n",
       "          3.36269677e-01,  9.94356573e-02, -3.02664191e-01, -4.24385428e-01,\n",
       "         -5.77818251e+00,  2.09224492e-01, -2.70386845e-01,  5.02357930e-02,\n",
       "         -1.40698403e-01,  8.90074670e-02, -1.07287931e+00,  2.58939445e-01,\n",
       "         -1.72947749e-01,  1.82762370e-03, -1.97253659e-01, -5.03369123e-02,\n",
       "          3.12017977e-01, -3.45503688e-01,  5.94179332e-01,  1.26771346e-01,\n",
       "          2.52155960e-02, -3.90013695e-01,  3.38478893e-01, -1.26297212e+00,\n",
       "          1.24922559e-01, -6.39420599e-02, -1.52554438e-01, -2.30227783e-01,\n",
       "         -5.47512710e-01,  4.77681100e-01, -1.36442512e-01, -2.62714773e-02,\n",
       "          1.71758384e-01,  4.05134827e-01,  1.20907582e-01,  5.08828342e-01,\n",
       "          2.12079749e-01, -4.17961419e-01, -1.92016333e-01,  4.92216408e-01,\n",
       "          1.19855449e-01, -1.90679967e-01,  3.94303977e-01,  3.91390860e-01,\n",
       "         -4.16937396e-02,  8.23434234e-01, -8.84182453e-01,  3.19336802e-01,\n",
       "          7.08151460e-02, -7.19246984e-01,  3.51175725e-01,  8.65420476e-02,\n",
       "         -3.23758751e-01, -1.29712746e-02,  4.28299904e-01,  3.90030652e-01,\n",
       "          1.82785079e-01,  1.71419203e-01,  2.58043438e-01,  6.91903710e-01,\n",
       "          2.28296265e-01, -6.08500019e-02, -3.77761573e-01,  4.27230775e-01,\n",
       "         -1.44841716e-01, -7.77435582e-03, -2.73193061e-01,  3.88998717e-01,\n",
       "          2.36451164e-01, -3.45565796e-01,  1.29387170e-01, -1.40848339e-01,\n",
       "          6.00740537e-02,  2.61890471e-01,  3.50377709e-01,  3.06550413e-03,\n",
       "          9.64363292e-02, -2.77484298e-01,  7.08632544e-02,  4.20666307e-01,\n",
       "          1.37644991e-01,  2.83277661e-01,  1.75432935e-01,  6.16132021e-01,\n",
       "          4.53323126e-01,  5.01236208e-02, -1.43225625e-01, -2.26212561e-01,\n",
       "         -6.54214174e-02, -8.83295983e-02,  3.57336104e-01,  2.46568322e-02,\n",
       "         -1.51365355e-01,  9.31465402e-02, -6.08768500e-02, -2.03784838e-01,\n",
       "          2.99250372e-02, -1.96952164e-01,  2.56345160e-02, -3.58228177e-01,\n",
       "          2.39193887e-02,  1.59750268e-01,  3.63820612e-01,  1.45204484e-01,\n",
       "         -3.28023732e-01,  1.76090941e-01, -6.09692514e-01,  3.17969918e-01,\n",
       "          3.36981565e-01, -6.72149956e-02, -8.08667660e-01, -4.57488447e-01,\n",
       "          3.64429593e-01, -3.94906104e-03,  1.01014249e-01, -4.12115157e-02,\n",
       "         -7.19211018e-03, -6.21912062e-01, -2.85436958e-02,  1.70064822e-01,\n",
       "          2.42058977e-01,  4.12942797e-01, -2.90036619e-01, -2.25163087e-01,\n",
       "         -3.34274888e-01,  3.03632379e-01, -1.54376373e-01, -2.67411232e-01,\n",
       "         -9.06389236e-01,  6.22833371e-01,  1.08153772e+00,  1.88418925e-01,\n",
       "          5.74689731e-02,  3.17737162e-01, -3.54224667e-02,  1.00302257e-01,\n",
       "          2.85855532e-02, -5.21308631e-02, -8.01461563e-02, -1.13848239e-01,\n",
       "          2.70388424e-01,  1.89301595e-01,  2.15154693e-01,  2.94609219e-02,\n",
       "         -2.60112226e-01,  5.22171497e-01, -9.32053477e-03, -3.36460099e-02,\n",
       "         -2.25506797e-02, -3.42126191e-03, -3.17055762e-01, -6.27169967e-01,\n",
       "          4.37015325e-01,  7.42645562e-03,  1.92277864e-01, -4.31211919e-01,\n",
       "          1.44000530e-01,  6.04279041e-01,  3.36813301e-01, -2.27570787e-01,\n",
       "         -1.46580100e-01,  1.15321085e-01,  1.58127278e-01,  5.85664749e-01,\n",
       "          4.11699235e-01, -1.65053263e-01, -8.32002312e-02, -4.39503670e-01,\n",
       "          8.47019404e-02, -2.64150321e-01,  2.09404111e-01,  1.87135831e-01,\n",
       "         -4.67829794e-01,  4.26487625e-02,  1.02158606e-01, -6.03374362e-01,\n",
       "          2.77272522e-01, -4.42575812e-01,  2.65516341e-04,  7.26700872e-02,\n",
       "          2.03370064e-01,  9.24353004e-02, -4.00944173e-01, -8.83168429e-02,\n",
       "          5.51019549e-01,  3.68215054e-01, -1.28144741e-01, -2.54320294e-01,\n",
       "          2.52621859e-01,  3.14354718e-01,  9.77448747e-02, -3.71642590e-01,\n",
       "         -1.81071222e-01,  1.99586928e-01,  2.44430333e-01,  4.04190645e-02,\n",
       "          9.37770456e-02,  6.13007694e-02, -4.19931531e-01,  4.91521925e-01,\n",
       "         -5.64446270e-01, -3.56704950e-01,  1.68084487e-01,  3.02094631e-02,\n",
       "         -2.24500671e-01,  1.74154267e-01,  1.18296131e-01, -1.00294232e-01,\n",
       "         -3.00248414e-01,  5.34566343e-01,  2.16765761e-01,  1.62753820e-01,\n",
       "         -2.86888599e-01,  4.27347034e-01, -1.06213592e-01,  2.61145204e-01,\n",
       "         -5.17340973e-02, -5.16793549e-01, -1.35195881e-01,  3.85454893e-01,\n",
       "          1.46958709e-01,  1.63984746e-01, -2.49586791e-01,  3.36483985e-01,\n",
       "          8.21211874e-01, -8.29336643e-02,  2.61168480e-02, -5.17659523e-02,\n",
       "          4.07049894e-01,  3.84913266e-01, -3.08862448e-01, -5.46096325e-01,\n",
       "          9.11150098e-01,  7.32522011e-01, -3.64601970e-01,  4.74762589e-01,\n",
       "          2.44982481e-01,  1.11763537e-01,  3.75683680e-02,  2.85315275e-01,\n",
       "          3.28470707e-01, -4.87420052e-01,  3.82330716e-02, -3.60640407e-01,\n",
       "          8.35164785e-01, -4.58721399e-01,  1.67251617e-01, -1.92968659e-02,\n",
       "          4.98541519e-02,  4.56413984e-01, -1.14627630e-01, -3.32064867e-01,\n",
       "          1.22600138e-01, -5.02539277e-01, -2.00690143e-02,  3.03070992e-02,\n",
       "          5.26620150e-01,  2.45919943e-01,  2.96703011e-01,  6.89697638e-02,\n",
       "         -2.69043446e-01,  4.45594758e-01, -6.04368687e-01,  2.00706720e-01,\n",
       "         -9.71665531e-02,  4.89465892e-05,  2.13349611e-03,  7.95856714e-01,\n",
       "          2.97750264e-01, -1.15486372e+00,  1.58283547e-01,  5.10452092e-02,\n",
       "          8.90231192e-01, -1.02829300e-01, -5.46326101e-01,  2.27065146e-01,\n",
       "         -7.38618135e-01,  1.86499119e-01, -7.24237442e-01,  2.77677178e-01,\n",
       "         -4.33338076e-01, -2.24614531e-01,  5.89309186e-02,  1.10683322e-01,\n",
       "          2.31880859e-01,  6.94287941e-02, -7.01884776e-02,  4.01305348e-01,\n",
       "          1.45430040e+00,  2.43674189e-01,  4.43702579e-01,  9.86767560e-02,\n",
       "          4.30377811e-01, -1.13000900e-01,  7.88663328e-02,  1.88827470e-01,\n",
       "          4.05657828e-01, -3.23620498e-01, -6.70271099e-01,  7.13624209e-02,\n",
       "          3.05910259e-01, -1.51175725e+00, -4.19362426e-01, -3.50255519e-01,\n",
       "          5.69582820e-01, -4.96144921e-01, -2.30945706e-01, -7.10828081e-02,\n",
       "         -6.01394773e-02,  5.68063021e-01, -2.19535291e-01, -6.95617735e-01,\n",
       "         -6.29555434e-02, -1.26119405e-01, -1.01559475e-01,  1.13323294e-01,\n",
       "          2.57798195e-01, -3.78932595e-01, -1.28930330e-01, -1.73224851e-01,\n",
       "          3.03690165e-01, -9.21845436e-02,  5.03718734e-01, -2.04289854e-02,\n",
       "         -3.24795425e-01, -3.21184158e-01, -2.57488936e-01, -1.44413918e-01,\n",
       "          3.51877332e-01,  4.37205881e-01,  3.08832556e-01, -4.35687095e-01,\n",
       "          3.12155634e-01,  1.74319461e-01, -1.54189095e-01, -2.06707835e-01,\n",
       "         -7.88900927e-02, -1.87904134e-01, -3.03511232e-01, -2.47520000e-01,\n",
       "          3.83640826e-01, -2.30094083e-02,  5.57012632e-02, -2.65388060e-02,\n",
       "         -4.70463842e-01,  6.24965280e-02, -8.98590684e-02, -2.83687934e-02,\n",
       "         -9.63654578e-01,  2.09814489e-01,  3.66396099e-01,  3.37315649e-02,\n",
       "          3.27430010e-01,  1.52108967e-01, -2.42637858e-01, -2.38184124e-01,\n",
       "          5.33413351e-01, -1.06380522e-01,  2.24798858e-01, -2.22903416e-01,\n",
       "          1.30300447e-01, -1.80150539e-01, -8.30463469e-01, -3.74856293e-01,\n",
       "         -3.98521572e-02,  2.12159157e-02, -1.69449344e-01, -1.89865604e-01,\n",
       "          4.55241799e-01,  4.22673881e-01,  2.29505986e-01,  1.09787993e-01,\n",
       "          1.24388784e-02, -6.96004391e-01,  1.71665162e-01,  5.59496999e-01,\n",
       "          5.45726061e-01,  3.54054630e-01, -5.75382888e-01,  8.86010975e-02,\n",
       "          7.77015239e-02, -1.93472207e-03,  2.22775221e-01,  2.06886068e-01,\n",
       "         -2.40410805e-01, -1.58635989e-01, -2.05801606e-01, -4.54134583e-01,\n",
       "          9.76387039e-02, -7.98549280e-02, -6.16656482e-01, -2.57136226e-01,\n",
       "          2.28300959e-01, -1.08541176e-01,  1.55820265e-01, -4.11614656e-01,\n",
       "         -3.65071446e-01, -8.81936401e-02, -4.18116868e-01, -5.07499456e-01,\n",
       "          1.52979791e-03,  6.23434782e-03,  1.44503843e-02, -2.06411272e-01,\n",
       "          3.03219974e-01, -1.88196093e-01,  5.21612525e-01,  3.14698461e-03,\n",
       "         -4.30941820e-01,  7.36253977e-01, -7.62819946e-01,  2.15624198e-02,\n",
       "         -5.92364550e-01, -1.57064527e-01, -3.89329672e-01, -2.32021183e-01,\n",
       "          8.72949362e-01, -4.34343129e-01, -2.11850196e-01,  3.77867490e-01,\n",
       "         -8.77881408e-01,  6.00829184e-01, -1.98955178e-01, -3.02072883e-01],\n",
       "        dtype=float32),\n",
       "  'prediction': 31}]"
      ]
     },
     "execution_count": null,
     "metadata": {},
     "output_type": "execute_result"
    }
   ],
   "source": [
    "# y_pred (batch inference)\n",
    "pred_ds = test_ds.map_batches(\n",
    "    predictor,\n",
    "    fn_kwargs={\"device\": \"cuda\"},\n",
    "    concurrency=4,\n",
    "    batch_size=64,\n",
    "    num_gpus=1,\n",
    "    accelerator_type=\"A10G\",\n",
    ")\n",
    "pred_ds.take(1)"
   ]
  },
  {
   "cell_type": "code",
   "execution_count": null,
   "metadata": {},
   "outputs": [],
   "source": [
    "def batch_metric(batch):\n",
    "    labels = batch[\"label\"]\n",
    "    preds = batch[\"prediction\"]\n",
    "    mcm = multilabel_confusion_matrix(labels, preds)\n",
    "    tn, fp, fn, tp = [], [], [], []\n",
    "    for i in range(mcm.shape[0]):\n",
    "        tn.append(mcm[i, 0, 0])  # True negatives\n",
    "        fp.append(mcm[i, 0, 1])  # False positives\n",
    "        fn.append(mcm[i, 1, 0])  # False negatives\n",
    "        tp.append(mcm[i, 1, 1])  # True positives\n",
    "    return {\"TN\": tn, \"FP\": fp, \"FN\": fn, \"TP\": tp}\n"
   ]
  },
  {
   "cell_type": "code",
   "execution_count": null,
   "metadata": {},
   "outputs": [
    {
     "name": "stderr",
     "output_type": "stream",
     "text": [
      "2025-04-14 01:51:28,996\tINFO streaming_executor.py:108 -- Starting execution of Dataset. Full logs are in /tmp/ray/session_2025-04-14_01-40-30_210331_55350/logs/ray-data\n",
      "2025-04-14 01:51:28,997\tINFO streaming_executor.py:109 -- Execution plan of Dataset: InputDataBuffer[Input] -> TaskPoolMapOperator[ListFiles] -> TaskPoolMapOperator[ReadFiles] -> TaskPoolMapOperator[Map(add_class)->Map(Preprocessor.convert_to_label)] -> ActorPoolMapOperator[MapBatches(EmbeddingGenerator)] -> TaskPoolMapOperator[MapBatches(drop_columns)] -> TaskPoolMapOperator[MapBatches(TorchPredictor)] -> TaskPoolMapOperator[MapBatches(batch_metric)] -> AllToAllOperator[Aggregate] -> LimitOperator[limit=1]\n"
     ]
    },
    {
     "data": {
      "application/vnd.jupyter.widget-view+json": {
       "model_id": "7ebd8dcefa0c4ae587a8abd67b3479e1",
       "version_major": 2,
       "version_minor": 0
      },
      "text/plain": [
       "Running 0: 0.00 row [00:00, ? row/s]"
      ]
     },
     "metadata": {},
     "output_type": "display_data"
    },
    {
     "data": {
      "application/vnd.jupyter.widget-view+json": {
       "model_id": "a0cd1e9981a5402d88d8f4e6bd0d6f41",
       "version_major": 2,
       "version_minor": 0
      },
      "text/plain": [
       "- ListFiles 1: 0.00 row [00:00, ? row/s]"
      ]
     },
     "metadata": {},
     "output_type": "display_data"
    },
    {
     "data": {
      "application/vnd.jupyter.widget-view+json": {
       "model_id": "e4fa1e6511534089a4a0d61608c3ae08",
       "version_major": 2,
       "version_minor": 0
      },
      "text/plain": [
       "- ReadFiles 2: 0.00 row [00:00, ? row/s]"
      ]
     },
     "metadata": {},
     "output_type": "display_data"
    },
    {
     "data": {
      "application/vnd.jupyter.widget-view+json": {
       "model_id": "aa433a02b82c4c0b80d90d209daed65a",
       "version_major": 2,
       "version_minor": 0
      },
      "text/plain": [
       "- Map(add_class)->Map(Preprocessor.convert_to_label) 3: 0.00 row [00:00, ? row/s]"
      ]
     },
     "metadata": {},
     "output_type": "display_data"
    },
    {
     "data": {
      "application/vnd.jupyter.widget-view+json": {
       "model_id": "d65d6f360cd34f609a4475ce404aaf8f",
       "version_major": 2,
       "version_minor": 0
      },
      "text/plain": [
       "- MapBatches(EmbeddingGenerator) 4: 0.00 row [00:00, ? row/s]"
      ]
     },
     "metadata": {},
     "output_type": "display_data"
    },
    {
     "data": {
      "application/vnd.jupyter.widget-view+json": {
       "model_id": "662bb2d510324b96aae765ed2af135bd",
       "version_major": 2,
       "version_minor": 0
      },
      "text/plain": [
       "- MapBatches(drop_columns) 5: 0.00 row [00:00, ? row/s]"
      ]
     },
     "metadata": {},
     "output_type": "display_data"
    },
    {
     "data": {
      "application/vnd.jupyter.widget-view+json": {
       "model_id": "df09ba8c8e444780923f780a540e2223",
       "version_major": 2,
       "version_minor": 0
      },
      "text/plain": [
       "- MapBatches(TorchPredictor) 6: 0.00 row [00:00, ? row/s]"
      ]
     },
     "metadata": {},
     "output_type": "display_data"
    },
    {
     "data": {
      "application/vnd.jupyter.widget-view+json": {
       "model_id": "4f81ae20704a4ebb94ca1b2e42ffcb93",
       "version_major": 2,
       "version_minor": 0
      },
      "text/plain": [
       "- MapBatches(batch_metric) 7: 0.00 row [00:00, ? row/s]"
      ]
     },
     "metadata": {},
     "output_type": "display_data"
    },
    {
     "data": {
      "application/vnd.jupyter.widget-view+json": {
       "model_id": "9a99c8cce46d44a49d4ba0671a5328a3",
       "version_major": 2,
       "version_minor": 0
      },
      "text/plain": [
       "- Aggregate 8: 0.00 row [00:00, ? row/s]"
      ]
     },
     "metadata": {},
     "output_type": "display_data"
    },
    {
     "data": {
      "application/vnd.jupyter.widget-view+json": {
       "model_id": "1e32225affed4286bc5935cf71a0dd01",
       "version_major": 2,
       "version_minor": 0
      },
      "text/plain": [
       "Sort Sample 9:   0%|          | 0.00/1.00 [00:00<?, ? row/s]"
      ]
     },
     "metadata": {},
     "output_type": "display_data"
    },
    {
     "data": {
      "application/vnd.jupyter.widget-view+json": {
       "model_id": "86a9a159f37c41ca840131d6d55e4af3",
       "version_major": 2,
       "version_minor": 0
      },
      "text/plain": [
       "Shuffle Map 10:   0%|          | 0.00/1.00 [00:00<?, ? row/s]"
      ]
     },
     "metadata": {},
     "output_type": "display_data"
    },
    {
     "data": {
      "application/vnd.jupyter.widget-view+json": {
       "model_id": "46c8a7cee2364fe68b50754a863dc0b8",
       "version_major": 2,
       "version_minor": 0
      },
      "text/plain": [
       "Shuffle Reduce 11:   0%|          | 0.00/1.00 [00:00<?, ? row/s]"
      ]
     },
     "metadata": {},
     "output_type": "display_data"
    },
    {
     "data": {
      "application/vnd.jupyter.widget-view+json": {
       "model_id": "23d2231670c24402987c0150a12a4a8d",
       "version_major": 2,
       "version_minor": 0
      },
      "text/plain": [
       "- limit=1 12: 0.00 row [00:00, ? row/s]"
      ]
     },
     "metadata": {},
     "output_type": "display_data"
    },
    {
     "name": "stderr",
     "output_type": "stream",
     "text": [
      "\u001b[36m(MapBatches(TorchPredictor) pid=38436, ip=10.0.146.106)\u001b[0m /tmp/ipykernel_63884/3214280880.py:6: UserWarning: The given NumPy array is not writable, and PyTorch does not support non-writable tensors. This means writing to this tensor will result in undefined behavior. You may want to copy the array to protect its data or make it writable before converting it to a tensor. This type of warning will be suppressed for the rest of this program. (Triggered internally at ../torch/csrc/utils/tensor_numpy.cpp:206.)\n",
      "\u001b[36m(MapBatches(TorchPredictor) pid=41215, ip=10.0.146.106)\u001b[0m /tmp/ipykernel_63884/3214280880.py:6: UserWarning: The given NumPy array is not writable, and PyTorch does not support non-writable tensors. This means writing to this tensor will result in undefined behavior. You may want to copy the array to protect its data or make it writable before converting it to a tensor. This type of warning will be suppressed for the rest of this program. (Triggered internally at ../torch/csrc/utils/tensor_numpy.cpp:206.)\u001b[32m [repeated 4x across cluster]\u001b[0m\n",
      "\u001b[36m(MapBatches(TorchPredictor) pid=41553, ip=10.0.146.106)\u001b[0m /tmp/ipykernel_63884/3214280880.py:6: UserWarning: The given NumPy array is not writable, and PyTorch does not support non-writable tensors. This means writing to this tensor will result in undefined behavior. You may want to copy the array to protect its data or make it writable before converting it to a tensor. This type of warning will be suppressed for the rest of this program. (Triggered internally at ../torch/csrc/utils/tensor_numpy.cpp:206.)\u001b[32m [repeated 4x across cluster]\u001b[0m\n",
      "\u001b[36m(MapBatches(TorchPredictor) pid=41892, ip=10.0.146.106)\u001b[0m /tmp/ipykernel_63884/3214280880.py:6: UserWarning: The given NumPy array is not writable, and PyTorch does not support non-writable tensors. This means writing to this tensor will result in undefined behavior. You may want to copy the array to protect its data or make it writable before converting it to a tensor. This type of warning will be suppressed for the rest of this program. (Triggered internally at ../torch/csrc/utils/tensor_numpy.cpp:206.)\u001b[32m [repeated 4x across cluster]\u001b[0m\n",
      "\u001b[36m(MapBatches(TorchPredictor) pid=42229, ip=10.0.146.106)\u001b[0m /tmp/ipykernel_63884/3214280880.py:6: UserWarning: The given NumPy array is not writable, and PyTorch does not support non-writable tensors. This means writing to this tensor will result in undefined behavior. You may want to copy the array to protect its data or make it writable before converting it to a tensor. This type of warning will be suppressed for the rest of this program. (Triggered internally at ../torch/csrc/utils/tensor_numpy.cpp:206.)\u001b[32m [repeated 4x across cluster]\u001b[0m\n"
     ]
    },
    {
     "name": "stdout",
     "output_type": "stream",
     "text": [
      "\u001b[36m(autoscaler +2m50s)\u001b[0m [autoscaler] Cluster upscaled to {144 CPU, 12 GPU}.\n"
     ]
    },
    {
     "name": "stderr",
     "output_type": "stream",
     "text": [
      "2025-04-14 01:53:09,043\tWARNING issue_detector_manager.py:39 -- A task for operator MapBatches(TorchPredictor) with task index 17 has been hanging for >30.070303427s.\n",
      "2025-04-14 01:53:09,044\tWARNING issue_detector_manager.py:39 -- A task for operator MapBatches(TorchPredictor) with task index 18 has been hanging for >30.07030697099981s.\n",
      "2025-04-14 01:53:09,045\tWARNING issue_detector_manager.py:39 -- A task for operator MapBatches(TorchPredictor) with task index 20 has been hanging for >30.070308141999703s.\n",
      "2025-04-14 01:53:09,045\tWARNING issue_detector_manager.py:39 -- A task for operator MapBatches(TorchPredictor) with task index 21 has been hanging for >30.07030849900002s.\n",
      "2025-04-14 01:53:09,046\tWARNING issue_detector_manager.py:41 -- To disable issue detection, run DataContext.get_current().issue_detectors_config.detectors = [].\n",
      "\u001b[36m(MapBatches(TorchPredictor) pid=3270, ip=10.0.189.192)\u001b[0m /tmp/ipykernel_63884/3214280880.py:6: UserWarning: The given NumPy array is not writable, and PyTorch does not support non-writable tensors. This means writing to this tensor will result in undefined behavior. You may want to copy the array to protect its data or make it writable before converting it to a tensor. This type of warning will be suppressed for the rest of this program. (Triggered internally at ../torch/csrc/utils/tensor_numpy.cpp:206.)\u001b[32m [repeated 2x across cluster]\u001b[0m\n",
      "\u001b[36m(MapBatches(TorchPredictor) pid=3271, ip=10.0.189.192)\u001b[0m /tmp/ipykernel_63884/3214280880.py:6: UserWarning: The given NumPy array is not writable, and PyTorch does not support non-writable tensors. This means writing to this tensor will result in undefined behavior. You may want to copy the array to protect its data or make it writable before converting it to a tensor. This type of warning will be suppressed for the rest of this program. (Triggered internally at ../torch/csrc/utils/tensor_numpy.cpp:206.)\u001b[32m [repeated 5x across cluster]\u001b[0m\n",
      "\u001b[36m(MapBatches(TorchPredictor) pid=3949, ip=10.0.189.192)\u001b[0m /tmp/ipykernel_63884/3214280880.py:6: UserWarning: The given NumPy array is not writable, and PyTorch does not support non-writable tensors. This means writing to this tensor will result in undefined behavior. You may want to copy the array to protect its data or make it writable before converting it to a tensor. This type of warning will be suppressed for the rest of this program. (Triggered internally at ../torch/csrc/utils/tensor_numpy.cpp:206.)\u001b[32m [repeated 3x across cluster]\u001b[0m\n",
      "\u001b[36m(MapBatches(TorchPredictor) pid=4117, ip=10.0.189.192)\u001b[0m /tmp/ipykernel_63884/3214280880.py:6: UserWarning: The given NumPy array is not writable, and PyTorch does not support non-writable tensors. This means writing to this tensor will result in undefined behavior. You may want to copy the array to protect its data or make it writable before converting it to a tensor. This type of warning will be suppressed for the rest of this program. (Triggered internally at ../torch/csrc/utils/tensor_numpy.cpp:206.)\u001b[32m [repeated 4x across cluster]\u001b[0m\n",
      "\u001b[36m(MapBatches(TorchPredictor) pid=4370, ip=10.0.189.192)\u001b[0m /tmp/ipykernel_63884/3214280880.py:6: UserWarning: The given NumPy array is not writable, and PyTorch does not support non-writable tensors. This means writing to this tensor will result in undefined behavior. You may want to copy the array to protect its data or make it writable before converting it to a tensor. This type of warning will be suppressed for the rest of this program. (Triggered internally at ../torch/csrc/utils/tensor_numpy.cpp:206.)\u001b[32m [repeated 4x across cluster]\u001b[0m\n",
      "\u001b[36m(MapBatches(TorchPredictor) pid=42897, ip=10.0.146.106)\u001b[0m /tmp/ipykernel_63884/3214280880.py:6: UserWarning: The given NumPy array is not writable, and PyTorch does not support non-writable tensors. This means writing to this tensor will result in undefined behavior. You may want to copy the array to protect its data or make it writable before converting it to a tensor. This type of warning will be suppressed for the rest of this program. (Triggered internally at ../torch/csrc/utils/tensor_numpy.cpp:206.)\u001b[32m [repeated 4x across cluster]\u001b[0m\n",
      "\u001b[36m(MapBatches(TorchPredictor) pid=4881, ip=10.0.189.192)\u001b[0m /tmp/ipykernel_63884/3214280880.py:6: UserWarning: The given NumPy array is not writable, and PyTorch does not support non-writable tensors. This means writing to this tensor will result in undefined behavior. You may want to copy the array to protect its data or make it writable before converting it to a tensor. This type of warning will be suppressed for the rest of this program. (Triggered internally at ../torch/csrc/utils/tensor_numpy.cpp:206.)\u001b[32m [repeated 4x across cluster]\u001b[0m\n",
      "\u001b[36m(MapBatches(TorchPredictor) pid=5135, ip=10.0.189.192)\u001b[0m /tmp/ipykernel_63884/3214280880.py:6: UserWarning: The given NumPy array is not writable, and PyTorch does not support non-writable tensors. This means writing to this tensor will result in undefined behavior. You may want to copy the array to protect its data or make it writable before converting it to a tensor. This type of warning will be suppressed for the rest of this program. (Triggered internally at ../torch/csrc/utils/tensor_numpy.cpp:206.)\u001b[32m [repeated 4x across cluster]\u001b[0m\n"
     ]
    }
   ],
   "source": [
    "# Aggregated metrics after processing all batches\n",
    "metrics_ds = pred_ds.map_batches(batch_metric)\n",
    "aggregate_metrics = metrics_ds.sum([\"TN\", \"FP\", \"FN\", \"TP\"])\n",
    "\n",
    "# Aggregate the confusion matrix components across all batches\n",
    "tn = aggregate_metrics[\"sum(TN)\"]\n",
    "fp = aggregate_metrics[\"sum(FP)\"]\n",
    "fn = aggregate_metrics[\"sum(FN)\"]\n",
    "tp = aggregate_metrics[\"sum(TP)\"]\n",
    "\n",
    "# Calculate metrics\n",
    "precision = tp / (tp + fp) if (tp + fp) > 0 else 0\n",
    "recall = tp / (tp + fn) if (tp + fn) > 0 else 0\n",
    "f1 = 2 * precision * recall / (precision + recall) if (precision + recall) > 0 else 0\n",
    "accuracy = (tp + tn) / (tp + tn + fp + fn)"
   ]
  },
  {
   "cell_type": "code",
   "execution_count": null,
   "metadata": {},
   "outputs": [
    {
     "name": "stdout",
     "output_type": "stream",
     "text": [
      "Precision: 0.83\n",
      "Recall: 0.83\n",
      "F1: 0.83\n",
      "Accuracy: 0.98\n"
     ]
    }
   ],
   "source": [
    "print(f\"Precision: {precision:.2f}\")\n",
    "print(f\"Recall: {recall:.2f}\")\n",
    "print(f\"F1: {f1:.2f}\")\n",
    "print(f\"Accuracy: {accuracy:.2f}\")"
   ]
  }
 ],
 "metadata": {
  "kernelspec": {
   "display_name": "base",
   "language": "python",
   "name": "python3"
  },
  "language_info": {
   "codemirror_mode": {
    "name": "ipython",
    "version": 3
   },
   "file_extension": ".py",
   "mimetype": "text/x-python",
   "name": "python",
   "nbconvert_exporter": "python",
   "pygments_lexer": "ipython3",
   "version": "3.12.9"
  }
 },
 "nbformat": 4,
 "nbformat_minor": 2
}
