{
 "cells": [
  {
   "cell_type": "markdown",
   "metadata": {},
   "source": [
    "# Batch Inference Basics\n",
    "\n",
    "**⏱️ Time to complete**: 10 min\n",
    "\n",
    "Offline batch inference is a process for generating model predictions on a fixed set of input data. [Ray Data](https://docs.ray.io/en/latest/data/data.html) offers a scalable solution for batch inference, providing optimized inference performance for deep learning applications.\n",
    "\n",
    "In this tutorial, you will learn:\n",
    "1. How to set up and run a basic batch inference job in Anyscale using Ray Data + HuggingFace.\n",
    "2. Features of the Ray Data parallelization API.\n",
    "3. Tips and tricks for improving performance and avoiding out of memory errors.\n",
    "\n",
    "**Note**: This tutorial runs within a workspace. Please overview the ``Introduction to Workspaces`` template first before this tutorial."
   ]
  },
  {
   "cell_type": "markdown",
   "metadata": {},
   "source": [
    "## Overview\n",
    "\n",
    "Using Ray Data for offline inference involves four basic steps:\n",
    "\n",
    "- **Step 1:** Load your data into a Ray Dataset. Ray Data supports [most common formats](https://docs.ray.io/en/latest/data/loading-data.html).\n",
    "- **Step 2:** Define a Python class to load the pre-trained model.\n",
    "- **Step 3:** Transform your dataset using the pre-trained model by calling [ds.map_batches()](https://docs.ray.io/en/latest/data/api/doc/ray.data.Dataset.map_batches.html).\n",
    "- **Step 4:** Get the final predictions by either iterating through the output or saving the results.\n",
    "\n",
    "Run the following cell for GPT-2 inference against a toy in-memory dataset with two records. The model will run on CPU:"
   ]
  },
  {
   "cell_type": "code",
   "execution_count": null,
   "metadata": {},
   "outputs": [],
   "source": [
    "from typing import Dict\n",
    "import numpy as np\n",
    "\n",
    "import ray\n",
    "\n",
    "# Step 1: Create a Ray Dataset from in-memory Numpy arrays.\n",
    "# You can also create a Ray Dataset from many other sources and file\n",
    "# formats.\n",
    "ds = ray.data.from_numpy(np.asarray([\"Complete this\", \"for me\"]))\n",
    "\n",
    "# Step 2: Define a Predictor class for inference.\n",
    "# Use a class to initialize the model just once in `__init__`\n",
    "# and re-use it for inference across multiple batches.\n",
    "class HuggingFacePredictor:\n",
    "    def __init__(self):\n",
    "        from transformers import pipeline\n",
    "        # Initialize a pre-trained GPT2 Huggingface pipeline.\n",
    "        self.model = pipeline(\"text-generation\", model=\"gpt2\")\n",
    "\n",
    "    # Logic for inference on 1 batch of data.\n",
    "    def __call__(self, batch: Dict[str, np.ndarray]) -> Dict[str, list]:\n",
    "        # Get the predictions from the input batch.\n",
    "        predictions = self.model(list(batch[\"data\"]), max_length=20, num_return_sequences=1)\n",
    "        # `predictions` is a list of length-one lists. For example:\n",
    "        # [[{'generated_text': 'output_1'}], ..., [{'generated_text': 'output_2'}]]\n",
    "        # Modify the output to get it into the following format instead:\n",
    "        # ['output_1', 'output_2']\n",
    "        batch[\"output\"] = [sequences[0][\"generated_text\"] for sequences in predictions]\n",
    "        return batch\n",
    "\n",
    "# Step 2: Map the Predictor over the Dataset to get predictions.\n",
    "# Use 2 parallel actors for inference. Each actor predicts on a\n",
    "# different partition of data.\n",
    "predictions = ds.map_batches(HuggingFacePredictor, concurrency=2)\n",
    "# Step 3: Show one prediction output.\n",
    "predictions.show(limit=1)"
   ]
  },
  {
   "cell_type": "markdown",
   "metadata": {},
   "source": [
    "### Interpreting the results\n",
    "\n",
    "You should see as output something like this: ``\"{'data': 'Complete this', 'output': 'Complete this order to ensure the best possible service for your business.\\n\\nWe take great pride in'}``\n",
    "\n",
    "Note that above we called ``ds.show()`` in order to print the results to the console. Typically, results are saved to storage using a [write call](https://docs.ray.io/en/latest/data/saving-data.html).\n",
    "\n",
    "In the Ray Dashboard tab, navigate to the Job page and open the \"Ray Data Overview\" section to view the details of the batch inference execution:\n",
    "\n",
    "<img src=\"assets/ray-data-job.png\" width=800px />\n",
    "\n"
   ]
  },
  {
   "cell_type": "markdown",
   "metadata": {},
   "source": [
    "## Scaling to a larger dataset\n",
    "\n",
    "Let's explore how to scale the above to a larger dataset, which will run on a cluster. Run the following cell to generate completions for 10000 rows with a concurrency of 20. Ensure *Auto-select worker nodes* is checked in the cluster sidebar, and Anyscale will automatically add worker nodes to the cluster as needed:"
   ]
  },
  {
   "cell_type": "code",
   "execution_count": null,
   "metadata": {},
   "outputs": [],
   "source": [
    "# Create a 10k row dataset.\n",
    "ds = ray.data.from_numpy(np.asarray([\"Today's weather\"] * 10000))\n",
    "\n",
    "# Ensure the dataset has enough blocks to be executed in parallel.\n",
    "ds = ds.repartition(1000)\n",
    "\n",
    "# Execute the batch inference.\n",
    "predictions = ds.map_batches(HuggingFacePredictor, concurrency=20)\n",
    "predictions.show()"
   ]
  },
  {
   "cell_type": "markdown",
   "metadata": {},
   "source": [
    "## Scaling with GPUs\n",
    "\n",
    "To use GPUs for inference, make the following changes to your code:\n",
    "\n",
    "1. Update the class implementation to move the model and data to and from GPU.\n",
    "2. Specify ``num_gpus=1`` in the ``ds.map_batches()`` call to indicate that each actor should use 1 GPU.\n",
    "3. Specify a ``batch_size`` for inference. We'll cover how to optimize batch size in the next section.\n",
    "\n",
    "The remaining is the same as in the code we ran above. To test this out, first make sure to either enable *Auto-select worker nodes* or configure your workspace cluster to have GPU worker nodes:\n",
    "\n",
    "<img src=\"assets/ray-data-gpu.png\" width=300px />\n",
    "\n",
    "Run the below cell to test out the new code using GPUs:"
   ]
  },
  {
   "cell_type": "code",
   "execution_count": null,
   "metadata": {},
   "outputs": [],
   "source": [
    "from typing import Dict\n",
    "import numpy as np\n",
    "\n",
    "import ray\n",
    "\n",
    "ds = ray.data.from_numpy(np.asarray([\"Large language models\", \"Text completion models\"]))\n",
    "\n",
    "class HuggingFacePredictor:\n",
    "    def __init__(self):\n",
    "        from transformers import pipeline\n",
    "        # Set \"cuda:0\" as the device so the Huggingface pipeline uses GPU.\n",
    "        self.model = pipeline(\"text-generation\", model=\"gpt2\", device=0)\n",
    "\n",
    "    def __call__(self, batch: Dict[str, np.ndarray]) -> Dict[str, list]:\n",
    "        predictions = self.model(list(batch[\"data\"]), max_length=20, num_return_sequences=1)\n",
    "        batch[\"output\"] = [sequences[0][\"generated_text\"] for sequences in predictions]\n",
    "        return batch\n",
    "\n",
    "# Use 2 actors, each actor using 1 GPU. 2 GPUs total.\n",
    "predictions = ds.map_batches(\n",
    "    HuggingFacePredictor,\n",
    "    num_gpus=1,\n",
    "    # Specify the batch size for inference.\n",
    "    # Increase this for larger datasets.\n",
    "    batch_size=1,\n",
    "    # Set the concurrency to the number of GPUs in your cluster.\n",
    "    concurrency=2,\n",
    "    )\n",
    "predictions.show(limit=1)"
   ]
  },
  {
   "cell_type": "markdown",
   "metadata": {},
   "source": [
    "### Configuring batch_size\n",
    "\n",
    "Configure the size of the input batch that’s passed to ``__call__`` by setting the batch_size argument for ``ds.map_batches()``.\n",
    "\n",
    "Increasing batch size results in faster execution because inference is a vectorized operation. For GPU inference, increasing batch size increases GPU utilization. Set the batch size to as large possible without running out of memory. If you encounter out-of-memory errors, decreasing ``batch_size`` may help.\n",
    "\n",
    "**Caution:** The default batch_size of 4096 may be too large for datasets with large rows (for example, tables with many columns or a collection of large images).\n",
    "\n",
    "\n"
   ]
  },
  {
   "cell_type": "code",
   "execution_count": null,
   "metadata": {},
   "outputs": [],
   "source": [
    "import numpy as np\n",
    "\n",
    "import ray\n",
    "\n",
    "ds = ray.data.from_numpy(np.ones((10, 100)))\n",
    "\n",
    "def assert_batch(batch: Dict[str, np.ndarray]):\n",
    "    assert len(batch[\"data\"]) == 2, batch\n",
    "    return batch\n",
    "\n",
    "# Specify that each input batch should be of size 2.\n",
    "ds.map_batches(assert_batch, batch_size=2).show(limit=1)"
   ]
  },
  {
   "cell_type": "markdown",
   "metadata": {},
   "source": [
    "### Handling GPU out-of-memory failures\n",
    "\n",
    "If you run into CUDA out-of-memory issues, your batch size is likely too large. Decrease the batch size as described above.\n",
    "\n",
    "If your batch size is already set to 1, then use either a smaller model or GPU devices with more memory.\n",
    "\n",
    "For advanced users working with large models, you can use model parallelism to shard the model across multiple GPUs."
   ]
  },
  {
   "cell_type": "markdown",
   "metadata": {},
   "source": [
    "## More tips and tricks\n",
    "\n",
    "### Optimizing expensive CPU preprocessing\n",
    "\n",
    "If your workload involves expensive CPU preprocessing in addition to model inference, you can optimize throughput by separating the preprocessing and inference logic into separate stages. This separation allows inference on batch \n",
    "``N`` to execute concurrently with preprocessing on batch ``N + 1``.\n",
    "\n",
    "For an example where preprocessing is done in a separate map call, see [Image Classification Batch Inference with PyTorch ResNet18](https://docs.ray.io/en/latest/data/examples/pytorch_resnet_batch_prediction.html).\n",
    "\n"
   ]
  },
  {
   "cell_type": "markdown",
   "metadata": {},
   "source": [
    "### Handling CPU out-of-memory failures\n",
    "\n",
    "If you run out of CPU RAM, you likely that you have too many model replicas that are running concurrently on the same node. For example, if a model uses 5 GB of RAM when created / run, and a machine has 16 GB of RAM total, then no more than three of these models can be run at the same time. The default resource assignments of one CPU per task/actor might lead to ``OutOfMemoryError`` from Ray in this situation.\n",
    "\n",
    "Suppose your cluster has 4 nodes, each with 16 CPUs. To limit to at most 3 of these actors per node, you can override the CPU or memory:\n"
   ]
  },
  {
   "cell_type": "code",
   "execution_count": null,
   "metadata": {},
   "outputs": [],
   "source": [
    "from typing import Dict\n",
    "import numpy as np\n",
    "\n",
    "import ray\n",
    "\n",
    "ds = ray.data.from_numpy(np.asarray([\"Complete this\", \"for me\"]))\n",
    "\n",
    "class HuggingFacePredictor:\n",
    "    def __init__(self):\n",
    "        from transformers import pipeline\n",
    "        self.model = pipeline(\"text-generation\", model=\"gpt2\")\n",
    "\n",
    "    def __call__(self, batch: Dict[str, np.ndarray]) -> Dict[str, list]:\n",
    "        predictions = self.model(list(batch[\"data\"]), max_length=20, num_return_sequences=1)\n",
    "        batch[\"output\"] = [sequences[0][\"generated_text\"] for sequences in predictions]\n",
    "        return batch\n",
    "\n",
    "predictions = ds.map_batches(\n",
    "    HuggingFacePredictor,\n",
    "    # Require 5 CPUs per actor (so at most 3 can fit per 16 CPU node).\n",
    "    num_cpus=5,\n",
    "    # 3 actors per node, with 4 nodes in the cluster means concurrency of 12.\n",
    "    concurrency=12,\n",
    "    )\n",
    "predictions.show(limit=1)"
   ]
  },
  {
   "cell_type": "markdown",
   "metadata": {},
   "source": [
    "This concludes our batch inference tutorial. To learn more about Ray Data and how you can use it to scale workloads such as batch inference, check out the [Ray Data docs](https://docs.ray.io/en/latest/data/data.html)."
   ]
  },
  {
   "cell_type": "markdown",
   "metadata": {},
   "source": [
    "## Summary\n",
    "\n",
    "This notebook:\n",
    "- Run a basic batch inference job using Ray Data + HuggingFace.\n",
    "- Showed how to configure Ray Data's parallelization options.\n",
    "- Overviewed common performance tips and how to avoid out of memory errors."
   ]
  },
  {
   "cell_type": "markdown",
   "metadata": {},
   "source": []
  }
 ],
 "metadata": {
  "language_info": {
   "name": "python"
  },
  "orig_nbformat": 4
 },
 "nbformat": 4,
 "nbformat_minor": 2
}
