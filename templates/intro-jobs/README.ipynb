{
 "cells": [
  {
   "cell_type": "markdown",
   "metadata": {},
   "source": [
    "# Introduction to Anyscale Jobs\n",
    "\n",
    "Submit your machine learning apps as [Anyscale Jobs](https://docs.anyscale.com/preview/preview/platform/jobs/) for scalability, programmability, fault tolerance, and persisting outputs like logs.\n",
    "\n",
    "**⏱️ Time to complete**: 10 min\n",
    "\n",
    "After implementing and testing your machine learning workloads, it’s time to move them into production. An Anyscale Job packages your application code, dependencies, and compute configurations.\n",
    "\n",
    "This example takes you through a common development to production workflow with Anyscale Jobs:\n",
    "\n",
    "1. Development\n",
    "    a. Run an app in a workspace.\n",
    "2. Production\n",
    "    a. Submit the app to Anyscale Jobs.\n",
    "    b. View the output.\n",
    "3. Submit the job externally from another machine."
   ]
  },
  {
   "cell_type": "markdown",
   "metadata": {},
   "source": [
    "## Walkthrough\n",
    "\n",
    "First, let's run the following app first interactively in the current workspace.\n",
    "\n",
    "This template includes a simple processing job in **./main.py** that runs a few Ray tasks. Run the cell below in the workspace, you should see it print the result after a few seconds."
   ]
  },
  {
   "cell_type": "code",
   "execution_count": null,
   "metadata": {},
   "outputs": [],
   "source": [
    "# First install the necessary `emoji` dependency.\n",
    "!pip install emoji"
   ]
  },
  {
   "cell_type": "code",
   "execution_count": null,
   "metadata": {},
   "outputs": [],
   "source": [
    "# Then run the Ray app script.\n",
    "!python main.py"
   ]
  },
  {
   "cell_type": "markdown",
   "metadata": {},
   "source": [
    "Next, let's try submitting the app to Anyscale Jobs. Within a workspace, you can use the \"anyscale job submit\" (job runs will be managed by Anyscale Jobs) functionality for this.\n",
    "\n",
    "The following cell should also run to completion within a few minutes and print the same result. Note however that the Ray app was not run within the workspace cluster (you can check the ``Ray Dashboard`` to verify). It was submitted to Anyscale for execution on a new Ray cluster."
   ]
  },
  {
   "cell_type": "code",
   "execution_count": null,
   "metadata": {},
   "outputs": [],
   "source": [
    "# Second, submit the Ray app for execution on a new Ray cluster.\n",
    "# The execution will be managed by Anyscale Jobs.\n",
    "!anyscale job submit --name my-job --wait -- python main.py\n",
    "\n",
    "# Tip: You can run any Ray app as a job by prefixing its entrypoint with \"anyscale job submit --\"."
   ]
  },
  {
   "cell_type": "markdown",
   "metadata": {},
   "source": [
    "### Job UI Overview\n",
    "\n",
    "You can view active and historical job runs at (`Home > Jobs`). Click into the job run created by the above cell to inspect its results.\n",
    "\n",
    "You should see the job state and its output on the overview page.\n",
    "\n",
    "<img src=\"assets/anyscale-job.png\" height=400px>"
   ]
  },
  {
   "cell_type": "markdown",
   "metadata": {},
   "source": [
    "## Submitting a Job programmatically\n",
    "\n",
    "In the above section, you submitted a Job from a workspace. By default, Jobs submitted from workspaces inherit the dependencies and compute config of the workspace.\n",
    "\n",
    "You can also submit jobs from other machines, using the Anyscale CLI. \n",
    "\n",
    "Copy ``main.py`` to an empty folder on your **laptop**, and then run the following on your **laptop** to try this out:\n",
    "\n",
    "```bash\n",
    "# Make sure we have anyscale CLI installed.\n",
    "$ pip install -U anyscale\n",
    "\n",
    "# Note: outside of workspaces, you must specify required files via --working-dir.\n",
    "$ anyscale job submit --working-dir=. --wait -- python main.py\n",
    "```\n",
    "\n",
    "Jobs submitted externally will run with the Anyscale default autoscaling compute config and dependencies. To override these settings, use the ``--config-file``, ``--image-uri``, or ``--containerfile`` flags.\n",
    "\n",
    "This concludes the Anyscale Jobs tutorial. To learn more about how to configure Anyscale Jobs, see the [Anyscale documentation](https://docs.endpoints.anyscale.com/preview/)."
   ]
  },
  {
   "cell_type": "markdown",
   "metadata": {},
   "source": [
    "## Summary\n",
    "\n",
    "This notebook:\n",
    "- Ran a simple Ray app in the local workspace.\n",
    "- Submitted the same Ray app as an Anyscale Job.\n",
    "- Walked through how to submit the same Job externally from a different machine."
   ]
  }
 ],
 "metadata": {
  "language_info": {
   "name": "python"
  },
  "orig_nbformat": 4
 },
 "nbformat": 4,
 "nbformat_minor": 2
}
