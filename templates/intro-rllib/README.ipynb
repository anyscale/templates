{
 "cells": [
  {
   "cell_type": "markdown",
   "metadata": {},
   "source": [
    "# Reinforcement Learning with RLlib\n",
    "\n",
    "**⏱️ Time to complete**: 5 min\n",
    "\n",
    "RLlib is Ray's library for reinforcement learning. Built on Ray, it is highly scalable and fault-tolerant.\n",
    "This template walks you through running a quick entry-level training. Specifically, we use RLlib's main APIs for defining a training workload, kick it off and observe it's metrics to see how it is doing. In addition, you can explore common use-cases like introducing your own environment."
   ]
  },
  {
   "cell_type": "code",
   "execution_count": null,
   "metadata": {},
   "outputs": [],
   "source": [
    "!pip install \"ray[rllib]\" torch \"gymnasium[atari,accept-rom-license,mujoco]\" python-opencv-headless\n",
    "# !RAY_VERSION=2.39.0 # Set this when releasing an image instead of hardcoding it here\n",
    "# !curl -O https://raw.githubusercontent.com/ray-project/ray/refs/heads/releases/${RAY_VERSION}/rllib/tuned_examples/ppo/atari_ppo.py"
   ]
  },
  {
   "cell_type": "markdown",
   "metadata": {},
   "source": [
    "## Learning Pong from images\n",
    "\n",
    "We start by learning the classic [Pong](https://en.wikipedia.org/wiki/Pong) video game.\n",
    "Expect this to scale the cluster 4 GPUs and 96 CPUs. It should take around 5 minutes to learn Pong."
   ]
  },
  {
   "cell_type": "code",
   "execution_count": null,
   "metadata": {},
   "outputs": [],
   "source": [
    "# --wandb-key=... --wandb-project=my_atari_tests\n",
    "!python atari_ppo.py --env ale_py:ALE/Pong-v5 --num-gpus 4 --num-env-runners 95"
   ]
  },
  {
   "cell_type": "markdown",
   "metadata": {},
   "source": [
    "You can find a multitude of examples [here](https://github.com/ray-project/ray/tree/master/rllib/examples) and run them from the command line like we did here."
   ]
  }
 ],
 "metadata": {
  "kernelspec": {
   "display_name": "base",
   "language": "python",
   "name": "python3"
  },
  "language_info": {
   "codemirror_mode": {
    "name": "ipython",
    "version": 3
   },
   "file_extension": ".py",
   "mimetype": "text/x-python",
   "name": "python",
   "nbconvert_exporter": "python",
   "pygments_lexer": "ipython3",
   "version": "3.12.2"
  }
 },
 "nbformat": 4,
 "nbformat_minor": 2
}
