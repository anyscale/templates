{
 "cells": [
  {
   "cell_type": "markdown",
   "metadata": {},
   "source": [
    "# Introduction to Anyscale Services\n",
    "\n",
    "Deploy your machine learning apps into production with [Anyscale Services](https://docs.anyscale.com/platform/services/) for scalability, fault tolerance, high availability, and zero downtime upgrades.\n",
    "\n",
    "---\n",
    "\n",
    "**⏱️ Time to complete**: 10 min\n",
    "\n",
    "**Prerequisite**: [Intro to Workspaces](https://console.anyscale.com/template-preview/workspace-intro)\n",
    "\n",
    "After implementing and testing your machine learning workloads, it’s time to move them into production. An Anyscale Service packages your application code, dependencies, and compute configurations, deploying them behind a REST endpoint for easy integration and scalability.\n",
    "\n",
    "This interactive example takes you through a common development to production workflow with services:\n",
    "\n",
    "- Development\n",
    "  - Develop a service in a workspace.\n",
    "  - Run the app in a workspace.\n",
    "  - Send a test request.\n",
    "- Production\n",
    "  - Deploy as an Anyscale Service.\n",
    "  - Check the status of the service.\n",
    "  - Query the service.\n",
    "  - Monitor the service.\n",
    "  - Configure scaling.\n",
    "  - Update the service.\n",
    "  - Terminate the service.\n"
   ]
  },
  {
   "cell_type": "markdown",
   "metadata": {},
   "source": [
    "## Development\n",
    "\n",
    "Start by writing your machine learning service using [Ray Serve](https://docs.ray.io/en/latest/serve/index.html), an open source distributed serving library for building online inference APIs.\n",
    "\n",
    "### Develop a service in a workspace\n",
    "\n",
    "This example begins in an [Anyscale Workspace](https://docs.anyscale.com/platform/workspaces/), which is a fully managed development environment connected to a Ray cluster. Look at the following simple Ray Serve app created in `main.py`:\n"
   ]
  },
  {
   "cell_type": "code",
   "execution_count": null,
   "metadata": {},
   "outputs": [],
   "source": [
    "import logging\n",
    "import requests\n",
    "from fastapi import FastAPI\n",
    "from ray import serve\n",
    "\n",
    "fastapi = FastAPI()\n",
    "logger = logging.getLogger(\"ray.serve\")\n",
    "\n",
    "@serve.deployment\n",
    "@serve.ingress(fastapi)\n",
    "class FastAPIDeployment:\n",
    "    # FastAPI automatically parses the HTTP request.\n",
    "    @fastapi.get(\"/hello\")\n",
    "    def say_hello(self, name: str) -> str:\n",
    "        logger.info(\"Handling request!\")\n",
    "        return f\"Hello {name}!\"\n",
    "\n",
    "my_app = FastAPIDeployment.bind()"
   ]
  },
  {
   "cell_type": "markdown",
   "metadata": {},
   "source": [
    "The following is a breakdown of this code that integrates [Ray Serve with Fast API](https://docs.ray.io/en/latest/serve/http-guide.html):\n",
    "\n",
    "- It defines a FastAPI app named `fastapi` and a logger named `ray.serve`.\n",
    "- `@serve.deployment` decorates the class `FastAPIDeployment`, indicating it's a [Ray Serve deployment](https://docs.ray.io/en/latest/serve/key-concepts.html#deployment).\n",
    "- `@serve.ingress(fastapi)` marks `fastapi` as the [entry point for incoming requests](https://docs.ray.io/en/latest/serve/key-concepts.html#ingress-deployment-http-handling) to this deployment.\n",
    "- `say_hello` handles GET requests to the `/hello` endpoint in FastAPI, taking a `name` parameter, printing a log message, and returning a greeting.\n",
    "- `FastAPIDeployment.bind()` binds the deployment to Ray Serve, making it ready to handle requests.\n"
   ]
  },
  {
   "cell_type": "markdown",
   "metadata": {},
   "source": [
    "### Run the app in a workspace\n",
    "\n",
    "Execute the command below to run the Ray Serve app on the workspace cluster. This command takes in an import path to the deployment formatted as `module:application`.\n"
   ]
  },
  {
   "cell_type": "code",
   "execution_count": null,
   "metadata": {},
   "outputs": [],
   "source": [
    "!serve run main:my_app --non-blocking"
   ]
  },
  {
   "cell_type": "markdown",
   "metadata": {},
   "source": [
    "**Note**: This command blocks and streams logs to the console for easier debugging in development. To terminate this service and continue with this example, either click the stop button in the notebook or `Ctrl-C` in the terminal.\n"
   ]
  },
  {
   "cell_type": "markdown",
   "metadata": {},
   "source": [
    "### Send a test request\n",
    "\n",
    "Your app is accessible through `localhost:8000` by default. Run the following to send a GET request to the `/hello` endpoint with query parameter `name` set to “Theodore.”\n"
   ]
  },
  {
   "cell_type": "code",
   "execution_count": null,
   "metadata": {},
   "outputs": [],
   "source": [
    "import requests\n",
    "\n",
    "print(requests.get(\"http://localhost:8000/hello\", params={\"name\": \"Theodore\"}).json())"
   ]
  },
  {
   "cell_type": "markdown",
   "metadata": {},
   "source": [
    "## Production\n",
    "\n",
    "To move into production, use Anyscale Services to deploy your Ray Serve app to a new separate cluster without any code modifications. Anyscale handles the scaling, fault tolerance, and load balancing of your services to ensure uninterrupted service across node failures, heavy traffic, and rolling updates.\n",
    "\n",
    "### Deploy as an Anyscale Service\n",
    "\n",
    "Use the following to deploy `my_service` in a single command:\n"
   ]
  },
  {
   "cell_type": "code",
   "execution_count": null,
   "metadata": {},
   "outputs": [],
   "source": [
    "!anyscale service deploy main:my_app --name=my_service"
   ]
  },
  {
   "cell_type": "markdown",
   "metadata": {},
   "source": [
    "**Note**: This Anyscale Service pulls the associated dependencies, compute config, and service config from the workspace. To define these explicitly, you can deploy from a `config.yaml` file using the `-f` flag. See [ServiceConfig reference](https://docs.anyscale.com/reference/service-api#serviceconfig) for details.\n"
   ]
  },
  {
   "cell_type": "markdown",
   "metadata": {},
   "source": [
    "### Check the status of the service\n",
    "\n",
    "To get the status of `my_service`, run the following:\n"
   ]
  },
  {
   "cell_type": "code",
   "execution_count": null,
   "metadata": {},
   "outputs": [],
   "source": [
    "!anyscale service status --name=my_service"
   ]
  },
  {
   "cell_type": "markdown",
   "metadata": {},
   "source": [
    "### Query the service\n",
    "\n",
    "When you deploy, you expose the service to a publicly accessible IP address which you can send requests to.\n",
    "\n",
    "In the preceding cell’s output, copy your `API_KEY` and `BASE_URL`. As an example, the values look like the following:\n",
    "\n",
    "- `API_KEY`: `NMv1Dq3f2pDxWjj-efKKqMUk9UO-xfU3Lo5OhpjAHiI`\n",
    "- `BASE_URL`: `https://my-service-jrvwy.cld-w3gg9qpy7ft3ayan.s.anyscaleuserdata.com/`\n",
    "\n",
    "Fill in the following placeholder values for the `BASE_URL` and `API_KEY` in the following Python requests object:\n"
   ]
  },
  {
   "cell_type": "code",
   "execution_count": null,
   "metadata": {},
   "outputs": [],
   "source": [
    "import requests\n",
    "\n",
    "BASE_URL = \"\" # PASTE HERE\n",
    "API_KEY = \"\" # PASTE HERE\n",
    "\n",
    "def send_request(name: str) -> str:\n",
    "    response: requests.Response = requests.get(\n",
    "        f\"{BASE_URL}/hello\",\n",
    "        params={\"name\": name},\n",
    "        headers={\n",
    "            \"Authorization\": f\"Bearer {API_KEY}\",\n",
    "        },\n",
    "    )\n",
    "    response.raise_for_status()\n",
    "    return response.content"
   ]
  },
  {
   "cell_type": "code",
   "execution_count": null,
   "metadata": {},
   "outputs": [],
   "source": [
    "print(send_request(\"Theodore\"))"
   ]
  },
  {
   "cell_type": "markdown",
   "metadata": {},
   "source": [
    "### Monitor the service\n",
    "\n",
    "To view the service, navigate to 🏠 **> Services > `my_service`**. On this page, inspect key metrics, events, and logs. With Anyscale’s monitoring dashboards, you can track performance and adjust configurations as needed without deep diving into infrastructure management. See [Monitor a service](https://docs.anyscale.com/platform/services/monitoring).\n",
    "\n",
    "By clicking on the **Running** service, you can view the status of deployments and how many replicas each contains. For example, your `FastAPIDeployment` has `1` replica.\n",
    "\n",
    "<img src=\"assets/service-overview.png\" height=400px />\n",
    "\n",
    "In the Logs, you can search for the message “Handling request!” to view each request for easier debugging.\n",
    "\n",
    "<img src=\"assets/service-logs.png\" height=400px />\n"
   ]
  },
  {
   "cell_type": "markdown",
   "metadata": {},
   "source": [
    "### Configure scaling\n",
    "\n",
    "Each Ray Serve deployment has one replica by default. There is one worker process running the model and serving requests.\n",
    "\n",
    "As a quick example to scale out from one to autoscaling replicas, modify the original service script `main.py`. Add the `num_replicas` argument to the `@serve.deployment` decorator as follows:\n",
    "\n",
    "```diff\n",
    "import requests\n",
    "from fastapi import FastAPI\n",
    "from ray import serve\n",
    "\n",
    "fastapi = FastAPI()\n",
    "\n",
    "- @serve.deployment\n",
    "+ @serve.deployment(num_replicas=auto)\n",
    "@serve.ingress(fastapi)\n",
    "class FastAPIDeployment:\n",
    "    # FastAPI automatically parses the HTTP request.\n",
    "    @fastapi.get(\"/hello\")\n",
    "    def say_hello(self, name: str) -> str:\n",
    "        return f\"Hello {name}!\"\n",
    "\n",
    "my_app = FastAPIDeployment.bind()\n",
    "```\n"
   ]
  },
  {
   "cell_type": "markdown",
   "metadata": {},
   "source": [
    "<img src=\"assets/service-replicas.png\" height=400px />\n",
    "\n",
    "**Note**: This approach is a way to quickly modify scale for this example. As a best practice in production, define [autoscaling behavior](https://docs.anyscale.com/platform/services/scale-a-service#autoscaling) in the [ServiceConfig](https://docs.anyscale.com/reference/service-api#serviceconfig) contained in a `config.yaml` file. The number of worker nodes that Anyscale launches dynamically scales up and down in response to traffic and is scoped by the overall cluster compute config you define.\n"
   ]
  },
  {
   "cell_type": "markdown",
   "metadata": {},
   "source": [
    "### Update the service\n",
    "\n",
    "To deploy the update, execute the following command to trigger a staged rollout of the new service with zero downtime:\n"
   ]
  },
  {
   "cell_type": "code",
   "execution_count": null,
   "metadata": {},
   "outputs": [],
   "source": [
    "!anyscale service deploy main:my_app --name=my_service"
   ]
  },
  {
   "cell_type": "markdown",
   "metadata": {},
   "source": [
    "In the service overview page, you can monitor the status of the update and see Ray Serve shut down the previous cluster.\n",
    "\n",
    "<img src=\"assets/service-rollout.png\" height=400px />\n",
    "\n",
    "**Note**: Using this command triggers an automatic rollout which gradually shifts traffic from the previous cluster, or primary version, to the incoming cluster, or canary version. To learn more about configuring rollout behavior, see [Update a service](https://docs.anyscale.com/platform/services/update-a-service).\n"
   ]
  },
  {
   "cell_type": "markdown",
   "metadata": {},
   "source": [
    "### Terminate the service\n",
    "\n",
    "To tear down the service cluster, run the following command:\n"
   ]
  },
  {
   "cell_type": "code",
   "execution_count": null,
   "metadata": {},
   "outputs": [],
   "source": [
    "!anyscale service terminate --name=my_service"
   ]
  },
  {
   "cell_type": "markdown",
   "metadata": {},
   "source": [
    "## Summary\n",
    "\n",
    "In this example, you learned the basics of Anyscale Services:\n",
    "\n",
    "- Develop a service in a workspace.\n",
    "  - Run the app in a workspace.\n",
    "  - Send a test request.\n",
    "- Deploy as an Anyscale Service.\n",
    "  - Query the service.\n",
    "  - Check the status of the service.\n",
    "  - Monitor the service.\n",
    "  - Configure scaling.\n",
    "  - Update the service.\n",
    "  - Terminate the service.\n"
   ]
  }
 ],
 "metadata": {
  "kernelspec": {
   "display_name": "base",
   "language": "python",
   "name": "python3"
  },
  "language_info": {
   "codemirror_mode": {
    "name": "ipython",
    "version": 3
   },
   "file_extension": ".py",
   "mimetype": "text/x-python",
   "name": "python",
   "nbconvert_exporter": "python",
   "pygments_lexer": "ipython3",
   "version": "3.10.6"
  },
  "orig_nbformat": 4
 },
 "nbformat": 4,
 "nbformat_minor": 2
}
