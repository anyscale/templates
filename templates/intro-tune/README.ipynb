{
 "cells": [
  {
   "cell_type": "markdown",
   "metadata": {},
   "source": [
    "# Running Experiments in Parallel with Tune\n",
    "\n",
    "**⏱️ Time to complete**: 10 min\n",
    "\n",
    "Ray Tune lets you easily run experiments in parallel across a cluster.\n",
    "\n",
    "In this tutorial, you will learn:\n",
    "1. How to set up a Ray Tune app to run an parallel grid sweep across a cluster.\n",
    "2. Basic Ray Tune features, including stats reporting and storing results.\n",
    "3. Monitoring cluster parallelism and execution using the Ray dashboard.\n",
    "\n",
    "**Note**: This tutorial runs within a workspace. Please overview the ``Introduction to Workspaces`` template first before this tutorial.\n",
    "\n",
    "## Grid search hello world\n",
    "\n",
    "Let's start by running a quick \"hello world\" that runs a few variations of a function call across a cluster. It should take about 10 seconds to run:"
   ]
  },
  {
   "cell_type": "code",
   "execution_count": null,
   "metadata": {},
   "outputs": [],
   "source": [
    "from ray import tune\n",
    "\n",
    "def f(config):\n",
    "    print(\"hello world from variant\", config[\"x\"])\n",
    "    return {\"my_result_metric\": config[\"x\"] ** 2}\n",
    "\n",
    "tuner = tune.Tuner(f, param_space={\"x\": tune.grid_search([0, 1, 2, 3, 4])})\n",
    "results = tuner.fit()\n",
    "print(results)"
   ]
  },
  {
   "cell_type": "markdown",
   "metadata": {},
   "source": [
    "### Interpreting the results\n",
    "\n",
    "You should see during the run a table of the trials created by Tune. One trial is created for each individual value of `x` in the grid sweep. The table shows where the trial was run in the cluster, how long the trial took, and reported metrics:\n",
    "\n",
    "<img src=\"assets/tune-status.png\" width=800px />\n",
    "\n",
    "On completion, it returns a `ResultGrid` object that captures the experiment results. This includes the reported trial metrics, the path where trial results are saved:\n",
    "\n",
    "```py\n",
    "ResultGrid<[\n",
    "  Result(\n",
    "    metrics={'my_result_metric': 0},\n",
    "    path='/home/ray/ray_results/f_2024-02-27_11-40-53/f_1e2c4_00000_0_x=0_2024-02-27_11-40-56',\n",
    "    filesystem='local',\n",
    "    checkpoint=None\n",
    "  ),\n",
    "  ...\n",
    "```\n",
    "\n",
    " Note that the filesystem of the result says \"local\", which means results are written to the workspace local disk. We'll cover how to configure [Tune storage](https://docs.ray.io/en/latest/tune/tutorials/tune-storage.html) for a distributed run later in this tutorial."
   ]
  },
  {
   "cell_type": "markdown",
   "metadata": {},
   "source": [
    "### Viewing trial outputs\n",
    "\n",
    "To view the stdout and stderr of the trial, use the ``Logs`` tab in the Workspace UI. Navigate to the log page and search for \"hello\", and you'll be able to see the logs printed for each trial run in the cluster:\n",
    "\n",
    "<img src=\"assets/tune-logs.png\" width=800px />\n",
    "\n",
    "Tune also saves a number of input and output metadata files for each trial to storage, you can view them by querying the returned result object:\n",
    "- ``params.json``: The input parameters of the trial\n",
    "    - ``params.pkl`` pickle form of the parameters (for non-JSON objects)\n",
    "- ``result.json``: Log of intermediate and final reported metrics\n",
    "    - ``progress.csv``: CSV form of the results\n",
    "    - ``events.out.tfevents``: TensorBoard form of the results"
   ]
  },
  {
   "cell_type": "code",
   "execution_count": null,
   "metadata": {},
   "outputs": [],
   "source": [
    "import os\n",
    "\n",
    "# Print the list of metadata files from trial 0 of the previous run.\n",
    "os.listdir(results[0].path)"
   ]
  },
  {
   "cell_type": "markdown",
   "metadata": {},
   "source": [
    "## CIFAR parameter sweep\n",
    "\n",
    "Next, we'll configure Tune for a larger-scale run on a multi-node cluster. We'll customize the following parameters:\n",
    "- Resources to request for each trial\n",
    "- Saving results to cloud storage\n",
    "\n",
    "We'll also update the function to do something more interesting: train a computer vision model. The following cell defines the training function for CIFAR (adapted from this more [complete example](https://docs.ray.io/en/latest/tune/examples/tune-pytorch-cifar.html)).\n",
    "\n",
    "Note that validation results are reported for each epoch:\n"
   ]
  },
  {
   "cell_type": "code",
   "execution_count": null,
   "metadata": {},
   "outputs": [],
   "source": [
    "from cifar_utils import load_data, Net\n",
    "\n",
    "import torch\n",
    "import torch.nn as nn\n",
    "import torch.nn.functional as F\n",
    "import torch.optim as optim\n",
    "from torch.utils.data import random_split\n",
    "\n",
    "def train_cifar(config):\n",
    "    net = Net(config[\"l1\"], config[\"l2\"])\n",
    "\n",
    "    device = \"cpu\"\n",
    "    if torch.cuda.is_available():\n",
    "        device = \"cuda:0\"\n",
    "        if torch.cuda.device_count() > 1:\n",
    "            net = nn.DataParallel(net)\n",
    "    net.to(device)\n",
    "\n",
    "    criterion = nn.CrossEntropyLoss()\n",
    "    optimizer = optim.SGD(net.parameters(), lr=config[\"lr\"], momentum=0.9)\n",
    "\n",
    "    trainset, _ = load_data(\"/mnt/local_storage/cifar_data\")\n",
    "\n",
    "    test_abs = int(len(trainset) * 0.8)\n",
    "    train_subset, val_subset = random_split(\n",
    "        trainset, [test_abs, len(trainset) - test_abs])\n",
    "\n",
    "    trainloader = torch.utils.data.DataLoader(\n",
    "        train_subset,\n",
    "        batch_size=int(config[\"batch_size\"]),\n",
    "        shuffle=True,\n",
    "        num_workers=0,\n",
    "    )\n",
    "    valloader = torch.utils.data.DataLoader(\n",
    "        val_subset,\n",
    "        batch_size=int(config[\"batch_size\"]),\n",
    "        shuffle=True,\n",
    "        num_workers=0,\n",
    "    )\n",
    "\n",
    "    for epoch in range(5):  # loop over the dataset multiple times\n",
    "        running_loss = 0.0\n",
    "        epoch_steps = 0\n",
    "        for i, data in enumerate(trainloader):\n",
    "            # get the inputs; data is a list of [inputs, labels]\n",
    "            inputs, labels = data\n",
    "            inputs, labels = inputs.to(device), labels.to(device)\n",
    "\n",
    "            # zero the parameter gradients\n",
    "            optimizer.zero_grad()\n",
    "\n",
    "            # forward + backward + optimize\n",
    "            outputs = net(inputs)\n",
    "            loss = criterion(outputs, labels)\n",
    "            loss.backward()\n",
    "            optimizer.step()\n",
    "\n",
    "            # print statistics\n",
    "            running_loss += loss.item()\n",
    "            epoch_steps += 1\n",
    "            if i % 2000 == 1999:  # print every 2000 mini-batches\n",
    "                print(\"[%d, %5d] loss: %.3f\" % (epoch + 1, i + 1,\n",
    "                                                running_loss / epoch_steps))\n",
    "                running_loss = 0.0\n",
    "\n",
    "        # Validation loss\n",
    "        val_loss = 0.0\n",
    "        val_steps = 0\n",
    "        total = 0\n",
    "        correct = 0\n",
    "        for i, data in enumerate(valloader, 0):\n",
    "            with torch.no_grad():\n",
    "                inputs, labels = data\n",
    "                inputs, labels = inputs.to(device), labels.to(device)\n",
    "\n",
    "                outputs = net(inputs)\n",
    "                _, predicted = torch.max(outputs.data, 1)\n",
    "                total += labels.size(0)\n",
    "                correct += (predicted == labels).sum().item()\n",
    "\n",
    "                loss = criterion(outputs, labels)\n",
    "                val_loss += loss.cpu().numpy()\n",
    "                val_steps += 1\n",
    "\n",
    "        train.report(\n",
    "            {\"loss\": (val_loss / val_steps), \"accuracy\": correct / total},\n",
    "        )\n",
    "    print(\"Finished Training\")"
   ]
  },
  {
   "cell_type": "markdown",
   "metadata": {},
   "source": [
    "The code below walks through how to parallelize the above training function in Tune. Go ahead and run the cell, it will take 5-10 minutes to complete on a multi-node cluster. While you're waiting, go ahead and proceed to the next section to learn how to monitor the execution.\n",
    "\n",
    "It will sweep across several choices for \"l1\", \"l2\", and \"lr\" of the net:"
   ]
  },
  {
   "cell_type": "code",
   "execution_count": null,
   "metadata": {},
   "outputs": [],
   "source": [
    "from filesystem_utils import get_path_and_fs\n",
    "from ray import tune, train\n",
    "import os\n",
    "\n",
    "# Define where results are stored. We'll use the Anyscale artifact storage path to\n",
    "# save results to cloud storage.\n",
    "STORAGE_PATH = os.environ[\"ANYSCALE_ARTIFACT_STORAGE\"] + \"/tune_results\"\n",
    "storage_path, fs = get_path_and_fs(STORAGE_PATH)\n",
    "\n",
    "# Define trial sweep parameters across l1, l2, and lr.\n",
    "trial_space = {\n",
    "    \"l1\": tune.grid_search([8, 16, 64]),\n",
    "    \"l2\": tune.grid_search([8, 16, 64]),\n",
    "    \"lr\": tune.grid_search([5e-4, 1e-3]),\n",
    "    \"batch_size\": 4,\n",
    "}\n",
    "\n",
    "# Can customize resources per trial, including CPUs and GPUs.\n",
    "# You can try changing this to {\"gpu\": 1} to run on GPU.\n",
    "train_cifar = tune.with_resources(train_cifar, {\"cpu\": 2})\n",
    "\n",
    "# Start a Tune run and print the output.\n",
    "tuner = tune.Tuner(\n",
    "    train_cifar,\n",
    "    param_space=trial_space,\n",
    "    run_config=train.RunConfig(storage_path=storage_path, storage_filesystem=fs),\n",
    ")\n",
    "results = tuner.fit()\n",
    "print(results)"
   ]
  },
  {
   "cell_type": "markdown",
   "metadata": {},
   "source": [
    "During and after the execution, Tune reports a table of current trial status and reported accuracy. You can find the configuration that achieves the highest accuracy on the validation set:\n",
    "\n",
    "<img src=\"assets/tune-output.png\" width=600px />\n"
   ]
  },
  {
   "cell_type": "markdown",
   "metadata": {},
   "source": [
    "### Persisted result storage\n",
    "\n",
    "Because we set ``storage_path`` to ``$ANYSCALE_ARTIFACT_STORAGE/tune_results``, Tune will upload trial results and artifacts to the specified storage.\n",
    "\n",
    "We didn't save any checkpoints in the example above, but if [you setup checkpointing](https://docs.ray.io/en/latest/tune/tutorials/tune-trial-checkpoints.html), the checkpoints would also be saved in this location:"
   ]
  },
  {
   "cell_type": "code",
   "execution_count": null,
   "metadata": {},
   "outputs": [],
   "source": [
    "# Note: On GCP cloud use `gsutil ls` instead.\n",
    "!aws s3 ls $ANYSCALE_ARTIFACT_STORAGE/tune_results/"
   ]
  },
  {
   "cell_type": "markdown",
   "metadata": {},
   "source": [
    "## Monitoring Tune execution in the cluster\n",
    "\n",
    "Let's observe how the above run executed in the Ray cluster for the workspace. To do this, go to the \"Ray Dashboard\" tab in the workspace UI.\n",
    "\n",
    "First, let's view the run in the Jobs sub-tab and click through to into the job view. Here, you can see an overview of the job, and the status of the individual actors Tune has launched to parallelize the job:\n",
    "\n",
    "<img src=\"assets/tune-jobs-1.png\" width=800px />\n",
    "\n",
    "You can further click through to the actors sub-page and view the status of individual running actors. Inspect trial logs, CPU profiles, and memory profiles using this page:\n",
    "\n",
    "<img src=\"assets/tune-jobs-2.png\" width=800px />\n",
    "\n",
    "Finally, we can observe the holistic execution of the job in the cluster in the Metrics sub-tab. When running the above job on a 36-CPU cluster, we can see that Tune was able to launch ~16 concurrent actors for trial execution, with each actor assigned 2 CPU slots as configured:\n",
    "\n",
    "<img src=\"assets/tune-metrics.png\" width=800px />\n"
   ]
  },
  {
   "cell_type": "markdown",
   "metadata": {},
   "source": [
    "That concludes our overview of Ray Tune in Anyscale. To learn more about Ray Tune and how it can improve your experiment management lifecycle, check out the [Ray Tune docs](https://docs.ray.io/en/latest/tune/index.html)."
   ]
  },
  {
   "cell_type": "markdown",
   "metadata": {},
   "source": [
    "## Summary\n",
    "\n",
    "This notebook:\n",
    "- Ran basic parallel experiment grid sweeps in a workspace.\n",
    "- Showed how to configure Ray Tune's storage and scheduling options.\n",
    "- Demoed how to use observability tools on a CIFAR experiment run in the cluster."
   ]
  },
  {
   "cell_type": "markdown",
   "metadata": {},
   "source": []
  }
 ],
 "metadata": {
  "language_info": {
   "name": "python"
  },
  "orig_nbformat": 4
 },
 "nbformat": 4,
 "nbformat_minor": 2
}
