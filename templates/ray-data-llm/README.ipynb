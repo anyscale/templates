{
 "cells": [
  {
   "cell_type": "markdown",
   "metadata": {},
   "source": [
    "# LLM offline batch inference with Ray Data LLM APIs\n",
    "\n",
    "**⏱️ Time to complete**: 10 min\n",
    "\n",
    "\n",
    "<!-- TODO: add a link for the API reference -->\n",
    "This template shows you how to run batch inference for LLMs using Ray Data LLM.\n",
    "\n",
    "**Note:** This tutorial runs within a workspace. Review the `Introduction to Workspaces` template before this tutorial.\n",
    "\n",
    "\n",
    "### How to decide between online vs offline inference for LLM\n",
    "Online LLM inference (e.g. Anyscale Endpoint) should be used when you want to get real-time response for prompt or to interact with the LLM. Use online inference when you want to optimize latency of inference to be as quick as possible.\n",
    "\n",
    "On the other hand, offline LLM inference (also referred to as batch inference) should be used when you want to get reponses for a large number of prompts within some time frame, but not required to be real-time (minutes to hours granularity). Use offline inference when you want to:\n",
    "1. Scale your workload to large-scale datasets\n",
    "2. Optimize inference throughput and resource usage (for example, maximizing GPU utilization).\n",
    "\n",
    "In this tutorial, we will focus on the latter, using offline LLM inference for a summarization task using real-world news articles.\n"
   ]
  },
  {
   "cell_type": "markdown",
   "metadata": {},
   "source": [
    "## Step 1: Set up the workload\n",
    "\n",
    "Ray Data LLM is a library for running batch inference for LLMs. It uses Ray Data for data processing and provides an easy and flexible interface for the user to define their own workload. In this tutorial, we will implement a workload based on the [`CNNDailyMail`](https://huggingface.co/datasets/abisee/cnn_dailymail) dataset, which is a collection of news articles. And we will summarize each article with our batch inferencing pipeline. We will cover more details on how to customize the workload in the later sections.\n"
   ]
  },
  {
   "cell_type": "code",
   "execution_count": null,
   "metadata": {},
   "outputs": [],
   "source": [
    "import ray \n",
    "import datasets\n",
    "\n",
    "# Load the dataset from Hugging Face into Ray Data. If you're using your own dataset,\n",
    "# refer to Ray Data APIs https://docs.ray.io/en/latest/data/api/input_output.html to load it.\n",
    "# For example, you can use ray.data.read_json(dataset_file) to load dataset in JSONL.\n",
    "\n",
    "df = datasets.load_dataset(\"cnn_dailymail\", \"3.0.0\")\n",
    "ds = ray.data.from_huggingface(df[\"train\"])\n"
   ]
  },
  {
   "cell_type": "markdown",
   "metadata": {},
   "source": [
    "## Step 2: Define the processor config for vLLM engine\n",
    "\n",
    "We will also need to define the model configs for the LLM engine, which configures the model and compute resources needed for inference. \n",
    "\n",
    "Some models will require you to input your [Hugging Face user access token](https://huggingface.co/docs/hub/en/security-tokens). This will be used to authenticate/download the model and **is required for official LLaMA, Mistral, and Gemma models**. You can use one of the other models which don't require a token if you don't have access to this model (for example, `neuralmagic/Meta-Llama-3.1-8B-Instruct-FP8`).\n",
    "\n",
    "Run the following cell to start the authentication flow. A VS Code overlay will appear and prompt you to enter your Hugging Face token if your selected model requires authentication. If you are using a model that does not require a token, you can skip this step. For this example, we will be using the `meta-llama/Meta-Llama-3.1-8B-Instruct` model, which requires a token.\n"
   ]
  },
  {
   "cell_type": "code",
   "execution_count": null,
   "metadata": {},
   "outputs": [],
   "source": [
    "# Prompts the user for Hugging Face token if required by the model.\n",
    "from util.utils import prompt_for_hugging_face_token\n",
    "HF_TOKEN = prompt_for_hugging_face_token(\"meta-llama/Meta-Llama-3.1-8B-Instruct\")"
   ]
  },
  {
   "cell_type": "markdown",
   "metadata": {},
   "source": [
    "In this example, we will be using the `meta-llama/Meta-Llama-3.1-8B-Instruct` model.\n",
    "We will also need to define a configuration associated with the model we want to use to configure the compute resources, engine arguments and other inference engine specific parameters. For more details on the the model configs, see the [API doc](https://docs.anyscale.com/llms/serving/guides/bring_any_model/) on bringing your own models."
   ]
  },
  {
   "cell_type": "code",
   "execution_count": null,
   "metadata": {},
   "outputs": [],
   "source": [
    "from ray.data.llm import vLLMEngineProcessorConfig\n",
    "from util.utils import is_on_gcp_cloud\n",
    "\n",
    "# There's no a10g on GCP.\n",
    "accelerator_type = \"L4\" if is_on_gcp_cloud() else \"A10G\"\n",
    "\n",
    "processor_config = vLLMEngineProcessorConfig(\n",
    "    model_source=\"meta-llama/Meta-Llama-3.1-8B-Instruct\",\n",
    "    engine_kwargs=dict(\n",
    "        tensor_parallel_size=1,\n",
    "        pipeline_parallel_size=1,\n",
    "        max_model_len=16384,\n",
    "        enable_chunked_prefill=True,\n",
    "        max_num_batched_tokens=2048,\n",
    "    ),\n",
    "    # Override Ray's runtime env to include the Hugging Face token. Ray is being used under the hood to orchestrate the inference pipeline.\n",
    "    runtime_env=dict(\n",
    "        env_vars=dict(\n",
    "            HF_TOKEN=HF_TOKEN,\n",
    "        ),\n",
    "    ),\n",
    "    batch_size=16,\n",
    "    accelerator_type=accelerator_type,\n",
    ")\n"
   ]
  },
  {
   "cell_type": "markdown",
   "metadata": {},
   "source": [
    "## Step 3: Define the preprocess and postprocess lambda\n",
    "\n",
    "\n",
    "We will need to define the preprocess lambda to convert input dataset to format that `vLLMEngineProcessor` can consume, and also postprocessor\n",
    "lambda that filter out the uninterested fields from vLLM engine."
   ]
  },
  {
   "cell_type": "code",
   "execution_count": 8,
   "metadata": {},
   "outputs": [],
   "source": [
    "preprocess = lambda row: dict(\n",
    "    messages=[\n",
    "        {\n",
    "            \"role\": \"system\",\n",
    "            \"content\": \"You are a commentator. Your task is to \"\n",
    "            \"summarize highlights from article.\",\n",
    "        },\n",
    "        {\n",
    "            \"role\": \"user\",\n",
    "            \"content\": f\"# Article:\\n{row['article']}\\n\\n\"\n",
    "            \"#Instructions:\\nIn clear and concise language, \"\n",
    "            \"summarize the highlights presented in the article.\",\n",
    "        },\n",
    "    ],\n",
    "    sampling_params=dict(\n",
    "        temperature=0.3,\n",
    "        max_tokens=150,\n",
    "        detokenize=False,\n",
    "    ),\n",
    ")\n",
    "postprocess = lambda row: {\n",
    "    \"resp\": row[\"generated_text\"],\n",
    "}"
   ]
  },
  {
   "cell_type": "markdown",
   "metadata": {},
   "source": [
    "## Step 4: Build and run the processor\n",
    "\n",
    "\n",
    "With the workload and configs defined, we can now build then run the processor"
   ]
  },
  {
   "cell_type": "code",
   "execution_count": null,
   "metadata": {},
   "outputs": [],
   "source": [
    "from ray.data.llm import build_llm_processor\n",
    "\n",
    "processor = build_llm_processor(\n",
    "    processor_config,\n",
    "    preprocess=preprocess,\n",
    "    postprocess=postprocess,\n",
    ")\n",
    "\n",
    "ds = processor(ds)\n",
    "ds = ds.materialize()\n",
    "\n",
    "\n",
    "# Peak the first 3 entries. \n",
    "sampled = ds.take(3)\n",
    "print(\"==================GENERATED OUTPUT===============\")\n",
    "print('\\n'.join(sampled))"
   ]
  },
  {
   "cell_type": "markdown",
   "metadata": {},
   "source": [
    "\n",
    "### Monitoring the execution\n",
    "\n",
    "RayLLM-Batch uses Ray Data to implement the execution of the batch inference pipeline, and one can use the Ray Dashboard to monitor the execution. In the Ray Dashboard tab, navigate to the Job page and open the \"Ray Data Overview\" section. Click on the link for the running job, and open the \"Ray Data Overview\" section to view the details of the batch inference execution:\n",
    "\n",
    "<img src=\"https://raw.githubusercontent.com/anyscale/templates/main/templates/batch-llm/assets/ray-data-jobs.png\" width=900px />\n",
    "\n",
    "### Handling GPU out-of-memory failures\n",
    "If you run into CUDA out of memory, your batch size is likely too large. Set an explicit small batch size or use a smaller model (or a larger GPU).\n",
    "\n",
    "## Summary\n",
    "\n",
    "This notebook:\n",
    "- Created a custom workload for the CNN/DailyMail summarization task.\n",
    "- Defined the model configs for the Meta Llama 3.1 8B model.\n",
    "- Ran the batch inference through RayLLM-Batch and monitored the execution."
   ]
  }
 ],
 "metadata": {
  "kernelspec": {
   "display_name": "base",
   "language": "python",
   "name": "python3"
  },
  "language_info": {
   "codemirror_mode": {
    "name": "ipython",
    "version": 3
   },
   "file_extension": ".py",
   "mimetype": "text/x-python",
   "name": "python",
   "nbconvert_exporter": "python",
   "pygments_lexer": "ipython3",
   "version": "3.11.11"
  }
 },
 "nbformat": 4,
 "nbformat_minor": 2
}
