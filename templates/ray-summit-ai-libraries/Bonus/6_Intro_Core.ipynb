{
 "cells": [
  {
   "cell_type": "markdown",
   "id": "1fd443a5-c9d3-4b6f-ad72-59c1eba1d112",
   "metadata": {},
   "source": [
    "# Intro to Ray Core\n",
    "\n",
    "This notebook introduces Ray Core, the core building block of Ray.\n",
    "\n",
    "<div class=\"alert alert-block alert-info\">\n",
    "\n",
    "<b> Here is the roadmap for this notebook </b>\n",
    "\n",
    "<ul>\n",
    "    <li><b> Part 1:</b> Ray Core overview </li>\n",
    "    <li><b> Part 2:</b> @ray.remote and ray.get </li>\n",
    "    <li><b> Part 3:</b> Tasks can launch other tasks </li>\n",
    "    <li><b> Part 4:</b> Ray Actors </li>\n",
    "</ul>\n",
    "</div>\n",
    "\n"
   ]
  },
  {
   "cell_type": "markdown",
   "id": "d08cc42c",
   "metadata": {},
   "source": [
    "## Imports"
   ]
  },
  {
   "cell_type": "code",
   "execution_count": null,
   "id": "98399ea9-933a-452f-be3f-bc1535006443",
   "metadata": {
    "tags": []
   },
   "outputs": [],
   "source": [
    "import ray"
   ]
  },
  {
   "cell_type": "markdown",
   "id": "9ff9ad39-11cb-495e-964f-a05a95159bea",
   "metadata": {},
   "source": [
    "## Ray Core overview\n",
    "\n",
    "Ray Core is about:\n",
    "* distributing computation across many cores, nodes, or devices (e.g., accelerators)\n",
    "* scheduling *arbitrary task graphs*\n",
    "    * any code you can write, you can distribute, scale, and accelerate with Ray Core\n",
    "* manage the overhead\n",
    "    * at scale, distributed computation introduces growing \"frictions\" -- data movement, scheduling costs, etc. -- which make the problem harder\n",
    "    * Ray Core addresses these issues as first-order concerns in its design (e.g., via a distributed scheduler)\n",
    " \n",
    "(And, of course, for common technical use cases, libraries and other components provide simple dev ex and are built on top of Ray Core)"
   ]
  },
  {
   "cell_type": "markdown",
   "id": "8c356de6",
   "metadata": {},
   "source": [
    "## `@ray.remote` and `ray.get`\n",
    "\n",
    "Here is a diagram which shows the relationship between Python code and Ray tasks.\n",
    "\n",
    "<img src=\"https://technical-training-assets.s3.us-west-2.amazonaws.com/Ray_Core/python_to_ray_task_map.png\" width=\"80%\" >"
   ]
  },
  {
   "cell_type": "markdown",
   "id": "bb8b00c1-d320-4b62-a35b-08bea2e848e3",
   "metadata": {},
   "source": [
    "Define a Python function and decorate it so that Ray can schedule it"
   ]
  },
  {
   "cell_type": "code",
   "execution_count": null,
   "id": "bc20546b-510d-4885-82fa-5d12503d52f4",
   "metadata": {
    "tags": []
   },
   "outputs": [],
   "source": [
    "@ray.remote(num_cpus=2)\n",
    "def f(a, b):\n",
    "    return a + b"
   ]
  },
  {
   "cell_type": "markdown",
   "id": "2dfd3ad7-0d0e-4313-82d7-4d36f2e9537b",
   "metadata": {},
   "source": [
    "Tell Ray to schedule the function"
   ]
  },
  {
   "cell_type": "code",
   "execution_count": null,
   "id": "c7f0c8a3-f456-4594-a994-0e5a528c3b78",
   "metadata": {
    "tags": []
   },
   "outputs": [],
   "source": [
    "f.remote(1, 2)"
   ]
  },
  {
   "cell_type": "markdown",
   "id": "a8f99486-6a85-4331-bed6-0af871974977",
   "metadata": {},
   "source": [
    "`ObjectRef` is a handle to a task result. We get an ObjectRef immediately because we don't know\n",
    "* when the task will run\n",
    "* whether it will succeed\n",
    "* whether we really need or want the result locally\n",
    "    * consider a very large result which we may need for other work but which we don't need to inspect"
   ]
  },
  {
   "cell_type": "code",
   "execution_count": null,
   "id": "3c939071-2454-4042-8136-75ffbbf6cce0",
   "metadata": {
    "tags": []
   },
   "outputs": [],
   "source": [
    "ref = f.remote(1, 2)"
   ]
  },
  {
   "cell_type": "markdown",
   "id": "7928ca98-dc51-4ecf-b757-92996dd0c69a",
   "metadata": {},
   "source": [
    "If we want to wait (block) and retrieve the corresponding object, we can use `ray.get`"
   ]
  },
  {
   "cell_type": "code",
   "execution_count": null,
   "id": "a564c830-d30d-4d4c-adb5-ee12adee605b",
   "metadata": {
    "tags": []
   },
   "outputs": [],
   "source": [
    "ray.get(ref)"
   ]
  },
  {
   "cell_type": "markdown",
   "id": "4da412f5-133a-441b-8734-b96f56389f05",
   "metadata": {},
   "source": [
    "<div class=\"alert alert-block alert-info\">\n",
    "    \n",
    "__Activity: define and invoke a Ray task__\n",
    "\n",
    "Define a remote function `sqrt_add` that accepts two arguments:\n",
    "- computes the square-root of the first\n",
    "- adds the second\n",
    "- returns the result\n",
    "\n",
    "Invoke it as a remote task with 2 different sets of parameters and collect the results\n",
    "\n",
    "```python\n",
    "# Hint: define the below as a remote function\n",
    "def sqrt_add(a, b):\n",
    "    ... \n",
    "\n",
    "# Hint: invoke it as a remote task and collect the results\n",
    "```\n",
    "\n",
    "\n",
    "</div>"
   ]
  },
  {
   "cell_type": "code",
   "execution_count": null,
   "id": "ace32382",
   "metadata": {},
   "outputs": [],
   "source": [
    "# Write your solution here"
   ]
  },
  {
   "cell_type": "markdown",
   "id": "34fe7b54",
   "metadata": {},
   "source": [
    "# Solution\n",
    "<div class=\"alert alert-block alert-info\">\n",
    "\n",
    "<details>\n",
    "\n",
    "<summary> Click to see solution </summary>\n",
    "\n",
    "```python\n",
    "import math\n",
    "\n",
    "@ray.remote\n",
    "def sqrt_add(a, b):\n",
    "    return math.sqrt(a) + b\n",
    "\n",
    "ray.get(sqrt_add.remote(2, 3)), ray.get(sqrt_add.remote(5, 4))\n",
    "```\n",
    "\n",
    "</details>\n",
    "\n",
    "</div>\n"
   ]
  },
  {
   "cell_type": "markdown",
   "id": "0f9fab1d-0f41-4175-a6cc-0161454d7718",
   "metadata": {},
   "source": [
    "## Tasks can launch other tasks"
   ]
  },
  {
   "cell_type": "markdown",
   "id": "d131321a-7ac9-4a1e-8332-6c2808cde39b",
   "metadata": {},
   "source": [
    "In that example, we organized or arranged the flow of tasks from our original process -- the Python kernel behind this notebook.\n",
    "\n",
    "Ray __does not__ require that all of your tasks and their dependencies by arranged from one \"driver\" process.\n",
    "\n",
    "Consider:"
   ]
  },
  {
   "cell_type": "code",
   "execution_count": null,
   "id": "39da2976-fccb-41bd-9ccc-2c2e2ff3106a",
   "metadata": {
    "tags": []
   },
   "outputs": [],
   "source": [
    "@ray.remote\n",
    "def square(x):\n",
    "    return x * x\n",
    "\n",
    "@ray.remote\n",
    "def sum_of_squares(arr):\n",
    "    return sum(ray.get([square.remote(val) for val in arr]))"
   ]
  },
  {
   "cell_type": "code",
   "execution_count": null,
   "id": "f415fe45-c193-4fc0-8a2e-6bc8354d0145",
   "metadata": {
    "tags": []
   },
   "outputs": [],
   "source": [
    "ray.get(sum_of_squares.remote([3,4,5]))"
   ]
  },
  {
   "cell_type": "markdown",
   "id": "2840697c-f5d9-437b-8e67-72cfa69dbdb4",
   "metadata": {},
   "source": [
    "In that example, \n",
    "* our (local) process asked Ray to schedule one task -- a call to `sum_of_squares` -- which that started running somewhere in our cluster;\n",
    "* within that task, additional code requested multiple additional tasks to be scheduled -- the call to `square` for each item in the list -- which were then scheduled in other locations;\n",
    "* and when those latter tasks were complete, the our original task computed the sum and completed.\n",
    "\n",
    "This ability for tasks to schedule other tasks using uniform semantics makes Ray particularly powerful and flexible."
   ]
  },
  {
   "cell_type": "markdown",
   "id": "0d03e83b-bc22-424d-9501-f8aacbca4c60",
   "metadata": {},
   "source": [
    "## Ray Actors\n",
    "\n",
    "Actors are Python class instances which can run for a long time in the cluster, which can maintain state, and which can send messages to/from other code.\n",
    "\n",
    "Let's look at an example of an actor which maintains a running balance."
   ]
  },
  {
   "cell_type": "code",
   "execution_count": null,
   "id": "0500f797-7c77-4e68-a3d0-32c00544ee19",
   "metadata": {
    "tags": []
   },
   "outputs": [],
   "source": [
    "@ray.remote\n",
    "class Accounting:\n",
    "    def __init__(self):\n",
    "        self.total = 0\n",
    "    \n",
    "    def add(self, amount):\n",
    "        self.total += amount\n",
    "        \n",
    "    def remove(self, amount):\n",
    "        self.total -= amount\n",
    "        \n",
    "    def total(self):\n",
    "        return self.total"
   ]
  },
  {
   "cell_type": "markdown",
   "id": "a58c3e32",
   "metadata": {},
   "source": [
    "<div class=\"alert alert-block alert-warning\">\n",
    "\n",
    "<b>Note:</b> The most common use case for actors is with state that is not mutated but is large enough that we may want to load it only once and ensure we can route calls to it over time, such as a large AI model.\n",
    "\n",
    "</div>"
   ]
  },
  {
   "cell_type": "markdown",
   "id": "9ad7a2da-0411-4e77-a371-3583a21c949e",
   "metadata": {},
   "source": [
    "Define an actor with the `@ray.remote` decorator and then use `<class_name>.remote()` ask Ray to construct and instance of this actor somewhere in the cluster.\n",
    "\n",
    "We get an actor handle which we can use to communicate with that actor, pass to other code, tasks, or actors, etc."
   ]
  },
  {
   "cell_type": "code",
   "execution_count": null,
   "id": "4d9b1c79-fc12-4f59-8567-a04c4f11f379",
   "metadata": {
    "tags": []
   },
   "outputs": [],
   "source": [
    "acc = Accounting.remote()"
   ]
  },
  {
   "cell_type": "markdown",
   "id": "8bd54012-0d2e-4f15-a07d-5b36f3ade524",
   "metadata": {},
   "source": [
    "We can send a message to an actor -- with RPC semantics -- by using `<handle>.<method_name>.remote()`"
   ]
  },
  {
   "cell_type": "code",
   "execution_count": null,
   "id": "b932c862-980f-440e-8e57-74cbc556bf4d",
   "metadata": {
    "tags": []
   },
   "outputs": [],
   "source": [
    "acc.total.remote()"
   ]
  },
  {
   "cell_type": "markdown",
   "id": "325f56af-a8d1-482e-962c-2904bb757440",
   "metadata": {},
   "source": [
    "Not surprisingly, we get an object ref back"
   ]
  },
  {
   "cell_type": "code",
   "execution_count": null,
   "id": "4213d804-0e3b-4ed1-a0b2-41681d375456",
   "metadata": {
    "tags": []
   },
   "outputs": [],
   "source": [
    "ray.get(acc.total.remote())"
   ]
  },
  {
   "cell_type": "markdown",
   "id": "775651a3-09c7-4992-80ed-b793e9a78f96",
   "metadata": {},
   "source": [
    "We can mutate the state inside this actor instance"
   ]
  },
  {
   "cell_type": "code",
   "execution_count": null,
   "id": "6a685a15-3844-4a9e-a243-8befe6b8c4fe",
   "metadata": {
    "tags": []
   },
   "outputs": [],
   "source": [
    "acc.add.remote(100)"
   ]
  },
  {
   "cell_type": "code",
   "execution_count": null,
   "id": "642b27e1-7dd8-4ef7-8ebb-f0c4ec856427",
   "metadata": {
    "tags": []
   },
   "outputs": [],
   "source": [
    "acc.remove.remote(10)"
   ]
  },
  {
   "cell_type": "code",
   "execution_count": null,
   "id": "ad395cf9-b7f9-4dde-be12-b511de52c7fe",
   "metadata": {
    "tags": []
   },
   "outputs": [],
   "source": [
    "ray.get(acc.total.remote())"
   ]
  },
  {
   "cell_type": "markdown",
   "id": "1d59a163-e93e-4348-860c-fcbc0be8018b",
   "metadata": {},
   "source": [
    "<div class=\"alert alert-block alert-info\">\n",
    "\n",
    "__Activity: linear model inference__\n",
    "\n",
    "* Create an actor which applies a model to convert Celsius temperatures to Fahrenheit\n",
    "* The constructor should take model weights (w1 and w0) and store them as instance state\n",
    "* A convert method should take a scalar, multiply it by w1 then add w0 (weights retrieved from instance state) and then return the result\n",
    "\n",
    "```python\n",
    "\n",
    "# Hint: define the below as a remote actor\n",
    "class LinearModel:\n",
    "    def __init__(self, w0, w1):\n",
    "        # Hint: store the weights\n",
    "\n",
    "    def convert(self, celsius):\n",
    "        # Hint: convert the celsius temperature to Fahrenheit\n",
    "\n",
    "# Hint: create an instance of the LinearModel actor\n",
    "\n",
    "# Hint: convert 100 Celsius to Fahrenheit\n",
    "```\n",
    "\n",
    "</div>"
   ]
  },
  {
   "cell_type": "code",
   "execution_count": null,
   "id": "b425dd5a-a48f-4ef2-bbcf-6be72cd5ce24",
   "metadata": {},
   "outputs": [],
   "source": [
    "# Write your solution here"
   ]
  },
  {
   "cell_type": "markdown",
   "id": "f0a91503",
   "metadata": {},
   "source": [
    "<div class=\"alert alert-block alert-info\">\n",
    "\n",
    "<details>\n",
    "\n",
    "<summary> Click to see solution </summary>\n",
    "\n",
    "```python\n",
    "@ray.remote\n",
    "class LinearModel:\n",
    "    def __init__(self, w0, w1):\n",
    "        self.w0 = w0\n",
    "        self.w1 = w1\n",
    "\n",
    "    def convert(self, celsius):\n",
    "        return self.w1 * celsius + self.w0\n",
    "\n",
    "model = LinearModel.remote(w1=9/5, w0=32)\n",
    "ray.get(model.convert.remote(100))\n",
    "```\n",
    "\n",
    "</details>\n",
    "</div>\n"
   ]
  },
  {
   "cell_type": "code",
   "execution_count": null,
   "id": "49a05d9b",
   "metadata": {},
   "outputs": [],
   "source": []
  }
 ],
 "metadata": {
  "kernelspec": {
   "display_name": "Python 3 (ipykernel)",
   "language": "python",
   "name": "python3"
  },
  "language_info": {
   "codemirror_mode": {
    "name": "ipython",
    "version": 3
   },
   "file_extension": ".py",
   "mimetype": "text/x-python",
   "name": "python",
   "nbconvert_exporter": "python",
   "pygments_lexer": "ipython3",
   "version": "3.11.8"
  }
 },
 "nbformat": 4,
 "nbformat_minor": 5
}
