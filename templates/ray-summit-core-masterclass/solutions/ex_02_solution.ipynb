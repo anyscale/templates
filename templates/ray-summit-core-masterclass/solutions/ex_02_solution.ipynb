{
 "cells": [
  {
   "cell_type": "code",
   "execution_count": null,
   "id": "1be69dae-83d9-43d1-81e7-41c26b683ce3",
   "metadata": {},
   "outputs": [],
   "source": [
    "import logging\n",
    "import ray\n",
    "\n",
    "if ray.is_initialized:\n",
    "    ray.shutdown()\n",
    "ray.init(logging_level=logging.ERROR)"
   ]
  },
  {
   "cell_type": "code",
   "execution_count": null,
   "id": "8110da95-01b2-4b73-ba13-f7cfea166329",
   "metadata": {},
   "outputs": [],
   "source": [
    "@ray.remote\n",
    "def my_function (num_list):\n",
    "    return sum(num_list)"
   ]
  },
  {
   "cell_type": "markdown",
   "id": "7bf709bd-217c-4553-80c1-042c7dddb34f",
   "metadata": {},
   "source": [
    "### Exercise 2 Solution"
   ]
  },
  {
   "cell_type": "code",
   "execution_count": null,
   "id": "7618f6df-f2b6-4286-9dae-fe24497caae0",
   "metadata": {},
   "outputs": [],
   "source": [
    "obj_refs = [ray.put(i) for i in range(10)]\n",
    "obj_refs"
   ]
  },
  {
   "cell_type": "code",
   "execution_count": null,
   "id": "6835d594-e51d-4da8-a53c-01d7d6c39e44",
   "metadata": {},
   "outputs": [],
   "source": [
    "values = ray.get(obj_refs)\n",
    "values"
   ]
  },
  {
   "cell_type": "code",
   "execution_count": null,
   "id": "4a48c181-a6c8-41fe-bf71-78ceaaff2fef",
   "metadata": {},
   "outputs": [],
   "source": [
    "sum_obj_ref = my_function.remote(values)"
   ]
  },
  {
   "cell_type": "code",
   "execution_count": null,
   "id": "3ec83055-db03-4651-959b-26d116905ea5",
   "metadata": {},
   "outputs": [],
   "source": [
    "ray.get(sum_obj_ref)"
   ]
  },
  {
   "cell_type": "markdown",
   "id": "600bc0a1-72e9-4308-98cd-8274f3992bbd",
   "metadata": {},
   "source": [
    "### Better code"
   ]
  },
  {
   "cell_type": "code",
   "execution_count": null,
   "id": "64145de4-9120-4427-9848-20a77cec576e",
   "metadata": {},
   "outputs": [],
   "source": [
    "@ray.remote\n",
    "def my_ray_sum(ref_list):\n",
    "    objects = ray.get(ref_list)\n",
    "    return sum(objects)"
   ]
  },
  {
   "cell_type": "code",
   "execution_count": null,
   "id": "67d908a2-3b28-4df8-89ac-947d84e8f9b9",
   "metadata": {},
   "outputs": [],
   "source": [
    "ray.get(my_ray_sum.remote(obj_refs))"
   ]
  },
  {
   "cell_type": "code",
   "execution_count": null,
   "id": "c4f9a713-93c1-4b54-bb60-60ddccf1d76f",
   "metadata": {},
   "outputs": [],
   "source": []
  }
 ],
 "metadata": {
  "kernelspec": {
   "display_name": "Python 3 (ipykernel)",
   "language": "python",
   "name": "python3"
  },
  "language_info": {
   "codemirror_mode": {
    "name": "ipython",
    "version": 3
   },
   "file_extension": ".py",
   "mimetype": "text/x-python",
   "name": "python",
   "nbconvert_exporter": "python",
   "pygments_lexer": "ipython3",
   "version": "3.11.8"
  }
 },
 "nbformat": 4,
 "nbformat_minor": 5
}
