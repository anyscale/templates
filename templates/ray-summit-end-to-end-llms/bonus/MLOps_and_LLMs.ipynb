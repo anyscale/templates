{
 "cells": [
  {
   "cell_type": "markdown",
   "metadata": {},
   "source": [
    "# MLOPs and LLMs\n",
    "\n",
    "Creating an LLM application is not a one-time task. It's extremely important that we continue to iterate and keep our model up to date. \n",
    "\n",
    "This MLOps best practice of continuous monitoring and improvement in production should also be applied to LLMs. It involves regular fine-tuning and re-evaluation of the model to ensure optimal performance.\n",
    "\n",
    "What you will end up with is a data flywheel, where you are continuously iterating on your data and model.\n",
    "\n",
    "<img src=\"https://anyscale-public-materials.s3.us-west-2.amazonaws.com/ray-summit/e2e-llms/MLOPs_LLMs_fly-wheel-v2.png\" alt=\"data-flywheel\" width=\"700\">"
   ]
  },
  {
   "cell_type": "markdown",
   "metadata": {
    "vscode": {
     "languageId": "plaintext"
    }
   },
   "source": [
    "This flywheel can be split into two main phases:\n",
    "\n",
    "1. Continuous Iteration on the data\n",
    "2. Continuous Iteration on the model\n",
    "\n",
    "Here is a visual representation of the data flywheel:\n",
    "\n",
    "<img src=\"https://anyscale-public-materials.s3.us-west-2.amazonaws.com/ray-summit/e2e-llms/MLOPs_LLMs_fly_wheel_detailed_v2.png\" alt=\"data-flywheel-components\" width=\"700\">\n",
    "\n",
    "\n",
    "#### 1. Continuous Iteration on the data\n",
    "\n",
    "This phase involves:\n",
    "- collection of new data\n",
    "- incorporation of user feedback\n",
    "- evaluation of data quality\n",
    "- cleaning of data\n",
    "- augmentation of data\n",
    "- curation of data\n",
    "\n",
    "#### 2. Continuous Iteration on the model\n",
    "\n",
    "This involves continuous:\n",
    "- evaluation of model performance\n",
    "- analysis of model outputs\n",
    "- fine-tuning of the model\n",
    "\n",
    "##### Champion-challenger evaluation framework\n",
    "One pattern that emerges is the use of a champion-challenger evaluation framework.\n",
    "\n",
    "This is a framework for evaluating and selecting between different versions of a model. \n",
    "\n",
    "It involves:\n",
    "- selecting a champion model\n",
    "- fine-tuning a challenger model\n",
    "- evaluating the performance of the champion and challenger\n",
    "- selecting the best performing model\n"
   ]
  },
  {
   "cell_type": "markdown",
   "metadata": {},
   "source": [
    "#### Automated Retraining of LLMs\n",
    "\n",
    "With the use of orchestration tools like Airflow, we can choose to automate this process integrating with Ray and Anyscale.\n",
    "\n",
    "Here is a diagram showing the process:\n",
    "\n",
    "<img src=\"https://anyscale-public-materials.s3.us-west-2.amazonaws.com/ray-summit/e2e-llms/MLOPs_LLMs_champion-challenger_v2.png\" alt=\"champion-challenger\" width=\"700\">\n",
    "\n",
    "\n",
    "For a fully functioning example of this in action, check out the [Automated Retraining of LLMs with Airflow and Anyscale](https://github.com/anyscale/ray-summit-2024-training/blob/main/End_to_End_LLMs/bonus/Automated_Retraining_of_LLMs_with_Airflow_and_Anyscale.ipynb) repository."
   ]
  },
  {
   "cell_type": "markdown",
   "metadata": {},
   "source": []
  }
 ],
 "metadata": {
  "kernelspec": {
   "display_name": "base",
   "language": "python",
   "name": "python3"
  },
  "language_info": {
   "codemirror_mode": {
    "name": "ipython",
    "version": 3
   },
   "file_extension": ".py",
   "mimetype": "text/x-python",
   "name": "python",
   "nbconvert_exporter": "python",
   "pygments_lexer": "ipython3",
   "version": "3.9.19"
  }
 },
 "nbformat": 4,
 "nbformat_minor": 2
}
