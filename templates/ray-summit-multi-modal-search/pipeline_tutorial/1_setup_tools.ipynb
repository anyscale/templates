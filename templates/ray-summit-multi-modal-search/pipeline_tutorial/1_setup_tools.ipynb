{
 "cells": [
  {
   "cell_type": "markdown",
   "id": "52f6531b-32d1-436c-b4f4-9b62ffdcf5c5",
   "metadata": {},
   "source": [
    "# Reinventing Multi-Modal Search with Anyscale and MongoDB\n",
    "\n",
    "What we are learning about and building today: https://www.anyscale.com/blog/reinventing-multi-modal-search-with-anyscale-and-mongodb\n",
    "\n",
    "The following instructions will help you get set up your environment\n",
    "\n",
    "## Register or login to Anyscale\n",
    "\n",
    "If you don't have an Anyscale account, you can register [here](https://console.anyscale.com/register/ha?utm_source=github&utm_medium=github&utm_content=multi-modal-search-anyscale-mongodb).\n",
    "\n",
    "If you already have an account, [login](https://console.anyscale.com/v2?utm_source=github&utm_medium=github&utm_content=multi-modal-search-anyscale-mongodb) here.\n",
    "\n",
    "## Register or login to MongoDB\n",
    "\n",
    "If you don't have a MongoDB account, follow the instructions [here](https://www.mongodb.com/docs/guides/atlas/account/) to sign up for a free MongoDB Atlas account.\n",
    "\n",
    "## Create a free MongoDB cluster\n",
    "\n",
    "If you don't have a MongoDB cluster created, follow the instructions [here](https://www.mongodb.com/docs/guides/atlas/cluster/) to create a free MongoDB Atlas cluster. __Name it `myntra`__\n",
    "\n",
    "Use the `0.0.0.0/0` network access list to allow public access to your cluster. To do so follow the instructions [here](https://www.mongodb.com/docs/guides/atlas/network-connections/).\n",
    "\n",
    "Create your database user and save the password.\n",
    "\n",
    "Get the connection string for your MongoDB cluster by following the instructions [here](https://www.mongodb.com/docs/guides/atlas/connection-string/).\n",
    "\n",
    "## Register or login to Hugging Face\n",
    "\n",
    "If you don't have a Hugging Face account, you can register [here](https://huggingface.co/join). \n",
    "\n",
    "If you already have an account, [login](https://huggingface.co/login) here.\n",
    "\n",
    "Visit the [tokens](https://huggingface.co/settings/tokens) page to generate a new API token.\n",
    "\n",
    "Visit the following model pages and request access to these models:\n",
    "- [llava-hf/llava-v1.6-mistral-7b-hf](https://huggingface.co/llava-hf/llava-v1.6-mistral-7b-hf)\n",
    "- [mistralai/Mistral-7B-Instruct-v0.1](https://huggingface.co/mistralai/Mistral-7B-Instruct-v0.1)\n",
    "\n",
    "Once you have access to these models, you can proceed with the next steps.\n",
    "\n",
    "## Launch a workspace in Anyscale for this project\n",
    "\n",
    "Choose the Anyscale Ray Summit 2024 template\n",
    "\n",
    "## Configure environment variables in your Anyscale Workspace\n",
    "\n",
    "Under the __Dependencies__ tab in the workspace view, set the MongoDB connection string `DB_CONNECTION_STRING` and huggingface access token `HF_TOKEN` as environment variables.\n",
    "\n",
    "<img src=\"https://anyscale-public-materials.s3.us-west-2.amazonaws.com/mongodb-demo/screenshots/workspace-dependencies.png\" width=\"800px\" alt=\"env-vars-setup-workspace\">"
   ]
  },
  {
   "cell_type": "markdown",
   "id": "269e1dcc-8662-4018-93c6-27ef1746690b",
   "metadata": {},
   "source": [
    "---\n",
    "\n",
    "## Create a vector search index in MongoDB\n",
    "\n",
    "To do so, follow these steps\n",
    "\n",
    "1. Select your database\n",
    "2. Click on the \"Search Indexes\" tab or the \"Atlas Search\" tab\n",
    "\n",
    "<img src=\"https://anyscale-public-materials.s3.us-west-2.amazonaws.com/mongodb-demo/screenshots/create_index_manual.png\" width=\"800px\" alt=\"create-index-manual\"/>\n",
    "\n",
    "3. Click on the \"Create a Search index\" button\n",
    "\n",
    "#### From here on, follow these steps to build the Atlas Vector Search Index\n",
    "\n",
    "1. Click on the \"JSON Editor\" Option\n",
    "\n",
    "<img src=\"https://anyscale-public-materials.s3.us-west-2.amazonaws.com/mongodb-demo/screenshots/atlas_vector_search_json_editor_selected.png\" width=\"800px\" alt=\"json-editor-selected\"/>\n",
    "\n",
    "2. Click Next\n",
    "\n",
    "3. Copy this JSON\n",
    "\n",
    "```JSON\n",
    "{ \"fields\": [\n",
    "      {\n",
    "          \"numDimensions\": 1024,\n",
    "          \"similarity\": \"cosine\",\n",
    "          \"type\": \"vector\",\n",
    "          \"path\": \"description_embedding\"\n",
    "      },\n",
    "      {\n",
    "          \"numDimensions\": 1024,\n",
    "          \"similarity\": \"cosine\",\n",
    "          \"type\": \"vector\",\n",
    "          \"path\": \"name_embedding\"\n",
    "      },                            \n",
    "      {\n",
    "          \"type\": \"filter\",\n",
    "          \"path\": \"category\"\n",
    "      },\n",
    "      {\n",
    "          \"type\": \"filter\",\n",
    "          \"path\": \"season\"\n",
    "      },\n",
    "      {\n",
    "          \"type\": \"filter\",\n",
    "          \"path\": \"color\"\n",
    "      },\n",
    "      {\n",
    "          \"type\": \"filter\",\n",
    "          \"path\": \"rating\"\n",
    "      },\n",
    "      {\n",
    "          \"type\": \"filter\",\n",
    "          \"path\": \"price\"\n",
    "      }\n",
    "  ]\n",
    "}\n",
    "```\n",
    "\n",
    "#### Ensure the index is called `vector_search_index`\n",
    "\n",
    "4. Select your collection in the left-hand menu, paste the JSON into the text area, and click Next\n",
    "\n",
    "<img src=\"https://anyscale-public-materials.s3.us-west-2.amazonaws.com/mongodb-demo/screenshots/atlas_vector_search_json_editor_full.png\" width=\"800px\" alt=\"json-editor-full\">"
   ]
  },
  {
   "cell_type": "markdown",
   "id": "6704013c-fc2a-4634-82a6-a8a4eb1bd0af",
   "metadata": {},
   "source": [
    "---\n",
    "\n",
    "## Create a full-text search index in MongoDB\n",
    "\n",
    "1. Click on the \"JSON Editor\" Option\n",
    "\n",
    "<img src=\"https://anyscale-public-materials.s3.us-west-2.amazonaws.com/mongodb-demo/screenshots/atlas_search_json_editor_selected.png\" width=\"800px\" alt=\"json-editor-selected\">\n",
    "\n",
    "2. Click Next\n",
    "\n",
    "3. Copy the JSON\n",
    "\n",
    "```JSON\n",
    "{\n",
    "    \"mappings\": {\n",
    "        \"dynamic\": false,\n",
    "        \"fields\": {\n",
    "            \"name\": {\n",
    "                \"type\": \"string\",\n",
    "                \"analyzer\": \"lucene.standard\"\n",
    "            }\n",
    "        }\n",
    "    }\n",
    "}\n",
    "```\n",
    "\n",
    "#### Ensure the index is called `lexical_text_search_index`\n",
    "\n",
    "4. Select your collection in the left-hand menu, paste the JSON, and click Next\n",
    "\n",
    "<img src=\"https://anyscale-public-materials.s3.us-west-2.amazonaws.com/mongodb-demo/screenshots/atlas_search_json_editor_full.png\" width=\"800px\" alt=\"json-editor-full\">"
   ]
  },
  {
   "cell_type": "markdown",
   "id": "74063927-75e7-459e-931d-729500d5661c",
   "metadata": {},
   "source": [
    "# Architecture\n",
    "\n",
    "We split our system into an offline data indexing stage and an online search stage.\n",
    "\n",
    "The offline data indexing stage performs the processing, embedding, and upserting text and images into a MongoDB database that supports vector search across multiple fields and dimensions. This stage is built by running multi-modal data pipelines at scale using Anyscale for AI compute platform.\n",
    "\n",
    "The online search stage performs the necessary search operations by combining legacy text matching with advanced semantic search capabilities offered by MongoDB. This stage is built by running a multi-modal search backend on Anyscale.\n",
    "\n",
    "## Multi-Modal Data Pipelines at Scale\n",
    "\n",
    "### Overview\n",
    "The data pipelines show how to perform offline batch inference and embeddings generation at scale. The pipelines are designed to handle both text and image data by running multi-modal large language model instances. \n",
    "\n",
    "### Technology Stack\n",
    "\n",
    "- `ray[data]`\n",
    "- `vLLM`\n",
    "- `pymongo`\n",
    "- `sentence-transformers`\n",
    "\n",
    "## Multi-Modal Search at Scale\n",
    "\n",
    "### Overview\n",
    "The search backend combines legacy lexical text matching with advanced semantic search capabilities, offering a robust hybrid search solution. \n",
    "\n",
    "### Technology Stack\n",
    "- `ray[serve]`\n",
    "- `gradio`\n",
    "- `motor`\n",
    "- `sentence-transformers`"
   ]
  },
  {
   "cell_type": "markdown",
   "id": "91bf28cf",
   "metadata": {},
   "source": [
    "## Test our connection"
   ]
  },
  {
   "cell_type": "code",
   "execution_count": null,
   "id": "8f9aab15-a2d0-4467-b177-3e8a57052cc6",
   "metadata": {},
   "outputs": [],
   "source": [
    "import pymongo\n",
    "from pymongo import MongoClient, ASCENDING, DESCENDING\n",
    "import os\n",
    "from pymongo.operations import IndexModel"
   ]
  },
  {
   "cell_type": "code",
   "execution_count": null,
   "id": "1772c405-0e28-4760-9374-00a1194ddf37",
   "metadata": {},
   "outputs": [],
   "source": [
    "db_name: str = \"myntra\"\n",
    "collection_name: str = \"myntra-items-offline\""
   ]
  },
  {
   "cell_type": "code",
   "execution_count": null,
   "id": "c01d4912-d0d1-455a-b0ee-9d307de720ab",
   "metadata": {},
   "outputs": [],
   "source": [
    "client = MongoClient(os.environ[\"DB_CONNECTION_STRING\"])\n",
    "db = client[db_name]"
   ]
  },
  {
   "cell_type": "markdown",
   "id": "ad098d50",
   "metadata": {},
   "source": [
    "*If the `DB_CONNECTION_STRING` env var is not found, you may need to terminate and then restart the workspace.*"
   ]
  },
  {
   "cell_type": "markdown",
   "id": "a8e2d8f8",
   "metadata": {},
   "source": [
    "### Setup collection\n",
    "\n",
    "Run this code one time after you've created your database, to set up the collection."
   ]
  },
  {
   "cell_type": "code",
   "execution_count": null,
   "id": "b87069bc",
   "metadata": {},
   "outputs": [],
   "source": [
    "db.drop_collection(collection_name)\n",
    "\n",
    "my_collection = db[collection_name]\n",
    "\n",
    "my_collection.create_indexes(\n",
    "    [\n",
    "        IndexModel([(\"rating\", DESCENDING)]),\n",
    "        IndexModel([(\"category\", ASCENDING)]),\n",
    "        IndexModel([(\"season\", ASCENDING)]),\n",
    "        IndexModel([(\"color\", ASCENDING)]),\n",
    "    ]\n",
    ")"
   ]
  },
  {
   "cell_type": "markdown",
   "id": "05c62472-d91d-4c73-9dbf-c024974673fe",
   "metadata": {},
   "source": [
    "### Count docs"
   ]
  },
  {
   "cell_type": "code",
   "execution_count": null,
   "id": "ceb9d962-0a99-472b-85b3-b1a048621ca4",
   "metadata": {},
   "outputs": [],
   "source": [
    "my_collection = db[collection_name]"
   ]
  },
  {
   "cell_type": "code",
   "execution_count": null,
   "id": "5814f906-2d18-4c13-a135-d0f2bd85c7b3",
   "metadata": {},
   "outputs": [],
   "source": [
    "my_collection.count_documents({})"
   ]
  },
  {
   "cell_type": "markdown",
   "id": "9968d7a4-1a46-451d-9b8f-8bf62a1005b9",
   "metadata": {},
   "source": [
    "### Empty collection\n",
    "\n",
    "As you're working, you may have experiment, errors, or changes which alter the MongoDB collection. To drop all records in the collection, use the following line."
   ]
  },
  {
   "cell_type": "code",
   "execution_count": null,
   "id": "990ab0bb-299c-4109-9e64-c89f3731c5fe",
   "metadata": {},
   "outputs": [],
   "source": [
    "my_collection.delete_many({})"
   ]
  },
  {
   "cell_type": "code",
   "execution_count": null,
   "id": "bb2abf98-a969-458b-aab5-ec7819c29c5a",
   "metadata": {},
   "outputs": [],
   "source": []
  }
 ],
 "metadata": {
  "kernelspec": {
   "display_name": "Python 3 (ipykernel)",
   "language": "python",
   "name": "python3"
  },
  "language_info": {
   "codemirror_mode": {
    "name": "ipython",
    "version": 3
   },
   "file_extension": ".py",
   "mimetype": "text/x-python",
   "name": "python",
   "nbconvert_exporter": "python",
   "pygments_lexer": "ipython3",
   "version": "3.11.8"
  }
 },
 "nbformat": 4,
 "nbformat_minor": 5
}
