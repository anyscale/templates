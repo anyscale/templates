{
 "cells": [
  {
   "cell_type": "markdown",
   "id": "52f6531b-32d1-436c-b4f4-9b62ffdcf5c5",
   "metadata": {},
   "source": [
    "# Reinventing Multi-Modal Search with Anyscale and MongoDB\n",
    "\n",
    "What we are learning about and building today: https://www.anyscale.com/blog/reinventing-multi-modal-search-with-anyscale-and-mongodb\n",
    "\n",
    "The following instructions will help you get set up your environment\n",
    "\n",
    "## Register for Anyscale if needed\n",
    "\n",
    "If you're attending this class at Ray Summit 2024, then you already have an Anyscale account -- we'll use that one!\n",
    "\n",
    "If you're trying out this application later or on your own,\n",
    "* You can register for Anyscale [here](https://console.anyscale.com/register/ha?utm_source=github&utm_medium=github&utm_content=multi-modal-search-anyscale-mongodb).\n",
    "\n",
    "## Login to Anyscale\n",
    "\n",
    "Once you have an account, [login](https://console.anyscale.com/v2?utm_source=github&utm_medium=github&utm_content=multi-modal-search-anyscale-mongodb) here.\n",
    "\n",
    "## Get set up with MongoDB\n",
    "\n",
    "Check out the Mongo Developer Intro Lab at https://mongodb-developer.github.io/intro-lab/\n",
    "\n",
    "That tutorial -- presented live at Ray Summit 2024 -- covers the following key steps:\n",
    "* Get you set up with a free MongoDB Atlas account \n",
    "* Create a free MongoDB cluster\n",
    "* Configure securityy to allow public access to your cluster (for demo/class purposes only)\n",
    "* Create your database user and save the password\n",
    "* Get the connection string for your MongoDB cluster\n",
    "\n",
    "## Register or login to Hugging Face\n",
    "\n",
    "If you don't have a Hugging Face account, you can register [here](https://huggingface.co/join). \n",
    "\n",
    "If you already have an account, [login](https://huggingface.co/login) here.\n",
    "\n",
    "Visit the [tokens](https://huggingface.co/settings/tokens) page to generate a new API token.\n",
    "\n",
    "Visit the following model pages and request access to these models:\n",
    "- [llava-hf/llava-v1.6-mistral-7b-hf](https://huggingface.co/llava-hf/llava-v1.6-mistral-7b-hf)\n",
    "- [mistralai/Mistral-7B-Instruct-v0.1](https://huggingface.co/mistralai/Mistral-7B-Instruct-v0.1)\n",
    "\n",
    "Once you have access to these models, you can proceed with the next steps.\n",
    "\n",
    "## Launch a workspace in Anyscale for this project\n",
    "\n",
    "At Ray Summit 2024, you're probably already running the right workspace. If you're doing this tutorial on your own, choose the Anyscale Ray Summit 2024 template\n",
    "\n",
    "## Configure environment variables in your Anyscale Workspace\n",
    "\n",
    "Under the __Dependencies__ tab in the workspace view, set the MongoDB connection string `DB_CONNECTION_STRING` and huggingface access token `HF_TOKEN` as environment variables.\n",
    "\n",
    "<img src=\"https://anyscale-public-materials.s3.us-west-2.amazonaws.com/mongodb-demo/screenshots/workspace-dependencies.png\" width=\"800px\" alt=\"env-vars-setup-workspace\">"
   ]
  },
  {
   "cell_type": "markdown",
   "id": "7503a017-f50b-485d-8bef-53d3bb6c8a44",
   "metadata": {},
   "source": [
    "---"
   ]
  },
  {
   "cell_type": "markdown",
   "id": "3986fc0a-86f6-4b6e-aed0-cee807243c9f",
   "metadata": {},
   "source": [
    "## Test database connection"
   ]
  },
  {
   "cell_type": "code",
   "execution_count": null,
   "id": "8f9aab15-a2d0-4467-b177-3e8a57052cc6",
   "metadata": {},
   "outputs": [],
   "source": [
    "import pymongo\n",
    "from pymongo import MongoClient, ASCENDING, DESCENDING\n",
    "import os\n",
    "from pymongo.operations import IndexModel, SearchIndexModel"
   ]
  },
  {
   "cell_type": "code",
   "execution_count": null,
   "id": "1772c405-0e28-4760-9374-00a1194ddf37",
   "metadata": {},
   "outputs": [],
   "source": [
    "db_name: str = \"myntra\"\n",
    "collection_name: str = \"myntra-items-offline\""
   ]
  },
  {
   "cell_type": "code",
   "execution_count": null,
   "id": "c01d4912-d0d1-455a-b0ee-9d307de720ab",
   "metadata": {},
   "outputs": [],
   "source": [
    "client = MongoClient(os.environ[\"DB_CONNECTION_STRING\"])\n",
    "db = client[db_name]"
   ]
  },
  {
   "cell_type": "markdown",
   "id": "91e2cadd-12cc-498b-8aba-bd60f6d12cf3",
   "metadata": {},
   "source": [
    "*If the `DB_CONNECTION_STRING` env var is not found, you may need to terminate and then restart the workspace.*"
   ]
  },
  {
   "cell_type": "markdown",
   "id": "cb470e0b-f790-42ec-9198-da6300d87022",
   "metadata": {},
   "source": [
    "### Setup collection\n",
    "\n",
    "Run this code one time after you've created your database, to set up the collection and indexes"
   ]
  },
  {
   "cell_type": "code",
   "execution_count": null,
   "id": "b87069bc",
   "metadata": {},
   "outputs": [],
   "source": [
    "db.drop_collection(collection_name)\n",
    "\n",
    "my_collection = db[collection_name]\n",
    "\n",
    "my_collection.create_indexes(\n",
    "    [\n",
    "        IndexModel([(\"rating\", DESCENDING)]),\n",
    "        IndexModel([(\"category\", ASCENDING)]),\n",
    "        IndexModel([(\"season\", ASCENDING)]),\n",
    "        IndexModel([(\"color\", ASCENDING)]),\n",
    "    ]\n",
    ")"
   ]
  },
  {
   "cell_type": "code",
   "execution_count": null,
   "id": "35d1bc92-9d22-4f85-aef0-e6be8f1b38b0",
   "metadata": {},
   "outputs": [],
   "source": [
    "fts_model = SearchIndexModel(\n",
    "    definition={\n",
    "        \"mappings\": {\n",
    "            \"dynamic\": False,\n",
    "            \"fields\": {\n",
    "                \"name\": {\"type\": \"string\", \"analyzer\": \"lucene.standard\",}\n",
    "            }\n",
    "        }\n",
    "    },\n",
    "    name=\"lexical_text_search_index\",\n",
    "    type=\"search\"\n",
    ")"
   ]
  },
  {
   "cell_type": "code",
   "execution_count": null,
   "id": "df23997f-c7cc-4cec-8f16-11014ad8b733",
   "metadata": {},
   "outputs": [],
   "source": [
    "vs_model = SearchIndexModel(\n",
    "    definition={\n",
    "        \"fields\": [\n",
    "                        {\n",
    "                            \"numDimensions\": 1024,\n",
    "                            \"similarity\": \"cosine\",\n",
    "                            \"type\": \"vector\",\n",
    "                            \"path\": \"description_embedding\",\n",
    "                        },\n",
    "                        {\n",
    "                            \"numDimensions\": 1024,\n",
    "                            \"similarity\": \"cosine\",\n",
    "                            \"type\": \"vector\",\n",
    "                            \"path\": \"name_embedding\",\n",
    "                        },                            \n",
    "                        {\n",
    "                            \"type\": \"filter\",\n",
    "                            \"path\": \"category\",\n",
    "                        },\n",
    "                        {\n",
    "                            \"type\": \"filter\",\n",
    "                            \"path\": \"season\",\n",
    "                        },\n",
    "                        {\n",
    "                            \"type\": \"filter\",\n",
    "                            \"path\": \"color\",\n",
    "                        },\n",
    "                        {\n",
    "                            \"type\": \"filter\",\n",
    "                            \"path\": \"rating\",\n",
    "                        },\n",
    "                        {\n",
    "                            \"type\": \"filter\",\n",
    "                            \"path\": \"price\",\n",
    "                        },\n",
    "                    ],\n",
    "    },\n",
    "    name=\"vector_search_index\",\n",
    "    type=\"vectorSearch\"\n",
    ")"
   ]
  },
  {
   "cell_type": "code",
   "execution_count": null,
   "id": "170f4bd6-e70c-4d5b-b872-0a5123082206",
   "metadata": {},
   "outputs": [],
   "source": [
    "my_collection.create_search_indexes(models=[fts_model, vs_model])"
   ]
  },
  {
   "cell_type": "markdown",
   "id": "4d47c025-c220-4ac8-904f-6a1224a36f11",
   "metadata": {},
   "source": [
    "### Count docs"
   ]
  },
  {
   "cell_type": "code",
   "execution_count": null,
   "id": "5814f906-2d18-4c13-a135-d0f2bd85c7b3",
   "metadata": {},
   "outputs": [],
   "source": [
    "my_collection.count_documents({})"
   ]
  },
  {
   "cell_type": "markdown",
   "id": "74063927-75e7-459e-931d-729500d5661c",
   "metadata": {},
   "source": [
    "# Architecture\n",
    "\n",
    "We split our system into an offline data indexing stage and an online search stage.\n",
    "\n",
    "The offline data indexing stage performs the processing, embedding, and upserting text and images into a MongoDB database that supports vector search across multiple fields and dimensions. This stage is built by running multi-modal data pipelines at scale using Anyscale for AI compute platform.\n",
    "\n",
    "The online search stage performs the necessary search operations by combining legacy text matching with advanced semantic search capabilities offered by MongoDB. This stage is built by running a multi-modal search backend on Anyscale.\n",
    "\n",
    "## Multi-Modal Data Pipelines at Scale\n",
    "\n",
    "### Overview\n",
    "The data pipelines show how to perform offline batch inference and embeddings generation at scale. The pipelines are designed to handle both text and image data by running multi-modal large language model instances. \n",
    "\n",
    "### Technology Stack\n",
    "\n",
    "- `ray[data]`\n",
    "- `vLLM`\n",
    "- `pymongo`\n",
    "- `sentence-transformers`\n",
    "\n",
    "## Multi-Modal Search at Scale\n",
    "\n",
    "### Overview\n",
    "The search backend combines legacy lexical text matching with advanced semantic search capabilities, offering a robust hybrid search solution. \n",
    "\n",
    "### Technology Stack\n",
    "- `ray[serve]`\n",
    "- `gradio`\n",
    "- `motor`\n",
    "- `sentence-transformers`"
   ]
  },
  {
   "cell_type": "markdown",
   "id": "9968d7a4-1a46-451d-9b8f-8bf62a1005b9",
   "metadata": {},
   "source": [
    "### Empty collection\n",
    "\n",
    "As you're working, you may have experiment, errors, or changes which alter the MongoDB collection. To drop all records in the collection, use the following line."
   ]
  },
  {
   "cell_type": "code",
   "execution_count": null,
   "id": "990ab0bb-299c-4109-9e64-c89f3731c5fe",
   "metadata": {},
   "outputs": [],
   "source": [
    "my_collection.delete_many({})"
   ]
  },
  {
   "cell_type": "code",
   "execution_count": null,
   "id": "714fefa5-2189-4726-a25f-e4952f816861",
   "metadata": {},
   "outputs": [],
   "source": []
  }
 ],
 "metadata": {
  "kernelspec": {
   "display_name": "Python 3 (ipykernel)",
   "language": "python",
   "name": "python3"
  },
  "language_info": {
   "codemirror_mode": {
    "name": "ipython",
    "version": 3
   },
   "file_extension": ".py",
   "mimetype": "text/x-python",
   "name": "python",
   "nbconvert_exporter": "python",
   "pygments_lexer": "ipython3",
   "version": "3.11.8"
  }
 },
 "nbformat": 4,
 "nbformat_minor": 5
}
