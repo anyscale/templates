{
 "cells": [
  {
   "cell_type": "markdown",
   "id": "2bab3ec5-e8e5-449b-abd3-f611b2a7de81",
   "metadata": {},
   "source": [
    "<div class=\"alert alert-block alert-success\">\n",
    "    \n",
    "__Lab activity: Stateless transformation__\n",
    "    \n",
    "1. Create a Ray Dataset from the iris data in `s3://anyscale-materials/data/iris.csv`\n",
    "1. Create a \"sum of features\" transformation that calculates the sum of the Sepal Length, Sepal Width, Petal Length, and Petal Width features for the records\n",
    "    1. Design this transformation to take a Ray Dataset *batch* of records\n",
    "    1. Return the records without the ID column but with an additional column called \"sum\"\n",
    "    1. Hint: you do not need to use NumPy, but the calculation may be easier/simpler to code using NumPy vectorized operations with the records in the batch\n",
    "</div>\n"
   ]
  },
  {
   "cell_type": "code",
   "execution_count": null,
   "id": "eb23fad0-bdd7-4194-9795-81e8422fbe88",
   "metadata": {
    "tags": []
   },
   "outputs": [],
   "source": [
    "import ray"
   ]
  },
  {
   "cell_type": "code",
   "execution_count": null,
   "id": "b26b279b-0396-49de-8ccb-9f449d01dd6f",
   "metadata": {
    "tags": []
   },
   "outputs": [],
   "source": [
    "ds = ray.data.read_csv('s3://anyscale-materials/data/iris.csv')"
   ]
  },
  {
   "cell_type": "code",
   "execution_count": null,
   "id": "345192a6-042e-4d3d-945d-07b5a17b2ac2",
   "metadata": {
    "tags": []
   },
   "outputs": [],
   "source": [
    "def sum_of_features(batch):\n",
    "    sep_len, sep_wid, pet_len, pet_wid = batch['SepalLengthCm'], batch['SepalWidthCm'], batch['PetalLengthCm'], batch['PetalWidthCm']\n",
    "    sums = [ sep_len[i] + sep_wid[i] + pet_len[i] + pet_wid[i] for i in range(len(sep_len)) ]\n",
    "    batch['sum'] = sums\n",
    "    del batch['Id']\n",
    "    return batch"
   ]
  },
  {
   "cell_type": "code",
   "execution_count": null,
   "id": "80b0e491-ba21-421c-af40-51c124900775",
   "metadata": {
    "tags": []
   },
   "outputs": [],
   "source": [
    "ds.map_batches(sum_of_features).show()"
   ]
  },
  {
   "cell_type": "code",
   "execution_count": null,
   "id": "61375dad-da12-4b7b-9593-6104ff106097",
   "metadata": {
    "tags": []
   },
   "outputs": [],
   "source": [
    "def sum_of_features_vec(batch):\n",
    "    batch['sum'] = batch['SepalLengthCm'] + batch['SepalWidthCm'] + batch['PetalLengthCm'] + batch['PetalWidthCm']\n",
    "    del batch['Id']\n",
    "    return batch\n",
    "\n",
    "ds.map_batches(sum_of_features).show()"
   ]
  },
  {
   "cell_type": "markdown",
   "id": "9afdc681-040f-4402-b07f-cf8aa688c2f8",
   "metadata": {},
   "source": [
    "<div class=\"alert alert-block alert-warning\">\n",
    "    \n",
    "__Lab activity: Stateful transformation__\n",
    "    \n",
    "1. Create a Ray Dataset from the iris data in `s3://anyscale-materials/data/iris.csv`\n",
    "1. Create an class that makes predictions on iris records using these steps:\n",
    "    1. in the class constructor, create an instance of the following \"model\" class:\n",
    "        ```python\n",
    "\n",
    "          class SillyModel():\n",
    "\n",
    "              def predict(self, petal_length):\n",
    "                  return petal_length + 0.42\n",
    "\n",
    "\n",
    "        ```\n",
    "    1. in the `__call__` method of the actor class\n",
    "        1. take a batch of records\n",
    "        1. create predictions for each record in the batch using the model instance\n",
    "            1. Hint: the code may be simpler using NumPy vectorized operations\n",
    "        1. add the predictions to the record batch\n",
    "        1. return the new, augmented batch\n",
    "1. Use that class to perform batch inference on the dataset using actors\n",
    "</div>"
   ]
  },
  {
   "cell_type": "code",
   "execution_count": null,
   "id": "af6e0512-2f04-4407-8df8-288a35794d6e",
   "metadata": {
    "tags": []
   },
   "outputs": [],
   "source": [
    "ds = ray.data.read_csv('s3://anyscale-materials/data/iris.csv')"
   ]
  },
  {
   "cell_type": "code",
   "execution_count": null,
   "id": "47938b25-e13a-4273-8ebc-df747e64b9d4",
   "metadata": {
    "tags": []
   },
   "outputs": [],
   "source": [
    "class SillyModel():\n",
    "    def predict(self, petal_length):\n",
    "        return petal_length + 0.42"
   ]
  },
  {
   "cell_type": "code",
   "execution_count": null,
   "id": "6b4c2148-8a5c-40d6-a628-4a6d26772700",
   "metadata": {
    "tags": []
   },
   "outputs": [],
   "source": [
    "class MyBatchPredictor():\n",
    "    def __init__(self):\n",
    "        self.model = SillyModel()\n",
    "        \n",
    "    def __call__(self, batch):\n",
    "        batch['predictions'] = self.model.predict(batch['PetalLengthCm'])\n",
    "        return batch"
   ]
  },
  {
   "cell_type": "code",
   "execution_count": null,
   "id": "4739e64e-8c76-4e11-b959-696c1c707f10",
   "metadata": {
    "tags": []
   },
   "outputs": [],
   "source": [
    "ds.map_batches(MyBatchPredictor, concurrency=3).show()"
   ]
  },
  {
   "cell_type": "code",
   "execution_count": null,
   "id": "f87820e5-14c9-4e9f-be57-3274aa751516",
   "metadata": {},
   "outputs": [],
   "source": []
  }
 ],
 "metadata": {
  "kernelspec": {
   "display_name": "Python 3 (ipykernel)",
   "language": "python",
   "name": "python3"
  },
  "language_info": {
   "codemirror_mode": {
    "name": "ipython",
    "version": 3
   },
   "file_extension": ".py",
   "mimetype": "text/x-python",
   "name": "python",
   "nbconvert_exporter": "python",
   "pygments_lexer": "ipython3",
   "version": "3.11.8"
  }
 },
 "nbformat": 4,
 "nbformat_minor": 5
}
