{
 "cells": [
  {
   "cell_type": "code",
   "execution_count": null,
   "id": "ba125a8a-1243-4068-b9d1-fe1011b06048",
   "metadata": {},
   "outputs": [],
   "source": [
    "import pymongo\n",
    "from pymongo import MongoClient\n",
    "import os"
   ]
  },
  {
   "cell_type": "code",
   "execution_count": null,
   "id": "aa8b399e-3388-4f58-919e-51065569a8cc",
   "metadata": {},
   "outputs": [],
   "source": [
    "db_name: str = \"myntra\"\n",
    "collection_name: str = \"myntra-items-offline\""
   ]
  },
  {
   "cell_type": "code",
   "execution_count": null,
   "id": "5e2efe4e-2b91-4f35-b4ff-0c5a1809c6b4",
   "metadata": {},
   "outputs": [],
   "source": [
    "client = MongoClient(os.environ[\"DB_CONNECTION_STRING\"])\n",
    "collection = client[db_name][collection_name]"
   ]
  },
  {
   "cell_type": "code",
   "execution_count": null,
   "id": "abc1ab12-ad2d-4fb6-95a5-525e2d2c1e37",
   "metadata": {},
   "outputs": [],
   "source": [
    "text_search = 'dress'\n",
    "text_search_index_name = 'lexical_text_search_index'\n",
    "min_price=0\n",
    "max_price=10_000\n",
    "min_rating=0\n",
    "n=10"
   ]
  },
  {
   "cell_type": "code",
   "execution_count": null,
   "id": "1e6dbcb2-cfdf-4841-9306-cf5ba315037e",
   "metadata": {},
   "outputs": [],
   "source": [
    "def lexical_search(text_search: str, text_search_index_name: str) -> list[dict]:\n",
    "    return [\n",
    "        {\n",
    "            \"$search\": {\n",
    "                \"index\": text_search_index_name,\n",
    "                \"text\": {\n",
    "                    \"query\": text_search,\n",
    "                    \"path\": \"name\",\n",
    "                },\n",
    "            }\n",
    "        }\n",
    "    ]\n"
   ]
  },
  {
   "cell_type": "code",
   "execution_count": null,
   "id": "09aff549-19e9-4594-b39b-3d2c7afdcb63",
   "metadata": {},
   "outputs": [],
   "source": [
    "def match_on_metadata(\n",
    "    min_price: int,\n",
    "    max_price: int,\n",
    "    min_rating: float,\n",
    "    n: int,\n",
    "    categories: list[str] | None = None,\n",
    "    colors: list[str] | None = None,\n",
    "    seasons: list[str] | None = None,\n",
    ") -> list[dict]:\n",
    "    match_spec = {\n",
    "        \"price\": {\n",
    "            \"$gte\": min_price,\n",
    "            \"$lte\": max_price,\n",
    "        },\n",
    "        \"rating\": {\"$gte\": min_rating},\n",
    "    }\n",
    "    if categories:\n",
    "        match_spec[\"category\"] = {\"$in\": categories}\n",
    "    if colors:\n",
    "        match_spec[\"color\"] = {\"$in\": colors}\n",
    "    if seasons:\n",
    "        match_spec[\"season\"] = {\"$in\": seasons}\n",
    "\n",
    "    return [\n",
    "        {\n",
    "            \"$match\": match_spec,\n",
    "        },\n",
    "        {\"$limit\": n},\n",
    "    ]\n"
   ]
  },
  {
   "cell_type": "code",
   "execution_count": null,
   "id": "71938468-986c-4626-9781-52be9396438a",
   "metadata": {},
   "outputs": [],
   "source": [
    "pipeline = []\n",
    "if text_search.strip():\n",
    "    pipeline.extend(\n",
    "        lexical_search(\n",
    "            text_search=text_search,\n",
    "            text_search_index_name=text_search_index_name,\n",
    "        )\n",
    "    )\n",
    "\n",
    "pipeline.extend(\n",
    "    match_on_metadata(\n",
    "        min_price=min_price,\n",
    "        max_price=max_price,\n",
    "        min_rating=min_rating,\n",
    "        n=n,\n",
    "    )\n",
    ")\n",
    "\n",
    "records = collection.aggregate(pipeline)\n",
    "results = [\n",
    "    (record[\"img\"].split(\";\")[-1].strip(), record[\"name\"])\n",
    "    # async \n",
    "    for record in records\n",
    "]\n",
    "\n",
    "n_results = len(results)"
   ]
  },
  {
   "cell_type": "code",
   "execution_count": null,
   "id": "ac668cfb-b72e-4f2c-8102-93cadaf73849",
   "metadata": {},
   "outputs": [],
   "source": [
    "results"
   ]
  },
  {
   "cell_type": "code",
   "execution_count": null,
   "id": "80f78352-dcce-4877-9288-5c6b5b29644e",
   "metadata": {},
   "outputs": [],
   "source": [
    "n_results"
   ]
  },
  {
   "cell_type": "code",
   "execution_count": null,
   "id": "2f59ecf7-ae59-4bd3-a190-2e078d18a82b",
   "metadata": {},
   "outputs": [],
   "source": []
  }
 ],
 "metadata": {
  "kernelspec": {
   "display_name": "Python 3 (ipykernel)",
   "language": "python",
   "name": "python3"
  },
  "language_info": {
   "codemirror_mode": {
    "name": "ipython",
    "version": 3
   },
   "file_extension": ".py",
   "mimetype": "text/x-python",
   "name": "python",
   "nbconvert_exporter": "python",
   "pygments_lexer": "ipython3",
   "version": "3.11.8"
  }
 },
 "nbformat": 4,
 "nbformat_minor": 5
}
