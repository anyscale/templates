{
 "cells": [
  {
   "attachments": {},
   "cell_type": "markdown",
   "id": "08c170e8",
   "metadata": {},
   "source": [
    "## Set up the dependencies\n",
    "When running in a distributed Ray Cluster, all nodes need to have access to dependencies. For this, we'll use `pip install --user` to install the necessary requirements. On an Anyscale Workspace, this is configured to install packages to a shared filesystem that will be available to all nodes in the cluster.\n",
    "\n",
    "`pip install --user -r requirements.txt`  \n",
    "\n",
    "After installing all the requirements, we'll start with some imports."
   ]
  },
  {
   "cell_type": "code",
   "execution_count": null,
   "id": "8fd0adfb",
   "metadata": {},
   "outputs": [],
   "source": [
    "!pip install --user -r requirements.txt"
   ]
  },
  {
   "cell_type": "code",
   "execution_count": null,
   "id": "0df6141e",
   "metadata": {
    "tags": []
   },
   "outputs": [],
   "source": [
    "import ray.data\n",
    "import pandas as pd\n",
    "import torch\n",
    "import requests\n",
    "from PIL import Image\n",
    "from io import BytesIO\n",
    "from diffusers import StableDiffusionImg2ImgPipeline\n",
    "import time"
   ]
  },
  {
   "cell_type": "code",
   "execution_count": 2,
   "id": "b8a7269e",
   "metadata": {
    "tags": []
   },
   "outputs": [],
   "source": [
    "model_id = 'nitrosocke/Ghibli-Diffusion'\n",
    "#model can be saved under /mnt/shared_storage for re-use\n",
    "#model_id = '/mnt/shared_storage/kyle/huggingface/diffusers/models--nitrosocke--Ghibli-Diffusion/snapshots/441c2fde3e82de3720b1a35111b95b6d8afee9d6/'\n",
    "device = \"cuda\"\n",
    "class PredictCallable:\n",
    "    def __init__(self, model_id: str, prompt: str, revision: str = None):\n",
    "        self.pipe = StableDiffusionImg2ImgPipeline.from_pretrained(\n",
    "            model_id,\n",
    "            torch_dtype=torch.float16).to(device)\n",
    "        self.prompt = prompt\n",
    "    \n",
    "    def __call__(self, batch: pd.DataFrame) -> pd.DataFrame:\n",
    "        batch_images = list(batch['image'])\n",
    "        batch_paths = list(batch['path'])\n",
    "        out_images = []\n",
    "        generator = torch.Generator(device=device).manual_seed(int(time.time()))\n",
    "        for img in batch_images:\n",
    "            inp_image = Image.fromarray(img)\n",
    "            out_image = self.pipe(prompt=self.prompt, image=inp_image, \\\n",
    "                              strength=1, guidance_scale=7.5, generator=generator).images[0]\n",
    "            out_images.append(out_image)\n",
    "        return [dict(zip(batch_paths, out_images))]"
   ]
  },
  {
   "cell_type": "code",
   "execution_count": null,
   "id": "1aef7bda-0a25-4ba4-b6b9-a19abae2f08c",
   "metadata": {
    "tags": []
   },
   "outputs": [],
   "source": [
    "import ray\n",
    "from ray.data.datasource.partitioning import Partitioning\n",
    "s3_uri = \"s3://anonymous@air-example-data-2/imagenette2/val/\"\n",
    "\n",
    "# The S3 directory structure is {s3_uri}/{class_id}/{*.JPEG}\n",
    "partitioning = Partitioning(\"dir\", field_names=[\"class\"], base_dir=s3_uri)\n",
    "\n",
    "ds = ray.data.read_images(\n",
    "    s3_uri, partitioning=partitioning, mode=\"RGB\", size=(768, 768), include_paths=True\n",
    ")"
   ]
  },
  {
   "cell_type": "code",
   "execution_count": null,
   "id": "54ad7830-2c87-427f-82de-3d29092d3975",
   "metadata": {
    "scrolled": true,
    "tags": []
   },
   "outputs": [],
   "source": [
    "inp_images = ds.limit(6)\n",
    "preds = (\n",
    "    inp_images\n",
    "    .map_batches(\n",
    "        PredictCallable,\n",
    "        batch_size=3,\n",
    "        fn_constructor_kwargs=dict(model_id=model_id, prompt='ghibli style fish'),\n",
    "        compute=\"actors\",\n",
    "        num_gpus=0.5\n",
    "    )\n",
    ")\n",
    "res = preds.take_all()"
   ]
  },
  {
   "cell_type": "code",
   "execution_count": null,
   "id": "00fb0792-461e-4ba5-94b4-5ba598563e2e",
   "metadata": {
    "scrolled": true,
    "tags": []
   },
   "outputs": [],
   "source": [
    "def display_sdimg2img(res):\n",
    "    print(len(res))\n",
    "    total = 0\n",
    "    if len(res) < 20:\n",
    "        for re in res:\n",
    "            #display(re)\n",
    "            total += len(re)\n",
    "            for k in re.keys():\n",
    "                print(k)\n",
    "                display(re[k])\n",
    "display_sdimg2img(res)"
   ]
  }
 ],
 "metadata": {
  "kernelspec": {
   "display_name": "Python 3 (ipykernel)",
   "language": "python",
   "name": "python3"
  },
  "language_info": {
   "codemirror_mode": {
    "name": "ipython",
    "version": 3
   },
   "file_extension": ".py",
   "mimetype": "text/x-python",
   "name": "python",
   "nbconvert_exporter": "python",
   "pygments_lexer": "ipython3",
   "version": "3.9.15"
  }
 },
 "nbformat": 4,
 "nbformat_minor": 5
}
