{
 "cells": [
  {
   "attachments": {},
   "cell_type": "markdown",
   "id": "4013de8d",
   "metadata": {},
   "source": [
    "## Set up the dependencies\n",
    "When running in a distributed Ray Cluster, all nodes need to have access to dependencies. For this, we'll use `pip install --user` to install the necessary requirements. On an Anyscale Workspace, this is configured to install packages to a shared filesystem that will be available to all nodes in the cluster.\n",
    "\n",
    "`pip install --user -r requirements.txt`  \n",
    "\n",
    "After installing all the requirements, we'll start with some imports."
   ]
  },
  {
   "cell_type": "code",
   "execution_count": null,
   "id": "e13056b8",
   "metadata": {},
   "outputs": [],
   "source": [
    "!pip install --user -r requirements.txt"
   ]
  },
  {
   "cell_type": "code",
   "execution_count": 1,
   "id": "5a558248-dfc6-4c15-a42a-e91b8e3f61d5",
   "metadata": {
    "tags": []
   },
   "outputs": [],
   "source": [
    "import cv2\n",
    "import ray"
   ]
  },
  {
   "cell_type": "code",
   "execution_count": null,
   "id": "cfe28d79-5411-499a-80d3-7be438d157c1",
   "metadata": {
    "tags": []
   },
   "outputs": [],
   "source": [
    "video = cv2.VideoCapture('./car_videos/cars.mp4')\n",
    "fps = video.get(cv2.CAP_PROP_FPS)\n",
    "print('frames per second =',fps)\n",
    "# minutes = 0\n",
    "# seconds = 1\n",
    "# frame_id = int(fps*(minutes*60 + seconds))\n",
    "# print('frame id =',frame_id)"
   ]
  },
  {
   "cell_type": "code",
   "execution_count": null,
   "id": "d37ca517-652f-4084-81e0-f6165407acee",
   "metadata": {
    "tags": []
   },
   "outputs": [],
   "source": [
    "success,image = video.read()\n",
    "count = 0\n",
    "print(success)\n",
    "while success:\n",
    "    if count %10 ==0:\n",
    "        cv2.imwrite(\"./car_images/frame%d.jpg\" % count, image)     # save frame as JPEG file      \n",
    "        print('write a frame: ', count)\n",
    "    success,image = video.read()\n",
    "    count += 1"
   ]
  },
  {
   "cell_type": "code",
   "execution_count": null,
   "id": "27e15418-d859-4604-99f3-736719ab8203",
   "metadata": {
    "scrolled": true,
    "tags": []
   },
   "outputs": [],
   "source": [
    "from img2img import PredictCallable"
   ]
  },
  {
   "cell_type": "code",
   "execution_count": null,
   "id": "9684801d-642f-4419-83b7-e5e737d44230",
   "metadata": {
    "scrolled": true,
    "tags": []
   },
   "outputs": [],
   "source": [
    "model_id = 'nitrosocke/Ghibli-Diffusion'\n",
    "#model can be saved under /mnt/shared_storage for re-use\n",
    "#model_id = '/mnt/shared_storage/kyle/huggingface/diffusers/models--nitrosocke--Ghibli-Diffusion/snapshots/441c2fde3e82de3720b1a35111b95b6d8afee9d6/'\n",
    "img_path = './car_images'\n",
    "inp_images = ray.data.read_images(img_path, size=(768, 768), include_paths=True).limit(20)\n",
    "preds = (\n",
    "    inp_images\n",
    "    .map_batches(\n",
    "        PredictCallable,\n",
    "        batch_size=2,\n",
    "        fn_constructor_kwargs=dict(model_id=model_id, prompt='cyberpunk style cars', strength=0.95),\n",
    "        compute=\"actors\",\n",
    "        num_gpus=1\n",
    "    )\n",
    ")"
   ]
  },
  {
   "cell_type": "code",
   "execution_count": null,
   "id": "bbb87ba5-ef22-4bf7-90e5-2ac2e90be2ea",
   "metadata": {
    "scrolled": true,
    "tags": []
   },
   "outputs": [],
   "source": [
    "res = preds.take_all()"
   ]
  },
  {
   "cell_type": "code",
   "execution_count": null,
   "id": "f9a54394-465b-4dd8-af29-d1d7a4aa8ed6",
   "metadata": {
    "scrolled": true,
    "tags": []
   },
   "outputs": [],
   "source": [
    "print(len(res))\n",
    "if len(res) < 20:\n",
    "    for re in res:\n",
    "        for k in re.keys():\n",
    "            print(k)\n",
    "            display(re[k])"
   ]
  },
  {
   "cell_type": "code",
   "execution_count": null,
   "id": "5700f3e3-2a1e-4f6b-b8ac-e7ec21fd3ba6",
   "metadata": {
    "tags": []
   },
   "outputs": [],
   "source": [
    "import numpy as np\n",
    "frameSize = (768, 768)\n",
    "\n",
    "out = cv2.VideoWriter('car_videos/output_video.avi', 0, 1, frameSize)\n",
    "\n",
    "for re in res:\n",
    "    for k in re.keys():\n",
    "        print(k,type(re[k]))\n",
    "        pil_image = re[k]\n",
    "        open_cv_image = np.array(pil_image) \n",
    "        # Convert RGB to BGR \n",
    "        open_cv_image = open_cv_image[:, :, ::-1].copy() \n",
    "        print(open_cv_image.shape)\n",
    "        out.write(open_cv_image)"
   ]
  }
 ],
 "metadata": {
  "kernelspec": {
   "display_name": "Python 3 (ipykernel)",
   "language": "python",
   "name": "python3"
  },
  "language_info": {
   "codemirror_mode": {
    "name": "ipython",
    "version": 3
   },
   "file_extension": ".py",
   "mimetype": "text/x-python",
   "name": "python",
   "nbconvert_exporter": "python",
   "pygments_lexer": "ipython3",
   "version": "3.9.15"
  }
 },
 "nbformat": 4,
 "nbformat_minor": 5
}
