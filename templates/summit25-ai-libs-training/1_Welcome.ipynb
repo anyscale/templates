{
 "cells": [
  {
   "cell_type": "markdown",
   "id": "e25b6b33-b451-4927-a3c7-bec62d4d9da3",
   "metadata": {},
   "source": [
    "# Ray AI Libraries Intro\n",
    "\n",
    "* Ray and AI Libraries Overview\n",
    "* Intro to...\n",
    "    * Ray Data\n",
    "    * Ray Train\n",
    "* Ray Data for Batch Inference with GenAI and LLMs "
   ]
  },
  {
   "cell_type": "markdown",
   "id": "79b5f49a-dc4b-407c-b277-416326ed4a41",
   "metadata": {},
   "source": [
    "## About the instructor\n",
    "\n",
    "##### Adam Breindel, Lead Technical Instructor, Anyscale\n",
    "\n",
    "__Contact:__ `adamb@anyscale.com` - https://www.linkedin.com/in/adbreind\n",
    "\n",
    "<img src=\"https://materials.s3.amazonaws.com/i/lpMDU9j.jpg\" width=200 style=\"margin-right:2em;margin-top:1em\"/>\n",
    "\n",
    "* 25+ years building systems for startups and large enterprises including AI/ML, mobile, web, data eng\n",
    "* 15+ years teaching front- and back-end technology\n",
    "\n",
    "__Interesting projects...__\n",
    "* My first full-time job in tech involved streaming neural net fraud scoring (debit cards)\n",
    "* Realtime & offline analytics for banking\n",
    "* Music synchronization and licensing for networked jukeboxes\n",
    "\n",
    "__Industries/verticals__\n",
    "* Finance / Insurance, Travel, Media / Entertainment, Government, Energy, Tech"
   ]
  },
  {
   "cell_type": "markdown",
   "id": "d2c70bbd-dd8c-427a-ab22-4ca71e61e743",
   "metadata": {},
   "source": [
    "## Useful links\n",
    "\n",
    "* Ray - https://www.ray.io/\n",
    "  * Ray docs - https://docs.ray.io/en/latest/\n",
    "* Anyscale - https://www.anyscale.com/\n",
    "  * Anyscale platform docs - https://docs.anyscale.com/\n",
    "  * Anyscale console (login) - https://console.anyscale.com/"
   ]
  },
  {
   "cell_type": "markdown",
   "id": "9913265f",
   "metadata": {},
   "source": [
    "# Introduction - Ray - Anyscale"
   ]
  },
  {
   "cell_type": "markdown",
   "id": "aa76b19a",
   "metadata": {},
   "source": [
    "## What is Ray?\n",
    "\n",
    "<img src='https://docs.ray.io/en/releases-2.38.0/_images/map-of-ray.svg' width=700 />"
   ]
  },
  {
   "cell_type": "markdown",
   "id": "e82a88a3",
   "metadata": {},
   "source": [
    "## Ray\n",
    "\n",
    "* OSS framework for high-performance, resilient, scale-out computation on heterogeneous hardware\n",
    "* Distributed scheduler supporting stateless functions (\"tasks\") as well as long-running stateful processes (\"actors\")\n",
    "* Key features: \n",
    "  * Dependency tracking (task graphs)\n",
    "  * Data movement and resource aware\n",
    "  * Supports mix of resource requirements (e.g., GPUs), fractional, and custom resources\n",
    "* Additional infra: object store, fault tolerance via GCS\n",
    "* Ray AI Libraries are a set of high-level APIs for accomplishing common large-scale data + compute use cases (e.g., data transformation, model training)\n",
    "* Easy, Python-based APIs and coding patterns\n",
    "\n",
    "## Anyscale: Production-ready Ray from day one\n",
    "\n",
    "* __Developer central__: multi-node backed IDE, advanced observability by Ray library\n",
    "* __Optimized runtime__: faster performance and higher GPU utilization vs. OSS\n",
    "* __Cluster controller__: proactive unhealthy node replacement, 0-100 node 60-sec cold starts\n",
    "* __Expertise__: Training, 24/7 support, professional services\n"
   ]
  }
 ],
 "metadata": {
  "kernelspec": {
   "display_name": "Python 3 (ipykernel)",
   "language": "python",
   "name": "python3"
  },
  "language_info": {
   "codemirror_mode": {
    "name": "ipython",
    "version": 3
   },
   "file_extension": ".py",
   "mimetype": "text/x-python",
   "name": "python",
   "nbconvert_exporter": "python",
   "pygments_lexer": "ipython3",
   "version": "3.12.11"
  }
 },
 "nbformat": 4,
 "nbformat_minor": 5
}
