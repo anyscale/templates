{
 "cells": [
  {
   "cell_type": "markdown",
   "id": "2bab3ec5-e8e5-449b-abd3-f611b2a7de81",
   "metadata": {},
   "source": [
    "<div class=\"alert alert-block alert-success\">\n",
    "    \n",
    "__Lab activity: Stateless transformation__\n",
    "    \n",
    "1. Create a Ray Dataset from the iris data in `/mnt/cluster_storage/parquet_iris`\n",
    "1. Create a \"sum of features\" transformation that calculates the sum of the Sepal Length, Sepal Width, Petal Length, and Petal Width features for the records\n",
    "    1. Design this transformation to take a Ray Dataset *batch* of records\n",
    "    1. Return the records without the ID column but with an additional column called \"sum\"\n",
    "    1. Hint: you do not need to use NumPy, but the calculation may be easier/simpler to code using NumPy vectorized operations with the records in the batch\n",
    "</div>\n"
   ]
  },
  {
   "cell_type": "code",
   "execution_count": null,
   "id": "eb23fad0-bdd7-4194-9795-81e8422fbe88",
   "metadata": {
    "tags": []
   },
   "outputs": [],
   "source": [
    "import ray"
   ]
  },
  {
   "cell_type": "code",
   "execution_count": null,
   "id": "b26b279b-0396-49de-8ccb-9f449d01dd6f",
   "metadata": {
    "tags": []
   },
   "outputs": [],
   "source": [
    "ds = ray.data.read_parquet('/mnt/cluster_storage/parquet_iris/')"
   ]
  },
  {
   "cell_type": "code",
   "execution_count": null,
   "id": "345192a6-042e-4d3d-945d-07b5a17b2ac2",
   "metadata": {
    "tags": []
   },
   "outputs": [],
   "source": [
    "def sum_of_features(batch):\n",
    "    sep_len, sep_wid, pet_len, pet_wid = batch['SepalLengthCm'], batch['SepalWidthCm'], batch['PetalLengthCm'], batch['PetalWidthCm']\n",
    "    sums = [ sep_len[i] + sep_wid[i] + pet_len[i] + pet_wid[i] for i in range(len(sep_len)) ]\n",
    "    batch['sum'] = sums\n",
    "    del batch['Id']\n",
    "    return batch"
   ]
  },
  {
   "cell_type": "code",
   "execution_count": null,
   "id": "80b0e491-ba21-421c-af40-51c124900775",
   "metadata": {
    "tags": []
   },
   "outputs": [],
   "source": [
    "ds.map_batches(sum_of_features).show()"
   ]
  },
  {
   "cell_type": "code",
   "execution_count": null,
   "id": "61375dad-da12-4b7b-9593-6104ff106097",
   "metadata": {
    "tags": []
   },
   "outputs": [],
   "source": [
    "def sum_of_features_vec(batch):\n",
    "    batch['sum'] = batch['SepalLengthCm'] + batch['SepalWidthCm'] + batch['PetalLengthCm'] + batch['PetalWidthCm']\n",
    "    del batch['Id']\n",
    "    return batch\n",
    "\n",
    "ds.map_batches(sum_of_features).show()"
   ]
  },
  {
   "cell_type": "code",
   "execution_count": null,
   "id": "f87820e5-14c9-4e9f-be57-3274aa751516",
   "metadata": {},
   "outputs": [],
   "source": []
  }
 ],
 "metadata": {
  "kernelspec": {
   "display_name": "Python 3 (ipykernel)",
   "language": "python",
   "name": "python3"
  },
  "language_info": {
   "codemirror_mode": {
    "name": "ipython",
    "version": 3
   },
   "file_extension": ".py",
   "mimetype": "text/x-python",
   "name": "python",
   "nbconvert_exporter": "python",
   "pygments_lexer": "ipython3",
   "version": "3.12.11"
  }
 },
 "nbformat": 4,
 "nbformat_minor": 5
}
