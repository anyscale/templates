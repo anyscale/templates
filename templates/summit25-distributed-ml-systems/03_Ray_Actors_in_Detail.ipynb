{
 "cells": [
  {
   "cell_type": "markdown",
   "id": "998e35b4",
   "metadata": {},
   "source": [
    "# Ray Actors in Detail\n",
    "\n",
    "© 2025, Anyscale. All Rights Reserved\n",
    "\n",
    "This document provides an introduction to Ray Actors, which extend the Ray API from functions (tasks) to classes."
   ]
  },
  {
   "cell_type": "markdown",
   "id": "d60dfd80",
   "metadata": {},
   "source": [
    "<div class=\"alert alert-block alert-info\">\n",
    "\n",
    "<b> Here is the roadmap for this notebook </b>\n",
    "\n",
    "<ol>\n",
    "  <li>Overview and setup</li>\n",
    "  <li>Simple actor submission (creating, executing, and getting results)</li>\n",
    "  <li>Actor resource fulfillment and scheduling</li> \n",
    "  <li>Actor process failure</li>\n",
    "  <li>Fault tolerance with Actors</li>\n",
    "  <li>Multi-threading with Actors</li>\n",
    "  <li>Asyncio with Actors</li>\n",
    "  <li>Concurrency groups</li>\n",
    "  <li>Actor pool abstraction</li>\n",
    "</ol>\n",
    "</div>\n",
    "\n",
    "**Imports**\n"
   ]
  },
  {
   "cell_type": "code",
   "execution_count": null,
   "id": "ddc2dcc9",
   "metadata": {},
   "outputs": [],
   "source": [
    "import asyncio\n",
    "import json\n",
    "import os\n",
    "import sys\n",
    "import tempfile\n",
    "import time\n",
    "import threading\n",
    "\n",
    "\n",
    "import ray\n",
    "from ray.util import ActorPool\n",
    "from ray.util.placement_group import placement_group, remove_placement_group\n",
    "from ray.util.scheduling_strategies import PlacementGroupSchedulingStrategy"
   ]
  },
  {
   "cell_type": "markdown",
   "id": "ceaf81dd",
   "metadata": {},
   "source": [
    "## Simple actor submission (creating, executing, and getting results)\n",
    "\n",
    "Actors extend the Ray API from functions (tasks) to classes.\n",
    "\n",
    "An actor is a stateful worker. When a new actor is instantiated, a new worker is created, and methods of the actor are scheduled on that specific worker and can access and mutate the state of that worker. Similarly to Ray Tasks, actors support CPU and GPU compute as well as fractional resources.\n",
    "\n",
    "Let's look at an example of an actor which maintains a running balance.\n"
   ]
  },
  {
   "cell_type": "code",
   "execution_count": null,
   "id": "268a0423",
   "metadata": {},
   "outputs": [],
   "source": [
    "@ray.remote\n",
    "class Accounting:\n",
    "    def __init__(self):\n",
    "        self.total = 0\n",
    "    \n",
    "    def add(self, amount):\n",
    "        self.total += amount\n",
    "        \n",
    "    def remove(self, amount):\n",
    "        self.total -= amount\n",
    "        \n",
    "    def total(self):\n",
    "        return self.total"
   ]
  },
  {
   "cell_type": "markdown",
   "id": "a53d64fa",
   "metadata": {},
   "source": [
    "<div class=\"alert alert-info\">\n",
    "  <strong><a href=\"https://docs.ray.io/en/latest/ray-core/key-concepts.html#actors\" target=\"_blank\">Actor</a></strong> is a remote, stateful Python class.\n",
    "</div>\n",
    "\n",
    "Define an actor with the `@ray.remote` decorator and then use `<class_name>.remote()` ask Ray to construct and instance of this actor somewhere in the cluster.\n",
    "\n",
    "We get an actor handle which we can use to communicate with that actor, pass to other code, tasks, or actors, etc.\n"
   ]
  },
  {
   "cell_type": "code",
   "execution_count": null,
   "id": "2e2b8e7e",
   "metadata": {},
   "outputs": [],
   "source": [
    "acc = Accounting.remote()"
   ]
  },
  {
   "cell_type": "markdown",
   "id": "13f36904",
   "metadata": {},
   "source": [
    "We can send a message to an actor -- with RPC semantics -- by using `<handle>.<method_name>.remote()`\n"
   ]
  },
  {
   "cell_type": "code",
   "execution_count": null,
   "id": "478b7d17",
   "metadata": {},
   "outputs": [],
   "source": [
    "acc.total.remote()"
   ]
  },
  {
   "cell_type": "markdown",
   "id": "00b93c30",
   "metadata": {},
   "source": [
    "Not surprisingly, we get an object ref back\n"
   ]
  },
  {
   "cell_type": "code",
   "execution_count": null,
   "id": "a84bb88a",
   "metadata": {},
   "outputs": [],
   "source": [
    "ray.get(acc.total.remote())"
   ]
  },
  {
   "cell_type": "markdown",
   "id": "e617bbf8",
   "metadata": {},
   "source": [
    "We can mutate the state inside this actor instance\n"
   ]
  },
  {
   "cell_type": "code",
   "execution_count": null,
   "id": "b758ceea",
   "metadata": {
    "lines_to_next_cell": 2
   },
   "outputs": [],
   "source": [
    "acc.add.remote(100)"
   ]
  },
  {
   "cell_type": "code",
   "execution_count": null,
   "id": "639e6179",
   "metadata": {
    "lines_to_next_cell": 2
   },
   "outputs": [],
   "source": [
    "acc.remove.remote(10)"
   ]
  },
  {
   "cell_type": "code",
   "execution_count": null,
   "id": "b98425e7",
   "metadata": {},
   "outputs": [],
   "source": [
    "ray.get(acc.total.remote())"
   ]
  },
  {
   "cell_type": "markdown",
   "id": "c9f369b8",
   "metadata": {},
   "source": [
    "### Activity: Linear Model Inference\n",
    "\n",
    "<div class=\"alert alert-block alert-info\">\n",
    "\n",
    "__Activity: linear model inference__\n",
    "\n",
    "* Create an actor which applies a model to convert Celsius temperatures to Fahrenheit\n",
    "* The constructor should take model weights (w1 and w0) and store them as instance state\n",
    "* A convert method should take a scalar, multiply it by w1 then add w0 (weights retrieved from instance state) and then return the result\n",
    "\n"
   ]
  },
  {
   "cell_type": "code",
   "execution_count": null,
   "id": "5ccb2ac3",
   "metadata": {},
   "outputs": [],
   "source": [
    "# Hint: define the below as a remote actor\n",
    "class LinearModel:\n",
    "    def __init__(self, w0, w1):\n",
    "        \"\"\"Hint: store the weights\"\"\"\n",
    "\n",
    "    def convert(self, celsius):\n",
    "        \"\"\"Hint: convert the celsius temperature to Fahrenheit.\"\"\"\n",
    "\n",
    "# Hint: create an instance of the LinearModel actor\n",
    "\n",
    "# Hint: convert 100 Celsius to Fahrenheit"
   ]
  },
  {
   "cell_type": "markdown",
   "id": "019cced5",
   "metadata": {},
   "source": [
    "</div>\n"
   ]
  },
  {
   "cell_type": "code",
   "execution_count": null,
   "id": "ba447e17",
   "metadata": {},
   "outputs": [],
   "source": [
    "# Write your solution here"
   ]
  },
  {
   "cell_type": "markdown",
   "id": "acfdfcae",
   "metadata": {
    "region_name": "markdown"
   },
   "source": [
    "<div class=\"alert alert-block alert-info\">\n",
    "\n",
    "<details>\n",
    "\n",
    "<summary> Click to see solution </summary>\n",
    "\n",
    "```python\n",
    "@ray.remote\n",
    "class LinearModel:\n",
    "    def __init__(self, w0, w1):\n",
    "        self.w0 = w0\n",
    "        self.w1 = w1\n",
    "\n",
    "    def convert(self, celsius):\n",
    "        return self.w1 * celsius + self.w0\n",
    "\n",
    "model = LinearModel.remote(w1=9/5, w0=32)\n",
    "ray.get(model.convert.remote(100))\n",
    "``` \n",
    "\n",
    "</details>\n",
    "\n",
    "</details>\n",
    "</div>"
   ]
  },
  {
   "cell_type": "markdown",
   "id": "f12424ff",
   "metadata": {},
   "source": [
    "## Actor resource fulfillment and scheduling\n",
    "\n",
    "Actors reserve resources for their entire lifetime. Method calls (actor tasks) execute on the same worker process that hosts the actor."
   ]
  },
  {
   "cell_type": "code",
   "execution_count": null,
   "id": "8250e98d",
   "metadata": {},
   "outputs": [],
   "source": [
    "@ray.remote(num_cpus=2)\n",
    "class ModelServer:\n",
    "    def __init__(self):\n",
    "        self.ready = True\n",
    "\n",
    "    def infer(self, x):\n",
    "        return x * 2\n",
    "\n",
    "    def task_a(self):\n",
    "        return \"a\"\n",
    "\n",
    "    def task_b(self):\n",
    "        return \"b\"\n",
    "\n",
    "srv = ModelServer.remote()\n",
    "ray.get(srv.infer.remote(21))"
   ]
  },
  {
   "cell_type": "markdown",
   "id": "fc91a85f",
   "metadata": {},
   "source": [
    "### Actor creation process\n",
    "\n",
    "When you call `.remote()` on an actor class, here's what happens:\n",
    "\n",
    "1. **Registration**: The creating worker registers the actor with the GCS\n",
    "   - Detached actors: synchronous registration (prevents name conflicts)\n",
    "   - Non-detached actors: asynchronous registration (better performance)\n",
    "\n",
    "2. **Scheduling**: Once dependencies are resolved, the GCS schedules the actor creation task using the distributed scheduling protocol (same as normal tasks)\n",
    "\n",
    "3. **Buffering**: The creator can immediately submit method calls on the actor handle\n",
    "   - Tasks are buffered locally until the actor is created\n",
    "   - Handles can be passed to other tasks/actors before creation completes\n",
    "\n",
    "4. **Notification**: When the actor is created, the GCS notifies all handle holders via pub-sub\n",
    "   - Each handle caches the actor's RPC address\n",
    "   - Buffered tasks are sent to the actor for execution\n",
    "\n",
    "Here is a diagram illustrating the actor creation process:\n",
    "\n",
    "<img src=\"https://anyscale-materials.s3.us-west-2.amazonaws.com/ray-core/actor_creation.svg\" alt=\"Actor Creation Process\" style=\"width: 700px;\"/>"
   ]
  },
  {
   "cell_type": "markdown",
   "id": "999c82ef",
   "metadata": {},
   "source": [
    "### How actor placement is chosen\n",
    "\n",
    "The GCS schedules actor creation using the same placement rules as normal tasks:\n",
    "\n",
    "- **Data locality**: If constructor arguments include large `ObjectRef`s, prefer the node with the most bytes local\n",
    "- **Default**: Use the caller's local raylet if resources are available\n",
    "\n",
    "Once placed, the actor holds its resources for its entire lifetime."
   ]
  },
  {
   "cell_type": "markdown",
   "id": "d3bbe78b",
   "metadata": {},
   "source": [
    "### Actor task submission process\n",
    "\n",
    "Actor handles contain the RPC address of the actor. Calling workers connect directly to this address to submit tasks.\n",
    "\n",
    "Here is a diagram illustrating the actor task submission process:\n",
    "<img src=\"https://anyscale-materials.s3.us-west-2.amazonaws.com/ray-core/actor_task_submission.svg\" alt=\"Actor Creation Process\" style=\"width: 700px;\"/>"
   ]
  },
  {
   "cell_type": "markdown",
   "id": "1d3a7b14",
   "metadata": {
    "lines_to_next_cell": 0
   },
   "source": [
    "**Execution ordering:**\n",
    "- Tasks from the **same submitter** follow strict FIFO order\n",
    "- Tasks from **different submitters** have no guaranteed order\n",
    "- If a task is blocked on dependencies, the actor can still execute tasks from other submitters\n",
    "\n",
    "**Example:**"
   ]
  },
  {
   "cell_type": "code",
   "execution_count": null,
   "id": "6caa12ae",
   "metadata": {
    "lines_to_next_cell": 2
   },
   "outputs": [],
   "source": [
    "# Driver process submits tasks\n",
    "srv.task_a.remote()  # Executes first\n",
    "srv.task_b.remote()  # Executes second (waits for task_a to finish)\n",
    "\n",
    "@ray.remote\n",
    "def f(srv):\n",
    "    # Worker process submits tasks\n",
    "    srv.task_a.remote()  # May execute before or after any of driver's tasks\n",
    "\n",
    "f.remote(srv)"
   ]
  },
  {
   "cell_type": "markdown",
   "id": "95f2e719",
   "metadata": {},
   "source": [
    "## Actor Process Failure\n",
    "\n",
    "Ray automatically restarts actors that crash unexpectedly using `max_restarts`. The actor's state is recreated by rerunning its constructor.\n",
    "\n",
    "**Configuration options:**\n",
    "- `max_restarts=0` (default): No restart\n",
    "- `max_restarts=-1`: Infinite restarts\n",
    "- `max_task_retries=0` (default): At-most-once execution - throws `RayActorError` immediately on actor failure\n",
    "- `max_task_retries=-1`: At-least-once execution - retries tasks automatically once actor is restored\n",
    "\n",
    "**Example: Actor that restarts after failure**"
   ]
  },
  {
   "cell_type": "code",
   "execution_count": null,
   "id": "da6a3347",
   "metadata": {},
   "outputs": [],
   "source": [
    "@ray.remote(max_restarts=4, max_task_retries=-1)\n",
    "class Actor:\n",
    "    def __init__(self):\n",
    "        self.counter = 0\n",
    "\n",
    "    def increment_and_possibly_fail(self):\n",
    "        if self.counter == 10:\n",
    "            os._exit(0)  # Exit after every 10 tasks\n",
    "        self.counter += 1\n",
    "        return self.counter\n",
    "\n",
    "actor = Actor.remote()\n",
    "\n",
    "# Executes 50 tasks across 5 actor lifetimes (10 tasks each)\n",
    "for _ in range(50):\n",
    "    counter = ray.get(actor.increment_and_possibly_fail.remote())\n",
    "    print(counter)  # Prints 1-10 five times\n",
    "\n",
    "# After 4 restarts, subsequent tasks raise RayActorError\n",
    "for _ in range(10):\n",
    "    try:\n",
    "        ray.get(actor.increment_and_possibly_fail.remote())\n",
    "    except ray.exceptions.RayActorError:\n",
    "        print(\"FAILURE\")  # Actor exhausted restarts"
   ]
  },
  {
   "cell_type": "markdown",
   "id": "237a3e88",
   "metadata": {},
   "source": [
    "**Note:** With at-least-once semantics, retried methods may execute twice - once on the failed actor and again on the restarted actor."
   ]
  },
  {
   "cell_type": "markdown",
   "id": "8849a08b",
   "metadata": {},
   "source": [
    "## Fault-tolerant actors with state restoration\n",
    "Actor memory is process-local. After a restart, you must restore state explicitly."
   ]
  },
  {
   "cell_type": "markdown",
   "id": "b1c709a6",
   "metadata": {},
   "source": [
    "Here is an example that uses file-based checkpoints to achieve stateful fault tolerance.\n"
   ]
  },
  {
   "cell_type": "code",
   "execution_count": null,
   "id": "f6e28054",
   "metadata": {},
   "outputs": [],
   "source": [
    "@ray.remote(max_restarts=-1, max_task_retries=-1)\n",
    "class ImmortalActor:\n",
    "    def __init__(self, checkpoint_file):\n",
    "        self.checkpoint_file = checkpoint_file\n",
    "\n",
    "        if os.path.exists(self.checkpoint_file):\n",
    "            # Restore from a checkpoint\n",
    "            with open(self.checkpoint_file, \"r\") as f:\n",
    "                self.state = json.load(f)\n",
    "        else:\n",
    "            self.state = {}\n",
    "\n",
    "    def flaky_update(self, key, value):\n",
    "        import random\n",
    "\n",
    "        if random.randrange(10) < 5:\n",
    "            sys.exit(1)\n",
    "\n",
    "        self.state[key] = value\n",
    "\n",
    "        # Checkpoint the latest state\n",
    "        with open(self.checkpoint_file, \"w\") as f:\n",
    "            json.dump(self.state, f)\n",
    "\n",
    "    def get(self, key):\n",
    "        return self.state[key]\n",
    "\n",
    "\n",
    "checkpoint_dir = \"/mnt/cluster_storage/\"\n",
    "actor = ImmortalActor.remote(os.path.join(checkpoint_dir, \"checkpoint.json\"))\n",
    "ray.get(actor.flaky_update.remote(\"1\", 1))\n",
    "ray.get(actor.flaky_update.remote(\"2\", 2))\n",
    "\n",
    "assert ray.get(actor.get.remote(\"1\")) == 1\n",
    "assert ray.get(actor.get.remote(\"2\")) == 2"
   ]
  },
  {
   "cell_type": "markdown",
   "id": "e46a91f1",
   "metadata": {},
   "source": [
    "### Detached actors\n",
    "Make long-lived, globally named services resilient to driver exits.\n"
   ]
  },
  {
   "cell_type": "code",
   "execution_count": null,
   "id": "b7b5d7d0",
   "metadata": {},
   "outputs": [],
   "source": [
    "svc = ModelServer.options(lifetime=\"detached\", name=\"global_model\", namespace=\"my-test\").remote()\n",
    "# Later (or from another driver):\n",
    "svc = ray.get_actor(name=\"global_model\", namespace=\"my-test\")"
   ]
  },
  {
   "cell_type": "markdown",
   "id": "2ec6bc90",
   "metadata": {},
   "source": [
    "### Killing actors\n",
    "\n",
    "To kill an actor and prevent restarts, use `ray.kill` with `no_restart=True`."
   ]
  },
  {
   "cell_type": "code",
   "execution_count": null,
   "id": "bc792a02",
   "metadata": {
    "lines_to_next_cell": 2
   },
   "outputs": [],
   "source": [
    "ray.kill(svc, no_restart=True)"
   ]
  },
  {
   "cell_type": "markdown",
   "id": "e61df781",
   "metadata": {},
   "source": [
    "## Multithreaded actors\n",
    "\n",
    "By default, an actor runs one method at a time. Increase parallelism with `max_concurrency` and ensure thread-safety.\n"
   ]
  },
  {
   "cell_type": "code",
   "execution_count": null,
   "id": "501cea16",
   "metadata": {},
   "outputs": [],
   "source": [
    "@ray.remote(max_concurrency=8)\n",
    "class Counter:\n",
    "    def __init__(self):\n",
    "        self.value = 0\n",
    "        self._lock = threading.Lock()\n",
    "\n",
    "    def add(self, x):\n",
    "        time.sleep(0.1)  # simulate work\n",
    "        with self._lock:\n",
    "            self.value += x\n",
    "            return self.value\n",
    "\n",
    "c = Counter.remote()\n",
    "refs = [c.add.remote(1) for _ in range(32)]\n",
    "ray.get(refs)  # up to 8 run concurrently"
   ]
  },
  {
   "cell_type": "markdown",
   "id": "4cd36202",
   "metadata": {},
   "source": [
    "Guidelines:\n",
    "- Protect shared mutable state with locks or use immutable updates.\n",
    "- Use higher `max_concurrency` for I/O-bound actors; keep modest for CPU-bound to avoid oversubscription.\n",
    "- For CPU-heavy parallelism, prefer multiple actors to scale across cores/nodes.\n"
   ]
  },
  {
   "cell_type": "markdown",
   "id": "ea68c0d4",
   "metadata": {},
   "source": [
    "## Async actors\n",
    "\n",
    "Async actors run an asyncio event loop; methods declared with `async def` can interleave via `await` points. Concurrency is bounded by `max_concurrency`.\n"
   ]
  },
  {
   "cell_type": "code",
   "execution_count": null,
   "id": "9e79c888",
   "metadata": {},
   "outputs": [],
   "source": [
    "@ray.remote(max_concurrency=16)\n",
    "class AsyncWorker:\n",
    "    async def work(self, i):\n",
    "        await asyncio.sleep(0.2)\n",
    "        return i * i\n",
    "\n",
    "aw = AsyncWorker.remote()\n",
    "results = ray.get([aw.work.remote(i) for i in range(20)])"
   ]
  },
  {
   "cell_type": "markdown",
   "id": "f52267c9",
   "metadata": {},
   "source": [
    "<div class=\"alert alert-info\">\n",
    "  <b>Tip:</b> Async actors avoid Python thread contention and can scale high-concurrency I/O. Set <code>max_concurrency</code> to the target in-flight operations.\n",
    "</div>\n"
   ]
  },
  {
   "cell_type": "markdown",
   "id": "8f72e074",
   "metadata": {},
   "source": [
    "## Concurrency groups\n",
    "\n",
    "Concurrency groups let you assign different concurrency limits to different methods within the same actor. This is useful when you want some methods (like health checks) to remain responsive even while other methods are busy.\n",
    "\n",
    "**Key concepts:**\n",
    "- Define groups with their concurrency limits in the `@ray.remote` decorator\n",
    "- Assign methods to groups using `@ray.method(concurrency_group=\"name\")`\n",
    "- Methods without a group go to the default group (limit: 1000 for async actors, 1 for threaded actors)\n",
    "- Works with both async and threaded actors\n",
    "\n",
    "<div class=\"alert alert-info\">\n",
    "  <b>Note:</b> For async actors, Ray creates a separate event loop for each concurrency group, providing true isolation between groups.\n",
    "</div>\n",
    "\n",
    "**Example:**"
   ]
  },
  {
   "cell_type": "code",
   "execution_count": null,
   "id": "bf2f1597",
   "metadata": {},
   "outputs": [],
   "source": [
    "@ray.remote(concurrency_groups={\"io\": 2, \"compute\": 4})\n",
    "class AsyncWorker:\n",
    "    @ray.method(concurrency_group=\"io\")\n",
    "    async def fetch_data(self):\n",
    "        await asyncio.sleep(1)\n",
    "        return \"data\"\n",
    "    \n",
    "    @ray.method(concurrency_group=\"compute\")\n",
    "    async def process_data(self, data):\n",
    "        await asyncio.sleep(2)\n",
    "        return f\"processed: {data}\"\n",
    "    \n",
    "    async def health_check(self):\n",
    "        return \"healthy\"\n",
    "\n",
    "worker = AsyncWorker.remote()\n",
    "\n",
    "# \"fetch_data\" limited to 2 concurrent calls\n",
    "# \"process_data\" limited to 4 concurrent calls  \n",
    "# \"health_check\" uses default group (up to 1000 concurrent calls)"
   ]
  },
  {
   "cell_type": "markdown",
   "id": "5e911805",
   "metadata": {},
   "source": [
    "You can also override the concurrency group at runtime:"
   ]
  },
  {
   "cell_type": "code",
   "execution_count": null,
   "id": "e7ab84c1",
   "metadata": {
    "lines_to_next_cell": 2
   },
   "outputs": [],
   "source": [
    "# Use defined group\n",
    "worker.fetch_data.remote()\n",
    "\n",
    "# Override to use different group\n",
    "worker.fetch_data.options(concurrency_group=\"compute\").remote()"
   ]
  },
  {
   "cell_type": "markdown",
   "id": "7b326485",
   "metadata": {},
   "source": [
    "## ActorPool (simple worker pool over actors)\n",
    "\n",
    "`ray.util.ActorPool` provides a lightweight way to manage a pool of homogeneous actors and submit many small jobs with automatic load balancing."
   ]
  },
  {
   "cell_type": "markdown",
   "id": "891296a9",
   "metadata": {},
   "source": [
    "**Creating an actor pool:**\n",
    "\n",
    "Here we create a pool of 4 actors, each with a `process` method that squares its input."
   ]
  },
  {
   "cell_type": "code",
   "execution_count": null,
   "id": "519b5fdf",
   "metadata": {},
   "outputs": [],
   "source": [
    "@ray.remote\n",
    "class Worker:\n",
    "    def process(self, x):\n",
    "        return x * x\n",
    "\n",
    "workers = [Worker.remote() for _ in range(4)]\n",
    "pool = ActorPool(workers)"
   ]
  },
  {
   "cell_type": "markdown",
   "id": "f4a5454e",
   "metadata": {},
   "source": [
    "**Mapping over inputs:**\n",
    "\n",
    "The `map` method automatically distributes work across available actors and collects results as they complete (unordered)."
   ]
  },
  {
   "cell_type": "code",
   "execution_count": null,
   "id": "8b5f5df5",
   "metadata": {},
   "outputs": [],
   "source": [
    "inputs = range(10)\n",
    "results = list(pool.map(lambda a, x: a.process.remote(x), inputs))"
   ]
  },
  {
   "cell_type": "markdown",
   "id": "ff525e3e",
   "metadata": {},
   "source": [
    "**Incremental submission and retrieval:**\n",
    "\n",
    "For more control, submit tasks one at a time and retrieve results as actors finish."
   ]
  },
  {
   "cell_type": "code",
   "execution_count": null,
   "id": "bf561f9a",
   "metadata": {},
   "outputs": [],
   "source": [
    "for x in range(10):\n",
    "    pool.submit(lambda a, v: a.process.remote(v), x)\n",
    "\n",
    "ready = [pool.get_next() for _ in range(10)]"
   ]
  },
  {
   "cell_type": "markdown",
   "id": "849d083d",
   "metadata": {},
   "source": [
    "When to use:\n",
    "- Many short, similar actor method calls; you want automatic fair scheduling across a fixed set of actors.\n",
    "- Simple replacement for manual round-robin over actor handles.\n",
    "\n",
    "Prefer alternatives when:\n",
    "- You need heterogeneous actors or topology (use multiple actor pools).\n",
    "- You need backpressure/windowed submission (combine with `ray.wait` and/or use actors with queues)."
   ]
  }
 ],
 "metadata": {
  "jupytext": {
   "cell_metadata_filter": "-all",
   "main_language": "python",
   "split_at_heading": true
  },
  "kernelspec": {
   "display_name": "base",
   "language": "python",
   "name": "python3"
  },
  "language_info": {
   "codemirror_mode": {
    "name": "ipython",
    "version": 3
   },
   "file_extension": ".py",
   "mimetype": "text/x-python",
   "name": "python",
   "nbconvert_exporter": "python",
   "pygments_lexer": "ipython3",
   "version": "3.12.11"
  }
 },
 "nbformat": 4,
 "nbformat_minor": 5
}
