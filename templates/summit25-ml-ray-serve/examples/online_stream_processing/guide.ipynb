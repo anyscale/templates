{
 "cells": [
  {
   "cell_type": "markdown",
   "metadata": {},
   "source": [
    "# Ray Serve with streaming data sources\n",
    "\n",
    "In some cases, you may want to deploy a Ray Serve application that consumes data from a streaming data source.\n",
    "\n",
    "This might be because you want to:\n",
    "- Enforce request persistence even if transient failures occur\n",
    "-\n",
    "\n",
    "1. Disable proxy (set `proxy_location: Disabled`) to avoid additional latency if application will only consume data from a streaming data source\n",
    "2. Run control loop in the background (use `asyncio.create_task` to avoid blocking the main thread)\n",
    "3. Add proper instrumentation and alerting (use `ray.util.metrics` to track latency and throughput)\n",
    "4. Enforce backpressure to the data source (use `max_queued_requests` to limit the number of requests that can be queued)\n",
    "5. If helpful, batch or stream to multiple replicas \n"
   ]
  }
 ],
 "metadata": {
  "language_info": {
   "name": "python"
  }
 },
 "nbformat": 4,
 "nbformat_minor": 2
}
