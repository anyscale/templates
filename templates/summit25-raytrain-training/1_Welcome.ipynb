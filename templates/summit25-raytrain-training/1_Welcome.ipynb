{
 "cells": [
  {
   "cell_type": "markdown",
   "id": "e25b6b33-b451-4927-a3c7-bec62d4d9da3",
   "metadata": {},
   "source": [
    "# High-Performance and Robust Model Training With PyTorch and Ray Train: Optimizing for Cost and Performance\n",
    "\n",
    "- Migrate model / data to Ray Train\n",
    "- Metrics and checkpointing\n",
    "- Fault Tolerance\n",
    "- Integrate Ray Data and Ray Train\n",
    "- Train Stable Diffusion\n",
    "\n",
    "Bonus notebook: Observability (dashboards, profiling)"
   ]
  },
  {
   "cell_type": "markdown",
   "id": "79b5f49a-dc4b-407c-b277-416326ed4a41",
   "metadata": {},
   "source": [
    "## About the instructor\n",
    "\n",
    "##### Adam Breindel, Lead Technical Instructor, Anyscale\n",
    "\n",
    "__Contact:__ `adamb@anyscale.com` - https://www.linkedin.com/in/adbreind\n",
    "\n",
    "<img src=\"https://materials.s3.amazonaws.com/i/lpMDU9j.jpg\" width=200 style=\"margin-right:2em;margin-top:1em\"/>\n",
    "\n",
    "* 25+ years building systems for startups and large enterprises including AI/ML, mobile, web, data eng\n",
    "* 15+ years teaching front- and back-end technology\n",
    "\n",
    "__Interesting projects...__\n",
    "* My first full-time job in tech involved streaming neural net fraud scoring (debit cards)\n",
    "* Realtime & offline analytics for banking\n",
    "* Music synchronization and licensing for networked jukeboxes\n",
    "\n",
    "__Industries/verticals__\n",
    "* Finance / Insurance, Travel, Media / Entertainment, Government, Energy, Tech"
   ]
  },
  {
   "cell_type": "markdown",
   "id": "d2c70bbd-dd8c-427a-ab22-4ca71e61e743",
   "metadata": {},
   "source": [
    "## Useful links\n",
    "\n",
    "Ray - https://www.ray.io/\n",
    "\n",
    "* Ray docs - https://docs.ray.io/en/latest/\n",
    "\n",
    "Anyscale - https://www.anyscale.com/\n",
    "\n",
    "* Anyscale platform docs - https://docs.anyscale.com/\n",
    "* Anyscale console (login) - https://console.anyscale.com/"
   ]
  }
 ],
 "metadata": {
  "kernelspec": {
   "display_name": "Python 3 (ipykernel)",
   "language": "python",
   "name": "python3"
  },
  "language_info": {
   "codemirror_mode": {
    "name": "ipython",
    "version": 3
   },
   "file_extension": ".py",
   "mimetype": "text/x-python",
   "name": "python",
   "nbconvert_exporter": "python",
   "pygments_lexer": "ipython3",
   "version": "3.12.11"
  }
 },
 "nbformat": 4,
 "nbformat_minor": 5
}
