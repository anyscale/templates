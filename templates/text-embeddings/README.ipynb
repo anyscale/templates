{
 "cells": [
  {
   "cell_type": "markdown",
   "metadata": {},
   "source": [
    "# Computing Text Embeddings with Ray Data\n",
    "\n",
    "**⏱️ Time to complete**: 10 min\n",
    "\n",
    "This template shows you how to:\n",
    "1. Read in data from files on cloud storage using Ray Data.\n",
    "2. Chunk the raw input text using Ray Data and LangChain.\n",
    "3. Compute embeddings using a pre-trained HuggingFace model, and write the results to cloud storage.\n",
    "\n",
    "![Overview of Text Embeddings Pipeline](assets/diagram.jpg)\n",
    "\n",
    "For a Python script version of the `.ipynb` notebook used for the workspace template, refer to `main.py`.\n",
    "\n",
    "**Note:** This tutorial runs within a workspace. See [Introduction to Workspaces](https://docs.anyscale.com/examples/intro-workspaces) for more details."
   ]
  },
  {
   "cell_type": "markdown",
   "metadata": {},
   "source": []
  },
  {
   "cell_type": "markdown",
   "metadata": {},
   "source": [
    "## Step 1: Setup model defaults\n",
    "\n",
    "First, install additional required dependencies using `pip`."
   ]
  },
  {
   "cell_type": "code",
   "execution_count": null,
   "metadata": {},
   "outputs": [],
   "source": [
    "!pip install -q langchain==0.1.17 optimum==1.19.2 && echo 'Install complete!'"
   ]
  },
  {
   "cell_type": "code",
   "execution_count": null,
   "metadata": {},
   "outputs": [],
   "source": [
    "# Import utilities used during embeddings computation later (Step 4). This cell copies\n",
    "# the implementation into a local file located at `util/embedding_util.py`, which\n",
    "# you can choose to customize for your own use case.\n",
    "import inspect\n",
    "import os\n",
    "import shutil\n",
    "import ray.anyscale.data.embedding_util\n",
    "\n",
    "module_file_path = inspect.getfile(ray.anyscale.data.embedding_util)\n",
    "copy_dest_path = 'util/embedding_util.py'\n",
    "if not os.path.isfile(copy_dest_path):\n",
    "    # Only copy the file if it doesn't exist, so we don't overwrite any existing changes.\n",
    "    out_path = shutil.copy(module_file_path, copy_dest_path)\n",
    "    print(f\"File copied to {out_path}\")"
   ]
  },
  {
   "cell_type": "markdown",
   "metadata": {},
   "source": [
    "Let's import the dependencies we will use in this template."
   ]
  },
  {
   "cell_type": "code",
   "execution_count": null,
   "metadata": {},
   "outputs": [],
   "source": [
    "import ray\n",
    "import uuid\n",
    "from langchain.text_splitter import RecursiveCharacterTextSplitter\n",
    "\n",
    "from util.utils import generate_output_path"
   ]
  },
  {
   "cell_type": "markdown",
   "metadata": {},
   "source": [
    "Set up default values that will be used in the embeddings computation workflow:\n",
    "* The Hugging Face embedding model to use for computing embeddings. You can choose from one of the models on the [Massive Text Embedding Benchmark (MTEB) leaderboard](https://huggingface.co/spaces/mteb/leaderboard). This workspace template has been tested with the following models:\n",
    "  * [`thenlper/gte-large`](https://huggingface.co/thenlper/gte-large) (the default model)\n",
    "  * [`mixedbread-ai/mxbai-embed-large-v1`](https://huggingface.co/mixedbread-ai/mxbai-embed-large-v1)\n",
    "  * [`WhereIsAI/UAE-Large-V1`](https://huggingface.co/WhereIsAI/UAE-Large-V1)\n",
    "  * [`intfloat/multilingual-e5-large-instruct`](https://huggingface.co/intfloat/multilingual-e5-large-instruct)\n",
    "  * [`BAAI/bge-large-en-v1.5`](https://huggingface.co/BAAI/bge-large-en-v1.5)\n",
    "* The number of embedding model instances to run concurrently (when using GPUs, this is the total number of GPUs to use).\n",
    "* The output path where results will be written as parquet files."
   ]
  },
  {
   "cell_type": "code",
   "execution_count": null,
   "metadata": {},
   "outputs": [],
   "source": [
    "HF_MODEL_NAME = \"thenlper/gte-large\"\n",
    "# Optional: The models listed above do not require a Hugging Face token, \n",
    "# so there is no need to set this variable in that case.\n",
    "# If your model requires a token for access, replace the following with your user token.\n",
    "OPTIONAL_HF_TOKEN_FOR_MODEL = \"<OPTIONAL_HUGGING_FACE_USER_TOKEN>\"\n",
    "NUM_MODEL_INSTANCES = 4\n",
    "OUTPUT_PATH = generate_output_path(os.environ.get(\"ANYSCALE_ARTIFACT_STORAGE\"), HF_MODEL_NAME)"
   ]
  },
  {
   "cell_type": "markdown",
   "metadata": {},
   "source": [
    "Start up Ray, using the Hugging Face token as an environment variable so that it's made available to all nodes in the cluster."
   ]
  },
  {
   "cell_type": "code",
   "execution_count": null,
   "metadata": {},
   "outputs": [],
   "source": [
    "if ray.is_initialized():\n",
    "    ray.shutdown()\n",
    "ray.init(\n",
    "    runtime_env={\n",
    "        \"env_vars\": {\n",
    "            # Set the user token on all nodes.\n",
    "            \"HF_TOKEN\": OPTIONAL_HF_TOKEN_FOR_MODEL,\n",
    "\n",
    "            # Suppress noisy logging from external libraries\n",
    "            \"TOKENIZERS_PARALLELISM\": \"false\",\n",
    "            \"COMET_API_KEY\": \"\",\n",
    "        },\n",
    "    }\n",
    ")"
   ]
  },
  {
   "cell_type": "markdown",
   "metadata": {},
   "source": [
    "## Step 2: Read data files"
   ]
  },
  {
   "cell_type": "markdown",
   "metadata": {},
   "source": [
    "Use Ray Data to read in your input data from some sample text."
   ]
  },
  {
   "cell_type": "code",
   "execution_count": null,
   "metadata": {},
   "outputs": [],
   "source": [
    "sample_text = [\n",
    "    \"This discussion is a very interesting experimental model for the elucidation of plaque rupture in acute coronary syndromes. The knowledge exists that there is a series of steps in develoiping atheromatous plaque. We also know that platelets and endothelium are the location of this pathological development. We don’t know exactly the role or mechanism of the contribution of hyperlipidemia, and what triggers plaque rupture. This work reported is an experimental rabbit model that sheds light on the triggering of plaque rupture.\",\n",
    "    \"the long (8-month) preparatory period. In addition, there is a need to replicate the findings of Constantinides and Chakravarti(13) from 30 years ago because of the biological variability of rabbit strains and RVV.', 'Methods', 'Of the 12 rabbits that died during the preparatory period, 5 were in group II, 2 in group III, and 5 in group IV. Seven of the 12 rabbits that died prematurely underwent an autopsy, and none had evidence of plaque disruption or arterial thrombosis. The causes of death included respiratory infection and liver failure from lipid infiltration.\",\n",
    "    \"The triggering agents RVV (Sigma Chemical Co) and histamine (Eli Lilly) were administered according to the method of Constantinides and Chakravarti.(13) RVV (0.15 mg/kg) was given by intraperitoneal injection 48 and 24 hours before the rabbits were killed. Thirty minutes after each RVV injection, histamine (0.02 mg/kg) was administered intravenously through an ear vein. Rabbits were killed by an overdose of intravenous pentobarbital and potassium chloride. The aorta and iliofemoral arteries were dissected and excised, and the intimal surface was exposed by an anterior longitudinal incision of the vessel.\",\n",
    "    \"The total surface area of the aorta, from the aortic arch to the distal common iliac branches, was measured. The surface area covered with atherosclerotic plaque and the surface area covered with antemortem thrombus were then determined. Images of the arterial surface were collected with a color charge-coupled device camera (TM 54, Pulnix) and digitized by an IBM PC/AT computer with a color image processing subsystem. The digitized images were calibrated by use of a graticule, and surface areas were measured by use of a customized quantitative image analysis package.\",\n",
    "    \"Tissue samples (1 cm in length) were taken from the thoracic aorta, 3 and 6 cm distal to the aortic valve; from the abdominal aorta, 7 and 4 cm proximal to the iliac bifurcation; and from the iliofemoral arteries. and prepared for and examined by light microscopy and they were examined by quantitative colorimetric assay. Electron microscopy was also carried out with a Hitachi 600 microscope.\",\n",
    "]\n",
    "ds = ray.data.from_items(sample_text)\n",
    "\n",
    "# View one row of the Dataset.\n",
    "ds.take(1)"
   ]
  },
  {
   "cell_type": "markdown",
   "metadata": {},
   "source": [
    "## Step 3: Preprocess (Chunk) Input Text\n",
    "\n",
    "Use Ray Data and LangChain to chunk the raw input text. We use LangChain's `RecursiveCharacterTextSplitter` to handle the chunking within `chunk_row()`. The chunking method and parameters can be modified below to fit your exact use case."
   ]
  },
  {
   "cell_type": "code",
   "execution_count": null,
   "metadata": {},
   "outputs": [],
   "source": [
    "CHUNK_SIZE = 512\n",
    "words_to_tokens = 1.2\n",
    "num_tokens = int(CHUNK_SIZE // words_to_tokens)\n",
    "num_words = lambda x: len(x.split())\n",
    "\n",
    "splitter = RecursiveCharacterTextSplitter(\n",
    "    chunk_size=num_tokens,\n",
    "    keep_separator=True,\n",
    "    length_function=num_words,\n",
    "    chunk_overlap=0,\n",
    ")\n",
    "\n",
    "def chunk_row(row, text_column_name):\n",
    "    \"\"\"Main chunking logic.\"\"\"\n",
    "    if not isinstance(row[text_column_name], str):\n",
    "        print(\n",
    "            \"Found row with missing input text, \"\n",
    "            f\"skipping embeddings computation for this row: {row}\"\n",
    "        )\n",
    "        return []\n",
    "\n",
    "    length = num_words(row[text_column_name]) * 1.2\n",
    "    if length < 20 or length > 4000:\n",
    "        return []\n",
    "    chunks = splitter.split_text(row[text_column_name])\n",
    "\n",
    "    new_rows = [\n",
    "        {\n",
    "            \"id\": str(uuid.uuid4()),\n",
    "            **row,\n",
    "            text_column_name: chunk,\n",
    "        } for chunk in chunks\n",
    "        # Only keep rows with valid input text\n",
    "        if isinstance(chunk, str)\n",
    "    ]\n",
    "    return new_rows\n"
   ]
  },
  {
   "cell_type": "markdown",
   "metadata": {},
   "source": [
    "We use Ray Data's `flat_map()` method to apply the chunking function we defined above to each row of the input dataset. We use `flat_map()` as opposed to `map()` because the `chunk_row()` function may return more than one output row for each input row.\n",
    "\n",
    "*Note*: Because Ray Datasets are executed in a lazy and streaming fashion, running the cell below will not trigger execution because the dataset is not being consumed yet. See the [Ray Data docs](https://docs.ray.io/en/latest/data/data-internals.html#streaming-execution]) for more details."
   ]
  },
  {
   "cell_type": "code",
   "execution_count": null,
   "metadata": {},
   "outputs": [],
   "source": [
    "chunked_ds = ds.flat_map(\n",
    "    chunk_row,\n",
    "    # Pass keyword arguments to the chunk_row function.\n",
    "    fn_kwargs={\"text_column_name\": \"item\"},\n",
    ")"
   ]
  },
  {
   "cell_type": "markdown",
   "metadata": {},
   "source": [
    "## Step 4: Compute Embeddings\n",
    "\n",
    "We define the `ComputeEmbeddings` class to compute embeddings using a pre-trained Hugging Face model. The full implementation\n",
    "is in `util/embedding_util.py`, which you can choose to customize for your use case.\n",
    "\n",
    "Next, apply batch inference for all input data with the Ray Data [`map_batches`](https://docs.ray.io/en/latest/data/api/doc/ray.data.Dataset.map_batches.html) method. Here, you can easily configure Ray Data to scale the number of model instances."
   ]
  },
  {
   "cell_type": "code",
   "execution_count": null,
   "metadata": {},
   "outputs": [],
   "source": [
    "from util.embedding_util import ComputeEmbeddings\n",
    "\n",
    "embedded_ds = chunked_ds.map_batches(\n",
    "    ComputeEmbeddings,\n",
    "    # Total number of embedding model instances to use.\n",
    "    concurrency=NUM_MODEL_INSTANCES,\n",
    "    # Size of batches passed to embeddings actor. Set the batch size to as large possible\n",
    "    # without running out of memory. If you encounter out-of-memory errors, decreasing\n",
    "    # batch_size may help. \n",
    "    batch_size=1, \n",
    "    fn_constructor_kwargs={\n",
    "        \"text_column_name\": \"item\",\n",
    "        \"model_name\": HF_MODEL_NAME,\n",
    "        \"device\": \"cpu\",\n",
    "        \"chunk_size\": CHUNK_SIZE,\n",
    "    },\n",
    ")"
   ]
  },
  {
   "cell_type": "markdown",
   "metadata": {},
   "source": [
    "Run the following cell to trigger execution of the Dataset and view the computed embeddings:"
   ]
  },
  {
   "cell_type": "code",
   "execution_count": null,
   "metadata": {},
   "outputs": [],
   "source": [
    "embedded_ds.take_all()"
   ]
  },
  {
   "cell_type": "markdown",
   "metadata": {},
   "source": [
    "### Scaling to a larger dataset\n",
    "In the example above, we computed embeddings for a Ray Dataset with 5 sample rows. Next, let's explore how to scale to a larger dataset from files stored in cloud storage.\n",
    "\n",
    "Run the following cell to create a Dataset from a text file stored on S3. This Dataset has 100 rows, with each row containing a single string in the `text` column."
   ]
  },
  {
   "cell_type": "code",
   "execution_count": null,
   "metadata": {},
   "outputs": [],
   "source": [
    "ds = ray.data.read_text(\"s3://anonymous@air-example-data/wikipedia-text-embeddings-100.txt\")\n",
    "ds.take(1)"
   ]
  },
  {
   "cell_type": "markdown",
   "metadata": {},
   "source": [
    "Apply the same chunking process on the new Dataset."
   ]
  },
  {
   "cell_type": "code",
   "execution_count": null,
   "metadata": {},
   "outputs": [],
   "source": [
    "chunked_ds = ds.flat_map(\n",
    "    chunk_row,\n",
    "    # Pass keyword arguments to the chunk_row function.\n",
    "    fn_kwargs={\"text_column_name\": \"text\"},\n",
    ")"
   ]
  },
  {
   "cell_type": "markdown",
   "metadata": {},
   "source": [
    "### Scaling with GPUs\n",
    "\n",
    "To use GPUs for inference in the Workspace, we can specify `num_gpus` and `concurrency` in the `ds.map_batches()` call below to indicate the number of embedding models and the number of GPUs per model instance, respectively. For example, with `concurrency=4` and `num_gpus=1`, we have 4 embedding model instances, each using 1 GPU, so we need 4 GPUs total.\n",
    "\n",
    "You can also specify which accelerator type (for example, if your model requires a specific GPU) to use with the `accelerator_type` parameter. For a full list of supported accelerator types, see [the documentation](https://docs.ray.io/en/latest/ray-core/accelerator-types.html).\n",
    "\n",
    "If you do not need to select a particular instance type, you can omit this parameter and select \"Auto-select worker nodes\" under the compute configuration to have Ray select the best worker nodes from the available types:\n",
    "\n",
    "<img src=\"assets/ray-data-gpu.png\" width=\"400\"/>"
   ]
  },
  {
   "cell_type": "code",
   "execution_count": null,
   "metadata": {},
   "outputs": [],
   "source": [
    "embedded_ds = chunked_ds.map_batches(\n",
    "    ComputeEmbeddings,\n",
    "    # Total number of GPUs to use.\n",
    "    concurrency=NUM_MODEL_INSTANCES,\n",
    "    # Size of batches passed to embeddings actor. Set the batch size to as large possible\n",
    "    # without running out of memory. If you encounter CUDA out-of-memory errors, decreasing\n",
    "    # batch_size may help.\n",
    "    batch_size=25, \n",
    "    fn_constructor_kwargs={\n",
    "        \"text_column_name\": \"text\",\n",
    "        \"model_name\": HF_MODEL_NAME,\n",
    "        \"device\": \"cuda\",\n",
    "        \"chunk_size\": CHUNK_SIZE,\n",
    "    },\n",
    "    # 1 GPU for each actor.\n",
    "    num_gpus=1,\n",
    "    # Reduce GPU idle time.\n",
    "    max_concurrency=2,\n",
    "    # Uncomment the following line and specify a specific desired accelerator type.\n",
    "    # If not specified, Ray will choose the best worker nodes from the available types.\n",
    "    # accelerator_type=\"T4\", # or \"L4\", \"A10G\", \"A100\", etc.\n",
    ")"
   ]
  },
  {
   "cell_type": "markdown",
   "metadata": {},
   "source": [
    "### Handling GPU out-of-memory failures\n",
    "If you run into a `CUDA out of memory` error, your batch size is likely too large. Decrease the batch size as described above.\n",
    "\n",
    "If your batch size is already set to 1, then use either a smaller model or GPU devices with more memory."
   ]
  },
  {
   "cell_type": "markdown",
   "metadata": {},
   "source": [
    "### Write results to cloud storage\n",
    "\n",
    "Finally, write the computed embeddings out to Parquet files on S3. Running the following cell will trigger execution of the Dataset, kicking off chunking and embeddings computation for all input text."
   ]
  },
  {
   "cell_type": "code",
   "execution_count": null,
   "metadata": {},
   "outputs": [],
   "source": [
    "embedded_ds.write_parquet(OUTPUT_PATH, try_create_dir=False)"
   ]
  },
  {
   "cell_type": "markdown",
   "metadata": {},
   "source": [
    "We can also use Ray Data to read back the output files to ensure the results are as expected."
   ]
  },
  {
   "cell_type": "code",
   "execution_count": null,
   "metadata": {},
   "outputs": [],
   "source": [
    "ds_output = ray.data.read_parquet(OUTPUT_PATH)\n",
    "ds_output.take(5)"
   ]
  },
  {
   "cell_type": "markdown",
   "metadata": {},
   "source": [
    "### Submitting to Anyscale Jobs\n",
    "\n",
    "The script in `main.py` has the same code as this notebook; you can use `anyscale job submit` to submit the app in that file to Anyscale Jobs. Refer to [Introduction to Jobs](https://docs.anyscale.com/examples/intro-jobs/) for more details.\n",
    "\n",
    "\n",
    "Run the following cell to submit a job:"
   ]
  },
  {
   "cell_type": "code",
   "execution_count": null,
   "metadata": {},
   "outputs": [],
   "source": [
    "!anyscale job submit -- python main.py"
   ]
  },
  {
   "cell_type": "markdown",
   "metadata": {},
   "source": [
    "## Summary\n",
    "\n",
    "This notebook:\n",
    "- Read in data from files on cloud storage using Ray Data.\n",
    "- Chunked the raw input text using Ray Data and LangChain.\n",
    "- Computed embeddings using a pre-trained HuggingFace model, and wrote the results to cloud storage."
   ]
  },
  {
   "cell_type": "markdown",
   "metadata": {},
   "source": []
  }
 ],
 "metadata": {
  "language_info": {
   "name": "python"
  }
 },
 "nbformat": 4,
 "nbformat_minor": 2
}
